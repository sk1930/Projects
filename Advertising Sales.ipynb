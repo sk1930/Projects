{
 "cells": [
  {
   "cell_type": "markdown",
   "metadata": {},
   "source": [
    "When a company enters a market, the distribution strategy and channel it uses are keys to its success in the market, as well as market know-how and customer knowledge and understanding. Because an effective distribution strategy under efficient supply-chain management opens doors for attaining competitive advantage and strong brand equity in the market, it is a component of the marketing mix that cannot be ignored . \n",
    "\n",
    "The distribution strategy and the channel design have to be right the first time. The case study of Sales channel includes the detailed study of TV, radio and newspaper channel. The predict the total sales generated from all the sales channel.  "
   ]
  },
  {
   "cell_type": "code",
   "execution_count": 1,
   "metadata": {},
   "outputs": [],
   "source": [
    "import numpy as np\n",
    "import pandas as pd\n",
    "\n",
    "import matplotlib.pyplot as plt\n",
    "import seaborn as sns\n",
    "\n",
    "\n",
    "from sklearn.decomposition import PCA\n",
    "from sklearn.model_selection import train_test_split\n",
    "from sklearn.linear_model import LinearRegression\n",
    "from sklearn.svm import SVR\n",
    "from sklearn.linear_model import SGDRegressor\n",
    "from sklearn.neighbors import KNeighborsRegressor\n",
    "from sklearn.linear_model import ElasticNetCV\n",
    "\n",
    "\n",
    "from sklearn.metrics import accuracy_score,classification_report\n",
    "from sklearn.metrics import mean_squared_error\n",
    "\n",
    "from sklearn.metrics import r2_score\n",
    "\n",
    "\n",
    "from sklearn.model_selection import cross_val_score\n",
    "from sklearn.model_selection import GridSearchCV\n",
    "\n",
    "from sklearn.compose import ColumnTransformer\n",
    "\n",
    "from sklearn.preprocessing import StandardScaler\n",
    "\n",
    "import warnings\n",
    "warnings.filterwarnings(\"ignore\")\n",
    "\n",
    "from scipy.stats import zscore\n",
    "from scipy import stats"
   ]
  },
  {
   "cell_type": "code",
   "execution_count": null,
   "metadata": {},
   "outputs": [],
   "source": []
  },
  {
   "cell_type": "code",
   "execution_count": 6,
   "metadata": {},
   "outputs": [],
   "source": [
    "df = pd.read_csv(\"https://raw.githubusercontent.com/dsrscientist/DSData/master/Advertising.csv\",index_col=\"Unnamed: 0\")"
   ]
  },
  {
   "cell_type": "code",
   "execution_count": 7,
   "metadata": {},
   "outputs": [
    {
     "data": {
      "text/html": [
       "<div>\n",
       "<style scoped>\n",
       "    .dataframe tbody tr th:only-of-type {\n",
       "        vertical-align: middle;\n",
       "    }\n",
       "\n",
       "    .dataframe tbody tr th {\n",
       "        vertical-align: top;\n",
       "    }\n",
       "\n",
       "    .dataframe thead th {\n",
       "        text-align: right;\n",
       "    }\n",
       "</style>\n",
       "<table border=\"1\" class=\"dataframe\">\n",
       "  <thead>\n",
       "    <tr style=\"text-align: right;\">\n",
       "      <th></th>\n",
       "      <th>TV</th>\n",
       "      <th>radio</th>\n",
       "      <th>newspaper</th>\n",
       "      <th>sales</th>\n",
       "    </tr>\n",
       "  </thead>\n",
       "  <tbody>\n",
       "    <tr>\n",
       "      <th>1</th>\n",
       "      <td>230.1</td>\n",
       "      <td>37.8</td>\n",
       "      <td>69.2</td>\n",
       "      <td>22.1</td>\n",
       "    </tr>\n",
       "    <tr>\n",
       "      <th>2</th>\n",
       "      <td>44.5</td>\n",
       "      <td>39.3</td>\n",
       "      <td>45.1</td>\n",
       "      <td>10.4</td>\n",
       "    </tr>\n",
       "    <tr>\n",
       "      <th>3</th>\n",
       "      <td>17.2</td>\n",
       "      <td>45.9</td>\n",
       "      <td>69.3</td>\n",
       "      <td>9.3</td>\n",
       "    </tr>\n",
       "    <tr>\n",
       "      <th>4</th>\n",
       "      <td>151.5</td>\n",
       "      <td>41.3</td>\n",
       "      <td>58.5</td>\n",
       "      <td>18.5</td>\n",
       "    </tr>\n",
       "    <tr>\n",
       "      <th>5</th>\n",
       "      <td>180.8</td>\n",
       "      <td>10.8</td>\n",
       "      <td>58.4</td>\n",
       "      <td>12.9</td>\n",
       "    </tr>\n",
       "    <tr>\n",
       "      <th>...</th>\n",
       "      <td>...</td>\n",
       "      <td>...</td>\n",
       "      <td>...</td>\n",
       "      <td>...</td>\n",
       "    </tr>\n",
       "    <tr>\n",
       "      <th>196</th>\n",
       "      <td>38.2</td>\n",
       "      <td>3.7</td>\n",
       "      <td>13.8</td>\n",
       "      <td>7.6</td>\n",
       "    </tr>\n",
       "    <tr>\n",
       "      <th>197</th>\n",
       "      <td>94.2</td>\n",
       "      <td>4.9</td>\n",
       "      <td>8.1</td>\n",
       "      <td>9.7</td>\n",
       "    </tr>\n",
       "    <tr>\n",
       "      <th>198</th>\n",
       "      <td>177.0</td>\n",
       "      <td>9.3</td>\n",
       "      <td>6.4</td>\n",
       "      <td>12.8</td>\n",
       "    </tr>\n",
       "    <tr>\n",
       "      <th>199</th>\n",
       "      <td>283.6</td>\n",
       "      <td>42.0</td>\n",
       "      <td>66.2</td>\n",
       "      <td>25.5</td>\n",
       "    </tr>\n",
       "    <tr>\n",
       "      <th>200</th>\n",
       "      <td>232.1</td>\n",
       "      <td>8.6</td>\n",
       "      <td>8.7</td>\n",
       "      <td>13.4</td>\n",
       "    </tr>\n",
       "  </tbody>\n",
       "</table>\n",
       "<p>200 rows × 4 columns</p>\n",
       "</div>"
      ],
      "text/plain": [
       "        TV  radio  newspaper  sales\n",
       "1    230.1   37.8       69.2   22.1\n",
       "2     44.5   39.3       45.1   10.4\n",
       "3     17.2   45.9       69.3    9.3\n",
       "4    151.5   41.3       58.5   18.5\n",
       "5    180.8   10.8       58.4   12.9\n",
       "..     ...    ...        ...    ...\n",
       "196   38.2    3.7       13.8    7.6\n",
       "197   94.2    4.9        8.1    9.7\n",
       "198  177.0    9.3        6.4   12.8\n",
       "199  283.6   42.0       66.2   25.5\n",
       "200  232.1    8.6        8.7   13.4\n",
       "\n",
       "[200 rows x 4 columns]"
      ]
     },
     "execution_count": 7,
     "metadata": {},
     "output_type": "execute_result"
    }
   ],
   "source": [
    "df"
   ]
  },
  {
   "cell_type": "code",
   "execution_count": 8,
   "metadata": {},
   "outputs": [
    {
     "data": {
      "text/plain": [
       "Index(['TV', 'radio', 'newspaper', 'sales'], dtype='object')"
      ]
     },
     "execution_count": 8,
     "metadata": {},
     "output_type": "execute_result"
    }
   ],
   "source": [
    "df.columns"
   ]
  },
  {
   "cell_type": "markdown",
   "metadata": {},
   "source": [
    "Sales is the target column , it is numerical column and it is a regression problem\n",
    "other features TV, RADIO,newspaper are independent columns."
   ]
  },
  {
   "cell_type": "code",
   "execution_count": 10,
   "metadata": {},
   "outputs": [
    {
     "name": "stdout",
     "output_type": "stream",
     "text": [
      "<class 'pandas.core.frame.DataFrame'>\n",
      "Int64Index: 200 entries, 1 to 200\n",
      "Data columns (total 4 columns):\n",
      " #   Column     Non-Null Count  Dtype  \n",
      "---  ------     --------------  -----  \n",
      " 0   TV         200 non-null    float64\n",
      " 1   radio      200 non-null    float64\n",
      " 2   newspaper  200 non-null    float64\n",
      " 3   sales      200 non-null    float64\n",
      "dtypes: float64(4)\n",
      "memory usage: 7.8 KB\n"
     ]
    }
   ],
   "source": [
    "df.info()"
   ]
  },
  {
   "cell_type": "markdown",
   "metadata": {},
   "source": [
    "No missing data in any feature"
   ]
  },
  {
   "cell_type": "code",
   "execution_count": 11,
   "metadata": {},
   "outputs": [
    {
     "data": {
      "text/html": [
       "<div>\n",
       "<style scoped>\n",
       "    .dataframe tbody tr th:only-of-type {\n",
       "        vertical-align: middle;\n",
       "    }\n",
       "\n",
       "    .dataframe tbody tr th {\n",
       "        vertical-align: top;\n",
       "    }\n",
       "\n",
       "    .dataframe thead th {\n",
       "        text-align: right;\n",
       "    }\n",
       "</style>\n",
       "<table border=\"1\" class=\"dataframe\">\n",
       "  <thead>\n",
       "    <tr style=\"text-align: right;\">\n",
       "      <th></th>\n",
       "      <th>TV</th>\n",
       "      <th>radio</th>\n",
       "      <th>newspaper</th>\n",
       "      <th>sales</th>\n",
       "    </tr>\n",
       "  </thead>\n",
       "  <tbody>\n",
       "    <tr>\n",
       "      <th>count</th>\n",
       "      <td>200.000000</td>\n",
       "      <td>200.000000</td>\n",
       "      <td>200.000000</td>\n",
       "      <td>200.000000</td>\n",
       "    </tr>\n",
       "    <tr>\n",
       "      <th>mean</th>\n",
       "      <td>147.042500</td>\n",
       "      <td>23.264000</td>\n",
       "      <td>30.554000</td>\n",
       "      <td>14.022500</td>\n",
       "    </tr>\n",
       "    <tr>\n",
       "      <th>std</th>\n",
       "      <td>85.854236</td>\n",
       "      <td>14.846809</td>\n",
       "      <td>21.778621</td>\n",
       "      <td>5.217457</td>\n",
       "    </tr>\n",
       "    <tr>\n",
       "      <th>min</th>\n",
       "      <td>0.700000</td>\n",
       "      <td>0.000000</td>\n",
       "      <td>0.300000</td>\n",
       "      <td>1.600000</td>\n",
       "    </tr>\n",
       "    <tr>\n",
       "      <th>25%</th>\n",
       "      <td>74.375000</td>\n",
       "      <td>9.975000</td>\n",
       "      <td>12.750000</td>\n",
       "      <td>10.375000</td>\n",
       "    </tr>\n",
       "    <tr>\n",
       "      <th>50%</th>\n",
       "      <td>149.750000</td>\n",
       "      <td>22.900000</td>\n",
       "      <td>25.750000</td>\n",
       "      <td>12.900000</td>\n",
       "    </tr>\n",
       "    <tr>\n",
       "      <th>75%</th>\n",
       "      <td>218.825000</td>\n",
       "      <td>36.525000</td>\n",
       "      <td>45.100000</td>\n",
       "      <td>17.400000</td>\n",
       "    </tr>\n",
       "    <tr>\n",
       "      <th>max</th>\n",
       "      <td>296.400000</td>\n",
       "      <td>49.600000</td>\n",
       "      <td>114.000000</td>\n",
       "      <td>27.000000</td>\n",
       "    </tr>\n",
       "  </tbody>\n",
       "</table>\n",
       "</div>"
      ],
      "text/plain": [
       "               TV       radio   newspaper       sales\n",
       "count  200.000000  200.000000  200.000000  200.000000\n",
       "mean   147.042500   23.264000   30.554000   14.022500\n",
       "std     85.854236   14.846809   21.778621    5.217457\n",
       "min      0.700000    0.000000    0.300000    1.600000\n",
       "25%     74.375000    9.975000   12.750000   10.375000\n",
       "50%    149.750000   22.900000   25.750000   12.900000\n",
       "75%    218.825000   36.525000   45.100000   17.400000\n",
       "max    296.400000   49.600000  114.000000   27.000000"
      ]
     },
     "execution_count": 11,
     "metadata": {},
     "output_type": "execute_result"
    }
   ],
   "source": [
    "df.describe()"
   ]
  },
  {
   "cell_type": "markdown",
   "metadata": {},
   "source": [
    "Median of Tv is 149 , radio is 22.9 , Newspaper is 25 and sales is 12\n",
    "mean of Tv is 147.042500, radio is 23.264000, newspaper is 30.554000 and sales is 14.022500"
   ]
  },
  {
   "cell_type": "code",
   "execution_count": 12,
   "metadata": {
    "scrolled": true
   },
   "outputs": [
    {
     "data": {
      "text/html": [
       "<div>\n",
       "<style scoped>\n",
       "    .dataframe tbody tr th:only-of-type {\n",
       "        vertical-align: middle;\n",
       "    }\n",
       "\n",
       "    .dataframe tbody tr th {\n",
       "        vertical-align: top;\n",
       "    }\n",
       "\n",
       "    .dataframe thead th {\n",
       "        text-align: right;\n",
       "    }\n",
       "</style>\n",
       "<table border=\"1\" class=\"dataframe\">\n",
       "  <thead>\n",
       "    <tr style=\"text-align: right;\">\n",
       "      <th></th>\n",
       "      <th>TV</th>\n",
       "      <th>radio</th>\n",
       "      <th>newspaper</th>\n",
       "      <th>sales</th>\n",
       "    </tr>\n",
       "  </thead>\n",
       "  <tbody>\n",
       "    <tr>\n",
       "      <th>1</th>\n",
       "      <td>230.1</td>\n",
       "      <td>37.8</td>\n",
       "      <td>69.2</td>\n",
       "      <td>22.1</td>\n",
       "    </tr>\n",
       "    <tr>\n",
       "      <th>2</th>\n",
       "      <td>44.5</td>\n",
       "      <td>39.3</td>\n",
       "      <td>45.1</td>\n",
       "      <td>10.4</td>\n",
       "    </tr>\n",
       "    <tr>\n",
       "      <th>3</th>\n",
       "      <td>17.2</td>\n",
       "      <td>45.9</td>\n",
       "      <td>69.3</td>\n",
       "      <td>9.3</td>\n",
       "    </tr>\n",
       "    <tr>\n",
       "      <th>4</th>\n",
       "      <td>151.5</td>\n",
       "      <td>41.3</td>\n",
       "      <td>58.5</td>\n",
       "      <td>18.5</td>\n",
       "    </tr>\n",
       "    <tr>\n",
       "      <th>5</th>\n",
       "      <td>180.8</td>\n",
       "      <td>10.8</td>\n",
       "      <td>58.4</td>\n",
       "      <td>12.9</td>\n",
       "    </tr>\n",
       "  </tbody>\n",
       "</table>\n",
       "</div>"
      ],
      "text/plain": [
       "      TV  radio  newspaper  sales\n",
       "1  230.1   37.8       69.2   22.1\n",
       "2   44.5   39.3       45.1   10.4\n",
       "3   17.2   45.9       69.3    9.3\n",
       "4  151.5   41.3       58.5   18.5\n",
       "5  180.8   10.8       58.4   12.9"
      ]
     },
     "execution_count": 12,
     "metadata": {},
     "output_type": "execute_result"
    }
   ],
   "source": [
    "df.head()"
   ]
  },
  {
   "cell_type": "code",
   "execution_count": null,
   "metadata": {},
   "outputs": [],
   "source": []
  },
  {
   "cell_type": "markdown",
   "metadata": {},
   "source": [
    "## EDA"
   ]
  },
  {
   "cell_type": "code",
   "execution_count": 16,
   "metadata": {},
   "outputs": [
    {
     "data": {
      "image/png": "[encoded data removed]",
      "text/plain": [
       "<Figure size 1152x432 with 3 Axes>"
      ]
     },
     "metadata": {
      "needs_background": "light"
     },
     "output_type": "display_data"
    }
   ],
   "source": []
  },
  {
   "cell_type": "code",
   "execution_count": null,
   "metadata": {},
   "outputs": [],
   "source": []
  },
  {
   "cell_type": "code",
   "execution_count": null,
   "metadata": {},
   "outputs": [],
   "source": []
  },
  {
   "cell_type": "code",
   "execution_count": 17,
   "metadata": {},
   "outputs": [
    {
     "data": {
      "text/plain": [
       "array([[9.69852266e-01, 9.81522472e-01, 1.77894547e+00],\n",
       "       [1.19737623e+00, 1.08280781e+00, 6.69578760e-01],\n",
       "       [1.51615499e+00, 1.52846331e+00, 1.78354865e+00],\n",
       "       [5.20496822e-02, 1.21785493e+00, 1.28640506e+00],\n",
       "       [3.94182198e-01, 8.41613655e-01, 1.28180188e+00],\n",
       "       [1.61540845e+00, 1.73103399e+00, 2.04592999e+00],\n",
       "       [1.04557682e+00, 6.43904671e-01, 3.24708413e-01],\n",
       "       [3.13436589e-01, 2.47406325e-01, 8.72486994e-01],\n",
       "       [1.61657614e+00, 1.42906863e+00, 1.36042422e+00],\n",
       "       [6.16042873e-01, 1.39530685e+00, 4.30581584e-01],\n",
       "       [9.45155670e-01, 1.17923146e+00, 2.92486143e-01],\n",
       "       [7.90028350e-01, 4.96973404e-02, 1.22232878e+00],\n",
       "       [1.43908760e+00, 7.99208859e-01, 1.62704048e+00],\n",
       "       [5.78501712e-01, 1.05768905e+00, 1.07502697e+00],\n",
       "       [6.66253447e-01, 6.50657027e-01, 7.11007392e-01],\n",
       "       [5.64664612e-01, 1.65000572e+00, 1.02862691e+00],\n",
       "       [9.25304978e-01, 9.00494200e-01, 3.84117072e+00],\n",
       "       [1.56887609e+00, 1.10306488e+00, 1.16211917e+00],\n",
       "       [9.08957349e-01, 1.86635121e-01, 5.64073843e-01],\n",
       "       [3.00679600e-03, 4.29449843e-02, 5.27248393e-01],\n",
       "       [8.33232798e-01, 2.99534513e-01, 1.05164281e+00],\n",
       "       [1.05509347e+00, 1.22649795e+00, 3.24708413e-01],\n",
       "       [1.56286250e+00, 4.97243498e-01, 8.76721921e-01],\n",
       "       [9.48833887e-01, 4.29719938e-01, 2.00422516e-01],\n",
       "       [9.89527805e-01, 7.20071247e-01, 5.64073843e-01],\n",
       "       [1.35285385e+00, 1.33453565e+00, 5.08835667e-01],\n",
       "       [4.83714657e-02, 4.07572210e-01, 8.26455181e-01],\n",
       "       [1.08662104e+00, 4.43224650e-01, 3.52327501e-01],\n",
       "       [1.18820988e+00, 2.59020377e-01, 3.52327501e-01],\n",
       "       [8.92609721e-01, 4.90491142e-01, 4.71641962e-01],\n",
       "       [1.70316018e+00, 3.40048650e-01, 5.82118314e-01],\n",
       "       [3.98677796e-01, 3.95958157e-01, 3.70371972e-01],\n",
       "       [5.82004775e-01, 1.46958277e+00, 2.55016247e-02],\n",
       "       [1.38438142e+00, 2.20396901e-01, 1.39264649e+00],\n",
       "       [5.99520091e-01, 1.47633512e+00, 1.06582061e+00],\n",
       "       [1.67747105e+00, 1.29402151e+00, 1.01518562e+00],\n",
       "       [1.39956136e+00, 1.38666383e+00, 1.17629696e+00],\n",
       "       [8.44734522e-01, 1.76479577e+00, 6.97197848e-01],\n",
       "       [1.21372386e+00, 2.32010953e-01, 2.09260624e-01],\n",
       "       [9.45330823e-01, 9.74770116e-01, 6.65620024e-02],\n",
       "       [6.47570443e-01, 6.50927121e-02, 4.81492770e-02],\n",
       "       [3.49810063e-01, 6.84418807e-01, 3.74975153e-01],\n",
       "       [1.71133400e+00, 2.99534513e-01, 1.32359877e+00],\n",
       "       [6.98948705e-01, 1.00367020e+00, 1.91216154e-01],\n",
       "       [1.42390765e+00, 1.64487393e-01, 5.86721496e-01],\n",
       "       [3.27623995e-01, 5.15880000e-02, 4.35460956e-02],\n",
       "       [6.69581357e-01, 9.02384859e-01, 2.36879713e-01],\n",
       "       [1.08428567e+00, 1.23135965e+00, 5.54867481e-01],\n",
       "       [9.35989321e-01, 5.03995854e-01, 8.90531465e-01],\n",
       "       [9.35814168e-01, 7.80842451e-01, 2.87514708e-01],\n",
       "       [6.16042873e-01, 1.36154507e+00, 1.86244718e-01],\n",
       "       [5.44638766e-01, 9.22641928e-01, 1.24074150e+00],\n",
       "       [8.09879042e-01, 1.24486436e+00, 4.16403786e-01],\n",
       "       [4.15200577e-01, 1.54872038e+00, 1.29561142e+00],\n",
       "       [1.35051848e+00, 3.73810430e-01, 6.74550196e-01],\n",
       "       [6.05533683e-01, 1.76479577e+00, 1.35545278e+00],\n",
       "       [1.63175608e+00, 3.26543937e-01, 4.99261050e-01],\n",
       "       [1.26606546e-01, 2.74415749e-01, 6.42327927e-01],\n",
       "       [7.44488528e-01, 1.77830048e+00, 3.28943340e-01],\n",
       "       [7.43320840e-01, 4.21076922e-01, 9.78360166e-01],\n",
       "       [1.09228433e+00, 1.43582099e+00, 4.21375221e-01],\n",
       "       [1.33417085e+00, 1.31238792e+00, 1.11148417e+00],\n",
       "       [1.07727954e+00, 5.24252922e-01, 1.49787521e-01],\n",
       "       [5.17781948e-01, 4.27829278e-01, 1.01978880e+00],\n",
       "       [1.86158622e-01, 1.31914027e+00, 7.61366196e-02],\n",
       "       [9.11292725e-01, 9.42898996e-01, 1.36502740e+00],\n",
       "       [1.34917564e+00, 9.02114765e-02, 1.30518604e+00],\n",
       "       [9.04082253e-02, 5.91776482e-01, 9.36931533e-01],\n",
       "       [1.05509347e+00, 2.86029801e-01, 9.00106083e-01],\n",
       "       [8.14549794e-01, 1.39341619e+00, 1.54390703e-01],\n",
       "       [6.07869059e-01, 4.95352838e-01, 3.74975153e-01],\n",
       "       [4.34876116e-01, 6.05281194e-01, 5.27524584e-02],\n",
       "       [1.40405696e+00, 6.57409383e-01, 5.18042030e-01],\n",
       "       [2.06009314e-01, 1.18598381e+00, 3.43397329e-02],\n",
       "       [7.74848409e-01, 9.02114765e-02, 8.03439274e-01],\n",
       "       [1.51965805e+00, 1.37991148e+00, 2.70878810e+00],\n",
       "       [1.39588315e+00, 1.46283041e+00, 4.53597491e-01],\n",
       "       [3.09933525e-01, 3.53553362e-01, 7.52804279e-01],\n",
       "       [1.65394214e+00, 4.48086346e-01, 9.73756984e-01],\n",
       "       [3.62479475e-01, 1.05093669e+00, 3.43121138e-01],\n",
       "       [8.24883830e-01, 2.32010953e-01, 3.79946589e-01],\n",
       "       [1.08311798e+00, 1.29402151e+00, 2.92117889e-01],\n",
       "       [8.37728396e-01, 2.00139833e-01, 8.95779092e-02],\n",
       "       [9.18298852e-01, 1.43393033e+00, 2.32276531e-01],\n",
       "       [7.76016097e-01, 1.33264499e+00, 1.49419267e-01],\n",
       "       [5.38975481e-01, 3.28434597e-01, 1.61783412e+00],\n",
       "       [8.26051518e-01, 2.86029801e-01, 6.69947015e-01],\n",
       "       [4.24366926e-01, 1.17058844e+00, 1.50275459e+00],\n",
       "       [6.85928986e-01, 1.50982681e-01, 1.97227908e+00],\n",
       "       [4.34876116e-01, 1.65675807e+00, 9.59579186e-01],\n",
       "       [1.48792614e-01, 1.24000266e+00, 9.78360166e-01],\n",
       "       [1.38303858e+00, 1.46958277e+00, 1.12593816e-01],\n",
       "       [8.25058983e-01, 6.91171163e-01, 1.30942097e+00],\n",
       "       [1.21273132e+00, 8.93741844e-01, 1.92164409e+00],\n",
       "       [4.62900623e-01, 6.25538262e-01, 9.04709264e-01],\n",
       "       [1.89836839e-01, 5.62876398e-01, 1.02862691e+00],\n",
       "       [5.90353742e-01, 1.33453565e+00, 1.13486833e+00],\n",
       "       [4.42057396e-01, 1.52873340e-01, 3.93756133e-01],\n",
       "       [1.66579418e+00, 1.28537849e+00, 9.50372823e-01],\n",
       "       [1.38283424e-01, 1.24486436e+00, 7.06404211e-01],\n",
       "       [8.79940308e-01, 1.28051680e+00, 8.85928284e-01],\n",
       "       [1.74402926e+00, 8.80237132e-01, 3.23815396e+00],\n",
       "       [1.55486384e+00, 8.88880147e-01, 4.21375221e-01],\n",
       "       [4.77088029e-01, 4.09462869e-01, 5.82486569e-01],\n",
       "       [1.06443498e+00, 7.45190011e-01, 1.16248742e+00],\n",
       "       [1.06755854e-01, 1.56222509e+00, 1.30942097e+00],\n",
       "       [1.42507534e+00, 8.28108943e-01, 3.93111688e-02],\n",
       "       [6.61407543e-01, 1.55061104e+00, 3.38517957e-01],\n",
       "       [1.56403019e+00, 1.54385868e+00, 2.28041604e-01],\n",
       "       [1.26527727e+00, 2.45515665e-01, 1.15328106e+00],\n",
       "       [9.19641692e-01, 1.01717491e+00, 1.19434143e+00],\n",
       "       [1.10530405e+00, 9.95027184e-01, 3.38517957e-01],\n",
       "       [3.34630122e-01, 5.31005278e-01, 1.29597968e+00],\n",
       "       [7.30476274e-01, 1.79882765e-01, 9.13915627e-01],\n",
       "       [8.03865450e-01, 1.58923451e+00, 1.81641536e-01],\n",
       "       [8.40063771e-01, 7.92456503e-01, 1.01942054e+00],\n",
       "       [9.15759131e-02, 6.05281194e-01, 2.28041604e-01],\n",
       "       [8.24883830e-01, 1.51684926e+00, 7.25185191e-01],\n",
       "       [2.49213762e-01, 9.20751268e-01, 2.23926360e+00],\n",
       "       [1.49046586e+00, 4.90491142e-01, 3.79946589e-01],\n",
       "       [6.70544700e-02, 2.38763309e-01, 7.20213755e-01],\n",
       "       [1.49747198e+00, 1.05606848e-01, 9.13547372e-01],\n",
       "       [8.98623313e-01, 1.40881156e+00, 6.88359740e-01],\n",
       "       [2.79573643e-01, 7.65447079e-01, 8.35661544e-01],\n",
       "       [9.62846140e-01, 6.10142891e-01, 2.00910454e+00],\n",
       "       [6.98773552e-01, 7.74090095e-01, 2.14232060e-01],\n",
       "       [1.62591764e+00, 1.05579839e+00, 9.22753735e-01],\n",
       "       [7.80511695e-01, 1.57086811e+00, 9.82963347e-01],\n",
       "       [8.55418865e-01, 1.73778635e+00, 1.25915423e+00],\n",
       "       [1.02105537e+00, 7.60585383e-01, 5.77515133e-01],\n",
       "       [1.70882347e+00, 1.10306488e+00, 1.00597925e+00],\n",
       "       [1.37971067e+00, 1.37504978e+00, 5.72911952e-01],\n",
       "       [1.61891151e+00, 2.65772733e-01, 1.30978922e+00],\n",
       "       [8.49580427e-01, 6.91171163e-01, 6.69578760e-01],\n",
       "       [1.28612050e+00, 1.03554132e+00, 1.61323094e+00],\n",
       "       [1.15300409e+00, 1.60273923e+00, 1.01518562e+00],\n",
       "       [1.41806922e+00, 1.06255074e+00, 9.78360166e-01],\n",
       "       [1.47896413e+00, 3.80562786e-01, 1.34164324e+00],\n",
       "       [1.21489154e+00, 1.77992105e-01, 4.62803854e-01],\n",
       "       [4.42057396e-01, 1.39341619e+00, 1.32820195e+00],\n",
       "       [8.59914463e-01, 4.22967582e-01, 8.12645637e-01],\n",
       "       [5.44813920e-01, 8.19465927e-01, 2.07354907e+00],\n",
       "       [8.57754241e-01, 6.70914095e-01, 3.38149702e-01],\n",
       "       [4.95595880e-01, 1.18598381e+00, 1.77038355e-01],\n",
       "       [5.93681653e-01, 5.71519414e-01, 3.84181516e-01],\n",
       "       [7.87313476e-02, 1.44257334e+00, 9.92169710e-01],\n",
       "       [1.08662104e+00, 1.07794612e+00, 1.00597925e+00],\n",
       "       [1.12281936e+00, 1.73778635e+00, 6.32753309e-01],\n",
       "       [1.27327593e+00, 1.15033137e+00, 8.58677450e-01],\n",
       "       [1.19504085e+00, 1.71239749e-01, 4.58200672e-01],\n",
       "       [1.56070228e+00, 6.32290618e-01, 2.96721070e-01],\n",
       "       [3.04095087e-01, 1.00367020e+00, 8.35293289e-01],\n",
       "       [5.90353742e-01, 2.43084817e-03, 7.52804279e-01],\n",
       "       [2.83251860e-01, 1.10981724e+00, 3.28943340e-01],\n",
       "       [4.75920341e-01, 1.46120984e-01, 9.69153803e-01],\n",
       "       [1.66912209e+00, 7.87594807e-01, 1.14407469e+00],\n",
       "       [6.20538471e-01, 1.36640677e+00, 9.18150553e-01],\n",
       "       [3.21989902e-02, 1.48308748e+00, 2.87882962e-01],\n",
       "       [1.58037782e+00, 9.20751268e-01, 6.74181942e-01],\n",
       "       [1.79152496e-01, 3.28434597e-01, 1.86244718e-01],\n",
       "       [2.97264113e-01, 3.48691665e-01, 6.72064478e-03],\n",
       "       [7.16288868e-01, 8.46475352e-01, 8.62912377e-01],\n",
       "       [4.82926468e-01, 3.48691665e-01, 2.28041604e-01],\n",
       "       [1.92172214e-01, 9.13998912e-01, 1.06582061e+00],\n",
       "       [3.48467222e-01, 5.78271770e-01, 1.15788424e+00],\n",
       "       [1.02123053e+00, 1.34128800e+00, 2.49704176e+00],\n",
       "       [1.50798117e+00, 9.68017760e-01, 4.12168859e-01],\n",
       "       [6.97781017e-01, 1.21974559e+00, 5.13438849e-01],\n",
       "       [7.98202165e-01, 2.26879163e-02, 1.24497643e+00],\n",
       "       [1.60273904e+00, 8.55118367e-01, 1.11185242e+00],\n",
       "       [1.13315340e+00, 7.87594807e-01, 5.59470662e-01],\n",
       "       [2.03849092e-01, 1.59625696e-01, 7.75451931e-01],\n",
       "       [1.48813048e+00, 2.13644545e-01, 6.23915201e-01],\n",
       "       [2.49388915e-01, 1.09145083e+00, 8.17248818e-01],\n",
       "       [8.79940308e-01, 1.34128800e+00, 8.03439274e-01],\n",
       "       [1.51633014e+00, 1.73103399e+00, 5.17673775e-01],\n",
       "       [1.18353913e+00, 4.68343414e-01, 4.72010216e-01],\n",
       "       [2.70407294e-01, 1.04418434e+00, 2.13863806e-01],\n",
       "       [1.51399477e+00, 1.41556392e+00, 3.15502050e-01],\n",
       "       [2.16693657e-01, 8.95632503e-01, 5.96296113e-01],\n",
       "       [1.11601758e-01, 1.39530685e+00, 1.02439198e+00],\n",
       "       [8.34400486e-01, 1.20624088e+00, 1.45184340e-01],\n",
       "       [1.06075676e+00, 1.18598381e+00, 3.93111688e-02],\n",
       "       [1.64127273e+00, 1.33264499e+00, 1.89862818e+00],\n",
       "       [1.24659427e+00, 1.32616272e-01, 2.55016247e-02],\n",
       "       [6.76762637e-01, 1.47444446e+00, 5.04232486e-01],\n",
       "       [8.80728498e-02, 1.42906863e+00, 1.82009791e-01],\n",
       "       [5.14454038e-01, 3.67058074e-01, 5.68677025e-01],\n",
       "       [1.62258973e+00, 6.32290618e-01, 1.23613832e+00],\n",
       "       [1.49863967e+00, 7.53833027e-01, 3.29311594e-01],\n",
       "       [1.25576062e+00, 1.20435022e+00, 1.13947151e+00],\n",
       "       [8.35393020e-01, 8.41613655e-01, 1.13026515e+00],\n",
       "       [1.51615499e+00, 1.29402151e+00, 4.81492770e-02],\n",
       "       [2.30705910e-01, 1.26512143e+00, 1.24074150e+00],\n",
       "       [3.10313024e-02, 8.32970639e-01, 1.13026515e+00],\n",
       "       [1.27094056e+00, 1.32103093e+00, 7.71217005e-01],\n",
       "       [6.17035408e-01, 1.24000266e+00, 1.03359834e+00],\n",
       "       [3.49810063e-01, 9.42898996e-01, 1.11185242e+00],\n",
       "       [1.59456522e+00, 1.26512143e+00, 1.64085003e+00],\n",
       "       [9.93206022e-01, 9.90165488e-01, 1.00597925e+00]])"
      ]
     },
     "execution_count": 17,
     "metadata": {},
     "output_type": "execute_result"
    }
   ],
   "source": [
    "zScores=np.abs(zscore(df.drop(['sales'],axis=1)))\n",
    "zScores"
   ]
  },
  {
   "cell_type": "code",
   "execution_count": 18,
   "metadata": {},
   "outputs": [
    {
     "data": {
      "text/plain": [
       "array([ True,  True,  True,  True,  True,  True,  True,  True,  True,\n",
       "        True,  True,  True,  True,  True,  True,  True, False,  True,\n",
       "        True,  True,  True,  True,  True,  True,  True,  True,  True,\n",
       "        True,  True,  True,  True,  True,  True,  True,  True,  True,\n",
       "        True,  True,  True,  True,  True,  True,  True,  True,  True,\n",
       "        True,  True,  True,  True,  True,  True,  True,  True,  True,\n",
       "        True,  True,  True,  True,  True,  True,  True,  True,  True,\n",
       "        True,  True,  True,  True,  True,  True,  True,  True,  True,\n",
       "        True,  True,  True,  True,  True,  True,  True,  True,  True,\n",
       "        True,  True,  True,  True,  True,  True,  True,  True,  True,\n",
       "        True,  True,  True,  True,  True,  True,  True,  True,  True,\n",
       "        True,  True, False,  True,  True,  True,  True,  True,  True,\n",
       "        True,  True,  True,  True,  True,  True,  True,  True,  True,\n",
       "        True,  True,  True,  True,  True,  True,  True,  True,  True,\n",
       "        True,  True,  True,  True,  True,  True,  True,  True,  True,\n",
       "        True,  True,  True,  True,  True,  True,  True,  True,  True,\n",
       "        True,  True,  True,  True,  True,  True,  True,  True,  True,\n",
       "        True,  True,  True,  True,  True,  True,  True,  True,  True,\n",
       "        True,  True,  True,  True,  True,  True,  True,  True,  True,\n",
       "        True,  True,  True,  True,  True,  True,  True,  True,  True,\n",
       "        True,  True,  True,  True,  True,  True,  True,  True,  True,\n",
       "        True,  True,  True,  True,  True,  True,  True,  True,  True,\n",
       "        True,  True])"
      ]
     },
     "execution_count": 18,
     "metadata": {},
     "output_type": "execute_result"
    }
   ],
   "source": [
    "filteredEntries=(zScores<3).all(axis=1)\n",
    "filteredEntries"
   ]
  },
  {
   "cell_type": "code",
   "execution_count": 19,
   "metadata": {},
   "outputs": [
    {
     "data": {
      "text/plain": [
       "198"
      ]
     },
     "execution_count": 19,
     "metadata": {},
     "output_type": "execute_result"
    }
   ],
   "source": [
    "np.sum(filteredEntries)"
   ]
  },
  {
   "cell_type": "code",
   "execution_count": 21,
   "metadata": {},
   "outputs": [
    {
     "data": {
      "text/plain": [
       "0.047881254488867604"
      ]
     },
     "execution_count": 21,
     "metadata": {},
     "output_type": "execute_result"
    }
   ],
   "source": [
    "((200-198)/4177)*100"
   ]
  },
  {
   "cell_type": "markdown",
   "metadata": {},
   "source": [
    "only 0.04% data is outliers so removing them"
   ]
  },
  {
   "cell_type": "code",
   "execution_count": 22,
   "metadata": {},
   "outputs": [],
   "source": [
    "df=df[filteredEntries]\n"
   ]
  },
  {
   "cell_type": "code",
   "execution_count": 23,
   "metadata": {},
   "outputs": [
    {
     "name": "stdout",
     "output_type": "stream",
     "text": [
      "<class 'pandas.core.frame.DataFrame'>\n",
      "Int64Index: 198 entries, 1 to 200\n",
      "Data columns (total 4 columns):\n",
      " #   Column     Non-Null Count  Dtype  \n",
      "---  ------     --------------  -----  \n",
      " 0   TV         198 non-null    float64\n",
      " 1   radio      198 non-null    float64\n",
      " 2   newspaper  198 non-null    float64\n",
      " 3   sales      198 non-null    float64\n",
      "dtypes: float64(4)\n",
      "memory usage: 7.7 KB\n"
     ]
    }
   ],
   "source": [
    "df.info()"
   ]
  },
  {
   "cell_type": "markdown",
   "metadata": {},
   "source": [
    "## EDA"
   ]
  },
  {
   "cell_type": "code",
   "execution_count": 24,
   "metadata": {},
   "outputs": [
    {
     "data": {
      "image/png": "[encoded data removed]",
      "text/plain": [
       "<Figure size 1152x432 with 3 Axes>"
      ]
     },
     "metadata": {
      "needs_background": "light"
     },
     "output_type": "display_data"
    }
   ],
   "source": [
    "fig,axes = plt.subplots(nrows=1,ncols=3,figsize=(16,6))\n",
    "\n",
    "axes[0].plot(df['TV'],df['sales'],'o')\n",
    "axes[0].set_ylabel(\"Sales\")\n",
    "axes[0].set_title(\"TV Spend\")\n",
    "axes[0].set_xlabel(\"TV\")\n",
    "\n",
    "axes[1].plot(df['radio'],df['sales'],'o')\n",
    "axes[1].set_title(\"Radio Spend\")\n",
    "axes[1].set_ylabel(\"Sales\")\n",
    "\n",
    "axes[2].plot(df['newspaper'],df['sales'],'o')\n",
    "axes[2].set_title(\"Newspaper Spend\");\n",
    "axes[2].set_ylabel(\"Sales\")\n",
    "plt.tight_layout();"
   ]
  },
  {
   "cell_type": "markdown",
   "metadata": {},
   "source": [
    "As the spend on Tv is increasing Sales is increasing\n",
    "As the spend on radio is increasinng sales is increasing and even with radio spend of more than 50 there is less than 5 sales\n",
    "As the spend on newspaper is increasinng sales is increasing and even with newspaper spend of more than 60 there is less than 10 sales\n"
   ]
  },
  {
   "cell_type": "code",
   "execution_count": 25,
   "metadata": {},
   "outputs": [
    {
     "data": {
      "text/plain": [
       "<seaborn.axisgrid.PairGrid at 0x1a7eb981550>"
      ]
     },
     "execution_count": 25,
     "metadata": {},
     "output_type": "execute_result"
    },
    {
     "data": {
      "image/png": "[encoded data removed]",
      "text/plain": [
       "<Figure size 720x720 with 20 Axes>"
      ]
     },
     "metadata": {
      "needs_background": "light"
     },
     "output_type": "display_data"
    }
   ],
   "source": [
    "# Relationships between features\n",
    "sns.pairplot(df,diag_kind='kde')"
   ]
  },
  {
   "cell_type": "markdown",
   "metadata": {},
   "source": [
    "there is some skewness in all features"
   ]
  },
  {
   "cell_type": "markdown",
   "metadata": {},
   "source": [
    "## removing skewness"
   ]
  },
  {
   "cell_type": "code",
   "execution_count": 26,
   "metadata": {},
   "outputs": [
    {
     "data": {
      "text/plain": [
       "Index(['TV', 'radio', 'newspaper', 'sales'], dtype='object')"
      ]
     },
     "execution_count": 26,
     "metadata": {},
     "output_type": "execute_result"
    }
   ],
   "source": [
    "df.columns"
   ]
  },
  {
   "cell_type": "code",
   "execution_count": 27,
   "metadata": {
    "scrolled": true
   },
   "outputs": [
    {
     "name": "stdout",
     "output_type": "stream",
     "text": [
      "TV -0.08233208466403653\n",
      "radio 0.11484208726730326\n",
      "newspaper 0.650111551724088\n"
     ]
    }
   ],
   "source": [
    "for column in df.columns[:-1]:\n",
    "    print(column , df[column].skew())"
   ]
  },
  {
   "cell_type": "markdown",
   "metadata": {},
   "source": [
    "newspaper is a it more skewed than 0.5"
   ]
  },
  {
   "cell_type": "code",
   "execution_count": 28,
   "metadata": {},
   "outputs": [],
   "source": [
    "def min_skewness(colu):\n",
    "    min_Skew=np.abs(df[colu].skew())\n",
    "    print(\"initial\",min_Skew)\n",
    "    \n",
    "    box_col_Skew=10\n",
    "    min_SkewType=\"\"\n",
    "    log_col=np.log(df[colu])\n",
    "    sqrt_col=np.sqrt(df[colu])\n",
    "    try:\n",
    "        box_col=stats.boxcox(df[colu])[0]\n",
    "        box_col_Skew=np.abs(pd.Series(box_col).skew())\n",
    "        print(box_col_Skew)\n",
    "\n",
    "    except ValueError:\n",
    "        print(\"hi\")\n",
    "    \n",
    "    log_col_Skew=np.abs(log_col.skew())\n",
    "    sqrt_col_Skew=np.abs(sqrt_col.skew())\n",
    "    \n",
    "    print(log_col_Skew)\n",
    "    print(sqrt_col_Skew)\n",
    "    \n",
    "    if log_col_Skew<min_Skew:\n",
    "        min_SkewType=\"log\"\n",
    "        min_Skew=log_col_Skew\n",
    "    if sqrt_col_Skew<min_Skew:\n",
    "        min_SkewType=\"sqrt\"\n",
    "        min_Skew=sqrt_col_Skew\n",
    "    if box_col_Skew<min_Skew:\n",
    "        min_SkewType=\"box\"\n",
    "        min_Skew=box_col_Skew\n",
    "    print(min_Skew)\n",
    "    print(column,\"=\",min_SkewType)\n",
    "        \n",
    "\n"
   ]
  },
  {
   "cell_type": "code",
   "execution_count": 29,
   "metadata": {},
   "outputs": [
    {
     "name": "stdout",
     "output_type": "stream",
     "text": [
      "newspaper\n",
      "initial 0.650111551724088\n",
      "0.11731170877824974\n",
      "1.2218015871925096\n",
      "0.040649472621842535\n",
      "0.040649472621842535\n",
      "newspaper = sqrt\n",
      "====================\n"
     ]
    }
   ],
   "source": [
    "moreSkew=['newspaper']\n",
    "for column in moreSkew:\n",
    "    print(column)\n",
    "    min_skewness(column)\n",
    "    print(\"=\"*20)"
   ]
  },
  {
   "cell_type": "markdown",
   "metadata": {},
   "source": [
    "based on the above output apply the sqrt transformation to newspaper as it gives minimum skew."
   ]
  },
  {
   "cell_type": "code",
   "execution_count": 30,
   "metadata": {},
   "outputs": [],
   "source": [
    "df['newspaper']=(np.sqrt(df['newspaper']))"
   ]
  },
  {
   "cell_type": "code",
   "execution_count": 32,
   "metadata": {},
   "outputs": [
    {
     "name": "stdout",
     "output_type": "stream",
     "text": [
      "TV -0.08233208466403653\n",
      "radio 0.11484208726730326\n",
      "newspaper -0.040649472621842535\n"
     ]
    }
   ],
   "source": [
    "for column in df.columns[:-1]:\n",
    "    print(column , df[column].skew())"
   ]
  },
  {
   "cell_type": "markdown",
   "metadata": {},
   "source": [
    "Now all features are having very less skew(between -0.5 and +0.5)"
   ]
  },
  {
   "cell_type": "code",
   "execution_count": 34,
   "metadata": {},
   "outputs": [
    {
     "data": {
      "text/plain": [
       "<AxesSubplot:xlabel='newspaper'>"
      ]
     },
     "execution_count": 34,
     "metadata": {},
     "output_type": "execute_result"
    },
    {
     "data": {
      "image/png": "[encoded data removed]",
      "text/plain": [
       "<Figure size 432x288 with 1 Axes>"
      ]
     },
     "metadata": {
      "needs_background": "light"
     },
     "output_type": "display_data"
    }
   ],
   "source": [
    "sns.boxplot(data=df,x='newspaper')"
   ]
  },
  {
   "cell_type": "markdown",
   "metadata": {},
   "source": [
    "No outliers now"
   ]
  },
  {
   "cell_type": "code",
   "execution_count": 36,
   "metadata": {},
   "outputs": [
    {
     "data": {
      "text/plain": [
       "<AxesSubplot:xlabel='TV'>"
      ]
     },
     "execution_count": 36,
     "metadata": {},
     "output_type": "execute_result"
    },
    {
     "data": {
      "image/png": "[encoded data removed]",
      "text/plain": [
       "<Figure size 432x288 with 1 Axes>"
      ]
     },
     "metadata": {
      "needs_background": "light"
     },
     "output_type": "display_data"
    }
   ],
   "source": [
    "sns.boxplot(data=df,x='TV')"
   ]
  },
  {
   "cell_type": "markdown",
   "metadata": {},
   "source": [
    "No outliers in TV "
   ]
  },
  {
   "cell_type": "code",
   "execution_count": 38,
   "metadata": {},
   "outputs": [
    {
     "data": {
      "text/plain": [
       "<AxesSubplot:xlabel='radio'>"
      ]
     },
     "execution_count": 38,
     "metadata": {},
     "output_type": "execute_result"
    },
    {
     "data": {
      "image/png": "[encoded data removed]",
      "text/plain": [
       "<Figure size 432x288 with 1 Axes>"
      ]
     },
     "metadata": {
      "needs_background": "light"
     },
     "output_type": "display_data"
    }
   ],
   "source": [
    "sns.boxplot(data=df,x='radio')"
   ]
  },
  {
   "cell_type": "markdown",
   "metadata": {},
   "source": [
    "No outliers here as well"
   ]
  },
  {
   "cell_type": "markdown",
   "metadata": {},
   "source": [
    "Divinding into X and Y"
   ]
  },
  {
   "cell_type": "code",
   "execution_count": 41,
   "metadata": {},
   "outputs": [],
   "source": [
    "y=df['sales']\n",
    "X=df.drop('sales',axis=1)"
   ]
  },
  {
   "cell_type": "markdown",
   "metadata": {},
   "source": [
    "## identifying the best random state"
   ]
  },
  {
   "cell_type": "code",
   "execution_count": 44,
   "metadata": {},
   "outputs": [
    {
     "name": "stdout",
     "output_type": "stream",
     "text": [
      "min RMSE is 1.3446811466048851 on random state 193\n"
     ]
    }
   ],
   "source": [
    "minRMSE=\"null\"\n",
    "minRS=0\n",
    "for i in range(200):\n",
    "    X_train, X_test, y_train, y_test = train_test_split(X, y, test_size=0.33, random_state=i)\n",
    "    lr=LinearRegression()\n",
    "    lr.fit(X_train,y_train)\n",
    "    pred=lr.predict(X_test)\n",
    "    RMSE=np.sqrt(mean_squared_error(y_test,pred))\n",
    "    if(minRMSE==\"null\" or RMSE<minRMSE):\n",
    "        minRMSE=RMSE\n",
    "        minRS=i\n",
    "        \n",
    "print(\"min RMSE is\",minRMSE,\"on random state\",minRS)"
   ]
  },
  {
   "cell_type": "markdown",
   "metadata": {},
   "source": [
    "min RMSE is 1.3446811466048851 on random state 193"
   ]
  },
  {
   "cell_type": "code",
   "execution_count": 45,
   "metadata": {},
   "outputs": [],
   "source": [
    "X_train, X_test, y_train, y_test = train_test_split(X, y, test_size=0.33, random_state=193)\n"
   ]
  },
  {
   "cell_type": "markdown",
   "metadata": {},
   "source": [
    "## Scaling"
   ]
  },
  {
   "cell_type": "code",
   "execution_count": 46,
   "metadata": {},
   "outputs": [],
   "source": [
    "from sklearn.preprocessing import StandardScaler"
   ]
  },
  {
   "cell_type": "code",
   "execution_count": 47,
   "metadata": {},
   "outputs": [],
   "source": [
    "scaler = StandardScaler()"
   ]
  },
  {
   "cell_type": "code",
   "execution_count": 48,
   "metadata": {},
   "outputs": [
    {
     "data": {
      "text/plain": [
       "Index(['TV', 'radio', 'newspaper', 'sales'], dtype='object')"
      ]
     },
     "execution_count": 48,
     "metadata": {},
     "output_type": "execute_result"
    }
   ],
   "source": [
    "df.columns"
   ]
  },
  {
   "cell_type": "code",
   "execution_count": 49,
   "metadata": {},
   "outputs": [],
   "source": [
    "x_train_scale=scaler.fit_transform(X_train)\n"
   ]
  },
  {
   "cell_type": "code",
   "execution_count": 50,
   "metadata": {},
   "outputs": [
    {
     "data": {
      "text/plain": [
       "Index(['TV', 'radio', 'newspaper'], dtype='object')"
      ]
     },
     "execution_count": 50,
     "metadata": {},
     "output_type": "execute_result"
    }
   ],
   "source": [
    "X_train.columns"
   ]
  },
  {
   "cell_type": "code",
   "execution_count": 51,
   "metadata": {},
   "outputs": [
    {
     "data": {
      "text/html": [
       "<div>\n",
       "<style scoped>\n",
       "    .dataframe tbody tr th:only-of-type {\n",
       "        vertical-align: middle;\n",
       "    }\n",
       "\n",
       "    .dataframe tbody tr th {\n",
       "        vertical-align: top;\n",
       "    }\n",
       "\n",
       "    .dataframe thead th {\n",
       "        text-align: right;\n",
       "    }\n",
       "</style>\n",
       "<table border=\"1\" class=\"dataframe\">\n",
       "  <thead>\n",
       "    <tr style=\"text-align: right;\">\n",
       "      <th></th>\n",
       "      <th>TV</th>\n",
       "      <th>radio</th>\n",
       "      <th>newspaper</th>\n",
       "    </tr>\n",
       "  </thead>\n",
       "  <tbody>\n",
       "    <tr>\n",
       "      <th>0</th>\n",
       "      <td>-1.449199</td>\n",
       "      <td>1.311855</td>\n",
       "      <td>2.113491</td>\n",
       "    </tr>\n",
       "    <tr>\n",
       "      <th>1</th>\n",
       "      <td>1.245246</td>\n",
       "      <td>0.199149</td>\n",
       "      <td>-1.362296</td>\n",
       "    </tr>\n",
       "    <tr>\n",
       "      <th>2</th>\n",
       "      <td>-0.858342</td>\n",
       "      <td>-0.224739</td>\n",
       "      <td>-0.417500</td>\n",
       "    </tr>\n",
       "    <tr>\n",
       "      <th>3</th>\n",
       "      <td>0.244290</td>\n",
       "      <td>1.199260</td>\n",
       "      <td>-1.581228</td>\n",
       "    </tr>\n",
       "    <tr>\n",
       "      <th>4</th>\n",
       "      <td>-1.153206</td>\n",
       "      <td>0.185903</td>\n",
       "      <td>0.387498</td>\n",
       "    </tr>\n",
       "    <tr>\n",
       "      <th>...</th>\n",
       "      <td>...</td>\n",
       "      <td>...</td>\n",
       "      <td>...</td>\n",
       "    </tr>\n",
       "    <tr>\n",
       "      <th>127</th>\n",
       "      <td>0.542543</td>\n",
       "      <td>-0.363827</td>\n",
       "      <td>1.453721</td>\n",
       "    </tr>\n",
       "    <tr>\n",
       "      <th>128</th>\n",
       "      <td>0.592252</td>\n",
       "      <td>-0.039288</td>\n",
       "      <td>-0.666605</td>\n",
       "    </tr>\n",
       "    <tr>\n",
       "      <th>129</th>\n",
       "      <td>-1.075253</td>\n",
       "      <td>-0.814208</td>\n",
       "      <td>-0.411794</td>\n",
       "    </tr>\n",
       "    <tr>\n",
       "      <th>130</th>\n",
       "      <td>-1.593807</td>\n",
       "      <td>-0.814208</td>\n",
       "      <td>-1.341637</td>\n",
       "    </tr>\n",
       "    <tr>\n",
       "      <th>131</th>\n",
       "      <td>0.848705</td>\n",
       "      <td>1.662887</td>\n",
       "      <td>-1.634276</td>\n",
       "    </tr>\n",
       "  </tbody>\n",
       "</table>\n",
       "<p>132 rows × 3 columns</p>\n",
       "</div>"
      ],
      "text/plain": [
       "           TV     radio  newspaper\n",
       "0   -1.449199  1.311855   2.113491\n",
       "1    1.245246  0.199149  -1.362296\n",
       "2   -0.858342 -0.224739  -0.417500\n",
       "3    0.244290  1.199260  -1.581228\n",
       "4   -1.153206  0.185903   0.387498\n",
       "..        ...       ...        ...\n",
       "127  0.542543 -0.363827   1.453721\n",
       "128  0.592252 -0.039288  -0.666605\n",
       "129 -1.075253 -0.814208  -0.411794\n",
       "130 -1.593807 -0.814208  -1.341637\n",
       "131  0.848705  1.662887  -1.634276\n",
       "\n",
       "[132 rows x 3 columns]"
      ]
     },
     "execution_count": 51,
     "metadata": {},
     "output_type": "execute_result"
    }
   ],
   "source": [
    "XtrainDF=pd.DataFrame(x_train_scale,columns=X_train.columns)\n",
    "XtrainDF"
   ]
  },
  {
   "cell_type": "code",
   "execution_count": 53,
   "metadata": {},
   "outputs": [
    {
     "data": {
      "text/html": [
       "<div>\n",
       "<style scoped>\n",
       "    .dataframe tbody tr th:only-of-type {\n",
       "        vertical-align: middle;\n",
       "    }\n",
       "\n",
       "    .dataframe tbody tr th {\n",
       "        vertical-align: top;\n",
       "    }\n",
       "\n",
       "    .dataframe thead th {\n",
       "        text-align: right;\n",
       "    }\n",
       "</style>\n",
       "<table border=\"1\" class=\"dataframe\">\n",
       "  <thead>\n",
       "    <tr style=\"text-align: right;\">\n",
       "      <th></th>\n",
       "      <th>TV</th>\n",
       "      <th>radio</th>\n",
       "      <th>newspaper</th>\n",
       "    </tr>\n",
       "  </thead>\n",
       "  <tbody>\n",
       "    <tr>\n",
       "      <th>count</th>\n",
       "      <td>1.320000e+02</td>\n",
       "      <td>1.320000e+02</td>\n",
       "      <td>1.320000e+02</td>\n",
       "    </tr>\n",
       "    <tr>\n",
       "      <th>mean</th>\n",
       "      <td>-1.026115e-16</td>\n",
       "      <td>1.665335e-16</td>\n",
       "      <td>1.127045e-16</td>\n",
       "    </tr>\n",
       "    <tr>\n",
       "      <th>std</th>\n",
       "      <td>1.003810e+00</td>\n",
       "      <td>1.003810e+00</td>\n",
       "      <td>1.003810e+00</td>\n",
       "    </tr>\n",
       "    <tr>\n",
       "      <th>min</th>\n",
       "      <td>-1.632218e+00</td>\n",
       "      <td>-1.556012e+00</td>\n",
       "      <td>-2.241019e+00</td>\n",
       "    </tr>\n",
       "    <tr>\n",
       "      <th>25%</th>\n",
       "      <td>-8.865855e-01</td>\n",
       "      <td>-8.903754e-01</td>\n",
       "      <td>-7.580877e-01</td>\n",
       "    </tr>\n",
       "    <tr>\n",
       "      <th>50%</th>\n",
       "      <td>1.380944e-01</td>\n",
       "      <td>-2.935304e-02</td>\n",
       "      <td>-1.725367e-03</td>\n",
       "    </tr>\n",
       "    <tr>\n",
       "      <th>75%</th>\n",
       "      <td>8.724294e-01</td>\n",
       "      <td>9.955947e-01</td>\n",
       "      <td>7.842266e-01</td>\n",
       "    </tr>\n",
       "    <tr>\n",
       "      <th>max</th>\n",
       "      <td>1.676809e+00</td>\n",
       "      <td>1.689380e+00</td>\n",
       "      <td>2.113491e+00</td>\n",
       "    </tr>\n",
       "  </tbody>\n",
       "</table>\n",
       "</div>"
      ],
      "text/plain": [
       "                 TV         radio     newspaper\n",
       "count  1.320000e+02  1.320000e+02  1.320000e+02\n",
       "mean  -1.026115e-16  1.665335e-16  1.127045e-16\n",
       "std    1.003810e+00  1.003810e+00  1.003810e+00\n",
       "min   -1.632218e+00 -1.556012e+00 -2.241019e+00\n",
       "25%   -8.865855e-01 -8.903754e-01 -7.580877e-01\n",
       "50%    1.380944e-01 -2.935304e-02 -1.725367e-03\n",
       "75%    8.724294e-01  9.955947e-01  7.842266e-01\n",
       "max    1.676809e+00  1.689380e+00  2.113491e+00"
      ]
     },
     "execution_count": 53,
     "metadata": {},
     "output_type": "execute_result"
    }
   ],
   "source": [
    "XtrainDF.describe()"
   ]
  },
  {
   "cell_type": "code",
   "execution_count": 55,
   "metadata": {},
   "outputs": [
    {
     "data": {
      "text/plain": [
       "array([[-7.34069713e-01, -1.58250492e+00, -1.02598651e+00],\n",
       "       [ 4.02454968e-01, -8.67194031e-01,  1.22710164e+00],\n",
       "       [-3.99664837e-01, -6.35380316e-01,  2.43650320e-01],\n",
       "       [ 2.39899895e-02,  4.51585157e-04, -3.72277503e-01],\n",
       "       [ 2.62366438e-01, -1.11225424e+00, -7.59772287e-01],\n",
       "       [ 1.04189132e+00, -1.24471922e+00, -1.38931169e-01],\n",
       "       [ 7.27821874e-01, -2.18115631e-01, -9.09668899e-01],\n",
       "       [ 6.09198523e-01,  4.44209266e-01,  5.32400370e-01],\n",
       "       [ 9.59419846e-01,  9.21083193e-01,  1.55789746e+00],\n",
       "       [ 1.10741660e+00,  1.66288708e+00,  7.45002771e-01],\n",
       "       [ 1.59094797e+00, -6.61873312e-01, -1.56843398e+00],\n",
       "       [-9.66797431e-01, -7.87715043e-01,  7.00630935e-01],\n",
       "       [-7.77000069e-01,  1.85902556e-01, -2.00230738e-01],\n",
       "       [-3.16063618e-01, -6.08887321e-01, -1.37276602e+00],\n",
       "       [ 8.19331317e-01,  6.36283487e-01,  1.24624377e+00],\n",
       "       [-1.42773388e+00, -1.45259892e-01,  9.61799178e-01],\n",
       "       [ 5.11038984e-02,  7.75371715e-01, -1.31131615e+00],\n",
       "       [ 1.16616340e+00,  4.17716271e-01, -3.06184551e-01],\n",
       "       [ 8.28369287e-01, -1.22484948e+00,  5.01711100e-02],\n",
       "       [-6.26743824e-01, -9.26803271e-01,  4.12147695e-01],\n",
       "       [ 4.81537202e-01, -1.84999386e-01, -1.00200447e+00],\n",
       "       [ 4.88315679e-01, -3.83696855e-01, -3.53097440e-02],\n",
       "       [-6.41302144e-02, -1.44341669e+00,  1.25374323e-02],\n",
       "       [-1.44580982e+00, -1.31095171e+00,  2.39305519e-01],\n",
       "       [-5.38623620e-01, -1.07913800e+00, -1.19702411e+00],\n",
       "       [ 6.96188981e-01, -1.23809597e+00, -3.55564064e-01],\n",
       "       [ 1.22716970e+00, -1.71752888e-01,  1.68830062e-01],\n",
       "       [ 1.29056386e-01, -1.41030045e+00, -1.10038067e+00],\n",
       "       [ 2.18306337e-01, -1.98245884e-01,  8.56923552e-01],\n",
       "       [-4.37947828e-02,  1.92525805e-01,  8.14046602e-01],\n",
       "       [-4.79876817e-01,  3.77976777e-01, -1.09192174e+00],\n",
       "       [ 8.27239540e-01,  2.52135046e-01,  1.06359726e+00],\n",
       "       [ 1.64404605e+00, -1.31095171e+00, -1.08351301e+00],\n",
       "       [-1.42886363e+00, -7.81091794e-01, -1.43978775e-01],\n",
       "       [-1.54296800e+00, -1.44341669e+00, -2.01991718e+00],\n",
       "       [-1.35655987e+00,  1.19670067e-01,  7.08068744e-01],\n",
       "       [-7.96205755e-01,  1.68938007e+00,  7.96017027e-01],\n",
       "       [-6.42560271e-01,  1.06423569e-01,  1.67949037e+00],\n",
       "       [ 1.60902391e+00,  1.26549214e+00,  1.63359014e+00],\n",
       "       [ 1.52542269e+00, -9.13556773e-01, -2.47295565e-01],\n",
       "       [ 2.07008874e-01,  8.54850703e-01, -1.17893008e+00],\n",
       "       [ 6.47609894e-01, -1.05520398e-01,  2.39305519e-01],\n",
       "       [-1.42095541e+00, -5.22785084e-01, -2.00230738e-01],\n",
       "       [-1.52250418e-01, -3.63827108e-01,  3.66795328e-01],\n",
       "       [-1.15433530e+00,  1.32916565e-01, -2.95360923e-01],\n",
       "       [ 7.70752230e-01,  4.68143280e-02, -7.39394816e-01],\n",
       "       [ 5.22336446e-02, -1.49640268e+00, -9.89309025e-02],\n",
       "       [-2.20035191e-01,  8.61473952e-01,  1.84182114e+00],\n",
       "       [-6.18835601e-01, -1.56263517e+00, -1.54106448e-01],\n",
       "       [-7.56664637e-01,  1.51717560e+00,  3.62636866e-01],\n",
       "       [ 1.04189132e+00,  2.38888548e-01, -8.87406426e-01],\n",
       "       [ 5.18818827e-01,  3.18367536e-01, -4.23221304e-01],\n",
       "       [-1.78234581e-01, -1.20497973e+00,  2.26229703e-01],\n",
       "       [ 6.65685833e-01,  5.96543993e-01,  8.06846537e-01],\n",
       "       [-1.22324982e+00,  9.74069184e-01,  1.45070409e+00],\n",
       "       [ 8.09163601e-01,  1.32510138e+00,  4.08147690e-02],\n",
       "       [ 1.05092929e+00,  6.89269479e-01, -1.38333382e+00],\n",
       "       [-3.29620572e-01, -1.07251475e+00, -1.59186655e-01],\n",
       "       [-1.22877017e-01, -1.25796572e+00, -1.01794963e+00],\n",
       "       [ 1.48814107e+00,  1.65626383e+00,  6.51858563e-01],\n",
       "       [-7.78129815e-01,  2.38888548e-01, -5.53329980e-01],\n",
       "       [-2.49408592e-01,  7.09139225e-01, -7.87317431e-01],\n",
       "       [-5.58959052e-01, -1.48977943e+00, -1.17893008e+00],\n",
       "       [-2.78781993e-01,  3.05121038e-01, -6.66604905e-01],\n",
       "       [ 7.41378829e-01,  1.70262657e+00,  4.92851483e-01],\n",
       "       [-1.41869591e+00, -2.51231876e-01, -4.93148268e-01]])"
      ]
     },
     "execution_count": 55,
     "metadata": {},
     "output_type": "execute_result"
    }
   ],
   "source": [
    "x_test_scale=scaler.transform(X_test)\n",
    "x_test_scale"
   ]
  },
  {
   "cell_type": "code",
   "execution_count": 56,
   "metadata": {},
   "outputs": [
    {
     "data": {
      "text/html": [
       "<div>\n",
       "<style scoped>\n",
       "    .dataframe tbody tr th:only-of-type {\n",
       "        vertical-align: middle;\n",
       "    }\n",
       "\n",
       "    .dataframe tbody tr th {\n",
       "        vertical-align: top;\n",
       "    }\n",
       "\n",
       "    .dataframe thead th {\n",
       "        text-align: right;\n",
       "    }\n",
       "</style>\n",
       "<table border=\"1\" class=\"dataframe\">\n",
       "  <thead>\n",
       "    <tr style=\"text-align: right;\">\n",
       "      <th></th>\n",
       "      <th>TV</th>\n",
       "      <th>radio</th>\n",
       "      <th>newspaper</th>\n",
       "    </tr>\n",
       "  </thead>\n",
       "  <tbody>\n",
       "    <tr>\n",
       "      <th>0</th>\n",
       "      <td>-0.734070</td>\n",
       "      <td>-1.582505</td>\n",
       "      <td>-1.025987</td>\n",
       "    </tr>\n",
       "    <tr>\n",
       "      <th>1</th>\n",
       "      <td>0.402455</td>\n",
       "      <td>-0.867194</td>\n",
       "      <td>1.227102</td>\n",
       "    </tr>\n",
       "    <tr>\n",
       "      <th>2</th>\n",
       "      <td>-0.399665</td>\n",
       "      <td>-0.635380</td>\n",
       "      <td>0.243650</td>\n",
       "    </tr>\n",
       "    <tr>\n",
       "      <th>3</th>\n",
       "      <td>0.023990</td>\n",
       "      <td>0.000452</td>\n",
       "      <td>-0.372278</td>\n",
       "    </tr>\n",
       "    <tr>\n",
       "      <th>4</th>\n",
       "      <td>0.262366</td>\n",
       "      <td>-1.112254</td>\n",
       "      <td>-0.759772</td>\n",
       "    </tr>\n",
       "    <tr>\n",
       "      <th>...</th>\n",
       "      <td>...</td>\n",
       "      <td>...</td>\n",
       "      <td>...</td>\n",
       "    </tr>\n",
       "    <tr>\n",
       "      <th>61</th>\n",
       "      <td>-0.249409</td>\n",
       "      <td>0.709139</td>\n",
       "      <td>-0.787317</td>\n",
       "    </tr>\n",
       "    <tr>\n",
       "      <th>62</th>\n",
       "      <td>-0.558959</td>\n",
       "      <td>-1.489779</td>\n",
       "      <td>-1.178930</td>\n",
       "    </tr>\n",
       "    <tr>\n",
       "      <th>63</th>\n",
       "      <td>-0.278782</td>\n",
       "      <td>0.305121</td>\n",
       "      <td>-0.666605</td>\n",
       "    </tr>\n",
       "    <tr>\n",
       "      <th>64</th>\n",
       "      <td>0.741379</td>\n",
       "      <td>1.702627</td>\n",
       "      <td>0.492851</td>\n",
       "    </tr>\n",
       "    <tr>\n",
       "      <th>65</th>\n",
       "      <td>-1.418696</td>\n",
       "      <td>-0.251232</td>\n",
       "      <td>-0.493148</td>\n",
       "    </tr>\n",
       "  </tbody>\n",
       "</table>\n",
       "<p>66 rows × 3 columns</p>\n",
       "</div>"
      ],
      "text/plain": [
       "          TV     radio  newspaper\n",
       "0  -0.734070 -1.582505  -1.025987\n",
       "1   0.402455 -0.867194   1.227102\n",
       "2  -0.399665 -0.635380   0.243650\n",
       "3   0.023990  0.000452  -0.372278\n",
       "4   0.262366 -1.112254  -0.759772\n",
       "..       ...       ...        ...\n",
       "61 -0.249409  0.709139  -0.787317\n",
       "62 -0.558959 -1.489779  -1.178930\n",
       "63 -0.278782  0.305121  -0.666605\n",
       "64  0.741379  1.702627   0.492851\n",
       "65 -1.418696 -0.251232  -0.493148\n",
       "\n",
       "[66 rows x 3 columns]"
      ]
     },
     "execution_count": 56,
     "metadata": {},
     "output_type": "execute_result"
    }
   ],
   "source": [
    "XtestDF=pd.DataFrame(x_test_scale,columns=X_train.columns)\n",
    "XtestDF"
   ]
  },
  {
   "cell_type": "code",
   "execution_count": 95,
   "metadata": {},
   "outputs": [],
   "source": []
  },
  {
   "cell_type": "code",
   "execution_count": 57,
   "metadata": {},
   "outputs": [
    {
     "data": {
      "text/plain": [
       "0.9251211244377999"
      ]
     },
     "execution_count": 57,
     "metadata": {},
     "output_type": "execute_result"
    }
   ],
   "source": [
    "lr=LinearRegression()\n",
    "lr.fit(XtrainDF,y_train)\n",
    "pred=lr.predict(XtestDF)\n",
    "\n",
    "lrR2=r2_score(y_test, pred)\n",
    "lrR2"
   ]
  },
  {
   "cell_type": "code",
   "execution_count": 58,
   "metadata": {},
   "outputs": [
    {
     "data": {
      "text/plain": [
       "1.3446811466048847"
      ]
     },
     "execution_count": 58,
     "metadata": {},
     "output_type": "execute_result"
    }
   ],
   "source": [
    "lrRMSE=np.sqrt(mean_squared_error(y_test,pred))\n",
    "lrRMSE"
   ]
  },
  {
   "cell_type": "code",
   "execution_count": 59,
   "metadata": {},
   "outputs": [
    {
     "data": {
      "text/plain": [
       "0.9251440385836505"
      ]
     },
     "execution_count": 59,
     "metadata": {},
     "output_type": "execute_result"
    }
   ],
   "source": [
    "svr=SVR()\n",
    "svr.fit(XtrainDF,y_train)\n",
    "pred=svr.predict(XtestDF)\n",
    "svrR2=r2_score(y_test, pred)\n",
    "svrR2"
   ]
  },
  {
   "cell_type": "code",
   "execution_count": 60,
   "metadata": {},
   "outputs": [
    {
     "data": {
      "text/plain": [
       "1.3444753837825634"
      ]
     },
     "execution_count": 60,
     "metadata": {},
     "output_type": "execute_result"
    }
   ],
   "source": [
    "svrRMSE=np.sqrt(mean_squared_error(y_test,pred))\n",
    "svrRMSE"
   ]
  },
  {
   "cell_type": "code",
   "execution_count": 61,
   "metadata": {},
   "outputs": [
    {
     "data": {
      "text/plain": [
       "0.9242596769508603"
      ]
     },
     "execution_count": 61,
     "metadata": {},
     "output_type": "execute_result"
    }
   ],
   "source": [
    "sgd=SGDRegressor()\n",
    "sgd.fit(XtrainDF,y_train)\n",
    "pred=sgd.predict(XtestDF)\n",
    "sgdR2=r2_score(y_test, pred)\n",
    "sgdR2"
   ]
  },
  {
   "cell_type": "code",
   "execution_count": 62,
   "metadata": {},
   "outputs": [
    {
     "data": {
      "text/plain": [
       "1.3523940000429822"
      ]
     },
     "execution_count": 62,
     "metadata": {},
     "output_type": "execute_result"
    }
   ],
   "source": [
    "sgdRMSE=np.sqrt(mean_squared_error(y_test,pred))\n",
    "sgdRMSE"
   ]
  },
  {
   "cell_type": "code",
   "execution_count": 63,
   "metadata": {},
   "outputs": [
    {
     "data": {
      "text/plain": [
       "0.9445191667813816"
      ]
     },
     "execution_count": 63,
     "metadata": {},
     "output_type": "execute_result"
    }
   ],
   "source": [
    "knnR=KNeighborsRegressor()\n",
    "knnR.fit(XtrainDF,y_train)\n",
    "pred=knnR.predict(XtestDF)\n",
    "knnR2=r2_score(y_test, pred)\n",
    "knnR2"
   ]
  },
  {
   "cell_type": "code",
   "execution_count": 64,
   "metadata": {},
   "outputs": [
    {
     "data": {
      "text/plain": [
       "1.1574737381666398"
      ]
     },
     "execution_count": 64,
     "metadata": {},
     "output_type": "execute_result"
    }
   ],
   "source": [
    "knnrRMSE=np.sqrt(mean_squared_error(y_test,pred))\n",
    "knnrRMSE"
   ]
  },
  {
   "cell_type": "code",
   "execution_count": null,
   "metadata": {},
   "outputs": [],
   "source": []
  },
  {
   "cell_type": "markdown",
   "metadata": {},
   "source": [
    "## frinding cross val score for each model"
   ]
  },
  {
   "cell_type": "code",
   "execution_count": 65,
   "metadata": {},
   "outputs": [],
   "source": [
    "from sklearn.pipeline import Pipeline\n"
   ]
  },
  {
   "cell_type": "code",
   "execution_count": 67,
   "metadata": {},
   "outputs": [
    {
     "data": {
      "text/plain": [
       "0.8857406146589945"
      ]
     },
     "execution_count": 67,
     "metadata": {},
     "output_type": "execute_result"
    }
   ],
   "source": [
    "\n",
    "operations = [('scaler',StandardScaler()),('lr',lr)]\n",
    "pipe=Pipeline(operations)\n",
    "lrCV=cross_val_score(pipe,X,y,cv=5,scoring='r2').mean()\n",
    "lrCV"
   ]
  },
  {
   "cell_type": "code",
   "execution_count": 68,
   "metadata": {},
   "outputs": [
    {
     "data": {
      "text/plain": [
       "0.9042724072441943"
      ]
     },
     "execution_count": 68,
     "metadata": {},
     "output_type": "execute_result"
    }
   ],
   "source": [
    "\n",
    "operations = [('scaler',StandardScaler()),('svr',svr)]\n",
    "pipe=Pipeline(operations)\n",
    "\n",
    "svrCV=cross_val_score(pipe,X,y,cv=5,scoring='r2').mean()\n",
    "svrCV"
   ]
  },
  {
   "cell_type": "code",
   "execution_count": 69,
   "metadata": {},
   "outputs": [
    {
     "data": {
      "text/plain": [
       "0.886045388307356"
      ]
     },
     "execution_count": 69,
     "metadata": {},
     "output_type": "execute_result"
    }
   ],
   "source": [
    "operations = [('scaler',StandardScaler()),('sgd',sgd)]\n",
    "pipe=Pipeline(operations)\n",
    "\n",
    "sgdCV=cross_val_score(pipe,X,y,cv=5,scoring='r2').mean()\n",
    "sgdCV"
   ]
  },
  {
   "cell_type": "code",
   "execution_count": 70,
   "metadata": {},
   "outputs": [
    {
     "data": {
      "text/plain": [
       "0.9357311955300013"
      ]
     },
     "execution_count": 70,
     "metadata": {},
     "output_type": "execute_result"
    }
   ],
   "source": [
    "operations = [('scaler',StandardScaler()),('knnr',knnR)]\n",
    "pipe=Pipeline(operations)\n",
    "\n",
    "knnrCV=cross_val_score(pipe,X,y,cv=5,scoring='r2').mean()\n",
    "knnrCV"
   ]
  },
  {
   "cell_type": "code",
   "execution_count": 71,
   "metadata": {},
   "outputs": [],
   "source": [
    "def rmseValue(model,indepen,depend):\n",
    "    y_pred=model.predict(indepen)\n",
    "    return np.sqrt(mean_squared_error(y_pred,depend))\n",
    "\n",
    "operations = [('scaler',StandardScaler()),('lr',lr)]\n",
    "pipe=Pipeline(operations)\n",
    "lrCV1=cross_val_score(pipe,X,y,cv=5,scoring=rmseValue).mean()\n",
    "\n",
    "operations = [('scaler',StandardScaler()),('svr',svr)]\n",
    "pipe=Pipeline(operations)\n",
    "svrCV1=cross_val_score(pipe,X,y,cv=5,scoring=rmseValue).mean()\n",
    "\n",
    "operations = [('scaler',StandardScaler()),('SGD',sgd)]\n",
    "pipe=Pipeline(operations)\n",
    "sgdCV1=cross_val_score(pipe,X,y,cv=5,scoring=rmseValue).mean()\n",
    "\n",
    "operations = [('scaler',StandardScaler()),('knnr',knnR)]\n",
    "pipe=Pipeline(operations)\n",
    "knnrCV1=cross_val_score(pipe,X,y,cv=5,scoring=rmseValue).mean()\n"
   ]
  },
  {
   "cell_type": "markdown",
   "metadata": {},
   "source": [
    "### Comparing r2 scores for normal model and cross val score"
   ]
  },
  {
   "cell_type": "code",
   "execution_count": 72,
   "metadata": {},
   "outputs": [
    {
     "name": "stdout",
     "output_type": "stream",
     "text": [
      "0.03938050977880547\n",
      "0.02087163133945613\n",
      "0.03821428864350429\n",
      "0.008787971251380311\n"
     ]
    }
   ],
   "source": [
    "print(lrR2-lrCV)\n",
    "print(svrR2-svrCV)\n",
    "print(sgdR2-sgdCV)\n",
    "print(knnR2-knnrCV)"
   ]
  },
  {
   "cell_type": "markdown",
   "metadata": {},
   "source": [
    "KNN Regression Vector Regressor is the best method, as the difference between r2Score for cross val score and normal model r2Score is less (0.008787971251380311)"
   ]
  },
  {
   "cell_type": "code",
   "execution_count": 73,
   "metadata": {},
   "outputs": [
    {
     "name": "stdout",
     "output_type": "stream",
     "text": [
      "-0.3806077649899431\n",
      "-0.20400424937713635\n",
      "-0.3725630224356067\n",
      "-0.1238213530107597\n"
     ]
    }
   ],
   "source": [
    "print(lrRMSE-lrCV1)\n",
    "print(svrRMSE-svrCV1)\n",
    "print(sgdRMSE-sgdCV1)\n",
    "print(knnrRMSE-knnrCV1)"
   ]
  },
  {
   "cell_type": "markdown",
   "metadata": {},
   "source": []
  },
  {
   "cell_type": "markdown",
   "metadata": {},
   "source": [
    "## Hyper Parameter Tuning using a pipeline for KNNR"
   ]
  },
  {
   "cell_type": "code",
   "execution_count": 74,
   "metadata": {},
   "outputs": [
    {
     "name": "stdout",
     "output_type": "stream",
     "text": [
      "Help on KNeighborsRegressor in module sklearn.neighbors._regression object:\n",
      "\n",
      "class KNeighborsRegressor(sklearn.neighbors._base.KNeighborsMixin, sklearn.base.RegressorMixin, sklearn.neighbors._base.NeighborsBase)\n",
      " |  KNeighborsRegressor(n_neighbors=5, *, weights='uniform', algorithm='auto', leaf_size=30, p=2, metric='minkowski', metric_params=None, n_jobs=None, **kwargs)\n",
      " |  \n",
      " |  Regression based on k-nearest neighbors.\n",
      " |  \n",
      " |  The target is predicted by local interpolation of the targets\n",
      " |  associated of the nearest neighbors in the training set.\n",
      " |  \n",
      " |  Read more in the :ref:`User Guide <regression>`.\n",
      " |  \n",
      " |  .. versionadded:: 0.9\n",
      " |  \n",
      " |  Parameters\n",
      " |  ----------\n",
      " |  n_neighbors : int, default=5\n",
      " |      Number of neighbors to use by default for :meth:`kneighbors` queries.\n",
      " |  \n",
      " |  weights : {'uniform', 'distance'} or callable, default='uniform'\n",
      " |      weight function used in prediction.  Possible values:\n",
      " |  \n",
      " |      - 'uniform' : uniform weights.  All points in each neighborhood\n",
      " |        are weighted equally.\n",
      " |      - 'distance' : weight points by the inverse of their distance.\n",
      " |        in this case, closer neighbors of a query point will have a\n",
      " |        greater influence than neighbors which are further away.\n",
      " |      - [callable] : a user-defined function which accepts an\n",
      " |        array of distances, and returns an array of the same shape\n",
      " |        containing the weights.\n",
      " |  \n",
      " |      Uniform weights are used by default.\n",
      " |  \n",
      " |  algorithm : {'auto', 'ball_tree', 'kd_tree', 'brute'}, default='auto'\n",
      " |      Algorithm used to compute the nearest neighbors:\n",
      " |  \n",
      " |      - 'ball_tree' will use :class:`BallTree`\n",
      " |      - 'kd_tree' will use :class:`KDTree`\n",
      " |      - 'brute' will use a brute-force search.\n",
      " |      - 'auto' will attempt to decide the most appropriate algorithm\n",
      " |        based on the values passed to :meth:`fit` method.\n",
      " |  \n",
      " |      Note: fitting on sparse input will override the setting of\n",
      " |      this parameter, using brute force.\n",
      " |  \n",
      " |  leaf_size : int, default=30\n",
      " |      Leaf size passed to BallTree or KDTree.  This can affect the\n",
      " |      speed of the construction and query, as well as the memory\n",
      " |      required to store the tree.  The optimal value depends on the\n",
      " |      nature of the problem.\n",
      " |  \n",
      " |  p : int, default=2\n",
      " |      Power parameter for the Minkowski metric. When p = 1, this is\n",
      " |      equivalent to using manhattan_distance (l1), and euclidean_distance\n",
      " |      (l2) for p = 2. For arbitrary p, minkowski_distance (l_p) is used.\n",
      " |  \n",
      " |  metric : str or callable, default='minkowski'\n",
      " |      the distance metric to use for the tree.  The default metric is\n",
      " |      minkowski, and with p=2 is equivalent to the standard Euclidean\n",
      " |      metric. See the documentation of :class:`DistanceMetric` for a\n",
      " |      list of available metrics.\n",
      " |      If metric is \"precomputed\", X is assumed to be a distance matrix and\n",
      " |      must be square during fit. X may be a :term:`sparse graph`,\n",
      " |      in which case only \"nonzero\" elements may be considered neighbors.\n",
      " |  \n",
      " |  metric_params : dict, default=None\n",
      " |      Additional keyword arguments for the metric function.\n",
      " |  \n",
      " |  n_jobs : int, default=None\n",
      " |      The number of parallel jobs to run for neighbors search.\n",
      " |      ``None`` means 1 unless in a :obj:`joblib.parallel_backend` context.\n",
      " |      ``-1`` means using all processors. See :term:`Glossary <n_jobs>`\n",
      " |      for more details.\n",
      " |      Doesn't affect :meth:`fit` method.\n",
      " |  \n",
      " |  Attributes\n",
      " |  ----------\n",
      " |  effective_metric_ : str or callable\n",
      " |      The distance metric to use. It will be same as the `metric` parameter\n",
      " |      or a synonym of it, e.g. 'euclidean' if the `metric` parameter set to\n",
      " |      'minkowski' and `p` parameter set to 2.\n",
      " |  \n",
      " |  effective_metric_params_ : dict\n",
      " |      Additional keyword arguments for the metric function. For most metrics\n",
      " |      will be same with `metric_params` parameter, but may also contain the\n",
      " |      `p` parameter value if the `effective_metric_` attribute is set to\n",
      " |      'minkowski'.\n",
      " |  \n",
      " |  n_samples_fit_ : int\n",
      " |      Number of samples in the fitted data.\n",
      " |  \n",
      " |  Examples\n",
      " |  --------\n",
      " |  >>> X = [[0], [1], [2], [3]]\n",
      " |  >>> y = [0, 0, 1, 1]\n",
      " |  >>> from sklearn.neighbors import KNeighborsRegressor\n",
      " |  >>> neigh = KNeighborsRegressor(n_neighbors=2)\n",
      " |  >>> neigh.fit(X, y)\n",
      " |  KNeighborsRegressor(...)\n",
      " |  >>> print(neigh.predict([[1.5]]))\n",
      " |  [0.5]\n",
      " |  \n",
      " |  See Also\n",
      " |  --------\n",
      " |  NearestNeighbors\n",
      " |  RadiusNeighborsRegressor\n",
      " |  KNeighborsClassifier\n",
      " |  RadiusNeighborsClassifier\n",
      " |  \n",
      " |  Notes\n",
      " |  -----\n",
      " |  See :ref:`Nearest Neighbors <neighbors>` in the online documentation\n",
      " |  for a discussion of the choice of ``algorithm`` and ``leaf_size``.\n",
      " |  \n",
      " |  .. warning::\n",
      " |  \n",
      " |     Regarding the Nearest Neighbors algorithms, if it is found that two\n",
      " |     neighbors, neighbor `k+1` and `k`, have identical distances but\n",
      " |     different labels, the results will depend on the ordering of the\n",
      " |     training data.\n",
      " |  \n",
      " |  https://en.wikipedia.org/wiki/K-nearest_neighbor_algorithm\n",
      " |  \n",
      " |  Method resolution order:\n",
      " |      KNeighborsRegressor\n",
      " |      sklearn.neighbors._base.KNeighborsMixin\n",
      " |      sklearn.base.RegressorMixin\n",
      " |      sklearn.neighbors._base.NeighborsBase\n",
      " |      sklearn.base.MultiOutputMixin\n",
      " |      sklearn.base.BaseEstimator\n",
      " |      builtins.object\n",
      " |  \n",
      " |  Methods defined here:\n",
      " |  \n",
      " |  __init__(self, n_neighbors=5, *, weights='uniform', algorithm='auto', leaf_size=30, p=2, metric='minkowski', metric_params=None, n_jobs=None, **kwargs)\n",
      " |      Initialize self.  See help(type(self)) for accurate signature.\n",
      " |  \n",
      " |  fit(self, X, y)\n",
      " |      Fit the k-nearest neighbors regressor from the training dataset.\n",
      " |      \n",
      " |      Parameters\n",
      " |      ----------\n",
      " |      X : {array-like, sparse matrix} of shape (n_samples, n_features) or                 (n_samples, n_samples) if metric='precomputed'\n",
      " |          Training data.\n",
      " |      \n",
      " |      y : {array-like, sparse matrix} of shape (n_samples,) or                 (n_samples, n_outputs)\n",
      " |          Target values.\n",
      " |      \n",
      " |      Returns\n",
      " |      -------\n",
      " |      self : KNeighborsRegressor\n",
      " |          The fitted k-nearest neighbors regressor.\n",
      " |  \n",
      " |  predict(self, X)\n",
      " |      Predict the target for the provided data\n",
      " |      \n",
      " |      Parameters\n",
      " |      ----------\n",
      " |      X : array-like of shape (n_queries, n_features),                 or (n_queries, n_indexed) if metric == 'precomputed'\n",
      " |          Test samples.\n",
      " |      \n",
      " |      Returns\n",
      " |      -------\n",
      " |      y : ndarray of shape (n_queries,) or (n_queries, n_outputs), dtype=int\n",
      " |          Target values.\n",
      " |  \n",
      " |  ----------------------------------------------------------------------\n",
      " |  Data and other attributes defined here:\n",
      " |  \n",
      " |  __abstractmethods__ = frozenset()\n",
      " |  \n",
      " |  ----------------------------------------------------------------------\n",
      " |  Methods inherited from sklearn.neighbors._base.KNeighborsMixin:\n",
      " |  \n",
      " |  kneighbors(self, X=None, n_neighbors=None, return_distance=True)\n",
      " |      Finds the K-neighbors of a point.\n",
      " |      \n",
      " |      Returns indices of and distances to the neighbors of each point.\n",
      " |      \n",
      " |      Parameters\n",
      " |      ----------\n",
      " |      X : array-like, shape (n_queries, n_features),             or (n_queries, n_indexed) if metric == 'precomputed',                 default=None\n",
      " |          The query point or points.\n",
      " |          If not provided, neighbors of each indexed point are returned.\n",
      " |          In this case, the query point is not considered its own neighbor.\n",
      " |      \n",
      " |      n_neighbors : int, default=None\n",
      " |          Number of neighbors required for each sample. The default is the\n",
      " |          value passed to the constructor.\n",
      " |      \n",
      " |      return_distance : bool, default=True\n",
      " |          Whether or not to return the distances.\n",
      " |      \n",
      " |      Returns\n",
      " |      -------\n",
      " |      neigh_dist : ndarray of shape (n_queries, n_neighbors)\n",
      " |          Array representing the lengths to points, only present if\n",
      " |          return_distance=True\n",
      " |      \n",
      " |      neigh_ind : ndarray of shape (n_queries, n_neighbors)\n",
      " |          Indices of the nearest points in the population matrix.\n",
      " |      \n",
      " |      Examples\n",
      " |      --------\n",
      " |      In the following example, we construct a NearestNeighbors\n",
      " |      class from an array representing our data set and ask who's\n",
      " |      the closest point to [1,1,1]\n",
      " |      \n",
      " |      >>> samples = [[0., 0., 0.], [0., .5, 0.], [1., 1., .5]]\n",
      " |      >>> from sklearn.neighbors import NearestNeighbors\n",
      " |      >>> neigh = NearestNeighbors(n_neighbors=1)\n",
      " |      >>> neigh.fit(samples)\n",
      " |      NearestNeighbors(n_neighbors=1)\n",
      " |      >>> print(neigh.kneighbors([[1., 1., 1.]]))\n",
      " |      (array([[0.5]]), array([[2]]))\n",
      " |      \n",
      " |      As you can see, it returns [[0.5]], and [[2]], which means that the\n",
      " |      element is at distance 0.5 and is the third element of samples\n",
      " |      (indexes start at 0). You can also query for multiple points:\n",
      " |      \n",
      " |      >>> X = [[0., 1., 0.], [1., 0., 1.]]\n",
      " |      >>> neigh.kneighbors(X, return_distance=False)\n",
      " |      array([[1],\n",
      " |             [2]]...)\n",
      " |  \n",
      " |  kneighbors_graph(self, X=None, n_neighbors=None, mode='connectivity')\n",
      " |      Computes the (weighted) graph of k-Neighbors for points in X\n",
      " |      \n",
      " |      Parameters\n",
      " |      ----------\n",
      " |      X : array-like of shape (n_queries, n_features),                 or (n_queries, n_indexed) if metric == 'precomputed',                 default=None\n",
      " |          The query point or points.\n",
      " |          If not provided, neighbors of each indexed point are returned.\n",
      " |          In this case, the query point is not considered its own neighbor.\n",
      " |          For ``metric='precomputed'`` the shape should be\n",
      " |          (n_queries, n_indexed). Otherwise the shape should be\n",
      " |          (n_queries, n_features).\n",
      " |      \n",
      " |      n_neighbors : int, default=None\n",
      " |          Number of neighbors for each sample. The default is the value\n",
      " |          passed to the constructor.\n",
      " |      \n",
      " |      mode : {'connectivity', 'distance'}, default='connectivity'\n",
      " |          Type of returned matrix: 'connectivity' will return the\n",
      " |          connectivity matrix with ones and zeros, in 'distance' the\n",
      " |          edges are Euclidean distance between points.\n",
      " |      \n",
      " |      Returns\n",
      " |      -------\n",
      " |      A : sparse-matrix of shape (n_queries, n_samples_fit)\n",
      " |          `n_samples_fit` is the number of samples in the fitted data\n",
      " |          `A[i, j]` is assigned the weight of edge that connects `i` to `j`.\n",
      " |          The matrix is of CSR format.\n",
      " |      \n",
      " |      Examples\n",
      " |      --------\n",
      " |      >>> X = [[0], [3], [1]]\n",
      " |      >>> from sklearn.neighbors import NearestNeighbors\n",
      " |      >>> neigh = NearestNeighbors(n_neighbors=2)\n",
      " |      >>> neigh.fit(X)\n",
      " |      NearestNeighbors(n_neighbors=2)\n",
      " |      >>> A = neigh.kneighbors_graph(X)\n",
      " |      >>> A.toarray()\n",
      " |      array([[1., 0., 1.],\n",
      " |             [0., 1., 1.],\n",
      " |             [1., 0., 1.]])\n",
      " |      \n",
      " |      See Also\n",
      " |      --------\n",
      " |      NearestNeighbors.radius_neighbors_graph\n",
      " |  \n",
      " |  ----------------------------------------------------------------------\n",
      " |  Data descriptors inherited from sklearn.neighbors._base.KNeighborsMixin:\n",
      " |  \n",
      " |  __dict__\n",
      " |      dictionary for instance variables (if defined)\n",
      " |  \n",
      " |  __weakref__\n",
      " |      list of weak references to the object (if defined)\n",
      " |  \n",
      " |  ----------------------------------------------------------------------\n",
      " |  Methods inherited from sklearn.base.RegressorMixin:\n",
      " |  \n",
      " |  score(self, X, y, sample_weight=None)\n",
      " |      Return the coefficient of determination :math:`R^2` of the\n",
      " |      prediction.\n",
      " |      \n",
      " |      The coefficient :math:`R^2` is defined as :math:`(1 - \\frac{u}{v})`,\n",
      " |      where :math:`u` is the residual sum of squares ``((y_true - y_pred)\n",
      " |      ** 2).sum()`` and :math:`v` is the total sum of squares ``((y_true -\n",
      " |      y_true.mean()) ** 2).sum()``. The best possible score is 1.0 and it\n",
      " |      can be negative (because the model can be arbitrarily worse). A\n",
      " |      constant model that always predicts the expected value of `y`,\n",
      " |      disregarding the input features, would get a :math:`R^2` score of\n",
      " |      0.0.\n",
      " |      \n",
      " |      Parameters\n",
      " |      ----------\n",
      " |      X : array-like of shape (n_samples, n_features)\n",
      " |          Test samples. For some estimators this may be a precomputed\n",
      " |          kernel matrix or a list of generic objects instead with shape\n",
      " |          ``(n_samples, n_samples_fitted)``, where ``n_samples_fitted``\n",
      " |          is the number of samples used in the fitting for the estimator.\n",
      " |      \n",
      " |      y : array-like of shape (n_samples,) or (n_samples, n_outputs)\n",
      " |          True values for `X`.\n",
      " |      \n",
      " |      sample_weight : array-like of shape (n_samples,), default=None\n",
      " |          Sample weights.\n",
      " |      \n",
      " |      Returns\n",
      " |      -------\n",
      " |      score : float\n",
      " |          :math:`R^2` of ``self.predict(X)`` wrt. `y`.\n",
      " |      \n",
      " |      Notes\n",
      " |      -----\n",
      " |      The :math:`R^2` score used when calling ``score`` on a regressor uses\n",
      " |      ``multioutput='uniform_average'`` from version 0.23 to keep consistent\n",
      " |      with default value of :func:`~sklearn.metrics.r2_score`.\n",
      " |      This influences the ``score`` method of all the multioutput\n",
      " |      regressors (except for\n",
      " |      :class:`~sklearn.multioutput.MultiOutputRegressor`).\n",
      " |  \n",
      " |  ----------------------------------------------------------------------\n",
      " |  Methods inherited from sklearn.base.BaseEstimator:\n",
      " |  \n",
      " |  __getstate__(self)\n",
      " |  \n",
      " |  __repr__(self, N_CHAR_MAX=700)\n",
      " |      Return repr(self).\n",
      " |  \n",
      " |  __setstate__(self, state)\n",
      " |  \n",
      " |  get_params(self, deep=True)\n",
      " |      Get parameters for this estimator.\n",
      " |      \n",
      " |      Parameters\n",
      " |      ----------\n",
      " |      deep : bool, default=True\n",
      " |          If True, will return the parameters for this estimator and\n",
      " |          contained subobjects that are estimators.\n",
      " |      \n",
      " |      Returns\n",
      " |      -------\n",
      " |      params : dict\n",
      " |          Parameter names mapped to their values.\n",
      " |  \n",
      " |  set_params(self, **params)\n",
      " |      Set the parameters of this estimator.\n",
      " |      \n",
      " |      The method works on simple estimators as well as on nested objects\n",
      " |      (such as :class:`~sklearn.pipeline.Pipeline`). The latter have\n",
      " |      parameters of the form ``<component>__<parameter>`` so that it's\n",
      " |      possible to update each component of a nested object.\n",
      " |      \n",
      " |      Parameters\n",
      " |      ----------\n",
      " |      **params : dict\n",
      " |          Estimator parameters.\n",
      " |      \n",
      " |      Returns\n",
      " |      -------\n",
      " |      self : estimator instance\n",
      " |          Estimator instance.\n",
      "\n"
     ]
    }
   ],
   "source": [
    "help(knnR)"
   ]
  },
  {
   "cell_type": "code",
   "execution_count": 75,
   "metadata": {},
   "outputs": [],
   "source": [
    "from sklearn.pipeline import make_pipeline\n",
    "from sklearn.preprocessing import StandardScaler\n",
    "from sklearn.svm import SVR\n",
    "from sklearn.pipeline import Pipeline\n",
    "from sklearn.preprocessing import PolynomialFeatures\n",
    "\n"
   ]
  },
  {
   "cell_type": "code",
   "execution_count": null,
   "metadata": {},
   "outputs": [],
   "source": [
    "polynomial_converter = PolynomialFeatures(degree=2,include_bias=False)\n"
   ]
  },
  {
   "cell_type": "code",
   "execution_count": 77,
   "metadata": {},
   "outputs": [],
   "source": [
    "operations = [('poly',PolynomialFeatures()),('scaler',StandardScaler()),('knnR',KNeighborsRegressor())]"
   ]
  },
  {
   "cell_type": "code",
   "execution_count": 78,
   "metadata": {},
   "outputs": [],
   "source": [
    "pipe = Pipeline(operations)"
   ]
  },
  {
   "cell_type": "code",
   "execution_count": null,
   "metadata": {},
   "outputs": [],
   "source": []
  },
  {
   "cell_type": "code",
   "execution_count": 79,
   "metadata": {},
   "outputs": [],
   "source": [
    "param_grid = {'poly__degree':[1,2,3],\n",
    "             'poly__include_bias':[True,False],\n",
    "              'knnR__n_neighbors':[5,6,7],\n",
    "              'knnR__n_jobs':[3]}"
   ]
  },
  {
   "cell_type": "code",
   "execution_count": 80,
   "metadata": {},
   "outputs": [],
   "source": [
    "grid = GridSearchCV(pipe,param_grid,cv=5,scoring='neg_mean_squared_error',verbose=10)"
   ]
  },
  {
   "cell_type": "code",
   "execution_count": 81,
   "metadata": {},
   "outputs": [
    {
     "name": "stdout",
     "output_type": "stream",
     "text": [
      "Help on class GridSearchCV in module sklearn.model_selection._search:\n",
      "\n",
      "class GridSearchCV(BaseSearchCV)\n",
      " |  GridSearchCV(estimator, param_grid, *, scoring=None, n_jobs=None, refit=True, cv=None, verbose=0, pre_dispatch='2*n_jobs', error_score=nan, return_train_score=False)\n",
      " |  \n",
      " |  Exhaustive search over specified parameter values for an estimator.\n",
      " |  \n",
      " |  Important members are fit, predict.\n",
      " |  \n",
      " |  GridSearchCV implements a \"fit\" and a \"score\" method.\n",
      " |  It also implements \"score_samples\", \"predict\", \"predict_proba\",\n",
      " |  \"decision_function\", \"transform\" and \"inverse_transform\" if they are\n",
      " |  implemented in the estimator used.\n",
      " |  \n",
      " |  The parameters of the estimator used to apply these methods are optimized\n",
      " |  by cross-validated grid-search over a parameter grid.\n",
      " |  \n",
      " |  Read more in the :ref:`User Guide <grid_search>`.\n",
      " |  \n",
      " |  Parameters\n",
      " |  ----------\n",
      " |  estimator : estimator object.\n",
      " |      This is assumed to implement the scikit-learn estimator interface.\n",
      " |      Either estimator needs to provide a ``score`` function,\n",
      " |      or ``scoring`` must be passed.\n",
      " |  \n",
      " |  param_grid : dict or list of dictionaries\n",
      " |      Dictionary with parameters names (`str`) as keys and lists of\n",
      " |      parameter settings to try as values, or a list of such\n",
      " |      dictionaries, in which case the grids spanned by each dictionary\n",
      " |      in the list are explored. This enables searching over any sequence\n",
      " |      of parameter settings.\n",
      " |  \n",
      " |  scoring : str, callable, list, tuple or dict, default=None\n",
      " |      Strategy to evaluate the performance of the cross-validated model on\n",
      " |      the test set.\n",
      " |  \n",
      " |      If `scoring` represents a single score, one can use:\n",
      " |  \n",
      " |      - a single string (see :ref:`scoring_parameter`);\n",
      " |      - a callable (see :ref:`scoring`) that returns a single value.\n",
      " |  \n",
      " |      If `scoring` represents multiple scores, one can use:\n",
      " |  \n",
      " |      - a list or tuple of unique strings;\n",
      " |      - a callable returning a dictionary where the keys are the metric\n",
      " |        names and the values are the metric scores;\n",
      " |      - a dictionary with metric names as keys and callables a values.\n",
      " |  \n",
      " |      See :ref:`multimetric_grid_search` for an example.\n",
      " |  \n",
      " |  n_jobs : int, default=None\n",
      " |      Number of jobs to run in parallel.\n",
      " |      ``None`` means 1 unless in a :obj:`joblib.parallel_backend` context.\n",
      " |      ``-1`` means using all processors. See :term:`Glossary <n_jobs>`\n",
      " |      for more details.\n",
      " |  \n",
      " |      .. versionchanged:: v0.20\n",
      " |         `n_jobs` default changed from 1 to None\n",
      " |  \n",
      " |  refit : bool, str, or callable, default=True\n",
      " |      Refit an estimator using the best found parameters on the whole\n",
      " |      dataset.\n",
      " |  \n",
      " |      For multiple metric evaluation, this needs to be a `str` denoting the\n",
      " |      scorer that would be used to find the best parameters for refitting\n",
      " |      the estimator at the end.\n",
      " |  \n",
      " |      Where there are considerations other than maximum score in\n",
      " |      choosing a best estimator, ``refit`` can be set to a function which\n",
      " |      returns the selected ``best_index_`` given ``cv_results_``. In that\n",
      " |      case, the ``best_estimator_`` and ``best_params_`` will be set\n",
      " |      according to the returned ``best_index_`` while the ``best_score_``\n",
      " |      attribute will not be available.\n",
      " |  \n",
      " |      The refitted estimator is made available at the ``best_estimator_``\n",
      " |      attribute and permits using ``predict`` directly on this\n",
      " |      ``GridSearchCV`` instance.\n",
      " |  \n",
      " |      Also for multiple metric evaluation, the attributes ``best_index_``,\n",
      " |      ``best_score_`` and ``best_params_`` will only be available if\n",
      " |      ``refit`` is set and all of them will be determined w.r.t this specific\n",
      " |      scorer.\n",
      " |  \n",
      " |      See ``scoring`` parameter to know more about multiple metric\n",
      " |      evaluation.\n",
      " |  \n",
      " |      .. versionchanged:: 0.20\n",
      " |          Support for callable added.\n",
      " |  \n",
      " |  cv : int, cross-validation generator or an iterable, default=None\n",
      " |      Determines the cross-validation splitting strategy.\n",
      " |      Possible inputs for cv are:\n",
      " |  \n",
      " |      - None, to use the default 5-fold cross validation,\n",
      " |      - integer, to specify the number of folds in a `(Stratified)KFold`,\n",
      " |      - :term:`CV splitter`,\n",
      " |      - An iterable yielding (train, test) splits as arrays of indices.\n",
      " |  \n",
      " |      For integer/None inputs, if the estimator is a classifier and ``y`` is\n",
      " |      either binary or multiclass, :class:`StratifiedKFold` is used. In all\n",
      " |      other cases, :class:`KFold` is used. These splitters are instantiated\n",
      " |      with `shuffle=False` so the splits will be the same across calls.\n",
      " |  \n",
      " |      Refer :ref:`User Guide <cross_validation>` for the various\n",
      " |      cross-validation strategies that can be used here.\n",
      " |  \n",
      " |      .. versionchanged:: 0.22\n",
      " |          ``cv`` default value if None changed from 3-fold to 5-fold.\n",
      " |  \n",
      " |  verbose : int\n",
      " |      Controls the verbosity: the higher, the more messages.\n",
      " |  \n",
      " |      - >1 : the computation time for each fold and parameter candidate is\n",
      " |        displayed;\n",
      " |      - >2 : the score is also displayed;\n",
      " |      - >3 : the fold and candidate parameter indexes are also displayed\n",
      " |        together with the starting time of the computation.\n",
      " |  \n",
      " |  pre_dispatch : int, or str, default=n_jobs\n",
      " |      Controls the number of jobs that get dispatched during parallel\n",
      " |      execution. Reducing this number can be useful to avoid an\n",
      " |      explosion of memory consumption when more jobs get dispatched\n",
      " |      than CPUs can process. This parameter can be:\n",
      " |  \n",
      " |          - None, in which case all the jobs are immediately\n",
      " |            created and spawned. Use this for lightweight and\n",
      " |            fast-running jobs, to avoid delays due to on-demand\n",
      " |            spawning of the jobs\n",
      " |  \n",
      " |          - An int, giving the exact number of total jobs that are\n",
      " |            spawned\n",
      " |  \n",
      " |          - A str, giving an expression as a function of n_jobs,\n",
      " |            as in '2*n_jobs'\n",
      " |  \n",
      " |  error_score : 'raise' or numeric, default=np.nan\n",
      " |      Value to assign to the score if an error occurs in estimator fitting.\n",
      " |      If set to 'raise', the error is raised. If a numeric value is given,\n",
      " |      FitFailedWarning is raised. This parameter does not affect the refit\n",
      " |      step, which will always raise the error.\n",
      " |  \n",
      " |  return_train_score : bool, default=False\n",
      " |      If ``False``, the ``cv_results_`` attribute will not include training\n",
      " |      scores.\n",
      " |      Computing training scores is used to get insights on how different\n",
      " |      parameter settings impact the overfitting/underfitting trade-off.\n",
      " |      However computing the scores on the training set can be computationally\n",
      " |      expensive and is not strictly required to select the parameters that\n",
      " |      yield the best generalization performance.\n",
      " |  \n",
      " |      .. versionadded:: 0.19\n",
      " |  \n",
      " |      .. versionchanged:: 0.21\n",
      " |          Default value was changed from ``True`` to ``False``\n",
      " |  \n",
      " |  \n",
      " |  Examples\n",
      " |  --------\n",
      " |  >>> from sklearn import svm, datasets\n",
      " |  >>> from sklearn.model_selection import GridSearchCV\n",
      " |  >>> iris = datasets.load_iris()\n",
      " |  >>> parameters = {'kernel':('linear', 'rbf'), 'C':[1, 10]}\n",
      " |  >>> svc = svm.SVC()\n",
      " |  >>> clf = GridSearchCV(svc, parameters)\n",
      " |  >>> clf.fit(iris.data, iris.target)\n",
      " |  GridSearchCV(estimator=SVC(),\n",
      " |               param_grid={'C': [1, 10], 'kernel': ('linear', 'rbf')})\n",
      " |  >>> sorted(clf.cv_results_.keys())\n",
      " |  ['mean_fit_time', 'mean_score_time', 'mean_test_score',...\n",
      " |   'param_C', 'param_kernel', 'params',...\n",
      " |   'rank_test_score', 'split0_test_score',...\n",
      " |   'split2_test_score', ...\n",
      " |   'std_fit_time', 'std_score_time', 'std_test_score']\n",
      " |  \n",
      " |  Attributes\n",
      " |  ----------\n",
      " |  cv_results_ : dict of numpy (masked) ndarrays\n",
      " |      A dict with keys as column headers and values as columns, that can be\n",
      " |      imported into a pandas ``DataFrame``.\n",
      " |  \n",
      " |      For instance the below given table\n",
      " |  \n",
      " |      +------------+-----------+------------+-----------------+---+---------+\n",
      " |      |param_kernel|param_gamma|param_degree|split0_test_score|...|rank_t...|\n",
      " |      +============+===========+============+=================+===+=========+\n",
      " |      |  'poly'    |     --    |      2     |       0.80      |...|    2    |\n",
      " |      +------------+-----------+------------+-----------------+---+---------+\n",
      " |      |  'poly'    |     --    |      3     |       0.70      |...|    4    |\n",
      " |      +------------+-----------+------------+-----------------+---+---------+\n",
      " |      |  'rbf'     |     0.1   |     --     |       0.80      |...|    3    |\n",
      " |      +------------+-----------+------------+-----------------+---+---------+\n",
      " |      |  'rbf'     |     0.2   |     --     |       0.93      |...|    1    |\n",
      " |      +------------+-----------+------------+-----------------+---+---------+\n",
      " |  \n",
      " |      will be represented by a ``cv_results_`` dict of::\n",
      " |  \n",
      " |          {\n",
      " |          'param_kernel': masked_array(data = ['poly', 'poly', 'rbf', 'rbf'],\n",
      " |                                       mask = [False False False False]...)\n",
      " |          'param_gamma': masked_array(data = [-- -- 0.1 0.2],\n",
      " |                                      mask = [ True  True False False]...),\n",
      " |          'param_degree': masked_array(data = [2.0 3.0 -- --],\n",
      " |                                       mask = [False False  True  True]...),\n",
      " |          'split0_test_score'  : [0.80, 0.70, 0.80, 0.93],\n",
      " |          'split1_test_score'  : [0.82, 0.50, 0.70, 0.78],\n",
      " |          'mean_test_score'    : [0.81, 0.60, 0.75, 0.85],\n",
      " |          'std_test_score'     : [0.01, 0.10, 0.05, 0.08],\n",
      " |          'rank_test_score'    : [2, 4, 3, 1],\n",
      " |          'split0_train_score' : [0.80, 0.92, 0.70, 0.93],\n",
      " |          'split1_train_score' : [0.82, 0.55, 0.70, 0.87],\n",
      " |          'mean_train_score'   : [0.81, 0.74, 0.70, 0.90],\n",
      " |          'std_train_score'    : [0.01, 0.19, 0.00, 0.03],\n",
      " |          'mean_fit_time'      : [0.73, 0.63, 0.43, 0.49],\n",
      " |          'std_fit_time'       : [0.01, 0.02, 0.01, 0.01],\n",
      " |          'mean_score_time'    : [0.01, 0.06, 0.04, 0.04],\n",
      " |          'std_score_time'     : [0.00, 0.00, 0.00, 0.01],\n",
      " |          'params'             : [{'kernel': 'poly', 'degree': 2}, ...],\n",
      " |          }\n",
      " |  \n",
      " |      NOTE\n",
      " |  \n",
      " |      The key ``'params'`` is used to store a list of parameter\n",
      " |      settings dicts for all the parameter candidates.\n",
      " |  \n",
      " |      The ``mean_fit_time``, ``std_fit_time``, ``mean_score_time`` and\n",
      " |      ``std_score_time`` are all in seconds.\n",
      " |  \n",
      " |      For multi-metric evaluation, the scores for all the scorers are\n",
      " |      available in the ``cv_results_`` dict at the keys ending with that\n",
      " |      scorer's name (``'_<scorer_name>'``) instead of ``'_score'`` shown\n",
      " |      above. ('split0_test_precision', 'mean_train_precision' etc.)\n",
      " |  \n",
      " |  best_estimator_ : estimator\n",
      " |      Estimator that was chosen by the search, i.e. estimator\n",
      " |      which gave highest score (or smallest loss if specified)\n",
      " |      on the left out data. Not available if ``refit=False``.\n",
      " |  \n",
      " |      See ``refit`` parameter for more information on allowed values.\n",
      " |  \n",
      " |  best_score_ : float\n",
      " |      Mean cross-validated score of the best_estimator\n",
      " |  \n",
      " |      For multi-metric evaluation, this is present only if ``refit`` is\n",
      " |      specified.\n",
      " |  \n",
      " |      This attribute is not available if ``refit`` is a function.\n",
      " |  \n",
      " |  best_params_ : dict\n",
      " |      Parameter setting that gave the best results on the hold out data.\n",
      " |  \n",
      " |      For multi-metric evaluation, this is present only if ``refit`` is\n",
      " |      specified.\n",
      " |  \n",
      " |  best_index_ : int\n",
      " |      The index (of the ``cv_results_`` arrays) which corresponds to the best\n",
      " |      candidate parameter setting.\n",
      " |  \n",
      " |      The dict at ``search.cv_results_['params'][search.best_index_]`` gives\n",
      " |      the parameter setting for the best model, that gives the highest\n",
      " |      mean score (``search.best_score_``).\n",
      " |  \n",
      " |      For multi-metric evaluation, this is present only if ``refit`` is\n",
      " |      specified.\n",
      " |  \n",
      " |  scorer_ : function or a dict\n",
      " |      Scorer function used on the held out data to choose the best\n",
      " |      parameters for the model.\n",
      " |  \n",
      " |      For multi-metric evaluation, this attribute holds the validated\n",
      " |      ``scoring`` dict which maps the scorer key to the scorer callable.\n",
      " |  \n",
      " |  n_splits_ : int\n",
      " |      The number of cross-validation splits (folds/iterations).\n",
      " |  \n",
      " |  refit_time_ : float\n",
      " |      Seconds used for refitting the best model on the whole dataset.\n",
      " |  \n",
      " |      This is present only if ``refit`` is not False.\n",
      " |  \n",
      " |      .. versionadded:: 0.20\n",
      " |  \n",
      " |  multimetric_ : bool\n",
      " |      Whether or not the scorers compute several metrics.\n",
      " |  \n",
      " |  Notes\n",
      " |  -----\n",
      " |  The parameters selected are those that maximize the score of the left out\n",
      " |  data, unless an explicit score is passed in which case it is used instead.\n",
      " |  \n",
      " |  If `n_jobs` was set to a value higher than one, the data is copied for each\n",
      " |  point in the grid (and not `n_jobs` times). This is done for efficiency\n",
      " |  reasons if individual jobs take very little time, but may raise errors if\n",
      " |  the dataset is large and not enough memory is available.  A workaround in\n",
      " |  this case is to set `pre_dispatch`. Then, the memory is copied only\n",
      " |  `pre_dispatch` many times. A reasonable value for `pre_dispatch` is `2 *\n",
      " |  n_jobs`.\n",
      " |  \n",
      " |  See Also\n",
      " |  ---------\n",
      " |  ParameterGrid : Generates all the combinations of a hyperparameter grid.\n",
      " |  train_test_split : Utility function to split the data into a development\n",
      " |      set usable for fitting a GridSearchCV instance and an evaluation set\n",
      " |      for its final evaluation.\n",
      " |  sklearn.metrics.make_scorer : Make a scorer from a performance metric or\n",
      " |      loss function.\n",
      " |  \n",
      " |  Method resolution order:\n",
      " |      GridSearchCV\n",
      " |      BaseSearchCV\n",
      " |      sklearn.base.MetaEstimatorMixin\n",
      " |      sklearn.base.BaseEstimator\n",
      " |      builtins.object\n",
      " |  \n",
      " |  Methods defined here:\n",
      " |  \n",
      " |  __init__(self, estimator, param_grid, *, scoring=None, n_jobs=None, refit=True, cv=None, verbose=0, pre_dispatch='2*n_jobs', error_score=nan, return_train_score=False)\n",
      " |      Initialize self.  See help(type(self)) for accurate signature.\n",
      " |  \n",
      " |  ----------------------------------------------------------------------\n",
      " |  Data and other attributes defined here:\n",
      " |  \n",
      " |  __abstractmethods__ = frozenset()\n",
      " |  \n",
      " |  ----------------------------------------------------------------------\n",
      " |  Methods inherited from BaseSearchCV:\n",
      " |  \n",
      " |  decision_function(self, X)\n",
      " |      Call decision_function on the estimator with the best found parameters.\n",
      " |      \n",
      " |      Only available if ``refit=True`` and the underlying estimator supports\n",
      " |      ``decision_function``.\n",
      " |      \n",
      " |      Parameters\n",
      " |      ----------\n",
      " |      X : indexable, length n_samples\n",
      " |          Must fulfill the input assumptions of the\n",
      " |          underlying estimator.\n",
      " |  \n",
      " |  fit(self, X, y=None, *, groups=None, **fit_params)\n",
      " |      Run fit with all sets of parameters.\n",
      " |      \n",
      " |      Parameters\n",
      " |      ----------\n",
      " |      \n",
      " |      X : array-like of shape (n_samples, n_features)\n",
      " |          Training vector, where n_samples is the number of samples and\n",
      " |          n_features is the number of features.\n",
      " |      \n",
      " |      y : array-like of shape (n_samples, n_output)             or (n_samples,), default=None\n",
      " |          Target relative to X for classification or regression;\n",
      " |          None for unsupervised learning.\n",
      " |      \n",
      " |      groups : array-like of shape (n_samples,), default=None\n",
      " |          Group labels for the samples used while splitting the dataset into\n",
      " |          train/test set. Only used in conjunction with a \"Group\" :term:`cv`\n",
      " |          instance (e.g., :class:`~sklearn.model_selection.GroupKFold`).\n",
      " |      \n",
      " |      **fit_params : dict of str -> object\n",
      " |          Parameters passed to the ``fit`` method of the estimator\n",
      " |  \n",
      " |  inverse_transform(self, Xt)\n",
      " |      Call inverse_transform on the estimator with the best found params.\n",
      " |      \n",
      " |      Only available if the underlying estimator implements\n",
      " |      ``inverse_transform`` and ``refit=True``.\n",
      " |      \n",
      " |      Parameters\n",
      " |      ----------\n",
      " |      Xt : indexable, length n_samples\n",
      " |          Must fulfill the input assumptions of the\n",
      " |          underlying estimator.\n",
      " |  \n",
      " |  predict(self, X)\n",
      " |      Call predict on the estimator with the best found parameters.\n",
      " |      \n",
      " |      Only available if ``refit=True`` and the underlying estimator supports\n",
      " |      ``predict``.\n",
      " |      \n",
      " |      Parameters\n",
      " |      ----------\n",
      " |      X : indexable, length n_samples\n",
      " |          Must fulfill the input assumptions of the\n",
      " |          underlying estimator.\n",
      " |  \n",
      " |  predict_log_proba(self, X)\n",
      " |      Call predict_log_proba on the estimator with the best found parameters.\n",
      " |      \n",
      " |      Only available if ``refit=True`` and the underlying estimator supports\n",
      " |      ``predict_log_proba``.\n",
      " |      \n",
      " |      Parameters\n",
      " |      ----------\n",
      " |      X : indexable, length n_samples\n",
      " |          Must fulfill the input assumptions of the\n",
      " |          underlying estimator.\n",
      " |  \n",
      " |  predict_proba(self, X)\n",
      " |      Call predict_proba on the estimator with the best found parameters.\n",
      " |      \n",
      " |      Only available if ``refit=True`` and the underlying estimator supports\n",
      " |      ``predict_proba``.\n",
      " |      \n",
      " |      Parameters\n",
      " |      ----------\n",
      " |      X : indexable, length n_samples\n",
      " |          Must fulfill the input assumptions of the\n",
      " |          underlying estimator.\n",
      " |  \n",
      " |  score(self, X, y=None)\n",
      " |      Returns the score on the given data, if the estimator has been refit.\n",
      " |      \n",
      " |      This uses the score defined by ``scoring`` where provided, and the\n",
      " |      ``best_estimator_.score`` method otherwise.\n",
      " |      \n",
      " |      Parameters\n",
      " |      ----------\n",
      " |      X : array-like of shape (n_samples, n_features)\n",
      " |          Input data, where n_samples is the number of samples and\n",
      " |          n_features is the number of features.\n",
      " |      \n",
      " |      y : array-like of shape (n_samples, n_output)             or (n_samples,), default=None\n",
      " |          Target relative to X for classification or regression;\n",
      " |          None for unsupervised learning.\n",
      " |      \n",
      " |      Returns\n",
      " |      -------\n",
      " |      score : float\n",
      " |  \n",
      " |  score_samples(self, X)\n",
      " |      Call score_samples on the estimator with the best found parameters.\n",
      " |      \n",
      " |      Only available if ``refit=True`` and the underlying estimator supports\n",
      " |      ``score_samples``.\n",
      " |      \n",
      " |      .. versionadded:: 0.24\n",
      " |      \n",
      " |      Parameters\n",
      " |      ----------\n",
      " |      X : iterable\n",
      " |          Data to predict on. Must fulfill input requirements\n",
      " |          of the underlying estimator.\n",
      " |      \n",
      " |      Returns\n",
      " |      -------\n",
      " |      y_score : ndarray of shape (n_samples,)\n",
      " |  \n",
      " |  transform(self, X)\n",
      " |      Call transform on the estimator with the best found parameters.\n",
      " |      \n",
      " |      Only available if the underlying estimator supports ``transform`` and\n",
      " |      ``refit=True``.\n",
      " |      \n",
      " |      Parameters\n",
      " |      ----------\n",
      " |      X : indexable, length n_samples\n",
      " |          Must fulfill the input assumptions of the\n",
      " |          underlying estimator.\n",
      " |  \n",
      " |  ----------------------------------------------------------------------\n",
      " |  Data descriptors inherited from BaseSearchCV:\n",
      " |  \n",
      " |  classes_\n",
      " |  \n",
      " |  n_features_in_\n",
      " |  \n",
      " |  ----------------------------------------------------------------------\n",
      " |  Data descriptors inherited from sklearn.base.MetaEstimatorMixin:\n",
      " |  \n",
      " |  __dict__\n",
      " |      dictionary for instance variables (if defined)\n",
      " |  \n",
      " |  __weakref__\n",
      " |      list of weak references to the object (if defined)\n",
      " |  \n",
      " |  ----------------------------------------------------------------------\n",
      " |  Methods inherited from sklearn.base.BaseEstimator:\n",
      " |  \n",
      " |  __getstate__(self)\n",
      " |  \n",
      " |  __repr__(self, N_CHAR_MAX=700)\n",
      " |      Return repr(self).\n",
      " |  \n",
      " |  __setstate__(self, state)\n",
      " |  \n",
      " |  get_params(self, deep=True)\n",
      " |      Get parameters for this estimator.\n",
      " |      \n",
      " |      Parameters\n",
      " |      ----------\n",
      " |      deep : bool, default=True\n",
      " |          If True, will return the parameters for this estimator and\n",
      " |          contained subobjects that are estimators.\n",
      " |      \n",
      " |      Returns\n",
      " |      -------\n",
      " |      params : dict\n",
      " |          Parameter names mapped to their values.\n",
      " |  \n",
      " |  set_params(self, **params)\n",
      " |      Set the parameters of this estimator.\n",
      " |      \n",
      " |      The method works on simple estimators as well as on nested objects\n",
      " |      (such as :class:`~sklearn.pipeline.Pipeline`). The latter have\n",
      " |      parameters of the form ``<component>__<parameter>`` so that it's\n",
      " |      possible to update each component of a nested object.\n",
      " |      \n",
      " |      Parameters\n",
      " |      ----------\n",
      " |      **params : dict\n",
      " |          Estimator parameters.\n",
      " |      \n",
      " |      Returns\n",
      " |      -------\n",
      " |      self : estimator instance\n",
      " |          Estimator instance.\n",
      "\n"
     ]
    }
   ],
   "source": [
    "help(GridSearchCV)"
   ]
  },
  {
   "cell_type": "code",
   "execution_count": 82,
   "metadata": {},
   "outputs": [
    {
     "name": "stdout",
     "output_type": "stream",
     "text": [
      "Fitting 5 folds for each of 18 candidates, totalling 90 fits\n",
      "[CV 1/5; 1/18] START knnR__n_jobs=3, knnR__n_neighbors=5, poly__degree=1, poly__include_bias=True\n",
      "[CV 1/5; 1/18] END knnR__n_jobs=3, knnR__n_neighbors=5, poly__degree=1, poly__include_bias=True;, score=-1.474 total time=   8.7s\n",
      "[CV 2/5; 1/18] START knnR__n_jobs=3, knnR__n_neighbors=5, poly__degree=1, poly__include_bias=True\n",
      "[CV 2/5; 1/18] END knnR__n_jobs=3, knnR__n_neighbors=5, poly__degree=1, poly__include_bias=True;, score=-1.279 total time=   0.0s\n",
      "[CV 3/5; 1/18] START knnR__n_jobs=3, knnR__n_neighbors=5, poly__degree=1, poly__include_bias=True\n",
      "[CV 3/5; 1/18] END knnR__n_jobs=3, knnR__n_neighbors=5, poly__degree=1, poly__include_bias=True;, score=-0.862 total time=   0.0s\n",
      "[CV 4/5; 1/18] START knnR__n_jobs=3, knnR__n_neighbors=5, poly__degree=1, poly__include_bias=True\n",
      "[CV 4/5; 1/18] END knnR__n_jobs=3, knnR__n_neighbors=5, poly__degree=1, poly__include_bias=True;, score=-3.686 total time=   0.0s\n",
      "[CV 5/5; 1/18] START knnR__n_jobs=3, knnR__n_neighbors=5, poly__degree=1, poly__include_bias=True\n",
      "[CV 5/5; 1/18] END knnR__n_jobs=3, knnR__n_neighbors=5, poly__degree=1, poly__include_bias=True;, score=-1.472 total time=   0.0s\n",
      "[CV 1/5; 2/18] START knnR__n_jobs=3, knnR__n_neighbors=5, poly__degree=1, poly__include_bias=False\n",
      "[CV 1/5; 2/18] END knnR__n_jobs=3, knnR__n_neighbors=5, poly__degree=1, poly__include_bias=False;, score=-1.474 total time=   0.0s\n",
      "[CV 2/5; 2/18] START knnR__n_jobs=3, knnR__n_neighbors=5, poly__degree=1, poly__include_bias=False\n",
      "[CV 2/5; 2/18] END knnR__n_jobs=3, knnR__n_neighbors=5, poly__degree=1, poly__include_bias=False;, score=-1.279 total time=   0.0s\n",
      "[CV 3/5; 2/18] START knnR__n_jobs=3, knnR__n_neighbors=5, poly__degree=1, poly__include_bias=False\n",
      "[CV 3/5; 2/18] END knnR__n_jobs=3, knnR__n_neighbors=5, poly__degree=1, poly__include_bias=False;, score=-0.862 total time=   0.0s\n",
      "[CV 4/5; 2/18] START knnR__n_jobs=3, knnR__n_neighbors=5, poly__degree=1, poly__include_bias=False\n",
      "[CV 4/5; 2/18] END knnR__n_jobs=3, knnR__n_neighbors=5, poly__degree=1, poly__include_bias=False;, score=-3.686 total time=   0.0s\n",
      "[CV 5/5; 2/18] START knnR__n_jobs=3, knnR__n_neighbors=5, poly__degree=1, poly__include_bias=False\n",
      "[CV 5/5; 2/18] END knnR__n_jobs=3, knnR__n_neighbors=5, poly__degree=1, poly__include_bias=False;, score=-1.472 total time=   0.0s\n",
      "[CV 1/5; 3/18] START knnR__n_jobs=3, knnR__n_neighbors=5, poly__degree=2, poly__include_bias=True\n",
      "[CV 1/5; 3/18] END knnR__n_jobs=3, knnR__n_neighbors=5, poly__degree=2, poly__include_bias=True;, score=-1.910 total time=   0.0s\n",
      "[CV 2/5; 3/18] START knnR__n_jobs=3, knnR__n_neighbors=5, poly__degree=2, poly__include_bias=True\n",
      "[CV 2/5; 3/18] END knnR__n_jobs=3, knnR__n_neighbors=5, poly__degree=2, poly__include_bias=True;, score=-1.453 total time=   0.0s\n",
      "[CV 3/5; 3/18] START knnR__n_jobs=3, knnR__n_neighbors=5, poly__degree=2, poly__include_bias=True\n",
      "[CV 3/5; 3/18] END knnR__n_jobs=3, knnR__n_neighbors=5, poly__degree=2, poly__include_bias=True;, score=-0.918 total time=   0.0s\n",
      "[CV 4/5; 3/18] START knnR__n_jobs=3, knnR__n_neighbors=5, poly__degree=2, poly__include_bias=True\n",
      "[CV 4/5; 3/18] END knnR__n_jobs=3, knnR__n_neighbors=5, poly__degree=2, poly__include_bias=True;, score=-3.310 total time=   0.0s\n",
      "[CV 5/5; 3/18] START knnR__n_jobs=3, knnR__n_neighbors=5, poly__degree=2, poly__include_bias=True\n",
      "[CV 5/5; 3/18] END knnR__n_jobs=3, knnR__n_neighbors=5, poly__degree=2, poly__include_bias=True;, score=-1.269 total time=   0.0s\n",
      "[CV 1/5; 4/18] START knnR__n_jobs=3, knnR__n_neighbors=5, poly__degree=2, poly__include_bias=False\n",
      "[CV 1/5; 4/18] END knnR__n_jobs=3, knnR__n_neighbors=5, poly__degree=2, poly__include_bias=False;, score=-1.910 total time=   0.0s\n",
      "[CV 2/5; 4/18] START knnR__n_jobs=3, knnR__n_neighbors=5, poly__degree=2, poly__include_bias=False\n",
      "[CV 2/5; 4/18] END knnR__n_jobs=3, knnR__n_neighbors=5, poly__degree=2, poly__include_bias=False;, score=-1.453 total time=   0.0s\n",
      "[CV 3/5; 4/18] START knnR__n_jobs=3, knnR__n_neighbors=5, poly__degree=2, poly__include_bias=False\n",
      "[CV 3/5; 4/18] END knnR__n_jobs=3, knnR__n_neighbors=5, poly__degree=2, poly__include_bias=False;, score=-0.918 total time=   0.0s\n",
      "[CV 4/5; 4/18] START knnR__n_jobs=3, knnR__n_neighbors=5, poly__degree=2, poly__include_bias=False\n",
      "[CV 4/5; 4/18] END knnR__n_jobs=3, knnR__n_neighbors=5, poly__degree=2, poly__include_bias=False;, score=-3.310 total time=   0.0s\n",
      "[CV 5/5; 4/18] START knnR__n_jobs=3, knnR__n_neighbors=5, poly__degree=2, poly__include_bias=False\n",
      "[CV 5/5; 4/18] END knnR__n_jobs=3, knnR__n_neighbors=5, poly__degree=2, poly__include_bias=False;, score=-1.269 total time=   0.0s\n",
      "[CV 1/5; 5/18] START knnR__n_jobs=3, knnR__n_neighbors=5, poly__degree=3, poly__include_bias=True\n",
      "[CV 1/5; 5/18] END knnR__n_jobs=3, knnR__n_neighbors=5, poly__degree=3, poly__include_bias=True;, score=-2.021 total time=   0.3s\n",
      "[CV 2/5; 5/18] START knnR__n_jobs=3, knnR__n_neighbors=5, poly__degree=3, poly__include_bias=True\n",
      "[CV 2/5; 5/18] END knnR__n_jobs=3, knnR__n_neighbors=5, poly__degree=3, poly__include_bias=True;, score=-1.835 total time=   0.0s\n",
      "[CV 3/5; 5/18] START knnR__n_jobs=3, knnR__n_neighbors=5, poly__degree=3, poly__include_bias=True\n",
      "[CV 3/5; 5/18] END knnR__n_jobs=3, knnR__n_neighbors=5, poly__degree=3, poly__include_bias=True;, score=-1.059 total time=   0.0s\n",
      "[CV 4/5; 5/18] START knnR__n_jobs=3, knnR__n_neighbors=5, poly__degree=3, poly__include_bias=True\n",
      "[CV 4/5; 5/18] END knnR__n_jobs=3, knnR__n_neighbors=5, poly__degree=3, poly__include_bias=True;, score=-3.266 total time=   0.0s\n",
      "[CV 5/5; 5/18] START knnR__n_jobs=3, knnR__n_neighbors=5, poly__degree=3, poly__include_bias=True\n",
      "[CV 5/5; 5/18] END knnR__n_jobs=3, knnR__n_neighbors=5, poly__degree=3, poly__include_bias=True;, score=-1.243 total time=   0.0s\n",
      "[CV 1/5; 6/18] START knnR__n_jobs=3, knnR__n_neighbors=5, poly__degree=3, poly__include_bias=False\n",
      "[CV 1/5; 6/18] END knnR__n_jobs=3, knnR__n_neighbors=5, poly__degree=3, poly__include_bias=False;, score=-2.021 total time=   0.0s\n",
      "[CV 2/5; 6/18] START knnR__n_jobs=3, knnR__n_neighbors=5, poly__degree=3, poly__include_bias=False\n",
      "[CV 2/5; 6/18] END knnR__n_jobs=3, knnR__n_neighbors=5, poly__degree=3, poly__include_bias=False;, score=-1.835 total time=   0.0s\n",
      "[CV 3/5; 6/18] START knnR__n_jobs=3, knnR__n_neighbors=5, poly__degree=3, poly__include_bias=False\n",
      "[CV 3/5; 6/18] END knnR__n_jobs=3, knnR__n_neighbors=5, poly__degree=3, poly__include_bias=False;, score=-1.059 total time=   0.0s\n",
      "[CV 4/5; 6/18] START knnR__n_jobs=3, knnR__n_neighbors=5, poly__degree=3, poly__include_bias=False\n",
      "[CV 4/5; 6/18] END knnR__n_jobs=3, knnR__n_neighbors=5, poly__degree=3, poly__include_bias=False;, score=-3.266 total time=   0.0s\n",
      "[CV 5/5; 6/18] START knnR__n_jobs=3, knnR__n_neighbors=5, poly__degree=3, poly__include_bias=False\n",
      "[CV 5/5; 6/18] END knnR__n_jobs=3, knnR__n_neighbors=5, poly__degree=3, poly__include_bias=False;, score=-1.243 total time=   0.0s\n",
      "[CV 1/5; 7/18] START knnR__n_jobs=3, knnR__n_neighbors=6, poly__degree=1, poly__include_bias=True\n",
      "[CV 1/5; 7/18] END knnR__n_jobs=3, knnR__n_neighbors=6, poly__degree=1, poly__include_bias=True;, score=-1.781 total time=   0.0s\n",
      "[CV 2/5; 7/18] START knnR__n_jobs=3, knnR__n_neighbors=6, poly__degree=1, poly__include_bias=True\n",
      "[CV 2/5; 7/18] END knnR__n_jobs=3, knnR__n_neighbors=6, poly__degree=1, poly__include_bias=True;, score=-1.300 total time=   0.0s\n",
      "[CV 3/5; 7/18] START knnR__n_jobs=3, knnR__n_neighbors=6, poly__degree=1, poly__include_bias=True\n",
      "[CV 3/5; 7/18] END knnR__n_jobs=3, knnR__n_neighbors=6, poly__degree=1, poly__include_bias=True;, score=-0.920 total time=   0.0s\n",
      "[CV 4/5; 7/18] START knnR__n_jobs=3, knnR__n_neighbors=6, poly__degree=1, poly__include_bias=True\n",
      "[CV 4/5; 7/18] END knnR__n_jobs=3, knnR__n_neighbors=6, poly__degree=1, poly__include_bias=True;, score=-3.648 total time=   0.0s\n",
      "[CV 5/5; 7/18] START knnR__n_jobs=3, knnR__n_neighbors=6, poly__degree=1, poly__include_bias=True\n",
      "[CV 5/5; 7/18] END knnR__n_jobs=3, knnR__n_neighbors=6, poly__degree=1, poly__include_bias=True;, score=-1.495 total time=   0.0s\n",
      "[CV 1/5; 8/18] START knnR__n_jobs=3, knnR__n_neighbors=6, poly__degree=1, poly__include_bias=False\n",
      "[CV 1/5; 8/18] END knnR__n_jobs=3, knnR__n_neighbors=6, poly__degree=1, poly__include_bias=False;, score=-1.781 total time=   0.0s\n",
      "[CV 2/5; 8/18] START knnR__n_jobs=3, knnR__n_neighbors=6, poly__degree=1, poly__include_bias=False\n",
      "[CV 2/5; 8/18] END knnR__n_jobs=3, knnR__n_neighbors=6, poly__degree=1, poly__include_bias=False;, score=-1.300 total time=   0.0s\n",
      "[CV 3/5; 8/18] START knnR__n_jobs=3, knnR__n_neighbors=6, poly__degree=1, poly__include_bias=False\n",
      "[CV 3/5; 8/18] END knnR__n_jobs=3, knnR__n_neighbors=6, poly__degree=1, poly__include_bias=False;, score=-0.920 total time=   0.0s\n",
      "[CV 4/5; 8/18] START knnR__n_jobs=3, knnR__n_neighbors=6, poly__degree=1, poly__include_bias=False\n",
      "[CV 4/5; 8/18] END knnR__n_jobs=3, knnR__n_neighbors=6, poly__degree=1, poly__include_bias=False;, score=-3.648 total time=   0.0s\n",
      "[CV 5/5; 8/18] START knnR__n_jobs=3, knnR__n_neighbors=6, poly__degree=1, poly__include_bias=False\n",
      "[CV 5/5; 8/18] END knnR__n_jobs=3, knnR__n_neighbors=6, poly__degree=1, poly__include_bias=False;, score=-1.495 total time=   0.0s\n",
      "[CV 1/5; 9/18] START knnR__n_jobs=3, knnR__n_neighbors=6, poly__degree=2, poly__include_bias=True\n",
      "[CV 1/5; 9/18] END knnR__n_jobs=3, knnR__n_neighbors=6, poly__degree=2, poly__include_bias=True;, score=-2.095 total time=   0.0s\n",
      "[CV 2/5; 9/18] START knnR__n_jobs=3, knnR__n_neighbors=6, poly__degree=2, poly__include_bias=True\n",
      "[CV 2/5; 9/18] END knnR__n_jobs=3, knnR__n_neighbors=6, poly__degree=2, poly__include_bias=True;, score=-1.549 total time=   0.0s\n",
      "[CV 3/5; 9/18] START knnR__n_jobs=3, knnR__n_neighbors=6, poly__degree=2, poly__include_bias=True\n"
     ]
    },
    {
     "name": "stdout",
     "output_type": "stream",
     "text": [
      "[CV 3/5; 9/18] END knnR__n_jobs=3, knnR__n_neighbors=6, poly__degree=2, poly__include_bias=True;, score=-0.952 total time=   0.0s\n",
      "[CV 4/5; 9/18] START knnR__n_jobs=3, knnR__n_neighbors=6, poly__degree=2, poly__include_bias=True\n",
      "[CV 4/5; 9/18] END knnR__n_jobs=3, knnR__n_neighbors=6, poly__degree=2, poly__include_bias=True;, score=-3.877 total time=   0.0s\n",
      "[CV 5/5; 9/18] START knnR__n_jobs=3, knnR__n_neighbors=6, poly__degree=2, poly__include_bias=True\n",
      "[CV 5/5; 9/18] END knnR__n_jobs=3, knnR__n_neighbors=6, poly__degree=2, poly__include_bias=True;, score=-1.248 total time=   0.0s\n",
      "[CV 1/5; 10/18] START knnR__n_jobs=3, knnR__n_neighbors=6, poly__degree=2, poly__include_bias=False\n",
      "[CV 1/5; 10/18] END knnR__n_jobs=3, knnR__n_neighbors=6, poly__degree=2, poly__include_bias=False;, score=-2.095 total time=   0.0s\n",
      "[CV 2/5; 10/18] START knnR__n_jobs=3, knnR__n_neighbors=6, poly__degree=2, poly__include_bias=False\n",
      "[CV 2/5; 10/18] END knnR__n_jobs=3, knnR__n_neighbors=6, poly__degree=2, poly__include_bias=False;, score=-1.549 total time=   0.0s\n",
      "[CV 3/5; 10/18] START knnR__n_jobs=3, knnR__n_neighbors=6, poly__degree=2, poly__include_bias=False\n",
      "[CV 3/5; 10/18] END knnR__n_jobs=3, knnR__n_neighbors=6, poly__degree=2, poly__include_bias=False;, score=-0.952 total time=   0.0s\n",
      "[CV 4/5; 10/18] START knnR__n_jobs=3, knnR__n_neighbors=6, poly__degree=2, poly__include_bias=False\n",
      "[CV 4/5; 10/18] END knnR__n_jobs=3, knnR__n_neighbors=6, poly__degree=2, poly__include_bias=False;, score=-3.877 total time=   0.0s\n",
      "[CV 5/5; 10/18] START knnR__n_jobs=3, knnR__n_neighbors=6, poly__degree=2, poly__include_bias=False\n",
      "[CV 5/5; 10/18] END knnR__n_jobs=3, knnR__n_neighbors=6, poly__degree=2, poly__include_bias=False;, score=-1.248 total time=   0.0s\n",
      "[CV 1/5; 11/18] START knnR__n_jobs=3, knnR__n_neighbors=6, poly__degree=3, poly__include_bias=True\n",
      "[CV 1/5; 11/18] END knnR__n_jobs=3, knnR__n_neighbors=6, poly__degree=3, poly__include_bias=True;, score=-2.354 total time=   0.0s\n",
      "[CV 2/5; 11/18] START knnR__n_jobs=3, knnR__n_neighbors=6, poly__degree=3, poly__include_bias=True\n",
      "[CV 2/5; 11/18] END knnR__n_jobs=3, knnR__n_neighbors=6, poly__degree=3, poly__include_bias=True;, score=-1.956 total time=   0.0s\n",
      "[CV 3/5; 11/18] START knnR__n_jobs=3, knnR__n_neighbors=6, poly__degree=3, poly__include_bias=True\n",
      "[CV 3/5; 11/18] END knnR__n_jobs=3, knnR__n_neighbors=6, poly__degree=3, poly__include_bias=True;, score=-1.320 total time=   0.0s\n",
      "[CV 4/5; 11/18] START knnR__n_jobs=3, knnR__n_neighbors=6, poly__degree=3, poly__include_bias=True\n",
      "[CV 4/5; 11/18] END knnR__n_jobs=3, knnR__n_neighbors=6, poly__degree=3, poly__include_bias=True;, score=-3.787 total time=   0.0s\n",
      "[CV 5/5; 11/18] START knnR__n_jobs=3, knnR__n_neighbors=6, poly__degree=3, poly__include_bias=True\n",
      "[CV 5/5; 11/18] END knnR__n_jobs=3, knnR__n_neighbors=6, poly__degree=3, poly__include_bias=True;, score=-1.334 total time=   0.0s\n",
      "[CV 1/5; 12/18] START knnR__n_jobs=3, knnR__n_neighbors=6, poly__degree=3, poly__include_bias=False\n",
      "[CV 1/5; 12/18] END knnR__n_jobs=3, knnR__n_neighbors=6, poly__degree=3, poly__include_bias=False;, score=-2.354 total time=   0.0s\n",
      "[CV 2/5; 12/18] START knnR__n_jobs=3, knnR__n_neighbors=6, poly__degree=3, poly__include_bias=False\n",
      "[CV 2/5; 12/18] END knnR__n_jobs=3, knnR__n_neighbors=6, poly__degree=3, poly__include_bias=False;, score=-1.956 total time=   0.0s\n",
      "[CV 3/5; 12/18] START knnR__n_jobs=3, knnR__n_neighbors=6, poly__degree=3, poly__include_bias=False\n",
      "[CV 3/5; 12/18] END knnR__n_jobs=3, knnR__n_neighbors=6, poly__degree=3, poly__include_bias=False;, score=-1.320 total time=   0.0s\n",
      "[CV 4/5; 12/18] START knnR__n_jobs=3, knnR__n_neighbors=6, poly__degree=3, poly__include_bias=False\n",
      "[CV 4/5; 12/18] END knnR__n_jobs=3, knnR__n_neighbors=6, poly__degree=3, poly__include_bias=False;, score=-3.787 total time=   0.0s\n",
      "[CV 5/5; 12/18] START knnR__n_jobs=3, knnR__n_neighbors=6, poly__degree=3, poly__include_bias=False\n",
      "[CV 5/5; 12/18] END knnR__n_jobs=3, knnR__n_neighbors=6, poly__degree=3, poly__include_bias=False;, score=-1.334 total time=   0.0s\n",
      "[CV 1/5; 13/18] START knnR__n_jobs=3, knnR__n_neighbors=7, poly__degree=1, poly__include_bias=True\n",
      "[CV 1/5; 13/18] END knnR__n_jobs=3, knnR__n_neighbors=7, poly__degree=1, poly__include_bias=True;, score=-1.907 total time=   0.0s\n",
      "[CV 2/5; 13/18] START knnR__n_jobs=3, knnR__n_neighbors=7, poly__degree=1, poly__include_bias=True\n",
      "[CV 2/5; 13/18] END knnR__n_jobs=3, knnR__n_neighbors=7, poly__degree=1, poly__include_bias=True;, score=-1.524 total time=   0.0s\n",
      "[CV 3/5; 13/18] START knnR__n_jobs=3, knnR__n_neighbors=7, poly__degree=1, poly__include_bias=True\n",
      "[CV 3/5; 13/18] END knnR__n_jobs=3, knnR__n_neighbors=7, poly__degree=1, poly__include_bias=True;, score=-1.161 total time=   0.0s\n",
      "[CV 4/5; 13/18] START knnR__n_jobs=3, knnR__n_neighbors=7, poly__degree=1, poly__include_bias=True\n",
      "[CV 4/5; 13/18] END knnR__n_jobs=3, knnR__n_neighbors=7, poly__degree=1, poly__include_bias=True;, score=-3.748 total time=   0.0s\n",
      "[CV 5/5; 13/18] START knnR__n_jobs=3, knnR__n_neighbors=7, poly__degree=1, poly__include_bias=True\n",
      "[CV 5/5; 13/18] END knnR__n_jobs=3, knnR__n_neighbors=7, poly__degree=1, poly__include_bias=True;, score=-1.450 total time=   0.0s\n",
      "[CV 1/5; 14/18] START knnR__n_jobs=3, knnR__n_neighbors=7, poly__degree=1, poly__include_bias=False\n",
      "[CV 1/5; 14/18] END knnR__n_jobs=3, knnR__n_neighbors=7, poly__degree=1, poly__include_bias=False;, score=-1.907 total time=   0.0s\n",
      "[CV 2/5; 14/18] START knnR__n_jobs=3, knnR__n_neighbors=7, poly__degree=1, poly__include_bias=False\n",
      "[CV 2/5; 14/18] END knnR__n_jobs=3, knnR__n_neighbors=7, poly__degree=1, poly__include_bias=False;, score=-1.524 total time=   0.0s\n",
      "[CV 3/5; 14/18] START knnR__n_jobs=3, knnR__n_neighbors=7, poly__degree=1, poly__include_bias=False\n",
      "[CV 3/5; 14/18] END knnR__n_jobs=3, knnR__n_neighbors=7, poly__degree=1, poly__include_bias=False;, score=-1.161 total time=   0.0s\n",
      "[CV 4/5; 14/18] START knnR__n_jobs=3, knnR__n_neighbors=7, poly__degree=1, poly__include_bias=False\n",
      "[CV 4/5; 14/18] END knnR__n_jobs=3, knnR__n_neighbors=7, poly__degree=1, poly__include_bias=False;, score=-3.748 total time=   0.0s\n",
      "[CV 5/5; 14/18] START knnR__n_jobs=3, knnR__n_neighbors=7, poly__degree=1, poly__include_bias=False\n",
      "[CV 5/5; 14/18] END knnR__n_jobs=3, knnR__n_neighbors=7, poly__degree=1, poly__include_bias=False;, score=-1.450 total time=   0.0s\n",
      "[CV 1/5; 15/18] START knnR__n_jobs=3, knnR__n_neighbors=7, poly__degree=2, poly__include_bias=True\n",
      "[CV 1/5; 15/18] END knnR__n_jobs=3, knnR__n_neighbors=7, poly__degree=2, poly__include_bias=True;, score=-2.013 total time=   0.0s\n",
      "[CV 2/5; 15/18] START knnR__n_jobs=3, knnR__n_neighbors=7, poly__degree=2, poly__include_bias=True\n",
      "[CV 2/5; 15/18] END knnR__n_jobs=3, knnR__n_neighbors=7, poly__degree=2, poly__include_bias=True;, score=-1.492 total time=   0.0s\n",
      "[CV 3/5; 15/18] START knnR__n_jobs=3, knnR__n_neighbors=7, poly__degree=2, poly__include_bias=True\n",
      "[CV 3/5; 15/18] END knnR__n_jobs=3, knnR__n_neighbors=7, poly__degree=2, poly__include_bias=True;, score=-1.170 total time=   0.0s\n",
      "[CV 4/5; 15/18] START knnR__n_jobs=3, knnR__n_neighbors=7, poly__degree=2, poly__include_bias=True\n",
      "[CV 4/5; 15/18] END knnR__n_jobs=3, knnR__n_neighbors=7, poly__degree=2, poly__include_bias=True;, score=-3.956 total time=   0.0s\n",
      "[CV 5/5; 15/18] START knnR__n_jobs=3, knnR__n_neighbors=7, poly__degree=2, poly__include_bias=True\n",
      "[CV 5/5; 15/18] END knnR__n_jobs=3, knnR__n_neighbors=7, poly__degree=2, poly__include_bias=True;, score=-1.098 total time=   0.0s\n",
      "[CV 1/5; 16/18] START knnR__n_jobs=3, knnR__n_neighbors=7, poly__degree=2, poly__include_bias=False\n",
      "[CV 1/5; 16/18] END knnR__n_jobs=3, knnR__n_neighbors=7, poly__degree=2, poly__include_bias=False;, score=-2.013 total time=   0.0s\n",
      "[CV 2/5; 16/18] START knnR__n_jobs=3, knnR__n_neighbors=7, poly__degree=2, poly__include_bias=False\n",
      "[CV 2/5; 16/18] END knnR__n_jobs=3, knnR__n_neighbors=7, poly__degree=2, poly__include_bias=False;, score=-1.492 total time=   0.0s\n",
      "[CV 3/5; 16/18] START knnR__n_jobs=3, knnR__n_neighbors=7, poly__degree=2, poly__include_bias=False\n",
      "[CV 3/5; 16/18] END knnR__n_jobs=3, knnR__n_neighbors=7, poly__degree=2, poly__include_bias=False;, score=-1.170 total time=   0.0s\n",
      "[CV 4/5; 16/18] START knnR__n_jobs=3, knnR__n_neighbors=7, poly__degree=2, poly__include_bias=False\n",
      "[CV 4/5; 16/18] END knnR__n_jobs=3, knnR__n_neighbors=7, poly__degree=2, poly__include_bias=False;, score=-3.956 total time=   0.0s\n",
      "[CV 5/5; 16/18] START knnR__n_jobs=3, knnR__n_neighbors=7, poly__degree=2, poly__include_bias=False\n",
      "[CV 5/5; 16/18] END knnR__n_jobs=3, knnR__n_neighbors=7, poly__degree=2, poly__include_bias=False;, score=-1.098 total time=   0.0s\n",
      "[CV 1/5; 17/18] START knnR__n_jobs=3, knnR__n_neighbors=7, poly__degree=3, poly__include_bias=True\n",
      "[CV 1/5; 17/18] END knnR__n_jobs=3, knnR__n_neighbors=7, poly__degree=3, poly__include_bias=True;, score=-2.608 total time=   0.0s\n",
      "[CV 2/5; 17/18] START knnR__n_jobs=3, knnR__n_neighbors=7, poly__degree=3, poly__include_bias=True\n"
     ]
    },
    {
     "name": "stdout",
     "output_type": "stream",
     "text": [
      "[CV 2/5; 17/18] END knnR__n_jobs=3, knnR__n_neighbors=7, poly__degree=3, poly__include_bias=True;, score=-1.769 total time=   0.0s\n",
      "[CV 3/5; 17/18] START knnR__n_jobs=3, knnR__n_neighbors=7, poly__degree=3, poly__include_bias=True\n",
      "[CV 3/5; 17/18] END knnR__n_jobs=3, knnR__n_neighbors=7, poly__degree=3, poly__include_bias=True;, score=-1.482 total time=   0.0s\n",
      "[CV 4/5; 17/18] START knnR__n_jobs=3, knnR__n_neighbors=7, poly__degree=3, poly__include_bias=True\n",
      "[CV 4/5; 17/18] END knnR__n_jobs=3, knnR__n_neighbors=7, poly__degree=3, poly__include_bias=True;, score=-4.099 total time=   0.0s\n",
      "[CV 5/5; 17/18] START knnR__n_jobs=3, knnR__n_neighbors=7, poly__degree=3, poly__include_bias=True\n",
      "[CV 5/5; 17/18] END knnR__n_jobs=3, knnR__n_neighbors=7, poly__degree=3, poly__include_bias=True;, score=-1.367 total time=   0.0s\n",
      "[CV 1/5; 18/18] START knnR__n_jobs=3, knnR__n_neighbors=7, poly__degree=3, poly__include_bias=False\n",
      "[CV 1/5; 18/18] END knnR__n_jobs=3, knnR__n_neighbors=7, poly__degree=3, poly__include_bias=False;, score=-2.608 total time=   0.0s\n",
      "[CV 2/5; 18/18] START knnR__n_jobs=3, knnR__n_neighbors=7, poly__degree=3, poly__include_bias=False\n",
      "[CV 2/5; 18/18] END knnR__n_jobs=3, knnR__n_neighbors=7, poly__degree=3, poly__include_bias=False;, score=-1.769 total time=   0.0s\n",
      "[CV 3/5; 18/18] START knnR__n_jobs=3, knnR__n_neighbors=7, poly__degree=3, poly__include_bias=False\n",
      "[CV 3/5; 18/18] END knnR__n_jobs=3, knnR__n_neighbors=7, poly__degree=3, poly__include_bias=False;, score=-1.482 total time=   0.0s\n",
      "[CV 4/5; 18/18] START knnR__n_jobs=3, knnR__n_neighbors=7, poly__degree=3, poly__include_bias=False\n",
      "[CV 4/5; 18/18] END knnR__n_jobs=3, knnR__n_neighbors=7, poly__degree=3, poly__include_bias=False;, score=-4.099 total time=   0.0s\n",
      "[CV 5/5; 18/18] START knnR__n_jobs=3, knnR__n_neighbors=7, poly__degree=3, poly__include_bias=False\n",
      "[CV 5/5; 18/18] END knnR__n_jobs=3, knnR__n_neighbors=7, poly__degree=3, poly__include_bias=False;, score=-1.367 total time=   0.0s\n"
     ]
    },
    {
     "data": {
      "text/plain": [
       "GridSearchCV(cv=5,\n",
       "             estimator=Pipeline(steps=[('poly', PolynomialFeatures()),\n",
       "                                       ('scaler', StandardScaler()),\n",
       "                                       ('knnR', KNeighborsRegressor())]),\n",
       "             param_grid={'knnR__n_jobs': [3], 'knnR__n_neighbors': [5, 6, 7],\n",
       "                         'poly__degree': [1, 2, 3],\n",
       "                         'poly__include_bias': [True, False]},\n",
       "             scoring='neg_mean_squared_error', verbose=10)"
      ]
     },
     "execution_count": 82,
     "metadata": {},
     "output_type": "execute_result"
    }
   ],
   "source": [
    "grid.fit(X,y)"
   ]
  },
  {
   "cell_type": "code",
   "execution_count": 83,
   "metadata": {},
   "outputs": [
    {
     "data": {
      "text/plain": [
       "Pipeline(steps=[('poly', PolynomialFeatures(degree=1)),\n",
       "                ('scaler', StandardScaler()),\n",
       "                ('knnR', KNeighborsRegressor(n_jobs=3))])"
      ]
     },
     "execution_count": 83,
     "metadata": {},
     "output_type": "execute_result"
    }
   ],
   "source": [
    "grid.best_estimator_"
   ]
  },
  {
   "cell_type": "code",
   "execution_count": 84,
   "metadata": {},
   "outputs": [
    {
     "data": {
      "text/plain": [
       "{'knnR__n_jobs': 3,\n",
       " 'knnR__n_neighbors': 5,\n",
       " 'poly__degree': 1,\n",
       " 'poly__include_bias': True}"
      ]
     },
     "execution_count": 84,
     "metadata": {},
     "output_type": "execute_result"
    }
   ],
   "source": [
    "grid.best_params_"
   ]
  },
  {
   "cell_type": "code",
   "execution_count": 85,
   "metadata": {},
   "outputs": [
    {
     "data": {
      "text/plain": [
       "-1.7545489743589744"
      ]
     },
     "execution_count": 85,
     "metadata": {},
     "output_type": "execute_result"
    }
   ],
   "source": [
    "grid.best_score_"
   ]
  },
  {
   "cell_type": "code",
   "execution_count": 86,
   "metadata": {},
   "outputs": [
    {
     "name": "stdout",
     "output_type": "stream",
     "text": [
      "{'mean_fit_time': array([0.01236525, 0.00453777, 0.00465488, 0.00580983, 0.00510492,\n",
      "       0.00246177, 0.00392261, 0.00464735, 0.00767646, 0.0051147 ,\n",
      "       0.00462537, 0.00320725, 0.0043663 , 0.00412741, 0.00491924,\n",
      "       0.00653539, 0.00405474, 0.00861435]), 'std_fit_time': array([0.00943139, 0.00044033, 0.00034937, 0.00085086, 0.00782865,\n",
      "       0.00492353, 0.00273805, 0.00078422, 0.00142457, 0.00079471,\n",
      "       0.00319681, 0.0039281 , 0.00579955, 0.00028429, 0.00035501,\n",
      "       0.00098317, 0.00357944, 0.00080035]), 'mean_score_time': array([1.76830473, 0.00862851, 0.00949831, 0.00952425, 0.18044777,\n",
      "       0.12430534, 0.01608963, 0.01105309, 0.01313353, 0.00920839,\n",
      "       0.11943722, 0.11917572, 0.01307235, 0.00781722, 0.00830731,\n",
      "       0.01133761, 0.11768913, 0.11520281]), 'std_score_time': array([3.51431546e+00, 6.29049258e-04, 1.01716953e-03, 8.52424979e-04,\n",
      "       1.22190873e-01, 5.91832988e-03, 3.32360970e-03, 8.20994050e-04,\n",
      "       2.60441397e-03, 6.01383961e-04, 3.78719860e-03, 5.45215421e-03,\n",
      "       7.84568785e-03, 3.42291382e-04, 8.82740526e-04, 1.60785826e-03,\n",
      "       5.07034668e-03, 6.67786345e-03]), 'param_knnR__n_jobs': masked_array(data=[3, 3, 3, 3, 3, 3, 3, 3, 3, 3, 3, 3, 3, 3, 3, 3, 3, 3],\n",
      "             mask=[False, False, False, False, False, False, False, False,\n",
      "                   False, False, False, False, False, False, False, False,\n",
      "                   False, False],\n",
      "       fill_value='?',\n",
      "            dtype=object), 'param_knnR__n_neighbors': masked_array(data=[5, 5, 5, 5, 5, 5, 6, 6, 6, 6, 6, 6, 7, 7, 7, 7, 7, 7],\n",
      "             mask=[False, False, False, False, False, False, False, False,\n",
      "                   False, False, False, False, False, False, False, False,\n",
      "                   False, False],\n",
      "       fill_value='?',\n",
      "            dtype=object), 'param_poly__degree': masked_array(data=[1, 1, 2, 2, 3, 3, 1, 1, 2, 2, 3, 3, 1, 1, 2, 2, 3, 3],\n",
      "             mask=[False, False, False, False, False, False, False, False,\n",
      "                   False, False, False, False, False, False, False, False,\n",
      "                   False, False],\n",
      "       fill_value='?',\n",
      "            dtype=object), 'param_poly__include_bias': masked_array(data=[True, False, True, False, True, False, True, False,\n",
      "                   True, False, True, False, True, False, True, False,\n",
      "                   True, False],\n",
      "             mask=[False, False, False, False, False, False, False, False,\n",
      "                   False, False, False, False, False, False, False, False,\n",
      "                   False, False],\n",
      "       fill_value='?',\n",
      "            dtype=object), 'params': [{'knnR__n_jobs': 3, 'knnR__n_neighbors': 5, 'poly__degree': 1, 'poly__include_bias': True}, {'knnR__n_jobs': 3, 'knnR__n_neighbors': 5, 'poly__degree': 1, 'poly__include_bias': False}, {'knnR__n_jobs': 3, 'knnR__n_neighbors': 5, 'poly__degree': 2, 'poly__include_bias': True}, {'knnR__n_jobs': 3, 'knnR__n_neighbors': 5, 'poly__degree': 2, 'poly__include_bias': False}, {'knnR__n_jobs': 3, 'knnR__n_neighbors': 5, 'poly__degree': 3, 'poly__include_bias': True}, {'knnR__n_jobs': 3, 'knnR__n_neighbors': 5, 'poly__degree': 3, 'poly__include_bias': False}, {'knnR__n_jobs': 3, 'knnR__n_neighbors': 6, 'poly__degree': 1, 'poly__include_bias': True}, {'knnR__n_jobs': 3, 'knnR__n_neighbors': 6, 'poly__degree': 1, 'poly__include_bias': False}, {'knnR__n_jobs': 3, 'knnR__n_neighbors': 6, 'poly__degree': 2, 'poly__include_bias': True}, {'knnR__n_jobs': 3, 'knnR__n_neighbors': 6, 'poly__degree': 2, 'poly__include_bias': False}, {'knnR__n_jobs': 3, 'knnR__n_neighbors': 6, 'poly__degree': 3, 'poly__include_bias': True}, {'knnR__n_jobs': 3, 'knnR__n_neighbors': 6, 'poly__degree': 3, 'poly__include_bias': False}, {'knnR__n_jobs': 3, 'knnR__n_neighbors': 7, 'poly__degree': 1, 'poly__include_bias': True}, {'knnR__n_jobs': 3, 'knnR__n_neighbors': 7, 'poly__degree': 1, 'poly__include_bias': False}, {'knnR__n_jobs': 3, 'knnR__n_neighbors': 7, 'poly__degree': 2, 'poly__include_bias': True}, {'knnR__n_jobs': 3, 'knnR__n_neighbors': 7, 'poly__degree': 2, 'poly__include_bias': False}, {'knnR__n_jobs': 3, 'knnR__n_neighbors': 7, 'poly__degree': 3, 'poly__include_bias': True}, {'knnR__n_jobs': 3, 'knnR__n_neighbors': 7, 'poly__degree': 3, 'poly__include_bias': False}], 'split0_test_score': array([-1.47389   , -1.47389   , -1.91036   , -1.91036   , -2.02059   ,\n",
      "       -2.02059   , -1.78102083, -1.78102083, -2.09530556, -2.09530556,\n",
      "       -2.35367361, -2.35367361, -1.90716837, -1.90716837, -2.01264796,\n",
      "       -2.01264796, -2.60759184, -2.60759184]), 'split1_test_score': array([-1.27889   , -1.27889   , -1.45286   , -1.45286   , -1.8352    ,\n",
      "       -1.8352    , -1.30021528, -1.30021528, -1.54889583, -1.54889583,\n",
      "       -1.95607639, -1.95607639, -1.52429592, -1.52429592, -1.49154082,\n",
      "       -1.49154082, -1.76912245, -1.76912245]), 'split2_test_score': array([-0.86177   , -0.86177   , -0.91765   , -0.91765   , -1.05945   ,\n",
      "       -1.05945   , -0.91988889, -0.91988889, -0.95208333, -0.95208333,\n",
      "       -1.32036806, -1.32036806, -1.16060204, -1.16060204, -1.16979082,\n",
      "       -1.16979082, -1.48152551, -1.48152551]), 'split3_test_score': array([-3.68596923, -3.68596923, -3.31032821, -3.31032821, -3.26572308,\n",
      "       -3.26572308, -3.64755698, -3.64755698, -3.87679487, -3.87679487,\n",
      "       -3.78688746, -3.78688746, -3.74756149, -3.74756149, -3.95556777,\n",
      "       -3.95556777, -4.09864469, -4.09864469]), 'split4_test_score': array([-1.47222564, -1.47222564, -1.26898462, -1.26898462, -1.24262564,\n",
      "       -1.24262564, -1.49532764, -1.49532764, -1.24826211, -1.24826211,\n",
      "       -1.3344943 , -1.3344943 , -1.44990581, -1.44990581, -1.09807431,\n",
      "       -1.09807431, -1.36730508, -1.36730508]), 'mean_test_score': array([-1.75454897, -1.75454897, -1.77203656, -1.77203656, -1.88471774,\n",
      "       -1.88471774, -1.82880192, -1.82880192, -1.94426834, -1.94426834,\n",
      "       -2.15029996, -2.15029996, -1.95790672, -1.95790672, -1.94552433,\n",
      "       -1.94552433, -2.26483791, -2.26483791]), 'std_test_score': array([0.99117767, 0.99117767, 0.83311294, 0.83311294, 0.77735939,\n",
      "       0.77735939, 0.95151299, 0.95151299, 1.03755927, 1.03755927,\n",
      "       0.90684377, 0.90684377, 0.92598235, 0.92598235, 1.05553922,\n",
      "       1.05553922, 1.01441657, 1.01441657]), 'rank_test_score': array([ 1,  1,  3,  3,  7,  7,  5,  5,  9,  9, 15, 15, 13, 13, 11, 11, 17,\n",
      "       17])}\n"
     ]
    }
   ],
   "source": [
    "print(grid.cv_results_)"
   ]
  },
  {
   "cell_type": "code",
   "execution_count": 87,
   "metadata": {},
   "outputs": [
    {
     "data": {
      "text/plain": [
       "dict_keys(['mean_fit_time', 'std_fit_time', 'mean_score_time', 'std_score_time', 'param_knnR__n_jobs', 'param_knnR__n_neighbors', 'param_poly__degree', 'param_poly__include_bias', 'params', 'split0_test_score', 'split1_test_score', 'split2_test_score', 'split3_test_score', 'split4_test_score', 'mean_test_score', 'std_test_score', 'rank_test_score'])"
      ]
     },
     "execution_count": 87,
     "metadata": {},
     "output_type": "execute_result"
    }
   ],
   "source": [
    "grid.cv_results_.keys()"
   ]
  },
  {
   "cell_type": "code",
   "execution_count": 88,
   "metadata": {},
   "outputs": [
    {
     "data": {
      "text/html": [
       "<div>\n",
       "<style scoped>\n",
       "    .dataframe tbody tr th:only-of-type {\n",
       "        vertical-align: middle;\n",
       "    }\n",
       "\n",
       "    .dataframe tbody tr th {\n",
       "        vertical-align: top;\n",
       "    }\n",
       "\n",
       "    .dataframe thead th {\n",
       "        text-align: right;\n",
       "    }\n",
       "</style>\n",
       "<table border=\"1\" class=\"dataframe\">\n",
       "  <thead>\n",
       "    <tr style=\"text-align: right;\">\n",
       "      <th></th>\n",
       "      <th>mean_fit_time</th>\n",
       "      <th>std_fit_time</th>\n",
       "      <th>mean_score_time</th>\n",
       "      <th>std_score_time</th>\n",
       "      <th>param_knnR__n_jobs</th>\n",
       "      <th>param_knnR__n_neighbors</th>\n",
       "      <th>param_poly__degree</th>\n",
       "      <th>param_poly__include_bias</th>\n",
       "      <th>params</th>\n",
       "      <th>split0_test_score</th>\n",
       "      <th>split1_test_score</th>\n",
       "      <th>split2_test_score</th>\n",
       "      <th>split3_test_score</th>\n",
       "      <th>split4_test_score</th>\n",
       "      <th>mean_test_score</th>\n",
       "      <th>std_test_score</th>\n",
       "      <th>rank_test_score</th>\n",
       "    </tr>\n",
       "  </thead>\n",
       "  <tbody>\n",
       "    <tr>\n",
       "      <th>0</th>\n",
       "      <td>0.012365</td>\n",
       "      <td>0.009431</td>\n",
       "      <td>1.768305</td>\n",
       "      <td>3.514315</td>\n",
       "      <td>3</td>\n",
       "      <td>5</td>\n",
       "      <td>1</td>\n",
       "      <td>True</td>\n",
       "      <td>{'knnR__n_jobs': 3, 'knnR__n_neighbors': 5, 'p...</td>\n",
       "      <td>-1.473890</td>\n",
       "      <td>-1.278890</td>\n",
       "      <td>-0.861770</td>\n",
       "      <td>-3.685969</td>\n",
       "      <td>-1.472226</td>\n",
       "      <td>-1.754549</td>\n",
       "      <td>0.991178</td>\n",
       "      <td>1</td>\n",
       "    </tr>\n",
       "    <tr>\n",
       "      <th>1</th>\n",
       "      <td>0.004538</td>\n",
       "      <td>0.000440</td>\n",
       "      <td>0.008629</td>\n",
       "      <td>0.000629</td>\n",
       "      <td>3</td>\n",
       "      <td>5</td>\n",
       "      <td>1</td>\n",
       "      <td>False</td>\n",
       "      <td>{'knnR__n_jobs': 3, 'knnR__n_neighbors': 5, 'p...</td>\n",
       "      <td>-1.473890</td>\n",
       "      <td>-1.278890</td>\n",
       "      <td>-0.861770</td>\n",
       "      <td>-3.685969</td>\n",
       "      <td>-1.472226</td>\n",
       "      <td>-1.754549</td>\n",
       "      <td>0.991178</td>\n",
       "      <td>1</td>\n",
       "    </tr>\n",
       "    <tr>\n",
       "      <th>2</th>\n",
       "      <td>0.004655</td>\n",
       "      <td>0.000349</td>\n",
       "      <td>0.009498</td>\n",
       "      <td>0.001017</td>\n",
       "      <td>3</td>\n",
       "      <td>5</td>\n",
       "      <td>2</td>\n",
       "      <td>True</td>\n",
       "      <td>{'knnR__n_jobs': 3, 'knnR__n_neighbors': 5, 'p...</td>\n",
       "      <td>-1.910360</td>\n",
       "      <td>-1.452860</td>\n",
       "      <td>-0.917650</td>\n",
       "      <td>-3.310328</td>\n",
       "      <td>-1.268985</td>\n",
       "      <td>-1.772037</td>\n",
       "      <td>0.833113</td>\n",
       "      <td>3</td>\n",
       "    </tr>\n",
       "    <tr>\n",
       "      <th>3</th>\n",
       "      <td>0.005810</td>\n",
       "      <td>0.000851</td>\n",
       "      <td>0.009524</td>\n",
       "      <td>0.000852</td>\n",
       "      <td>3</td>\n",
       "      <td>5</td>\n",
       "      <td>2</td>\n",
       "      <td>False</td>\n",
       "      <td>{'knnR__n_jobs': 3, 'knnR__n_neighbors': 5, 'p...</td>\n",
       "      <td>-1.910360</td>\n",
       "      <td>-1.452860</td>\n",
       "      <td>-0.917650</td>\n",
       "      <td>-3.310328</td>\n",
       "      <td>-1.268985</td>\n",
       "      <td>-1.772037</td>\n",
       "      <td>0.833113</td>\n",
       "      <td>3</td>\n",
       "    </tr>\n",
       "    <tr>\n",
       "      <th>4</th>\n",
       "      <td>0.005105</td>\n",
       "      <td>0.007829</td>\n",
       "      <td>0.180448</td>\n",
       "      <td>0.122191</td>\n",
       "      <td>3</td>\n",
       "      <td>5</td>\n",
       "      <td>3</td>\n",
       "      <td>True</td>\n",
       "      <td>{'knnR__n_jobs': 3, 'knnR__n_neighbors': 5, 'p...</td>\n",
       "      <td>-2.020590</td>\n",
       "      <td>-1.835200</td>\n",
       "      <td>-1.059450</td>\n",
       "      <td>-3.265723</td>\n",
       "      <td>-1.242626</td>\n",
       "      <td>-1.884718</td>\n",
       "      <td>0.777359</td>\n",
       "      <td>7</td>\n",
       "    </tr>\n",
       "    <tr>\n",
       "      <th>5</th>\n",
       "      <td>0.002462</td>\n",
       "      <td>0.004924</td>\n",
       "      <td>0.124305</td>\n",
       "      <td>0.005918</td>\n",
       "      <td>3</td>\n",
       "      <td>5</td>\n",
       "      <td>3</td>\n",
       "      <td>False</td>\n",
       "      <td>{'knnR__n_jobs': 3, 'knnR__n_neighbors': 5, 'p...</td>\n",
       "      <td>-2.020590</td>\n",
       "      <td>-1.835200</td>\n",
       "      <td>-1.059450</td>\n",
       "      <td>-3.265723</td>\n",
       "      <td>-1.242626</td>\n",
       "      <td>-1.884718</td>\n",
       "      <td>0.777359</td>\n",
       "      <td>7</td>\n",
       "    </tr>\n",
       "    <tr>\n",
       "      <th>6</th>\n",
       "      <td>0.003923</td>\n",
       "      <td>0.002738</td>\n",
       "      <td>0.016090</td>\n",
       "      <td>0.003324</td>\n",
       "      <td>3</td>\n",
       "      <td>6</td>\n",
       "      <td>1</td>\n",
       "      <td>True</td>\n",
       "      <td>{'knnR__n_jobs': 3, 'knnR__n_neighbors': 6, 'p...</td>\n",
       "      <td>-1.781021</td>\n",
       "      <td>-1.300215</td>\n",
       "      <td>-0.919889</td>\n",
       "      <td>-3.647557</td>\n",
       "      <td>-1.495328</td>\n",
       "      <td>-1.828802</td>\n",
       "      <td>0.951513</td>\n",
       "      <td>5</td>\n",
       "    </tr>\n",
       "    <tr>\n",
       "      <th>7</th>\n",
       "      <td>0.004647</td>\n",
       "      <td>0.000784</td>\n",
       "      <td>0.011053</td>\n",
       "      <td>0.000821</td>\n",
       "      <td>3</td>\n",
       "      <td>6</td>\n",
       "      <td>1</td>\n",
       "      <td>False</td>\n",
       "      <td>{'knnR__n_jobs': 3, 'knnR__n_neighbors': 6, 'p...</td>\n",
       "      <td>-1.781021</td>\n",
       "      <td>-1.300215</td>\n",
       "      <td>-0.919889</td>\n",
       "      <td>-3.647557</td>\n",
       "      <td>-1.495328</td>\n",
       "      <td>-1.828802</td>\n",
       "      <td>0.951513</td>\n",
       "      <td>5</td>\n",
       "    </tr>\n",
       "    <tr>\n",
       "      <th>8</th>\n",
       "      <td>0.007676</td>\n",
       "      <td>0.001425</td>\n",
       "      <td>0.013134</td>\n",
       "      <td>0.002604</td>\n",
       "      <td>3</td>\n",
       "      <td>6</td>\n",
       "      <td>2</td>\n",
       "      <td>True</td>\n",
       "      <td>{'knnR__n_jobs': 3, 'knnR__n_neighbors': 6, 'p...</td>\n",
       "      <td>-2.095306</td>\n",
       "      <td>-1.548896</td>\n",
       "      <td>-0.952083</td>\n",
       "      <td>-3.876795</td>\n",
       "      <td>-1.248262</td>\n",
       "      <td>-1.944268</td>\n",
       "      <td>1.037559</td>\n",
       "      <td>9</td>\n",
       "    </tr>\n",
       "    <tr>\n",
       "      <th>9</th>\n",
       "      <td>0.005115</td>\n",
       "      <td>0.000795</td>\n",
       "      <td>0.009208</td>\n",
       "      <td>0.000601</td>\n",
       "      <td>3</td>\n",
       "      <td>6</td>\n",
       "      <td>2</td>\n",
       "      <td>False</td>\n",
       "      <td>{'knnR__n_jobs': 3, 'knnR__n_neighbors': 6, 'p...</td>\n",
       "      <td>-2.095306</td>\n",
       "      <td>-1.548896</td>\n",
       "      <td>-0.952083</td>\n",
       "      <td>-3.876795</td>\n",
       "      <td>-1.248262</td>\n",
       "      <td>-1.944268</td>\n",
       "      <td>1.037559</td>\n",
       "      <td>9</td>\n",
       "    </tr>\n",
       "    <tr>\n",
       "      <th>10</th>\n",
       "      <td>0.004625</td>\n",
       "      <td>0.003197</td>\n",
       "      <td>0.119437</td>\n",
       "      <td>0.003787</td>\n",
       "      <td>3</td>\n",
       "      <td>6</td>\n",
       "      <td>3</td>\n",
       "      <td>True</td>\n",
       "      <td>{'knnR__n_jobs': 3, 'knnR__n_neighbors': 6, 'p...</td>\n",
       "      <td>-2.353674</td>\n",
       "      <td>-1.956076</td>\n",
       "      <td>-1.320368</td>\n",
       "      <td>-3.786887</td>\n",
       "      <td>-1.334494</td>\n",
       "      <td>-2.150300</td>\n",
       "      <td>0.906844</td>\n",
       "      <td>15</td>\n",
       "    </tr>\n",
       "    <tr>\n",
       "      <th>11</th>\n",
       "      <td>0.003207</td>\n",
       "      <td>0.003928</td>\n",
       "      <td>0.119176</td>\n",
       "      <td>0.005452</td>\n",
       "      <td>3</td>\n",
       "      <td>6</td>\n",
       "      <td>3</td>\n",
       "      <td>False</td>\n",
       "      <td>{'knnR__n_jobs': 3, 'knnR__n_neighbors': 6, 'p...</td>\n",
       "      <td>-2.353674</td>\n",
       "      <td>-1.956076</td>\n",
       "      <td>-1.320368</td>\n",
       "      <td>-3.786887</td>\n",
       "      <td>-1.334494</td>\n",
       "      <td>-2.150300</td>\n",
       "      <td>0.906844</td>\n",
       "      <td>15</td>\n",
       "    </tr>\n",
       "    <tr>\n",
       "      <th>12</th>\n",
       "      <td>0.004366</td>\n",
       "      <td>0.005800</td>\n",
       "      <td>0.013072</td>\n",
       "      <td>0.007846</td>\n",
       "      <td>3</td>\n",
       "      <td>7</td>\n",
       "      <td>1</td>\n",
       "      <td>True</td>\n",
       "      <td>{'knnR__n_jobs': 3, 'knnR__n_neighbors': 7, 'p...</td>\n",
       "      <td>-1.907168</td>\n",
       "      <td>-1.524296</td>\n",
       "      <td>-1.160602</td>\n",
       "      <td>-3.747561</td>\n",
       "      <td>-1.449906</td>\n",
       "      <td>-1.957907</td>\n",
       "      <td>0.925982</td>\n",
       "      <td>13</td>\n",
       "    </tr>\n",
       "    <tr>\n",
       "      <th>13</th>\n",
       "      <td>0.004127</td>\n",
       "      <td>0.000284</td>\n",
       "      <td>0.007817</td>\n",
       "      <td>0.000342</td>\n",
       "      <td>3</td>\n",
       "      <td>7</td>\n",
       "      <td>1</td>\n",
       "      <td>False</td>\n",
       "      <td>{'knnR__n_jobs': 3, 'knnR__n_neighbors': 7, 'p...</td>\n",
       "      <td>-1.907168</td>\n",
       "      <td>-1.524296</td>\n",
       "      <td>-1.160602</td>\n",
       "      <td>-3.747561</td>\n",
       "      <td>-1.449906</td>\n",
       "      <td>-1.957907</td>\n",
       "      <td>0.925982</td>\n",
       "      <td>13</td>\n",
       "    </tr>\n",
       "    <tr>\n",
       "      <th>14</th>\n",
       "      <td>0.004919</td>\n",
       "      <td>0.000355</td>\n",
       "      <td>0.008307</td>\n",
       "      <td>0.000883</td>\n",
       "      <td>3</td>\n",
       "      <td>7</td>\n",
       "      <td>2</td>\n",
       "      <td>True</td>\n",
       "      <td>{'knnR__n_jobs': 3, 'knnR__n_neighbors': 7, 'p...</td>\n",
       "      <td>-2.012648</td>\n",
       "      <td>-1.491541</td>\n",
       "      <td>-1.169791</td>\n",
       "      <td>-3.955568</td>\n",
       "      <td>-1.098074</td>\n",
       "      <td>-1.945524</td>\n",
       "      <td>1.055539</td>\n",
       "      <td>11</td>\n",
       "    </tr>\n",
       "    <tr>\n",
       "      <th>15</th>\n",
       "      <td>0.006535</td>\n",
       "      <td>0.000983</td>\n",
       "      <td>0.011338</td>\n",
       "      <td>0.001608</td>\n",
       "      <td>3</td>\n",
       "      <td>7</td>\n",
       "      <td>2</td>\n",
       "      <td>False</td>\n",
       "      <td>{'knnR__n_jobs': 3, 'knnR__n_neighbors': 7, 'p...</td>\n",
       "      <td>-2.012648</td>\n",
       "      <td>-1.491541</td>\n",
       "      <td>-1.169791</td>\n",
       "      <td>-3.955568</td>\n",
       "      <td>-1.098074</td>\n",
       "      <td>-1.945524</td>\n",
       "      <td>1.055539</td>\n",
       "      <td>11</td>\n",
       "    </tr>\n",
       "    <tr>\n",
       "      <th>16</th>\n",
       "      <td>0.004055</td>\n",
       "      <td>0.003579</td>\n",
       "      <td>0.117689</td>\n",
       "      <td>0.005070</td>\n",
       "      <td>3</td>\n",
       "      <td>7</td>\n",
       "      <td>3</td>\n",
       "      <td>True</td>\n",
       "      <td>{'knnR__n_jobs': 3, 'knnR__n_neighbors': 7, 'p...</td>\n",
       "      <td>-2.607592</td>\n",
       "      <td>-1.769122</td>\n",
       "      <td>-1.481526</td>\n",
       "      <td>-4.098645</td>\n",
       "      <td>-1.367305</td>\n",
       "      <td>-2.264838</td>\n",
       "      <td>1.014417</td>\n",
       "      <td>17</td>\n",
       "    </tr>\n",
       "    <tr>\n",
       "      <th>17</th>\n",
       "      <td>0.008614</td>\n",
       "      <td>0.000800</td>\n",
       "      <td>0.115203</td>\n",
       "      <td>0.006678</td>\n",
       "      <td>3</td>\n",
       "      <td>7</td>\n",
       "      <td>3</td>\n",
       "      <td>False</td>\n",
       "      <td>{'knnR__n_jobs': 3, 'knnR__n_neighbors': 7, 'p...</td>\n",
       "      <td>-2.607592</td>\n",
       "      <td>-1.769122</td>\n",
       "      <td>-1.481526</td>\n",
       "      <td>-4.098645</td>\n",
       "      <td>-1.367305</td>\n",
       "      <td>-2.264838</td>\n",
       "      <td>1.014417</td>\n",
       "      <td>17</td>\n",
       "    </tr>\n",
       "  </tbody>\n",
       "</table>\n",
       "</div>"
      ],
      "text/plain": [
       "    mean_fit_time  std_fit_time  mean_score_time  std_score_time  \\\n",
       "0        0.012365      0.009431         1.768305        3.514315   \n",
       "1        0.004538      0.000440         0.008629        0.000629   \n",
       "2        0.004655      0.000349         0.009498        0.001017   \n",
       "3        0.005810      0.000851         0.009524        0.000852   \n",
       "4        0.005105      0.007829         0.180448        0.122191   \n",
       "5        0.002462      0.004924         0.124305        0.005918   \n",
       "6        0.003923      0.002738         0.016090        0.003324   \n",
       "7        0.004647      0.000784         0.011053        0.000821   \n",
       "8        0.007676      0.001425         0.013134        0.002604   \n",
       "9        0.005115      0.000795         0.009208        0.000601   \n",
       "10       0.004625      0.003197         0.119437        0.003787   \n",
       "11       0.003207      0.003928         0.119176        0.005452   \n",
       "12       0.004366      0.005800         0.013072        0.007846   \n",
       "13       0.004127      0.000284         0.007817        0.000342   \n",
       "14       0.004919      0.000355         0.008307        0.000883   \n",
       "15       0.006535      0.000983         0.011338        0.001608   \n",
       "16       0.004055      0.003579         0.117689        0.005070   \n",
       "17       0.008614      0.000800         0.115203        0.006678   \n",
       "\n",
       "   param_knnR__n_jobs param_knnR__n_neighbors param_poly__degree  \\\n",
       "0                   3                       5                  1   \n",
       "1                   3                       5                  1   \n",
       "2                   3                       5                  2   \n",
       "3                   3                       5                  2   \n",
       "4                   3                       5                  3   \n",
       "5                   3                       5                  3   \n",
       "6                   3                       6                  1   \n",
       "7                   3                       6                  1   \n",
       "8                   3                       6                  2   \n",
       "9                   3                       6                  2   \n",
       "10                  3                       6                  3   \n",
       "11                  3                       6                  3   \n",
       "12                  3                       7                  1   \n",
       "13                  3                       7                  1   \n",
       "14                  3                       7                  2   \n",
       "15                  3                       7                  2   \n",
       "16                  3                       7                  3   \n",
       "17                  3                       7                  3   \n",
       "\n",
       "   param_poly__include_bias  \\\n",
       "0                      True   \n",
       "1                     False   \n",
       "2                      True   \n",
       "3                     False   \n",
       "4                      True   \n",
       "5                     False   \n",
       "6                      True   \n",
       "7                     False   \n",
       "8                      True   \n",
       "9                     False   \n",
       "10                     True   \n",
       "11                    False   \n",
       "12                     True   \n",
       "13                    False   \n",
       "14                     True   \n",
       "15                    False   \n",
       "16                     True   \n",
       "17                    False   \n",
       "\n",
       "                                               params  split0_test_score  \\\n",
       "0   {'knnR__n_jobs': 3, 'knnR__n_neighbors': 5, 'p...          -1.473890   \n",
       "1   {'knnR__n_jobs': 3, 'knnR__n_neighbors': 5, 'p...          -1.473890   \n",
       "2   {'knnR__n_jobs': 3, 'knnR__n_neighbors': 5, 'p...          -1.910360   \n",
       "3   {'knnR__n_jobs': 3, 'knnR__n_neighbors': 5, 'p...          -1.910360   \n",
       "4   {'knnR__n_jobs': 3, 'knnR__n_neighbors': 5, 'p...          -2.020590   \n",
       "5   {'knnR__n_jobs': 3, 'knnR__n_neighbors': 5, 'p...          -2.020590   \n",
       "6   {'knnR__n_jobs': 3, 'knnR__n_neighbors': 6, 'p...          -1.781021   \n",
       "7   {'knnR__n_jobs': 3, 'knnR__n_neighbors': 6, 'p...          -1.781021   \n",
       "8   {'knnR__n_jobs': 3, 'knnR__n_neighbors': 6, 'p...          -2.095306   \n",
       "9   {'knnR__n_jobs': 3, 'knnR__n_neighbors': 6, 'p...          -2.095306   \n",
       "10  {'knnR__n_jobs': 3, 'knnR__n_neighbors': 6, 'p...          -2.353674   \n",
       "11  {'knnR__n_jobs': 3, 'knnR__n_neighbors': 6, 'p...          -2.353674   \n",
       "12  {'knnR__n_jobs': 3, 'knnR__n_neighbors': 7, 'p...          -1.907168   \n",
       "13  {'knnR__n_jobs': 3, 'knnR__n_neighbors': 7, 'p...          -1.907168   \n",
       "14  {'knnR__n_jobs': 3, 'knnR__n_neighbors': 7, 'p...          -2.012648   \n",
       "15  {'knnR__n_jobs': 3, 'knnR__n_neighbors': 7, 'p...          -2.012648   \n",
       "16  {'knnR__n_jobs': 3, 'knnR__n_neighbors': 7, 'p...          -2.607592   \n",
       "17  {'knnR__n_jobs': 3, 'knnR__n_neighbors': 7, 'p...          -2.607592   \n",
       "\n",
       "    split1_test_score  split2_test_score  split3_test_score  \\\n",
       "0           -1.278890          -0.861770          -3.685969   \n",
       "1           -1.278890          -0.861770          -3.685969   \n",
       "2           -1.452860          -0.917650          -3.310328   \n",
       "3           -1.452860          -0.917650          -3.310328   \n",
       "4           -1.835200          -1.059450          -3.265723   \n",
       "5           -1.835200          -1.059450          -3.265723   \n",
       "6           -1.300215          -0.919889          -3.647557   \n",
       "7           -1.300215          -0.919889          -3.647557   \n",
       "8           -1.548896          -0.952083          -3.876795   \n",
       "9           -1.548896          -0.952083          -3.876795   \n",
       "10          -1.956076          -1.320368          -3.786887   \n",
       "11          -1.956076          -1.320368          -3.786887   \n",
       "12          -1.524296          -1.160602          -3.747561   \n",
       "13          -1.524296          -1.160602          -3.747561   \n",
       "14          -1.491541          -1.169791          -3.955568   \n",
       "15          -1.491541          -1.169791          -3.955568   \n",
       "16          -1.769122          -1.481526          -4.098645   \n",
       "17          -1.769122          -1.481526          -4.098645   \n",
       "\n",
       "    split4_test_score  mean_test_score  std_test_score  rank_test_score  \n",
       "0           -1.472226        -1.754549        0.991178                1  \n",
       "1           -1.472226        -1.754549        0.991178                1  \n",
       "2           -1.268985        -1.772037        0.833113                3  \n",
       "3           -1.268985        -1.772037        0.833113                3  \n",
       "4           -1.242626        -1.884718        0.777359                7  \n",
       "5           -1.242626        -1.884718        0.777359                7  \n",
       "6           -1.495328        -1.828802        0.951513                5  \n",
       "7           -1.495328        -1.828802        0.951513                5  \n",
       "8           -1.248262        -1.944268        1.037559                9  \n",
       "9           -1.248262        -1.944268        1.037559                9  \n",
       "10          -1.334494        -2.150300        0.906844               15  \n",
       "11          -1.334494        -2.150300        0.906844               15  \n",
       "12          -1.449906        -1.957907        0.925982               13  \n",
       "13          -1.449906        -1.957907        0.925982               13  \n",
       "14          -1.098074        -1.945524        1.055539               11  \n",
       "15          -1.098074        -1.945524        1.055539               11  \n",
       "16          -1.367305        -2.264838        1.014417               17  \n",
       "17          -1.367305        -2.264838        1.014417               17  "
      ]
     },
     "execution_count": 88,
     "metadata": {},
     "output_type": "execute_result"
    }
   ],
   "source": [
    "pd.DataFrame(data=grid.cv_results_,columns=grid.cv_results_.keys())"
   ]
  },
  {
   "cell_type": "code",
   "execution_count": 89,
   "metadata": {},
   "outputs": [
    {
     "data": {
      "text/plain": [
       "Pipeline(steps=[('poly', PolynomialFeatures(degree=1)),\n",
       "                ('scaler', StandardScaler()),\n",
       "                ('knnR', KNeighborsRegressor(n_jobs=3))])"
      ]
     },
     "execution_count": 89,
     "metadata": {},
     "output_type": "execute_result"
    }
   ],
   "source": [
    "grid.best_estimator_"
   ]
  },
  {
   "cell_type": "code",
   "execution_count": 90,
   "metadata": {},
   "outputs": [
    {
     "data": {
      "text/plain": [
       "{'knnR__n_jobs': 3,\n",
       " 'knnR__n_neighbors': 5,\n",
       " 'poly__degree': 1,\n",
       " 'poly__include_bias': True}"
      ]
     },
     "execution_count": 90,
     "metadata": {},
     "output_type": "execute_result"
    }
   ],
   "source": [
    "grid.best_params_"
   ]
  },
  {
   "cell_type": "markdown",
   "metadata": {},
   "source": [
    "The best estimator is \n",
    "{'knnR__n_jobs': 3,\n",
    " 'knnR__n_neighbors': 5,\n",
    " 'poly__degree': 1,\n",
    " 'poly__include_bias': True}"
   ]
  },
  {
   "cell_type": "markdown",
   "metadata": {},
   "source": [
    "## Training with best parameters"
   ]
  },
  {
   "cell_type": "code",
   "execution_count": 91,
   "metadata": {},
   "outputs": [],
   "source": [
    "X_train, X_test, y_train, y_test = train_test_split(X, y, test_size=0.33, random_state=165)"
   ]
  },
  {
   "cell_type": "code",
   "execution_count": 93,
   "metadata": {},
   "outputs": [],
   "source": [
    "X_scale_train=scaler.fit_transform(X_train)\n"
   ]
  },
  {
   "cell_type": "code",
   "execution_count": 94,
   "metadata": {},
   "outputs": [],
   "source": [
    "X_scale_test=scaler.transform(X_test)\n"
   ]
  },
  {
   "cell_type": "code",
   "execution_count": 95,
   "metadata": {},
   "outputs": [],
   "source": [
    "Final_model=KNeighborsRegressor(n_neighbors=5,n_jobs=3)\n",
    "Final_model.fit(X_scale_train,y_train)\n",
    "pred=Final_model.predict(X_scale_test)\n"
   ]
  },
  {
   "cell_type": "code",
   "execution_count": 96,
   "metadata": {},
   "outputs": [
    {
     "data": {
      "text/plain": [
       "0.9790100132586014"
      ]
     },
     "execution_count": 96,
     "metadata": {},
     "output_type": "execute_result"
    }
   ],
   "source": [
    "finalRMSE=np.sqrt(mean_squared_error(y_test,pred))\n",
    "finalRMSE"
   ]
  },
  {
   "cell_type": "markdown",
   "metadata": {},
   "source": [
    "final Root mean square error of the model is only 0.97 which is very less"
   ]
  },
  {
   "cell_type": "code",
   "execution_count": null,
   "metadata": {},
   "outputs": [],
   "source": []
  },
  {
   "cell_type": "markdown",
   "metadata": {},
   "source": [
    "## saving the model\n"
   ]
  },
  {
   "cell_type": "code",
   "execution_count": 97,
   "metadata": {},
   "outputs": [
    {
     "data": {
      "text/plain": [
       "['Final_model_KNN_Advertising.pkl']"
      ]
     },
     "execution_count": 97,
     "metadata": {},
     "output_type": "execute_result"
    }
   ],
   "source": [
    "import joblib\n",
    "joblib.dump(Final_model,\"Final_model_KNN_Advertising.pkl\")"
   ]
  },
  {
   "cell_type": "code",
   "execution_count": null,
   "metadata": {},
   "outputs": [],
   "source": []
  }
 ],
 "metadata": {
  "kernelspec": {
   "display_name": "Python 3",
   "language": "python",
   "name": "python3"
  },
  "language_info": {
   "codemirror_mode": {
    "name": "ipython",
    "version": 3
   },
   "file_extension": ".py",
   "mimetype": "text/x-python",
   "name": "python",
   "nbconvert_exporter": "python",
   "pygments_lexer": "ipython3",
   "version": "3.7.3"
  }
 },
 "nbformat": 4,
 "nbformat_minor": 4
}
