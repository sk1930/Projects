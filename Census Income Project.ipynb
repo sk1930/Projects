{
 "cells": [
  {
   "cell_type": "markdown",
   "metadata": {},
   "source": [
    "Census Income Project\n",
    "Problem Statement:\n",
    "\n",
    "Data Set Information:\n",
    "\n",
    "Extraction was done by Barry Becker from the 1994 Census database. A set of reasonably clean records was extracted using the following conditions: ((AAGE>16) && (AGI>100) && (AFNLWGT>1)&& (HRSWK>0))\n",
    "\n",
    "Prediction task is to determine whether a person makes over 50K a year.\n",
    "\n",
    "\n",
    "Attribute Information:\n",
    "\n",
    "Listing of attributes:\n",
    "\n",
    ">50K, <=50K.\n",
    "\n",
    "age: continuous.\n",
    "workclass: Private, Self-emp-not-inc, Self-emp-inc, Federal-gov, Local-gov, State-gov, Without-pay, Never-worked.\n",
    "fnlwgt: continuous. \n",
    "\n",
    "Description of fnlwgt (final weight)\n",
    "The weights on the Current Population Survey (CPS) files are controlled to independent estimates of the civilian non-institutional population of the US. These are prepared monthly for us by Population Division here at the Census Bureau. \n",
    "\n",
    "\n",
    "education: Bachelors, Some-college, 11th, HS-grad, Prof-school, Assoc-acdm, Assoc-voc, 9th, 7th-8th, 12th, Masters, 1st-4th, 10th, Doctorate, 5th-6th, Preschool.\n",
    "education-num: continuous.\n",
    "marital-status: Married-civ-spouse, Divorced, Never-married, Separated, Widowed, Married-spouse-absent, Married-AF-spouse.\n",
    "occupation: Tech-support, Craft-repair, Other-service, Sales, Exec-managerial, Prof-specialty, Handlers-cleaners, Machine-op-inspct, Adm-clerical, Farming-fishing, Transport-moving, Priv-house-serv, Protective-serv, Armed-Forces.\n",
    "relationship: Wife, Own-child, Husband, Not-in-family, Other-relative, Unmarried.\n",
    "race: White, Asian-Pac-Islander, Amer-Indian-Eskimo, Other, Black.\n",
    "sex: Female, Male.\n",
    "capital-gain: continuous.\n",
    "capital-loss: continuous.\n",
    "hours-per-week: continuous.\n",
    "native-country: United-States, Cambodia, England, Puerto-Rico, Canada, Germany, Outlying-US(Guam-USVI-etc), India, Japan, Greece, South, China, Cuba, Iran, Honduras, Philippines, Italy, Poland, Jamaica, Vietnam, Mexico, Portugal, Ireland, France, Dominican-Republic, Laos, Ecuador, Taiwan, Haiti, Columbia, Hungary, Guatemala, Nicaragua, Scotland, Thailand, Yugoslavia, El-Salvador, Trinadad&Tobago, Peru, Hong, Holand-Netherlands.\n",
    "\n",
    "\n",
    "\n",
    "To download the dataset, use the link given below.\n",
    "https://raw.githubusercontent.com/dsrscientist/dataset1/master/census_income.csv"
   ]
  },
  {
   "cell_type": "code",
   "execution_count": 1,
   "metadata": {},
   "outputs": [],
   "source": [
    "import numpy as np\n",
    "import pandas as pd\n",
    "import seaborn as sns\n",
    "import matplotlib.pyplot as plt\n",
    "from sklearn.tree import DecisionTreeClassifier\n",
    "\n",
    "from sklearn.ensemble import RandomForestClassifier\n",
    "from sklearn.svm import SVC\n",
    "from sklearn.ensemble import AdaBoostClassifier\n",
    "from sklearn.metrics import confusion_matrix, classification_report, plot_confusion_matrix\n",
    "from sklearn.preprocessing import StandardScaler, LabelEncoder\n",
    "from sklearn.model_selection import train_test_split, GridSearchCV, cross_val_score\n",
    "\n",
    "from sklearn.metrics import accuracy_score,classification_report,plot_roc_curve\n",
    "\n",
    "from scipy.stats import zscore\n",
    "from scipy import stats\n",
    "\n",
    "import warnings\n",
    "warnings.filterwarnings(\"ignore\")\n",
    "\n",
    "from imblearn.over_sampling import SMOTE\n",
    "\n"
   ]
  },
  {
   "cell_type": "code",
   "execution_count": 2,
   "metadata": {},
   "outputs": [],
   "source": [
    "from imblearn.pipeline import Pipeline, make_pipeline"
   ]
  },
  {
   "cell_type": "code",
   "execution_count": 3,
   "metadata": {},
   "outputs": [],
   "source": [
    "df=pd.read_csv(\"census_Income.csv\",index_col=\"Unnamed: 0\")"
   ]
  },
  {
   "cell_type": "code",
   "execution_count": 4,
   "metadata": {},
   "outputs": [
    {
     "data": {
      "text/html": [
       "<div>\n",
       "<style scoped>\n",
       "    .dataframe tbody tr th:only-of-type {\n",
       "        vertical-align: middle;\n",
       "    }\n",
       "\n",
       "    .dataframe tbody tr th {\n",
       "        vertical-align: top;\n",
       "    }\n",
       "\n",
       "    .dataframe thead th {\n",
       "        text-align: right;\n",
       "    }\n",
       "</style>\n",
       "<table border=\"1\" class=\"dataframe\">\n",
       "  <thead>\n",
       "    <tr style=\"text-align: right;\">\n",
       "      <th></th>\n",
       "      <th>Age</th>\n",
       "      <th>Workclass</th>\n",
       "      <th>Fnlwgt</th>\n",
       "      <th>Education</th>\n",
       "      <th>Education_num</th>\n",
       "      <th>Marital_status</th>\n",
       "      <th>Occupation</th>\n",
       "      <th>Relationship</th>\n",
       "      <th>Race</th>\n",
       "      <th>Sex</th>\n",
       "      <th>Capital_gain</th>\n",
       "      <th>Capital_loss</th>\n",
       "      <th>Hours_per_week</th>\n",
       "      <th>Native_country</th>\n",
       "      <th>Income</th>\n",
       "    </tr>\n",
       "  </thead>\n",
       "  <tbody>\n",
       "    <tr>\n",
       "      <th>0</th>\n",
       "      <td>50</td>\n",
       "      <td>Self-emp-not-inc</td>\n",
       "      <td>83311</td>\n",
       "      <td>Bachelors</td>\n",
       "      <td>13</td>\n",
       "      <td>Married-civ-spouse</td>\n",
       "      <td>Exec-managerial</td>\n",
       "      <td>Husband</td>\n",
       "      <td>White</td>\n",
       "      <td>Male</td>\n",
       "      <td>0</td>\n",
       "      <td>0</td>\n",
       "      <td>13</td>\n",
       "      <td>United-States</td>\n",
       "      <td>&lt;=50K</td>\n",
       "    </tr>\n",
       "    <tr>\n",
       "      <th>1</th>\n",
       "      <td>38</td>\n",
       "      <td>Private</td>\n",
       "      <td>215646</td>\n",
       "      <td>HS-grad</td>\n",
       "      <td>9</td>\n",
       "      <td>Divorced</td>\n",
       "      <td>Handlers-cleaners</td>\n",
       "      <td>Not-in-family</td>\n",
       "      <td>White</td>\n",
       "      <td>Male</td>\n",
       "      <td>0</td>\n",
       "      <td>0</td>\n",
       "      <td>40</td>\n",
       "      <td>United-States</td>\n",
       "      <td>&lt;=50K</td>\n",
       "    </tr>\n",
       "    <tr>\n",
       "      <th>2</th>\n",
       "      <td>53</td>\n",
       "      <td>Private</td>\n",
       "      <td>234721</td>\n",
       "      <td>11th</td>\n",
       "      <td>7</td>\n",
       "      <td>Married-civ-spouse</td>\n",
       "      <td>Handlers-cleaners</td>\n",
       "      <td>Husband</td>\n",
       "      <td>Black</td>\n",
       "      <td>Male</td>\n",
       "      <td>0</td>\n",
       "      <td>0</td>\n",
       "      <td>40</td>\n",
       "      <td>United-States</td>\n",
       "      <td>&lt;=50K</td>\n",
       "    </tr>\n",
       "    <tr>\n",
       "      <th>3</th>\n",
       "      <td>28</td>\n",
       "      <td>Private</td>\n",
       "      <td>338409</td>\n",
       "      <td>Bachelors</td>\n",
       "      <td>13</td>\n",
       "      <td>Married-civ-spouse</td>\n",
       "      <td>Prof-specialty</td>\n",
       "      <td>Wife</td>\n",
       "      <td>Black</td>\n",
       "      <td>Female</td>\n",
       "      <td>0</td>\n",
       "      <td>0</td>\n",
       "      <td>40</td>\n",
       "      <td>Cuba</td>\n",
       "      <td>&lt;=50K</td>\n",
       "    </tr>\n",
       "    <tr>\n",
       "      <th>4</th>\n",
       "      <td>37</td>\n",
       "      <td>Private</td>\n",
       "      <td>284582</td>\n",
       "      <td>Masters</td>\n",
       "      <td>14</td>\n",
       "      <td>Married-civ-spouse</td>\n",
       "      <td>Exec-managerial</td>\n",
       "      <td>Wife</td>\n",
       "      <td>White</td>\n",
       "      <td>Female</td>\n",
       "      <td>0</td>\n",
       "      <td>0</td>\n",
       "      <td>40</td>\n",
       "      <td>United-States</td>\n",
       "      <td>&lt;=50K</td>\n",
       "    </tr>\n",
       "  </tbody>\n",
       "</table>\n",
       "</div>"
      ],
      "text/plain": [
       "   Age          Workclass  Fnlwgt   Education  Education_num  \\\n",
       "0   50   Self-emp-not-inc   83311   Bachelors             13   \n",
       "1   38            Private  215646     HS-grad              9   \n",
       "2   53            Private  234721        11th              7   \n",
       "3   28            Private  338409   Bachelors             13   \n",
       "4   37            Private  284582     Masters             14   \n",
       "\n",
       "        Marital_status          Occupation    Relationship    Race      Sex  \\\n",
       "0   Married-civ-spouse     Exec-managerial         Husband   White     Male   \n",
       "1             Divorced   Handlers-cleaners   Not-in-family   White     Male   \n",
       "2   Married-civ-spouse   Handlers-cleaners         Husband   Black     Male   \n",
       "3   Married-civ-spouse      Prof-specialty            Wife   Black   Female   \n",
       "4   Married-civ-spouse     Exec-managerial            Wife   White   Female   \n",
       "\n",
       "   Capital_gain  Capital_loss  Hours_per_week  Native_country  Income  \n",
       "0             0             0              13   United-States   <=50K  \n",
       "1             0             0              40   United-States   <=50K  \n",
       "2             0             0              40   United-States   <=50K  \n",
       "3             0             0              40            Cuba   <=50K  \n",
       "4             0             0              40   United-States   <=50K  "
      ]
     },
     "execution_count": 4,
     "metadata": {},
     "output_type": "execute_result"
    }
   ],
   "source": [
    "df.head()"
   ]
  },
  {
   "cell_type": "code",
   "execution_count": 5,
   "metadata": {},
   "outputs": [
    {
     "data": {
      "text/plain": [
       " <=50K    24719\n",
       " >50K      7841\n",
       "Name: Income, dtype: int64"
      ]
     },
     "execution_count": 5,
     "metadata": {},
     "output_type": "execute_result"
    }
   ],
   "source": [
    "df['Income'].value_counts()"
   ]
  },
  {
   "cell_type": "markdown",
   "metadata": {},
   "source": [
    "we want to predict whether  the Income is <= 50k or > than 50k.\n",
    "So this is a classification algorithm"
   ]
  },
  {
   "cell_type": "code",
   "execution_count": 6,
   "metadata": {},
   "outputs": [
    {
     "data": {
      "text/plain": [
       "(32560, 15)"
      ]
     },
     "execution_count": 6,
     "metadata": {},
     "output_type": "execute_result"
    }
   ],
   "source": [
    "df.shape"
   ]
  },
  {
   "cell_type": "markdown",
   "metadata": {},
   "source": [
    "(32560, 15) is the size of the dataset"
   ]
  },
  {
   "cell_type": "code",
   "execution_count": 7,
   "metadata": {},
   "outputs": [
    {
     "data": {
      "text/plain": [
       "Index(['Age', 'Workclass', 'Fnlwgt', 'Education', 'Education_num',\n",
       "       'Marital_status', 'Occupation', 'Relationship', 'Race', 'Sex',\n",
       "       'Capital_gain', 'Capital_loss', 'Hours_per_week', 'Native_country',\n",
       "       'Income'],\n",
       "      dtype='object')"
      ]
     },
     "execution_count": 7,
     "metadata": {},
     "output_type": "execute_result"
    }
   ],
   "source": [
    "df.columns"
   ]
  },
  {
   "cell_type": "code",
   "execution_count": 8,
   "metadata": {},
   "outputs": [
    {
     "name": "stdout",
     "output_type": "stream",
     "text": [
      "<class 'pandas.core.frame.DataFrame'>\n",
      "Int64Index: 32560 entries, 0 to 32559\n",
      "Data columns (total 15 columns):\n",
      " #   Column          Non-Null Count  Dtype \n",
      "---  ------          --------------  ----- \n",
      " 0   Age             32560 non-null  int64 \n",
      " 1   Workclass       32560 non-null  object\n",
      " 2   Fnlwgt          32560 non-null  int64 \n",
      " 3   Education       32560 non-null  object\n",
      " 4   Education_num   32560 non-null  int64 \n",
      " 5   Marital_status  32560 non-null  object\n",
      " 6   Occupation      32560 non-null  object\n",
      " 7   Relationship    32560 non-null  object\n",
      " 8   Race            32560 non-null  object\n",
      " 9   Sex             32560 non-null  object\n",
      " 10  Capital_gain    32560 non-null  int64 \n",
      " 11  Capital_loss    32560 non-null  int64 \n",
      " 12  Hours_per_week  32560 non-null  int64 \n",
      " 13  Native_country  32560 non-null  object\n",
      " 14  Income          32560 non-null  object\n",
      "dtypes: int64(6), object(9)\n",
      "memory usage: 4.0+ MB\n"
     ]
    }
   ],
   "source": [
    "df.info()"
   ]
  },
  {
   "cell_type": "markdown",
   "metadata": {},
   "source": [
    "\n",
    "'WorkClass', 'Education',Education_num, 'MaritalStatus', 'Occupation', relationship,race,sex, Native Country are categorical columns\n",
    "        \n",
    "'Age', 'FinalWeight','HoursPerWeek',capitalGain,CapitalLoss  are numeric columns.\n",
    "\n"
   ]
  },
  {
   "cell_type": "code",
   "execution_count": 9,
   "metadata": {},
   "outputs": [
    {
     "data": {
      "text/plain": [
       "Age               0\n",
       "Workclass         0\n",
       "Fnlwgt            0\n",
       "Education         0\n",
       "Education_num     0\n",
       "Marital_status    0\n",
       "Occupation        0\n",
       "Relationship      0\n",
       "Race              0\n",
       "Sex               0\n",
       "Capital_gain      0\n",
       "Capital_loss      0\n",
       "Hours_per_week    0\n",
       "Native_country    0\n",
       "Income            0\n",
       "dtype: int64"
      ]
     },
     "execution_count": 9,
     "metadata": {},
     "output_type": "execute_result"
    }
   ],
   "source": [
    "df.isnull().sum()"
   ]
  },
  {
   "cell_type": "markdown",
   "metadata": {},
   "source": [
    "There is no missing data in any feature"
   ]
  },
  {
   "cell_type": "markdown",
   "metadata": {},
   "source": [
    "## EDA"
   ]
  },
  {
   "cell_type": "code",
   "execution_count": 10,
   "metadata": {},
   "outputs": [
    {
     "data": {
      "text/plain": [
       " <=50K    24719\n",
       " >50K      7841\n",
       "Name: Income, dtype: int64"
      ]
     },
     "execution_count": 10,
     "metadata": {},
     "output_type": "execute_result"
    }
   ],
   "source": [
    "df['Income'].value_counts()"
   ]
  },
  {
   "cell_type": "markdown",
   "metadata": {},
   "source": [
    "the dataset is highly imbalances with more records having income <=50k"
   ]
  },
  {
   "cell_type": "code",
   "execution_count": 11,
   "metadata": {},
   "outputs": [
    {
     "data": {
      "text/plain": [
       "<AxesSubplot:xlabel='Income', ylabel='count'>"
      ]
     },
     "execution_count": 11,
     "metadata": {},
     "output_type": "execute_result"
    },
    {
     "data": {
      "image/png": "[encoded data removed]",
      "text/plain": [
       "<Figure size 432x288 with 1 Axes>"
      ]
     },
     "metadata": {
      "needs_background": "light"
     },
     "output_type": "display_data"
    }
   ],
   "source": [
    "sns.countplot(df['Income'])"
   ]
  },
  {
   "cell_type": "code",
   "execution_count": 12,
   "metadata": {},
   "outputs": [
    {
     "data": {
      "text/plain": [
       "Index(['Age', 'Workclass', 'Fnlwgt', 'Education', 'Education_num',\n",
       "       'Marital_status', 'Occupation', 'Relationship', 'Race', 'Sex',\n",
       "       'Capital_gain', 'Capital_loss', 'Hours_per_week', 'Native_country',\n",
       "       'Income'],\n",
       "      dtype='object')"
      ]
     },
     "execution_count": 12,
     "metadata": {},
     "output_type": "execute_result"
    }
   ],
   "source": [
    "df.columns"
   ]
  },
  {
   "cell_type": "code",
   "execution_count": 13,
   "metadata": {},
   "outputs": [
    {
     "data": {
      "image/png": "[encoded data removed]",
      "text/plain": [
       "<Figure size 432x288 with 1 Axes>"
      ]
     },
     "metadata": {
      "needs_background": "light"
     },
     "output_type": "display_data"
    }
   ],
   "source": [
    "sns.countplot(df['Age'])\n",
    "plt.xticks(rotation=90);"
   ]
  },
  {
   "cell_type": "code",
   "execution_count": 14,
   "metadata": {},
   "outputs": [],
   "source": [
    "x=[1,2,2,2,3]\n",
    "y=['M','M','M','F','F']"
   ]
  },
  {
   "cell_type": "code",
   "execution_count": 15,
   "metadata": {},
   "outputs": [],
   "source": [
    "df1=pd.DataFrame({'a':x,'b':y},index=[1,2,3,4,5])"
   ]
  },
  {
   "cell_type": "code",
   "execution_count": 16,
   "metadata": {},
   "outputs": [
    {
     "data": {
      "text/html": [
       "<div>\n",
       "<style scoped>\n",
       "    .dataframe tbody tr th:only-of-type {\n",
       "        vertical-align: middle;\n",
       "    }\n",
       "\n",
       "    .dataframe tbody tr th {\n",
       "        vertical-align: top;\n",
       "    }\n",
       "\n",
       "    .dataframe thead th {\n",
       "        text-align: right;\n",
       "    }\n",
       "</style>\n",
       "<table border=\"1\" class=\"dataframe\">\n",
       "  <thead>\n",
       "    <tr style=\"text-align: right;\">\n",
       "      <th></th>\n",
       "      <th>a</th>\n",
       "      <th>b</th>\n",
       "    </tr>\n",
       "  </thead>\n",
       "  <tbody>\n",
       "    <tr>\n",
       "      <th>1</th>\n",
       "      <td>1</td>\n",
       "      <td>M</td>\n",
       "    </tr>\n",
       "    <tr>\n",
       "      <th>2</th>\n",
       "      <td>2</td>\n",
       "      <td>M</td>\n",
       "    </tr>\n",
       "    <tr>\n",
       "      <th>3</th>\n",
       "      <td>2</td>\n",
       "      <td>M</td>\n",
       "    </tr>\n",
       "    <tr>\n",
       "      <th>4</th>\n",
       "      <td>2</td>\n",
       "      <td>F</td>\n",
       "    </tr>\n",
       "    <tr>\n",
       "      <th>5</th>\n",
       "      <td>3</td>\n",
       "      <td>F</td>\n",
       "    </tr>\n",
       "  </tbody>\n",
       "</table>\n",
       "</div>"
      ],
      "text/plain": [
       "   a  b\n",
       "1  1  M\n",
       "2  2  M\n",
       "3  2  M\n",
       "4  2  F\n",
       "5  3  F"
      ]
     },
     "execution_count": 16,
     "metadata": {},
     "output_type": "execute_result"
    }
   ],
   "source": [
    "df1"
   ]
  },
  {
   "cell_type": "code",
   "execution_count": 17,
   "metadata": {},
   "outputs": [
    {
     "data": {
      "text/plain": [
       "<AxesSubplot:xlabel='a', ylabel='Count'>"
      ]
     },
     "execution_count": 17,
     "metadata": {},
     "output_type": "execute_result"
    },
    {
     "data": {
      "image/png": "[encoded data removed]",
      "text/plain": [
       "<Figure size 432x288 with 1 Axes>"
      ]
     },
     "metadata": {
      "needs_background": "light"
     },
     "output_type": "display_data"
    }
   ],
   "source": [
    "sns.histplot(x='a',data=df1,bins=10,hue='b',)"
   ]
  },
  {
   "cell_type": "code",
   "execution_count": 18,
   "metadata": {},
   "outputs": [
    {
     "data": {
      "text/plain": [
       "<AxesSubplot:xlabel='Age', ylabel='Count'>"
      ]
     },
     "execution_count": 18,
     "metadata": {},
     "output_type": "execute_result"
    },
    {
     "data": {
      "image/png": "[encoded data removed]",
      "text/plain": [
       "<Figure size 432x288 with 1 Axes>"
      ]
     },
     "metadata": {
      "needs_background": "light"
     },
     "output_type": "display_data"
    }
   ],
   "source": [
    "sns.histplot(x='Age',data=df,bins=10,hue='Income',)"
   ]
  },
  {
   "cell_type": "markdown",
   "metadata": {},
   "source": [
    "in all the age groups, people with income less than 50k are far higher than people with income more than 50k"
   ]
  },
  {
   "cell_type": "code",
   "execution_count": 19,
   "metadata": {},
   "outputs": [
    {
     "data": {
      "text/plain": [
       "Index(['Age', 'Workclass', 'Fnlwgt', 'Education', 'Education_num',\n",
       "       'Marital_status', 'Occupation', 'Relationship', 'Race', 'Sex',\n",
       "       'Capital_gain', 'Capital_loss', 'Hours_per_week', 'Native_country',\n",
       "       'Income'],\n",
       "      dtype='object')"
      ]
     },
     "execution_count": 19,
     "metadata": {},
     "output_type": "execute_result"
    }
   ],
   "source": [
    "df.columns"
   ]
  },
  {
   "cell_type": "code",
   "execution_count": 20,
   "metadata": {},
   "outputs": [
    {
     "data": {
      "text/plain": [
       " Private             22696\n",
       " Self-emp-not-inc     2541\n",
       " Local-gov            2093\n",
       " ?                    1836\n",
       " State-gov            1297\n",
       " Self-emp-inc         1116\n",
       " Federal-gov           960\n",
       " Without-pay            14\n",
       " Never-worked            7\n",
       "Name: Workclass, dtype: int64"
      ]
     },
     "execution_count": 20,
     "metadata": {},
     "output_type": "execute_result"
    }
   ],
   "source": [
    "df['Workclass'].value_counts()"
   ]
  },
  {
   "cell_type": "markdown",
   "metadata": {},
   "source": [
    "replacing ? with undisclosed"
   ]
  },
  {
   "cell_type": "code",
   "execution_count": 21,
   "metadata": {},
   "outputs": [],
   "source": [
    "df['Workclass']=df['Workclass'].str.strip().replace({'?':'undisclosed'});"
   ]
  },
  {
   "cell_type": "code",
   "execution_count": 22,
   "metadata": {},
   "outputs": [
    {
     "data": {
      "text/plain": [
       "Private             22696\n",
       "Self-emp-not-inc     2541\n",
       "Local-gov            2093\n",
       "undisclosed          1836\n",
       "State-gov            1297\n",
       "Self-emp-inc         1116\n",
       "Federal-gov           960\n",
       "Without-pay            14\n",
       "Never-worked            7\n",
       "Name: Workclass, dtype: int64"
      ]
     },
     "execution_count": 22,
     "metadata": {},
     "output_type": "execute_result"
    }
   ],
   "source": [
    "df['Workclass'].value_counts()"
   ]
  },
  {
   "cell_type": "code",
   "execution_count": 23,
   "metadata": {},
   "outputs": [
    {
     "data": {
      "image/png": "[encoded data removed]",
      "text/plain": [
       "<Figure size 432x288 with 1 Axes>"
      ]
     },
     "metadata": {
      "needs_background": "light"
     },
     "output_type": "display_data"
    }
   ],
   "source": [
    "\n",
    "sns.histplot(data=df,x='Workclass',hue='Income')\n",
    "plt.xticks(rotation=90);"
   ]
  },
  {
   "cell_type": "code",
   "execution_count": 24,
   "metadata": {},
   "outputs": [
    {
     "data": {
      "text/plain": [
       "<AxesSubplot:xlabel='Fnlwgt', ylabel='Density'>"
      ]
     },
     "execution_count": 24,
     "metadata": {},
     "output_type": "execute_result"
    },
    {
     "data": {
      "image/png": "[encoded data removed]",
      "text/plain": [
       "<Figure size 432x288 with 1 Axes>"
      ]
     },
     "metadata": {
      "needs_background": "light"
     },
     "output_type": "display_data"
    }
   ],
   "source": [
    "sns.distplot(df['Fnlwgt'])"
   ]
  },
  {
   "cell_type": "code",
   "execution_count": 25,
   "metadata": {},
   "outputs": [
    {
     "data": {
      "text/plain": [
       "9     10501\n",
       "10     7291\n",
       "13     5354\n",
       "14     1723\n",
       "11     1382\n",
       "7      1175\n",
       "12     1067\n",
       "6       933\n",
       "4       646\n",
       "15      576\n",
       "5       514\n",
       "8       433\n",
       "16      413\n",
       "3       333\n",
       "2       168\n",
       "1        51\n",
       "Name: Education_num, dtype: int64"
      ]
     },
     "execution_count": 25,
     "metadata": {},
     "output_type": "execute_result"
    }
   ],
   "source": [
    "df['Education_num'].value_counts()\n"
   ]
  },
  {
   "cell_type": "code",
   "execution_count": 26,
   "metadata": {},
   "outputs": [
    {
     "data": {
      "text/plain": [
       " HS-grad         10501\n",
       " Some-college     7291\n",
       " Bachelors        5354\n",
       " Masters          1723\n",
       " Assoc-voc        1382\n",
       " 11th             1175\n",
       " Assoc-acdm       1067\n",
       " 10th              933\n",
       " 7th-8th           646\n",
       " Prof-school       576\n",
       " 9th               514\n",
       " 12th              433\n",
       " Doctorate         413\n",
       " 5th-6th           333\n",
       " 1st-4th           168\n",
       " Preschool          51\n",
       "Name: Education, dtype: int64"
      ]
     },
     "execution_count": 26,
     "metadata": {},
     "output_type": "execute_result"
    }
   ],
   "source": [
    "df['Education'].value_counts()"
   ]
  },
  {
   "cell_type": "markdown",
   "metadata": {},
   "source": [
    "Above 2 have same value counts for each category so one is a duplicate column so will drop it\n",
    "The matching education level of the education number:\n",
    "\n",
    "1: Preschool, 2: 1st-4th, 3: 5th-6th, 4: 7th-8th, 5: 9th, 6: 10th, 7: 11th, 8: 12th, 9: HS-grad,\n",
    "\n",
    "10: Some-college, 11: Assoc-voc, 12: Assoc-acdm, 13: Bachelors, 14: Masters, 15: Prof-school, 16: Doctorate"
   ]
  },
  {
   "cell_type": "code",
   "execution_count": null,
   "metadata": {},
   "outputs": [],
   "source": []
  },
  {
   "cell_type": "code",
   "execution_count": 27,
   "metadata": {},
   "outputs": [
    {
     "data": {
      "image/png": "[encoded data removed]",
      "text/plain": [
       "<Figure size 432x288 with 1 Axes>"
      ]
     },
     "metadata": {
      "needs_background": "light"
     },
     "output_type": "display_data"
    }
   ],
   "source": [
    "\n",
    "sns.histplot(data=df,x='Education',hue='Income')\n",
    "plt.xticks(rotation=90);"
   ]
  },
  {
   "cell_type": "markdown",
   "metadata": {},
   "source": [
    "In all the cases people with income less than 50k are more except higher education like Masters, Doctorate, prof school"
   ]
  },
  {
   "cell_type": "code",
   "execution_count": 28,
   "metadata": {},
   "outputs": [],
   "source": [
    "df.drop('Education', inplace=True, axis=1)"
   ]
  },
  {
   "cell_type": "code",
   "execution_count": 29,
   "metadata": {},
   "outputs": [
    {
     "data": {
      "image/png": "[encoded data removed]",
      "text/plain": [
       "<Figure size 432x288 with 1 Axes>"
      ]
     },
     "metadata": {
      "needs_background": "light"
     },
     "output_type": "display_data"
    }
   ],
   "source": [
    "\n",
    "sns.histplot(data=df,x='Marital_status',hue='Income')\n",
    "plt.xticks(rotation=90);"
   ]
  },
  {
   "cell_type": "code",
   "execution_count": 30,
   "metadata": {},
   "outputs": [
    {
     "data": {
      "image/png": "[encoded data removed]",
      "text/plain": [
       "<Figure size 432x288 with 1 Axes>"
      ]
     },
     "metadata": {
      "needs_background": "light"
     },
     "output_type": "display_data"
    }
   ],
   "source": [
    "\n",
    "sns.histplot(data=df,x='Occupation',hue='Income')\n",
    "plt.xticks(rotation=90);"
   ]
  },
  {
   "cell_type": "code",
   "execution_count": 31,
   "metadata": {},
   "outputs": [],
   "source": [
    "df['Occupation']=df['Occupation'].str.strip().replace({'?':'undisclosed'});"
   ]
  },
  {
   "cell_type": "code",
   "execution_count": 32,
   "metadata": {},
   "outputs": [
    {
     "data": {
      "image/png": "[encoded data removed]",
      "text/plain": [
       "<Figure size 432x288 with 1 Axes>"
      ]
     },
     "metadata": {
      "needs_background": "light"
     },
     "output_type": "display_data"
    }
   ],
   "source": [
    "sns.histplot(data=df,x='Occupation',hue='Income')\n",
    "plt.xticks(rotation=90);"
   ]
  },
  {
   "cell_type": "code",
   "execution_count": 33,
   "metadata": {},
   "outputs": [
    {
     "data": {
      "image/png": "[encoded data removed]",
      "text/plain": [
       "<Figure size 432x288 with 1 Axes>"
      ]
     },
     "metadata": {
      "needs_background": "light"
     },
     "output_type": "display_data"
    }
   ],
   "source": [
    "sns.histplot(data=df,x='Relationship',hue='Income')\n",
    "plt.xticks(rotation=90);"
   ]
  },
  {
   "cell_type": "code",
   "execution_count": 34,
   "metadata": {},
   "outputs": [
    {
     "data": {
      "image/png": "[encoded data removed]",
      "text/plain": [
       "<Figure size 432x288 with 1 Axes>"
      ]
     },
     "metadata": {
      "needs_background": "light"
     },
     "output_type": "display_data"
    }
   ],
   "source": [
    "sns.histplot(data=df,x='Race',hue='Income')\n",
    "plt.xticks(rotation=90);"
   ]
  },
  {
   "cell_type": "code",
   "execution_count": 35,
   "metadata": {},
   "outputs": [
    {
     "data": {
      "image/png": "[encoded data removed]",
      "text/plain": [
       "<Figure size 432x288 with 1 Axes>"
      ]
     },
     "metadata": {
      "needs_background": "light"
     },
     "output_type": "display_data"
    }
   ],
   "source": [
    "sns.histplot(data=df,x='Sex',hue='Income')\n",
    "plt.xticks(rotation=90);"
   ]
  },
  {
   "cell_type": "code",
   "execution_count": 36,
   "metadata": {},
   "outputs": [
    {
     "data": {
      "image/png": "[encoded data removed]",
      "text/plain": [
       "<Figure size 432x288 with 1 Axes>"
      ]
     },
     "metadata": {
      "needs_background": "light"
     },
     "output_type": "display_data"
    }
   ],
   "source": [
    "sns.histplot(data=df,x='Capital_gain',hue='Income')\n",
    "plt.xticks(rotation=90);"
   ]
  },
  {
   "cell_type": "code",
   "execution_count": 37,
   "metadata": {},
   "outputs": [
    {
     "data": {
      "image/png": "[encoded data removed]",
      "text/plain": [
       "<Figure size 432x288 with 1 Axes>"
      ]
     },
     "metadata": {
      "needs_background": "light"
     },
     "output_type": "display_data"
    }
   ],
   "source": [
    "sns.histplot(data=df,x='Capital_loss',hue='Income')\n",
    "plt.xticks(rotation=90);"
   ]
  },
  {
   "cell_type": "code",
   "execution_count": 38,
   "metadata": {},
   "outputs": [
    {
     "data": {
      "image/png": "[encoded data removed]",
      "text/plain": [
       "<Figure size 432x288 with 1 Axes>"
      ]
     },
     "metadata": {
      "needs_background": "light"
     },
     "output_type": "display_data"
    }
   ],
   "source": [
    "sns.barplot(data=df,y='Hours_per_week',x='Income')\n",
    "plt.xticks(rotation=90);"
   ]
  },
  {
   "cell_type": "code",
   "execution_count": 39,
   "metadata": {},
   "outputs": [
    {
     "data": {
      "image/png": "[encoded data removed]",
      "text/plain": [
       "<Figure size 432x288 with 1 Axes>"
      ]
     },
     "metadata": {
      "needs_background": "light"
     },
     "output_type": "display_data"
    }
   ],
   "source": [
    "sns.histplot(data=df,x='Hours_per_week',hue='Income')\n",
    "plt.xticks(rotation=90);"
   ]
  },
  {
   "cell_type": "code",
   "execution_count": 40,
   "metadata": {},
   "outputs": [
    {
     "data": {
      "image/png": "[encoded data removed]",
      "text/plain": [
       "<Figure size 432x288 with 1 Axes>"
      ]
     },
     "metadata": {
      "needs_background": "light"
     },
     "output_type": "display_data"
    }
   ],
   "source": [
    "sns.histplot(data=df,x='Native_country',hue='Income')\n",
    "plt.xticks(rotation=90);"
   ]
  },
  {
   "cell_type": "code",
   "execution_count": 41,
   "metadata": {},
   "outputs": [
    {
     "data": {
      "text/plain": [
       " United-States                 29169\n",
       " Mexico                          643\n",
       " ?                               583\n",
       " Philippines                     198\n",
       " Germany                         137\n",
       " Canada                          121\n",
       " Puerto-Rico                     114\n",
       " El-Salvador                     106\n",
       " India                           100\n",
       " Cuba                             95\n",
       " England                          90\n",
       " Jamaica                          81\n",
       " South                            80\n",
       " China                            75\n",
       " Italy                            73\n",
       " Dominican-Republic               70\n",
       " Vietnam                          67\n",
       " Guatemala                        64\n",
       " Japan                            62\n",
       " Poland                           60\n",
       " Columbia                         59\n",
       " Taiwan                           51\n",
       " Haiti                            44\n",
       " Iran                             43\n",
       " Portugal                         37\n",
       " Nicaragua                        34\n",
       " Peru                             31\n",
       " France                           29\n",
       " Greece                           29\n",
       " Ecuador                          28\n",
       " Ireland                          24\n",
       " Hong                             20\n",
       " Trinadad&Tobago                  19\n",
       " Cambodia                         19\n",
       " Thailand                         18\n",
       " Laos                             18\n",
       " Yugoslavia                       16\n",
       " Outlying-US(Guam-USVI-etc)       14\n",
       " Hungary                          13\n",
       " Honduras                         13\n",
       " Scotland                         12\n",
       " Holand-Netherlands                1\n",
       "Name: Native_country, dtype: int64"
      ]
     },
     "execution_count": 41,
     "metadata": {},
     "output_type": "execute_result"
    }
   ],
   "source": [
    "df['Native_country'].value_counts()"
   ]
  },
  {
   "cell_type": "code",
   "execution_count": 42,
   "metadata": {},
   "outputs": [],
   "source": [
    "df['Native_country']=df['Native_country'].str.strip().replace({'?':'undisclosed'});"
   ]
  },
  {
   "cell_type": "code",
   "execution_count": null,
   "metadata": {},
   "outputs": [],
   "source": []
  },
  {
   "cell_type": "code",
   "execution_count": null,
   "metadata": {},
   "outputs": [],
   "source": []
  },
  {
   "cell_type": "code",
   "execution_count": null,
   "metadata": {},
   "outputs": [],
   "source": []
  },
  {
   "cell_type": "code",
   "execution_count": null,
   "metadata": {},
   "outputs": [],
   "source": []
  },
  {
   "cell_type": "code",
   "execution_count": 43,
   "metadata": {},
   "outputs": [
    {
     "data": {
      "text/plain": [
       "Index(['Age', 'Workclass', 'Fnlwgt', 'Education_num', 'Marital_status',\n",
       "       'Occupation', 'Relationship', 'Race', 'Sex', 'Capital_gain',\n",
       "       'Capital_loss', 'Hours_per_week', 'Native_country', 'Income'],\n",
       "      dtype='object')"
      ]
     },
     "execution_count": 43,
     "metadata": {},
     "output_type": "execute_result"
    }
   ],
   "source": [
    "df.columns"
   ]
  },
  {
   "cell_type": "code",
   "execution_count": 44,
   "metadata": {},
   "outputs": [
    {
     "name": "stdout",
     "output_type": "stream",
     "text": [
      "['Workclass', 'Marital_status', 'Occupation', 'Relationship', 'Race', 'Sex', 'Native_country', 'Income']\n",
      "['Age', 'Fnlwgt', 'Education_num', 'Capital_gain', 'Capital_loss', 'Hours_per_week']\n"
     ]
    }
   ],
   "source": [
    "categorical_columns = ['Workclass', 'Marital_status', 'Occupation', 'Relationship', 'Race','Sex','Native_country','Income']\n",
    "    \n",
    "print(categorical_columns)\n",
    "numerical_columns = ['Age','Fnlwgt','Education_num','Capital_gain', 'Capital_loss','Hours_per_week', ]\n",
    "print(numerical_columns)\n"
   ]
  },
  {
   "cell_type": "code",
   "execution_count": 45,
   "metadata": {},
   "outputs": [
    {
     "data": {
      "text/html": [
       "<div>\n",
       "<style scoped>\n",
       "    .dataframe tbody tr th:only-of-type {\n",
       "        vertical-align: middle;\n",
       "    }\n",
       "\n",
       "    .dataframe tbody tr th {\n",
       "        vertical-align: top;\n",
       "    }\n",
       "\n",
       "    .dataframe thead th {\n",
       "        text-align: right;\n",
       "    }\n",
       "</style>\n",
       "<table border=\"1\" class=\"dataframe\">\n",
       "  <thead>\n",
       "    <tr style=\"text-align: right;\">\n",
       "      <th></th>\n",
       "      <th>Age</th>\n",
       "      <th>Workclass</th>\n",
       "      <th>Fnlwgt</th>\n",
       "      <th>Education_num</th>\n",
       "      <th>Marital_status</th>\n",
       "      <th>Occupation</th>\n",
       "      <th>Relationship</th>\n",
       "      <th>Race</th>\n",
       "      <th>Sex</th>\n",
       "      <th>Capital_gain</th>\n",
       "      <th>Capital_loss</th>\n",
       "      <th>Hours_per_week</th>\n",
       "      <th>Native_country</th>\n",
       "      <th>Income</th>\n",
       "    </tr>\n",
       "  </thead>\n",
       "  <tbody>\n",
       "    <tr>\n",
       "      <th>0</th>\n",
       "      <td>50</td>\n",
       "      <td>Self-emp-not-inc</td>\n",
       "      <td>83311</td>\n",
       "      <td>13</td>\n",
       "      <td>Married-civ-spouse</td>\n",
       "      <td>Exec-managerial</td>\n",
       "      <td>Husband</td>\n",
       "      <td>White</td>\n",
       "      <td>Male</td>\n",
       "      <td>0</td>\n",
       "      <td>0</td>\n",
       "      <td>13</td>\n",
       "      <td>United-States</td>\n",
       "      <td>&lt;=50K</td>\n",
       "    </tr>\n",
       "    <tr>\n",
       "      <th>1</th>\n",
       "      <td>38</td>\n",
       "      <td>Private</td>\n",
       "      <td>215646</td>\n",
       "      <td>9</td>\n",
       "      <td>Divorced</td>\n",
       "      <td>Handlers-cleaners</td>\n",
       "      <td>Not-in-family</td>\n",
       "      <td>White</td>\n",
       "      <td>Male</td>\n",
       "      <td>0</td>\n",
       "      <td>0</td>\n",
       "      <td>40</td>\n",
       "      <td>United-States</td>\n",
       "      <td>&lt;=50K</td>\n",
       "    </tr>\n",
       "    <tr>\n",
       "      <th>2</th>\n",
       "      <td>53</td>\n",
       "      <td>Private</td>\n",
       "      <td>234721</td>\n",
       "      <td>7</td>\n",
       "      <td>Married-civ-spouse</td>\n",
       "      <td>Handlers-cleaners</td>\n",
       "      <td>Husband</td>\n",
       "      <td>Black</td>\n",
       "      <td>Male</td>\n",
       "      <td>0</td>\n",
       "      <td>0</td>\n",
       "      <td>40</td>\n",
       "      <td>United-States</td>\n",
       "      <td>&lt;=50K</td>\n",
       "    </tr>\n",
       "    <tr>\n",
       "      <th>3</th>\n",
       "      <td>28</td>\n",
       "      <td>Private</td>\n",
       "      <td>338409</td>\n",
       "      <td>13</td>\n",
       "      <td>Married-civ-spouse</td>\n",
       "      <td>Prof-specialty</td>\n",
       "      <td>Wife</td>\n",
       "      <td>Black</td>\n",
       "      <td>Female</td>\n",
       "      <td>0</td>\n",
       "      <td>0</td>\n",
       "      <td>40</td>\n",
       "      <td>Cuba</td>\n",
       "      <td>&lt;=50K</td>\n",
       "    </tr>\n",
       "    <tr>\n",
       "      <th>4</th>\n",
       "      <td>37</td>\n",
       "      <td>Private</td>\n",
       "      <td>284582</td>\n",
       "      <td>14</td>\n",
       "      <td>Married-civ-spouse</td>\n",
       "      <td>Exec-managerial</td>\n",
       "      <td>Wife</td>\n",
       "      <td>White</td>\n",
       "      <td>Female</td>\n",
       "      <td>0</td>\n",
       "      <td>0</td>\n",
       "      <td>40</td>\n",
       "      <td>United-States</td>\n",
       "      <td>&lt;=50K</td>\n",
       "    </tr>\n",
       "  </tbody>\n",
       "</table>\n",
       "</div>"
      ],
      "text/plain": [
       "   Age         Workclass  Fnlwgt  Education_num       Marital_status  \\\n",
       "0   50  Self-emp-not-inc   83311             13   Married-civ-spouse   \n",
       "1   38           Private  215646              9             Divorced   \n",
       "2   53           Private  234721              7   Married-civ-spouse   \n",
       "3   28           Private  338409             13   Married-civ-spouse   \n",
       "4   37           Private  284582             14   Married-civ-spouse   \n",
       "\n",
       "          Occupation    Relationship    Race      Sex  Capital_gain  \\\n",
       "0    Exec-managerial         Husband   White     Male             0   \n",
       "1  Handlers-cleaners   Not-in-family   White     Male             0   \n",
       "2  Handlers-cleaners         Husband   Black     Male             0   \n",
       "3     Prof-specialty            Wife   Black   Female             0   \n",
       "4    Exec-managerial            Wife   White   Female             0   \n",
       "\n",
       "   Capital_loss  Hours_per_week Native_country  Income  \n",
       "0             0              13  United-States   <=50K  \n",
       "1             0              40  United-States   <=50K  \n",
       "2             0              40  United-States   <=50K  \n",
       "3             0              40           Cuba   <=50K  \n",
       "4             0              40  United-States   <=50K  "
      ]
     },
     "execution_count": 45,
     "metadata": {},
     "output_type": "execute_result"
    }
   ],
   "source": [
    "df.head()"
   ]
  },
  {
   "cell_type": "code",
   "execution_count": 46,
   "metadata": {},
   "outputs": [],
   "source": [
    "df=pd.get_dummies(data=df,drop_first=True)"
   ]
  },
  {
   "cell_type": "code",
   "execution_count": 47,
   "metadata": {},
   "outputs": [
    {
     "data": {
      "text/html": [
       "<div>\n",
       "<style scoped>\n",
       "    .dataframe tbody tr th:only-of-type {\n",
       "        vertical-align: middle;\n",
       "    }\n",
       "\n",
       "    .dataframe tbody tr th {\n",
       "        vertical-align: top;\n",
       "    }\n",
       "\n",
       "    .dataframe thead th {\n",
       "        text-align: right;\n",
       "    }\n",
       "</style>\n",
       "<table border=\"1\" class=\"dataframe\">\n",
       "  <thead>\n",
       "    <tr style=\"text-align: right;\">\n",
       "      <th></th>\n",
       "      <th>Age</th>\n",
       "      <th>Fnlwgt</th>\n",
       "      <th>Education_num</th>\n",
       "      <th>Capital_gain</th>\n",
       "      <th>Capital_loss</th>\n",
       "      <th>Hours_per_week</th>\n",
       "      <th>Workclass_Local-gov</th>\n",
       "      <th>Workclass_Never-worked</th>\n",
       "      <th>Workclass_Private</th>\n",
       "      <th>Workclass_Self-emp-inc</th>\n",
       "      <th>...</th>\n",
       "      <th>Native_country_Scotland</th>\n",
       "      <th>Native_country_South</th>\n",
       "      <th>Native_country_Taiwan</th>\n",
       "      <th>Native_country_Thailand</th>\n",
       "      <th>Native_country_Trinadad&amp;Tobago</th>\n",
       "      <th>Native_country_United-States</th>\n",
       "      <th>Native_country_Vietnam</th>\n",
       "      <th>Native_country_Yugoslavia</th>\n",
       "      <th>Native_country_undisclosed</th>\n",
       "      <th>Income_ &gt;50K</th>\n",
       "    </tr>\n",
       "  </thead>\n",
       "  <tbody>\n",
       "    <tr>\n",
       "      <th>0</th>\n",
       "      <td>50</td>\n",
       "      <td>83311</td>\n",
       "      <td>13</td>\n",
       "      <td>0</td>\n",
       "      <td>0</td>\n",
       "      <td>13</td>\n",
       "      <td>0</td>\n",
       "      <td>0</td>\n",
       "      <td>0</td>\n",
       "      <td>0</td>\n",
       "      <td>...</td>\n",
       "      <td>0</td>\n",
       "      <td>0</td>\n",
       "      <td>0</td>\n",
       "      <td>0</td>\n",
       "      <td>0</td>\n",
       "      <td>1</td>\n",
       "      <td>0</td>\n",
       "      <td>0</td>\n",
       "      <td>0</td>\n",
       "      <td>0</td>\n",
       "    </tr>\n",
       "    <tr>\n",
       "      <th>1</th>\n",
       "      <td>38</td>\n",
       "      <td>215646</td>\n",
       "      <td>9</td>\n",
       "      <td>0</td>\n",
       "      <td>0</td>\n",
       "      <td>40</td>\n",
       "      <td>0</td>\n",
       "      <td>0</td>\n",
       "      <td>1</td>\n",
       "      <td>0</td>\n",
       "      <td>...</td>\n",
       "      <td>0</td>\n",
       "      <td>0</td>\n",
       "      <td>0</td>\n",
       "      <td>0</td>\n",
       "      <td>0</td>\n",
       "      <td>1</td>\n",
       "      <td>0</td>\n",
       "      <td>0</td>\n",
       "      <td>0</td>\n",
       "      <td>0</td>\n",
       "    </tr>\n",
       "    <tr>\n",
       "      <th>2</th>\n",
       "      <td>53</td>\n",
       "      <td>234721</td>\n",
       "      <td>7</td>\n",
       "      <td>0</td>\n",
       "      <td>0</td>\n",
       "      <td>40</td>\n",
       "      <td>0</td>\n",
       "      <td>0</td>\n",
       "      <td>1</td>\n",
       "      <td>0</td>\n",
       "      <td>...</td>\n",
       "      <td>0</td>\n",
       "      <td>0</td>\n",
       "      <td>0</td>\n",
       "      <td>0</td>\n",
       "      <td>0</td>\n",
       "      <td>1</td>\n",
       "      <td>0</td>\n",
       "      <td>0</td>\n",
       "      <td>0</td>\n",
       "      <td>0</td>\n",
       "    </tr>\n",
       "    <tr>\n",
       "      <th>3</th>\n",
       "      <td>28</td>\n",
       "      <td>338409</td>\n",
       "      <td>13</td>\n",
       "      <td>0</td>\n",
       "      <td>0</td>\n",
       "      <td>40</td>\n",
       "      <td>0</td>\n",
       "      <td>0</td>\n",
       "      <td>1</td>\n",
       "      <td>0</td>\n",
       "      <td>...</td>\n",
       "      <td>0</td>\n",
       "      <td>0</td>\n",
       "      <td>0</td>\n",
       "      <td>0</td>\n",
       "      <td>0</td>\n",
       "      <td>0</td>\n",
       "      <td>0</td>\n",
       "      <td>0</td>\n",
       "      <td>0</td>\n",
       "      <td>0</td>\n",
       "    </tr>\n",
       "    <tr>\n",
       "      <th>4</th>\n",
       "      <td>37</td>\n",
       "      <td>284582</td>\n",
       "      <td>14</td>\n",
       "      <td>0</td>\n",
       "      <td>0</td>\n",
       "      <td>40</td>\n",
       "      <td>0</td>\n",
       "      <td>0</td>\n",
       "      <td>1</td>\n",
       "      <td>0</td>\n",
       "      <td>...</td>\n",
       "      <td>0</td>\n",
       "      <td>0</td>\n",
       "      <td>0</td>\n",
       "      <td>0</td>\n",
       "      <td>0</td>\n",
       "      <td>1</td>\n",
       "      <td>0</td>\n",
       "      <td>0</td>\n",
       "      <td>0</td>\n",
       "      <td>0</td>\n",
       "    </tr>\n",
       "  </tbody>\n",
       "</table>\n",
       "<p>5 rows × 86 columns</p>\n",
       "</div>"
      ],
      "text/plain": [
       "   Age  Fnlwgt  Education_num  Capital_gain  Capital_loss  Hours_per_week  \\\n",
       "0   50   83311             13             0             0              13   \n",
       "1   38  215646              9             0             0              40   \n",
       "2   53  234721              7             0             0              40   \n",
       "3   28  338409             13             0             0              40   \n",
       "4   37  284582             14             0             0              40   \n",
       "\n",
       "   Workclass_Local-gov  Workclass_Never-worked  Workclass_Private  \\\n",
       "0                    0                       0                  0   \n",
       "1                    0                       0                  1   \n",
       "2                    0                       0                  1   \n",
       "3                    0                       0                  1   \n",
       "4                    0                       0                  1   \n",
       "\n",
       "   Workclass_Self-emp-inc  ...  Native_country_Scotland  Native_country_South  \\\n",
       "0                       0  ...                        0                     0   \n",
       "1                       0  ...                        0                     0   \n",
       "2                       0  ...                        0                     0   \n",
       "3                       0  ...                        0                     0   \n",
       "4                       0  ...                        0                     0   \n",
       "\n",
       "   Native_country_Taiwan  Native_country_Thailand  \\\n",
       "0                      0                        0   \n",
       "1                      0                        0   \n",
       "2                      0                        0   \n",
       "3                      0                        0   \n",
       "4                      0                        0   \n",
       "\n",
       "   Native_country_Trinadad&Tobago  Native_country_United-States  \\\n",
       "0                               0                             1   \n",
       "1                               0                             1   \n",
       "2                               0                             1   \n",
       "3                               0                             0   \n",
       "4                               0                             1   \n",
       "\n",
       "   Native_country_Vietnam  Native_country_Yugoslavia  \\\n",
       "0                       0                          0   \n",
       "1                       0                          0   \n",
       "2                       0                          0   \n",
       "3                       0                          0   \n",
       "4                       0                          0   \n",
       "\n",
       "   Native_country_undisclosed  Income_ >50K  \n",
       "0                           0             0  \n",
       "1                           0             0  \n",
       "2                           0             0  \n",
       "3                           0             0  \n",
       "4                           0             0  \n",
       "\n",
       "[5 rows x 86 columns]"
      ]
     },
     "execution_count": 47,
     "metadata": {},
     "output_type": "execute_result"
    }
   ],
   "source": [
    "df.head()"
   ]
  },
  {
   "cell_type": "code",
   "execution_count": 48,
   "metadata": {},
   "outputs": [
    {
     "name": "stdout",
     "output_type": "stream",
     "text": [
      "<class 'pandas.core.frame.DataFrame'>\n",
      "Int64Index: 32560 entries, 0 to 32559\n",
      "Data columns (total 86 columns):\n",
      " #   Column                                     Non-Null Count  Dtype\n",
      "---  ------                                     --------------  -----\n",
      " 0   Age                                        32560 non-null  int64\n",
      " 1   Fnlwgt                                     32560 non-null  int64\n",
      " 2   Education_num                              32560 non-null  int64\n",
      " 3   Capital_gain                               32560 non-null  int64\n",
      " 4   Capital_loss                               32560 non-null  int64\n",
      " 5   Hours_per_week                             32560 non-null  int64\n",
      " 6   Workclass_Local-gov                        32560 non-null  uint8\n",
      " 7   Workclass_Never-worked                     32560 non-null  uint8\n",
      " 8   Workclass_Private                          32560 non-null  uint8\n",
      " 9   Workclass_Self-emp-inc                     32560 non-null  uint8\n",
      " 10  Workclass_Self-emp-not-inc                 32560 non-null  uint8\n",
      " 11  Workclass_State-gov                        32560 non-null  uint8\n",
      " 12  Workclass_Without-pay                      32560 non-null  uint8\n",
      " 13  Workclass_undisclosed                      32560 non-null  uint8\n",
      " 14  Marital_status_ Married-AF-spouse          32560 non-null  uint8\n",
      " 15  Marital_status_ Married-civ-spouse         32560 non-null  uint8\n",
      " 16  Marital_status_ Married-spouse-absent      32560 non-null  uint8\n",
      " 17  Marital_status_ Never-married              32560 non-null  uint8\n",
      " 18  Marital_status_ Separated                  32560 non-null  uint8\n",
      " 19  Marital_status_ Widowed                    32560 non-null  uint8\n",
      " 20  Occupation_Armed-Forces                    32560 non-null  uint8\n",
      " 21  Occupation_Craft-repair                    32560 non-null  uint8\n",
      " 22  Occupation_Exec-managerial                 32560 non-null  uint8\n",
      " 23  Occupation_Farming-fishing                 32560 non-null  uint8\n",
      " 24  Occupation_Handlers-cleaners               32560 non-null  uint8\n",
      " 25  Occupation_Machine-op-inspct               32560 non-null  uint8\n",
      " 26  Occupation_Other-service                   32560 non-null  uint8\n",
      " 27  Occupation_Priv-house-serv                 32560 non-null  uint8\n",
      " 28  Occupation_Prof-specialty                  32560 non-null  uint8\n",
      " 29  Occupation_Protective-serv                 32560 non-null  uint8\n",
      " 30  Occupation_Sales                           32560 non-null  uint8\n",
      " 31  Occupation_Tech-support                    32560 non-null  uint8\n",
      " 32  Occupation_Transport-moving                32560 non-null  uint8\n",
      " 33  Occupation_undisclosed                     32560 non-null  uint8\n",
      " 34  Relationship_ Not-in-family                32560 non-null  uint8\n",
      " 35  Relationship_ Other-relative               32560 non-null  uint8\n",
      " 36  Relationship_ Own-child                    32560 non-null  uint8\n",
      " 37  Relationship_ Unmarried                    32560 non-null  uint8\n",
      " 38  Relationship_ Wife                         32560 non-null  uint8\n",
      " 39  Race_ Asian-Pac-Islander                   32560 non-null  uint8\n",
      " 40  Race_ Black                                32560 non-null  uint8\n",
      " 41  Race_ Other                                32560 non-null  uint8\n",
      " 42  Race_ White                                32560 non-null  uint8\n",
      " 43  Sex_ Male                                  32560 non-null  uint8\n",
      " 44  Native_country_Canada                      32560 non-null  uint8\n",
      " 45  Native_country_China                       32560 non-null  uint8\n",
      " 46  Native_country_Columbia                    32560 non-null  uint8\n",
      " 47  Native_country_Cuba                        32560 non-null  uint8\n",
      " 48  Native_country_Dominican-Republic          32560 non-null  uint8\n",
      " 49  Native_country_Ecuador                     32560 non-null  uint8\n",
      " 50  Native_country_El-Salvador                 32560 non-null  uint8\n",
      " 51  Native_country_England                     32560 non-null  uint8\n",
      " 52  Native_country_France                      32560 non-null  uint8\n",
      " 53  Native_country_Germany                     32560 non-null  uint8\n",
      " 54  Native_country_Greece                      32560 non-null  uint8\n",
      " 55  Native_country_Guatemala                   32560 non-null  uint8\n",
      " 56  Native_country_Haiti                       32560 non-null  uint8\n",
      " 57  Native_country_Holand-Netherlands          32560 non-null  uint8\n",
      " 58  Native_country_Honduras                    32560 non-null  uint8\n",
      " 59  Native_country_Hong                        32560 non-null  uint8\n",
      " 60  Native_country_Hungary                     32560 non-null  uint8\n",
      " 61  Native_country_India                       32560 non-null  uint8\n",
      " 62  Native_country_Iran                        32560 non-null  uint8\n",
      " 63  Native_country_Ireland                     32560 non-null  uint8\n",
      " 64  Native_country_Italy                       32560 non-null  uint8\n",
      " 65  Native_country_Jamaica                     32560 non-null  uint8\n",
      " 66  Native_country_Japan                       32560 non-null  uint8\n",
      " 67  Native_country_Laos                        32560 non-null  uint8\n",
      " 68  Native_country_Mexico                      32560 non-null  uint8\n",
      " 69  Native_country_Nicaragua                   32560 non-null  uint8\n",
      " 70  Native_country_Outlying-US(Guam-USVI-etc)  32560 non-null  uint8\n",
      " 71  Native_country_Peru                        32560 non-null  uint8\n",
      " 72  Native_country_Philippines                 32560 non-null  uint8\n",
      " 73  Native_country_Poland                      32560 non-null  uint8\n",
      " 74  Native_country_Portugal                    32560 non-null  uint8\n",
      " 75  Native_country_Puerto-Rico                 32560 non-null  uint8\n",
      " 76  Native_country_Scotland                    32560 non-null  uint8\n",
      " 77  Native_country_South                       32560 non-null  uint8\n",
      " 78  Native_country_Taiwan                      32560 non-null  uint8\n",
      " 79  Native_country_Thailand                    32560 non-null  uint8\n",
      " 80  Native_country_Trinadad&Tobago             32560 non-null  uint8\n",
      " 81  Native_country_United-States               32560 non-null  uint8\n",
      " 82  Native_country_Vietnam                     32560 non-null  uint8\n",
      " 83  Native_country_Yugoslavia                  32560 non-null  uint8\n",
      " 84  Native_country_undisclosed                 32560 non-null  uint8\n",
      " 85  Income_ >50K                               32560 non-null  uint8\n",
      "dtypes: int64(6), uint8(80)\n",
      "memory usage: 5.2 MB\n"
     ]
    }
   ],
   "source": [
    "df.info()"
   ]
  },
  {
   "cell_type": "code",
   "execution_count": 50,
   "metadata": {},
   "outputs": [
    {
     "data": {
      "text/plain": [
       "['Age',\n",
       " 'Fnlwgt',\n",
       " 'Education_num',\n",
       " 'Capital_gain',\n",
       " 'Capital_loss',\n",
       " 'Hours_per_week']"
      ]
     },
     "execution_count": 50,
     "metadata": {},
     "output_type": "execute_result"
    }
   ],
   "source": [
    "numerical_columns"
   ]
  },
  {
   "cell_type": "code",
   "execution_count": 51,
   "metadata": {},
   "outputs": [
    {
     "data": {
      "text/html": [
       "<div>\n",
       "<style scoped>\n",
       "    .dataframe tbody tr th:only-of-type {\n",
       "        vertical-align: middle;\n",
       "    }\n",
       "\n",
       "    .dataframe tbody tr th {\n",
       "        vertical-align: top;\n",
       "    }\n",
       "\n",
       "    .dataframe thead th {\n",
       "        text-align: right;\n",
       "    }\n",
       "</style>\n",
       "<table border=\"1\" class=\"dataframe\">\n",
       "  <thead>\n",
       "    <tr style=\"text-align: right;\">\n",
       "      <th></th>\n",
       "      <th>Age</th>\n",
       "      <th>Fnlwgt</th>\n",
       "      <th>Education_num</th>\n",
       "      <th>Capital_gain</th>\n",
       "      <th>Capital_loss</th>\n",
       "      <th>Hours_per_week</th>\n",
       "      <th>Income_ &gt;50K</th>\n",
       "    </tr>\n",
       "  </thead>\n",
       "  <tbody>\n",
       "    <tr>\n",
       "      <th>Age</th>\n",
       "      <td>1.000000</td>\n",
       "      <td>-0.076646</td>\n",
       "      <td>0.036527</td>\n",
       "      <td>0.077674</td>\n",
       "      <td>0.057775</td>\n",
       "      <td>0.068756</td>\n",
       "      <td>0.234039</td>\n",
       "    </tr>\n",
       "    <tr>\n",
       "      <th>Fnlwgt</th>\n",
       "      <td>-0.076646</td>\n",
       "      <td>1.000000</td>\n",
       "      <td>-0.043159</td>\n",
       "      <td>0.000437</td>\n",
       "      <td>-0.010259</td>\n",
       "      <td>-0.018770</td>\n",
       "      <td>-0.009481</td>\n",
       "    </tr>\n",
       "    <tr>\n",
       "      <th>Education_num</th>\n",
       "      <td>0.036527</td>\n",
       "      <td>-0.043159</td>\n",
       "      <td>1.000000</td>\n",
       "      <td>0.122627</td>\n",
       "      <td>0.079932</td>\n",
       "      <td>0.148127</td>\n",
       "      <td>0.335182</td>\n",
       "    </tr>\n",
       "    <tr>\n",
       "      <th>Capital_gain</th>\n",
       "      <td>0.077674</td>\n",
       "      <td>0.000437</td>\n",
       "      <td>0.122627</td>\n",
       "      <td>1.000000</td>\n",
       "      <td>-0.031614</td>\n",
       "      <td>0.078409</td>\n",
       "      <td>0.223333</td>\n",
       "    </tr>\n",
       "    <tr>\n",
       "      <th>Capital_loss</th>\n",
       "      <td>0.057775</td>\n",
       "      <td>-0.010259</td>\n",
       "      <td>0.079932</td>\n",
       "      <td>-0.031614</td>\n",
       "      <td>1.000000</td>\n",
       "      <td>0.054256</td>\n",
       "      <td>0.150523</td>\n",
       "    </tr>\n",
       "    <tr>\n",
       "      <th>Hours_per_week</th>\n",
       "      <td>0.068756</td>\n",
       "      <td>-0.018770</td>\n",
       "      <td>0.148127</td>\n",
       "      <td>0.078409</td>\n",
       "      <td>0.054256</td>\n",
       "      <td>1.000000</td>\n",
       "      <td>0.229690</td>\n",
       "    </tr>\n",
       "    <tr>\n",
       "      <th>Income_ &gt;50K</th>\n",
       "      <td>0.234039</td>\n",
       "      <td>-0.009481</td>\n",
       "      <td>0.335182</td>\n",
       "      <td>0.223333</td>\n",
       "      <td>0.150523</td>\n",
       "      <td>0.229690</td>\n",
       "      <td>1.000000</td>\n",
       "    </tr>\n",
       "  </tbody>\n",
       "</table>\n",
       "</div>"
      ],
      "text/plain": [
       "                     Age    Fnlwgt  Education_num  Capital_gain  Capital_loss  \\\n",
       "Age             1.000000 -0.076646       0.036527      0.077674      0.057775   \n",
       "Fnlwgt         -0.076646  1.000000      -0.043159      0.000437     -0.010259   \n",
       "Education_num   0.036527 -0.043159       1.000000      0.122627      0.079932   \n",
       "Capital_gain    0.077674  0.000437       0.122627      1.000000     -0.031614   \n",
       "Capital_loss    0.057775 -0.010259       0.079932     -0.031614      1.000000   \n",
       "Hours_per_week  0.068756 -0.018770       0.148127      0.078409      0.054256   \n",
       "Income_ >50K    0.234039 -0.009481       0.335182      0.223333      0.150523   \n",
       "\n",
       "                Hours_per_week  Income_ >50K  \n",
       "Age                   0.068756      0.234039  \n",
       "Fnlwgt               -0.018770     -0.009481  \n",
       "Education_num         0.148127      0.335182  \n",
       "Capital_gain          0.078409      0.223333  \n",
       "Capital_loss          0.054256      0.150523  \n",
       "Hours_per_week        1.000000      0.229690  \n",
       "Income_ >50K          0.229690      1.000000  "
      ]
     },
     "execution_count": 51,
     "metadata": {},
     "output_type": "execute_result"
    }
   ],
   "source": [
    "df[numerical_columns+['Income_ >50K']].corr()"
   ]
  },
  {
   "cell_type": "markdown",
   "metadata": {},
   "source": [
    "all these are positively corelated with income_>50k "
   ]
  },
  {
   "cell_type": "code",
   "execution_count": 53,
   "metadata": {},
   "outputs": [
    {
     "data": {
      "text/plain": [
       "<AxesSubplot:>"
      ]
     },
     "execution_count": 53,
     "metadata": {},
     "output_type": "execute_result"
    },
    {
     "data": {
      "image/png": "[encoded data removed]",
      "text/plain": [
       "<Figure size 432x288 with 1 Axes>"
      ]
     },
     "metadata": {
      "needs_background": "light"
     },
     "output_type": "display_data"
    }
   ],
   "source": [
    "df[numerical_columns+['Income_ >50K']].corr()['Income_ >50K'][:-1].sort_values().plot(kind='bar')"
   ]
  },
  {
   "cell_type": "code",
   "execution_count": 54,
   "metadata": {},
   "outputs": [
    {
     "data": {
      "text/plain": [
       "<AxesSubplot:>"
      ]
     },
     "execution_count": 54,
     "metadata": {},
     "output_type": "execute_result"
    },
    {
     "data": {
      "image/png": "[encoded data removed]",
      "text/plain": [
       "<Figure size 432x288 with 2 Axes>"
      ]
     },
     "metadata": {
      "needs_background": "light"
     },
     "output_type": "display_data"
    }
   ],
   "source": [
    "sns.heatmap(df[numerical_columns+['Income_ >50K']].corr(),annot=True,cmap='viridis')"
   ]
  },
  {
   "cell_type": "markdown",
   "metadata": {},
   "source": [
    "splitting into X and y features"
   ]
  },
  {
   "cell_type": "code",
   "execution_count": 55,
   "metadata": {},
   "outputs": [
    {
     "data": {
      "text/plain": [
       "Index(['Age', 'Fnlwgt', 'Education_num', 'Capital_gain', 'Capital_loss',\n",
       "       'Hours_per_week', 'Workclass_Local-gov', 'Workclass_Never-worked',\n",
       "       'Workclass_Private', 'Workclass_Self-emp-inc',\n",
       "       'Workclass_Self-emp-not-inc', 'Workclass_State-gov',\n",
       "       'Workclass_Without-pay', 'Workclass_undisclosed',\n",
       "       'Marital_status_ Married-AF-spouse',\n",
       "       'Marital_status_ Married-civ-spouse',\n",
       "       'Marital_status_ Married-spouse-absent',\n",
       "       'Marital_status_ Never-married', 'Marital_status_ Separated',\n",
       "       'Marital_status_ Widowed', 'Occupation_Armed-Forces',\n",
       "       'Occupation_Craft-repair', 'Occupation_Exec-managerial',\n",
       "       'Occupation_Farming-fishing', 'Occupation_Handlers-cleaners',\n",
       "       'Occupation_Machine-op-inspct', 'Occupation_Other-service',\n",
       "       'Occupation_Priv-house-serv', 'Occupation_Prof-specialty',\n",
       "       'Occupation_Protective-serv', 'Occupation_Sales',\n",
       "       'Occupation_Tech-support', 'Occupation_Transport-moving',\n",
       "       'Occupation_undisclosed', 'Relationship_ Not-in-family',\n",
       "       'Relationship_ Other-relative', 'Relationship_ Own-child',\n",
       "       'Relationship_ Unmarried', 'Relationship_ Wife',\n",
       "       'Race_ Asian-Pac-Islander', 'Race_ Black', 'Race_ Other', 'Race_ White',\n",
       "       'Sex_ Male', 'Native_country_Canada', 'Native_country_China',\n",
       "       'Native_country_Columbia', 'Native_country_Cuba',\n",
       "       'Native_country_Dominican-Republic', 'Native_country_Ecuador',\n",
       "       'Native_country_El-Salvador', 'Native_country_England',\n",
       "       'Native_country_France', 'Native_country_Germany',\n",
       "       'Native_country_Greece', 'Native_country_Guatemala',\n",
       "       'Native_country_Haiti', 'Native_country_Holand-Netherlands',\n",
       "       'Native_country_Honduras', 'Native_country_Hong',\n",
       "       'Native_country_Hungary', 'Native_country_India', 'Native_country_Iran',\n",
       "       'Native_country_Ireland', 'Native_country_Italy',\n",
       "       'Native_country_Jamaica', 'Native_country_Japan', 'Native_country_Laos',\n",
       "       'Native_country_Mexico', 'Native_country_Nicaragua',\n",
       "       'Native_country_Outlying-US(Guam-USVI-etc)', 'Native_country_Peru',\n",
       "       'Native_country_Philippines', 'Native_country_Poland',\n",
       "       'Native_country_Portugal', 'Native_country_Puerto-Rico',\n",
       "       'Native_country_Scotland', 'Native_country_South',\n",
       "       'Native_country_Taiwan', 'Native_country_Thailand',\n",
       "       'Native_country_Trinadad&Tobago', 'Native_country_United-States',\n",
       "       'Native_country_Vietnam', 'Native_country_Yugoslavia',\n",
       "       'Native_country_undisclosed', 'Income_ >50K'],\n",
       "      dtype='object')"
      ]
     },
     "execution_count": 55,
     "metadata": {},
     "output_type": "execute_result"
    }
   ],
   "source": [
    "df.columns"
   ]
  },
  {
   "cell_type": "code",
   "execution_count": 56,
   "metadata": {},
   "outputs": [],
   "source": [
    "X=df.drop('Income_ >50K',axis=1)\n",
    "y=df['Income_ >50K']"
   ]
  },
  {
   "cell_type": "markdown",
   "metadata": {},
   "source": [
    "# Applying different machine learning models now"
   ]
  },
  {
   "cell_type": "markdown",
   "metadata": {},
   "source": [
    "## identifying the best random state"
   ]
  },
  {
   "cell_type": "code",
   "execution_count": 57,
   "metadata": {},
   "outputs": [
    {
     "name": "stdout",
     "output_type": "stream",
     "text": [
      "best accuracy is 0.8257794322940902 on random state 190\n"
     ]
    }
   ],
   "source": [
    "max_accu=0\n",
    "maxRS=0\n",
    "for i in range(200):\n",
    "    X_train, X_test, y_train, y_test = train_test_split(X, y, test_size=0.33, random_state=i)\n",
    "    dt=DecisionTreeClassifier()\n",
    "    dt.fit(X_train,y_train)\n",
    "    pred=dt.predict(X_test)\n",
    "    accurac=accuracy_score(y_test,pred)\n",
    "    #print(accurac*100,\"at random state\",i)\n",
    "    if(accurac>max_accu):\n",
    "        max_accu=accurac\n",
    "        maxRS=i\n",
    "        \n",
    "print(\"best accuracy is\",max_accu,\"on random state\",maxRS)"
   ]
  },
  {
   "cell_type": "markdown",
   "metadata": {},
   "source": [
    "best accuracy is 0.8257794322940902 on random state 190\n"
   ]
  },
  {
   "cell_type": "code",
   "execution_count": 58,
   "metadata": {},
   "outputs": [],
   "source": [
    "X_train, X_test, y_train, y_test = train_test_split(X, y, test_size=0.33, random_state=183)"
   ]
  },
  {
   "cell_type": "markdown",
   "metadata": {},
   "source": [
    "**TASK: Scale the X train and X test data.**"
   ]
  },
  {
   "cell_type": "markdown",
   "metadata": {},
   "source": [
    "oversampling the triaing set, after the split of data into training and validation set"
   ]
  },
  {
   "cell_type": "code",
   "execution_count": 59,
   "metadata": {},
   "outputs": [
    {
     "data": {
      "text/plain": [
       "0    16529\n",
       "1     5286\n",
       "Name: Income_ >50K, dtype: int64"
      ]
     },
     "execution_count": 59,
     "metadata": {},
     "output_type": "execute_result"
    }
   ],
   "source": [
    "y_train.value_counts()"
   ]
  },
  {
   "cell_type": "code",
   "execution_count": 60,
   "metadata": {},
   "outputs": [],
   "source": [
    "smt=SMOTE()\n",
    "X_resample,y_resample=smt.fit_resample(X_train,y_train)"
   ]
  },
  {
   "cell_type": "code",
   "execution_count": 61,
   "metadata": {},
   "outputs": [
    {
     "data": {
      "text/plain": [
       "0    16529\n",
       "1    16529\n",
       "Name: Income_ >50K, dtype: int64"
      ]
     },
     "execution_count": 61,
     "metadata": {},
     "output_type": "execute_result"
    }
   ],
   "source": [
    "y_resample.value_counts()"
   ]
  },
  {
   "cell_type": "code",
   "execution_count": 63,
   "metadata": {},
   "outputs": [
    {
     "data": {
      "text/html": [
       "<div>\n",
       "<style scoped>\n",
       "    .dataframe tbody tr th:only-of-type {\n",
       "        vertical-align: middle;\n",
       "    }\n",
       "\n",
       "    .dataframe tbody tr th {\n",
       "        vertical-align: top;\n",
       "    }\n",
       "\n",
       "    .dataframe thead th {\n",
       "        text-align: right;\n",
       "    }\n",
       "</style>\n",
       "<table border=\"1\" class=\"dataframe\">\n",
       "  <thead>\n",
       "    <tr style=\"text-align: right;\">\n",
       "      <th></th>\n",
       "      <th>Age</th>\n",
       "      <th>Fnlwgt</th>\n",
       "      <th>Education_num</th>\n",
       "      <th>Capital_gain</th>\n",
       "      <th>Capital_loss</th>\n",
       "      <th>Hours_per_week</th>\n",
       "      <th>Workclass_Local-gov</th>\n",
       "      <th>Workclass_Never-worked</th>\n",
       "      <th>Workclass_Private</th>\n",
       "      <th>Workclass_Self-emp-inc</th>\n",
       "      <th>...</th>\n",
       "      <th>Native_country_Puerto-Rico</th>\n",
       "      <th>Native_country_Scotland</th>\n",
       "      <th>Native_country_South</th>\n",
       "      <th>Native_country_Taiwan</th>\n",
       "      <th>Native_country_Thailand</th>\n",
       "      <th>Native_country_Trinadad&amp;Tobago</th>\n",
       "      <th>Native_country_United-States</th>\n",
       "      <th>Native_country_Vietnam</th>\n",
       "      <th>Native_country_Yugoslavia</th>\n",
       "      <th>Native_country_undisclosed</th>\n",
       "    </tr>\n",
       "  </thead>\n",
       "  <tbody>\n",
       "    <tr>\n",
       "      <th>0</th>\n",
       "      <td>64</td>\n",
       "      <td>69525</td>\n",
       "      <td>9</td>\n",
       "      <td>0</td>\n",
       "      <td>0</td>\n",
       "      <td>20</td>\n",
       "      <td>0</td>\n",
       "      <td>0</td>\n",
       "      <td>1</td>\n",
       "      <td>0</td>\n",
       "      <td>...</td>\n",
       "      <td>0</td>\n",
       "      <td>0</td>\n",
       "      <td>0</td>\n",
       "      <td>0</td>\n",
       "      <td>0</td>\n",
       "      <td>0</td>\n",
       "      <td>1</td>\n",
       "      <td>0</td>\n",
       "      <td>0</td>\n",
       "      <td>0</td>\n",
       "    </tr>\n",
       "    <tr>\n",
       "      <th>1</th>\n",
       "      <td>40</td>\n",
       "      <td>221172</td>\n",
       "      <td>12</td>\n",
       "      <td>0</td>\n",
       "      <td>0</td>\n",
       "      <td>50</td>\n",
       "      <td>0</td>\n",
       "      <td>0</td>\n",
       "      <td>1</td>\n",
       "      <td>0</td>\n",
       "      <td>...</td>\n",
       "      <td>0</td>\n",
       "      <td>0</td>\n",
       "      <td>0</td>\n",
       "      <td>0</td>\n",
       "      <td>0</td>\n",
       "      <td>0</td>\n",
       "      <td>1</td>\n",
       "      <td>0</td>\n",
       "      <td>0</td>\n",
       "      <td>0</td>\n",
       "    </tr>\n",
       "    <tr>\n",
       "      <th>2</th>\n",
       "      <td>19</td>\n",
       "      <td>358631</td>\n",
       "      <td>9</td>\n",
       "      <td>0</td>\n",
       "      <td>0</td>\n",
       "      <td>25</td>\n",
       "      <td>0</td>\n",
       "      <td>0</td>\n",
       "      <td>1</td>\n",
       "      <td>0</td>\n",
       "      <td>...</td>\n",
       "      <td>0</td>\n",
       "      <td>0</td>\n",
       "      <td>0</td>\n",
       "      <td>0</td>\n",
       "      <td>0</td>\n",
       "      <td>0</td>\n",
       "      <td>1</td>\n",
       "      <td>0</td>\n",
       "      <td>0</td>\n",
       "      <td>0</td>\n",
       "    </tr>\n",
       "    <tr>\n",
       "      <th>3</th>\n",
       "      <td>50</td>\n",
       "      <td>206862</td>\n",
       "      <td>14</td>\n",
       "      <td>0</td>\n",
       "      <td>0</td>\n",
       "      <td>65</td>\n",
       "      <td>0</td>\n",
       "      <td>0</td>\n",
       "      <td>1</td>\n",
       "      <td>0</td>\n",
       "      <td>...</td>\n",
       "      <td>0</td>\n",
       "      <td>0</td>\n",
       "      <td>0</td>\n",
       "      <td>0</td>\n",
       "      <td>0</td>\n",
       "      <td>0</td>\n",
       "      <td>1</td>\n",
       "      <td>0</td>\n",
       "      <td>0</td>\n",
       "      <td>0</td>\n",
       "    </tr>\n",
       "    <tr>\n",
       "      <th>4</th>\n",
       "      <td>44</td>\n",
       "      <td>68729</td>\n",
       "      <td>10</td>\n",
       "      <td>0</td>\n",
       "      <td>1902</td>\n",
       "      <td>40</td>\n",
       "      <td>0</td>\n",
       "      <td>0</td>\n",
       "      <td>1</td>\n",
       "      <td>0</td>\n",
       "      <td>...</td>\n",
       "      <td>0</td>\n",
       "      <td>0</td>\n",
       "      <td>0</td>\n",
       "      <td>0</td>\n",
       "      <td>0</td>\n",
       "      <td>0</td>\n",
       "      <td>1</td>\n",
       "      <td>0</td>\n",
       "      <td>0</td>\n",
       "      <td>0</td>\n",
       "    </tr>\n",
       "  </tbody>\n",
       "</table>\n",
       "<p>5 rows × 85 columns</p>\n",
       "</div>"
      ],
      "text/plain": [
       "   Age  Fnlwgt  Education_num  Capital_gain  Capital_loss  Hours_per_week  \\\n",
       "0   64   69525              9             0             0              20   \n",
       "1   40  221172             12             0             0              50   \n",
       "2   19  358631              9             0             0              25   \n",
       "3   50  206862             14             0             0              65   \n",
       "4   44   68729             10             0          1902              40   \n",
       "\n",
       "   Workclass_Local-gov  Workclass_Never-worked  Workclass_Private  \\\n",
       "0                    0                       0                  1   \n",
       "1                    0                       0                  1   \n",
       "2                    0                       0                  1   \n",
       "3                    0                       0                  1   \n",
       "4                    0                       0                  1   \n",
       "\n",
       "   Workclass_Self-emp-inc  ...  Native_country_Puerto-Rico  \\\n",
       "0                       0  ...                           0   \n",
       "1                       0  ...                           0   \n",
       "2                       0  ...                           0   \n",
       "3                       0  ...                           0   \n",
       "4                       0  ...                           0   \n",
       "\n",
       "   Native_country_Scotland  Native_country_South  Native_country_Taiwan  \\\n",
       "0                        0                     0                      0   \n",
       "1                        0                     0                      0   \n",
       "2                        0                     0                      0   \n",
       "3                        0                     0                      0   \n",
       "4                        0                     0                      0   \n",
       "\n",
       "   Native_country_Thailand  Native_country_Trinadad&Tobago  \\\n",
       "0                        0                               0   \n",
       "1                        0                               0   \n",
       "2                        0                               0   \n",
       "3                        0                               0   \n",
       "4                        0                               0   \n",
       "\n",
       "   Native_country_United-States  Native_country_Vietnam  \\\n",
       "0                             1                       0   \n",
       "1                             1                       0   \n",
       "2                             1                       0   \n",
       "3                             1                       0   \n",
       "4                             1                       0   \n",
       "\n",
       "   Native_country_Yugoslavia  Native_country_undisclosed  \n",
       "0                          0                           0  \n",
       "1                          0                           0  \n",
       "2                          0                           0  \n",
       "3                          0                           0  \n",
       "4                          0                           0  \n",
       "\n",
       "[5 rows x 85 columns]"
      ]
     },
     "execution_count": 63,
     "metadata": {},
     "output_type": "execute_result"
    }
   ],
   "source": [
    "X_resample.head()"
   ]
  },
  {
   "cell_type": "code",
   "execution_count": 64,
   "metadata": {},
   "outputs": [],
   "source": [
    "scaler = StandardScaler()"
   ]
  },
  {
   "cell_type": "code",
   "execution_count": 65,
   "metadata": {},
   "outputs": [],
   "source": [
    "scaled_X_train = scaler.fit_transform(X_resample)\n",
    "scaled_X_test = scaler.transform(X_test)"
   ]
  },
  {
   "cell_type": "code",
   "execution_count": 70,
   "metadata": {},
   "outputs": [
    {
     "name": "stdout",
     "output_type": "stream",
     "text": [
      "              precision    recall  f1-score   support\n",
      "\n",
      "           0       0.88      0.86      0.87      8190\n",
      "           1       0.58      0.63      0.60      2555\n",
      "\n",
      "    accuracy                           0.80     10745\n",
      "   macro avg       0.73      0.74      0.74     10745\n",
      "weighted avg       0.81      0.80      0.80     10745\n",
      "\n"
     ]
    }
   ],
   "source": [
    "DTC=DecisionTreeClassifier()\n",
    "DTC.fit(scaled_X_train,y_resample)\n",
    "pred=DTC.predict(scaled_X_test)\n",
    "print(classification_report(y_test,pred))\n"
   ]
  },
  {
   "cell_type": "code",
   "execution_count": null,
   "metadata": {},
   "outputs": [],
   "source": []
  },
  {
   "cell_type": "code",
   "execution_count": 71,
   "metadata": {},
   "outputs": [
    {
     "name": "stdout",
     "output_type": "stream",
     "text": [
      "              precision    recall  f1-score   support\n",
      "\n",
      "           0       0.90      0.91      0.90      8190\n",
      "           1       0.69      0.67      0.68      2555\n",
      "\n",
      "    accuracy                           0.85     10745\n",
      "   macro avg       0.79      0.79      0.79     10745\n",
      "weighted avg       0.85      0.85      0.85     10745\n",
      "\n"
     ]
    }
   ],
   "source": [
    "RFC=RandomForestClassifier()\n",
    "RFC.fit(scaled_X_train,y_resample)\n",
    "pred=RFC.predict(scaled_X_test)\n",
    "print(classification_report(y_test,pred))"
   ]
  },
  {
   "cell_type": "code",
   "execution_count": 72,
   "metadata": {},
   "outputs": [
    {
     "name": "stdout",
     "output_type": "stream",
     "text": [
      "              precision    recall  f1-score   support\n",
      "\n",
      "           0       0.88      0.91      0.90      8190\n",
      "           1       0.68      0.62      0.64      2555\n",
      "\n",
      "    accuracy                           0.84     10745\n",
      "   macro avg       0.78      0.76      0.77     10745\n",
      "weighted avg       0.83      0.84      0.84     10745\n",
      "\n"
     ]
    }
   ],
   "source": [
    "svc=SVC()\n",
    "svc.fit(scaled_X_train,y_resample)\n",
    "pred=svc.predict(scaled_X_test)\n",
    "print(classification_report(y_test,pred))"
   ]
  },
  {
   "cell_type": "code",
   "execution_count": 73,
   "metadata": {},
   "outputs": [
    {
     "name": "stdout",
     "output_type": "stream",
     "text": [
      "              precision    recall  f1-score   support\n",
      "\n",
      "           0       0.91      0.88      0.89      8190\n",
      "           1       0.64      0.71      0.67      2555\n",
      "\n",
      "    accuracy                           0.84     10745\n",
      "   macro avg       0.77      0.79      0.78     10745\n",
      "weighted avg       0.84      0.84      0.84     10745\n",
      "\n"
     ]
    }
   ],
   "source": [
    "ada=AdaBoostClassifier()\n",
    "ada.fit(scaled_X_train,y_resample)\n",
    "pred=ada.predict(scaled_X_test)\n",
    "print(classification_report(y_test,pred))"
   ]
  },
  {
   "cell_type": "code",
   "execution_count": 74,
   "metadata": {},
   "outputs": [],
   "source": [
    "dtcAC=0.80\n",
    "rfcAC=0.85\n",
    "svcAC=0.84\n",
    "adaAC=0.84"
   ]
  },
  {
   "cell_type": "markdown",
   "metadata": {},
   "source": [
    "### now checking cross val score"
   ]
  },
  {
   "cell_type": "code",
   "execution_count": 75,
   "metadata": {},
   "outputs": [
    {
     "data": {
      "text/plain": [
       "0.8055008022003209"
      ]
     },
     "execution_count": 75,
     "metadata": {},
     "output_type": "execute_result"
    }
   ],
   "source": [
    "imba_pipeline=make_pipeline(scaler,SMOTE(random_state=42),DTC)\n",
    "DTCcv=cross_val_score(imba_pipeline,X_train,y_train,cv=5).mean()\n",
    "DTCcv"
   ]
  },
  {
   "cell_type": "code",
   "execution_count": 150,
   "metadata": {},
   "outputs": [],
   "source": []
  },
  {
   "cell_type": "code",
   "execution_count": 76,
   "metadata": {},
   "outputs": [
    {
     "data": {
      "text/plain": [
       "0.8412560165024067"
      ]
     },
     "execution_count": 76,
     "metadata": {},
     "output_type": "execute_result"
    }
   ],
   "source": [
    "imba_pipeline=make_pipeline(scaler,SMOTE(random_state=42),RFC)\n",
    "RFCcv=cross_val_score(imba_pipeline,X_train,y_train,cv=5).mean()\n",
    "RFCcv"
   ]
  },
  {
   "cell_type": "code",
   "execution_count": 77,
   "metadata": {},
   "outputs": [
    {
     "data": {
      "text/plain": [
       "0.8034838413935367"
      ]
     },
     "execution_count": 77,
     "metadata": {},
     "output_type": "execute_result"
    }
   ],
   "source": [
    "imba_pipeline=make_pipeline(scaler,SMOTE(random_state=42),svc)\n",
    "svcCV=cross_val_score(imba_pipeline,X_train,y_train,cv=5).mean()\n",
    "svcCV"
   ]
  },
  {
   "cell_type": "code",
   "execution_count": 78,
   "metadata": {},
   "outputs": [
    {
     "data": {
      "text/plain": [
       "0.8284208113683246"
      ]
     },
     "execution_count": 78,
     "metadata": {},
     "output_type": "execute_result"
    }
   ],
   "source": [
    "imba_pipeline=make_pipeline(scaler,SMOTE(random_state=42),ada)\n",
    "adaCV=cross_val_score(imba_pipeline,X_train,y_train,cv=5).mean()\n",
    "adaCV"
   ]
  },
  {
   "cell_type": "code",
   "execution_count": 79,
   "metadata": {},
   "outputs": [
    {
     "name": "stdout",
     "output_type": "stream",
     "text": [
      "-0.005500802200320898\n",
      "0.00874398349759331\n",
      "0.03651615860646329\n",
      "0.011579188631675397\n"
     ]
    }
   ],
   "source": [
    "print(dtcAC-DTCcv)\n",
    "print(rfcAC-RFCcv)\n",
    "print(svcAC-svcCV)\n",
    "print(adaAC-adaCV)"
   ]
  },
  {
   "cell_type": "markdown",
   "metadata": {},
   "source": [
    "Decision Tree classifier has the less difference between the accuracy scores( on test set) and Cross val score(on validation), so it is the best model.\n",
    "But choosing RandomForestClassifier as it has the highest accuracy"
   ]
  },
  {
   "cell_type": "markdown",
   "metadata": {},
   "source": [
    "## HyperParameterTuning"
   ]
  },
  {
   "cell_type": "code",
   "execution_count": 80,
   "metadata": {},
   "outputs": [],
   "source": [
    "from sklearn.model_selection import GridSearchCV"
   ]
  },
  {
   "cell_type": "code",
   "execution_count": null,
   "metadata": {},
   "outputs": [],
   "source": []
  },
  {
   "cell_type": "code",
   "execution_count": 83,
   "metadata": {},
   "outputs": [],
   "source": [
    "pipeLine=Pipeline([('scaler',StandardScaler()),('smote',SMOTE(random_state=42)),('rfc',RandomForestClassifier())])\n"
   ]
  },
  {
   "cell_type": "code",
   "execution_count": 93,
   "metadata": {},
   "outputs": [],
   "source": [
    "param_grid = {'rfc__criterion':['gini','entropy'],'rfc__min_samples_split':[2,3],'rfc__min_impurity_decrease':[0,0.01],\n",
    "             'rfc__min_samples_leaf':[1,3]}\n",
    "grid = GridSearchCV(pipeLine,param_grid,verbose=2)"
   ]
  },
  {
   "cell_type": "code",
   "execution_count": 94,
   "metadata": {},
   "outputs": [
    {
     "name": "stdout",
     "output_type": "stream",
     "text": [
      "Fitting 5 folds for each of 16 candidates, totalling 80 fits\n",
      "[CV] END rfc__criterion=gini, rfc__min_impurity_decrease=0, rfc__min_samples_leaf=1, rfc__min_samples_split=2; total time=   5.3s\n",
      "[CV] END rfc__criterion=gini, rfc__min_impurity_decrease=0, rfc__min_samples_leaf=1, rfc__min_samples_split=2; total time=   5.3s\n",
      "[CV] END rfc__criterion=gini, rfc__min_impurity_decrease=0, rfc__min_samples_leaf=1, rfc__min_samples_split=2; total time=   5.1s\n",
      "[CV] END rfc__criterion=gini, rfc__min_impurity_decrease=0, rfc__min_samples_leaf=1, rfc__min_samples_split=2; total time=   5.4s\n",
      "[CV] END rfc__criterion=gini, rfc__min_impurity_decrease=0, rfc__min_samples_leaf=1, rfc__min_samples_split=2; total time=   5.4s\n",
      "[CV] END rfc__criterion=gini, rfc__min_impurity_decrease=0, rfc__min_samples_leaf=1, rfc__min_samples_split=3; total time=   5.2s\n",
      "[CV] END rfc__criterion=gini, rfc__min_impurity_decrease=0, rfc__min_samples_leaf=1, rfc__min_samples_split=3; total time=   5.1s\n",
      "[CV] END rfc__criterion=gini, rfc__min_impurity_decrease=0, rfc__min_samples_leaf=1, rfc__min_samples_split=3; total time=   5.3s\n",
      "[CV] END rfc__criterion=gini, rfc__min_impurity_decrease=0, rfc__min_samples_leaf=1, rfc__min_samples_split=3; total time=   5.2s\n",
      "[CV] END rfc__criterion=gini, rfc__min_impurity_decrease=0, rfc__min_samples_leaf=1, rfc__min_samples_split=3; total time=   5.1s\n",
      "[CV] END rfc__criterion=gini, rfc__min_impurity_decrease=0, rfc__min_samples_leaf=3, rfc__min_samples_split=2; total time=   4.3s\n",
      "[CV] END rfc__criterion=gini, rfc__min_impurity_decrease=0, rfc__min_samples_leaf=3, rfc__min_samples_split=2; total time=   4.3s\n",
      "[CV] END rfc__criterion=gini, rfc__min_impurity_decrease=0, rfc__min_samples_leaf=3, rfc__min_samples_split=2; total time=   4.3s\n",
      "[CV] END rfc__criterion=gini, rfc__min_impurity_decrease=0, rfc__min_samples_leaf=3, rfc__min_samples_split=2; total time=   4.3s\n",
      "[CV] END rfc__criterion=gini, rfc__min_impurity_decrease=0, rfc__min_samples_leaf=3, rfc__min_samples_split=2; total time=   4.6s\n",
      "[CV] END rfc__criterion=gini, rfc__min_impurity_decrease=0, rfc__min_samples_leaf=3, rfc__min_samples_split=3; total time=   4.1s\n",
      "[CV] END rfc__criterion=gini, rfc__min_impurity_decrease=0, rfc__min_samples_leaf=3, rfc__min_samples_split=3; total time=   4.2s\n",
      "[CV] END rfc__criterion=gini, rfc__min_impurity_decrease=0, rfc__min_samples_leaf=3, rfc__min_samples_split=3; total time=   4.3s\n",
      "[CV] END rfc__criterion=gini, rfc__min_impurity_decrease=0, rfc__min_samples_leaf=3, rfc__min_samples_split=3; total time=   4.3s\n",
      "[CV] END rfc__criterion=gini, rfc__min_impurity_decrease=0, rfc__min_samples_leaf=3, rfc__min_samples_split=3; total time=   4.4s\n",
      "[CV] END rfc__criterion=gini, rfc__min_impurity_decrease=0.01, rfc__min_samples_leaf=1, rfc__min_samples_split=2; total time=   1.7s\n",
      "[CV] END rfc__criterion=gini, rfc__min_impurity_decrease=0.01, rfc__min_samples_leaf=1, rfc__min_samples_split=2; total time=   1.7s\n",
      "[CV] END rfc__criterion=gini, rfc__min_impurity_decrease=0.01, rfc__min_samples_leaf=1, rfc__min_samples_split=2; total time=   1.7s\n",
      "[CV] END rfc__criterion=gini, rfc__min_impurity_decrease=0.01, rfc__min_samples_leaf=1, rfc__min_samples_split=2; total time=   1.9s\n",
      "[CV] END rfc__criterion=gini, rfc__min_impurity_decrease=0.01, rfc__min_samples_leaf=1, rfc__min_samples_split=2; total time=   1.8s\n",
      "[CV] END rfc__criterion=gini, rfc__min_impurity_decrease=0.01, rfc__min_samples_leaf=1, rfc__min_samples_split=3; total time=   1.6s\n",
      "[CV] END rfc__criterion=gini, rfc__min_impurity_decrease=0.01, rfc__min_samples_leaf=1, rfc__min_samples_split=3; total time=   2.5s\n",
      "[CV] END rfc__criterion=gini, rfc__min_impurity_decrease=0.01, rfc__min_samples_leaf=1, rfc__min_samples_split=3; total time=   1.7s\n",
      "[CV] END rfc__criterion=gini, rfc__min_impurity_decrease=0.01, rfc__min_samples_leaf=1, rfc__min_samples_split=3; total time=   1.9s\n",
      "[CV] END rfc__criterion=gini, rfc__min_impurity_decrease=0.01, rfc__min_samples_leaf=1, rfc__min_samples_split=3; total time=   1.8s\n",
      "[CV] END rfc__criterion=gini, rfc__min_impurity_decrease=0.01, rfc__min_samples_leaf=3, rfc__min_samples_split=2; total time=   1.7s\n",
      "[CV] END rfc__criterion=gini, rfc__min_impurity_decrease=0.01, rfc__min_samples_leaf=3, rfc__min_samples_split=2; total time=   1.9s\n",
      "[CV] END rfc__criterion=gini, rfc__min_impurity_decrease=0.01, rfc__min_samples_leaf=3, rfc__min_samples_split=2; total time=   1.8s\n",
      "[CV] END rfc__criterion=gini, rfc__min_impurity_decrease=0.01, rfc__min_samples_leaf=3, rfc__min_samples_split=2; total time=   1.8s\n",
      "[CV] END rfc__criterion=gini, rfc__min_impurity_decrease=0.01, rfc__min_samples_leaf=3, rfc__min_samples_split=2; total time=   2.0s\n",
      "[CV] END rfc__criterion=gini, rfc__min_impurity_decrease=0.01, rfc__min_samples_leaf=3, rfc__min_samples_split=3; total time=   1.6s\n",
      "[CV] END rfc__criterion=gini, rfc__min_impurity_decrease=0.01, rfc__min_samples_leaf=3, rfc__min_samples_split=3; total time=   1.7s\n",
      "[CV] END rfc__criterion=gini, rfc__min_impurity_decrease=0.01, rfc__min_samples_leaf=3, rfc__min_samples_split=3; total time=   1.7s\n",
      "[CV] END rfc__criterion=gini, rfc__min_impurity_decrease=0.01, rfc__min_samples_leaf=3, rfc__min_samples_split=3; total time=   1.9s\n",
      "[CV] END rfc__criterion=gini, rfc__min_impurity_decrease=0.01, rfc__min_samples_leaf=3, rfc__min_samples_split=3; total time=   1.8s\n",
      "[CV] END rfc__criterion=entropy, rfc__min_impurity_decrease=0, rfc__min_samples_leaf=1, rfc__min_samples_split=2; total time=   5.7s\n",
      "[CV] END rfc__criterion=entropy, rfc__min_impurity_decrease=0, rfc__min_samples_leaf=1, rfc__min_samples_split=2; total time=   5.8s\n",
      "[CV] END rfc__criterion=entropy, rfc__min_impurity_decrease=0, rfc__min_samples_leaf=1, rfc__min_samples_split=2; total time=   5.9s\n",
      "[CV] END rfc__criterion=entropy, rfc__min_impurity_decrease=0, rfc__min_samples_leaf=1, rfc__min_samples_split=2; total time=   5.9s\n",
      "[CV] END rfc__criterion=entropy, rfc__min_impurity_decrease=0, rfc__min_samples_leaf=1, rfc__min_samples_split=2; total time=   6.0s\n",
      "[CV] END rfc__criterion=entropy, rfc__min_impurity_decrease=0, rfc__min_samples_leaf=1, rfc__min_samples_split=3; total time=   5.9s\n",
      "[CV] END rfc__criterion=entropy, rfc__min_impurity_decrease=0, rfc__min_samples_leaf=1, rfc__min_samples_split=3; total time=   6.1s\n",
      "[CV] END rfc__criterion=entropy, rfc__min_impurity_decrease=0, rfc__min_samples_leaf=1, rfc__min_samples_split=3; total time=   6.2s\n",
      "[CV] END rfc__criterion=entropy, rfc__min_impurity_decrease=0, rfc__min_samples_leaf=1, rfc__min_samples_split=3; total time=   6.0s\n",
      "[CV] END rfc__criterion=entropy, rfc__min_impurity_decrease=0, rfc__min_samples_leaf=1, rfc__min_samples_split=3; total time=   6.0s\n",
      "[CV] END rfc__criterion=entropy, rfc__min_impurity_decrease=0, rfc__min_samples_leaf=3, rfc__min_samples_split=2; total time=   4.8s\n",
      "[CV] END rfc__criterion=entropy, rfc__min_impurity_decrease=0, rfc__min_samples_leaf=3, rfc__min_samples_split=2; total time=   4.7s\n",
      "[CV] END rfc__criterion=entropy, rfc__min_impurity_decrease=0, rfc__min_samples_leaf=3, rfc__min_samples_split=2; total time=   4.7s\n",
      "[CV] END rfc__criterion=entropy, rfc__min_impurity_decrease=0, rfc__min_samples_leaf=3, rfc__min_samples_split=2; total time=   4.8s\n",
      "[CV] END rfc__criterion=entropy, rfc__min_impurity_decrease=0, rfc__min_samples_leaf=3, rfc__min_samples_split=2; total time=   5.1s\n",
      "[CV] END rfc__criterion=entropy, rfc__min_impurity_decrease=0, rfc__min_samples_leaf=3, rfc__min_samples_split=3; total time=   4.5s\n",
      "[CV] END rfc__criterion=entropy, rfc__min_impurity_decrease=0, rfc__min_samples_leaf=3, rfc__min_samples_split=3; total time=   3.3s\n",
      "[CV] END rfc__criterion=entropy, rfc__min_impurity_decrease=0, rfc__min_samples_leaf=3, rfc__min_samples_split=3; total time=   3.1s\n",
      "[CV] END rfc__criterion=entropy, rfc__min_impurity_decrease=0, rfc__min_samples_leaf=3, rfc__min_samples_split=3; total time=   3.1s\n",
      "[CV] END rfc__criterion=entropy, rfc__min_impurity_decrease=0, rfc__min_samples_leaf=3, rfc__min_samples_split=3; total time=   3.1s\n",
      "[CV] END rfc__criterion=entropy, rfc__min_impurity_decrease=0.01, rfc__min_samples_leaf=1, rfc__min_samples_split=2; total time=   1.2s\n",
      "[CV] END rfc__criterion=entropy, rfc__min_impurity_decrease=0.01, rfc__min_samples_leaf=1, rfc__min_samples_split=2; total time=   1.3s\n"
     ]
    },
    {
     "name": "stdout",
     "output_type": "stream",
     "text": [
      "[CV] END rfc__criterion=entropy, rfc__min_impurity_decrease=0.01, rfc__min_samples_leaf=1, rfc__min_samples_split=2; total time=   1.2s\n",
      "[CV] END rfc__criterion=entropy, rfc__min_impurity_decrease=0.01, rfc__min_samples_leaf=1, rfc__min_samples_split=2; total time=   1.3s\n",
      "[CV] END rfc__criterion=entropy, rfc__min_impurity_decrease=0.01, rfc__min_samples_leaf=1, rfc__min_samples_split=2; total time=   1.3s\n",
      "[CV] END rfc__criterion=entropy, rfc__min_impurity_decrease=0.01, rfc__min_samples_leaf=1, rfc__min_samples_split=3; total time=   1.3s\n",
      "[CV] END rfc__criterion=entropy, rfc__min_impurity_decrease=0.01, rfc__min_samples_leaf=1, rfc__min_samples_split=3; total time=   1.4s\n",
      "[CV] END rfc__criterion=entropy, rfc__min_impurity_decrease=0.01, rfc__min_samples_leaf=1, rfc__min_samples_split=3; total time=   1.3s\n",
      "[CV] END rfc__criterion=entropy, rfc__min_impurity_decrease=0.01, rfc__min_samples_leaf=1, rfc__min_samples_split=3; total time=   1.6s\n",
      "[CV] END rfc__criterion=entropy, rfc__min_impurity_decrease=0.01, rfc__min_samples_leaf=1, rfc__min_samples_split=3; total time=   1.5s\n",
      "[CV] END rfc__criterion=entropy, rfc__min_impurity_decrease=0.01, rfc__min_samples_leaf=3, rfc__min_samples_split=2; total time=   1.3s\n",
      "[CV] END rfc__criterion=entropy, rfc__min_impurity_decrease=0.01, rfc__min_samples_leaf=3, rfc__min_samples_split=2; total time=   1.2s\n",
      "[CV] END rfc__criterion=entropy, rfc__min_impurity_decrease=0.01, rfc__min_samples_leaf=3, rfc__min_samples_split=2; total time=   1.3s\n",
      "[CV] END rfc__criterion=entropy, rfc__min_impurity_decrease=0.01, rfc__min_samples_leaf=3, rfc__min_samples_split=2; total time=   1.3s\n",
      "[CV] END rfc__criterion=entropy, rfc__min_impurity_decrease=0.01, rfc__min_samples_leaf=3, rfc__min_samples_split=2; total time=   1.4s\n",
      "[CV] END rfc__criterion=entropy, rfc__min_impurity_decrease=0.01, rfc__min_samples_leaf=3, rfc__min_samples_split=3; total time=   1.3s\n",
      "[CV] END rfc__criterion=entropy, rfc__min_impurity_decrease=0.01, rfc__min_samples_leaf=3, rfc__min_samples_split=3; total time=   1.4s\n",
      "[CV] END rfc__criterion=entropy, rfc__min_impurity_decrease=0.01, rfc__min_samples_leaf=3, rfc__min_samples_split=3; total time=   1.5s\n",
      "[CV] END rfc__criterion=entropy, rfc__min_impurity_decrease=0.01, rfc__min_samples_leaf=3, rfc__min_samples_split=3; total time=   1.4s\n",
      "[CV] END rfc__criterion=entropy, rfc__min_impurity_decrease=0.01, rfc__min_samples_leaf=3, rfc__min_samples_split=3; total time=   1.4s\n"
     ]
    },
    {
     "data": {
      "text/plain": [
       "GridSearchCV(estimator=Pipeline(steps=[('scaler', StandardScaler()),\n",
       "                                       ('smote', SMOTE(random_state=42)),\n",
       "                                       ('rfc', RandomForestClassifier())]),\n",
       "             param_grid={'rfc__criterion': ['gini', 'entropy'],\n",
       "                         'rfc__min_impurity_decrease': [0, 0.01],\n",
       "                         'rfc__min_samples_leaf': [1, 3],\n",
       "                         'rfc__min_samples_split': [2, 3]},\n",
       "             verbose=2)"
      ]
     },
     "execution_count": 94,
     "metadata": {},
     "output_type": "execute_result"
    }
   ],
   "source": [
    "grid.fit(X_train,y_train)"
   ]
  },
  {
   "cell_type": "code",
   "execution_count": 95,
   "metadata": {},
   "outputs": [
    {
     "data": {
      "text/plain": [
       "{'rfc__criterion': 'gini',\n",
       " 'rfc__min_impurity_decrease': 0,\n",
       " 'rfc__min_samples_leaf': 1,\n",
       " 'rfc__min_samples_split': 3}"
      ]
     },
     "execution_count": 95,
     "metadata": {},
     "output_type": "execute_result"
    }
   ],
   "source": [
    "grid.best_params_"
   ]
  },
  {
   "cell_type": "code",
   "execution_count": 96,
   "metadata": {},
   "outputs": [
    {
     "data": {
      "text/plain": [
       "Pipeline(steps=[('scaler', StandardScaler()), ('smote', SMOTE(random_state=42)),\n",
       "                ('rfc',\n",
       "                 RandomForestClassifier(min_impurity_decrease=0,\n",
       "                                        min_samples_split=3))])"
      ]
     },
     "execution_count": 96,
     "metadata": {},
     "output_type": "execute_result"
    }
   ],
   "source": [
    "grid.best_estimator_"
   ]
  },
  {
   "cell_type": "code",
   "execution_count": 97,
   "metadata": {},
   "outputs": [
    {
     "data": {
      "text/html": [
       "<div>\n",
       "<style scoped>\n",
       "    .dataframe tbody tr th:only-of-type {\n",
       "        vertical-align: middle;\n",
       "    }\n",
       "\n",
       "    .dataframe tbody tr th {\n",
       "        vertical-align: top;\n",
       "    }\n",
       "\n",
       "    .dataframe thead th {\n",
       "        text-align: right;\n",
       "    }\n",
       "</style>\n",
       "<table border=\"1\" class=\"dataframe\">\n",
       "  <thead>\n",
       "    <tr style=\"text-align: right;\">\n",
       "      <th></th>\n",
       "      <th>mean_fit_time</th>\n",
       "      <th>std_fit_time</th>\n",
       "      <th>mean_score_time</th>\n",
       "      <th>std_score_time</th>\n",
       "      <th>param_rfc__criterion</th>\n",
       "      <th>param_rfc__min_impurity_decrease</th>\n",
       "      <th>param_rfc__min_samples_leaf</th>\n",
       "      <th>param_rfc__min_samples_split</th>\n",
       "      <th>params</th>\n",
       "      <th>split0_test_score</th>\n",
       "      <th>split1_test_score</th>\n",
       "      <th>split2_test_score</th>\n",
       "      <th>split3_test_score</th>\n",
       "      <th>split4_test_score</th>\n",
       "      <th>mean_test_score</th>\n",
       "      <th>std_test_score</th>\n",
       "      <th>rank_test_score</th>\n",
       "    </tr>\n",
       "  </thead>\n",
       "  <tbody>\n",
       "    <tr>\n",
       "      <th>0</th>\n",
       "      <td>5.247674</td>\n",
       "      <td>0.103853</td>\n",
       "      <td>0.143279</td>\n",
       "      <td>0.002518</td>\n",
       "      <td>gini</td>\n",
       "      <td>0</td>\n",
       "      <td>1</td>\n",
       "      <td>2</td>\n",
       "      <td>{'rfc__criterion': 'gini', 'rfc__min_impurity_...</td>\n",
       "      <td>0.846894</td>\n",
       "      <td>0.835434</td>\n",
       "      <td>0.837268</td>\n",
       "      <td>0.841852</td>\n",
       "      <td>0.846894</td>\n",
       "      <td>0.841669</td>\n",
       "      <td>0.004751</td>\n",
       "      <td>3</td>\n",
       "    </tr>\n",
       "    <tr>\n",
       "      <th>1</th>\n",
       "      <td>5.126820</td>\n",
       "      <td>0.083333</td>\n",
       "      <td>0.142449</td>\n",
       "      <td>0.009420</td>\n",
       "      <td>gini</td>\n",
       "      <td>0</td>\n",
       "      <td>1</td>\n",
       "      <td>3</td>\n",
       "      <td>{'rfc__criterion': 'gini', 'rfc__min_impurity_...</td>\n",
       "      <td>0.844144</td>\n",
       "      <td>0.839102</td>\n",
       "      <td>0.838643</td>\n",
       "      <td>0.841164</td>\n",
       "      <td>0.849186</td>\n",
       "      <td>0.842448</td>\n",
       "      <td>0.003889</td>\n",
       "      <td>1</td>\n",
       "    </tr>\n",
       "    <tr>\n",
       "      <th>2</th>\n",
       "      <td>4.341423</td>\n",
       "      <td>0.104113</td>\n",
       "      <td>0.116122</td>\n",
       "      <td>0.014632</td>\n",
       "      <td>gini</td>\n",
       "      <td>0</td>\n",
       "      <td>3</td>\n",
       "      <td>2</td>\n",
       "      <td>{'rfc__criterion': 'gini', 'rfc__min_impurity_...</td>\n",
       "      <td>0.839102</td>\n",
       "      <td>0.834518</td>\n",
       "      <td>0.831309</td>\n",
       "      <td>0.825120</td>\n",
       "      <td>0.839102</td>\n",
       "      <td>0.833830</td>\n",
       "      <td>0.005259</td>\n",
       "      <td>6</td>\n",
       "    </tr>\n",
       "    <tr>\n",
       "      <th>3</th>\n",
       "      <td>4.249009</td>\n",
       "      <td>0.074344</td>\n",
       "      <td>0.111897</td>\n",
       "      <td>0.007870</td>\n",
       "      <td>gini</td>\n",
       "      <td>0</td>\n",
       "      <td>3</td>\n",
       "      <td>3</td>\n",
       "      <td>{'rfc__criterion': 'gini', 'rfc__min_impurity_...</td>\n",
       "      <td>0.838872</td>\n",
       "      <td>0.834976</td>\n",
       "      <td>0.832913</td>\n",
       "      <td>0.824662</td>\n",
       "      <td>0.839102</td>\n",
       "      <td>0.834105</td>\n",
       "      <td>0.005273</td>\n",
       "      <td>5</td>\n",
       "    </tr>\n",
       "    <tr>\n",
       "      <th>4</th>\n",
       "      <td>1.821665</td>\n",
       "      <td>0.077347</td>\n",
       "      <td>0.052213</td>\n",
       "      <td>0.005932</td>\n",
       "      <td>gini</td>\n",
       "      <td>0.01</td>\n",
       "      <td>1</td>\n",
       "      <td>2</td>\n",
       "      <td>{'rfc__criterion': 'gini', 'rfc__min_impurity_...</td>\n",
       "      <td>0.739858</td>\n",
       "      <td>0.752922</td>\n",
       "      <td>0.732753</td>\n",
       "      <td>0.745817</td>\n",
       "      <td>0.757506</td>\n",
       "      <td>0.745771</td>\n",
       "      <td>0.008869</td>\n",
       "      <td>14</td>\n",
       "    </tr>\n",
       "    <tr>\n",
       "      <th>5</th>\n",
       "      <td>1.951537</td>\n",
       "      <td>0.310076</td>\n",
       "      <td>0.051511</td>\n",
       "      <td>0.008609</td>\n",
       "      <td>gini</td>\n",
       "      <td>0.01</td>\n",
       "      <td>1</td>\n",
       "      <td>3</td>\n",
       "      <td>{'rfc__criterion': 'gini', 'rfc__min_impurity_...</td>\n",
       "      <td>0.736649</td>\n",
       "      <td>0.732065</td>\n",
       "      <td>0.759111</td>\n",
       "      <td>0.736191</td>\n",
       "      <td>0.750172</td>\n",
       "      <td>0.742837</td>\n",
       "      <td>0.010170</td>\n",
       "      <td>15</td>\n",
       "    </tr>\n",
       "    <tr>\n",
       "      <th>6</th>\n",
       "      <td>1.874005</td>\n",
       "      <td>0.095161</td>\n",
       "      <td>0.050853</td>\n",
       "      <td>0.006466</td>\n",
       "      <td>gini</td>\n",
       "      <td>0.01</td>\n",
       "      <td>3</td>\n",
       "      <td>2</td>\n",
       "      <td>{'rfc__criterion': 'gini', 'rfc__min_impurity_...</td>\n",
       "      <td>0.741691</td>\n",
       "      <td>0.757965</td>\n",
       "      <td>0.746275</td>\n",
       "      <td>0.744442</td>\n",
       "      <td>0.752464</td>\n",
       "      <td>0.748567</td>\n",
       "      <td>0.005883</td>\n",
       "      <td>11</td>\n",
       "    </tr>\n",
       "    <tr>\n",
       "      <th>7</th>\n",
       "      <td>1.799510</td>\n",
       "      <td>0.093164</td>\n",
       "      <td>0.046276</td>\n",
       "      <td>0.004418</td>\n",
       "      <td>gini</td>\n",
       "      <td>0.01</td>\n",
       "      <td>3</td>\n",
       "      <td>3</td>\n",
       "      <td>{'rfc__criterion': 'gini', 'rfc__min_impurity_...</td>\n",
       "      <td>0.741233</td>\n",
       "      <td>0.752693</td>\n",
       "      <td>0.713500</td>\n",
       "      <td>0.743067</td>\n",
       "      <td>0.754985</td>\n",
       "      <td>0.741096</td>\n",
       "      <td>0.014784</td>\n",
       "      <td>16</td>\n",
       "    </tr>\n",
       "    <tr>\n",
       "      <th>8</th>\n",
       "      <td>5.841836</td>\n",
       "      <td>0.098961</td>\n",
       "      <td>0.143332</td>\n",
       "      <td>0.003266</td>\n",
       "      <td>entropy</td>\n",
       "      <td>0</td>\n",
       "      <td>1</td>\n",
       "      <td>2</td>\n",
       "      <td>{'rfc__criterion': 'entropy', 'rfc__min_impuri...</td>\n",
       "      <td>0.843227</td>\n",
       "      <td>0.837956</td>\n",
       "      <td>0.837039</td>\n",
       "      <td>0.840706</td>\n",
       "      <td>0.847582</td>\n",
       "      <td>0.841302</td>\n",
       "      <td>0.003818</td>\n",
       "      <td>4</td>\n",
       "    </tr>\n",
       "    <tr>\n",
       "      <th>9</th>\n",
       "      <td>5.966646</td>\n",
       "      <td>0.107621</td>\n",
       "      <td>0.174984</td>\n",
       "      <td>0.028787</td>\n",
       "      <td>entropy</td>\n",
       "      <td>0</td>\n",
       "      <td>1</td>\n",
       "      <td>3</td>\n",
       "      <td>{'rfc__criterion': 'entropy', 'rfc__min_impuri...</td>\n",
       "      <td>0.842540</td>\n",
       "      <td>0.840706</td>\n",
       "      <td>0.839102</td>\n",
       "      <td>0.842310</td>\n",
       "      <td>0.847124</td>\n",
       "      <td>0.842356</td>\n",
       "      <td>0.002686</td>\n",
       "      <td>2</td>\n",
       "    </tr>\n",
       "    <tr>\n",
       "      <th>10</th>\n",
       "      <td>4.778447</td>\n",
       "      <td>0.163592</td>\n",
       "      <td>0.118110</td>\n",
       "      <td>0.019437</td>\n",
       "      <td>entropy</td>\n",
       "      <td>0</td>\n",
       "      <td>3</td>\n",
       "      <td>2</td>\n",
       "      <td>{'rfc__criterion': 'entropy', 'rfc__min_impuri...</td>\n",
       "      <td>0.838414</td>\n",
       "      <td>0.833372</td>\n",
       "      <td>0.832684</td>\n",
       "      <td>0.825120</td>\n",
       "      <td>0.837497</td>\n",
       "      <td>0.833417</td>\n",
       "      <td>0.004711</td>\n",
       "      <td>8</td>\n",
       "    </tr>\n",
       "    <tr>\n",
       "      <th>11</th>\n",
       "      <td>3.468018</td>\n",
       "      <td>0.540713</td>\n",
       "      <td>0.068869</td>\n",
       "      <td>0.007805</td>\n",
       "      <td>entropy</td>\n",
       "      <td>0</td>\n",
       "      <td>3</td>\n",
       "      <td>3</td>\n",
       "      <td>{'rfc__criterion': 'entropy', 'rfc__min_impuri...</td>\n",
       "      <td>0.837039</td>\n",
       "      <td>0.835893</td>\n",
       "      <td>0.831996</td>\n",
       "      <td>0.825120</td>\n",
       "      <td>0.839102</td>\n",
       "      <td>0.833830</td>\n",
       "      <td>0.004931</td>\n",
       "      <td>6</td>\n",
       "    </tr>\n",
       "    <tr>\n",
       "      <th>12</th>\n",
       "      <td>1.336463</td>\n",
       "      <td>0.043949</td>\n",
       "      <td>0.031179</td>\n",
       "      <td>0.000126</td>\n",
       "      <td>entropy</td>\n",
       "      <td>0.01</td>\n",
       "      <td>1</td>\n",
       "      <td>2</td>\n",
       "      <td>{'rfc__criterion': 'entropy', 'rfc__min_impuri...</td>\n",
       "      <td>0.746046</td>\n",
       "      <td>0.754298</td>\n",
       "      <td>0.735274</td>\n",
       "      <td>0.731377</td>\n",
       "      <td>0.763695</td>\n",
       "      <td>0.746138</td>\n",
       "      <td>0.011922</td>\n",
       "      <td>13</td>\n",
       "    </tr>\n",
       "    <tr>\n",
       "      <th>13</th>\n",
       "      <td>1.458566</td>\n",
       "      <td>0.098274</td>\n",
       "      <td>0.037746</td>\n",
       "      <td>0.007393</td>\n",
       "      <td>entropy</td>\n",
       "      <td>0.01</td>\n",
       "      <td>1</td>\n",
       "      <td>3</td>\n",
       "      <td>{'rfc__criterion': 'entropy', 'rfc__min_impuri...</td>\n",
       "      <td>0.749713</td>\n",
       "      <td>0.750860</td>\n",
       "      <td>0.753152</td>\n",
       "      <td>0.736878</td>\n",
       "      <td>0.757736</td>\n",
       "      <td>0.749668</td>\n",
       "      <td>0.006960</td>\n",
       "      <td>10</td>\n",
       "    </tr>\n",
       "    <tr>\n",
       "      <th>14</th>\n",
       "      <td>1.372935</td>\n",
       "      <td>0.041273</td>\n",
       "      <td>0.028133</td>\n",
       "      <td>0.006240</td>\n",
       "      <td>entropy</td>\n",
       "      <td>0.01</td>\n",
       "      <td>3</td>\n",
       "      <td>2</td>\n",
       "      <td>{'rfc__criterion': 'entropy', 'rfc__min_impuri...</td>\n",
       "      <td>0.740775</td>\n",
       "      <td>0.750401</td>\n",
       "      <td>0.733669</td>\n",
       "      <td>0.744671</td>\n",
       "      <td>0.763007</td>\n",
       "      <td>0.746505</td>\n",
       "      <td>0.009884</td>\n",
       "      <td>12</td>\n",
       "    </tr>\n",
       "    <tr>\n",
       "      <th>15</th>\n",
       "      <td>1.450905</td>\n",
       "      <td>0.075784</td>\n",
       "      <td>0.031241</td>\n",
       "      <td>0.000004</td>\n",
       "      <td>entropy</td>\n",
       "      <td>0.01</td>\n",
       "      <td>3</td>\n",
       "      <td>3</td>\n",
       "      <td>{'rfc__criterion': 'entropy', 'rfc__min_impuri...</td>\n",
       "      <td>0.741921</td>\n",
       "      <td>0.761403</td>\n",
       "      <td>0.752006</td>\n",
       "      <td>0.736649</td>\n",
       "      <td>0.760486</td>\n",
       "      <td>0.750493</td>\n",
       "      <td>0.009862</td>\n",
       "      <td>9</td>\n",
       "    </tr>\n",
       "  </tbody>\n",
       "</table>\n",
       "</div>"
      ],
      "text/plain": [
       "    mean_fit_time  std_fit_time  mean_score_time  std_score_time  \\\n",
       "0        5.247674      0.103853         0.143279        0.002518   \n",
       "1        5.126820      0.083333         0.142449        0.009420   \n",
       "2        4.341423      0.104113         0.116122        0.014632   \n",
       "3        4.249009      0.074344         0.111897        0.007870   \n",
       "4        1.821665      0.077347         0.052213        0.005932   \n",
       "5        1.951537      0.310076         0.051511        0.008609   \n",
       "6        1.874005      0.095161         0.050853        0.006466   \n",
       "7        1.799510      0.093164         0.046276        0.004418   \n",
       "8        5.841836      0.098961         0.143332        0.003266   \n",
       "9        5.966646      0.107621         0.174984        0.028787   \n",
       "10       4.778447      0.163592         0.118110        0.019437   \n",
       "11       3.468018      0.540713         0.068869        0.007805   \n",
       "12       1.336463      0.043949         0.031179        0.000126   \n",
       "13       1.458566      0.098274         0.037746        0.007393   \n",
       "14       1.372935      0.041273         0.028133        0.006240   \n",
       "15       1.450905      0.075784         0.031241        0.000004   \n",
       "\n",
       "   param_rfc__criterion param_rfc__min_impurity_decrease  \\\n",
       "0                  gini                                0   \n",
       "1                  gini                                0   \n",
       "2                  gini                                0   \n",
       "3                  gini                                0   \n",
       "4                  gini                             0.01   \n",
       "5                  gini                             0.01   \n",
       "6                  gini                             0.01   \n",
       "7                  gini                             0.01   \n",
       "8               entropy                                0   \n",
       "9               entropy                                0   \n",
       "10              entropy                                0   \n",
       "11              entropy                                0   \n",
       "12              entropy                             0.01   \n",
       "13              entropy                             0.01   \n",
       "14              entropy                             0.01   \n",
       "15              entropy                             0.01   \n",
       "\n",
       "   param_rfc__min_samples_leaf param_rfc__min_samples_split  \\\n",
       "0                            1                            2   \n",
       "1                            1                            3   \n",
       "2                            3                            2   \n",
       "3                            3                            3   \n",
       "4                            1                            2   \n",
       "5                            1                            3   \n",
       "6                            3                            2   \n",
       "7                            3                            3   \n",
       "8                            1                            2   \n",
       "9                            1                            3   \n",
       "10                           3                            2   \n",
       "11                           3                            3   \n",
       "12                           1                            2   \n",
       "13                           1                            3   \n",
       "14                           3                            2   \n",
       "15                           3                            3   \n",
       "\n",
       "                                               params  split0_test_score  \\\n",
       "0   {'rfc__criterion': 'gini', 'rfc__min_impurity_...           0.846894   \n",
       "1   {'rfc__criterion': 'gini', 'rfc__min_impurity_...           0.844144   \n",
       "2   {'rfc__criterion': 'gini', 'rfc__min_impurity_...           0.839102   \n",
       "3   {'rfc__criterion': 'gini', 'rfc__min_impurity_...           0.838872   \n",
       "4   {'rfc__criterion': 'gini', 'rfc__min_impurity_...           0.739858   \n",
       "5   {'rfc__criterion': 'gini', 'rfc__min_impurity_...           0.736649   \n",
       "6   {'rfc__criterion': 'gini', 'rfc__min_impurity_...           0.741691   \n",
       "7   {'rfc__criterion': 'gini', 'rfc__min_impurity_...           0.741233   \n",
       "8   {'rfc__criterion': 'entropy', 'rfc__min_impuri...           0.843227   \n",
       "9   {'rfc__criterion': 'entropy', 'rfc__min_impuri...           0.842540   \n",
       "10  {'rfc__criterion': 'entropy', 'rfc__min_impuri...           0.838414   \n",
       "11  {'rfc__criterion': 'entropy', 'rfc__min_impuri...           0.837039   \n",
       "12  {'rfc__criterion': 'entropy', 'rfc__min_impuri...           0.746046   \n",
       "13  {'rfc__criterion': 'entropy', 'rfc__min_impuri...           0.749713   \n",
       "14  {'rfc__criterion': 'entropy', 'rfc__min_impuri...           0.740775   \n",
       "15  {'rfc__criterion': 'entropy', 'rfc__min_impuri...           0.741921   \n",
       "\n",
       "    split1_test_score  split2_test_score  split3_test_score  \\\n",
       "0            0.835434           0.837268           0.841852   \n",
       "1            0.839102           0.838643           0.841164   \n",
       "2            0.834518           0.831309           0.825120   \n",
       "3            0.834976           0.832913           0.824662   \n",
       "4            0.752922           0.732753           0.745817   \n",
       "5            0.732065           0.759111           0.736191   \n",
       "6            0.757965           0.746275           0.744442   \n",
       "7            0.752693           0.713500           0.743067   \n",
       "8            0.837956           0.837039           0.840706   \n",
       "9            0.840706           0.839102           0.842310   \n",
       "10           0.833372           0.832684           0.825120   \n",
       "11           0.835893           0.831996           0.825120   \n",
       "12           0.754298           0.735274           0.731377   \n",
       "13           0.750860           0.753152           0.736878   \n",
       "14           0.750401           0.733669           0.744671   \n",
       "15           0.761403           0.752006           0.736649   \n",
       "\n",
       "    split4_test_score  mean_test_score  std_test_score  rank_test_score  \n",
       "0            0.846894         0.841669        0.004751                3  \n",
       "1            0.849186         0.842448        0.003889                1  \n",
       "2            0.839102         0.833830        0.005259                6  \n",
       "3            0.839102         0.834105        0.005273                5  \n",
       "4            0.757506         0.745771        0.008869               14  \n",
       "5            0.750172         0.742837        0.010170               15  \n",
       "6            0.752464         0.748567        0.005883               11  \n",
       "7            0.754985         0.741096        0.014784               16  \n",
       "8            0.847582         0.841302        0.003818                4  \n",
       "9            0.847124         0.842356        0.002686                2  \n",
       "10           0.837497         0.833417        0.004711                8  \n",
       "11           0.839102         0.833830        0.004931                6  \n",
       "12           0.763695         0.746138        0.011922               13  \n",
       "13           0.757736         0.749668        0.006960               10  \n",
       "14           0.763007         0.746505        0.009884               12  \n",
       "15           0.760486         0.750493        0.009862                9  "
      ]
     },
     "execution_count": 97,
     "metadata": {},
     "output_type": "execute_result"
    }
   ],
   "source": [
    "pd.DataFrame(data=grid.cv_results_,columns=grid.cv_results_.keys())"
   ]
  },
  {
   "cell_type": "markdown",
   "metadata": {},
   "source": [
    "### Displaying the confusion matrix and classification report"
   ]
  },
  {
   "cell_type": "code",
   "execution_count": null,
   "metadata": {},
   "outputs": [],
   "source": []
  },
  {
   "cell_type": "code",
   "execution_count": 98,
   "metadata": {},
   "outputs": [],
   "source": [
    "from sklearn.metrics import confusion_matrix,classification_report"
   ]
  },
  {
   "cell_type": "code",
   "execution_count": 99,
   "metadata": {},
   "outputs": [],
   "source": [
    "grid_pred = grid.predict(X_test)"
   ]
  },
  {
   "cell_type": "code",
   "execution_count": 100,
   "metadata": {},
   "outputs": [
    {
     "data": {
      "text/plain": [
       "array([[7293,  897],\n",
       "       [ 762, 1793]], dtype=int64)"
      ]
     },
     "execution_count": 100,
     "metadata": {},
     "output_type": "execute_result"
    }
   ],
   "source": [
    "confusion_matrix(y_test,grid_pred)"
   ]
  },
  {
   "cell_type": "code",
   "execution_count": 101,
   "metadata": {},
   "outputs": [
    {
     "name": "stdout",
     "output_type": "stream",
     "text": [
      "              precision    recall  f1-score   support\n",
      "\n",
      "           0       0.91      0.89      0.90      8190\n",
      "           1       0.67      0.70      0.68      2555\n",
      "\n",
      "    accuracy                           0.85     10745\n",
      "   macro avg       0.79      0.80      0.79     10745\n",
      "weighted avg       0.85      0.85      0.85     10745\n",
      "\n"
     ]
    }
   ],
   "source": [
    "print(classification_report(y_test,grid_pred))"
   ]
  },
  {
   "cell_type": "code",
   "execution_count": 102,
   "metadata": {},
   "outputs": [
    {
     "data": {
      "text/plain": [
       "<sklearn.metrics._plot.confusion_matrix.ConfusionMatrixDisplay at 0x245bd8c9cf8>"
      ]
     },
     "execution_count": 102,
     "metadata": {},
     "output_type": "execute_result"
    },
    {
     "data": {
      "image/png": "[encoded data removed]",
      "text/plain": [
       "<Figure size 432x288 with 2 Axes>"
      ]
     },
     "metadata": {
      "needs_background": "light"
     },
     "output_type": "display_data"
    }
   ],
   "source": [
    "plot_confusion_matrix(grid,X_test,y_test)"
   ]
  },
  {
   "cell_type": "markdown",
   "metadata": {},
   "source": [
    "## Training with best params"
   ]
  },
  {
   "cell_type": "code",
   "execution_count": 103,
   "metadata": {},
   "outputs": [],
   "source": [
    "pipeLine=Pipeline([('scaler',StandardScaler()),('smote',SMOTE(random_state=42)),('rfc',RandomForestClassifier(criterion='gini',min_impurity_decrease=0,min_samples_leaf=1,min_samples_split=3))])"
   ]
  },
  {
   "cell_type": "code",
   "execution_count": 104,
   "metadata": {},
   "outputs": [
    {
     "data": {
      "text/plain": [
       "Pipeline(steps=[('scaler', StandardScaler()), ('smote', SMOTE(random_state=42)),\n",
       "                ('rfc',\n",
       "                 RandomForestClassifier(min_impurity_decrease=0,\n",
       "                                        min_samples_split=3))])"
      ]
     },
     "execution_count": 104,
     "metadata": {},
     "output_type": "execute_result"
    }
   ],
   "source": [
    "Final_model=pipeLine\n",
    "Final_model.fit(X_train,y_train)\n"
   ]
  },
  {
   "cell_type": "code",
   "execution_count": 105,
   "metadata": {},
   "outputs": [
    {
     "name": "stdout",
     "output_type": "stream",
     "text": [
      "0.8465332712889716\n"
     ]
    }
   ],
   "source": [
    "\n",
    "pred=Final_model.predict(X_test)\n",
    "accuracyScore=accuracy_score(y_test,pred)\n",
    "print(accuracyScore)"
   ]
  },
  {
   "cell_type": "markdown",
   "metadata": {},
   "source": [
    "final accuracy achieved is 84.6% with RandomForestClassifier"
   ]
  },
  {
   "cell_type": "markdown",
   "metadata": {},
   "source": [
    "## plotting AUC ROC CURVE"
   ]
  },
  {
   "cell_type": "code",
   "execution_count": 106,
   "metadata": {},
   "outputs": [
    {
     "data": {
      "text/plain": [
       "<sklearn.metrics._plot.roc_curve.RocCurveDisplay at 0x245bd225f28>"
      ]
     },
     "execution_count": 106,
     "metadata": {},
     "output_type": "execute_result"
    },
    {
     "data": {
      "image/png": "[encoded data removed]",
      "text/plain": [
       "<Figure size 432x288 with 1 Axes>"
      ]
     },
     "metadata": {
      "needs_background": "light"
     },
     "output_type": "display_data"
    }
   ],
   "source": [
    "plot_roc_curve(Final_model,X_test,y_test)"
   ]
  },
  {
   "cell_type": "markdown",
   "metadata": {},
   "source": [
    "AUC-ROC Curve area is 0.90 which is very good."
   ]
  },
  {
   "cell_type": "markdown",
   "metadata": {},
   "source": [
    "## saving the model\n"
   ]
  },
  {
   "cell_type": "code",
   "execution_count": 107,
   "metadata": {},
   "outputs": [
    {
     "data": {
      "text/plain": [
       "['CensusIncomeProject.pkl']"
      ]
     },
     "execution_count": 107,
     "metadata": {},
     "output_type": "execute_result"
    }
   ],
   "source": [
    "import joblib\n",
    "joblib.dump(Final_model,\"CensusIncomeProject.pkl\")"
   ]
  },
  {
   "cell_type": "code",
   "execution_count": null,
   "metadata": {},
   "outputs": [],
   "source": []
  }
 ],
 "metadata": {
  "anaconda-cloud": {},
  "kernelspec": {
   "display_name": "Python 3",
   "language": "python",
   "name": "python3"
  },
  "language_info": {
   "codemirror_mode": {
    "name": "ipython",
    "version": 3
   },
   "file_extension": ".py",
   "mimetype": "text/x-python",
   "name": "python",
   "nbconvert_exporter": "python",
   "pygments_lexer": "ipython3",
   "version": "3.7.3"
  }
 },
 "nbformat": 4,
 "nbformat_minor": 1
}
