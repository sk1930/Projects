{
 "cells": [
  {
   "cell_type": "markdown",
   "metadata": {},
   "source": [
    "Customer Churn Analysis\n",
    "Problem Statement:\n",
    "Customer churn is when a company’s customers stop doing business with that company. Businesses are very keen on measuring churn because keeping an existing customer is far less expensive than acquiring a new customer. New business involves working leads through a sales funnel, using marketing and sales budgets to gain additional customers. Existing customers will often have a higher volume of service consumption and can generate additional customer referrals.\n",
    "\n",
    "Customer retention can be achieved with good customer service and products. But the most effective way for a company to prevent attrition of customers is to truly know them. The vast volumes of data collected about customers can be used to build churn prediction models. Knowing who is most likely to defect means that a company can prioritise focused marketing efforts on that subset of their customer base.\n",
    "\n",
    "Preventing customer churn is critically important to the telecommunications sector, as the barriers to entry for switching services are so low. \n",
    "\n",
    "You will examine customer data from IBM Sample Data Sets with the aim of building and comparing several customer churn prediction models. \n",
    "\n",
    "Note: You can find the dataset in the link below.\n",
    "\n",
    "Downlaod Files:\n",
    "https://github.com/dsrscientist/DSData/blob/master/Telecom_customer_churn.csv"
   ]
  },
  {
   "cell_type": "code",
   "execution_count": 1,
   "metadata": {},
   "outputs": [],
   "source": [
    "import numpy as np\n",
    "import pandas as pd\n",
    "import seaborn as sns\n",
    "import matplotlib.pyplot as plt\n",
    "from sklearn.tree import DecisionTreeClassifier\n",
    "\n",
    "from sklearn.ensemble import RandomForestClassifier\n",
    "from sklearn.svm import SVC\n",
    "from sklearn.ensemble import AdaBoostClassifier\n",
    "from sklearn.metrics import confusion_matrix, classification_report, plot_confusion_matrix\n",
    "from sklearn.preprocessing import StandardScaler, LabelEncoder\n",
    "from sklearn.model_selection import train_test_split, GridSearchCV, cross_val_score\n",
    "\n",
    "from sklearn.metrics import accuracy_score,classification_report,plot_roc_curve\n",
    "\n",
    "from scipy.stats import zscore\n",
    "from scipy import stats\n",
    "\n",
    "import warnings\n",
    "warnings.filterwarnings(\"ignore\")\n",
    "\n",
    "from imblearn.over_sampling import SMOTE\n",
    "\n"
   ]
  },
  {
   "cell_type": "code",
   "execution_count": 2,
   "metadata": {},
   "outputs": [],
   "source": [
    "from imblearn.pipeline import Pipeline, make_pipeline"
   ]
  },
  {
   "cell_type": "code",
   "execution_count": 3,
   "metadata": {},
   "outputs": [],
   "source": [
    "#df=pd.read_csv(\"https://raw.githubusercontent.com/dsrscientist/DSData/master/Telecom_customer_churn.csv\")"
   ]
  },
  {
   "cell_type": "code",
   "execution_count": 4,
   "metadata": {},
   "outputs": [],
   "source": [
    "#df.to_csv(\"Telecom_customer_churn.csv\")"
   ]
  },
  {
   "cell_type": "code",
   "execution_count": 5,
   "metadata": {},
   "outputs": [],
   "source": [
    "df=pd.read_csv(\"Telecom_customer_churn.csv\",index_col=\"Unnamed: 0\")"
   ]
  },
  {
   "cell_type": "code",
   "execution_count": 6,
   "metadata": {},
   "outputs": [
    {
     "data": {
      "text/html": [
       "<div>\n",
       "<style scoped>\n",
       "    .dataframe tbody tr th:only-of-type {\n",
       "        vertical-align: middle;\n",
       "    }\n",
       "\n",
       "    .dataframe tbody tr th {\n",
       "        vertical-align: top;\n",
       "    }\n",
       "\n",
       "    .dataframe thead th {\n",
       "        text-align: right;\n",
       "    }\n",
       "</style>\n",
       "<table border=\"1\" class=\"dataframe\">\n",
       "  <thead>\n",
       "    <tr style=\"text-align: right;\">\n",
       "      <th></th>\n",
       "      <th>customerID</th>\n",
       "      <th>...</th>\n",
       "      <th>Churn</th>\n",
       "    </tr>\n",
       "  </thead>\n",
       "  <tbody>\n",
       "    <tr>\n",
       "      <th>0</th>\n",
       "      <td>7590-VHVEG</td>\n",
       "      <td>...</td>\n",
       "      <td>No</td>\n",
       "    </tr>\n",
       "    <tr>\n",
       "      <th>1</th>\n",
       "      <td>5575-GNVDE</td>\n",
       "      <td>...</td>\n",
       "      <td>No</td>\n",
       "    </tr>\n",
       "    <tr>\n",
       "      <th>2</th>\n",
       "      <td>3668-QPYBK</td>\n",
       "      <td>...</td>\n",
       "      <td>Yes</td>\n",
       "    </tr>\n",
       "    <tr>\n",
       "      <th>3</th>\n",
       "      <td>7795-CFOCW</td>\n",
       "      <td>...</td>\n",
       "      <td>No</td>\n",
       "    </tr>\n",
       "    <tr>\n",
       "      <th>4</th>\n",
       "      <td>9237-HQITU</td>\n",
       "      <td>...</td>\n",
       "      <td>Yes</td>\n",
       "    </tr>\n",
       "  </tbody>\n",
       "</table>\n",
       "<p>5 rows × 21 columns</p>\n",
       "</div>"
      ],
      "text/plain": [
       "   customerID  ... Churn\n",
       "0  7590-VHVEG  ...    No\n",
       "1  5575-GNVDE  ...    No\n",
       "2  3668-QPYBK  ...   Yes\n",
       "3  7795-CFOCW  ...    No\n",
       "4  9237-HQITU  ...   Yes\n",
       "\n",
       "[5 rows x 21 columns]"
      ]
     },
     "execution_count": 6,
     "metadata": {},
     "output_type": "execute_result"
    }
   ],
   "source": [
    "pd.set_option('display.max_columns',2)\n",
    "df.head()"
   ]
  },
  {
   "cell_type": "code",
   "execution_count": 7,
   "metadata": {},
   "outputs": [
    {
     "data": {
      "text/html": [
       "<div>\n",
       "<style scoped>\n",
       "    .dataframe tbody tr th:only-of-type {\n",
       "        vertical-align: middle;\n",
       "    }\n",
       "\n",
       "    .dataframe tbody tr th {\n",
       "        vertical-align: top;\n",
       "    }\n",
       "\n",
       "    .dataframe thead th {\n",
       "        text-align: right;\n",
       "    }\n",
       "</style>\n",
       "<table border=\"1\" class=\"dataframe\">\n",
       "  <thead>\n",
       "    <tr style=\"text-align: right;\">\n",
       "      <th></th>\n",
       "      <th>customerID</th>\n",
       "      <th>gender</th>\n",
       "      <th>SeniorCitizen</th>\n",
       "      <th>Partner</th>\n",
       "      <th>Dependents</th>\n",
       "      <th>tenure</th>\n",
       "      <th>PhoneService</th>\n",
       "      <th>MultipleLines</th>\n",
       "      <th>InternetService</th>\n",
       "      <th>OnlineSecurity</th>\n",
       "      <th>OnlineBackup</th>\n",
       "      <th>DeviceProtection</th>\n",
       "      <th>TechSupport</th>\n",
       "      <th>StreamingTV</th>\n",
       "      <th>StreamingMovies</th>\n",
       "      <th>Contract</th>\n",
       "      <th>PaperlessBilling</th>\n",
       "      <th>PaymentMethod</th>\n",
       "      <th>MonthlyCharges</th>\n",
       "      <th>TotalCharges</th>\n",
       "      <th>Churn</th>\n",
       "    </tr>\n",
       "  </thead>\n",
       "  <tbody>\n",
       "    <tr>\n",
       "      <th>0</th>\n",
       "      <td>7590-VHVEG</td>\n",
       "      <td>Female</td>\n",
       "      <td>0</td>\n",
       "      <td>Yes</td>\n",
       "      <td>No</td>\n",
       "      <td>1</td>\n",
       "      <td>No</td>\n",
       "      <td>No phone service</td>\n",
       "      <td>DSL</td>\n",
       "      <td>No</td>\n",
       "      <td>Yes</td>\n",
       "      <td>No</td>\n",
       "      <td>No</td>\n",
       "      <td>No</td>\n",
       "      <td>No</td>\n",
       "      <td>Month-to-month</td>\n",
       "      <td>Yes</td>\n",
       "      <td>Electronic check</td>\n",
       "      <td>29.85</td>\n",
       "      <td>29.85</td>\n",
       "      <td>No</td>\n",
       "    </tr>\n",
       "    <tr>\n",
       "      <th>1</th>\n",
       "      <td>5575-GNVDE</td>\n",
       "      <td>Male</td>\n",
       "      <td>0</td>\n",
       "      <td>No</td>\n",
       "      <td>No</td>\n",
       "      <td>34</td>\n",
       "      <td>Yes</td>\n",
       "      <td>No</td>\n",
       "      <td>DSL</td>\n",
       "      <td>Yes</td>\n",
       "      <td>No</td>\n",
       "      <td>Yes</td>\n",
       "      <td>No</td>\n",
       "      <td>No</td>\n",
       "      <td>No</td>\n",
       "      <td>One year</td>\n",
       "      <td>No</td>\n",
       "      <td>Mailed check</td>\n",
       "      <td>56.95</td>\n",
       "      <td>1889.5</td>\n",
       "      <td>No</td>\n",
       "    </tr>\n",
       "    <tr>\n",
       "      <th>2</th>\n",
       "      <td>3668-QPYBK</td>\n",
       "      <td>Male</td>\n",
       "      <td>0</td>\n",
       "      <td>No</td>\n",
       "      <td>No</td>\n",
       "      <td>2</td>\n",
       "      <td>Yes</td>\n",
       "      <td>No</td>\n",
       "      <td>DSL</td>\n",
       "      <td>Yes</td>\n",
       "      <td>Yes</td>\n",
       "      <td>No</td>\n",
       "      <td>No</td>\n",
       "      <td>No</td>\n",
       "      <td>No</td>\n",
       "      <td>Month-to-month</td>\n",
       "      <td>Yes</td>\n",
       "      <td>Mailed check</td>\n",
       "      <td>53.85</td>\n",
       "      <td>108.15</td>\n",
       "      <td>Yes</td>\n",
       "    </tr>\n",
       "    <tr>\n",
       "      <th>3</th>\n",
       "      <td>7795-CFOCW</td>\n",
       "      <td>Male</td>\n",
       "      <td>0</td>\n",
       "      <td>No</td>\n",
       "      <td>No</td>\n",
       "      <td>45</td>\n",
       "      <td>No</td>\n",
       "      <td>No phone service</td>\n",
       "      <td>DSL</td>\n",
       "      <td>Yes</td>\n",
       "      <td>No</td>\n",
       "      <td>Yes</td>\n",
       "      <td>Yes</td>\n",
       "      <td>No</td>\n",
       "      <td>No</td>\n",
       "      <td>One year</td>\n",
       "      <td>No</td>\n",
       "      <td>Bank transfer (automatic)</td>\n",
       "      <td>42.30</td>\n",
       "      <td>1840.75</td>\n",
       "      <td>No</td>\n",
       "    </tr>\n",
       "    <tr>\n",
       "      <th>4</th>\n",
       "      <td>9237-HQITU</td>\n",
       "      <td>Female</td>\n",
       "      <td>0</td>\n",
       "      <td>No</td>\n",
       "      <td>No</td>\n",
       "      <td>2</td>\n",
       "      <td>Yes</td>\n",
       "      <td>No</td>\n",
       "      <td>Fiber optic</td>\n",
       "      <td>No</td>\n",
       "      <td>No</td>\n",
       "      <td>No</td>\n",
       "      <td>No</td>\n",
       "      <td>No</td>\n",
       "      <td>No</td>\n",
       "      <td>Month-to-month</td>\n",
       "      <td>Yes</td>\n",
       "      <td>Electronic check</td>\n",
       "      <td>70.70</td>\n",
       "      <td>151.65</td>\n",
       "      <td>Yes</td>\n",
       "    </tr>\n",
       "  </tbody>\n",
       "</table>\n",
       "</div>"
      ],
      "text/plain": [
       "   customerID  gender  SeniorCitizen Partner Dependents  tenure PhoneService  \\\n",
       "0  7590-VHVEG  Female              0     Yes         No       1           No   \n",
       "1  5575-GNVDE    Male              0      No         No      34          Yes   \n",
       "2  3668-QPYBK    Male              0      No         No       2          Yes   \n",
       "3  7795-CFOCW    Male              0      No         No      45           No   \n",
       "4  9237-HQITU  Female              0      No         No       2          Yes   \n",
       "\n",
       "      MultipleLines InternetService OnlineSecurity OnlineBackup  \\\n",
       "0  No phone service             DSL             No          Yes   \n",
       "1                No             DSL            Yes           No   \n",
       "2                No             DSL            Yes          Yes   \n",
       "3  No phone service             DSL            Yes           No   \n",
       "4                No     Fiber optic             No           No   \n",
       "\n",
       "  DeviceProtection TechSupport StreamingTV StreamingMovies        Contract  \\\n",
       "0               No          No          No              No  Month-to-month   \n",
       "1              Yes          No          No              No        One year   \n",
       "2               No          No          No              No  Month-to-month   \n",
       "3              Yes         Yes          No              No        One year   \n",
       "4               No          No          No              No  Month-to-month   \n",
       "\n",
       "  PaperlessBilling              PaymentMethod  MonthlyCharges TotalCharges  \\\n",
       "0              Yes           Electronic check           29.85        29.85   \n",
       "1               No               Mailed check           56.95       1889.5   \n",
       "2              Yes               Mailed check           53.85       108.15   \n",
       "3               No  Bank transfer (automatic)           42.30      1840.75   \n",
       "4              Yes           Electronic check           70.70       151.65   \n",
       "\n",
       "  Churn  \n",
       "0    No  \n",
       "1    No  \n",
       "2   Yes  \n",
       "3    No  \n",
       "4   Yes  "
      ]
     },
     "execution_count": 7,
     "metadata": {},
     "output_type": "execute_result"
    }
   ],
   "source": [
    "pd.set_option('display.max_columns',None)\n",
    "df.head()"
   ]
  },
  {
   "cell_type": "markdown",
   "metadata": {},
   "source": [
    "Data compises of Services — which services the customer subscribed to (internet, phone, cable, etc.), Monthly bill total, Tenure — How long they had been a customer, Basic demographic info — whether they were elderly, had dependents, etc."
   ]
  },
  {
   "cell_type": "markdown",
   "metadata": {},
   "source": [
    "we want to predict whether  churn is Yes or No.\n",
    "So this is a classification algorithm"
   ]
  },
  {
   "cell_type": "code",
   "execution_count": 8,
   "metadata": {},
   "outputs": [
    {
     "data": {
      "text/plain": [
       "(7043, 21)"
      ]
     },
     "execution_count": 8,
     "metadata": {},
     "output_type": "execute_result"
    }
   ],
   "source": [
    "df.shape"
   ]
  },
  {
   "cell_type": "markdown",
   "metadata": {},
   "source": [
    "(7043, 21) is the size of the dataset"
   ]
  },
  {
   "cell_type": "code",
   "execution_count": 9,
   "metadata": {},
   "outputs": [
    {
     "data": {
      "text/plain": [
       "Index(['customerID', 'gender', 'SeniorCitizen', 'Partner', 'Dependents',\n",
       "       'tenure', 'PhoneService', 'MultipleLines', 'InternetService',\n",
       "       'OnlineSecurity', 'OnlineBackup', 'DeviceProtection', 'TechSupport',\n",
       "       'StreamingTV', 'StreamingMovies', 'Contract', 'PaperlessBilling',\n",
       "       'PaymentMethod', 'MonthlyCharges', 'TotalCharges', 'Churn'],\n",
       "      dtype='object')"
      ]
     },
     "execution_count": 9,
     "metadata": {},
     "output_type": "execute_result"
    }
   ],
   "source": [
    "df.columns"
   ]
  },
  {
   "cell_type": "code",
   "execution_count": 10,
   "metadata": {},
   "outputs": [
    {
     "name": "stdout",
     "output_type": "stream",
     "text": [
      "<class 'pandas.core.frame.DataFrame'>\n",
      "Int64Index: 7043 entries, 0 to 7042\n",
      "Data columns (total 21 columns):\n",
      " #   Column            Non-Null Count  Dtype  \n",
      "---  ------            --------------  -----  \n",
      " 0   customerID        7043 non-null   object \n",
      " 1   gender            7043 non-null   object \n",
      " 2   SeniorCitizen     7043 non-null   int64  \n",
      " 3   Partner           7043 non-null   object \n",
      " 4   Dependents        7043 non-null   object \n",
      " 5   tenure            7043 non-null   int64  \n",
      " 6   PhoneService      7043 non-null   object \n",
      " 7   MultipleLines     7043 non-null   object \n",
      " 8   InternetService   7043 non-null   object \n",
      " 9   OnlineSecurity    7043 non-null   object \n",
      " 10  OnlineBackup      7043 non-null   object \n",
      " 11  DeviceProtection  7043 non-null   object \n",
      " 12  TechSupport       7043 non-null   object \n",
      " 13  StreamingTV       7043 non-null   object \n",
      " 14  StreamingMovies   7043 non-null   object \n",
      " 15  Contract          7043 non-null   object \n",
      " 16  PaperlessBilling  7043 non-null   object \n",
      " 17  PaymentMethod     7043 non-null   object \n",
      " 18  MonthlyCharges    7043 non-null   float64\n",
      " 19  TotalCharges      7043 non-null   object \n",
      " 20  Churn             7043 non-null   object \n",
      "dtypes: float64(1), int64(2), object(18)\n",
      "memory usage: 1.2+ MB\n"
     ]
    }
   ],
   "source": [
    "df.info()"
   ]
  },
  {
   "cell_type": "code",
   "execution_count": null,
   "metadata": {},
   "outputs": [],
   "source": []
  },
  {
   "cell_type": "markdown",
   "metadata": {},
   "source": [
    "'customerID' is a string column,\n",
    "\n",
    "'gender', 'SeniorCitizen', 'Partner', 'Dependents' ,'PhoneService', 'MultipleLines', 'InternetService','OnlineSecurity', 'OnlineBackup', 'DeviceProtection', 'TechSupport',\n",
    "'StreamingTV', 'StreamingMovies', 'Contract', 'PaperlessBilling', 'PaymentMethod', 'Churn'  are categorical columns\n",
    "\n",
    "tenure,  'MonthlyCharges', 'TotalCharges' are  numeric column"
   ]
  },
  {
   "cell_type": "code",
   "execution_count": 11,
   "metadata": {},
   "outputs": [
    {
     "data": {
      "text/plain": [
       "customerID          0\n",
       "gender              0\n",
       "SeniorCitizen       0\n",
       "Partner             0\n",
       "Dependents          0\n",
       "tenure              0\n",
       "PhoneService        0\n",
       "MultipleLines       0\n",
       "InternetService     0\n",
       "OnlineSecurity      0\n",
       "OnlineBackup        0\n",
       "DeviceProtection    0\n",
       "TechSupport         0\n",
       "StreamingTV         0\n",
       "StreamingMovies     0\n",
       "Contract            0\n",
       "PaperlessBilling    0\n",
       "PaymentMethod       0\n",
       "MonthlyCharges      0\n",
       "TotalCharges        0\n",
       "Churn               0\n",
       "dtype: int64"
      ]
     },
     "execution_count": 11,
     "metadata": {},
     "output_type": "execute_result"
    }
   ],
   "source": [
    "df.isnull().sum()"
   ]
  },
  {
   "cell_type": "markdown",
   "metadata": {},
   "source": [
    "There is no missing data in any of the features"
   ]
  },
  {
   "cell_type": "code",
   "execution_count": 12,
   "metadata": {},
   "outputs": [
    {
     "data": {
      "text/html": [
       "<div>\n",
       "<style scoped>\n",
       "    .dataframe tbody tr th:only-of-type {\n",
       "        vertical-align: middle;\n",
       "    }\n",
       "\n",
       "    .dataframe tbody tr th {\n",
       "        vertical-align: top;\n",
       "    }\n",
       "\n",
       "    .dataframe thead th {\n",
       "        text-align: right;\n",
       "    }\n",
       "</style>\n",
       "<table border=\"1\" class=\"dataframe\">\n",
       "  <thead>\n",
       "    <tr style=\"text-align: right;\">\n",
       "      <th></th>\n",
       "      <th>SeniorCitizen</th>\n",
       "      <th>tenure</th>\n",
       "      <th>MonthlyCharges</th>\n",
       "    </tr>\n",
       "  </thead>\n",
       "  <tbody>\n",
       "    <tr>\n",
       "      <th>count</th>\n",
       "      <td>7043.000000</td>\n",
       "      <td>7043.000000</td>\n",
       "      <td>7043.000000</td>\n",
       "    </tr>\n",
       "    <tr>\n",
       "      <th>mean</th>\n",
       "      <td>0.162147</td>\n",
       "      <td>32.371149</td>\n",
       "      <td>64.761692</td>\n",
       "    </tr>\n",
       "    <tr>\n",
       "      <th>std</th>\n",
       "      <td>0.368612</td>\n",
       "      <td>24.559481</td>\n",
       "      <td>30.090047</td>\n",
       "    </tr>\n",
       "    <tr>\n",
       "      <th>min</th>\n",
       "      <td>0.000000</td>\n",
       "      <td>0.000000</td>\n",
       "      <td>18.250000</td>\n",
       "    </tr>\n",
       "    <tr>\n",
       "      <th>25%</th>\n",
       "      <td>0.000000</td>\n",
       "      <td>9.000000</td>\n",
       "      <td>35.500000</td>\n",
       "    </tr>\n",
       "    <tr>\n",
       "      <th>50%</th>\n",
       "      <td>0.000000</td>\n",
       "      <td>29.000000</td>\n",
       "      <td>70.350000</td>\n",
       "    </tr>\n",
       "    <tr>\n",
       "      <th>75%</th>\n",
       "      <td>0.000000</td>\n",
       "      <td>55.000000</td>\n",
       "      <td>89.850000</td>\n",
       "    </tr>\n",
       "    <tr>\n",
       "      <th>max</th>\n",
       "      <td>1.000000</td>\n",
       "      <td>72.000000</td>\n",
       "      <td>118.750000</td>\n",
       "    </tr>\n",
       "  </tbody>\n",
       "</table>\n",
       "</div>"
      ],
      "text/plain": [
       "       SeniorCitizen       tenure  MonthlyCharges\n",
       "count    7043.000000  7043.000000     7043.000000\n",
       "mean        0.162147    32.371149       64.761692\n",
       "std         0.368612    24.559481       30.090047\n",
       "min         0.000000     0.000000       18.250000\n",
       "25%         0.000000     9.000000       35.500000\n",
       "50%         0.000000    29.000000       70.350000\n",
       "75%         0.000000    55.000000       89.850000\n",
       "max         1.000000    72.000000      118.750000"
      ]
     },
     "execution_count": 12,
     "metadata": {},
     "output_type": "execute_result"
    }
   ],
   "source": [
    "df.describe()"
   ]
  },
  {
   "cell_type": "markdown",
   "metadata": {},
   "source": [
    "## EDA"
   ]
  },
  {
   "cell_type": "code",
   "execution_count": 13,
   "metadata": {},
   "outputs": [],
   "source": [
    "#Removing customer IDs from the data set the columns not used in the predictive model.\n",
    "df.drop(\"customerID\", axis=1,inplace=True)"
   ]
  },
  {
   "cell_type": "code",
   "execution_count": 14,
   "metadata": {},
   "outputs": [
    {
     "data": {
      "text/plain": [
       "[' ',\n",
       " ' ',\n",
       " ' ',\n",
       " ' ',\n",
       " ' ',\n",
       " ' ',\n",
       " ' ',\n",
       " ' ',\n",
       " ' ',\n",
       " ' ',\n",
       " ' ',\n",
       " '100.2',\n",
       " '100.25',\n",
       " '100.35',\n",
       " '100.4',\n",
       " '100.8',\n",
       " '100.9',\n",
       " '1001.2',\n",
       " '1001.5',\n",
       " '1003.05']"
      ]
     },
     "execution_count": 14,
     "metadata": {},
     "output_type": "execute_result"
    }
   ],
   "source": [
    "#df.TotalCharges = pd.to_numeric(df.TotalCharges, errors='coerce')\n",
    "sorted(df['TotalCharges'])[0:20]"
   ]
  },
  {
   "cell_type": "code",
   "execution_count": 15,
   "metadata": {},
   "outputs": [
    {
     "data": {
      "text/plain": [
       "gender               0\n",
       "SeniorCitizen        0\n",
       "Partner              0\n",
       "Dependents           0\n",
       "tenure               0\n",
       "PhoneService         0\n",
       "MultipleLines        0\n",
       "InternetService      0\n",
       "OnlineSecurity       0\n",
       "OnlineBackup         0\n",
       "DeviceProtection     0\n",
       "TechSupport          0\n",
       "StreamingTV          0\n",
       "StreamingMovies      0\n",
       "Contract             0\n",
       "PaperlessBilling     0\n",
       "PaymentMethod        0\n",
       "MonthlyCharges       0\n",
       "TotalCharges        11\n",
       "Churn                0\n",
       "dtype: int64"
      ]
     },
     "execution_count": 15,
     "metadata": {},
     "output_type": "execute_result"
    }
   ],
   "source": [
    "df.TotalCharges = pd.to_numeric(df.TotalCharges, errors='coerce')\n",
    "df.MonthlyCharges = pd.to_numeric(df.MonthlyCharges, errors='coerce')\n",
    "df.tenure = pd.to_numeric(df.tenure, errors='coerce')\n",
    "\n",
    "df.isnull().sum()"
   ]
  },
  {
   "cell_type": "markdown",
   "metadata": {},
   "source": [
    "There are 11 records with  missing values for Total charges\\\n",
    "as the number of missing values is less dropping the records"
   ]
  },
  {
   "cell_type": "code",
   "execution_count": 16,
   "metadata": {},
   "outputs": [],
   "source": [
    "df.dropna(inplace = True)"
   ]
  },
  {
   "cell_type": "code",
   "execution_count": 17,
   "metadata": {},
   "outputs": [
    {
     "data": {
      "text/plain": [
       "<AxesSubplot:xlabel='Churn', ylabel='count'>"
      ]
     },
     "execution_count": 17,
     "metadata": {},
     "output_type": "execute_result"
    },
    {
     "data": {
      "image/png": "[encoded data removed]",
      "text/plain": [
       "<Figure size 432x288 with 1 Axes>"
      ]
     },
     "metadata": {
      "needs_background": "light"
     },
     "output_type": "display_data"
    }
   ],
   "source": [
    "sns.countplot(df['Churn'])"
   ]
  },
  {
   "cell_type": "markdown",
   "metadata": {},
   "source": [
    "As the classes are imbalanced look at F1 score rather than accuracy"
   ]
  },
  {
   "cell_type": "code",
   "execution_count": 18,
   "metadata": {},
   "outputs": [
    {
     "data": {
      "text/plain": [
       "Male      3549\n",
       "Female    3483\n",
       "Name: gender, dtype: int64"
      ]
     },
     "execution_count": 18,
     "metadata": {},
     "output_type": "execute_result"
    }
   ],
   "source": [
    "df['gender'].value_counts()"
   ]
  },
  {
   "cell_type": "code",
   "execution_count": 19,
   "metadata": {},
   "outputs": [
    {
     "data": {
      "text/plain": [
       "<AxesSubplot:xlabel='gender', ylabel='count'>"
      ]
     },
     "execution_count": 19,
     "metadata": {},
     "output_type": "execute_result"
    },
    {
     "data": {
      "image/png": "[encoded data removed]",
      "text/plain": [
       "<Figure size 432x288 with 1 Axes>"
      ]
     },
     "metadata": {
      "needs_background": "light"
     },
     "output_type": "display_data"
    }
   ],
   "source": [
    "sns.countplot(df['gender'])"
   ]
  },
  {
   "cell_type": "markdown",
   "metadata": {},
   "source": [
    "both female and male are in equal number"
   ]
  },
  {
   "cell_type": "code",
   "execution_count": 20,
   "metadata": {},
   "outputs": [
    {
     "data": {
      "text/plain": [
       "gender  Churn\n",
       "Female  No       2544\n",
       "        Yes       939\n",
       "Male    No       2619\n",
       "        Yes       930\n",
       "Name: Churn, dtype: int64"
      ]
     },
     "execution_count": 20,
     "metadata": {},
     "output_type": "execute_result"
    }
   ],
   "source": [
    "df.groupby('gender')['Churn'].value_counts()"
   ]
  },
  {
   "cell_type": "code",
   "execution_count": 21,
   "metadata": {},
   "outputs": [
    {
     "data": {
      "text/plain": [
       "<AxesSubplot:xlabel='gender', ylabel='Count'>"
      ]
     },
     "execution_count": 21,
     "metadata": {},
     "output_type": "execute_result"
    },
    {
     "data": {
      "image/png": "[encoded data removed]",
      "text/plain": [
       "<Figure size 432x288 with 1 Axes>"
      ]
     },
     "metadata": {
      "needs_background": "light"
     },
     "output_type": "display_data"
    }
   ],
   "source": [
    "sns.histplot(x='gender',data=df,hue='Churn')"
   ]
  },
  {
   "cell_type": "markdown",
   "metadata": {},
   "source": [
    "in both female and male the number of churn yes and no are similar\n",
    "\n",
    "but churn = no are almost 3 times to churn = yes"
   ]
  },
  {
   "cell_type": "code",
   "execution_count": 22,
   "metadata": {},
   "outputs": [
    {
     "data": {
      "text/plain": [
       "0    5890\n",
       "1    1142\n",
       "Name: SeniorCitizen, dtype: int64"
      ]
     },
     "execution_count": 22,
     "metadata": {},
     "output_type": "execute_result"
    }
   ],
   "source": [
    "df['SeniorCitizen'].value_counts()"
   ]
  },
  {
   "cell_type": "markdown",
   "metadata": {},
   "source": [
    "number of youg customer are 5 times the senior citizens"
   ]
  },
  {
   "cell_type": "code",
   "execution_count": 23,
   "metadata": {},
   "outputs": [
    {
     "data": {
      "text/plain": [
       "SeniorCitizen  Churn\n",
       "0              No       4497\n",
       "               Yes      1393\n",
       "1              No        666\n",
       "               Yes       476\n",
       "Name: Churn, dtype: int64"
      ]
     },
     "execution_count": 23,
     "metadata": {},
     "output_type": "execute_result"
    }
   ],
   "source": [
    "df.groupby('SeniorCitizen')['Churn'].value_counts()"
   ]
  },
  {
   "cell_type": "code",
   "execution_count": 24,
   "metadata": {},
   "outputs": [
    {
     "data": {
      "image/png": "[encoded data removed]",
      "text/plain": [
       "<Figure size 432x288 with 1 Axes>"
      ]
     },
     "metadata": {
      "needs_background": "light"
     },
     "output_type": "display_data"
    }
   ],
   "source": [
    "sns.histplot(x='SeniorCitizen',data=df,hue='Churn')\n",
    "plt.xticks([0,1]);"
   ]
  },
  {
   "cell_type": "markdown",
   "metadata": {},
   "source": [
    "IN young customer(3..) churn rate is more than senior citizen(1.02 times)"
   ]
  },
  {
   "cell_type": "code",
   "execution_count": 25,
   "metadata": {},
   "outputs": [
    {
     "data": {
      "text/plain": [
       "No     3639\n",
       "Yes    3393\n",
       "Name: Partner, dtype: int64"
      ]
     },
     "execution_count": 25,
     "metadata": {},
     "output_type": "execute_result"
    }
   ],
   "source": [
    "df['Partner'].value_counts()"
   ]
  },
  {
   "cell_type": "markdown",
   "metadata": {},
   "source": [
    "Number of customer with and without partner are almost same in number"
   ]
  },
  {
   "cell_type": "code",
   "execution_count": 26,
   "metadata": {},
   "outputs": [
    {
     "data": {
      "text/plain": [
       "Partner  Churn\n",
       "No       No       2439\n",
       "         Yes      1200\n",
       "Yes      No       2724\n",
       "         Yes       669\n",
       "Name: Churn, dtype: int64"
      ]
     },
     "execution_count": 26,
     "metadata": {},
     "output_type": "execute_result"
    }
   ],
   "source": [
    "df.groupby('Partner')['Churn'].value_counts()"
   ]
  },
  {
   "cell_type": "code",
   "execution_count": 27,
   "metadata": {},
   "outputs": [
    {
     "data": {
      "text/plain": [
       "<AxesSubplot:xlabel='Partner', ylabel='Count'>"
      ]
     },
     "execution_count": 27,
     "metadata": {},
     "output_type": "execute_result"
    },
    {
     "data": {
      "image/png": "[encoded data removed]",
      "text/plain": [
       "<Figure size 432x288 with 1 Axes>"
      ]
     },
     "metadata": {
      "needs_background": "light"
     },
     "output_type": "display_data"
    }
   ],
   "source": [
    "sns.histplot(x='Partner',data=df,hue='Churn')"
   ]
  },
  {
   "cell_type": "markdown",
   "metadata": {},
   "source": [
    "in the customer without partner churn no is twice the churn yes\n",
    "where as in customer with partner churn no is almost 4 times churn =yes"
   ]
  },
  {
   "cell_type": "code",
   "execution_count": 28,
   "metadata": {},
   "outputs": [
    {
     "data": {
      "text/plain": [
       "No     4933\n",
       "Yes    2099\n",
       "Name: Dependents, dtype: int64"
      ]
     },
     "execution_count": 28,
     "metadata": {},
     "output_type": "execute_result"
    }
   ],
   "source": [
    "df['Dependents'].value_counts()"
   ]
  },
  {
   "cell_type": "markdown",
   "metadata": {},
   "source": [
    "customer without dependents are almost 2.5 times customer with dependents"
   ]
  },
  {
   "cell_type": "code",
   "execution_count": 29,
   "metadata": {},
   "outputs": [
    {
     "data": {
      "text/plain": [
       "Dependents  Churn\n",
       "No          No       3390\n",
       "            Yes      1543\n",
       "Yes         No       1773\n",
       "            Yes       326\n",
       "Name: Churn, dtype: int64"
      ]
     },
     "execution_count": 29,
     "metadata": {},
     "output_type": "execute_result"
    }
   ],
   "source": [
    "df.groupby('Dependents')['Churn'].value_counts()"
   ]
  },
  {
   "cell_type": "code",
   "execution_count": 30,
   "metadata": {},
   "outputs": [
    {
     "data": {
      "text/plain": [
       "<AxesSubplot:xlabel='Dependents', ylabel='Count'>"
      ]
     },
     "execution_count": 30,
     "metadata": {},
     "output_type": "execute_result"
    },
    {
     "data": {
      "image/png": "[encoded data removed]",
      "text/plain": [
       "<Figure size 432x288 with 1 Axes>"
      ]
     },
     "metadata": {
      "needs_background": "light"
     },
     "output_type": "display_data"
    }
   ],
   "source": [
    "sns.histplot(x='Dependents',data=df,hue='Churn')"
   ]
  },
  {
   "cell_type": "markdown",
   "metadata": {},
   "source": [
    "in the customer without Dependents churn no is a bit more than twice the churn yes\n",
    "where as in customer with Dependents churn no is almost 6 times churn =yes"
   ]
  },
  {
   "cell_type": "code",
   "execution_count": 31,
   "metadata": {},
   "outputs": [
    {
     "data": {
      "text/plain": [
       "1     613\n",
       "72    362\n",
       "2     238\n",
       "3     200\n",
       "4     176\n",
       "     ... \n",
       "38     59\n",
       "28     57\n",
       "39     56\n",
       "44     51\n",
       "36     50\n",
       "Name: tenure, Length: 72, dtype: int64"
      ]
     },
     "execution_count": 31,
     "metadata": {},
     "output_type": "execute_result"
    }
   ],
   "source": [
    "df['tenure'].value_counts()"
   ]
  },
  {
   "cell_type": "code",
   "execution_count": 32,
   "metadata": {},
   "outputs": [
    {
     "data": {
      "text/plain": [
       "<AxesSubplot:xlabel='tenure', ylabel='Count'>"
      ]
     },
     "execution_count": 32,
     "metadata": {},
     "output_type": "execute_result"
    },
    {
     "data": {
      "image/png": "[encoded data removed]",
      "text/plain": [
       "<Figure size 432x288 with 1 Axes>"
      ]
     },
     "metadata": {
      "needs_background": "light"
     },
     "output_type": "display_data"
    }
   ],
   "source": [
    "sns.histplot(x='tenure',data=df)"
   ]
  },
  {
   "cell_type": "code",
   "execution_count": 33,
   "metadata": {},
   "outputs": [
    {
     "data": {
      "text/plain": [
       "<AxesSubplot:xlabel='tenure', ylabel='Count'>"
      ]
     },
     "execution_count": 33,
     "metadata": {},
     "output_type": "execute_result"
    },
    {
     "data": {
      "image/png": "[encoded data removed]",
      "text/plain": [
       "<Figure size 432x288 with 1 Axes>"
      ]
     },
     "metadata": {
      "needs_background": "light"
     },
     "output_type": "display_data"
    }
   ],
   "source": [
    "sns.histplot(x='tenure',data=df,hue='Churn')"
   ]
  },
  {
   "cell_type": "markdown",
   "metadata": {},
   "source": [
    "it can be seen that for less than 15 years tenure churn rate is more, where as after 15 years customer tend to stay with the company and churn rate is less\n",
    "and very less for 70 years"
   ]
  },
  {
   "cell_type": "code",
   "execution_count": 34,
   "metadata": {},
   "outputs": [],
   "source": [
    "categoricalCols=['PhoneService', \n",
    "'MultipleLines', 'InternetService','OnlineSecurity', 'OnlineBackup',\n",
    "'DeviceProtection', 'TechSupport', 'StreamingTV', 'StreamingMovies',\n",
    "'Contract', 'PaperlessBilling', 'PaymentMethod']"
   ]
  },
  {
   "cell_type": "code",
   "execution_count": 35,
   "metadata": {},
   "outputs": [
    {
     "name": "stdout",
     "output_type": "stream",
     "text": [
      "PhoneService\n",
      "Yes    6352\n",
      "No      680\n",
      "Name: PhoneService, dtype: int64\n",
      "PhoneService  Churn\n",
      "No            No        510\n",
      "              Yes       170\n",
      "Yes           No       4653\n",
      "              Yes      1699\n",
      "Name: Churn, dtype: int64\n"
     ]
    },
    {
     "data": {
      "image/png": "[encoded data removed]",
      "text/plain": [
       "<Figure size 432x288 with 1 Axes>"
      ]
     },
     "metadata": {
      "needs_background": "light"
     },
     "output_type": "display_data"
    },
    {
     "name": "stdout",
     "output_type": "stream",
     "text": [
      "MultipleLines\n",
      "No                  3385\n",
      "Yes                 2967\n",
      "No phone service     680\n",
      "Name: MultipleLines, dtype: int64\n",
      "MultipleLines     Churn\n",
      "No                No       2536\n",
      "                  Yes       849\n",
      "No phone service  No        510\n",
      "                  Yes       170\n",
      "Yes               No       2117\n",
      "                  Yes       850\n",
      "Name: Churn, dtype: int64\n"
     ]
    },
    {
     "data": {
      "image/png": "[encoded data removed]",
      "text/plain": [
       "<Figure size 432x288 with 1 Axes>"
      ]
     },
     "metadata": {
      "needs_background": "light"
     },
     "output_type": "display_data"
    },
    {
     "name": "stdout",
     "output_type": "stream",
     "text": [
      "InternetService\n",
      "Fiber optic    3096\n",
      "DSL            2416\n",
      "No             1520\n",
      "Name: InternetService, dtype: int64\n",
      "InternetService  Churn\n",
      "DSL              No       1957\n",
      "                 Yes       459\n",
      "Fiber optic      No       1799\n",
      "                 Yes      1297\n",
      "No               No       1407\n",
      "                 Yes       113\n",
      "Name: Churn, dtype: int64\n"
     ]
    },
    {
     "data": {
      "image/png": "[encoded data removed]",
      "text/plain": [
       "<Figure size 432x288 with 1 Axes>"
      ]
     },
     "metadata": {
      "needs_background": "light"
     },
     "output_type": "display_data"
    },
    {
     "name": "stdout",
     "output_type": "stream",
     "text": [
      "OnlineSecurity\n",
      "No                     3497\n",
      "Yes                    2015\n",
      "No internet service    1520\n",
      "Name: OnlineSecurity, dtype: int64\n",
      "OnlineSecurity       Churn\n",
      "No                   No       2036\n",
      "                     Yes      1461\n",
      "No internet service  No       1407\n",
      "                     Yes       113\n",
      "Yes                  No       1720\n",
      "                     Yes       295\n",
      "Name: Churn, dtype: int64\n"
     ]
    },
    {
     "data": {
      "image/png": "[encoded data removed]",
      "text/plain": [
       "<Figure size 432x288 with 1 Axes>"
      ]
     },
     "metadata": {
      "needs_background": "light"
     },
     "output_type": "display_data"
    },
    {
     "name": "stdout",
     "output_type": "stream",
     "text": [
      "OnlineBackup\n",
      "No                     3087\n",
      "Yes                    2425\n",
      "No internet service    1520\n",
      "Name: OnlineBackup, dtype: int64\n",
      "OnlineBackup         Churn\n",
      "No                   No       1854\n",
      "                     Yes      1233\n",
      "No internet service  No       1407\n",
      "                     Yes       113\n",
      "Yes                  No       1902\n",
      "                     Yes       523\n",
      "Name: Churn, dtype: int64\n"
     ]
    },
    {
     "data": {
      "image/png": "[encoded data removed]",
      "text/plain": [
       "<Figure size 432x288 with 1 Axes>"
      ]
     },
     "metadata": {
      "needs_background": "light"
     },
     "output_type": "display_data"
    },
    {
     "name": "stdout",
     "output_type": "stream",
     "text": [
      "DeviceProtection\n",
      "No                     3094\n",
      "Yes                    2418\n",
      "No internet service    1520\n",
      "Name: DeviceProtection, dtype: int64\n",
      "DeviceProtection     Churn\n",
      "No                   No       1883\n",
      "                     Yes      1211\n",
      "No internet service  No       1407\n",
      "                     Yes       113\n",
      "Yes                  No       1873\n",
      "                     Yes       545\n",
      "Name: Churn, dtype: int64\n"
     ]
    },
    {
     "data": {
      "image/png": "[encoded data removed]",
      "text/plain": [
       "<Figure size 432x288 with 1 Axes>"
      ]
     },
     "metadata": {
      "needs_background": "light"
     },
     "output_type": "display_data"
    },
    {
     "name": "stdout",
     "output_type": "stream",
     "text": [
      "TechSupport\n",
      "No                     3472\n",
      "Yes                    2040\n",
      "No internet service    1520\n",
      "Name: TechSupport, dtype: int64\n",
      "TechSupport          Churn\n",
      "No                   No       2026\n",
      "                     Yes      1446\n",
      "No internet service  No       1407\n",
      "                     Yes       113\n",
      "Yes                  No       1730\n",
      "                     Yes       310\n",
      "Name: Churn, dtype: int64\n"
     ]
    },
    {
     "data": {
      "image/png": "[encoded data removed]",
      "text/plain": [
       "<Figure size 432x288 with 1 Axes>"
      ]
     },
     "metadata": {
      "needs_background": "light"
     },
     "output_type": "display_data"
    },
    {
     "name": "stdout",
     "output_type": "stream",
     "text": [
      "StreamingTV\n",
      "No                     2809\n",
      "Yes                    2703\n",
      "No internet service    1520\n",
      "Name: StreamingTV, dtype: int64\n",
      "StreamingTV          Churn\n",
      "No                   No       1867\n",
      "                     Yes       942\n",
      "No internet service  No       1407\n",
      "                     Yes       113\n",
      "Yes                  No       1889\n",
      "                     Yes       814\n",
      "Name: Churn, dtype: int64\n"
     ]
    },
    {
     "data": {
      "image/png": "[encoded data removed]",
      "text/plain": [
       "<Figure size 432x288 with 1 Axes>"
      ]
     },
     "metadata": {
      "needs_background": "light"
     },
     "output_type": "display_data"
    },
    {
     "name": "stdout",
     "output_type": "stream",
     "text": [
      "StreamingMovies\n",
      "No                     2781\n",
      "Yes                    2731\n",
      "No internet service    1520\n",
      "Name: StreamingMovies, dtype: int64\n",
      "StreamingMovies      Churn\n",
      "No                   No       1843\n",
      "                     Yes       938\n",
      "No internet service  No       1407\n",
      "                     Yes       113\n",
      "Yes                  No       1913\n",
      "                     Yes       818\n",
      "Name: Churn, dtype: int64\n"
     ]
    },
    {
     "data": {
      "image/png": "[encoded data removed]",
      "text/plain": [
       "<Figure size 432x288 with 1 Axes>"
      ]
     },
     "metadata": {
      "needs_background": "light"
     },
     "output_type": "display_data"
    },
    {
     "name": "stdout",
     "output_type": "stream",
     "text": [
      "Contract\n",
      "Month-to-month    3875\n",
      "Two year          1685\n",
      "One year          1472\n",
      "Name: Contract, dtype: int64\n",
      "Contract        Churn\n",
      "Month-to-month  No       2220\n",
      "                Yes      1655\n",
      "One year        No       1306\n",
      "                Yes       166\n",
      "Two year        No       1637\n",
      "                Yes        48\n",
      "Name: Churn, dtype: int64\n"
     ]
    },
    {
     "data": {
      "image/png": "[encoded data removed]",
      "text/plain": [
       "<Figure size 432x288 with 1 Axes>"
      ]
     },
     "metadata": {
      "needs_background": "light"
     },
     "output_type": "display_data"
    },
    {
     "name": "stdout",
     "output_type": "stream",
     "text": [
      "PaperlessBilling\n",
      "Yes    4168\n",
      "No     2864\n",
      "Name: PaperlessBilling, dtype: int64\n",
      "PaperlessBilling  Churn\n",
      "No                No       2395\n",
      "                  Yes       469\n",
      "Yes               No       2768\n",
      "                  Yes      1400\n",
      "Name: Churn, dtype: int64\n"
     ]
    },
    {
     "data": {
      "image/png": "[encoded data removed]",
      "text/plain": [
       "<Figure size 432x288 with 1 Axes>"
      ]
     },
     "metadata": {
      "needs_background": "light"
     },
     "output_type": "display_data"
    },
    {
     "name": "stdout",
     "output_type": "stream",
     "text": [
      "PaymentMethod\n",
      "Electronic check             2365\n",
      "Mailed check                 1604\n",
      "Bank transfer (automatic)    1542\n",
      "Credit card (automatic)      1521\n",
      "Name: PaymentMethod, dtype: int64\n",
      "PaymentMethod              Churn\n",
      "Bank transfer (automatic)  No       1284\n",
      "                           Yes       258\n",
      "Credit card (automatic)    No       1289\n",
      "                           Yes       232\n",
      "Electronic check           No       1294\n",
      "                           Yes      1071\n",
      "Mailed check               No       1296\n",
      "                           Yes       308\n",
      "Name: Churn, dtype: int64\n"
     ]
    },
    {
     "data": {
      "image/png": "[encoded data removed]",
      "text/plain": [
       "<Figure size 432x288 with 1 Axes>"
      ]
     },
     "metadata": {
      "needs_background": "light"
     },
     "output_type": "display_data"
    }
   ],
   "source": [
    "for col in categoricalCols:\n",
    "    print(col)\n",
    "    print(df[col].value_counts())\n",
    "    print(df.groupby(col)['Churn'].value_counts())\n",
    "    sns.histplot(x=col,data=df,hue='Churn')\n",
    "    plt.xticks(rotation=90)\n",
    "    plt.show()"
   ]
  },
  {
   "cell_type": "markdown",
   "metadata": {},
   "source": [
    "Phone service is used by 6352 which is almost 10 times the customer not using phone\n",
    "churn rate is more in customer  using phone service 26.7 %  is churn rate in using service\n",
    "and churn rate is 25% in customer not using service\n",
    "\n",
    "MultipleLines\n",
    "____\n",
    "MultipleLines are a bit more than having single lines by 400\n",
    "in customer having multiple lines churn rate(850/(850+2117) is bit more than customer not having multiple lines(849/849+2536)\n",
    "\n",
    "InternetService\n",
    "___\n",
    "More customers use Fiber Optic and most of the customers use internet service wwhich is 3 times the customers not having internet services\n",
    "churn rate for DSL is 459/(459+1957) =18%\n",
    "churn rate for Fiber Optic is 459/(459+1957) =41%\n",
    "\n",
    "OnlineSecurity\n",
    "___\n",
    "Churn rate is more in customers not having online security\n",
    "\n",
    "Online Bckup\n",
    "___\n",
    "Churn rate is more in customers not having online Backup\n",
    "Device Protection\n",
    "___\n",
    "Churn rate is more in customers not having Device Protection\n",
    "TechSupport\n",
    "____\n",
    "Churn rate is more in customers not having TechSupport\n",
    "StreamingTV\n",
    "___\n",
    "Churn rate is more in customers not StreamingTV\n",
    "\n",
    "StreamingMovies\n",
    "___\n",
    "Churn rate is more in customers not StreamingMovies\n",
    "\n",
    "Contract\n",
    "___\n",
    "Churn rate is more in customers having month-month contract\n",
    "       \n",
    "PaperLess Billing\n",
    "___\n",
    "Churn rate is more in customers using paperlessBilling\n",
    "\n",
    "paymentMethod\n",
    "___\n",
    "Churn rate is more in customers having Electronic Check and least for customers using Credit card\n",
    "\n"
   ]
  },
  {
   "cell_type": "code",
   "execution_count": 36,
   "metadata": {},
   "outputs": [
    {
     "data": {
      "text/plain": [
       "Index(['gender', 'SeniorCitizen', 'Partner', 'Dependents', 'tenure',\n",
       "       'PhoneService', 'MultipleLines', 'InternetService', 'OnlineSecurity',\n",
       "       'OnlineBackup', 'DeviceProtection', 'TechSupport', 'StreamingTV',\n",
       "       'StreamingMovies', 'Contract', 'PaperlessBilling', 'PaymentMethod',\n",
       "       'MonthlyCharges', 'TotalCharges', 'Churn'],\n",
       "      dtype='object')"
      ]
     },
     "execution_count": 36,
     "metadata": {},
     "output_type": "execute_result"
    }
   ],
   "source": [
    "df.columns"
   ]
  },
  {
   "cell_type": "code",
   "execution_count": 37,
   "metadata": {},
   "outputs": [
    {
     "data": {
      "text/plain": [
       "<AxesSubplot:xlabel='MonthlyCharges', ylabel='Count'>"
      ]
     },
     "execution_count": 37,
     "metadata": {},
     "output_type": "execute_result"
    },
    {
     "data": {
      "image/png": "[encoded data removed]",
      "text/plain": [
       "<Figure size 432x288 with 1 Axes>"
      ]
     },
     "metadata": {
      "needs_background": "light"
     },
     "output_type": "display_data"
    }
   ],
   "source": [
    "sns.histplot(x='MonthlyCharges',data=df,hue='Churn')"
   ]
  },
  {
   "cell_type": "code",
   "execution_count": 38,
   "metadata": {},
   "outputs": [
    {
     "data": {
      "text/plain": [
       "<AxesSubplot:xlabel='TotalCharges', ylabel='Count'>"
      ]
     },
     "execution_count": 38,
     "metadata": {},
     "output_type": "execute_result"
    },
    {
     "data": {
      "image/png": "[encoded data removed]",
      "text/plain": [
       "<Figure size 432x288 with 1 Axes>"
      ]
     },
     "metadata": {
      "needs_background": "light"
     },
     "output_type": "display_data"
    }
   ],
   "source": [
    "sns.histplot(x='TotalCharges',data=df,hue='Churn')"
   ]
  },
  {
   "cell_type": "markdown",
   "metadata": {},
   "source": [
    "Customers having lower total charges have more churn rate thatn other having more total charges"
   ]
  },
  {
   "cell_type": "code",
   "execution_count": 39,
   "metadata": {},
   "outputs": [
    {
     "data": {
      "text/html": [
       "<div>\n",
       "<style scoped>\n",
       "    .dataframe tbody tr th:only-of-type {\n",
       "        vertical-align: middle;\n",
       "    }\n",
       "\n",
       "    .dataframe tbody tr th {\n",
       "        vertical-align: top;\n",
       "    }\n",
       "\n",
       "    .dataframe thead th {\n",
       "        text-align: right;\n",
       "    }\n",
       "</style>\n",
       "<table border=\"1\" class=\"dataframe\">\n",
       "  <thead>\n",
       "    <tr style=\"text-align: right;\">\n",
       "      <th></th>\n",
       "      <th>gender</th>\n",
       "      <th>SeniorCitizen</th>\n",
       "      <th>Partner</th>\n",
       "      <th>Dependents</th>\n",
       "      <th>tenure</th>\n",
       "      <th>PhoneService</th>\n",
       "      <th>MultipleLines</th>\n",
       "      <th>InternetService</th>\n",
       "      <th>OnlineSecurity</th>\n",
       "      <th>OnlineBackup</th>\n",
       "      <th>DeviceProtection</th>\n",
       "      <th>TechSupport</th>\n",
       "      <th>StreamingTV</th>\n",
       "      <th>StreamingMovies</th>\n",
       "      <th>Contract</th>\n",
       "      <th>PaperlessBilling</th>\n",
       "      <th>PaymentMethod</th>\n",
       "      <th>MonthlyCharges</th>\n",
       "      <th>TotalCharges</th>\n",
       "      <th>Churn</th>\n",
       "    </tr>\n",
       "  </thead>\n",
       "  <tbody>\n",
       "    <tr>\n",
       "      <th>0</th>\n",
       "      <td>Female</td>\n",
       "      <td>0</td>\n",
       "      <td>Yes</td>\n",
       "      <td>No</td>\n",
       "      <td>1</td>\n",
       "      <td>No</td>\n",
       "      <td>No phone service</td>\n",
       "      <td>DSL</td>\n",
       "      <td>No</td>\n",
       "      <td>Yes</td>\n",
       "      <td>No</td>\n",
       "      <td>No</td>\n",
       "      <td>No</td>\n",
       "      <td>No</td>\n",
       "      <td>Month-to-month</td>\n",
       "      <td>Yes</td>\n",
       "      <td>Electronic check</td>\n",
       "      <td>29.85</td>\n",
       "      <td>29.85</td>\n",
       "      <td>No</td>\n",
       "    </tr>\n",
       "    <tr>\n",
       "      <th>1</th>\n",
       "      <td>Male</td>\n",
       "      <td>0</td>\n",
       "      <td>No</td>\n",
       "      <td>No</td>\n",
       "      <td>34</td>\n",
       "      <td>Yes</td>\n",
       "      <td>No</td>\n",
       "      <td>DSL</td>\n",
       "      <td>Yes</td>\n",
       "      <td>No</td>\n",
       "      <td>Yes</td>\n",
       "      <td>No</td>\n",
       "      <td>No</td>\n",
       "      <td>No</td>\n",
       "      <td>One year</td>\n",
       "      <td>No</td>\n",
       "      <td>Mailed check</td>\n",
       "      <td>56.95</td>\n",
       "      <td>1889.50</td>\n",
       "      <td>No</td>\n",
       "    </tr>\n",
       "    <tr>\n",
       "      <th>2</th>\n",
       "      <td>Male</td>\n",
       "      <td>0</td>\n",
       "      <td>No</td>\n",
       "      <td>No</td>\n",
       "      <td>2</td>\n",
       "      <td>Yes</td>\n",
       "      <td>No</td>\n",
       "      <td>DSL</td>\n",
       "      <td>Yes</td>\n",
       "      <td>Yes</td>\n",
       "      <td>No</td>\n",
       "      <td>No</td>\n",
       "      <td>No</td>\n",
       "      <td>No</td>\n",
       "      <td>Month-to-month</td>\n",
       "      <td>Yes</td>\n",
       "      <td>Mailed check</td>\n",
       "      <td>53.85</td>\n",
       "      <td>108.15</td>\n",
       "      <td>Yes</td>\n",
       "    </tr>\n",
       "    <tr>\n",
       "      <th>3</th>\n",
       "      <td>Male</td>\n",
       "      <td>0</td>\n",
       "      <td>No</td>\n",
       "      <td>No</td>\n",
       "      <td>45</td>\n",
       "      <td>No</td>\n",
       "      <td>No phone service</td>\n",
       "      <td>DSL</td>\n",
       "      <td>Yes</td>\n",
       "      <td>No</td>\n",
       "      <td>Yes</td>\n",
       "      <td>Yes</td>\n",
       "      <td>No</td>\n",
       "      <td>No</td>\n",
       "      <td>One year</td>\n",
       "      <td>No</td>\n",
       "      <td>Bank transfer (automatic)</td>\n",
       "      <td>42.30</td>\n",
       "      <td>1840.75</td>\n",
       "      <td>No</td>\n",
       "    </tr>\n",
       "    <tr>\n",
       "      <th>4</th>\n",
       "      <td>Female</td>\n",
       "      <td>0</td>\n",
       "      <td>No</td>\n",
       "      <td>No</td>\n",
       "      <td>2</td>\n",
       "      <td>Yes</td>\n",
       "      <td>No</td>\n",
       "      <td>Fiber optic</td>\n",
       "      <td>No</td>\n",
       "      <td>No</td>\n",
       "      <td>No</td>\n",
       "      <td>No</td>\n",
       "      <td>No</td>\n",
       "      <td>No</td>\n",
       "      <td>Month-to-month</td>\n",
       "      <td>Yes</td>\n",
       "      <td>Electronic check</td>\n",
       "      <td>70.70</td>\n",
       "      <td>151.65</td>\n",
       "      <td>Yes</td>\n",
       "    </tr>\n",
       "  </tbody>\n",
       "</table>\n",
       "</div>"
      ],
      "text/plain": [
       "   gender  SeniorCitizen Partner Dependents  tenure PhoneService  \\\n",
       "0  Female              0     Yes         No       1           No   \n",
       "1    Male              0      No         No      34          Yes   \n",
       "2    Male              0      No         No       2          Yes   \n",
       "3    Male              0      No         No      45           No   \n",
       "4  Female              0      No         No       2          Yes   \n",
       "\n",
       "      MultipleLines InternetService OnlineSecurity OnlineBackup  \\\n",
       "0  No phone service             DSL             No          Yes   \n",
       "1                No             DSL            Yes           No   \n",
       "2                No             DSL            Yes          Yes   \n",
       "3  No phone service             DSL            Yes           No   \n",
       "4                No     Fiber optic             No           No   \n",
       "\n",
       "  DeviceProtection TechSupport StreamingTV StreamingMovies        Contract  \\\n",
       "0               No          No          No              No  Month-to-month   \n",
       "1              Yes          No          No              No        One year   \n",
       "2               No          No          No              No  Month-to-month   \n",
       "3              Yes         Yes          No              No        One year   \n",
       "4               No          No          No              No  Month-to-month   \n",
       "\n",
       "  PaperlessBilling              PaymentMethod  MonthlyCharges  TotalCharges  \\\n",
       "0              Yes           Electronic check           29.85         29.85   \n",
       "1               No               Mailed check           56.95       1889.50   \n",
       "2              Yes               Mailed check           53.85        108.15   \n",
       "3               No  Bank transfer (automatic)           42.30       1840.75   \n",
       "4              Yes           Electronic check           70.70        151.65   \n",
       "\n",
       "  Churn  \n",
       "0    No  \n",
       "1    No  \n",
       "2   Yes  \n",
       "3    No  \n",
       "4   Yes  "
      ]
     },
     "execution_count": 39,
     "metadata": {},
     "output_type": "execute_result"
    }
   ],
   "source": [
    "df.head()"
   ]
  },
  {
   "cell_type": "code",
   "execution_count": 40,
   "metadata": {},
   "outputs": [],
   "source": [
    "df=pd.get_dummies(df)"
   ]
  },
  {
   "cell_type": "code",
   "execution_count": 41,
   "metadata": {},
   "outputs": [
    {
     "data": {
      "text/plain": [
       "Index(['SeniorCitizen', 'tenure', 'MonthlyCharges', 'TotalCharges',\n",
       "       'gender_Female', 'gender_Male', 'Partner_No', 'Partner_Yes',\n",
       "       'Dependents_No', 'Dependents_Yes', 'PhoneService_No',\n",
       "       'PhoneService_Yes', 'MultipleLines_No',\n",
       "       'MultipleLines_No phone service', 'MultipleLines_Yes',\n",
       "       'InternetService_DSL', 'InternetService_Fiber optic',\n",
       "       'InternetService_No', 'OnlineSecurity_No',\n",
       "       'OnlineSecurity_No internet service', 'OnlineSecurity_Yes',\n",
       "       'OnlineBackup_No', 'OnlineBackup_No internet service',\n",
       "       'OnlineBackup_Yes', 'DeviceProtection_No',\n",
       "       'DeviceProtection_No internet service', 'DeviceProtection_Yes',\n",
       "       'TechSupport_No', 'TechSupport_No internet service', 'TechSupport_Yes',\n",
       "       'StreamingTV_No', 'StreamingTV_No internet service', 'StreamingTV_Yes',\n",
       "       'StreamingMovies_No', 'StreamingMovies_No internet service',\n",
       "       'StreamingMovies_Yes', 'Contract_Month-to-month', 'Contract_One year',\n",
       "       'Contract_Two year', 'PaperlessBilling_No', 'PaperlessBilling_Yes',\n",
       "       'PaymentMethod_Bank transfer (automatic)',\n",
       "       'PaymentMethod_Credit card (automatic)',\n",
       "       'PaymentMethod_Electronic check', 'PaymentMethod_Mailed check',\n",
       "       'Churn_No', 'Churn_Yes'],\n",
       "      dtype='object')"
      ]
     },
     "execution_count": 41,
     "metadata": {},
     "output_type": "execute_result"
    }
   ],
   "source": [
    "df.columns"
   ]
  },
  {
   "cell_type": "code",
   "execution_count": 42,
   "metadata": {},
   "outputs": [
    {
     "data": {
      "text/html": [
       "<div>\n",
       "<style scoped>\n",
       "    .dataframe tbody tr th:only-of-type {\n",
       "        vertical-align: middle;\n",
       "    }\n",
       "\n",
       "    .dataframe tbody tr th {\n",
       "        vertical-align: top;\n",
       "    }\n",
       "\n",
       "    .dataframe thead th {\n",
       "        text-align: right;\n",
       "    }\n",
       "</style>\n",
       "<table border=\"1\" class=\"dataframe\">\n",
       "  <thead>\n",
       "    <tr style=\"text-align: right;\">\n",
       "      <th></th>\n",
       "      <th>SeniorCitizen</th>\n",
       "      <th>tenure</th>\n",
       "      <th>MonthlyCharges</th>\n",
       "      <th>TotalCharges</th>\n",
       "      <th>gender_Female</th>\n",
       "      <th>gender_Male</th>\n",
       "      <th>Partner_No</th>\n",
       "      <th>Partner_Yes</th>\n",
       "      <th>Dependents_No</th>\n",
       "      <th>Dependents_Yes</th>\n",
       "      <th>PhoneService_No</th>\n",
       "      <th>PhoneService_Yes</th>\n",
       "      <th>MultipleLines_No</th>\n",
       "      <th>MultipleLines_No phone service</th>\n",
       "      <th>MultipleLines_Yes</th>\n",
       "      <th>InternetService_DSL</th>\n",
       "      <th>InternetService_Fiber optic</th>\n",
       "      <th>InternetService_No</th>\n",
       "      <th>OnlineSecurity_No</th>\n",
       "      <th>OnlineSecurity_No internet service</th>\n",
       "      <th>OnlineSecurity_Yes</th>\n",
       "      <th>OnlineBackup_No</th>\n",
       "      <th>OnlineBackup_No internet service</th>\n",
       "      <th>OnlineBackup_Yes</th>\n",
       "      <th>DeviceProtection_No</th>\n",
       "      <th>DeviceProtection_No internet service</th>\n",
       "      <th>DeviceProtection_Yes</th>\n",
       "      <th>TechSupport_No</th>\n",
       "      <th>TechSupport_No internet service</th>\n",
       "      <th>TechSupport_Yes</th>\n",
       "      <th>StreamingTV_No</th>\n",
       "      <th>StreamingTV_No internet service</th>\n",
       "      <th>StreamingTV_Yes</th>\n",
       "      <th>StreamingMovies_No</th>\n",
       "      <th>StreamingMovies_No internet service</th>\n",
       "      <th>StreamingMovies_Yes</th>\n",
       "      <th>Contract_Month-to-month</th>\n",
       "      <th>Contract_One year</th>\n",
       "      <th>Contract_Two year</th>\n",
       "      <th>PaperlessBilling_No</th>\n",
       "      <th>PaperlessBilling_Yes</th>\n",
       "      <th>PaymentMethod_Bank transfer (automatic)</th>\n",
       "      <th>PaymentMethod_Credit card (automatic)</th>\n",
       "      <th>PaymentMethod_Electronic check</th>\n",
       "      <th>PaymentMethod_Mailed check</th>\n",
       "      <th>Churn_No</th>\n",
       "      <th>Churn_Yes</th>\n",
       "    </tr>\n",
       "  </thead>\n",
       "  <tbody>\n",
       "    <tr>\n",
       "      <th>0</th>\n",
       "      <td>0</td>\n",
       "      <td>1</td>\n",
       "      <td>29.85</td>\n",
       "      <td>29.85</td>\n",
       "      <td>1</td>\n",
       "      <td>0</td>\n",
       "      <td>0</td>\n",
       "      <td>1</td>\n",
       "      <td>1</td>\n",
       "      <td>0</td>\n",
       "      <td>1</td>\n",
       "      <td>0</td>\n",
       "      <td>0</td>\n",
       "      <td>1</td>\n",
       "      <td>0</td>\n",
       "      <td>1</td>\n",
       "      <td>0</td>\n",
       "      <td>0</td>\n",
       "      <td>1</td>\n",
       "      <td>0</td>\n",
       "      <td>0</td>\n",
       "      <td>0</td>\n",
       "      <td>0</td>\n",
       "      <td>1</td>\n",
       "      <td>1</td>\n",
       "      <td>0</td>\n",
       "      <td>0</td>\n",
       "      <td>1</td>\n",
       "      <td>0</td>\n",
       "      <td>0</td>\n",
       "      <td>1</td>\n",
       "      <td>0</td>\n",
       "      <td>0</td>\n",
       "      <td>1</td>\n",
       "      <td>0</td>\n",
       "      <td>0</td>\n",
       "      <td>1</td>\n",
       "      <td>0</td>\n",
       "      <td>0</td>\n",
       "      <td>0</td>\n",
       "      <td>1</td>\n",
       "      <td>0</td>\n",
       "      <td>0</td>\n",
       "      <td>1</td>\n",
       "      <td>0</td>\n",
       "      <td>1</td>\n",
       "      <td>0</td>\n",
       "    </tr>\n",
       "    <tr>\n",
       "      <th>1</th>\n",
       "      <td>0</td>\n",
       "      <td>34</td>\n",
       "      <td>56.95</td>\n",
       "      <td>1889.50</td>\n",
       "      <td>0</td>\n",
       "      <td>1</td>\n",
       "      <td>1</td>\n",
       "      <td>0</td>\n",
       "      <td>1</td>\n",
       "      <td>0</td>\n",
       "      <td>0</td>\n",
       "      <td>1</td>\n",
       "      <td>1</td>\n",
       "      <td>0</td>\n",
       "      <td>0</td>\n",
       "      <td>1</td>\n",
       "      <td>0</td>\n",
       "      <td>0</td>\n",
       "      <td>0</td>\n",
       "      <td>0</td>\n",
       "      <td>1</td>\n",
       "      <td>1</td>\n",
       "      <td>0</td>\n",
       "      <td>0</td>\n",
       "      <td>0</td>\n",
       "      <td>0</td>\n",
       "      <td>1</td>\n",
       "      <td>1</td>\n",
       "      <td>0</td>\n",
       "      <td>0</td>\n",
       "      <td>1</td>\n",
       "      <td>0</td>\n",
       "      <td>0</td>\n",
       "      <td>1</td>\n",
       "      <td>0</td>\n",
       "      <td>0</td>\n",
       "      <td>0</td>\n",
       "      <td>1</td>\n",
       "      <td>0</td>\n",
       "      <td>1</td>\n",
       "      <td>0</td>\n",
       "      <td>0</td>\n",
       "      <td>0</td>\n",
       "      <td>0</td>\n",
       "      <td>1</td>\n",
       "      <td>1</td>\n",
       "      <td>0</td>\n",
       "    </tr>\n",
       "    <tr>\n",
       "      <th>2</th>\n",
       "      <td>0</td>\n",
       "      <td>2</td>\n",
       "      <td>53.85</td>\n",
       "      <td>108.15</td>\n",
       "      <td>0</td>\n",
       "      <td>1</td>\n",
       "      <td>1</td>\n",
       "      <td>0</td>\n",
       "      <td>1</td>\n",
       "      <td>0</td>\n",
       "      <td>0</td>\n",
       "      <td>1</td>\n",
       "      <td>1</td>\n",
       "      <td>0</td>\n",
       "      <td>0</td>\n",
       "      <td>1</td>\n",
       "      <td>0</td>\n",
       "      <td>0</td>\n",
       "      <td>0</td>\n",
       "      <td>0</td>\n",
       "      <td>1</td>\n",
       "      <td>0</td>\n",
       "      <td>0</td>\n",
       "      <td>1</td>\n",
       "      <td>1</td>\n",
       "      <td>0</td>\n",
       "      <td>0</td>\n",
       "      <td>1</td>\n",
       "      <td>0</td>\n",
       "      <td>0</td>\n",
       "      <td>1</td>\n",
       "      <td>0</td>\n",
       "      <td>0</td>\n",
       "      <td>1</td>\n",
       "      <td>0</td>\n",
       "      <td>0</td>\n",
       "      <td>1</td>\n",
       "      <td>0</td>\n",
       "      <td>0</td>\n",
       "      <td>0</td>\n",
       "      <td>1</td>\n",
       "      <td>0</td>\n",
       "      <td>0</td>\n",
       "      <td>0</td>\n",
       "      <td>1</td>\n",
       "      <td>0</td>\n",
       "      <td>1</td>\n",
       "    </tr>\n",
       "    <tr>\n",
       "      <th>3</th>\n",
       "      <td>0</td>\n",
       "      <td>45</td>\n",
       "      <td>42.30</td>\n",
       "      <td>1840.75</td>\n",
       "      <td>0</td>\n",
       "      <td>1</td>\n",
       "      <td>1</td>\n",
       "      <td>0</td>\n",
       "      <td>1</td>\n",
       "      <td>0</td>\n",
       "      <td>1</td>\n",
       "      <td>0</td>\n",
       "      <td>0</td>\n",
       "      <td>1</td>\n",
       "      <td>0</td>\n",
       "      <td>1</td>\n",
       "      <td>0</td>\n",
       "      <td>0</td>\n",
       "      <td>0</td>\n",
       "      <td>0</td>\n",
       "      <td>1</td>\n",
       "      <td>1</td>\n",
       "      <td>0</td>\n",
       "      <td>0</td>\n",
       "      <td>0</td>\n",
       "      <td>0</td>\n",
       "      <td>1</td>\n",
       "      <td>0</td>\n",
       "      <td>0</td>\n",
       "      <td>1</td>\n",
       "      <td>1</td>\n",
       "      <td>0</td>\n",
       "      <td>0</td>\n",
       "      <td>1</td>\n",
       "      <td>0</td>\n",
       "      <td>0</td>\n",
       "      <td>0</td>\n",
       "      <td>1</td>\n",
       "      <td>0</td>\n",
       "      <td>1</td>\n",
       "      <td>0</td>\n",
       "      <td>1</td>\n",
       "      <td>0</td>\n",
       "      <td>0</td>\n",
       "      <td>0</td>\n",
       "      <td>1</td>\n",
       "      <td>0</td>\n",
       "    </tr>\n",
       "    <tr>\n",
       "      <th>4</th>\n",
       "      <td>0</td>\n",
       "      <td>2</td>\n",
       "      <td>70.70</td>\n",
       "      <td>151.65</td>\n",
       "      <td>1</td>\n",
       "      <td>0</td>\n",
       "      <td>1</td>\n",
       "      <td>0</td>\n",
       "      <td>1</td>\n",
       "      <td>0</td>\n",
       "      <td>0</td>\n",
       "      <td>1</td>\n",
       "      <td>1</td>\n",
       "      <td>0</td>\n",
       "      <td>0</td>\n",
       "      <td>0</td>\n",
       "      <td>1</td>\n",
       "      <td>0</td>\n",
       "      <td>1</td>\n",
       "      <td>0</td>\n",
       "      <td>0</td>\n",
       "      <td>1</td>\n",
       "      <td>0</td>\n",
       "      <td>0</td>\n",
       "      <td>1</td>\n",
       "      <td>0</td>\n",
       "      <td>0</td>\n",
       "      <td>1</td>\n",
       "      <td>0</td>\n",
       "      <td>0</td>\n",
       "      <td>1</td>\n",
       "      <td>0</td>\n",
       "      <td>0</td>\n",
       "      <td>1</td>\n",
       "      <td>0</td>\n",
       "      <td>0</td>\n",
       "      <td>1</td>\n",
       "      <td>0</td>\n",
       "      <td>0</td>\n",
       "      <td>0</td>\n",
       "      <td>1</td>\n",
       "      <td>0</td>\n",
       "      <td>0</td>\n",
       "      <td>1</td>\n",
       "      <td>0</td>\n",
       "      <td>0</td>\n",
       "      <td>1</td>\n",
       "    </tr>\n",
       "  </tbody>\n",
       "</table>\n",
       "</div>"
      ],
      "text/plain": [
       "   SeniorCitizen  tenure  MonthlyCharges  TotalCharges  gender_Female  \\\n",
       "0              0       1           29.85         29.85              1   \n",
       "1              0      34           56.95       1889.50              0   \n",
       "2              0       2           53.85        108.15              0   \n",
       "3              0      45           42.30       1840.75              0   \n",
       "4              0       2           70.70        151.65              1   \n",
       "\n",
       "   gender_Male  Partner_No  Partner_Yes  Dependents_No  Dependents_Yes  \\\n",
       "0            0           0            1              1               0   \n",
       "1            1           1            0              1               0   \n",
       "2            1           1            0              1               0   \n",
       "3            1           1            0              1               0   \n",
       "4            0           1            0              1               0   \n",
       "\n",
       "   PhoneService_No  PhoneService_Yes  MultipleLines_No  \\\n",
       "0                1                 0                 0   \n",
       "1                0                 1                 1   \n",
       "2                0                 1                 1   \n",
       "3                1                 0                 0   \n",
       "4                0                 1                 1   \n",
       "\n",
       "   MultipleLines_No phone service  MultipleLines_Yes  InternetService_DSL  \\\n",
       "0                               1                  0                    1   \n",
       "1                               0                  0                    1   \n",
       "2                               0                  0                    1   \n",
       "3                               1                  0                    1   \n",
       "4                               0                  0                    0   \n",
       "\n",
       "   InternetService_Fiber optic  InternetService_No  OnlineSecurity_No  \\\n",
       "0                            0                   0                  1   \n",
       "1                            0                   0                  0   \n",
       "2                            0                   0                  0   \n",
       "3                            0                   0                  0   \n",
       "4                            1                   0                  1   \n",
       "\n",
       "   OnlineSecurity_No internet service  OnlineSecurity_Yes  OnlineBackup_No  \\\n",
       "0                                   0                   0                0   \n",
       "1                                   0                   1                1   \n",
       "2                                   0                   1                0   \n",
       "3                                   0                   1                1   \n",
       "4                                   0                   0                1   \n",
       "\n",
       "   OnlineBackup_No internet service  OnlineBackup_Yes  DeviceProtection_No  \\\n",
       "0                                 0                 1                    1   \n",
       "1                                 0                 0                    0   \n",
       "2                                 0                 1                    1   \n",
       "3                                 0                 0                    0   \n",
       "4                                 0                 0                    1   \n",
       "\n",
       "   DeviceProtection_No internet service  DeviceProtection_Yes  TechSupport_No  \\\n",
       "0                                     0                     0               1   \n",
       "1                                     0                     1               1   \n",
       "2                                     0                     0               1   \n",
       "3                                     0                     1               0   \n",
       "4                                     0                     0               1   \n",
       "\n",
       "   TechSupport_No internet service  TechSupport_Yes  StreamingTV_No  \\\n",
       "0                                0                0               1   \n",
       "1                                0                0               1   \n",
       "2                                0                0               1   \n",
       "3                                0                1               1   \n",
       "4                                0                0               1   \n",
       "\n",
       "   StreamingTV_No internet service  StreamingTV_Yes  StreamingMovies_No  \\\n",
       "0                                0                0                   1   \n",
       "1                                0                0                   1   \n",
       "2                                0                0                   1   \n",
       "3                                0                0                   1   \n",
       "4                                0                0                   1   \n",
       "\n",
       "   StreamingMovies_No internet service  StreamingMovies_Yes  \\\n",
       "0                                    0                    0   \n",
       "1                                    0                    0   \n",
       "2                                    0                    0   \n",
       "3                                    0                    0   \n",
       "4                                    0                    0   \n",
       "\n",
       "   Contract_Month-to-month  Contract_One year  Contract_Two year  \\\n",
       "0                        1                  0                  0   \n",
       "1                        0                  1                  0   \n",
       "2                        1                  0                  0   \n",
       "3                        0                  1                  0   \n",
       "4                        1                  0                  0   \n",
       "\n",
       "   PaperlessBilling_No  PaperlessBilling_Yes  \\\n",
       "0                    0                     1   \n",
       "1                    1                     0   \n",
       "2                    0                     1   \n",
       "3                    1                     0   \n",
       "4                    0                     1   \n",
       "\n",
       "   PaymentMethod_Bank transfer (automatic)  \\\n",
       "0                                        0   \n",
       "1                                        0   \n",
       "2                                        0   \n",
       "3                                        1   \n",
       "4                                        0   \n",
       "\n",
       "   PaymentMethod_Credit card (automatic)  PaymentMethod_Electronic check  \\\n",
       "0                                      0                               1   \n",
       "1                                      0                               0   \n",
       "2                                      0                               0   \n",
       "3                                      0                               0   \n",
       "4                                      0                               1   \n",
       "\n",
       "   PaymentMethod_Mailed check  Churn_No  Churn_Yes  \n",
       "0                           0         1          0  \n",
       "1                           1         1          0  \n",
       "2                           1         0          1  \n",
       "3                           0         1          0  \n",
       "4                           0         0          1  "
      ]
     },
     "execution_count": 42,
     "metadata": {},
     "output_type": "execute_result"
    }
   ],
   "source": [
    "df.head()"
   ]
  },
  {
   "cell_type": "markdown",
   "metadata": {},
   "source": [
    "Some features above are duplicate and dummies so will drop them\n",
    "\n",
    "\n",
    "       'gender_Female', 'Partner_No',\n",
    "       'Dependents_No', 'PhoneService_No',\n",
    "        'MultipleLines_No','MultipleLines_No phone service',\n",
    "        'InternetService_No',\n",
    "        'OnlineSecurity_No','OnlineSecurity_No internet service',\n",
    "        'OnlineBackup_No', 'OnlineBackup_No internet service',\n",
    "        'DeviceProtection_No', 'DeviceProtection_No internet service', \n",
    "        'TechSupport_No', 'TechSupport_No internet service',\n",
    "        'StreamingTV_No', 'StreamingTV_No internet service',\n",
    "        'StreamingMovies_No', 'StreamingMovies_No internet service',\n",
    "        'Contract_Month-to-month',\n",
    "        'PaperlessBilling_No',\n",
    "        'PaymentMethod_Bank transfer (automatic)',\n",
    "        'Churn_No'"
   ]
  },
  {
   "cell_type": "code",
   "execution_count": 43,
   "metadata": {},
   "outputs": [],
   "source": [
    "df.drop([ 'gender_Female', 'Partner_No',\n",
    "       'Dependents_No', 'PhoneService_No',\n",
    "        'MultipleLines_No','MultipleLines_No phone service',\n",
    "        'InternetService_No',\n",
    "        'OnlineSecurity_No','OnlineSecurity_No internet service',\n",
    "        'OnlineBackup_No', 'OnlineBackup_No internet service',\n",
    "        'DeviceProtection_No', 'DeviceProtection_No internet service', \n",
    "        'TechSupport_No', 'TechSupport_No internet service',\n",
    "        'StreamingTV_No', 'StreamingTV_No internet service',\n",
    "        'StreamingMovies_No', 'StreamingMovies_No internet service',\n",
    "        'Contract_Month-to-month',\n",
    "        'PaperlessBilling_No',\n",
    "        'PaymentMethod_Bank transfer (automatic)',\n",
    "        'Churn_No'],axis=1,inplace=True)"
   ]
  },
  {
   "cell_type": "code",
   "execution_count": null,
   "metadata": {},
   "outputs": [],
   "source": []
  },
  {
   "cell_type": "code",
   "execution_count": 44,
   "metadata": {},
   "outputs": [
    {
     "data": {
      "text/html": [
       "<div>\n",
       "<style scoped>\n",
       "    .dataframe tbody tr th:only-of-type {\n",
       "        vertical-align: middle;\n",
       "    }\n",
       "\n",
       "    .dataframe tbody tr th {\n",
       "        vertical-align: top;\n",
       "    }\n",
       "\n",
       "    .dataframe thead th {\n",
       "        text-align: right;\n",
       "    }\n",
       "</style>\n",
       "<table border=\"1\" class=\"dataframe\">\n",
       "  <thead>\n",
       "    <tr style=\"text-align: right;\">\n",
       "      <th></th>\n",
       "      <th>SeniorCitizen</th>\n",
       "      <th>tenure</th>\n",
       "      <th>MonthlyCharges</th>\n",
       "      <th>TotalCharges</th>\n",
       "      <th>gender_Male</th>\n",
       "      <th>Partner_Yes</th>\n",
       "      <th>Dependents_Yes</th>\n",
       "      <th>PhoneService_Yes</th>\n",
       "      <th>MultipleLines_Yes</th>\n",
       "      <th>InternetService_DSL</th>\n",
       "      <th>InternetService_Fiber optic</th>\n",
       "      <th>OnlineSecurity_Yes</th>\n",
       "      <th>OnlineBackup_Yes</th>\n",
       "      <th>DeviceProtection_Yes</th>\n",
       "      <th>TechSupport_Yes</th>\n",
       "      <th>StreamingTV_Yes</th>\n",
       "      <th>StreamingMovies_Yes</th>\n",
       "      <th>Contract_One year</th>\n",
       "      <th>Contract_Two year</th>\n",
       "      <th>PaperlessBilling_Yes</th>\n",
       "      <th>PaymentMethod_Credit card (automatic)</th>\n",
       "      <th>PaymentMethod_Electronic check</th>\n",
       "      <th>PaymentMethod_Mailed check</th>\n",
       "      <th>Churn_Yes</th>\n",
       "    </tr>\n",
       "  </thead>\n",
       "  <tbody>\n",
       "    <tr>\n",
       "      <th>0</th>\n",
       "      <td>0</td>\n",
       "      <td>1</td>\n",
       "      <td>29.85</td>\n",
       "      <td>29.85</td>\n",
       "      <td>0</td>\n",
       "      <td>1</td>\n",
       "      <td>0</td>\n",
       "      <td>0</td>\n",
       "      <td>0</td>\n",
       "      <td>1</td>\n",
       "      <td>0</td>\n",
       "      <td>0</td>\n",
       "      <td>1</td>\n",
       "      <td>0</td>\n",
       "      <td>0</td>\n",
       "      <td>0</td>\n",
       "      <td>0</td>\n",
       "      <td>0</td>\n",
       "      <td>0</td>\n",
       "      <td>1</td>\n",
       "      <td>0</td>\n",
       "      <td>1</td>\n",
       "      <td>0</td>\n",
       "      <td>0</td>\n",
       "    </tr>\n",
       "    <tr>\n",
       "      <th>1</th>\n",
       "      <td>0</td>\n",
       "      <td>34</td>\n",
       "      <td>56.95</td>\n",
       "      <td>1889.50</td>\n",
       "      <td>1</td>\n",
       "      <td>0</td>\n",
       "      <td>0</td>\n",
       "      <td>1</td>\n",
       "      <td>0</td>\n",
       "      <td>1</td>\n",
       "      <td>0</td>\n",
       "      <td>1</td>\n",
       "      <td>0</td>\n",
       "      <td>1</td>\n",
       "      <td>0</td>\n",
       "      <td>0</td>\n",
       "      <td>0</td>\n",
       "      <td>1</td>\n",
       "      <td>0</td>\n",
       "      <td>0</td>\n",
       "      <td>0</td>\n",
       "      <td>0</td>\n",
       "      <td>1</td>\n",
       "      <td>0</td>\n",
       "    </tr>\n",
       "    <tr>\n",
       "      <th>2</th>\n",
       "      <td>0</td>\n",
       "      <td>2</td>\n",
       "      <td>53.85</td>\n",
       "      <td>108.15</td>\n",
       "      <td>1</td>\n",
       "      <td>0</td>\n",
       "      <td>0</td>\n",
       "      <td>1</td>\n",
       "      <td>0</td>\n",
       "      <td>1</td>\n",
       "      <td>0</td>\n",
       "      <td>1</td>\n",
       "      <td>1</td>\n",
       "      <td>0</td>\n",
       "      <td>0</td>\n",
       "      <td>0</td>\n",
       "      <td>0</td>\n",
       "      <td>0</td>\n",
       "      <td>0</td>\n",
       "      <td>1</td>\n",
       "      <td>0</td>\n",
       "      <td>0</td>\n",
       "      <td>1</td>\n",
       "      <td>1</td>\n",
       "    </tr>\n",
       "    <tr>\n",
       "      <th>3</th>\n",
       "      <td>0</td>\n",
       "      <td>45</td>\n",
       "      <td>42.30</td>\n",
       "      <td>1840.75</td>\n",
       "      <td>1</td>\n",
       "      <td>0</td>\n",
       "      <td>0</td>\n",
       "      <td>0</td>\n",
       "      <td>0</td>\n",
       "      <td>1</td>\n",
       "      <td>0</td>\n",
       "      <td>1</td>\n",
       "      <td>0</td>\n",
       "      <td>1</td>\n",
       "      <td>1</td>\n",
       "      <td>0</td>\n",
       "      <td>0</td>\n",
       "      <td>1</td>\n",
       "      <td>0</td>\n",
       "      <td>0</td>\n",
       "      <td>0</td>\n",
       "      <td>0</td>\n",
       "      <td>0</td>\n",
       "      <td>0</td>\n",
       "    </tr>\n",
       "    <tr>\n",
       "      <th>4</th>\n",
       "      <td>0</td>\n",
       "      <td>2</td>\n",
       "      <td>70.70</td>\n",
       "      <td>151.65</td>\n",
       "      <td>0</td>\n",
       "      <td>0</td>\n",
       "      <td>0</td>\n",
       "      <td>1</td>\n",
       "      <td>0</td>\n",
       "      <td>0</td>\n",
       "      <td>1</td>\n",
       "      <td>0</td>\n",
       "      <td>0</td>\n",
       "      <td>0</td>\n",
       "      <td>0</td>\n",
       "      <td>0</td>\n",
       "      <td>0</td>\n",
       "      <td>0</td>\n",
       "      <td>0</td>\n",
       "      <td>1</td>\n",
       "      <td>0</td>\n",
       "      <td>1</td>\n",
       "      <td>0</td>\n",
       "      <td>1</td>\n",
       "    </tr>\n",
       "  </tbody>\n",
       "</table>\n",
       "</div>"
      ],
      "text/plain": [
       "   SeniorCitizen  tenure  MonthlyCharges  TotalCharges  gender_Male  \\\n",
       "0              0       1           29.85         29.85            0   \n",
       "1              0      34           56.95       1889.50            1   \n",
       "2              0       2           53.85        108.15            1   \n",
       "3              0      45           42.30       1840.75            1   \n",
       "4              0       2           70.70        151.65            0   \n",
       "\n",
       "   Partner_Yes  Dependents_Yes  PhoneService_Yes  MultipleLines_Yes  \\\n",
       "0            1               0                 0                  0   \n",
       "1            0               0                 1                  0   \n",
       "2            0               0                 1                  0   \n",
       "3            0               0                 0                  0   \n",
       "4            0               0                 1                  0   \n",
       "\n",
       "   InternetService_DSL  InternetService_Fiber optic  OnlineSecurity_Yes  \\\n",
       "0                    1                            0                   0   \n",
       "1                    1                            0                   1   \n",
       "2                    1                            0                   1   \n",
       "3                    1                            0                   1   \n",
       "4                    0                            1                   0   \n",
       "\n",
       "   OnlineBackup_Yes  DeviceProtection_Yes  TechSupport_Yes  StreamingTV_Yes  \\\n",
       "0                 1                     0                0                0   \n",
       "1                 0                     1                0                0   \n",
       "2                 1                     0                0                0   \n",
       "3                 0                     1                1                0   \n",
       "4                 0                     0                0                0   \n",
       "\n",
       "   StreamingMovies_Yes  Contract_One year  Contract_Two year  \\\n",
       "0                    0                  0                  0   \n",
       "1                    0                  1                  0   \n",
       "2                    0                  0                  0   \n",
       "3                    0                  1                  0   \n",
       "4                    0                  0                  0   \n",
       "\n",
       "   PaperlessBilling_Yes  PaymentMethod_Credit card (automatic)  \\\n",
       "0                     1                                      0   \n",
       "1                     0                                      0   \n",
       "2                     1                                      0   \n",
       "3                     0                                      0   \n",
       "4                     1                                      0   \n",
       "\n",
       "   PaymentMethod_Electronic check  PaymentMethod_Mailed check  Churn_Yes  \n",
       "0                               1                           0          0  \n",
       "1                               0                           1          0  \n",
       "2                               0                           1          1  \n",
       "3                               0                           0          0  \n",
       "4                               1                           0          1  "
      ]
     },
     "execution_count": 44,
     "metadata": {},
     "output_type": "execute_result"
    }
   ],
   "source": [
    "df.head()"
   ]
  },
  {
   "cell_type": "code",
   "execution_count": 46,
   "metadata": {},
   "outputs": [
    {
     "data": {
      "text/html": [
       "<div>\n",
       "<style scoped>\n",
       "    .dataframe tbody tr th:only-of-type {\n",
       "        vertical-align: middle;\n",
       "    }\n",
       "\n",
       "    .dataframe tbody tr th {\n",
       "        vertical-align: top;\n",
       "    }\n",
       "\n",
       "    .dataframe thead th {\n",
       "        text-align: right;\n",
       "    }\n",
       "</style>\n",
       "<table border=\"1\" class=\"dataframe\">\n",
       "  <thead>\n",
       "    <tr style=\"text-align: right;\">\n",
       "      <th></th>\n",
       "      <th>SeniorCitizen</th>\n",
       "      <th>tenure</th>\n",
       "      <th>MonthlyCharges</th>\n",
       "      <th>TotalCharges</th>\n",
       "      <th>gender_Male</th>\n",
       "      <th>Partner_Yes</th>\n",
       "      <th>Dependents_Yes</th>\n",
       "      <th>PhoneService_Yes</th>\n",
       "      <th>MultipleLines_Yes</th>\n",
       "      <th>InternetService_DSL</th>\n",
       "      <th>InternetService_Fiber optic</th>\n",
       "      <th>OnlineSecurity_Yes</th>\n",
       "      <th>OnlineBackup_Yes</th>\n",
       "      <th>DeviceProtection_Yes</th>\n",
       "      <th>TechSupport_Yes</th>\n",
       "      <th>StreamingTV_Yes</th>\n",
       "      <th>StreamingMovies_Yes</th>\n",
       "      <th>Contract_One year</th>\n",
       "      <th>Contract_Two year</th>\n",
       "      <th>PaperlessBilling_Yes</th>\n",
       "      <th>PaymentMethod_Credit card (automatic)</th>\n",
       "      <th>PaymentMethod_Electronic check</th>\n",
       "      <th>PaymentMethod_Mailed check</th>\n",
       "      <th>Churn_Yes</th>\n",
       "    </tr>\n",
       "  </thead>\n",
       "  <tbody>\n",
       "    <tr>\n",
       "      <th>SeniorCitizen</th>\n",
       "      <td>1.000000</td>\n",
       "      <td>0.015683</td>\n",
       "      <td>0.219874</td>\n",
       "      <td>0.102411</td>\n",
       "      <td>-0.001819</td>\n",
       "      <td>0.016957</td>\n",
       "      <td>-0.210550</td>\n",
       "      <td>0.008392</td>\n",
       "      <td>0.142996</td>\n",
       "      <td>-0.108276</td>\n",
       "      <td>0.254923</td>\n",
       "      <td>-0.038576</td>\n",
       "      <td>0.066663</td>\n",
       "      <td>0.059514</td>\n",
       "      <td>-0.060577</td>\n",
       "      <td>0.105445</td>\n",
       "      <td>0.119842</td>\n",
       "      <td>-0.046491</td>\n",
       "      <td>-0.116205</td>\n",
       "      <td>0.156258</td>\n",
       "      <td>-0.024359</td>\n",
       "      <td>0.171322</td>\n",
       "      <td>-0.152987</td>\n",
       "      <td>0.150541</td>\n",
       "    </tr>\n",
       "    <tr>\n",
       "      <th>tenure</th>\n",
       "      <td>0.015683</td>\n",
       "      <td>1.000000</td>\n",
       "      <td>0.246862</td>\n",
       "      <td>0.825880</td>\n",
       "      <td>0.005285</td>\n",
       "      <td>0.381912</td>\n",
       "      <td>0.163386</td>\n",
       "      <td>0.007877</td>\n",
       "      <td>0.332399</td>\n",
       "      <td>0.013786</td>\n",
       "      <td>0.017930</td>\n",
       "      <td>0.328297</td>\n",
       "      <td>0.361138</td>\n",
       "      <td>0.361520</td>\n",
       "      <td>0.325288</td>\n",
       "      <td>0.280264</td>\n",
       "      <td>0.285402</td>\n",
       "      <td>0.202338</td>\n",
       "      <td>0.563801</td>\n",
       "      <td>0.004823</td>\n",
       "      <td>0.232800</td>\n",
       "      <td>-0.210197</td>\n",
       "      <td>-0.232181</td>\n",
       "      <td>-0.354049</td>\n",
       "    </tr>\n",
       "    <tr>\n",
       "      <th>MonthlyCharges</th>\n",
       "      <td>0.219874</td>\n",
       "      <td>0.246862</td>\n",
       "      <td>1.000000</td>\n",
       "      <td>0.651065</td>\n",
       "      <td>-0.013779</td>\n",
       "      <td>0.097825</td>\n",
       "      <td>-0.112343</td>\n",
       "      <td>0.248033</td>\n",
       "      <td>0.490912</td>\n",
       "      <td>-0.161368</td>\n",
       "      <td>0.787195</td>\n",
       "      <td>0.296447</td>\n",
       "      <td>0.441529</td>\n",
       "      <td>0.482607</td>\n",
       "      <td>0.338301</td>\n",
       "      <td>0.629668</td>\n",
       "      <td>0.627235</td>\n",
       "      <td>0.004810</td>\n",
       "      <td>-0.073256</td>\n",
       "      <td>0.351930</td>\n",
       "      <td>0.030055</td>\n",
       "      <td>0.271117</td>\n",
       "      <td>-0.376568</td>\n",
       "      <td>0.192858</td>\n",
       "    </tr>\n",
       "    <tr>\n",
       "      <th>TotalCharges</th>\n",
       "      <td>0.102411</td>\n",
       "      <td>0.825880</td>\n",
       "      <td>0.651065</td>\n",
       "      <td>1.000000</td>\n",
       "      <td>0.000048</td>\n",
       "      <td>0.319072</td>\n",
       "      <td>0.064653</td>\n",
       "      <td>0.113008</td>\n",
       "      <td>0.469042</td>\n",
       "      <td>-0.052190</td>\n",
       "      <td>0.360769</td>\n",
       "      <td>0.412619</td>\n",
       "      <td>0.510100</td>\n",
       "      <td>0.522881</td>\n",
       "      <td>0.432868</td>\n",
       "      <td>0.515709</td>\n",
       "      <td>0.519867</td>\n",
       "      <td>0.170569</td>\n",
       "      <td>0.358036</td>\n",
       "      <td>0.157830</td>\n",
       "      <td>0.182663</td>\n",
       "      <td>-0.060436</td>\n",
       "      <td>-0.294708</td>\n",
       "      <td>-0.199484</td>\n",
       "    </tr>\n",
       "    <tr>\n",
       "      <th>gender_Male</th>\n",
       "      <td>-0.001819</td>\n",
       "      <td>0.005285</td>\n",
       "      <td>-0.013779</td>\n",
       "      <td>0.000048</td>\n",
       "      <td>1.000000</td>\n",
       "      <td>-0.001379</td>\n",
       "      <td>0.010349</td>\n",
       "      <td>-0.007515</td>\n",
       "      <td>-0.008883</td>\n",
       "      <td>0.007584</td>\n",
       "      <td>-0.011189</td>\n",
       "      <td>-0.016328</td>\n",
       "      <td>-0.013093</td>\n",
       "      <td>-0.000807</td>\n",
       "      <td>-0.008507</td>\n",
       "      <td>-0.007124</td>\n",
       "      <td>-0.010105</td>\n",
       "      <td>0.007755</td>\n",
       "      <td>-0.003603</td>\n",
       "      <td>-0.011902</td>\n",
       "      <td>0.001632</td>\n",
       "      <td>0.000844</td>\n",
       "      <td>0.013199</td>\n",
       "      <td>-0.008545</td>\n",
       "    </tr>\n",
       "    <tr>\n",
       "      <th>Partner_Yes</th>\n",
       "      <td>0.016957</td>\n",
       "      <td>0.381912</td>\n",
       "      <td>0.097825</td>\n",
       "      <td>0.319072</td>\n",
       "      <td>-0.001379</td>\n",
       "      <td>1.000000</td>\n",
       "      <td>0.452269</td>\n",
       "      <td>0.018397</td>\n",
       "      <td>0.142561</td>\n",
       "      <td>-0.001043</td>\n",
       "      <td>0.001235</td>\n",
       "      <td>0.143346</td>\n",
       "      <td>0.141849</td>\n",
       "      <td>0.153556</td>\n",
       "      <td>0.120206</td>\n",
       "      <td>0.124483</td>\n",
       "      <td>0.118108</td>\n",
       "      <td>0.083067</td>\n",
       "      <td>0.247334</td>\n",
       "      <td>-0.013957</td>\n",
       "      <td>0.082327</td>\n",
       "      <td>-0.083207</td>\n",
       "      <td>-0.096948</td>\n",
       "      <td>-0.149982</td>\n",
       "    </tr>\n",
       "    <tr>\n",
       "      <th>Dependents_Yes</th>\n",
       "      <td>-0.210550</td>\n",
       "      <td>0.163386</td>\n",
       "      <td>-0.112343</td>\n",
       "      <td>0.064653</td>\n",
       "      <td>0.010349</td>\n",
       "      <td>0.452269</td>\n",
       "      <td>1.000000</td>\n",
       "      <td>-0.001078</td>\n",
       "      <td>-0.024307</td>\n",
       "      <td>0.051593</td>\n",
       "      <td>-0.164101</td>\n",
       "      <td>0.080786</td>\n",
       "      <td>0.023639</td>\n",
       "      <td>0.013900</td>\n",
       "      <td>0.063053</td>\n",
       "      <td>-0.016499</td>\n",
       "      <td>-0.038375</td>\n",
       "      <td>0.069222</td>\n",
       "      <td>0.201699</td>\n",
       "      <td>-0.110131</td>\n",
       "      <td>0.061134</td>\n",
       "      <td>-0.149274</td>\n",
       "      <td>0.056448</td>\n",
       "      <td>-0.163128</td>\n",
       "    </tr>\n",
       "    <tr>\n",
       "      <th>PhoneService_Yes</th>\n",
       "      <td>0.008392</td>\n",
       "      <td>0.007877</td>\n",
       "      <td>0.248033</td>\n",
       "      <td>0.113008</td>\n",
       "      <td>-0.007515</td>\n",
       "      <td>0.018397</td>\n",
       "      <td>-0.001078</td>\n",
       "      <td>1.000000</td>\n",
       "      <td>0.279530</td>\n",
       "      <td>-0.452255</td>\n",
       "      <td>0.290183</td>\n",
       "      <td>-0.091676</td>\n",
       "      <td>-0.052133</td>\n",
       "      <td>-0.070076</td>\n",
       "      <td>-0.095138</td>\n",
       "      <td>-0.021383</td>\n",
       "      <td>-0.033477</td>\n",
       "      <td>-0.003142</td>\n",
       "      <td>0.004442</td>\n",
       "      <td>0.016696</td>\n",
       "      <td>-0.006916</td>\n",
       "      <td>0.002747</td>\n",
       "      <td>-0.004463</td>\n",
       "      <td>0.011691</td>\n",
       "    </tr>\n",
       "    <tr>\n",
       "      <th>MultipleLines_Yes</th>\n",
       "      <td>0.142996</td>\n",
       "      <td>0.332399</td>\n",
       "      <td>0.490912</td>\n",
       "      <td>0.469042</td>\n",
       "      <td>-0.008883</td>\n",
       "      <td>0.142561</td>\n",
       "      <td>-0.024307</td>\n",
       "      <td>0.279530</td>\n",
       "      <td>1.000000</td>\n",
       "      <td>-0.200318</td>\n",
       "      <td>0.366420</td>\n",
       "      <td>0.098592</td>\n",
       "      <td>0.202228</td>\n",
       "      <td>0.201733</td>\n",
       "      <td>0.100421</td>\n",
       "      <td>0.257804</td>\n",
       "      <td>0.259194</td>\n",
       "      <td>-0.003594</td>\n",
       "      <td>0.106618</td>\n",
       "      <td>0.163746</td>\n",
       "      <td>0.060319</td>\n",
       "      <td>0.083583</td>\n",
       "      <td>-0.227672</td>\n",
       "      <td>0.040033</td>\n",
       "    </tr>\n",
       "    <tr>\n",
       "      <th>InternetService_DSL</th>\n",
       "      <td>-0.108276</td>\n",
       "      <td>0.013786</td>\n",
       "      <td>-0.161368</td>\n",
       "      <td>-0.052190</td>\n",
       "      <td>0.007584</td>\n",
       "      <td>-0.001043</td>\n",
       "      <td>0.051593</td>\n",
       "      <td>-0.452255</td>\n",
       "      <td>-0.200318</td>\n",
       "      <td>1.000000</td>\n",
       "      <td>-0.641636</td>\n",
       "      <td>0.320343</td>\n",
       "      <td>0.156765</td>\n",
       "      <td>0.145150</td>\n",
       "      <td>0.312183</td>\n",
       "      <td>0.014973</td>\n",
       "      <td>0.025623</td>\n",
       "      <td>0.047300</td>\n",
       "      <td>0.030924</td>\n",
       "      <td>-0.063390</td>\n",
       "      <td>0.051222</td>\n",
       "      <td>-0.104293</td>\n",
       "      <td>0.042754</td>\n",
       "      <td>-0.124141</td>\n",
       "    </tr>\n",
       "    <tr>\n",
       "      <th>InternetService_Fiber optic</th>\n",
       "      <td>0.254923</td>\n",
       "      <td>0.017930</td>\n",
       "      <td>0.787195</td>\n",
       "      <td>0.360769</td>\n",
       "      <td>-0.011189</td>\n",
       "      <td>0.001235</td>\n",
       "      <td>-0.164101</td>\n",
       "      <td>0.290183</td>\n",
       "      <td>0.366420</td>\n",
       "      <td>-0.641636</td>\n",
       "      <td>1.000000</td>\n",
       "      <td>-0.030506</td>\n",
       "      <td>0.165940</td>\n",
       "      <td>0.176356</td>\n",
       "      <td>-0.020299</td>\n",
       "      <td>0.329744</td>\n",
       "      <td>0.322457</td>\n",
       "      <td>-0.076809</td>\n",
       "      <td>-0.209965</td>\n",
       "      <td>0.326470</td>\n",
       "      <td>-0.050552</td>\n",
       "      <td>0.335763</td>\n",
       "      <td>-0.305984</td>\n",
       "      <td>0.307463</td>\n",
       "    </tr>\n",
       "    <tr>\n",
       "      <th>OnlineSecurity_Yes</th>\n",
       "      <td>-0.038576</td>\n",
       "      <td>0.328297</td>\n",
       "      <td>0.296447</td>\n",
       "      <td>0.412619</td>\n",
       "      <td>-0.016328</td>\n",
       "      <td>0.143346</td>\n",
       "      <td>0.080786</td>\n",
       "      <td>-0.091676</td>\n",
       "      <td>0.098592</td>\n",
       "      <td>0.320343</td>\n",
       "      <td>-0.030506</td>\n",
       "      <td>1.000000</td>\n",
       "      <td>0.283285</td>\n",
       "      <td>0.274875</td>\n",
       "      <td>0.354458</td>\n",
       "      <td>0.175514</td>\n",
       "      <td>0.187426</td>\n",
       "      <td>0.100658</td>\n",
       "      <td>0.191698</td>\n",
       "      <td>-0.004051</td>\n",
       "      <td>0.115473</td>\n",
       "      <td>-0.112295</td>\n",
       "      <td>-0.079918</td>\n",
       "      <td>-0.171270</td>\n",
       "    </tr>\n",
       "    <tr>\n",
       "      <th>OnlineBackup_Yes</th>\n",
       "      <td>0.066663</td>\n",
       "      <td>0.361138</td>\n",
       "      <td>0.441529</td>\n",
       "      <td>0.510100</td>\n",
       "      <td>-0.013093</td>\n",
       "      <td>0.141849</td>\n",
       "      <td>0.023639</td>\n",
       "      <td>-0.052133</td>\n",
       "      <td>0.202228</td>\n",
       "      <td>0.156765</td>\n",
       "      <td>0.165940</td>\n",
       "      <td>0.283285</td>\n",
       "      <td>1.000000</td>\n",
       "      <td>0.303058</td>\n",
       "      <td>0.293705</td>\n",
       "      <td>0.281601</td>\n",
       "      <td>0.274523</td>\n",
       "      <td>0.084113</td>\n",
       "      <td>0.111391</td>\n",
       "      <td>0.127056</td>\n",
       "      <td>0.090455</td>\n",
       "      <td>-0.000364</td>\n",
       "      <td>-0.174075</td>\n",
       "      <td>-0.082307</td>\n",
       "    </tr>\n",
       "    <tr>\n",
       "      <th>DeviceProtection_Yes</th>\n",
       "      <td>0.059514</td>\n",
       "      <td>0.361520</td>\n",
       "      <td>0.482607</td>\n",
       "      <td>0.522881</td>\n",
       "      <td>-0.000807</td>\n",
       "      <td>0.153556</td>\n",
       "      <td>0.013900</td>\n",
       "      <td>-0.070076</td>\n",
       "      <td>0.201733</td>\n",
       "      <td>0.145150</td>\n",
       "      <td>0.176356</td>\n",
       "      <td>0.274875</td>\n",
       "      <td>0.303058</td>\n",
       "      <td>1.000000</td>\n",
       "      <td>0.332850</td>\n",
       "      <td>0.389924</td>\n",
       "      <td>0.402309</td>\n",
       "      <td>0.102911</td>\n",
       "      <td>0.165248</td>\n",
       "      <td>0.104079</td>\n",
       "      <td>0.111252</td>\n",
       "      <td>-0.003308</td>\n",
       "      <td>-0.187325</td>\n",
       "      <td>-0.066193</td>\n",
       "    </tr>\n",
       "    <tr>\n",
       "      <th>TechSupport_Yes</th>\n",
       "      <td>-0.060577</td>\n",
       "      <td>0.325288</td>\n",
       "      <td>0.338301</td>\n",
       "      <td>0.432868</td>\n",
       "      <td>-0.008507</td>\n",
       "      <td>0.120206</td>\n",
       "      <td>0.063053</td>\n",
       "      <td>-0.095138</td>\n",
       "      <td>0.100421</td>\n",
       "      <td>0.312183</td>\n",
       "      <td>-0.020299</td>\n",
       "      <td>0.354458</td>\n",
       "      <td>0.293705</td>\n",
       "      <td>0.332850</td>\n",
       "      <td>1.000000</td>\n",
       "      <td>0.277549</td>\n",
       "      <td>0.280155</td>\n",
       "      <td>0.096258</td>\n",
       "      <td>0.240924</td>\n",
       "      <td>0.037536</td>\n",
       "      <td>0.117024</td>\n",
       "      <td>-0.114807</td>\n",
       "      <td>-0.084631</td>\n",
       "      <td>-0.164716</td>\n",
       "    </tr>\n",
       "    <tr>\n",
       "      <th>StreamingTV_Yes</th>\n",
       "      <td>0.105445</td>\n",
       "      <td>0.280264</td>\n",
       "      <td>0.629668</td>\n",
       "      <td>0.515709</td>\n",
       "      <td>-0.007124</td>\n",
       "      <td>0.124483</td>\n",
       "      <td>-0.016499</td>\n",
       "      <td>-0.021383</td>\n",
       "      <td>0.257804</td>\n",
       "      <td>0.014973</td>\n",
       "      <td>0.329744</td>\n",
       "      <td>0.175514</td>\n",
       "      <td>0.281601</td>\n",
       "      <td>0.389924</td>\n",
       "      <td>0.277549</td>\n",
       "      <td>1.000000</td>\n",
       "      <td>0.533380</td>\n",
       "      <td>0.061930</td>\n",
       "      <td>0.072124</td>\n",
       "      <td>0.224241</td>\n",
       "      <td>0.040010</td>\n",
       "      <td>0.144747</td>\n",
       "      <td>-0.247712</td>\n",
       "      <td>0.063254</td>\n",
       "    </tr>\n",
       "    <tr>\n",
       "      <th>StreamingMovies_Yes</th>\n",
       "      <td>0.119842</td>\n",
       "      <td>0.285402</td>\n",
       "      <td>0.627235</td>\n",
       "      <td>0.519867</td>\n",
       "      <td>-0.010105</td>\n",
       "      <td>0.118108</td>\n",
       "      <td>-0.038375</td>\n",
       "      <td>-0.033477</td>\n",
       "      <td>0.259194</td>\n",
       "      <td>0.025623</td>\n",
       "      <td>0.322457</td>\n",
       "      <td>0.187426</td>\n",
       "      <td>0.274523</td>\n",
       "      <td>0.402309</td>\n",
       "      <td>0.280155</td>\n",
       "      <td>0.533380</td>\n",
       "      <td>1.000000</td>\n",
       "      <td>0.064780</td>\n",
       "      <td>0.075603</td>\n",
       "      <td>0.211583</td>\n",
       "      <td>0.048398</td>\n",
       "      <td>0.137420</td>\n",
       "      <td>-0.250290</td>\n",
       "      <td>0.060860</td>\n",
       "    </tr>\n",
       "    <tr>\n",
       "      <th>Contract_One year</th>\n",
       "      <td>-0.046491</td>\n",
       "      <td>0.202338</td>\n",
       "      <td>0.004810</td>\n",
       "      <td>0.170569</td>\n",
       "      <td>0.007755</td>\n",
       "      <td>0.083067</td>\n",
       "      <td>0.069222</td>\n",
       "      <td>-0.003142</td>\n",
       "      <td>-0.003594</td>\n",
       "      <td>0.047300</td>\n",
       "      <td>-0.076809</td>\n",
       "      <td>0.100658</td>\n",
       "      <td>0.084113</td>\n",
       "      <td>0.102911</td>\n",
       "      <td>0.096258</td>\n",
       "      <td>0.061930</td>\n",
       "      <td>0.064780</td>\n",
       "      <td>1.000000</td>\n",
       "      <td>-0.288843</td>\n",
       "      <td>-0.052278</td>\n",
       "      <td>0.067590</td>\n",
       "      <td>-0.109546</td>\n",
       "      <td>0.000197</td>\n",
       "      <td>-0.178225</td>\n",
       "    </tr>\n",
       "    <tr>\n",
       "      <th>Contract_Two year</th>\n",
       "      <td>-0.116205</td>\n",
       "      <td>0.563801</td>\n",
       "      <td>-0.073256</td>\n",
       "      <td>0.358036</td>\n",
       "      <td>-0.003603</td>\n",
       "      <td>0.247334</td>\n",
       "      <td>0.201699</td>\n",
       "      <td>0.004442</td>\n",
       "      <td>0.106618</td>\n",
       "      <td>0.030924</td>\n",
       "      <td>-0.209965</td>\n",
       "      <td>0.191698</td>\n",
       "      <td>0.111391</td>\n",
       "      <td>0.165248</td>\n",
       "      <td>0.240924</td>\n",
       "      <td>0.072124</td>\n",
       "      <td>0.075603</td>\n",
       "      <td>-0.288843</td>\n",
       "      <td>1.000000</td>\n",
       "      <td>-0.146281</td>\n",
       "      <td>0.174410</td>\n",
       "      <td>-0.281147</td>\n",
       "      <td>-0.007423</td>\n",
       "      <td>-0.301552</td>\n",
       "    </tr>\n",
       "    <tr>\n",
       "      <th>PaperlessBilling_Yes</th>\n",
       "      <td>0.156258</td>\n",
       "      <td>0.004823</td>\n",
       "      <td>0.351930</td>\n",
       "      <td>0.157830</td>\n",
       "      <td>-0.011902</td>\n",
       "      <td>-0.013957</td>\n",
       "      <td>-0.110131</td>\n",
       "      <td>0.016696</td>\n",
       "      <td>0.163746</td>\n",
       "      <td>-0.063390</td>\n",
       "      <td>0.326470</td>\n",
       "      <td>-0.004051</td>\n",
       "      <td>0.127056</td>\n",
       "      <td>0.104079</td>\n",
       "      <td>0.037536</td>\n",
       "      <td>0.224241</td>\n",
       "      <td>0.211583</td>\n",
       "      <td>-0.052278</td>\n",
       "      <td>-0.146281</td>\n",
       "      <td>1.000000</td>\n",
       "      <td>-0.013726</td>\n",
       "      <td>0.208427</td>\n",
       "      <td>-0.203981</td>\n",
       "      <td>0.191454</td>\n",
       "    </tr>\n",
       "    <tr>\n",
       "      <th>PaymentMethod_Credit card (automatic)</th>\n",
       "      <td>-0.024359</td>\n",
       "      <td>0.232800</td>\n",
       "      <td>0.030055</td>\n",
       "      <td>0.182663</td>\n",
       "      <td>0.001632</td>\n",
       "      <td>0.082327</td>\n",
       "      <td>0.061134</td>\n",
       "      <td>-0.006916</td>\n",
       "      <td>0.060319</td>\n",
       "      <td>0.051222</td>\n",
       "      <td>-0.050552</td>\n",
       "      <td>0.115473</td>\n",
       "      <td>0.090455</td>\n",
       "      <td>0.111252</td>\n",
       "      <td>0.117024</td>\n",
       "      <td>0.040010</td>\n",
       "      <td>0.048398</td>\n",
       "      <td>0.067590</td>\n",
       "      <td>0.174410</td>\n",
       "      <td>-0.013726</td>\n",
       "      <td>1.000000</td>\n",
       "      <td>-0.373978</td>\n",
       "      <td>-0.285583</td>\n",
       "      <td>-0.134687</td>\n",
       "    </tr>\n",
       "    <tr>\n",
       "      <th>PaymentMethod_Electronic check</th>\n",
       "      <td>0.171322</td>\n",
       "      <td>-0.210197</td>\n",
       "      <td>0.271117</td>\n",
       "      <td>-0.060436</td>\n",
       "      <td>0.000844</td>\n",
       "      <td>-0.083207</td>\n",
       "      <td>-0.149274</td>\n",
       "      <td>0.002747</td>\n",
       "      <td>0.083583</td>\n",
       "      <td>-0.104293</td>\n",
       "      <td>0.335763</td>\n",
       "      <td>-0.112295</td>\n",
       "      <td>-0.000364</td>\n",
       "      <td>-0.003308</td>\n",
       "      <td>-0.114807</td>\n",
       "      <td>0.144747</td>\n",
       "      <td>0.137420</td>\n",
       "      <td>-0.109546</td>\n",
       "      <td>-0.281147</td>\n",
       "      <td>0.208427</td>\n",
       "      <td>-0.373978</td>\n",
       "      <td>1.000000</td>\n",
       "      <td>-0.386971</td>\n",
       "      <td>0.301455</td>\n",
       "    </tr>\n",
       "    <tr>\n",
       "      <th>PaymentMethod_Mailed check</th>\n",
       "      <td>-0.152987</td>\n",
       "      <td>-0.232181</td>\n",
       "      <td>-0.376568</td>\n",
       "      <td>-0.294708</td>\n",
       "      <td>0.013199</td>\n",
       "      <td>-0.096948</td>\n",
       "      <td>0.056448</td>\n",
       "      <td>-0.004463</td>\n",
       "      <td>-0.227672</td>\n",
       "      <td>0.042754</td>\n",
       "      <td>-0.305984</td>\n",
       "      <td>-0.079918</td>\n",
       "      <td>-0.174075</td>\n",
       "      <td>-0.187325</td>\n",
       "      <td>-0.084631</td>\n",
       "      <td>-0.247712</td>\n",
       "      <td>-0.250290</td>\n",
       "      <td>0.000197</td>\n",
       "      <td>-0.007423</td>\n",
       "      <td>-0.203981</td>\n",
       "      <td>-0.285583</td>\n",
       "      <td>-0.386971</td>\n",
       "      <td>1.000000</td>\n",
       "      <td>-0.090773</td>\n",
       "    </tr>\n",
       "    <tr>\n",
       "      <th>Churn_Yes</th>\n",
       "      <td>0.150541</td>\n",
       "      <td>-0.354049</td>\n",
       "      <td>0.192858</td>\n",
       "      <td>-0.199484</td>\n",
       "      <td>-0.008545</td>\n",
       "      <td>-0.149982</td>\n",
       "      <td>-0.163128</td>\n",
       "      <td>0.011691</td>\n",
       "      <td>0.040033</td>\n",
       "      <td>-0.124141</td>\n",
       "      <td>0.307463</td>\n",
       "      <td>-0.171270</td>\n",
       "      <td>-0.082307</td>\n",
       "      <td>-0.066193</td>\n",
       "      <td>-0.164716</td>\n",
       "      <td>0.063254</td>\n",
       "      <td>0.060860</td>\n",
       "      <td>-0.178225</td>\n",
       "      <td>-0.301552</td>\n",
       "      <td>0.191454</td>\n",
       "      <td>-0.134687</td>\n",
       "      <td>0.301455</td>\n",
       "      <td>-0.090773</td>\n",
       "      <td>1.000000</td>\n",
       "    </tr>\n",
       "  </tbody>\n",
       "</table>\n",
       "</div>"
      ],
      "text/plain": [
       "                                       SeniorCitizen    tenure  \\\n",
       "SeniorCitizen                               1.000000  0.015683   \n",
       "tenure                                      0.015683  1.000000   \n",
       "MonthlyCharges                              0.219874  0.246862   \n",
       "TotalCharges                                0.102411  0.825880   \n",
       "gender_Male                                -0.001819  0.005285   \n",
       "Partner_Yes                                 0.016957  0.381912   \n",
       "Dependents_Yes                             -0.210550  0.163386   \n",
       "PhoneService_Yes                            0.008392  0.007877   \n",
       "MultipleLines_Yes                           0.142996  0.332399   \n",
       "InternetService_DSL                        -0.108276  0.013786   \n",
       "InternetService_Fiber optic                 0.254923  0.017930   \n",
       "OnlineSecurity_Yes                         -0.038576  0.328297   \n",
       "OnlineBackup_Yes                            0.066663  0.361138   \n",
       "DeviceProtection_Yes                        0.059514  0.361520   \n",
       "TechSupport_Yes                            -0.060577  0.325288   \n",
       "StreamingTV_Yes                             0.105445  0.280264   \n",
       "StreamingMovies_Yes                         0.119842  0.285402   \n",
       "Contract_One year                          -0.046491  0.202338   \n",
       "Contract_Two year                          -0.116205  0.563801   \n",
       "PaperlessBilling_Yes                        0.156258  0.004823   \n",
       "PaymentMethod_Credit card (automatic)      -0.024359  0.232800   \n",
       "PaymentMethod_Electronic check              0.171322 -0.210197   \n",
       "PaymentMethod_Mailed check                 -0.152987 -0.232181   \n",
       "Churn_Yes                                   0.150541 -0.354049   \n",
       "\n",
       "                                       MonthlyCharges  TotalCharges  \\\n",
       "SeniorCitizen                                0.219874      0.102411   \n",
       "tenure                                       0.246862      0.825880   \n",
       "MonthlyCharges                               1.000000      0.651065   \n",
       "TotalCharges                                 0.651065      1.000000   \n",
       "gender_Male                                 -0.013779      0.000048   \n",
       "Partner_Yes                                  0.097825      0.319072   \n",
       "Dependents_Yes                              -0.112343      0.064653   \n",
       "PhoneService_Yes                             0.248033      0.113008   \n",
       "MultipleLines_Yes                            0.490912      0.469042   \n",
       "InternetService_DSL                         -0.161368     -0.052190   \n",
       "InternetService_Fiber optic                  0.787195      0.360769   \n",
       "OnlineSecurity_Yes                           0.296447      0.412619   \n",
       "OnlineBackup_Yes                             0.441529      0.510100   \n",
       "DeviceProtection_Yes                         0.482607      0.522881   \n",
       "TechSupport_Yes                              0.338301      0.432868   \n",
       "StreamingTV_Yes                              0.629668      0.515709   \n",
       "StreamingMovies_Yes                          0.627235      0.519867   \n",
       "Contract_One year                            0.004810      0.170569   \n",
       "Contract_Two year                           -0.073256      0.358036   \n",
       "PaperlessBilling_Yes                         0.351930      0.157830   \n",
       "PaymentMethod_Credit card (automatic)        0.030055      0.182663   \n",
       "PaymentMethod_Electronic check               0.271117     -0.060436   \n",
       "PaymentMethod_Mailed check                  -0.376568     -0.294708   \n",
       "Churn_Yes                                    0.192858     -0.199484   \n",
       "\n",
       "                                       gender_Male  Partner_Yes  \\\n",
       "SeniorCitizen                            -0.001819     0.016957   \n",
       "tenure                                    0.005285     0.381912   \n",
       "MonthlyCharges                           -0.013779     0.097825   \n",
       "TotalCharges                              0.000048     0.319072   \n",
       "gender_Male                               1.000000    -0.001379   \n",
       "Partner_Yes                              -0.001379     1.000000   \n",
       "Dependents_Yes                            0.010349     0.452269   \n",
       "PhoneService_Yes                         -0.007515     0.018397   \n",
       "MultipleLines_Yes                        -0.008883     0.142561   \n",
       "InternetService_DSL                       0.007584    -0.001043   \n",
       "InternetService_Fiber optic              -0.011189     0.001235   \n",
       "OnlineSecurity_Yes                       -0.016328     0.143346   \n",
       "OnlineBackup_Yes                         -0.013093     0.141849   \n",
       "DeviceProtection_Yes                     -0.000807     0.153556   \n",
       "TechSupport_Yes                          -0.008507     0.120206   \n",
       "StreamingTV_Yes                          -0.007124     0.124483   \n",
       "StreamingMovies_Yes                      -0.010105     0.118108   \n",
       "Contract_One year                         0.007755     0.083067   \n",
       "Contract_Two year                        -0.003603     0.247334   \n",
       "PaperlessBilling_Yes                     -0.011902    -0.013957   \n",
       "PaymentMethod_Credit card (automatic)     0.001632     0.082327   \n",
       "PaymentMethod_Electronic check            0.000844    -0.083207   \n",
       "PaymentMethod_Mailed check                0.013199    -0.096948   \n",
       "Churn_Yes                                -0.008545    -0.149982   \n",
       "\n",
       "                                       Dependents_Yes  PhoneService_Yes  \\\n",
       "SeniorCitizen                               -0.210550          0.008392   \n",
       "tenure                                       0.163386          0.007877   \n",
       "MonthlyCharges                              -0.112343          0.248033   \n",
       "TotalCharges                                 0.064653          0.113008   \n",
       "gender_Male                                  0.010349         -0.007515   \n",
       "Partner_Yes                                  0.452269          0.018397   \n",
       "Dependents_Yes                               1.000000         -0.001078   \n",
       "PhoneService_Yes                            -0.001078          1.000000   \n",
       "MultipleLines_Yes                           -0.024307          0.279530   \n",
       "InternetService_DSL                          0.051593         -0.452255   \n",
       "InternetService_Fiber optic                 -0.164101          0.290183   \n",
       "OnlineSecurity_Yes                           0.080786         -0.091676   \n",
       "OnlineBackup_Yes                             0.023639         -0.052133   \n",
       "DeviceProtection_Yes                         0.013900         -0.070076   \n",
       "TechSupport_Yes                              0.063053         -0.095138   \n",
       "StreamingTV_Yes                             -0.016499         -0.021383   \n",
       "StreamingMovies_Yes                         -0.038375         -0.033477   \n",
       "Contract_One year                            0.069222         -0.003142   \n",
       "Contract_Two year                            0.201699          0.004442   \n",
       "PaperlessBilling_Yes                        -0.110131          0.016696   \n",
       "PaymentMethod_Credit card (automatic)        0.061134         -0.006916   \n",
       "PaymentMethod_Electronic check              -0.149274          0.002747   \n",
       "PaymentMethod_Mailed check                   0.056448         -0.004463   \n",
       "Churn_Yes                                   -0.163128          0.011691   \n",
       "\n",
       "                                       MultipleLines_Yes  InternetService_DSL  \\\n",
       "SeniorCitizen                                   0.142996            -0.108276   \n",
       "tenure                                          0.332399             0.013786   \n",
       "MonthlyCharges                                  0.490912            -0.161368   \n",
       "TotalCharges                                    0.469042            -0.052190   \n",
       "gender_Male                                    -0.008883             0.007584   \n",
       "Partner_Yes                                     0.142561            -0.001043   \n",
       "Dependents_Yes                                 -0.024307             0.051593   \n",
       "PhoneService_Yes                                0.279530            -0.452255   \n",
       "MultipleLines_Yes                               1.000000            -0.200318   \n",
       "InternetService_DSL                            -0.200318             1.000000   \n",
       "InternetService_Fiber optic                     0.366420            -0.641636   \n",
       "OnlineSecurity_Yes                              0.098592             0.320343   \n",
       "OnlineBackup_Yes                                0.202228             0.156765   \n",
       "DeviceProtection_Yes                            0.201733             0.145150   \n",
       "TechSupport_Yes                                 0.100421             0.312183   \n",
       "StreamingTV_Yes                                 0.257804             0.014973   \n",
       "StreamingMovies_Yes                             0.259194             0.025623   \n",
       "Contract_One year                              -0.003594             0.047300   \n",
       "Contract_Two year                               0.106618             0.030924   \n",
       "PaperlessBilling_Yes                            0.163746            -0.063390   \n",
       "PaymentMethod_Credit card (automatic)           0.060319             0.051222   \n",
       "PaymentMethod_Electronic check                  0.083583            -0.104293   \n",
       "PaymentMethod_Mailed check                     -0.227672             0.042754   \n",
       "Churn_Yes                                       0.040033            -0.124141   \n",
       "\n",
       "                                       InternetService_Fiber optic  \\\n",
       "SeniorCitizen                                             0.254923   \n",
       "tenure                                                    0.017930   \n",
       "MonthlyCharges                                            0.787195   \n",
       "TotalCharges                                              0.360769   \n",
       "gender_Male                                              -0.011189   \n",
       "Partner_Yes                                               0.001235   \n",
       "Dependents_Yes                                           -0.164101   \n",
       "PhoneService_Yes                                          0.290183   \n",
       "MultipleLines_Yes                                         0.366420   \n",
       "InternetService_DSL                                      -0.641636   \n",
       "InternetService_Fiber optic                               1.000000   \n",
       "OnlineSecurity_Yes                                       -0.030506   \n",
       "OnlineBackup_Yes                                          0.165940   \n",
       "DeviceProtection_Yes                                      0.176356   \n",
       "TechSupport_Yes                                          -0.020299   \n",
       "StreamingTV_Yes                                           0.329744   \n",
       "StreamingMovies_Yes                                       0.322457   \n",
       "Contract_One year                                        -0.076809   \n",
       "Contract_Two year                                        -0.209965   \n",
       "PaperlessBilling_Yes                                      0.326470   \n",
       "PaymentMethod_Credit card (automatic)                    -0.050552   \n",
       "PaymentMethod_Electronic check                            0.335763   \n",
       "PaymentMethod_Mailed check                               -0.305984   \n",
       "Churn_Yes                                                 0.307463   \n",
       "\n",
       "                                       OnlineSecurity_Yes  OnlineBackup_Yes  \\\n",
       "SeniorCitizen                                   -0.038576          0.066663   \n",
       "tenure                                           0.328297          0.361138   \n",
       "MonthlyCharges                                   0.296447          0.441529   \n",
       "TotalCharges                                     0.412619          0.510100   \n",
       "gender_Male                                     -0.016328         -0.013093   \n",
       "Partner_Yes                                      0.143346          0.141849   \n",
       "Dependents_Yes                                   0.080786          0.023639   \n",
       "PhoneService_Yes                                -0.091676         -0.052133   \n",
       "MultipleLines_Yes                                0.098592          0.202228   \n",
       "InternetService_DSL                              0.320343          0.156765   \n",
       "InternetService_Fiber optic                     -0.030506          0.165940   \n",
       "OnlineSecurity_Yes                               1.000000          0.283285   \n",
       "OnlineBackup_Yes                                 0.283285          1.000000   \n",
       "DeviceProtection_Yes                             0.274875          0.303058   \n",
       "TechSupport_Yes                                  0.354458          0.293705   \n",
       "StreamingTV_Yes                                  0.175514          0.281601   \n",
       "StreamingMovies_Yes                              0.187426          0.274523   \n",
       "Contract_One year                                0.100658          0.084113   \n",
       "Contract_Two year                                0.191698          0.111391   \n",
       "PaperlessBilling_Yes                            -0.004051          0.127056   \n",
       "PaymentMethod_Credit card (automatic)            0.115473          0.090455   \n",
       "PaymentMethod_Electronic check                  -0.112295         -0.000364   \n",
       "PaymentMethod_Mailed check                      -0.079918         -0.174075   \n",
       "Churn_Yes                                       -0.171270         -0.082307   \n",
       "\n",
       "                                       DeviceProtection_Yes  TechSupport_Yes  \\\n",
       "SeniorCitizen                                      0.059514        -0.060577   \n",
       "tenure                                             0.361520         0.325288   \n",
       "MonthlyCharges                                     0.482607         0.338301   \n",
       "TotalCharges                                       0.522881         0.432868   \n",
       "gender_Male                                       -0.000807        -0.008507   \n",
       "Partner_Yes                                        0.153556         0.120206   \n",
       "Dependents_Yes                                     0.013900         0.063053   \n",
       "PhoneService_Yes                                  -0.070076        -0.095138   \n",
       "MultipleLines_Yes                                  0.201733         0.100421   \n",
       "InternetService_DSL                                0.145150         0.312183   \n",
       "InternetService_Fiber optic                        0.176356        -0.020299   \n",
       "OnlineSecurity_Yes                                 0.274875         0.354458   \n",
       "OnlineBackup_Yes                                   0.303058         0.293705   \n",
       "DeviceProtection_Yes                               1.000000         0.332850   \n",
       "TechSupport_Yes                                    0.332850         1.000000   \n",
       "StreamingTV_Yes                                    0.389924         0.277549   \n",
       "StreamingMovies_Yes                                0.402309         0.280155   \n",
       "Contract_One year                                  0.102911         0.096258   \n",
       "Contract_Two year                                  0.165248         0.240924   \n",
       "PaperlessBilling_Yes                               0.104079         0.037536   \n",
       "PaymentMethod_Credit card (automatic)              0.111252         0.117024   \n",
       "PaymentMethod_Electronic check                    -0.003308        -0.114807   \n",
       "PaymentMethod_Mailed check                        -0.187325        -0.084631   \n",
       "Churn_Yes                                         -0.066193        -0.164716   \n",
       "\n",
       "                                       StreamingTV_Yes  StreamingMovies_Yes  \\\n",
       "SeniorCitizen                                 0.105445             0.119842   \n",
       "tenure                                        0.280264             0.285402   \n",
       "MonthlyCharges                                0.629668             0.627235   \n",
       "TotalCharges                                  0.515709             0.519867   \n",
       "gender_Male                                  -0.007124            -0.010105   \n",
       "Partner_Yes                                   0.124483             0.118108   \n",
       "Dependents_Yes                               -0.016499            -0.038375   \n",
       "PhoneService_Yes                             -0.021383            -0.033477   \n",
       "MultipleLines_Yes                             0.257804             0.259194   \n",
       "InternetService_DSL                           0.014973             0.025623   \n",
       "InternetService_Fiber optic                   0.329744             0.322457   \n",
       "OnlineSecurity_Yes                            0.175514             0.187426   \n",
       "OnlineBackup_Yes                              0.281601             0.274523   \n",
       "DeviceProtection_Yes                          0.389924             0.402309   \n",
       "TechSupport_Yes                               0.277549             0.280155   \n",
       "StreamingTV_Yes                               1.000000             0.533380   \n",
       "StreamingMovies_Yes                           0.533380             1.000000   \n",
       "Contract_One year                             0.061930             0.064780   \n",
       "Contract_Two year                             0.072124             0.075603   \n",
       "PaperlessBilling_Yes                          0.224241             0.211583   \n",
       "PaymentMethod_Credit card (automatic)         0.040010             0.048398   \n",
       "PaymentMethod_Electronic check                0.144747             0.137420   \n",
       "PaymentMethod_Mailed check                   -0.247712            -0.250290   \n",
       "Churn_Yes                                     0.063254             0.060860   \n",
       "\n",
       "                                       Contract_One year  Contract_Two year  \\\n",
       "SeniorCitizen                                  -0.046491          -0.116205   \n",
       "tenure                                          0.202338           0.563801   \n",
       "MonthlyCharges                                  0.004810          -0.073256   \n",
       "TotalCharges                                    0.170569           0.358036   \n",
       "gender_Male                                     0.007755          -0.003603   \n",
       "Partner_Yes                                     0.083067           0.247334   \n",
       "Dependents_Yes                                  0.069222           0.201699   \n",
       "PhoneService_Yes                               -0.003142           0.004442   \n",
       "MultipleLines_Yes                              -0.003594           0.106618   \n",
       "InternetService_DSL                             0.047300           0.030924   \n",
       "InternetService_Fiber optic                    -0.076809          -0.209965   \n",
       "OnlineSecurity_Yes                              0.100658           0.191698   \n",
       "OnlineBackup_Yes                                0.084113           0.111391   \n",
       "DeviceProtection_Yes                            0.102911           0.165248   \n",
       "TechSupport_Yes                                 0.096258           0.240924   \n",
       "StreamingTV_Yes                                 0.061930           0.072124   \n",
       "StreamingMovies_Yes                             0.064780           0.075603   \n",
       "Contract_One year                               1.000000          -0.288843   \n",
       "Contract_Two year                              -0.288843           1.000000   \n",
       "PaperlessBilling_Yes                           -0.052278          -0.146281   \n",
       "PaymentMethod_Credit card (automatic)           0.067590           0.174410   \n",
       "PaymentMethod_Electronic check                 -0.109546          -0.281147   \n",
       "PaymentMethod_Mailed check                      0.000197          -0.007423   \n",
       "Churn_Yes                                      -0.178225          -0.301552   \n",
       "\n",
       "                                       PaperlessBilling_Yes  \\\n",
       "SeniorCitizen                                      0.156258   \n",
       "tenure                                             0.004823   \n",
       "MonthlyCharges                                     0.351930   \n",
       "TotalCharges                                       0.157830   \n",
       "gender_Male                                       -0.011902   \n",
       "Partner_Yes                                       -0.013957   \n",
       "Dependents_Yes                                    -0.110131   \n",
       "PhoneService_Yes                                   0.016696   \n",
       "MultipleLines_Yes                                  0.163746   \n",
       "InternetService_DSL                               -0.063390   \n",
       "InternetService_Fiber optic                        0.326470   \n",
       "OnlineSecurity_Yes                                -0.004051   \n",
       "OnlineBackup_Yes                                   0.127056   \n",
       "DeviceProtection_Yes                               0.104079   \n",
       "TechSupport_Yes                                    0.037536   \n",
       "StreamingTV_Yes                                    0.224241   \n",
       "StreamingMovies_Yes                                0.211583   \n",
       "Contract_One year                                 -0.052278   \n",
       "Contract_Two year                                 -0.146281   \n",
       "PaperlessBilling_Yes                               1.000000   \n",
       "PaymentMethod_Credit card (automatic)             -0.013726   \n",
       "PaymentMethod_Electronic check                     0.208427   \n",
       "PaymentMethod_Mailed check                        -0.203981   \n",
       "Churn_Yes                                          0.191454   \n",
       "\n",
       "                                       PaymentMethod_Credit card (automatic)  \\\n",
       "SeniorCitizen                                                      -0.024359   \n",
       "tenure                                                              0.232800   \n",
       "MonthlyCharges                                                      0.030055   \n",
       "TotalCharges                                                        0.182663   \n",
       "gender_Male                                                         0.001632   \n",
       "Partner_Yes                                                         0.082327   \n",
       "Dependents_Yes                                                      0.061134   \n",
       "PhoneService_Yes                                                   -0.006916   \n",
       "MultipleLines_Yes                                                   0.060319   \n",
       "InternetService_DSL                                                 0.051222   \n",
       "InternetService_Fiber optic                                        -0.050552   \n",
       "OnlineSecurity_Yes                                                  0.115473   \n",
       "OnlineBackup_Yes                                                    0.090455   \n",
       "DeviceProtection_Yes                                                0.111252   \n",
       "TechSupport_Yes                                                     0.117024   \n",
       "StreamingTV_Yes                                                     0.040010   \n",
       "StreamingMovies_Yes                                                 0.048398   \n",
       "Contract_One year                                                   0.067590   \n",
       "Contract_Two year                                                   0.174410   \n",
       "PaperlessBilling_Yes                                               -0.013726   \n",
       "PaymentMethod_Credit card (automatic)                               1.000000   \n",
       "PaymentMethod_Electronic check                                     -0.373978   \n",
       "PaymentMethod_Mailed check                                         -0.285583   \n",
       "Churn_Yes                                                          -0.134687   \n",
       "\n",
       "                                       PaymentMethod_Electronic check  \\\n",
       "SeniorCitizen                                                0.171322   \n",
       "tenure                                                      -0.210197   \n",
       "MonthlyCharges                                               0.271117   \n",
       "TotalCharges                                                -0.060436   \n",
       "gender_Male                                                  0.000844   \n",
       "Partner_Yes                                                 -0.083207   \n",
       "Dependents_Yes                                              -0.149274   \n",
       "PhoneService_Yes                                             0.002747   \n",
       "MultipleLines_Yes                                            0.083583   \n",
       "InternetService_DSL                                         -0.104293   \n",
       "InternetService_Fiber optic                                  0.335763   \n",
       "OnlineSecurity_Yes                                          -0.112295   \n",
       "OnlineBackup_Yes                                            -0.000364   \n",
       "DeviceProtection_Yes                                        -0.003308   \n",
       "TechSupport_Yes                                             -0.114807   \n",
       "StreamingTV_Yes                                              0.144747   \n",
       "StreamingMovies_Yes                                          0.137420   \n",
       "Contract_One year                                           -0.109546   \n",
       "Contract_Two year                                           -0.281147   \n",
       "PaperlessBilling_Yes                                         0.208427   \n",
       "PaymentMethod_Credit card (automatic)                       -0.373978   \n",
       "PaymentMethod_Electronic check                               1.000000   \n",
       "PaymentMethod_Mailed check                                  -0.386971   \n",
       "Churn_Yes                                                    0.301455   \n",
       "\n",
       "                                       PaymentMethod_Mailed check  Churn_Yes  \n",
       "SeniorCitizen                                           -0.152987   0.150541  \n",
       "tenure                                                  -0.232181  -0.354049  \n",
       "MonthlyCharges                                          -0.376568   0.192858  \n",
       "TotalCharges                                            -0.294708  -0.199484  \n",
       "gender_Male                                              0.013199  -0.008545  \n",
       "Partner_Yes                                             -0.096948  -0.149982  \n",
       "Dependents_Yes                                           0.056448  -0.163128  \n",
       "PhoneService_Yes                                        -0.004463   0.011691  \n",
       "MultipleLines_Yes                                       -0.227672   0.040033  \n",
       "InternetService_DSL                                      0.042754  -0.124141  \n",
       "InternetService_Fiber optic                             -0.305984   0.307463  \n",
       "OnlineSecurity_Yes                                      -0.079918  -0.171270  \n",
       "OnlineBackup_Yes                                        -0.174075  -0.082307  \n",
       "DeviceProtection_Yes                                    -0.187325  -0.066193  \n",
       "TechSupport_Yes                                         -0.084631  -0.164716  \n",
       "StreamingTV_Yes                                         -0.247712   0.063254  \n",
       "StreamingMovies_Yes                                     -0.250290   0.060860  \n",
       "Contract_One year                                        0.000197  -0.178225  \n",
       "Contract_Two year                                       -0.007423  -0.301552  \n",
       "PaperlessBilling_Yes                                    -0.203981   0.191454  \n",
       "PaymentMethod_Credit card (automatic)                   -0.285583  -0.134687  \n",
       "PaymentMethod_Electronic check                          -0.386971   0.301455  \n",
       "PaymentMethod_Mailed check                               1.000000  -0.090773  \n",
       "Churn_Yes                                               -0.090773   1.000000  "
      ]
     },
     "execution_count": 46,
     "metadata": {},
     "output_type": "execute_result"
    }
   ],
   "source": [
    "df.corr()"
   ]
  },
  {
   "cell_type": "code",
   "execution_count": 47,
   "metadata": {},
   "outputs": [
    {
     "data": {
      "text/plain": [
       "<AxesSubplot:>"
      ]
     },
     "execution_count": 47,
     "metadata": {},
     "output_type": "execute_result"
    },
    {
     "data": {
      "image/png": "[encoded data removed]",
      "text/plain": [
       "<Figure size 432x288 with 1 Axes>"
      ]
     },
     "metadata": {
      "needs_background": "light"
     },
     "output_type": "display_data"
    }
   ],
   "source": [
    "df.corr()['Churn_Yes'][:-1].sort_values().plot(kind='bar')"
   ]
  },
  {
   "cell_type": "code",
   "execution_count": 48,
   "metadata": {},
   "outputs": [
    {
     "data": {
      "text/plain": [
       "<AxesSubplot:>"
      ]
     },
     "execution_count": 48,
     "metadata": {},
     "output_type": "execute_result"
    },
    {
     "data": {
      "image/png": "[encoded data removed]",
      "text/plain": [
       "<Figure size 1728x864 with 2 Axes>"
      ]
     },
     "metadata": {
      "needs_background": "light"
     },
     "output_type": "display_data"
    }
   ],
   "source": [
    "plt.figure(figsize=(24,12))\n",
    "sns.heatmap(df.corr(),annot=True,cmap='viridis')"
   ]
  },
  {
   "cell_type": "markdown",
   "metadata": {},
   "source": [
    "splitting into X and y features"
   ]
  },
  {
   "cell_type": "code",
   "execution_count": 49,
   "metadata": {},
   "outputs": [
    {
     "data": {
      "text/plain": [
       "Index(['SeniorCitizen', 'tenure', 'MonthlyCharges', 'TotalCharges',\n",
       "       'gender_Male', 'Partner_Yes', 'Dependents_Yes', 'PhoneService_Yes',\n",
       "       'MultipleLines_Yes', 'InternetService_DSL',\n",
       "       'InternetService_Fiber optic', 'OnlineSecurity_Yes', 'OnlineBackup_Yes',\n",
       "       'DeviceProtection_Yes', 'TechSupport_Yes', 'StreamingTV_Yes',\n",
       "       'StreamingMovies_Yes', 'Contract_One year', 'Contract_Two year',\n",
       "       'PaperlessBilling_Yes', 'PaymentMethod_Credit card (automatic)',\n",
       "       'PaymentMethod_Electronic check', 'PaymentMethod_Mailed check',\n",
       "       'Churn_Yes'],\n",
       "      dtype='object')"
      ]
     },
     "execution_count": 49,
     "metadata": {},
     "output_type": "execute_result"
    }
   ],
   "source": [
    "df.columns"
   ]
  },
  {
   "cell_type": "code",
   "execution_count": 50,
   "metadata": {},
   "outputs": [],
   "source": [
    "X=df.drop('Churn_Yes',axis=1)\n",
    "y=df['Churn_Yes']"
   ]
  },
  {
   "cell_type": "markdown",
   "metadata": {},
   "source": [
    "# Applying different machine learning models now"
   ]
  },
  {
   "cell_type": "markdown",
   "metadata": {},
   "source": [
    "## identifying the best random state"
   ]
  },
  {
   "cell_type": "code",
   "execution_count": 52,
   "metadata": {},
   "outputs": [
    {
     "name": "stdout",
     "output_type": "stream",
     "text": [
      "best accuracy is 0.7535545023696683 on random state 25\n"
     ]
    }
   ],
   "source": [
    "max_accu=0\n",
    "maxRS=0\n",
    "for i in range(200):\n",
    "    X_train, X_test, y_train, y_test = train_test_split(X, y, test_size=0.33, random_state=i,stratify=y)\n",
    "    dt=DecisionTreeClassifier()\n",
    "    dt.fit(X_train,y_train)\n",
    "    pred=dt.predict(X_test)\n",
    "    accurac=accuracy_score(y_test,pred)\n",
    "    #print(accurac*100,\"at random state\",i)\n",
    "    if(accurac>max_accu):\n",
    "        max_accu=accurac\n",
    "        maxRS=i\n",
    "        \n",
    "print(\"best accuracy is\",max_accu,\"on random state\",maxRS)"
   ]
  },
  {
   "cell_type": "markdown",
   "metadata": {},
   "source": [
    "best accuracy is 0.7535545023696683 on random state 25"
   ]
  },
  {
   "cell_type": "code",
   "execution_count": 53,
   "metadata": {},
   "outputs": [],
   "source": [
    "X_train, X_test, y_train, y_test = train_test_split(X, y, test_size=0.33, random_state=25,stratify=y)"
   ]
  },
  {
   "cell_type": "code",
   "execution_count": 54,
   "metadata": {},
   "outputs": [
    {
     "data": {
      "text/plain": [
       "0    1704\n",
       "1     617\n",
       "Name: Churn_Yes, dtype: int64"
      ]
     },
     "execution_count": 54,
     "metadata": {},
     "output_type": "execute_result"
    }
   ],
   "source": [
    "y_test.value_counts()"
   ]
  },
  {
   "cell_type": "code",
   "execution_count": 55,
   "metadata": {},
   "outputs": [
    {
     "data": {
      "text/plain": [
       "0    3459\n",
       "1    1252\n",
       "Name: Churn_Yes, dtype: int64"
      ]
     },
     "execution_count": 55,
     "metadata": {},
     "output_type": "execute_result"
    }
   ],
   "source": [
    "y_train.value_counts()"
   ]
  },
  {
   "cell_type": "markdown",
   "metadata": {},
   "source": [
    "**TASK: Scale the X train and X test data.**"
   ]
  },
  {
   "cell_type": "markdown",
   "metadata": {},
   "source": [
    "oversampling the triaing set, after the split of data into training and validation set"
   ]
  },
  {
   "cell_type": "code",
   "execution_count": 56,
   "metadata": {},
   "outputs": [],
   "source": [
    "smt=SMOTE()\n",
    "X_resample,y_resample=smt.fit_resample(X_train,y_train)"
   ]
  },
  {
   "cell_type": "code",
   "execution_count": 57,
   "metadata": {},
   "outputs": [
    {
     "data": {
      "text/plain": [
       "0    3459\n",
       "1    3459\n",
       "Name: Churn_Yes, dtype: int64"
      ]
     },
     "execution_count": 57,
     "metadata": {},
     "output_type": "execute_result"
    }
   ],
   "source": [
    "y_resample.value_counts()"
   ]
  },
  {
   "cell_type": "code",
   "execution_count": 58,
   "metadata": {},
   "outputs": [],
   "source": [
    "scaler = StandardScaler()"
   ]
  },
  {
   "cell_type": "code",
   "execution_count": 59,
   "metadata": {},
   "outputs": [],
   "source": [
    "scaled_X_train = scaler.fit_transform(X_resample)\n",
    "scaled_X_test = scaler.transform(X_test)"
   ]
  },
  {
   "cell_type": "code",
   "execution_count": 60,
   "metadata": {},
   "outputs": [
    {
     "name": "stdout",
     "output_type": "stream",
     "text": [
      "              precision    recall  f1-score   support\n",
      "\n",
      "           0       0.83      0.79      0.81      1704\n",
      "           1       0.48      0.55      0.51       617\n",
      "\n",
      "    accuracy                           0.72      2321\n",
      "   macro avg       0.65      0.67      0.66      2321\n",
      "weighted avg       0.74      0.72      0.73      2321\n",
      "\n"
     ]
    }
   ],
   "source": [
    "DTC=DecisionTreeClassifier()\n",
    "DTC.fit(scaled_X_train,y_resample)\n",
    "pred=DTC.predict(scaled_X_test)\n",
    "print(classification_report(y_test,pred))\n"
   ]
  },
  {
   "cell_type": "code",
   "execution_count": null,
   "metadata": {},
   "outputs": [],
   "source": []
  },
  {
   "cell_type": "code",
   "execution_count": 61,
   "metadata": {},
   "outputs": [
    {
     "name": "stdout",
     "output_type": "stream",
     "text": [
      "              precision    recall  f1-score   support\n",
      "\n",
      "           0       0.86      0.84      0.85      1704\n",
      "           1       0.58      0.61      0.59       617\n",
      "\n",
      "    accuracy                           0.78      2321\n",
      "   macro avg       0.72      0.72      0.72      2321\n",
      "weighted avg       0.78      0.78      0.78      2321\n",
      "\n"
     ]
    }
   ],
   "source": [
    "RFC=RandomForestClassifier()\n",
    "RFC.fit(scaled_X_train,y_resample)\n",
    "pred=RFC.predict(scaled_X_test)\n",
    "print(classification_report(y_test,pred))"
   ]
  },
  {
   "cell_type": "code",
   "execution_count": 62,
   "metadata": {},
   "outputs": [
    {
     "name": "stdout",
     "output_type": "stream",
     "text": [
      "              precision    recall  f1-score   support\n",
      "\n",
      "           0       0.86      0.82      0.84      1704\n",
      "           1       0.56      0.65      0.60       617\n",
      "\n",
      "    accuracy                           0.77      2321\n",
      "   macro avg       0.71      0.73      0.72      2321\n",
      "weighted avg       0.78      0.77      0.78      2321\n",
      "\n"
     ]
    }
   ],
   "source": [
    "svc=SVC()\n",
    "svc.fit(scaled_X_train,y_resample)\n",
    "pred=svc.predict(scaled_X_test)\n",
    "print(classification_report(y_test,pred))"
   ]
  },
  {
   "cell_type": "code",
   "execution_count": 63,
   "metadata": {},
   "outputs": [
    {
     "name": "stdout",
     "output_type": "stream",
     "text": [
      "              precision    recall  f1-score   support\n",
      "\n",
      "           0       0.88      0.78      0.82      1704\n",
      "           1       0.53      0.70      0.61       617\n",
      "\n",
      "    accuracy                           0.76      2321\n",
      "   macro avg       0.71      0.74      0.72      2321\n",
      "weighted avg       0.79      0.76      0.77      2321\n",
      "\n"
     ]
    }
   ],
   "source": [
    "ada=AdaBoostClassifier()\n",
    "ada.fit(scaled_X_train,y_resample)\n",
    "pred=ada.predict(scaled_X_test)\n",
    "print(classification_report(y_test,pred))"
   ]
  },
  {
   "cell_type": "code",
   "execution_count": 64,
   "metadata": {},
   "outputs": [],
   "source": [
    "dtcAC=0.72\n",
    "rfcAC=0.78\n",
    "svcAC=0.77\n",
    "adaAC=0.76"
   ]
  },
  {
   "cell_type": "markdown",
   "metadata": {},
   "source": [
    "### now checking cross val score"
   ]
  },
  {
   "cell_type": "code",
   "execution_count": 65,
   "metadata": {},
   "outputs": [
    {
     "data": {
      "text/plain": [
       "0.7149196335497002"
      ]
     },
     "execution_count": 65,
     "metadata": {},
     "output_type": "execute_result"
    }
   ],
   "source": [
    "imba_pipeline=make_pipeline(SMOTE(random_state=42),scaler,DTC)\n",
    "DTCcv=cross_val_score(imba_pipeline,X_train,y_train,cv=5).mean()\n",
    "DTCcv"
   ]
  },
  {
   "cell_type": "code",
   "execution_count": 150,
   "metadata": {},
   "outputs": [],
   "source": []
  },
  {
   "cell_type": "code",
   "execution_count": 66,
   "metadata": {},
   "outputs": [
    {
     "data": {
      "text/plain": [
       "0.769900011932825"
      ]
     },
     "execution_count": 66,
     "metadata": {},
     "output_type": "execute_result"
    }
   ],
   "source": [
    "imba_pipeline=make_pipeline(SMOTE(random_state=42),scaler,RFC)\n",
    "RFCcv=cross_val_score(imba_pipeline,X_train,y_train,cv=5).mean()\n",
    "RFCcv"
   ]
  },
  {
   "cell_type": "code",
   "execution_count": 67,
   "metadata": {},
   "outputs": [
    {
     "data": {
      "text/plain": [
       "0.7756322708616176"
      ]
     },
     "execution_count": 67,
     "metadata": {},
     "output_type": "execute_result"
    }
   ],
   "source": [
    "imba_pipeline=make_pipeline(SMOTE(random_state=42),scaler,svc)\n",
    "svcCV=cross_val_score(imba_pipeline,X_train,y_train,cv=5).mean()\n",
    "svcCV"
   ]
  },
  {
   "cell_type": "code",
   "execution_count": 68,
   "metadata": {},
   "outputs": [
    {
     "data": {
      "text/plain": [
       "0.757801028024127"
      ]
     },
     "execution_count": 68,
     "metadata": {},
     "output_type": "execute_result"
    }
   ],
   "source": [
    "imba_pipeline=make_pipeline(SMOTE(random_state=42),scaler,ada)\n",
    "adaCV=cross_val_score(imba_pipeline,X_train,y_train,cv=5).mean()\n",
    "adaCV"
   ]
  },
  {
   "cell_type": "code",
   "execution_count": 69,
   "metadata": {},
   "outputs": [
    {
     "name": "stdout",
     "output_type": "stream",
     "text": [
      "0.005080366450299745\n",
      "0.010099988067175047\n",
      "-0.00563227086161755\n",
      "0.002198971975873043\n"
     ]
    }
   ],
   "source": [
    "print(dtcAC-DTCcv)\n",
    "print(rfcAC-RFCcv)\n",
    "print(svcAC-svcCV)\n",
    "print(adaAC-adaCV) "
   ]
  },
  {
   "cell_type": "markdown",
   "metadata": {},
   "source": [
    "DTC, SVC, ADA BOOST have almost same accuracy differences. and\n",
    "from these 3 choosing Ada boost classifier as the  F1 score is good for both the outcomes."
   ]
  },
  {
   "cell_type": "markdown",
   "metadata": {},
   "source": [
    "## HyperParameterTuning"
   ]
  },
  {
   "cell_type": "code",
   "execution_count": 71,
   "metadata": {},
   "outputs": [],
   "source": [
    "from sklearn.model_selection import GridSearchCV"
   ]
  },
  {
   "cell_type": "code",
   "execution_count": null,
   "metadata": {},
   "outputs": [],
   "source": [
    "    "
   ]
  },
  {
   "cell_type": "code",
   "execution_count": 72,
   "metadata": {},
   "outputs": [],
   "source": [
    "pipeLine=Pipeline([('smote',SMOTE(random_state=42)),('scaler',StandardScaler()),('ada',AdaBoostClassifier())])\n"
   ]
  },
  {
   "cell_type": "code",
   "execution_count": 73,
   "metadata": {},
   "outputs": [
    {
     "name": "stdout",
     "output_type": "stream",
     "text": [
      "Help on class AdaBoostClassifier in module sklearn.ensemble._weight_boosting:\n",
      "\n",
      "class AdaBoostClassifier(sklearn.base.ClassifierMixin, BaseWeightBoosting)\n",
      " |  AdaBoostClassifier(base_estimator=None, *, n_estimators=50, learning_rate=1.0, algorithm='SAMME.R', random_state=None)\n",
      " |  \n",
      " |  An AdaBoost classifier.\n",
      " |  \n",
      " |  An AdaBoost [1] classifier is a meta-estimator that begins by fitting a\n",
      " |  classifier on the original dataset and then fits additional copies of the\n",
      " |  classifier on the same dataset but where the weights of incorrectly\n",
      " |  classified instances are adjusted such that subsequent classifiers focus\n",
      " |  more on difficult cases.\n",
      " |  \n",
      " |  This class implements the algorithm known as AdaBoost-SAMME [2].\n",
      " |  \n",
      " |  Read more in the :ref:`User Guide <adaboost>`.\n",
      " |  \n",
      " |  .. versionadded:: 0.14\n",
      " |  \n",
      " |  Parameters\n",
      " |  ----------\n",
      " |  base_estimator : object, default=None\n",
      " |      The base estimator from which the boosted ensemble is built.\n",
      " |      Support for sample weighting is required, as well as proper\n",
      " |      ``classes_`` and ``n_classes_`` attributes. If ``None``, then\n",
      " |      the base estimator is :class:`~sklearn.tree.DecisionTreeClassifier`\n",
      " |      initialized with `max_depth=1`.\n",
      " |  \n",
      " |  n_estimators : int, default=50\n",
      " |      The maximum number of estimators at which boosting is terminated.\n",
      " |      In case of perfect fit, the learning procedure is stopped early.\n",
      " |  \n",
      " |  learning_rate : float, default=1.\n",
      " |      Weight applied to each classifier at each boosting iteration. A higher\n",
      " |      learning rate increases the contribution of each classifier. There is\n",
      " |      a trade-off between the `learning_rate` and `n_estimators` parameters.\n",
      " |  \n",
      " |  algorithm : {'SAMME', 'SAMME.R'}, default='SAMME.R'\n",
      " |      If 'SAMME.R' then use the SAMME.R real boosting algorithm.\n",
      " |      ``base_estimator`` must support calculation of class probabilities.\n",
      " |      If 'SAMME' then use the SAMME discrete boosting algorithm.\n",
      " |      The SAMME.R algorithm typically converges faster than SAMME,\n",
      " |      achieving a lower test error with fewer boosting iterations.\n",
      " |  \n",
      " |  random_state : int, RandomState instance or None, default=None\n",
      " |      Controls the random seed given at each `base_estimator` at each\n",
      " |      boosting iteration.\n",
      " |      Thus, it is only used when `base_estimator` exposes a `random_state`.\n",
      " |      Pass an int for reproducible output across multiple function calls.\n",
      " |      See :term:`Glossary <random_state>`.\n",
      " |  \n",
      " |  Attributes\n",
      " |  ----------\n",
      " |  base_estimator_ : estimator\n",
      " |      The base estimator from which the ensemble is grown.\n",
      " |  \n",
      " |  estimators_ : list of classifiers\n",
      " |      The collection of fitted sub-estimators.\n",
      " |  \n",
      " |  classes_ : ndarray of shape (n_classes,)\n",
      " |      The classes labels.\n",
      " |  \n",
      " |  n_classes_ : int\n",
      " |      The number of classes.\n",
      " |  \n",
      " |  estimator_weights_ : ndarray of floats\n",
      " |      Weights for each estimator in the boosted ensemble.\n",
      " |  \n",
      " |  estimator_errors_ : ndarray of floats\n",
      " |      Classification error for each estimator in the boosted\n",
      " |      ensemble.\n",
      " |  \n",
      " |  feature_importances_ : ndarray of shape (n_features,)\n",
      " |      The impurity-based feature importances if supported by the\n",
      " |      ``base_estimator`` (when based on decision trees).\n",
      " |  \n",
      " |      Warning: impurity-based feature importances can be misleading for\n",
      " |      high cardinality features (many unique values). See\n",
      " |      :func:`sklearn.inspection.permutation_importance` as an alternative.\n",
      " |  \n",
      " |  See Also\n",
      " |  --------\n",
      " |  AdaBoostRegressor : An AdaBoost regressor that begins by fitting a\n",
      " |      regressor on the original dataset and then fits additional copies of\n",
      " |      the regressor on the same dataset but where the weights of instances\n",
      " |      are adjusted according to the error of the current prediction.\n",
      " |  \n",
      " |  GradientBoostingClassifier : GB builds an additive model in a forward\n",
      " |      stage-wise fashion. Regression trees are fit on the negative gradient\n",
      " |      of the binomial or multinomial deviance loss function. Binary\n",
      " |      classification is a special case where only a single regression tree is\n",
      " |      induced.\n",
      " |  \n",
      " |  sklearn.tree.DecisionTreeClassifier : A non-parametric supervised learning\n",
      " |      method used for classification.\n",
      " |      Creates a model that predicts the value of a target variable by\n",
      " |      learning simple decision rules inferred from the data features.\n",
      " |  \n",
      " |  References\n",
      " |  ----------\n",
      " |  .. [1] Y. Freund, R. Schapire, \"A Decision-Theoretic Generalization of\n",
      " |         on-Line Learning and an Application to Boosting\", 1995.\n",
      " |  \n",
      " |  .. [2] J. Zhu, H. Zou, S. Rosset, T. Hastie, \"Multi-class AdaBoost\", 2009.\n",
      " |  \n",
      " |  Examples\n",
      " |  --------\n",
      " |  >>> from sklearn.ensemble import AdaBoostClassifier\n",
      " |  >>> from sklearn.datasets import make_classification\n",
      " |  >>> X, y = make_classification(n_samples=1000, n_features=4,\n",
      " |  ...                            n_informative=2, n_redundant=0,\n",
      " |  ...                            random_state=0, shuffle=False)\n",
      " |  >>> clf = AdaBoostClassifier(n_estimators=100, random_state=0)\n",
      " |  >>> clf.fit(X, y)\n",
      " |  AdaBoostClassifier(n_estimators=100, random_state=0)\n",
      " |  >>> clf.predict([[0, 0, 0, 0]])\n",
      " |  array([1])\n",
      " |  >>> clf.score(X, y)\n",
      " |  0.983...\n",
      " |  \n",
      " |  Method resolution order:\n",
      " |      AdaBoostClassifier\n",
      " |      sklearn.base.ClassifierMixin\n",
      " |      BaseWeightBoosting\n",
      " |      sklearn.ensemble._base.BaseEnsemble\n",
      " |      sklearn.base.MetaEstimatorMixin\n",
      " |      sklearn.base.BaseEstimator\n",
      " |      builtins.object\n",
      " |  \n",
      " |  Methods defined here:\n",
      " |  \n",
      " |  __init__(self, base_estimator=None, *, n_estimators=50, learning_rate=1.0, algorithm='SAMME.R', random_state=None)\n",
      " |      Initialize self.  See help(type(self)) for accurate signature.\n",
      " |  \n",
      " |  decision_function(self, X)\n",
      " |      Compute the decision function of ``X``.\n",
      " |      \n",
      " |      Parameters\n",
      " |      ----------\n",
      " |      X : {array-like, sparse matrix} of shape (n_samples, n_features)\n",
      " |          The training input samples. Sparse matrix can be CSC, CSR, COO,\n",
      " |          DOK, or LIL. COO, DOK, and LIL are converted to CSR.\n",
      " |      \n",
      " |      Returns\n",
      " |      -------\n",
      " |      score : ndarray of shape of (n_samples, k)\n",
      " |          The decision function of the input samples. The order of\n",
      " |          outputs is the same of that of the :term:`classes_` attribute.\n",
      " |          Binary classification is a special cases with ``k == 1``,\n",
      " |          otherwise ``k==n_classes``. For binary classification,\n",
      " |          values closer to -1 or 1 mean more like the first or second\n",
      " |          class in ``classes_``, respectively.\n",
      " |  \n",
      " |  fit(self, X, y, sample_weight=None)\n",
      " |      Build a boosted classifier from the training set (X, y).\n",
      " |      \n",
      " |      Parameters\n",
      " |      ----------\n",
      " |      X : {array-like, sparse matrix} of shape (n_samples, n_features)\n",
      " |          The training input samples. Sparse matrix can be CSC, CSR, COO,\n",
      " |          DOK, or LIL. COO, DOK, and LIL are converted to CSR.\n",
      " |      \n",
      " |      y : array-like of shape (n_samples,)\n",
      " |          The target values (class labels).\n",
      " |      \n",
      " |      sample_weight : array-like of shape (n_samples,), default=None\n",
      " |          Sample weights. If None, the sample weights are initialized to\n",
      " |          ``1 / n_samples``.\n",
      " |      \n",
      " |      Returns\n",
      " |      -------\n",
      " |      self : object\n",
      " |          Fitted estimator.\n",
      " |  \n",
      " |  predict(self, X)\n",
      " |      Predict classes for X.\n",
      " |      \n",
      " |      The predicted class of an input sample is computed as the weighted mean\n",
      " |      prediction of the classifiers in the ensemble.\n",
      " |      \n",
      " |      Parameters\n",
      " |      ----------\n",
      " |      X : {array-like, sparse matrix} of shape (n_samples, n_features)\n",
      " |          The training input samples. Sparse matrix can be CSC, CSR, COO,\n",
      " |          DOK, or LIL. COO, DOK, and LIL are converted to CSR.\n",
      " |      \n",
      " |      Returns\n",
      " |      -------\n",
      " |      y : ndarray of shape (n_samples,)\n",
      " |          The predicted classes.\n",
      " |  \n",
      " |  predict_log_proba(self, X)\n",
      " |      Predict class log-probabilities for X.\n",
      " |      \n",
      " |      The predicted class log-probabilities of an input sample is computed as\n",
      " |      the weighted mean predicted class log-probabilities of the classifiers\n",
      " |      in the ensemble.\n",
      " |      \n",
      " |      Parameters\n",
      " |      ----------\n",
      " |      X : {array-like, sparse matrix} of shape (n_samples, n_features)\n",
      " |          The training input samples. Sparse matrix can be CSC, CSR, COO,\n",
      " |          DOK, or LIL. COO, DOK, and LIL are converted to CSR.\n",
      " |      \n",
      " |      Returns\n",
      " |      -------\n",
      " |      p : ndarray of shape (n_samples, n_classes)\n",
      " |          The class probabilities of the input samples. The order of\n",
      " |          outputs is the same of that of the :term:`classes_` attribute.\n",
      " |  \n",
      " |  predict_proba(self, X)\n",
      " |      Predict class probabilities for X.\n",
      " |      \n",
      " |      The predicted class probabilities of an input sample is computed as\n",
      " |      the weighted mean predicted class probabilities of the classifiers\n",
      " |      in the ensemble.\n",
      " |      \n",
      " |      Parameters\n",
      " |      ----------\n",
      " |      X : {array-like, sparse matrix} of shape (n_samples, n_features)\n",
      " |          The training input samples. Sparse matrix can be CSC, CSR, COO,\n",
      " |          DOK, or LIL. COO, DOK, and LIL are converted to CSR.\n",
      " |      \n",
      " |      Returns\n",
      " |      -------\n",
      " |      p : ndarray of shape (n_samples, n_classes)\n",
      " |          The class probabilities of the input samples. The order of\n",
      " |          outputs is the same of that of the :term:`classes_` attribute.\n",
      " |  \n",
      " |  staged_decision_function(self, X)\n",
      " |      Compute decision function of ``X`` for each boosting iteration.\n",
      " |      \n",
      " |      This method allows monitoring (i.e. determine error on testing set)\n",
      " |      after each boosting iteration.\n",
      " |      \n",
      " |      Parameters\n",
      " |      ----------\n",
      " |      X : {array-like, sparse matrix} of shape (n_samples, n_features)\n",
      " |          The training input samples. Sparse matrix can be CSC, CSR, COO,\n",
      " |          DOK, or LIL. COO, DOK, and LIL are converted to CSR.\n",
      " |      \n",
      " |      Yields\n",
      " |      ------\n",
      " |      score : generator of ndarray of shape (n_samples, k)\n",
      " |          The decision function of the input samples. The order of\n",
      " |          outputs is the same of that of the :term:`classes_` attribute.\n",
      " |          Binary classification is a special cases with ``k == 1``,\n",
      " |          otherwise ``k==n_classes``. For binary classification,\n",
      " |          values closer to -1 or 1 mean more like the first or second\n",
      " |          class in ``classes_``, respectively.\n",
      " |  \n",
      " |  staged_predict(self, X)\n",
      " |      Return staged predictions for X.\n",
      " |      \n",
      " |      The predicted class of an input sample is computed as the weighted mean\n",
      " |      prediction of the classifiers in the ensemble.\n",
      " |      \n",
      " |      This generator method yields the ensemble prediction after each\n",
      " |      iteration of boosting and therefore allows monitoring, such as to\n",
      " |      determine the prediction on a test set after each boost.\n",
      " |      \n",
      " |      Parameters\n",
      " |      ----------\n",
      " |      X : array-like of shape (n_samples, n_features)\n",
      " |          The input samples. Sparse matrix can be CSC, CSR, COO,\n",
      " |          DOK, or LIL. COO, DOK, and LIL are converted to CSR.\n",
      " |      \n",
      " |      Yields\n",
      " |      ------\n",
      " |      y : generator of ndarray of shape (n_samples,)\n",
      " |          The predicted classes.\n",
      " |  \n",
      " |  staged_predict_proba(self, X)\n",
      " |      Predict class probabilities for X.\n",
      " |      \n",
      " |      The predicted class probabilities of an input sample is computed as\n",
      " |      the weighted mean predicted class probabilities of the classifiers\n",
      " |      in the ensemble.\n",
      " |      \n",
      " |      This generator method yields the ensemble predicted class probabilities\n",
      " |      after each iteration of boosting and therefore allows monitoring, such\n",
      " |      as to determine the predicted class probabilities on a test set after\n",
      " |      each boost.\n",
      " |      \n",
      " |      Parameters\n",
      " |      ----------\n",
      " |      X : {array-like, sparse matrix} of shape (n_samples, n_features)\n",
      " |          The training input samples. Sparse matrix can be CSC, CSR, COO,\n",
      " |          DOK, or LIL. COO, DOK, and LIL are converted to CSR.\n",
      " |      \n",
      " |      Yields\n",
      " |      -------\n",
      " |      p : generator of ndarray of shape (n_samples,)\n",
      " |          The class probabilities of the input samples. The order of\n",
      " |          outputs is the same of that of the :term:`classes_` attribute.\n",
      " |  \n",
      " |  ----------------------------------------------------------------------\n",
      " |  Data and other attributes defined here:\n",
      " |  \n",
      " |  __abstractmethods__ = frozenset()\n",
      " |  \n",
      " |  ----------------------------------------------------------------------\n",
      " |  Methods inherited from sklearn.base.ClassifierMixin:\n",
      " |  \n",
      " |  score(self, X, y, sample_weight=None)\n",
      " |      Return the mean accuracy on the given test data and labels.\n",
      " |      \n",
      " |      In multi-label classification, this is the subset accuracy\n",
      " |      which is a harsh metric since you require for each sample that\n",
      " |      each label set be correctly predicted.\n",
      " |      \n",
      " |      Parameters\n",
      " |      ----------\n",
      " |      X : array-like of shape (n_samples, n_features)\n",
      " |          Test samples.\n",
      " |      \n",
      " |      y : array-like of shape (n_samples,) or (n_samples, n_outputs)\n",
      " |          True labels for `X`.\n",
      " |      \n",
      " |      sample_weight : array-like of shape (n_samples,), default=None\n",
      " |          Sample weights.\n",
      " |      \n",
      " |      Returns\n",
      " |      -------\n",
      " |      score : float\n",
      " |          Mean accuracy of ``self.predict(X)`` wrt. `y`.\n",
      " |  \n",
      " |  ----------------------------------------------------------------------\n",
      " |  Data descriptors inherited from sklearn.base.ClassifierMixin:\n",
      " |  \n",
      " |  __dict__\n",
      " |      dictionary for instance variables (if defined)\n",
      " |  \n",
      " |  __weakref__\n",
      " |      list of weak references to the object (if defined)\n",
      " |  \n",
      " |  ----------------------------------------------------------------------\n",
      " |  Methods inherited from BaseWeightBoosting:\n",
      " |  \n",
      " |  staged_score(self, X, y, sample_weight=None)\n",
      " |      Return staged scores for X, y.\n",
      " |      \n",
      " |      This generator method yields the ensemble score after each iteration of\n",
      " |      boosting and therefore allows monitoring, such as to determine the\n",
      " |      score on a test set after each boost.\n",
      " |      \n",
      " |      Parameters\n",
      " |      ----------\n",
      " |      X : {array-like, sparse matrix} of shape (n_samples, n_features)\n",
      " |          The training input samples. Sparse matrix can be CSC, CSR, COO,\n",
      " |          DOK, or LIL. COO, DOK, and LIL are converted to CSR.\n",
      " |      \n",
      " |      y : array-like of shape (n_samples,)\n",
      " |          Labels for X.\n",
      " |      \n",
      " |      sample_weight : array-like of shape (n_samples,), default=None\n",
      " |          Sample weights.\n",
      " |      \n",
      " |      Yields\n",
      " |      ------\n",
      " |      z : float\n",
      " |  \n",
      " |  ----------------------------------------------------------------------\n",
      " |  Data descriptors inherited from BaseWeightBoosting:\n",
      " |  \n",
      " |  feature_importances_\n",
      " |      The impurity-based feature importances.\n",
      " |      \n",
      " |      The higher, the more important the feature.\n",
      " |      The importance of a feature is computed as the (normalized)\n",
      " |      total reduction of the criterion brought by that feature.  It is also\n",
      " |      known as the Gini importance.\n",
      " |      \n",
      " |      Warning: impurity-based feature importances can be misleading for\n",
      " |      high cardinality features (many unique values). See\n",
      " |      :func:`sklearn.inspection.permutation_importance` as an alternative.\n",
      " |      \n",
      " |      Returns\n",
      " |      -------\n",
      " |      feature_importances_ : ndarray of shape (n_features,)\n",
      " |          The feature importances.\n",
      " |  \n",
      " |  ----------------------------------------------------------------------\n",
      " |  Methods inherited from sklearn.ensemble._base.BaseEnsemble:\n",
      " |  \n",
      " |  __getitem__(self, index)\n",
      " |      Return the index'th estimator in the ensemble.\n",
      " |  \n",
      " |  __iter__(self)\n",
      " |      Return iterator over estimators in the ensemble.\n",
      " |  \n",
      " |  __len__(self)\n",
      " |      Return the number of estimators in the ensemble.\n",
      " |  \n",
      " |  ----------------------------------------------------------------------\n",
      " |  Data and other attributes inherited from sklearn.ensemble._base.BaseEnsemble:\n",
      " |  \n",
      " |  __annotations__ = {'_required_parameters': typing.List[str]}\n",
      " |  \n",
      " |  ----------------------------------------------------------------------\n",
      " |  Methods inherited from sklearn.base.BaseEstimator:\n",
      " |  \n",
      " |  __getstate__(self)\n",
      " |  \n",
      " |  __repr__(self, N_CHAR_MAX=700)\n",
      " |      Return repr(self).\n",
      " |  \n",
      " |  __setstate__(self, state)\n",
      " |  \n",
      " |  get_params(self, deep=True)\n",
      " |      Get parameters for this estimator.\n",
      " |      \n",
      " |      Parameters\n",
      " |      ----------\n",
      " |      deep : bool, default=True\n",
      " |          If True, will return the parameters for this estimator and\n",
      " |          contained subobjects that are estimators.\n",
      " |      \n",
      " |      Returns\n",
      " |      -------\n",
      " |      params : dict\n",
      " |          Parameter names mapped to their values.\n",
      " |  \n",
      " |  set_params(self, **params)\n",
      " |      Set the parameters of this estimator.\n",
      " |      \n",
      " |      The method works on simple estimators as well as on nested objects\n",
      " |      (such as :class:`~sklearn.pipeline.Pipeline`). The latter have\n",
      " |      parameters of the form ``<component>__<parameter>`` so that it's\n",
      " |      possible to update each component of a nested object.\n",
      " |      \n",
      " |      Parameters\n",
      " |      ----------\n",
      " |      **params : dict\n",
      " |          Estimator parameters.\n",
      " |      \n",
      " |      Returns\n",
      " |      -------\n",
      " |      self : estimator instance\n",
      " |          Estimator instance.\n",
      "\n"
     ]
    }
   ],
   "source": [
    "help(AdaBoostClassifier)"
   ]
  },
  {
   "cell_type": "code",
   "execution_count": 74,
   "metadata": {},
   "outputs": [],
   "source": [
    "param_grid = {'ada__learning_rate':[0.01,0.1,1],'ada__algorithm':['SAMME','SAMME.R']}\n",
    "grid = GridSearchCV(pipeLine,param_grid,verbose=2)"
   ]
  },
  {
   "cell_type": "code",
   "execution_count": 75,
   "metadata": {},
   "outputs": [
    {
     "name": "stdout",
     "output_type": "stream",
     "text": [
      "Fitting 5 folds for each of 6 candidates, totalling 30 fits\n",
      "[CV] END ......ada__algorithm=SAMME, ada__learning_rate=0.01; total time=   0.5s\n",
      "[CV] END ......ada__algorithm=SAMME, ada__learning_rate=0.01; total time=   0.5s\n",
      "[CV] END ......ada__algorithm=SAMME, ada__learning_rate=0.01; total time=   0.5s\n",
      "[CV] END ......ada__algorithm=SAMME, ada__learning_rate=0.01; total time=   0.5s\n",
      "[CV] END ......ada__algorithm=SAMME, ada__learning_rate=0.01; total time=   0.4s\n",
      "[CV] END .......ada__algorithm=SAMME, ada__learning_rate=0.1; total time=   0.5s\n",
      "[CV] END .......ada__algorithm=SAMME, ada__learning_rate=0.1; total time=   0.5s\n",
      "[CV] END .......ada__algorithm=SAMME, ada__learning_rate=0.1; total time=   0.5s\n",
      "[CV] END .......ada__algorithm=SAMME, ada__learning_rate=0.1; total time=   0.5s\n",
      "[CV] END .......ada__algorithm=SAMME, ada__learning_rate=0.1; total time=   0.5s\n",
      "[CV] END .........ada__algorithm=SAMME, ada__learning_rate=1; total time=   0.4s\n",
      "[CV] END .........ada__algorithm=SAMME, ada__learning_rate=1; total time=   0.5s\n",
      "[CV] END .........ada__algorithm=SAMME, ada__learning_rate=1; total time=   0.5s\n",
      "[CV] END .........ada__algorithm=SAMME, ada__learning_rate=1; total time=   0.5s\n",
      "[CV] END .........ada__algorithm=SAMME, ada__learning_rate=1; total time=   0.5s\n",
      "[CV] END ....ada__algorithm=SAMME.R, ada__learning_rate=0.01; total time=   0.5s\n",
      "[CV] END ....ada__algorithm=SAMME.R, ada__learning_rate=0.01; total time=   0.5s\n",
      "[CV] END ....ada__algorithm=SAMME.R, ada__learning_rate=0.01; total time=   0.5s\n",
      "[CV] END ....ada__algorithm=SAMME.R, ada__learning_rate=0.01; total time=   0.6s\n",
      "[CV] END ....ada__algorithm=SAMME.R, ada__learning_rate=0.01; total time=   0.4s\n",
      "[CV] END .....ada__algorithm=SAMME.R, ada__learning_rate=0.1; total time=   0.4s\n",
      "[CV] END .....ada__algorithm=SAMME.R, ada__learning_rate=0.1; total time=   0.5s\n",
      "[CV] END .....ada__algorithm=SAMME.R, ada__learning_rate=0.1; total time=   0.6s\n",
      "[CV] END .....ada__algorithm=SAMME.R, ada__learning_rate=0.1; total time=   0.7s\n",
      "[CV] END .....ada__algorithm=SAMME.R, ada__learning_rate=0.1; total time=   0.5s\n",
      "[CV] END .......ada__algorithm=SAMME.R, ada__learning_rate=1; total time=   0.6s\n",
      "[CV] END .......ada__algorithm=SAMME.R, ada__learning_rate=1; total time=   0.5s\n",
      "[CV] END .......ada__algorithm=SAMME.R, ada__learning_rate=1; total time=   0.5s\n",
      "[CV] END .......ada__algorithm=SAMME.R, ada__learning_rate=1; total time=   0.6s\n",
      "[CV] END .......ada__algorithm=SAMME.R, ada__learning_rate=1; total time=   0.6s\n"
     ]
    },
    {
     "data": {
      "text/plain": [
       "GridSearchCV(estimator=Pipeline(steps=[('smote', SMOTE(random_state=42)),\n",
       "                                       ('scaler', StandardScaler()),\n",
       "                                       ('ada', AdaBoostClassifier())]),\n",
       "             param_grid={'ada__algorithm': ['SAMME', 'SAMME.R'],\n",
       "                         'ada__learning_rate': [0.01, 0.1, 1]},\n",
       "             verbose=2)"
      ]
     },
     "execution_count": 75,
     "metadata": {},
     "output_type": "execute_result"
    }
   ],
   "source": [
    "grid.fit(X_train,y_train,)"
   ]
  },
  {
   "cell_type": "code",
   "execution_count": 76,
   "metadata": {},
   "outputs": [
    {
     "data": {
      "text/plain": [
       "{'ada__algorithm': 'SAMME.R', 'ada__learning_rate': 1}"
      ]
     },
     "execution_count": 76,
     "metadata": {},
     "output_type": "execute_result"
    }
   ],
   "source": [
    "grid.best_params_"
   ]
  },
  {
   "cell_type": "code",
   "execution_count": 77,
   "metadata": {},
   "outputs": [
    {
     "data": {
      "text/plain": [
       "Pipeline(steps=[('smote', SMOTE(random_state=42)), ('scaler', StandardScaler()),\n",
       "                ('ada', AdaBoostClassifier(learning_rate=1))])"
      ]
     },
     "execution_count": 77,
     "metadata": {},
     "output_type": "execute_result"
    }
   ],
   "source": [
    "grid.best_estimator_"
   ]
  },
  {
   "cell_type": "code",
   "execution_count": 78,
   "metadata": {},
   "outputs": [
    {
     "data": {
      "text/html": [
       "<div>\n",
       "<style scoped>\n",
       "    .dataframe tbody tr th:only-of-type {\n",
       "        vertical-align: middle;\n",
       "    }\n",
       "\n",
       "    .dataframe tbody tr th {\n",
       "        vertical-align: top;\n",
       "    }\n",
       "\n",
       "    .dataframe thead th {\n",
       "        text-align: right;\n",
       "    }\n",
       "</style>\n",
       "<table border=\"1\" class=\"dataframe\">\n",
       "  <thead>\n",
       "    <tr style=\"text-align: right;\">\n",
       "      <th></th>\n",
       "      <th>mean_fit_time</th>\n",
       "      <th>std_fit_time</th>\n",
       "      <th>mean_score_time</th>\n",
       "      <th>std_score_time</th>\n",
       "      <th>param_ada__algorithm</th>\n",
       "      <th>param_ada__learning_rate</th>\n",
       "      <th>params</th>\n",
       "      <th>split0_test_score</th>\n",
       "      <th>split1_test_score</th>\n",
       "      <th>split2_test_score</th>\n",
       "      <th>split3_test_score</th>\n",
       "      <th>split4_test_score</th>\n",
       "      <th>mean_test_score</th>\n",
       "      <th>std_test_score</th>\n",
       "      <th>rank_test_score</th>\n",
       "    </tr>\n",
       "  </thead>\n",
       "  <tbody>\n",
       "    <tr>\n",
       "      <th>0</th>\n",
       "      <td>0.580811</td>\n",
       "      <td>0.031177</td>\n",
       "      <td>0.015967</td>\n",
       "      <td>0.000834</td>\n",
       "      <td>SAMME</td>\n",
       "      <td>0.01</td>\n",
       "      <td>{'ada__algorithm': 'SAMME', 'ada__learning_rat...</td>\n",
       "      <td>0.492047</td>\n",
       "      <td>0.490446</td>\n",
       "      <td>0.493631</td>\n",
       "      <td>0.488323</td>\n",
       "      <td>0.493631</td>\n",
       "      <td>0.491615</td>\n",
       "      <td>0.002026</td>\n",
       "      <td>6</td>\n",
       "    </tr>\n",
       "    <tr>\n",
       "      <th>1</th>\n",
       "      <td>0.567845</td>\n",
       "      <td>0.019762</td>\n",
       "      <td>0.025587</td>\n",
       "      <td>0.006990</td>\n",
       "      <td>SAMME</td>\n",
       "      <td>0.1</td>\n",
       "      <td>{'ada__algorithm': 'SAMME', 'ada__learning_rat...</td>\n",
       "      <td>0.621421</td>\n",
       "      <td>0.596603</td>\n",
       "      <td>0.607219</td>\n",
       "      <td>0.615711</td>\n",
       "      <td>0.591295</td>\n",
       "      <td>0.606450</td>\n",
       "      <td>0.011288</td>\n",
       "      <td>5</td>\n",
       "    </tr>\n",
       "    <tr>\n",
       "      <th>2</th>\n",
       "      <td>0.557569</td>\n",
       "      <td>0.026409</td>\n",
       "      <td>0.018756</td>\n",
       "      <td>0.006241</td>\n",
       "      <td>SAMME</td>\n",
       "      <td>1</td>\n",
       "      <td>{'ada__algorithm': 'SAMME', 'ada__learning_rat...</td>\n",
       "      <td>0.760339</td>\n",
       "      <td>0.745223</td>\n",
       "      <td>0.757962</td>\n",
       "      <td>0.754777</td>\n",
       "      <td>0.763270</td>\n",
       "      <td>0.756314</td>\n",
       "      <td>0.006208</td>\n",
       "      <td>2</td>\n",
       "    </tr>\n",
       "    <tr>\n",
       "      <th>3</th>\n",
       "      <td>0.599086</td>\n",
       "      <td>0.050926</td>\n",
       "      <td>0.031461</td>\n",
       "      <td>0.005277</td>\n",
       "      <td>SAMME.R</td>\n",
       "      <td>0.01</td>\n",
       "      <td>{'ada__algorithm': 'SAMME.R', 'ada__learning_r...</td>\n",
       "      <td>0.654295</td>\n",
       "      <td>0.644374</td>\n",
       "      <td>0.661359</td>\n",
       "      <td>0.663482</td>\n",
       "      <td>0.658174</td>\n",
       "      <td>0.656337</td>\n",
       "      <td>0.006737</td>\n",
       "      <td>4</td>\n",
       "    </tr>\n",
       "    <tr>\n",
       "      <th>4</th>\n",
       "      <td>0.612139</td>\n",
       "      <td>0.063704</td>\n",
       "      <td>0.028149</td>\n",
       "      <td>0.015342</td>\n",
       "      <td>SAMME.R</td>\n",
       "      <td>0.1</td>\n",
       "      <td>{'ada__algorithm': 'SAMME.R', 'ada__learning_r...</td>\n",
       "      <td>0.735949</td>\n",
       "      <td>0.725053</td>\n",
       "      <td>0.726115</td>\n",
       "      <td>0.747346</td>\n",
       "      <td>0.751592</td>\n",
       "      <td>0.737211</td>\n",
       "      <td>0.010790</td>\n",
       "      <td>3</td>\n",
       "    </tr>\n",
       "    <tr>\n",
       "      <th>5</th>\n",
       "      <td>0.627989</td>\n",
       "      <td>0.015377</td>\n",
       "      <td>0.032732</td>\n",
       "      <td>0.001808</td>\n",
       "      <td>SAMME.R</td>\n",
       "      <td>1</td>\n",
       "      <td>{'ada__algorithm': 'SAMME.R', 'ada__learning_r...</td>\n",
       "      <td>0.757158</td>\n",
       "      <td>0.751592</td>\n",
       "      <td>0.754777</td>\n",
       "      <td>0.764331</td>\n",
       "      <td>0.761146</td>\n",
       "      <td>0.757801</td>\n",
       "      <td>0.004515</td>\n",
       "      <td>1</td>\n",
       "    </tr>\n",
       "  </tbody>\n",
       "</table>\n",
       "</div>"
      ],
      "text/plain": [
       "   mean_fit_time  std_fit_time  mean_score_time  std_score_time  \\\n",
       "0       0.580811      0.031177         0.015967        0.000834   \n",
       "1       0.567845      0.019762         0.025587        0.006990   \n",
       "2       0.557569      0.026409         0.018756        0.006241   \n",
       "3       0.599086      0.050926         0.031461        0.005277   \n",
       "4       0.612139      0.063704         0.028149        0.015342   \n",
       "5       0.627989      0.015377         0.032732        0.001808   \n",
       "\n",
       "  param_ada__algorithm param_ada__learning_rate  \\\n",
       "0                SAMME                     0.01   \n",
       "1                SAMME                      0.1   \n",
       "2                SAMME                        1   \n",
       "3              SAMME.R                     0.01   \n",
       "4              SAMME.R                      0.1   \n",
       "5              SAMME.R                        1   \n",
       "\n",
       "                                              params  split0_test_score  \\\n",
       "0  {'ada__algorithm': 'SAMME', 'ada__learning_rat...           0.492047   \n",
       "1  {'ada__algorithm': 'SAMME', 'ada__learning_rat...           0.621421   \n",
       "2  {'ada__algorithm': 'SAMME', 'ada__learning_rat...           0.760339   \n",
       "3  {'ada__algorithm': 'SAMME.R', 'ada__learning_r...           0.654295   \n",
       "4  {'ada__algorithm': 'SAMME.R', 'ada__learning_r...           0.735949   \n",
       "5  {'ada__algorithm': 'SAMME.R', 'ada__learning_r...           0.757158   \n",
       "\n",
       "   split1_test_score  split2_test_score  split3_test_score  split4_test_score  \\\n",
       "0           0.490446           0.493631           0.488323           0.493631   \n",
       "1           0.596603           0.607219           0.615711           0.591295   \n",
       "2           0.745223           0.757962           0.754777           0.763270   \n",
       "3           0.644374           0.661359           0.663482           0.658174   \n",
       "4           0.725053           0.726115           0.747346           0.751592   \n",
       "5           0.751592           0.754777           0.764331           0.761146   \n",
       "\n",
       "   mean_test_score  std_test_score  rank_test_score  \n",
       "0         0.491615        0.002026                6  \n",
       "1         0.606450        0.011288                5  \n",
       "2         0.756314        0.006208                2  \n",
       "3         0.656337        0.006737                4  \n",
       "4         0.737211        0.010790                3  \n",
       "5         0.757801        0.004515                1  "
      ]
     },
     "execution_count": 78,
     "metadata": {},
     "output_type": "execute_result"
    }
   ],
   "source": [
    "pd.DataFrame(data=grid.cv_results_,columns=grid.cv_results_.keys())"
   ]
  },
  {
   "cell_type": "markdown",
   "metadata": {},
   "source": [
    "### Displaying the confusion matrix and classification report"
   ]
  },
  {
   "cell_type": "code",
   "execution_count": null,
   "metadata": {},
   "outputs": [],
   "source": []
  },
  {
   "cell_type": "code",
   "execution_count": 79,
   "metadata": {},
   "outputs": [],
   "source": [
    "from sklearn.metrics import confusion_matrix,classification_report"
   ]
  },
  {
   "cell_type": "code",
   "execution_count": 80,
   "metadata": {},
   "outputs": [],
   "source": [
    "grid_pred = grid.predict(X_test)"
   ]
  },
  {
   "cell_type": "code",
   "execution_count": 81,
   "metadata": {},
   "outputs": [
    {
     "data": {
      "text/plain": [
       "array([[1317,  387],\n",
       "       [ 179,  438]], dtype=int64)"
      ]
     },
     "execution_count": 81,
     "metadata": {},
     "output_type": "execute_result"
    }
   ],
   "source": [
    "confusion_matrix(y_test,grid_pred)"
   ]
  },
  {
   "cell_type": "code",
   "execution_count": 82,
   "metadata": {},
   "outputs": [
    {
     "name": "stdout",
     "output_type": "stream",
     "text": [
      "              precision    recall  f1-score   support\n",
      "\n",
      "           0       0.88      0.77      0.82      1704\n",
      "           1       0.53      0.71      0.61       617\n",
      "\n",
      "    accuracy                           0.76      2321\n",
      "   macro avg       0.71      0.74      0.72      2321\n",
      "weighted avg       0.79      0.76      0.77      2321\n",
      "\n"
     ]
    }
   ],
   "source": [
    "print(classification_report(y_test,grid_pred))"
   ]
  },
  {
   "cell_type": "code",
   "execution_count": 83,
   "metadata": {},
   "outputs": [
    {
     "data": {
      "text/plain": [
       "<sklearn.metrics._plot.confusion_matrix.ConfusionMatrixDisplay at 0x1cd7c36af60>"
      ]
     },
     "execution_count": 83,
     "metadata": {},
     "output_type": "execute_result"
    },
    {
     "data": {
      "image/png": "[encoded data removed]",
      "text/plain": [
       "<Figure size 432x288 with 2 Axes>"
      ]
     },
     "metadata": {
      "needs_background": "light"
     },
     "output_type": "display_data"
    }
   ],
   "source": [
    "plot_confusion_matrix(grid,X_test,y_test)"
   ]
  },
  {
   "cell_type": "markdown",
   "metadata": {},
   "source": [
    "f1 score for churn = no is 0.82 which is good and it is almost predicting 1317/(387+1317) negative samples correctly and predictign 387 outof 387+1317 wrong.\n",
    "but for churn=yes f1 score =0.61 which is a bit less and it is predicintg 438 outof (438+179) samples correctly and predicitng \n",
    "remaining 179 samples wrong."
   ]
  },
  {
   "cell_type": "markdown",
   "metadata": {},
   "source": [
    "## Training with best params"
   ]
  },
  {
   "cell_type": "code",
   "execution_count": 84,
   "metadata": {},
   "outputs": [
    {
     "data": {
      "text/plain": [
       "{'ada__algorithm': 'SAMME.R', 'ada__learning_rate': 1}"
      ]
     },
     "execution_count": 84,
     "metadata": {},
     "output_type": "execute_result"
    }
   ],
   "source": [
    "grid.best_params_"
   ]
  },
  {
   "cell_type": "code",
   "execution_count": 86,
   "metadata": {},
   "outputs": [],
   "source": [
    "pipeLine=Pipeline([('smote',SMOTE(random_state=42)),('scaler',StandardScaler()),('ada',AdaBoostClassifier(learning_rate=1,algorithm='SAMME.R'))])\n",
    "\n",
    "param_grid = {'ada__learning_rate':[1],'ada__algorithm':['SAMME.R']}\n"
   ]
  },
  {
   "cell_type": "code",
   "execution_count": null,
   "metadata": {},
   "outputs": [],
   "source": []
  },
  {
   "cell_type": "code",
   "execution_count": 87,
   "metadata": {},
   "outputs": [
    {
     "data": {
      "text/plain": [
       "Pipeline(steps=[('smote', SMOTE(random_state=42)), ('scaler', StandardScaler()),\n",
       "                ('ada', AdaBoostClassifier(learning_rate=1))])"
      ]
     },
     "execution_count": 87,
     "metadata": {},
     "output_type": "execute_result"
    }
   ],
   "source": [
    "Final_model=pipeLine\n",
    "Final_model.fit(X_train,y_train)\n"
   ]
  },
  {
   "cell_type": "code",
   "execution_count": 88,
   "metadata": {},
   "outputs": [
    {
     "name": "stdout",
     "output_type": "stream",
     "text": [
      "0.7561395950021542\n"
     ]
    }
   ],
   "source": [
    "\n",
    "pred=Final_model.predict(X_test)\n",
    "accuracyScore=accuracy_score(y_test,pred)\n",
    "print(accuracyScore)"
   ]
  },
  {
   "cell_type": "markdown",
   "metadata": {},
   "source": [
    "final accuracy achieved is 75.6% with Ada Boost Classifier"
   ]
  },
  {
   "cell_type": "code",
   "execution_count": 89,
   "metadata": {},
   "outputs": [
    {
     "name": "stdout",
     "output_type": "stream",
     "text": [
      "              precision    recall  f1-score   support\n",
      "\n",
      "           0       0.88      0.77      0.82      1704\n",
      "           1       0.53      0.71      0.61       617\n",
      "\n",
      "    accuracy                           0.76      2321\n",
      "   macro avg       0.71      0.74      0.72      2321\n",
      "weighted avg       0.79      0.76      0.77      2321\n",
      "\n"
     ]
    }
   ],
   "source": [
    "print(classification_report(y_test,pred))"
   ]
  },
  {
   "cell_type": "markdown",
   "metadata": {},
   "source": [
    "## plotting AUC ROC CURVE"
   ]
  },
  {
   "cell_type": "code",
   "execution_count": 90,
   "metadata": {},
   "outputs": [
    {
     "data": {
      "text/plain": [
       "<sklearn.metrics._plot.roc_curve.RocCurveDisplay at 0x1cd05f29b00>"
      ]
     },
     "execution_count": 90,
     "metadata": {},
     "output_type": "execute_result"
    },
    {
     "data": {
      "image/png": "[encoded data removed]",
      "text/plain": [
       "<Figure size 432x288 with 1 Axes>"
      ]
     },
     "metadata": {
      "needs_background": "light"
     },
     "output_type": "display_data"
    }
   ],
   "source": [
    "plot_roc_curve(Final_model,X_test,y_test)"
   ]
  },
  {
   "cell_type": "markdown",
   "metadata": {},
   "source": [
    "AUC-ROC Curve area is 0.83 which is good."
   ]
  },
  {
   "cell_type": "markdown",
   "metadata": {},
   "source": [
    "## saving the model\n"
   ]
  },
  {
   "cell_type": "code",
   "execution_count": 91,
   "metadata": {},
   "outputs": [
    {
     "data": {
      "text/plain": [
       "['Customer_Churn_Analysis_Classification.pkl']"
      ]
     },
     "execution_count": 91,
     "metadata": {},
     "output_type": "execute_result"
    }
   ],
   "source": [
    "import joblib\n",
    "joblib.dump(Final_model,\"Customer_Churn_Analysis_Classification.pkl\")"
   ]
  },
  {
   "cell_type": "code",
   "execution_count": null,
   "metadata": {},
   "outputs": [],
   "source": []
  }
 ],
 "metadata": {
  "anaconda-cloud": {},
  "kernelspec": {
   "display_name": "Python 3",
   "language": "python",
   "name": "python3"
  },
  "language_info": {
   "codemirror_mode": {
    "name": "ipython",
    "version": 3
   },
   "file_extension": ".py",
   "mimetype": "text/x-python",
   "name": "python",
   "nbconvert_exporter": "python",
   "pygments_lexer": "ipython3",
   "version": "3.7.3"
  }
 },
 "nbformat": 4,
 "nbformat_minor": 1
}
