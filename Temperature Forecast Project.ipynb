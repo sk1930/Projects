{
 "cells": [
  {
   "cell_type": "markdown",
   "metadata": {},
   "source": [
    "Temperature Forecast Project using ML\n",
    "Problem Statement:\n",
    "Data Set Information:\n",
    "\n",
    "This data is for the purpose of bias correction of next-day maximum and minimum air temperatures forecast of the LDAPS model operated by the Korea Meteorological Administration over Seoul, South Korea. This data consists of summer data from 2013 to 2017. The input data is largely composed of the LDAPS model's next-day forecast data, in-situ maximum and minimum temperatures of present-day, and geographic auxiliary variables. There are two outputs (i.e. next-day maximum and minimum air temperatures) in this data. Hindcast validation was conducted for the period from 2015 to 2017.\n",
    "\n",
    "\n",
    "Attribute Information:\n",
    "\n",
    "For more information, read [Cho et al, 2020].\n",
    "1. station - used weather station number: 1 to 25\n",
    "2. Date - Present day: yyyy-mm-dd ('2013-06-30' to '2017-08-30')\n",
    "3. Present_Tmax - Maximum air temperature between 0 and 21 h on the present day (Â°C): 20 to 37.6\n",
    "4. Present_Tmin - Minimum air temperature between 0 and 21 h on the present day (Â°C): 11.3 to 29.9\n",
    "5. LDAPS_RHmin - LDAPS model forecast of next-day minimum relative humidity (%): 19.8 to 98.5\n",
    "6. LDAPS_RHmax - LDAPS model forecast of next-day maximum relative humidity (%): 58.9 to 100\n",
    "7. LDAPS_Tmax_lapse - LDAPS model forecast of next-day maximum air temperature applied lapse rate (Â°C): 17.6 to 38.5\n",
    "8. LDAPS_Tmin_lapse - LDAPS model forecast of next-day minimum air temperature applied lapse rate (Â°C): 14.3 to 29.6\n",
    "9. LDAPS_WS - LDAPS model forecast of next-day average wind speed (m/s): 2.9 to 21.9\n",
    "10. LDAPS_LH - LDAPS model forecast of next-day average latent heat flux (W/m2): -13.6 to 213.4\n",
    "11. LDAPS_CC1 - LDAPS model forecast of next-day 1st 6-hour split average cloud cover (0-5 h) (%): 0 to 0.97\n",
    "12. LDAPS_CC2 - LDAPS model forecast of next-day 2nd 6-hour split average cloud cover (6-11 h) (%): 0 to 0.97\n",
    "13. LDAPS_CC3 - LDAPS model forecast of next-day 3rd 6-hour split average cloud cover (12-17 h) (%): 0 to 0.98\n",
    "14. LDAPS_CC4 - LDAPS model forecast of next-day 4th 6-hour split average cloud cover (18-23 h) (%): 0 to 0.97\n",
    "15. LDAPS_PPT1 - LDAPS model forecast of next-day 1st 6-hour split average precipitation (0-5 h) (%): 0 to 23.7\n",
    "16. LDAPS_PPT2 - LDAPS model forecast of next-day 2nd 6-hour split average precipitation (6-11 h) (%): 0 to 21.6\n",
    "17. LDAPS_PPT3 - LDAPS model forecast of next-day 3rd 6-hour split average precipitation (12-17 h) (%): 0 to 15.8\n",
    "18. LDAPS_PPT4 - LDAPS model forecast of next-day 4th 6-hour split average precipitation (18-23 h) (%): 0 to 16.7\n",
    "19. lat - Latitude (Â°): 37.456 to 37.645\n",
    "20. lon - Longitude (Â°): 126.826 to 127.135\n",
    "21. DEM - Elevation (m): 12.4 to 212.3\n",
    "22. Slope - Slope (Â°): 0.1 to 5.2\n",
    "23. Solar radiation - Daily incoming solar radiation (wh/m2): 4329.5 to 5992.9\n",
    "24. Next_Tmax - The next-day maximum air temperature (Â°C): 17.4 to 38.9\n",
    "25. Next_Tmin - The next-day minimum air temperature (Â°C): 11.3 to 29.8T\n",
    "\n",
    "Please note that there are two target variables here: \n",
    "\n",
    "1) Next_Tmax: Next day maximum temperature\n",
    "\n",
    "2) Next_Tmin: Next day  minimum temperature\n",
    "\n",
    "\n",
    "\n",
    "Note: Use the link below to download the dataset. \n",
    "\n",
    "Downlaod Files:\n",
    "https://github.com/dsrscientist/Dataset2/blob/main/temperature.csv\n"
   ]
  },
  {
   "cell_type": "code",
   "execution_count": 1,
   "metadata": {},
   "outputs": [],
   "source": [
    "import numpy as np\n",
    "import pandas as pd\n",
    "\n",
    "import matplotlib.pyplot as plt\n",
    "import seaborn as sns\n",
    "\n",
    "\n",
    "from sklearn.decomposition import PCA\n",
    "from sklearn.model_selection import train_test_split\n",
    "from sklearn.linear_model import LinearRegression\n",
    "from sklearn.svm import SVR\n",
    "from sklearn.linear_model import SGDRegressor\n",
    "from sklearn.neighbors import KNeighborsRegressor\n",
    "from sklearn.linear_model import ElasticNetCV\n",
    "\n",
    "\n",
    "from sklearn.metrics import accuracy_score,classification_report\n",
    "from sklearn.metrics import mean_squared_error\n",
    "\n",
    "from sklearn.metrics import r2_score\n",
    "\n",
    "\n",
    "from sklearn.model_selection import cross_val_score\n",
    "from sklearn.model_selection import GridSearchCV\n",
    "\n",
    "from sklearn.compose import ColumnTransformer\n",
    "\n",
    "from sklearn.preprocessing import StandardScaler\n",
    "\n",
    "import warnings\n",
    "warnings.filterwarnings(\"ignore\")\n",
    "\n",
    "from scipy.stats import zscore\n",
    "from scipy import stats"
   ]
  },
  {
   "cell_type": "code",
   "execution_count": null,
   "metadata": {},
   "outputs": [],
   "source": []
  },
  {
   "cell_type": "code",
   "execution_count": 2,
   "metadata": {},
   "outputs": [],
   "source": [
    "#df = pd.read_csv(\"https://raw.githubusercontent.com/dsrscientist/Dataset2/main/temperature.csv\")"
   ]
  },
  {
   "cell_type": "code",
   "execution_count": 3,
   "metadata": {},
   "outputs": [],
   "source": [
    "#df.to_csv(\"Temperature.csv\")"
   ]
  },
  {
   "cell_type": "code",
   "execution_count": 4,
   "metadata": {},
   "outputs": [],
   "source": [
    "df = pd.read_csv(\"Temperature.csv\",index_col=\"Unnamed: 0\")"
   ]
  },
  {
   "cell_type": "code",
   "execution_count": 5,
   "metadata": {},
   "outputs": [
    {
     "data": {
      "text/html": [
       "<div>\n",
       "<style scoped>\n",
       "    .dataframe tbody tr th:only-of-type {\n",
       "        vertical-align: middle;\n",
       "    }\n",
       "\n",
       "    .dataframe tbody tr th {\n",
       "        vertical-align: top;\n",
       "    }\n",
       "\n",
       "    .dataframe thead th {\n",
       "        text-align: right;\n",
       "    }\n",
       "</style>\n",
       "<table border=\"1\" class=\"dataframe\">\n",
       "  <thead>\n",
       "    <tr style=\"text-align: right;\">\n",
       "      <th></th>\n",
       "      <th>station</th>\n",
       "      <th>Date</th>\n",
       "      <th>Present_Tmax</th>\n",
       "      <th>Present_Tmin</th>\n",
       "      <th>LDAPS_RHmin</th>\n",
       "      <th>LDAPS_RHmax</th>\n",
       "      <th>LDAPS_Tmax_lapse</th>\n",
       "      <th>LDAPS_Tmin_lapse</th>\n",
       "      <th>LDAPS_WS</th>\n",
       "      <th>LDAPS_LH</th>\n",
       "      <th>LDAPS_CC1</th>\n",
       "      <th>LDAPS_CC2</th>\n",
       "      <th>LDAPS_CC3</th>\n",
       "      <th>LDAPS_CC4</th>\n",
       "      <th>LDAPS_PPT1</th>\n",
       "      <th>LDAPS_PPT2</th>\n",
       "      <th>LDAPS_PPT3</th>\n",
       "      <th>LDAPS_PPT4</th>\n",
       "      <th>lat</th>\n",
       "      <th>lon</th>\n",
       "      <th>DEM</th>\n",
       "      <th>Slope</th>\n",
       "      <th>Solar radiation</th>\n",
       "      <th>Next_Tmax</th>\n",
       "      <th>Next_Tmin</th>\n",
       "    </tr>\n",
       "  </thead>\n",
       "  <tbody>\n",
       "    <tr>\n",
       "      <th>0</th>\n",
       "      <td>1.0</td>\n",
       "      <td>30-06-2013</td>\n",
       "      <td>28.7</td>\n",
       "      <td>21.4</td>\n",
       "      <td>58.255688</td>\n",
       "      <td>91.116364</td>\n",
       "      <td>28.074101</td>\n",
       "      <td>23.006936</td>\n",
       "      <td>6.818887</td>\n",
       "      <td>69.451805</td>\n",
       "      <td>0.233947</td>\n",
       "      <td>0.203896</td>\n",
       "      <td>0.161697</td>\n",
       "      <td>0.130928</td>\n",
       "      <td>0.0</td>\n",
       "      <td>0.0</td>\n",
       "      <td>0.0</td>\n",
       "      <td>0.0</td>\n",
       "      <td>37.6046</td>\n",
       "      <td>126.991</td>\n",
       "      <td>212.3350</td>\n",
       "      <td>2.7850</td>\n",
       "      <td>5992.895996</td>\n",
       "      <td>29.1</td>\n",
       "      <td>21.2</td>\n",
       "    </tr>\n",
       "    <tr>\n",
       "      <th>1</th>\n",
       "      <td>2.0</td>\n",
       "      <td>30-06-2013</td>\n",
       "      <td>31.9</td>\n",
       "      <td>21.6</td>\n",
       "      <td>52.263397</td>\n",
       "      <td>90.604721</td>\n",
       "      <td>29.850689</td>\n",
       "      <td>24.035009</td>\n",
       "      <td>5.691890</td>\n",
       "      <td>51.937448</td>\n",
       "      <td>0.225508</td>\n",
       "      <td>0.251771</td>\n",
       "      <td>0.159444</td>\n",
       "      <td>0.127727</td>\n",
       "      <td>0.0</td>\n",
       "      <td>0.0</td>\n",
       "      <td>0.0</td>\n",
       "      <td>0.0</td>\n",
       "      <td>37.6046</td>\n",
       "      <td>127.032</td>\n",
       "      <td>44.7624</td>\n",
       "      <td>0.5141</td>\n",
       "      <td>5869.312500</td>\n",
       "      <td>30.5</td>\n",
       "      <td>22.5</td>\n",
       "    </tr>\n",
       "    <tr>\n",
       "      <th>2</th>\n",
       "      <td>3.0</td>\n",
       "      <td>30-06-2013</td>\n",
       "      <td>31.6</td>\n",
       "      <td>23.3</td>\n",
       "      <td>48.690479</td>\n",
       "      <td>83.973587</td>\n",
       "      <td>30.091292</td>\n",
       "      <td>24.565633</td>\n",
       "      <td>6.138224</td>\n",
       "      <td>20.573050</td>\n",
       "      <td>0.209344</td>\n",
       "      <td>0.257469</td>\n",
       "      <td>0.204091</td>\n",
       "      <td>0.142125</td>\n",
       "      <td>0.0</td>\n",
       "      <td>0.0</td>\n",
       "      <td>0.0</td>\n",
       "      <td>0.0</td>\n",
       "      <td>37.5776</td>\n",
       "      <td>127.058</td>\n",
       "      <td>33.3068</td>\n",
       "      <td>0.2661</td>\n",
       "      <td>5863.555664</td>\n",
       "      <td>31.1</td>\n",
       "      <td>23.9</td>\n",
       "    </tr>\n",
       "    <tr>\n",
       "      <th>3</th>\n",
       "      <td>4.0</td>\n",
       "      <td>30-06-2013</td>\n",
       "      <td>32.0</td>\n",
       "      <td>23.4</td>\n",
       "      <td>58.239788</td>\n",
       "      <td>96.483688</td>\n",
       "      <td>29.704629</td>\n",
       "      <td>23.326177</td>\n",
       "      <td>5.650050</td>\n",
       "      <td>65.727144</td>\n",
       "      <td>0.216372</td>\n",
       "      <td>0.226002</td>\n",
       "      <td>0.161157</td>\n",
       "      <td>0.134249</td>\n",
       "      <td>0.0</td>\n",
       "      <td>0.0</td>\n",
       "      <td>0.0</td>\n",
       "      <td>0.0</td>\n",
       "      <td>37.6450</td>\n",
       "      <td>127.022</td>\n",
       "      <td>45.7160</td>\n",
       "      <td>2.5348</td>\n",
       "      <td>5856.964844</td>\n",
       "      <td>31.7</td>\n",
       "      <td>24.3</td>\n",
       "    </tr>\n",
       "    <tr>\n",
       "      <th>4</th>\n",
       "      <td>5.0</td>\n",
       "      <td>30-06-2013</td>\n",
       "      <td>31.4</td>\n",
       "      <td>21.9</td>\n",
       "      <td>56.174095</td>\n",
       "      <td>90.155128</td>\n",
       "      <td>29.113934</td>\n",
       "      <td>23.486480</td>\n",
       "      <td>5.735004</td>\n",
       "      <td>107.965535</td>\n",
       "      <td>0.151407</td>\n",
       "      <td>0.249995</td>\n",
       "      <td>0.178892</td>\n",
       "      <td>0.170021</td>\n",
       "      <td>0.0</td>\n",
       "      <td>0.0</td>\n",
       "      <td>0.0</td>\n",
       "      <td>0.0</td>\n",
       "      <td>37.5507</td>\n",
       "      <td>127.135</td>\n",
       "      <td>35.0380</td>\n",
       "      <td>0.5055</td>\n",
       "      <td>5859.552246</td>\n",
       "      <td>31.2</td>\n",
       "      <td>22.5</td>\n",
       "    </tr>\n",
       "  </tbody>\n",
       "</table>\n",
       "</div>"
      ],
      "text/plain": [
       "   station        Date  Present_Tmax  Present_Tmin  LDAPS_RHmin  LDAPS_RHmax  \\\n",
       "0      1.0  30-06-2013          28.7          21.4    58.255688    91.116364   \n",
       "1      2.0  30-06-2013          31.9          21.6    52.263397    90.604721   \n",
       "2      3.0  30-06-2013          31.6          23.3    48.690479    83.973587   \n",
       "3      4.0  30-06-2013          32.0          23.4    58.239788    96.483688   \n",
       "4      5.0  30-06-2013          31.4          21.9    56.174095    90.155128   \n",
       "\n",
       "   LDAPS_Tmax_lapse  LDAPS_Tmin_lapse  LDAPS_WS    LDAPS_LH  LDAPS_CC1  \\\n",
       "0         28.074101         23.006936  6.818887   69.451805   0.233947   \n",
       "1         29.850689         24.035009  5.691890   51.937448   0.225508   \n",
       "2         30.091292         24.565633  6.138224   20.573050   0.209344   \n",
       "3         29.704629         23.326177  5.650050   65.727144   0.216372   \n",
       "4         29.113934         23.486480  5.735004  107.965535   0.151407   \n",
       "\n",
       "   LDAPS_CC2  LDAPS_CC3  LDAPS_CC4  LDAPS_PPT1  LDAPS_PPT2  LDAPS_PPT3  \\\n",
       "0   0.203896   0.161697   0.130928         0.0         0.0         0.0   \n",
       "1   0.251771   0.159444   0.127727         0.0         0.0         0.0   \n",
       "2   0.257469   0.204091   0.142125         0.0         0.0         0.0   \n",
       "3   0.226002   0.161157   0.134249         0.0         0.0         0.0   \n",
       "4   0.249995   0.178892   0.170021         0.0         0.0         0.0   \n",
       "\n",
       "   LDAPS_PPT4      lat      lon       DEM   Slope  Solar radiation  Next_Tmax  \\\n",
       "0         0.0  37.6046  126.991  212.3350  2.7850      5992.895996       29.1   \n",
       "1         0.0  37.6046  127.032   44.7624  0.5141      5869.312500       30.5   \n",
       "2         0.0  37.5776  127.058   33.3068  0.2661      5863.555664       31.1   \n",
       "3         0.0  37.6450  127.022   45.7160  2.5348      5856.964844       31.7   \n",
       "4         0.0  37.5507  127.135   35.0380  0.5055      5859.552246       31.2   \n",
       "\n",
       "   Next_Tmin  \n",
       "0       21.2  \n",
       "1       22.5  \n",
       "2       23.9  \n",
       "3       24.3  \n",
       "4       22.5  "
      ]
     },
     "execution_count": 5,
     "metadata": {},
     "output_type": "execute_result"
    }
   ],
   "source": [
    "pd.set_option('display.max_columns',None)\n",
    "df.head()"
   ]
  },
  {
   "cell_type": "code",
   "execution_count": 6,
   "metadata": {},
   "outputs": [
    {
     "data": {
      "text/plain": [
       "(7752, 25)"
      ]
     },
     "execution_count": 6,
     "metadata": {},
     "output_type": "execute_result"
    }
   ],
   "source": [
    "df.shape"
   ]
  },
  {
   "cell_type": "markdown",
   "metadata": {},
   "source": [
    "(7752, 25) is the shape of the dataset"
   ]
  },
  {
   "cell_type": "code",
   "execution_count": 7,
   "metadata": {},
   "outputs": [
    {
     "data": {
      "text/plain": [
       "Index(['station', 'Date', 'Present_Tmax', 'Present_Tmin', 'LDAPS_RHmin',\n",
       "       'LDAPS_RHmax', 'LDAPS_Tmax_lapse', 'LDAPS_Tmin_lapse', 'LDAPS_WS',\n",
       "       'LDAPS_LH', 'LDAPS_CC1', 'LDAPS_CC2', 'LDAPS_CC3', 'LDAPS_CC4',\n",
       "       'LDAPS_PPT1', 'LDAPS_PPT2', 'LDAPS_PPT3', 'LDAPS_PPT4', 'lat', 'lon',\n",
       "       'DEM', 'Slope', 'Solar radiation', 'Next_Tmax', 'Next_Tmin'],\n",
       "      dtype='object')"
      ]
     },
     "execution_count": 7,
     "metadata": {},
     "output_type": "execute_result"
    }
   ],
   "source": [
    "df.columns"
   ]
  },
  {
   "cell_type": "markdown",
   "metadata": {},
   "source": [
    "Next_Tmax and NextTmin are target columns so this is a regression problem"
   ]
  },
  {
   "cell_type": "code",
   "execution_count": 8,
   "metadata": {},
   "outputs": [
    {
     "name": "stdout",
     "output_type": "stream",
     "text": [
      "<class 'pandas.core.frame.DataFrame'>\n",
      "Int64Index: 7752 entries, 0 to 7751\n",
      "Data columns (total 25 columns):\n",
      " #   Column            Non-Null Count  Dtype  \n",
      "---  ------            --------------  -----  \n",
      " 0   station           7750 non-null   float64\n",
      " 1   Date              7750 non-null   object \n",
      " 2   Present_Tmax      7682 non-null   float64\n",
      " 3   Present_Tmin      7682 non-null   float64\n",
      " 4   LDAPS_RHmin       7677 non-null   float64\n",
      " 5   LDAPS_RHmax       7677 non-null   float64\n",
      " 6   LDAPS_Tmax_lapse  7677 non-null   float64\n",
      " 7   LDAPS_Tmin_lapse  7677 non-null   float64\n",
      " 8   LDAPS_WS          7677 non-null   float64\n",
      " 9   LDAPS_LH          7677 non-null   float64\n",
      " 10  LDAPS_CC1         7677 non-null   float64\n",
      " 11  LDAPS_CC2         7677 non-null   float64\n",
      " 12  LDAPS_CC3         7677 non-null   float64\n",
      " 13  LDAPS_CC4         7677 non-null   float64\n",
      " 14  LDAPS_PPT1        7677 non-null   float64\n",
      " 15  LDAPS_PPT2        7677 non-null   float64\n",
      " 16  LDAPS_PPT3        7677 non-null   float64\n",
      " 17  LDAPS_PPT4        7677 non-null   float64\n",
      " 18  lat               7752 non-null   float64\n",
      " 19  lon               7752 non-null   float64\n",
      " 20  DEM               7752 non-null   float64\n",
      " 21  Slope             7752 non-null   float64\n",
      " 22  Solar radiation   7752 non-null   float64\n",
      " 23  Next_Tmax         7725 non-null   float64\n",
      " 24  Next_Tmin         7725 non-null   float64\n",
      "dtypes: float64(24), object(1)\n",
      "memory usage: 1.5+ MB\n"
     ]
    }
   ],
   "source": [
    "df.info()"
   ]
  },
  {
   "cell_type": "markdown",
   "metadata": {},
   "source": [
    "There is a lot of missing data in many features"
   ]
  },
  {
   "cell_type": "code",
   "execution_count": 9,
   "metadata": {},
   "outputs": [
    {
     "data": {
      "text/plain": [
       "station              2\n",
       "Date                 2\n",
       "Present_Tmax        70\n",
       "Present_Tmin        70\n",
       "LDAPS_RHmin         75\n",
       "LDAPS_RHmax         75\n",
       "LDAPS_Tmax_lapse    75\n",
       "LDAPS_Tmin_lapse    75\n",
       "LDAPS_WS            75\n",
       "LDAPS_LH            75\n",
       "LDAPS_CC1           75\n",
       "LDAPS_CC2           75\n",
       "LDAPS_CC3           75\n",
       "LDAPS_CC4           75\n",
       "LDAPS_PPT1          75\n",
       "LDAPS_PPT2          75\n",
       "LDAPS_PPT3          75\n",
       "LDAPS_PPT4          75\n",
       "lat                  0\n",
       "lon                  0\n",
       "DEM                  0\n",
       "Slope                0\n",
       "Solar radiation      0\n",
       "Next_Tmax           27\n",
       "Next_Tmin           27\n",
       "dtype: int64"
      ]
     },
     "execution_count": 9,
     "metadata": {},
     "output_type": "execute_result"
    }
   ],
   "source": [
    "df.isnull().sum()"
   ]
  },
  {
   "cell_type": "code",
   "execution_count": 10,
   "metadata": {},
   "outputs": [],
   "source": [
    "df1=df.copy()"
   ]
  },
  {
   "cell_type": "code",
   "execution_count": 11,
   "metadata": {},
   "outputs": [],
   "source": [
    "df.dropna(inplace=True)"
   ]
  },
  {
   "cell_type": "code",
   "execution_count": 12,
   "metadata": {},
   "outputs": [
    {
     "data": {
      "text/plain": [
       "(7588, 25)"
      ]
     },
     "execution_count": 12,
     "metadata": {},
     "output_type": "execute_result"
    }
   ],
   "source": [
    "df.shape"
   ]
  },
  {
   "cell_type": "code",
   "execution_count": 13,
   "metadata": {},
   "outputs": [
    {
     "data": {
      "text/plain": [
       "0.9788441692466461"
      ]
     },
     "execution_count": 13,
     "metadata": {},
     "output_type": "execute_result"
    }
   ],
   "source": [
    "7588/7752"
   ]
  },
  {
   "cell_type": "markdown",
   "metadata": {},
   "source": [
    "By dropping all the rows with missing values we still retain 97.8 % of data so its ok in dropping the rows with missing values"
   ]
  },
  {
   "cell_type": "code",
   "execution_count": 14,
   "metadata": {},
   "outputs": [
    {
     "data": {
      "text/html": [
       "<div>\n",
       "<style scoped>\n",
       "    .dataframe tbody tr th:only-of-type {\n",
       "        vertical-align: middle;\n",
       "    }\n",
       "\n",
       "    .dataframe tbody tr th {\n",
       "        vertical-align: top;\n",
       "    }\n",
       "\n",
       "    .dataframe thead th {\n",
       "        text-align: right;\n",
       "    }\n",
       "</style>\n",
       "<table border=\"1\" class=\"dataframe\">\n",
       "  <thead>\n",
       "    <tr style=\"text-align: right;\">\n",
       "      <th></th>\n",
       "      <th>station</th>\n",
       "      <th>Present_Tmax</th>\n",
       "      <th>Present_Tmin</th>\n",
       "      <th>LDAPS_RHmin</th>\n",
       "      <th>LDAPS_RHmax</th>\n",
       "      <th>LDAPS_Tmax_lapse</th>\n",
       "      <th>LDAPS_Tmin_lapse</th>\n",
       "      <th>LDAPS_WS</th>\n",
       "      <th>LDAPS_LH</th>\n",
       "      <th>LDAPS_CC1</th>\n",
       "      <th>LDAPS_CC2</th>\n",
       "      <th>LDAPS_CC3</th>\n",
       "      <th>LDAPS_CC4</th>\n",
       "      <th>LDAPS_PPT1</th>\n",
       "      <th>LDAPS_PPT2</th>\n",
       "      <th>LDAPS_PPT3</th>\n",
       "      <th>LDAPS_PPT4</th>\n",
       "      <th>lat</th>\n",
       "      <th>lon</th>\n",
       "      <th>DEM</th>\n",
       "      <th>Slope</th>\n",
       "      <th>Solar radiation</th>\n",
       "      <th>Next_Tmax</th>\n",
       "      <th>Next_Tmin</th>\n",
       "    </tr>\n",
       "  </thead>\n",
       "  <tbody>\n",
       "    <tr>\n",
       "      <th>count</th>\n",
       "      <td>7588.000000</td>\n",
       "      <td>7588.000000</td>\n",
       "      <td>7588.000000</td>\n",
       "      <td>7588.000000</td>\n",
       "      <td>7588.000000</td>\n",
       "      <td>7588.000000</td>\n",
       "      <td>7588.000000</td>\n",
       "      <td>7588.000000</td>\n",
       "      <td>7588.000000</td>\n",
       "      <td>7588.000000</td>\n",
       "      <td>7588.000000</td>\n",
       "      <td>7588.000000</td>\n",
       "      <td>7588.000000</td>\n",
       "      <td>7588.000000</td>\n",
       "      <td>7588.000000</td>\n",
       "      <td>7588.000000</td>\n",
       "      <td>7588.000000</td>\n",
       "      <td>7588.000000</td>\n",
       "      <td>7588.00000</td>\n",
       "      <td>7588.000000</td>\n",
       "      <td>7588.000000</td>\n",
       "      <td>7588.000000</td>\n",
       "      <td>7588.000000</td>\n",
       "      <td>7588.000000</td>\n",
       "    </tr>\n",
       "    <tr>\n",
       "      <th>mean</th>\n",
       "      <td>13.014101</td>\n",
       "      <td>29.748366</td>\n",
       "      <td>23.195809</td>\n",
       "      <td>56.724969</td>\n",
       "      <td>88.360823</td>\n",
       "      <td>29.620128</td>\n",
       "      <td>23.511786</td>\n",
       "      <td>7.094097</td>\n",
       "      <td>62.492606</td>\n",
       "      <td>0.368510</td>\n",
       "      <td>0.355528</td>\n",
       "      <td>0.317546</td>\n",
       "      <td>0.298268</td>\n",
       "      <td>0.589008</td>\n",
       "      <td>0.480738</td>\n",
       "      <td>0.275007</td>\n",
       "      <td>0.265373</td>\n",
       "      <td>37.544792</td>\n",
       "      <td>126.99142</td>\n",
       "      <td>61.918136</td>\n",
       "      <td>1.259755</td>\n",
       "      <td>5343.724208</td>\n",
       "      <td>30.241526</td>\n",
       "      <td>22.910820</td>\n",
       "    </tr>\n",
       "    <tr>\n",
       "      <th>std</th>\n",
       "      <td>7.217858</td>\n",
       "      <td>2.967401</td>\n",
       "      <td>2.400880</td>\n",
       "      <td>14.626559</td>\n",
       "      <td>7.199456</td>\n",
       "      <td>2.943496</td>\n",
       "      <td>2.342579</td>\n",
       "      <td>2.177034</td>\n",
       "      <td>33.686158</td>\n",
       "      <td>0.262260</td>\n",
       "      <td>0.257922</td>\n",
       "      <td>0.249833</td>\n",
       "      <td>0.253392</td>\n",
       "      <td>1.927577</td>\n",
       "      <td>1.743327</td>\n",
       "      <td>1.146087</td>\n",
       "      <td>1.179661</td>\n",
       "      <td>0.050428</td>\n",
       "      <td>0.07922</td>\n",
       "      <td>54.323529</td>\n",
       "      <td>1.372748</td>\n",
       "      <td>429.782561</td>\n",
       "      <td>3.111807</td>\n",
       "      <td>2.482256</td>\n",
       "    </tr>\n",
       "    <tr>\n",
       "      <th>min</th>\n",
       "      <td>1.000000</td>\n",
       "      <td>20.000000</td>\n",
       "      <td>11.300000</td>\n",
       "      <td>19.794666</td>\n",
       "      <td>58.936283</td>\n",
       "      <td>17.624954</td>\n",
       "      <td>14.272646</td>\n",
       "      <td>2.882580</td>\n",
       "      <td>-13.603212</td>\n",
       "      <td>0.000000</td>\n",
       "      <td>0.000000</td>\n",
       "      <td>0.000000</td>\n",
       "      <td>0.000000</td>\n",
       "      <td>0.000000</td>\n",
       "      <td>0.000000</td>\n",
       "      <td>0.000000</td>\n",
       "      <td>0.000000</td>\n",
       "      <td>37.456200</td>\n",
       "      <td>126.82600</td>\n",
       "      <td>12.370000</td>\n",
       "      <td>0.098500</td>\n",
       "      <td>4329.520508</td>\n",
       "      <td>17.400000</td>\n",
       "      <td>11.300000</td>\n",
       "    </tr>\n",
       "    <tr>\n",
       "      <th>25%</th>\n",
       "      <td>7.000000</td>\n",
       "      <td>27.800000</td>\n",
       "      <td>21.600000</td>\n",
       "      <td>45.960243</td>\n",
       "      <td>84.203724</td>\n",
       "      <td>27.673756</td>\n",
       "      <td>22.086820</td>\n",
       "      <td>5.675358</td>\n",
       "      <td>37.206201</td>\n",
       "      <td>0.146546</td>\n",
       "      <td>0.140324</td>\n",
       "      <td>0.100950</td>\n",
       "      <td>0.081495</td>\n",
       "      <td>0.000000</td>\n",
       "      <td>0.000000</td>\n",
       "      <td>0.000000</td>\n",
       "      <td>0.000000</td>\n",
       "      <td>37.510200</td>\n",
       "      <td>126.93700</td>\n",
       "      <td>28.700000</td>\n",
       "      <td>0.271300</td>\n",
       "      <td>5001.485717</td>\n",
       "      <td>28.200000</td>\n",
       "      <td>21.300000</td>\n",
       "    </tr>\n",
       "    <tr>\n",
       "      <th>50%</th>\n",
       "      <td>13.000000</td>\n",
       "      <td>29.900000</td>\n",
       "      <td>23.400000</td>\n",
       "      <td>55.023199</td>\n",
       "      <td>89.784122</td>\n",
       "      <td>29.709537</td>\n",
       "      <td>23.758249</td>\n",
       "      <td>6.547838</td>\n",
       "      <td>56.898324</td>\n",
       "      <td>0.315706</td>\n",
       "      <td>0.311676</td>\n",
       "      <td>0.261795</td>\n",
       "      <td>0.227459</td>\n",
       "      <td>0.000000</td>\n",
       "      <td>0.000000</td>\n",
       "      <td>0.000000</td>\n",
       "      <td>0.000000</td>\n",
       "      <td>37.550700</td>\n",
       "      <td>126.99500</td>\n",
       "      <td>45.716000</td>\n",
       "      <td>0.618000</td>\n",
       "      <td>5441.987305</td>\n",
       "      <td>30.400000</td>\n",
       "      <td>23.100000</td>\n",
       "    </tr>\n",
       "    <tr>\n",
       "      <th>75%</th>\n",
       "      <td>19.000000</td>\n",
       "      <td>32.000000</td>\n",
       "      <td>24.800000</td>\n",
       "      <td>67.115099</td>\n",
       "      <td>93.742725</td>\n",
       "      <td>31.711109</td>\n",
       "      <td>25.155660</td>\n",
       "      <td>8.028960</td>\n",
       "      <td>84.235666</td>\n",
       "      <td>0.574174</td>\n",
       "      <td>0.557164</td>\n",
       "      <td>0.496444</td>\n",
       "      <td>0.498127</td>\n",
       "      <td>0.052594</td>\n",
       "      <td>0.017735</td>\n",
       "      <td>0.007855</td>\n",
       "      <td>0.000017</td>\n",
       "      <td>37.577600</td>\n",
       "      <td>127.04200</td>\n",
       "      <td>59.832400</td>\n",
       "      <td>1.767800</td>\n",
       "      <td>5729.485840</td>\n",
       "      <td>32.600000</td>\n",
       "      <td>24.600000</td>\n",
       "    </tr>\n",
       "    <tr>\n",
       "      <th>max</th>\n",
       "      <td>25.000000</td>\n",
       "      <td>37.600000</td>\n",
       "      <td>29.900000</td>\n",
       "      <td>98.524734</td>\n",
       "      <td>100.000153</td>\n",
       "      <td>38.542255</td>\n",
       "      <td>29.619342</td>\n",
       "      <td>21.857621</td>\n",
       "      <td>213.414006</td>\n",
       "      <td>0.967277</td>\n",
       "      <td>0.968353</td>\n",
       "      <td>0.983789</td>\n",
       "      <td>0.974710</td>\n",
       "      <td>23.701544</td>\n",
       "      <td>21.621661</td>\n",
       "      <td>15.841235</td>\n",
       "      <td>16.655469</td>\n",
       "      <td>37.645000</td>\n",
       "      <td>127.13500</td>\n",
       "      <td>212.335000</td>\n",
       "      <td>5.178200</td>\n",
       "      <td>5992.895996</td>\n",
       "      <td>38.900000</td>\n",
       "      <td>29.800000</td>\n",
       "    </tr>\n",
       "  </tbody>\n",
       "</table>\n",
       "</div>"
      ],
      "text/plain": [
       "           station  Present_Tmax  Present_Tmin  LDAPS_RHmin  LDAPS_RHmax  \\\n",
       "count  7588.000000   7588.000000   7588.000000  7588.000000  7588.000000   \n",
       "mean     13.014101     29.748366     23.195809    56.724969    88.360823   \n",
       "std       7.217858      2.967401      2.400880    14.626559     7.199456   \n",
       "min       1.000000     20.000000     11.300000    19.794666    58.936283   \n",
       "25%       7.000000     27.800000     21.600000    45.960243    84.203724   \n",
       "50%      13.000000     29.900000     23.400000    55.023199    89.784122   \n",
       "75%      19.000000     32.000000     24.800000    67.115099    93.742725   \n",
       "max      25.000000     37.600000     29.900000    98.524734   100.000153   \n",
       "\n",
       "       LDAPS_Tmax_lapse  LDAPS_Tmin_lapse     LDAPS_WS     LDAPS_LH  \\\n",
       "count       7588.000000       7588.000000  7588.000000  7588.000000   \n",
       "mean          29.620128         23.511786     7.094097    62.492606   \n",
       "std            2.943496          2.342579     2.177034    33.686158   \n",
       "min           17.624954         14.272646     2.882580   -13.603212   \n",
       "25%           27.673756         22.086820     5.675358    37.206201   \n",
       "50%           29.709537         23.758249     6.547838    56.898324   \n",
       "75%           31.711109         25.155660     8.028960    84.235666   \n",
       "max           38.542255         29.619342    21.857621   213.414006   \n",
       "\n",
       "         LDAPS_CC1    LDAPS_CC2    LDAPS_CC3    LDAPS_CC4   LDAPS_PPT1  \\\n",
       "count  7588.000000  7588.000000  7588.000000  7588.000000  7588.000000   \n",
       "mean      0.368510     0.355528     0.317546     0.298268     0.589008   \n",
       "std       0.262260     0.257922     0.249833     0.253392     1.927577   \n",
       "min       0.000000     0.000000     0.000000     0.000000     0.000000   \n",
       "25%       0.146546     0.140324     0.100950     0.081495     0.000000   \n",
       "50%       0.315706     0.311676     0.261795     0.227459     0.000000   \n",
       "75%       0.574174     0.557164     0.496444     0.498127     0.052594   \n",
       "max       0.967277     0.968353     0.983789     0.974710    23.701544   \n",
       "\n",
       "        LDAPS_PPT2   LDAPS_PPT3   LDAPS_PPT4          lat         lon  \\\n",
       "count  7588.000000  7588.000000  7588.000000  7588.000000  7588.00000   \n",
       "mean      0.480738     0.275007     0.265373    37.544792   126.99142   \n",
       "std       1.743327     1.146087     1.179661     0.050428     0.07922   \n",
       "min       0.000000     0.000000     0.000000    37.456200   126.82600   \n",
       "25%       0.000000     0.000000     0.000000    37.510200   126.93700   \n",
       "50%       0.000000     0.000000     0.000000    37.550700   126.99500   \n",
       "75%       0.017735     0.007855     0.000017    37.577600   127.04200   \n",
       "max      21.621661    15.841235    16.655469    37.645000   127.13500   \n",
       "\n",
       "               DEM        Slope  Solar radiation    Next_Tmax    Next_Tmin  \n",
       "count  7588.000000  7588.000000      7588.000000  7588.000000  7588.000000  \n",
       "mean     61.918136     1.259755      5343.724208    30.241526    22.910820  \n",
       "std      54.323529     1.372748       429.782561     3.111807     2.482256  \n",
       "min      12.370000     0.098500      4329.520508    17.400000    11.300000  \n",
       "25%      28.700000     0.271300      5001.485717    28.200000    21.300000  \n",
       "50%      45.716000     0.618000      5441.987305    30.400000    23.100000  \n",
       "75%      59.832400     1.767800      5729.485840    32.600000    24.600000  \n",
       "max     212.335000     5.178200      5992.895996    38.900000    29.800000  "
      ]
     },
     "execution_count": 14,
     "metadata": {},
     "output_type": "execute_result"
    }
   ],
   "source": [
    "df.describe()"
   ]
  },
  {
   "cell_type": "code",
   "execution_count": 15,
   "metadata": {},
   "outputs": [
    {
     "data": {
      "text/html": [
       "<div>\n",
       "<style scoped>\n",
       "    .dataframe tbody tr th:only-of-type {\n",
       "        vertical-align: middle;\n",
       "    }\n",
       "\n",
       "    .dataframe tbody tr th {\n",
       "        vertical-align: top;\n",
       "    }\n",
       "\n",
       "    .dataframe thead th {\n",
       "        text-align: right;\n",
       "    }\n",
       "</style>\n",
       "<table border=\"1\" class=\"dataframe\">\n",
       "  <thead>\n",
       "    <tr style=\"text-align: right;\">\n",
       "      <th></th>\n",
       "      <th>station</th>\n",
       "      <th>Present_Tmax</th>\n",
       "      <th>Present_Tmin</th>\n",
       "      <th>LDAPS_RHmin</th>\n",
       "      <th>LDAPS_RHmax</th>\n",
       "      <th>LDAPS_Tmax_lapse</th>\n",
       "      <th>LDAPS_Tmin_lapse</th>\n",
       "      <th>LDAPS_WS</th>\n",
       "      <th>LDAPS_LH</th>\n",
       "      <th>LDAPS_CC1</th>\n",
       "      <th>LDAPS_CC2</th>\n",
       "      <th>LDAPS_CC3</th>\n",
       "      <th>LDAPS_CC4</th>\n",
       "      <th>LDAPS_PPT1</th>\n",
       "      <th>LDAPS_PPT2</th>\n",
       "      <th>LDAPS_PPT3</th>\n",
       "      <th>LDAPS_PPT4</th>\n",
       "      <th>lat</th>\n",
       "      <th>lon</th>\n",
       "      <th>DEM</th>\n",
       "      <th>Slope</th>\n",
       "      <th>Solar radiation</th>\n",
       "      <th>Next_Tmax</th>\n",
       "      <th>Next_Tmin</th>\n",
       "    </tr>\n",
       "  </thead>\n",
       "  <tbody>\n",
       "    <tr>\n",
       "      <th>min</th>\n",
       "      <td>1.0</td>\n",
       "      <td>20.0</td>\n",
       "      <td>11.3</td>\n",
       "      <td>19.794666</td>\n",
       "      <td>58.936283</td>\n",
       "      <td>17.624954</td>\n",
       "      <td>14.272646</td>\n",
       "      <td>2.882580</td>\n",
       "      <td>-13.603212</td>\n",
       "      <td>0.000000</td>\n",
       "      <td>0.000000</td>\n",
       "      <td>0.000000</td>\n",
       "      <td>0.00000</td>\n",
       "      <td>0.000000</td>\n",
       "      <td>0.000000</td>\n",
       "      <td>0.000000</td>\n",
       "      <td>0.000000</td>\n",
       "      <td>37.4562</td>\n",
       "      <td>126.826</td>\n",
       "      <td>12.370</td>\n",
       "      <td>0.0985</td>\n",
       "      <td>4329.520508</td>\n",
       "      <td>17.4</td>\n",
       "      <td>11.3</td>\n",
       "    </tr>\n",
       "    <tr>\n",
       "      <th>max</th>\n",
       "      <td>25.0</td>\n",
       "      <td>37.6</td>\n",
       "      <td>29.9</td>\n",
       "      <td>98.524734</td>\n",
       "      <td>100.000153</td>\n",
       "      <td>38.542255</td>\n",
       "      <td>29.619342</td>\n",
       "      <td>21.857621</td>\n",
       "      <td>213.414006</td>\n",
       "      <td>0.967277</td>\n",
       "      <td>0.968353</td>\n",
       "      <td>0.983789</td>\n",
       "      <td>0.97471</td>\n",
       "      <td>23.701544</td>\n",
       "      <td>21.621661</td>\n",
       "      <td>15.841235</td>\n",
       "      <td>16.655469</td>\n",
       "      <td>37.6450</td>\n",
       "      <td>127.135</td>\n",
       "      <td>212.335</td>\n",
       "      <td>5.1782</td>\n",
       "      <td>5992.895996</td>\n",
       "      <td>38.9</td>\n",
       "      <td>29.8</td>\n",
       "    </tr>\n",
       "  </tbody>\n",
       "</table>\n",
       "</div>"
      ],
      "text/plain": [
       "     station  Present_Tmax  Present_Tmin  LDAPS_RHmin  LDAPS_RHmax  \\\n",
       "min      1.0          20.0          11.3    19.794666    58.936283   \n",
       "max     25.0          37.6          29.9    98.524734   100.000153   \n",
       "\n",
       "     LDAPS_Tmax_lapse  LDAPS_Tmin_lapse   LDAPS_WS    LDAPS_LH  LDAPS_CC1  \\\n",
       "min         17.624954         14.272646   2.882580  -13.603212   0.000000   \n",
       "max         38.542255         29.619342  21.857621  213.414006   0.967277   \n",
       "\n",
       "     LDAPS_CC2  LDAPS_CC3  LDAPS_CC4  LDAPS_PPT1  LDAPS_PPT2  LDAPS_PPT3  \\\n",
       "min   0.000000   0.000000    0.00000    0.000000    0.000000    0.000000   \n",
       "max   0.968353   0.983789    0.97471   23.701544   21.621661   15.841235   \n",
       "\n",
       "     LDAPS_PPT4      lat      lon      DEM   Slope  Solar radiation  \\\n",
       "min    0.000000  37.4562  126.826   12.370  0.0985      4329.520508   \n",
       "max   16.655469  37.6450  127.135  212.335  5.1782      5992.895996   \n",
       "\n",
       "     Next_Tmax  Next_Tmin  \n",
       "min       17.4       11.3  \n",
       "max       38.9       29.8  "
      ]
     },
     "execution_count": 15,
     "metadata": {},
     "output_type": "execute_result"
    }
   ],
   "source": [
    "df.describe().iloc[[3,7]]"
   ]
  },
  {
   "cell_type": "markdown",
   "metadata": {},
   "source": [
    "\n",
    "There are maximum and minimum value for many features used. so verifying whther the min and max are correct or any data is entered wrong\n",
    "\n",
    "station - used weather station number: 1 to 25\n",
    "Date - Present day: yyyy-mm-dd ('2013-06-30' to '2017-08-30')\n",
    "Present_Tmax - Maximum air temperature between 0 and 21 h on the present day (Â°C): 20 to 37.6\n",
    "Present_Tmin - Minimum air temperature between 0 and 21 h on the present day (Â°C): 11.3 to 29.9\n",
    "LDAPS_RHmin - LDAPS model forecast of next-day minimum relative humidity (%): 19.8 to 98.5\n",
    "LDAPS_RHmax - LDAPS model forecast of next-day maximum relative humidity (%): 58.9 to 100\n",
    "LDAPS_Tmax_lapse - LDAPS model forecast of next-day maximum air temperature applied lapse rate (Â°C): 17.6 to 38.5\n",
    "LDAPS_Tmin_lapse - LDAPS model forecast of next-day minimum air temperature applied lapse rate (Â°C): 14.3 to 29.6\n",
    "LDAPS_WS - LDAPS model forecast of next-day average wind speed (m/s): 2.9 to 21.9\n",
    "LDAPS_LH - LDAPS model forecast of next-day average latent heat flux (W/m2): -13.6 to 213.4\n",
    "LDAPS_CC1 - LDAPS model forecast of next-day 1st 6-hour split average cloud cover (0-5 h) (%): 0 to 0.97\n",
    "LDAPS_CC2 - LDAPS model forecast of next-day 2nd 6-hour split average cloud cover (6-11 h) (%): 0 to 0.97\n",
    "LDAPS_CC3 - LDAPS model forecast of next-day 3rd 6-hour split average cloud cover (12-17 h) (%): 0 to 0.98\n",
    "LDAPS_CC4 - LDAPS model forecast of next-day 4th 6-hour split average cloud cover (18-23 h) (%): 0 to 0.97\n",
    "LDAPS_PPT1 - LDAPS model forecast of next-day 1st 6-hour split average precipitation (0-5 h) (%): 0 to 23.7\n",
    "LDAPS_PPT2 - LDAPS model forecast of next-day 2nd 6-hour split average precipitation (6-11 h) (%): 0 to 21.6\n",
    "LDAPS_PPT3 - LDAPS model forecast of next-day 3rd 6-hour split average precipitation (12-17 h) (%): 0 to 15.8\n",
    "LDAPS_PPT4 - LDAPS model forecast of next-day 4th 6-hour split average precipitation (18-23 h) (%): 0 to 16.7\n",
    "lat - Latitude (Â°): 37.456 to 37.645\n",
    "lon - Longitude (Â°): 126.826 to 127.135\n",
    "DEM - Elevation (m): 12.4 to 212.3\n",
    "Slope - Slope (Â°): 0.1 to 5.2\n",
    "Solar radiation - Daily incoming solar radiation (wh/m2): 4329.5 to 5992.9\n",
    "Next_Tmax - The next-day maximum air temperature (Â°C): 17.4 to 38.9\n",
    "Next_Tmin - The next-day minimum air temperature (Â°C): 11.3 to 29.8T"
   ]
  },
  {
   "cell_type": "markdown",
   "metadata": {},
   "source": [
    "Median of Tv is 149 , radio is 22.9 , Newspaper is 25 and sales is 12\n",
    "mean of Tv is 147.042500, radio is 23.264000, newspaper is 30.554000 and sales is 14.022500"
   ]
  },
  {
   "cell_type": "code",
   "execution_count": 16,
   "metadata": {
    "scrolled": true
   },
   "outputs": [
    {
     "data": {
      "text/html": [
       "<div>\n",
       "<style scoped>\n",
       "    .dataframe tbody tr th:only-of-type {\n",
       "        vertical-align: middle;\n",
       "    }\n",
       "\n",
       "    .dataframe tbody tr th {\n",
       "        vertical-align: top;\n",
       "    }\n",
       "\n",
       "    .dataframe thead th {\n",
       "        text-align: right;\n",
       "    }\n",
       "</style>\n",
       "<table border=\"1\" class=\"dataframe\">\n",
       "  <thead>\n",
       "    <tr style=\"text-align: right;\">\n",
       "      <th></th>\n",
       "      <th>station</th>\n",
       "      <th>Date</th>\n",
       "      <th>Present_Tmax</th>\n",
       "      <th>Present_Tmin</th>\n",
       "      <th>LDAPS_RHmin</th>\n",
       "      <th>LDAPS_RHmax</th>\n",
       "      <th>LDAPS_Tmax_lapse</th>\n",
       "      <th>LDAPS_Tmin_lapse</th>\n",
       "      <th>LDAPS_WS</th>\n",
       "      <th>LDAPS_LH</th>\n",
       "      <th>LDAPS_CC1</th>\n",
       "      <th>LDAPS_CC2</th>\n",
       "      <th>LDAPS_CC3</th>\n",
       "      <th>LDAPS_CC4</th>\n",
       "      <th>LDAPS_PPT1</th>\n",
       "      <th>LDAPS_PPT2</th>\n",
       "      <th>LDAPS_PPT3</th>\n",
       "      <th>LDAPS_PPT4</th>\n",
       "      <th>lat</th>\n",
       "      <th>lon</th>\n",
       "      <th>DEM</th>\n",
       "      <th>Slope</th>\n",
       "      <th>Solar radiation</th>\n",
       "      <th>Next_Tmax</th>\n",
       "      <th>Next_Tmin</th>\n",
       "    </tr>\n",
       "  </thead>\n",
       "  <tbody>\n",
       "    <tr>\n",
       "      <th>0</th>\n",
       "      <td>1.0</td>\n",
       "      <td>30-06-2013</td>\n",
       "      <td>28.7</td>\n",
       "      <td>21.4</td>\n",
       "      <td>58.255688</td>\n",
       "      <td>91.116364</td>\n",
       "      <td>28.074101</td>\n",
       "      <td>23.006936</td>\n",
       "      <td>6.818887</td>\n",
       "      <td>69.451805</td>\n",
       "      <td>0.233947</td>\n",
       "      <td>0.203896</td>\n",
       "      <td>0.161697</td>\n",
       "      <td>0.130928</td>\n",
       "      <td>0.0</td>\n",
       "      <td>0.0</td>\n",
       "      <td>0.0</td>\n",
       "      <td>0.0</td>\n",
       "      <td>37.6046</td>\n",
       "      <td>126.991</td>\n",
       "      <td>212.3350</td>\n",
       "      <td>2.7850</td>\n",
       "      <td>5992.895996</td>\n",
       "      <td>29.1</td>\n",
       "      <td>21.2</td>\n",
       "    </tr>\n",
       "    <tr>\n",
       "      <th>1</th>\n",
       "      <td>2.0</td>\n",
       "      <td>30-06-2013</td>\n",
       "      <td>31.9</td>\n",
       "      <td>21.6</td>\n",
       "      <td>52.263397</td>\n",
       "      <td>90.604721</td>\n",
       "      <td>29.850689</td>\n",
       "      <td>24.035009</td>\n",
       "      <td>5.691890</td>\n",
       "      <td>51.937448</td>\n",
       "      <td>0.225508</td>\n",
       "      <td>0.251771</td>\n",
       "      <td>0.159444</td>\n",
       "      <td>0.127727</td>\n",
       "      <td>0.0</td>\n",
       "      <td>0.0</td>\n",
       "      <td>0.0</td>\n",
       "      <td>0.0</td>\n",
       "      <td>37.6046</td>\n",
       "      <td>127.032</td>\n",
       "      <td>44.7624</td>\n",
       "      <td>0.5141</td>\n",
       "      <td>5869.312500</td>\n",
       "      <td>30.5</td>\n",
       "      <td>22.5</td>\n",
       "    </tr>\n",
       "    <tr>\n",
       "      <th>2</th>\n",
       "      <td>3.0</td>\n",
       "      <td>30-06-2013</td>\n",
       "      <td>31.6</td>\n",
       "      <td>23.3</td>\n",
       "      <td>48.690479</td>\n",
       "      <td>83.973587</td>\n",
       "      <td>30.091292</td>\n",
       "      <td>24.565633</td>\n",
       "      <td>6.138224</td>\n",
       "      <td>20.573050</td>\n",
       "      <td>0.209344</td>\n",
       "      <td>0.257469</td>\n",
       "      <td>0.204091</td>\n",
       "      <td>0.142125</td>\n",
       "      <td>0.0</td>\n",
       "      <td>0.0</td>\n",
       "      <td>0.0</td>\n",
       "      <td>0.0</td>\n",
       "      <td>37.5776</td>\n",
       "      <td>127.058</td>\n",
       "      <td>33.3068</td>\n",
       "      <td>0.2661</td>\n",
       "      <td>5863.555664</td>\n",
       "      <td>31.1</td>\n",
       "      <td>23.9</td>\n",
       "    </tr>\n",
       "    <tr>\n",
       "      <th>3</th>\n",
       "      <td>4.0</td>\n",
       "      <td>30-06-2013</td>\n",
       "      <td>32.0</td>\n",
       "      <td>23.4</td>\n",
       "      <td>58.239788</td>\n",
       "      <td>96.483688</td>\n",
       "      <td>29.704629</td>\n",
       "      <td>23.326177</td>\n",
       "      <td>5.650050</td>\n",
       "      <td>65.727144</td>\n",
       "      <td>0.216372</td>\n",
       "      <td>0.226002</td>\n",
       "      <td>0.161157</td>\n",
       "      <td>0.134249</td>\n",
       "      <td>0.0</td>\n",
       "      <td>0.0</td>\n",
       "      <td>0.0</td>\n",
       "      <td>0.0</td>\n",
       "      <td>37.6450</td>\n",
       "      <td>127.022</td>\n",
       "      <td>45.7160</td>\n",
       "      <td>2.5348</td>\n",
       "      <td>5856.964844</td>\n",
       "      <td>31.7</td>\n",
       "      <td>24.3</td>\n",
       "    </tr>\n",
       "    <tr>\n",
       "      <th>4</th>\n",
       "      <td>5.0</td>\n",
       "      <td>30-06-2013</td>\n",
       "      <td>31.4</td>\n",
       "      <td>21.9</td>\n",
       "      <td>56.174095</td>\n",
       "      <td>90.155128</td>\n",
       "      <td>29.113934</td>\n",
       "      <td>23.486480</td>\n",
       "      <td>5.735004</td>\n",
       "      <td>107.965535</td>\n",
       "      <td>0.151407</td>\n",
       "      <td>0.249995</td>\n",
       "      <td>0.178892</td>\n",
       "      <td>0.170021</td>\n",
       "      <td>0.0</td>\n",
       "      <td>0.0</td>\n",
       "      <td>0.0</td>\n",
       "      <td>0.0</td>\n",
       "      <td>37.5507</td>\n",
       "      <td>127.135</td>\n",
       "      <td>35.0380</td>\n",
       "      <td>0.5055</td>\n",
       "      <td>5859.552246</td>\n",
       "      <td>31.2</td>\n",
       "      <td>22.5</td>\n",
       "    </tr>\n",
       "  </tbody>\n",
       "</table>\n",
       "</div>"
      ],
      "text/plain": [
       "   station        Date  Present_Tmax  Present_Tmin  LDAPS_RHmin  LDAPS_RHmax  \\\n",
       "0      1.0  30-06-2013          28.7          21.4    58.255688    91.116364   \n",
       "1      2.0  30-06-2013          31.9          21.6    52.263397    90.604721   \n",
       "2      3.0  30-06-2013          31.6          23.3    48.690479    83.973587   \n",
       "3      4.0  30-06-2013          32.0          23.4    58.239788    96.483688   \n",
       "4      5.0  30-06-2013          31.4          21.9    56.174095    90.155128   \n",
       "\n",
       "   LDAPS_Tmax_lapse  LDAPS_Tmin_lapse  LDAPS_WS    LDAPS_LH  LDAPS_CC1  \\\n",
       "0         28.074101         23.006936  6.818887   69.451805   0.233947   \n",
       "1         29.850689         24.035009  5.691890   51.937448   0.225508   \n",
       "2         30.091292         24.565633  6.138224   20.573050   0.209344   \n",
       "3         29.704629         23.326177  5.650050   65.727144   0.216372   \n",
       "4         29.113934         23.486480  5.735004  107.965535   0.151407   \n",
       "\n",
       "   LDAPS_CC2  LDAPS_CC3  LDAPS_CC4  LDAPS_PPT1  LDAPS_PPT2  LDAPS_PPT3  \\\n",
       "0   0.203896   0.161697   0.130928         0.0         0.0         0.0   \n",
       "1   0.251771   0.159444   0.127727         0.0         0.0         0.0   \n",
       "2   0.257469   0.204091   0.142125         0.0         0.0         0.0   \n",
       "3   0.226002   0.161157   0.134249         0.0         0.0         0.0   \n",
       "4   0.249995   0.178892   0.170021         0.0         0.0         0.0   \n",
       "\n",
       "   LDAPS_PPT4      lat      lon       DEM   Slope  Solar radiation  Next_Tmax  \\\n",
       "0         0.0  37.6046  126.991  212.3350  2.7850      5992.895996       29.1   \n",
       "1         0.0  37.6046  127.032   44.7624  0.5141      5869.312500       30.5   \n",
       "2         0.0  37.5776  127.058   33.3068  0.2661      5863.555664       31.1   \n",
       "3         0.0  37.6450  127.022   45.7160  2.5348      5856.964844       31.7   \n",
       "4         0.0  37.5507  127.135   35.0380  0.5055      5859.552246       31.2   \n",
       "\n",
       "   Next_Tmin  \n",
       "0       21.2  \n",
       "1       22.5  \n",
       "2       23.9  \n",
       "3       24.3  \n",
       "4       22.5  "
      ]
     },
     "execution_count": 16,
     "metadata": {},
     "output_type": "execute_result"
    }
   ],
   "source": [
    "df.head()"
   ]
  },
  {
   "cell_type": "code",
   "execution_count": null,
   "metadata": {},
   "outputs": [],
   "source": []
  },
  {
   "cell_type": "markdown",
   "metadata": {},
   "source": [
    "## EDA"
   ]
  },
  {
   "cell_type": "markdown",
   "metadata": {},
   "source": [
    "Present_Tmax - Maximum air temperature\n",
    "\n",
    "Present_Tmin - Minimum air temperature\n",
    "\n",
    "LDAPS_RHmin - minimum relative humidity\n",
    "\n",
    "LDAPS_RHmax - maximum relative humidity (%)\n",
    "\n",
    "LDAPS_Tmax_lapse - maximum air temperature applied lapse rate (Â°C)\n",
    "\n",
    "LDAPS_Tmin_lapse - minimum air temperature applied lapse rate (Â°C)\n",
    "\n",
    "LDAPS_WS - next-day average wind speed (m/s): \n",
    "\n",
    "LDAPS_LH  - average latent heat flux (W/m2): \n",
    "\n",
    "LDAPS_CC1- next-day 1st 6-hour split average cloud cover (0-5 h) \n",
    "\n",
    "LDAPS_CC12- next-day 2nd 6-hour split average cloud cover (6-11 h)\n",
    "\n",
    "LDAPS_CC3- next-day 3rd 6-hour split average cloud cover (12-17 h)\n",
    "\n",
    "LDAPS_CC4- next-day 4th 6-hour split average cloud cover (18-23 h)\n",
    "\n",
    "LDAPS_PPT1 - next-day 1st 6-hour split average precipitation (0-5 h)\n",
    "\n",
    "LDAPS_PPT2 - next-day 2nd 6-hour split average precipitation (6-11 h)\n",
    "\n",
    "LDAPS_PPT3 - next-day 3rd 6-hour split average precipitation (12-17 h)\n",
    "\n",
    "LDAPS_PPT4- next-day 4th 6-hour split average precipitation (18-23 h)\n"
   ]
  },
  {
   "cell_type": "code",
   "execution_count": 17,
   "metadata": {},
   "outputs": [],
   "source": [
    "features1=['Present_Tmax', 'Present_Tmin', 'LDAPS_RHmin',\n",
    "       'LDAPS_RHmax', 'LDAPS_Tmax_lapse', 'LDAPS_Tmin_lapse', 'LDAPS_WS',\n",
    "       'LDAPS_LH', 'LDAPS_CC1', 'LDAPS_CC2', 'LDAPS_CC3', 'LDAPS_CC4']"
   ]
  },
  {
   "cell_type": "code",
   "execution_count": 18,
   "metadata": {},
   "outputs": [
    {
     "name": "stdout",
     "output_type": "stream",
     "text": [
      "Present_Tmax\n"
     ]
    },
    {
     "data": {
      "image/png": "[encoded data removed]",
      "text/plain": [
       "<Figure size 432x288 with 1 Axes>"
      ]
     },
     "metadata": {
      "needs_background": "light"
     },
     "output_type": "display_data"
    },
    {
     "name": "stdout",
     "output_type": "stream",
     "text": [
      "Present_Tmin\n"
     ]
    },
    {
     "data": {
      "image/png": "[encoded data removed]",
      "text/plain": [
       "<Figure size 432x288 with 1 Axes>"
      ]
     },
     "metadata": {
      "needs_background": "light"
     },
     "output_type": "display_data"
    },
    {
     "name": "stdout",
     "output_type": "stream",
     "text": [
      "LDAPS_RHmin\n"
     ]
    },
    {
     "data": {
      "image/png": "[encoded data removed]",
      "text/plain": [
       "<Figure size 432x288 with 1 Axes>"
      ]
     },
     "metadata": {
      "needs_background": "light"
     },
     "output_type": "display_data"
    },
    {
     "name": "stdout",
     "output_type": "stream",
     "text": [
      "LDAPS_RHmax\n"
     ]
    },
    {
     "data": {
      "image/png": "[encoded data removed]",
      "text/plain": [
       "<Figure size 432x288 with 1 Axes>"
      ]
     },
     "metadata": {
      "needs_background": "light"
     },
     "output_type": "display_data"
    },
    {
     "name": "stdout",
     "output_type": "stream",
     "text": [
      "LDAPS_Tmax_lapse\n"
     ]
    },
    {
     "data": {
      "image/png": "[encoded data removed]",
      "text/plain": [
       "<Figure size 432x288 with 1 Axes>"
      ]
     },
     "metadata": {
      "needs_background": "light"
     },
     "output_type": "display_data"
    },
    {
     "name": "stdout",
     "output_type": "stream",
     "text": [
      "LDAPS_Tmin_lapse\n"
     ]
    },
    {
     "data": {
      "image/png": "[encoded data removed]",
      "text/plain": [
       "<Figure size 432x288 with 1 Axes>"
      ]
     },
     "metadata": {
      "needs_background": "light"
     },
     "output_type": "display_data"
    },
    {
     "name": "stdout",
     "output_type": "stream",
     "text": [
      "LDAPS_WS\n"
     ]
    },
    {
     "data": {
      "image/png": "[encoded data removed]",
      "text/plain": [
       "<Figure size 432x288 with 1 Axes>"
      ]
     },
     "metadata": {
      "needs_background": "light"
     },
     "output_type": "display_data"
    },
    {
     "name": "stdout",
     "output_type": "stream",
     "text": [
      "LDAPS_LH\n"
     ]
    },
    {
     "data": {
      "image/png": "[encoded data removed]",
      "text/plain": [
       "<Figure size 432x288 with 1 Axes>"
      ]
     },
     "metadata": {
      "needs_background": "light"
     },
     "output_type": "display_data"
    },
    {
     "name": "stdout",
     "output_type": "stream",
     "text": [
      "LDAPS_CC1\n"
     ]
    },
    {
     "data": {
      "image/png": "[encoded data removed]",
      "text/plain": [
       "<Figure size 432x288 with 1 Axes>"
      ]
     },
     "metadata": {
      "needs_background": "light"
     },
     "output_type": "display_data"
    },
    {
     "name": "stdout",
     "output_type": "stream",
     "text": [
      "LDAPS_CC2\n"
     ]
    },
    {
     "data": {
      "image/png": "[encoded data removed]",
      "text/plain": [
       "<Figure size 432x288 with 1 Axes>"
      ]
     },
     "metadata": {
      "needs_background": "light"
     },
     "output_type": "display_data"
    },
    {
     "name": "stdout",
     "output_type": "stream",
     "text": [
      "LDAPS_CC3\n"
     ]
    },
    {
     "data": {
      "image/png": "[encoded data removed]",
      "text/plain": [
       "<Figure size 432x288 with 1 Axes>"
      ]
     },
     "metadata": {
      "needs_background": "light"
     },
     "output_type": "display_data"
    },
    {
     "name": "stdout",
     "output_type": "stream",
     "text": [
      "LDAPS_CC4\n"
     ]
    },
    {
     "data": {
      "image/png": "[encoded data removed]",
      "text/plain": [
       "<Figure size 432x288 with 1 Axes>"
      ]
     },
     "metadata": {
      "needs_background": "light"
     },
     "output_type": "display_data"
    }
   ],
   "source": [
    "for col in features1:\n",
    "    print(col)\n",
    "    sns.histplot(df[col])\n",
    "    plt.show()"
   ]
  },
  {
   "cell_type": "code",
   "execution_count": 19,
   "metadata": {},
   "outputs": [
    {
     "data": {
      "text/plain": [
       "<matplotlib.legend.Legend at 0x21fb254b940>"
      ]
     },
     "execution_count": 19,
     "metadata": {},
     "output_type": "execute_result"
    },
    {
     "data": {
      "image/png": "[encoded data removed]",
      "text/plain": [
       "<Figure size 432x288 with 1 Axes>"
      ]
     },
     "metadata": {
      "needs_background": "light"
     },
     "output_type": "display_data"
    }
   ],
   "source": [
    "sns.scatterplot(x='lat',y='lon',data=df,hue='Next_Tmax')\n",
    "plt.legend(loc=(1,1))"
   ]
  },
  {
   "cell_type": "code",
   "execution_count": 20,
   "metadata": {},
   "outputs": [
    {
     "data": {
      "text/plain": [
       "<AxesSubplot:xlabel='lat', ylabel='lon'>"
      ]
     },
     "execution_count": 20,
     "metadata": {},
     "output_type": "execute_result"
    },
    {
     "data": {
      "image/png": "[encoded data removed]",
      "text/plain": [
       "<Figure size 432x288 with 1 Axes>"
      ]
     },
     "metadata": {
      "needs_background": "light"
     },
     "output_type": "display_data"
    }
   ],
   "source": [
    "sns.scatterplot(x='lat',y='lon',data=df,hue='Next_Tmin')"
   ]
  },
  {
   "cell_type": "code",
   "execution_count": 21,
   "metadata": {},
   "outputs": [
    {
     "data": {
      "text/plain": [
       "<AxesSubplot:xlabel='Present_Tmax', ylabel='Next_Tmax'>"
      ]
     },
     "execution_count": 21,
     "metadata": {},
     "output_type": "execute_result"
    },
    {
     "data": {
      "image/png": "[encoded data removed]",
      "text/plain": [
       "<Figure size 432x288 with 1 Axes>"
      ]
     },
     "metadata": {
      "needs_background": "light"
     },
     "output_type": "display_data"
    }
   ],
   "source": [
    "sns.scatterplot(x='Present_Tmax',y='Next_Tmax',data=df)"
   ]
  },
  {
   "cell_type": "code",
   "execution_count": 22,
   "metadata": {},
   "outputs": [
    {
     "data": {
      "text/plain": [
       "<AxesSubplot:xlabel='Present_Tmin', ylabel='Next_Tmin'>"
      ]
     },
     "execution_count": 22,
     "metadata": {},
     "output_type": "execute_result"
    },
    {
     "data": {
      "image/png": "[encoded data removed]",
      "text/plain": [
       "<Figure size 432x288 with 1 Axes>"
      ]
     },
     "metadata": {
      "needs_background": "light"
     },
     "output_type": "display_data"
    }
   ],
   "source": [
    "sns.scatterplot(x='Present_Tmin',y='Next_Tmin',data=df)"
   ]
  },
  {
   "cell_type": "code",
   "execution_count": 23,
   "metadata": {},
   "outputs": [
    {
     "data": {
      "text/plain": [
       "Index(['station', 'Date', 'Present_Tmax', 'Present_Tmin', 'LDAPS_RHmin',\n",
       "       'LDAPS_RHmax', 'LDAPS_Tmax_lapse', 'LDAPS_Tmin_lapse', 'LDAPS_WS',\n",
       "       'LDAPS_LH', 'LDAPS_CC1', 'LDAPS_CC2', 'LDAPS_CC3', 'LDAPS_CC4',\n",
       "       'LDAPS_PPT1', 'LDAPS_PPT2', 'LDAPS_PPT3', 'LDAPS_PPT4', 'lat', 'lon',\n",
       "       'DEM', 'Slope', 'Solar radiation', 'Next_Tmax', 'Next_Tmin'],\n",
       "      dtype='object')"
      ]
     },
     "execution_count": 23,
     "metadata": {},
     "output_type": "execute_result"
    }
   ],
   "source": [
    "df.columns"
   ]
  },
  {
   "cell_type": "code",
   "execution_count": 24,
   "metadata": {},
   "outputs": [
    {
     "name": "stdout",
     "output_type": "stream",
     "text": [
      "<class 'pandas.core.frame.DataFrame'>\n",
      "Int64Index: 7588 entries, 0 to 7749\n",
      "Data columns (total 25 columns):\n",
      " #   Column            Non-Null Count  Dtype  \n",
      "---  ------            --------------  -----  \n",
      " 0   station           7588 non-null   float64\n",
      " 1   Date              7588 non-null   object \n",
      " 2   Present_Tmax      7588 non-null   float64\n",
      " 3   Present_Tmin      7588 non-null   float64\n",
      " 4   LDAPS_RHmin       7588 non-null   float64\n",
      " 5   LDAPS_RHmax       7588 non-null   float64\n",
      " 6   LDAPS_Tmax_lapse  7588 non-null   float64\n",
      " 7   LDAPS_Tmin_lapse  7588 non-null   float64\n",
      " 8   LDAPS_WS          7588 non-null   float64\n",
      " 9   LDAPS_LH          7588 non-null   float64\n",
      " 10  LDAPS_CC1         7588 non-null   float64\n",
      " 11  LDAPS_CC2         7588 non-null   float64\n",
      " 12  LDAPS_CC3         7588 non-null   float64\n",
      " 13  LDAPS_CC4         7588 non-null   float64\n",
      " 14  LDAPS_PPT1        7588 non-null   float64\n",
      " 15  LDAPS_PPT2        7588 non-null   float64\n",
      " 16  LDAPS_PPT3        7588 non-null   float64\n",
      " 17  LDAPS_PPT4        7588 non-null   float64\n",
      " 18  lat               7588 non-null   float64\n",
      " 19  lon               7588 non-null   float64\n",
      " 20  DEM               7588 non-null   float64\n",
      " 21  Slope             7588 non-null   float64\n",
      " 22  Solar radiation   7588 non-null   float64\n",
      " 23  Next_Tmax         7588 non-null   float64\n",
      " 24  Next_Tmin         7588 non-null   float64\n",
      "dtypes: float64(24), object(1)\n",
      "memory usage: 1.5+ MB\n"
     ]
    }
   ],
   "source": [
    "df.info()"
   ]
  },
  {
   "cell_type": "code",
   "execution_count": 25,
   "metadata": {},
   "outputs": [],
   "source": [
    "zScores=np.abs(zscore(df.drop('Date',axis=1)))"
   ]
  },
  {
   "cell_type": "code",
   "execution_count": 26,
   "metadata": {},
   "outputs": [
    {
     "data": {
      "text/plain": [
       "array([ True,  True,  True, ...,  True,  True,  True])"
      ]
     },
     "execution_count": 26,
     "metadata": {},
     "output_type": "execute_result"
    }
   ],
   "source": [
    "filteredEntries=(zScores<3).all(axis=1)\n",
    "filteredEntries"
   ]
  },
  {
   "cell_type": "code",
   "execution_count": 27,
   "metadata": {},
   "outputs": [
    {
     "data": {
      "text/plain": [
       "6739"
      ]
     },
     "execution_count": 27,
     "metadata": {},
     "output_type": "execute_result"
    }
   ],
   "source": [
    "np.sum(filteredEntries)"
   ]
  },
  {
   "cell_type": "code",
   "execution_count": 28,
   "metadata": {},
   "outputs": [
    {
     "data": {
      "text/plain": [
       "(7588, 25)"
      ]
     },
     "execution_count": 28,
     "metadata": {},
     "output_type": "execute_result"
    }
   ],
   "source": [
    "df.shape"
   ]
  },
  {
   "cell_type": "code",
   "execution_count": 29,
   "metadata": {},
   "outputs": [
    {
     "data": {
      "text/plain": [
       "11.188719030047443"
      ]
     },
     "execution_count": 29,
     "metadata": {},
     "output_type": "execute_result"
    }
   ],
   "source": [
    "((7588-6739)/7588)*100"
   ]
  },
  {
   "cell_type": "markdown",
   "metadata": {},
   "source": [
    "11% is a lot of data so not removing them"
   ]
  },
  {
   "cell_type": "code",
   "execution_count": 30,
   "metadata": {},
   "outputs": [],
   "source": [
    "df=df[filteredEntries]"
   ]
  },
  {
   "cell_type": "code",
   "execution_count": 31,
   "metadata": {},
   "outputs": [
    {
     "name": "stdout",
     "output_type": "stream",
     "text": [
      "<class 'pandas.core.frame.DataFrame'>\n",
      "Int64Index: 6739 entries, 0 to 7749\n",
      "Data columns (total 25 columns):\n",
      " #   Column            Non-Null Count  Dtype  \n",
      "---  ------            --------------  -----  \n",
      " 0   station           6739 non-null   float64\n",
      " 1   Date              6739 non-null   object \n",
      " 2   Present_Tmax      6739 non-null   float64\n",
      " 3   Present_Tmin      6739 non-null   float64\n",
      " 4   LDAPS_RHmin       6739 non-null   float64\n",
      " 5   LDAPS_RHmax       6739 non-null   float64\n",
      " 6   LDAPS_Tmax_lapse  6739 non-null   float64\n",
      " 7   LDAPS_Tmin_lapse  6739 non-null   float64\n",
      " 8   LDAPS_WS          6739 non-null   float64\n",
      " 9   LDAPS_LH          6739 non-null   float64\n",
      " 10  LDAPS_CC1         6739 non-null   float64\n",
      " 11  LDAPS_CC2         6739 non-null   float64\n",
      " 12  LDAPS_CC3         6739 non-null   float64\n",
      " 13  LDAPS_CC4         6739 non-null   float64\n",
      " 14  LDAPS_PPT1        6739 non-null   float64\n",
      " 15  LDAPS_PPT2        6739 non-null   float64\n",
      " 16  LDAPS_PPT3        6739 non-null   float64\n",
      " 17  LDAPS_PPT4        6739 non-null   float64\n",
      " 18  lat               6739 non-null   float64\n",
      " 19  lon               6739 non-null   float64\n",
      " 20  DEM               6739 non-null   float64\n",
      " 21  Slope             6739 non-null   float64\n",
      " 22  Solar radiation   6739 non-null   float64\n",
      " 23  Next_Tmax         6739 non-null   float64\n",
      " 24  Next_Tmin         6739 non-null   float64\n",
      "dtypes: float64(24), object(1)\n",
      "memory usage: 1.3+ MB\n"
     ]
    }
   ],
   "source": [
    "df.info()"
   ]
  },
  {
   "cell_type": "markdown",
   "metadata": {},
   "source": [
    "From Date feature extracting day, month and yearb"
   ]
  },
  {
   "cell_type": "code",
   "execution_count": 32,
   "metadata": {},
   "outputs": [
    {
     "data": {
      "text/plain": [
       "0    30-06-2013\n",
       "1    30-06-2013\n",
       "2    30-06-2013\n",
       "3    30-06-2013\n",
       "4    30-06-2013\n",
       "Name: Date, dtype: object"
      ]
     },
     "execution_count": 32,
     "metadata": {},
     "output_type": "execute_result"
    }
   ],
   "source": [
    "df['Date'].head()"
   ]
  },
  {
   "cell_type": "code",
   "execution_count": 33,
   "metadata": {},
   "outputs": [],
   "source": [
    "df['Day']=df['Date'].apply(lambda x: str(x).split('-')[0])"
   ]
  },
  {
   "cell_type": "code",
   "execution_count": 34,
   "metadata": {},
   "outputs": [],
   "source": [
    "df['Month']=df['Date'].apply(lambda x: str(x).split('-')[1])"
   ]
  },
  {
   "cell_type": "code",
   "execution_count": 35,
   "metadata": {},
   "outputs": [],
   "source": [
    "df['Year']=df['Date'].apply(lambda x: str(x).split('-')[2])"
   ]
  },
  {
   "cell_type": "code",
   "execution_count": 36,
   "metadata": {},
   "outputs": [],
   "source": [
    "df.drop('Date',axis=1,inplace=True)"
   ]
  },
  {
   "cell_type": "code",
   "execution_count": 37,
   "metadata": {},
   "outputs": [
    {
     "data": {
      "text/plain": [
       "<AxesSubplot:xlabel='Day', ylabel='Next_Tmax'>"
      ]
     },
     "execution_count": 37,
     "metadata": {},
     "output_type": "execute_result"
    },
    {
     "data": {
      "image/png": "[encoded data removed]",
      "text/plain": [
       "<Figure size 432x288 with 1 Axes>"
      ]
     },
     "metadata": {
      "needs_background": "light"
     },
     "output_type": "display_data"
    }
   ],
   "source": [
    "sns.barplot(x='Day',y='Next_Tmax',data=df)"
   ]
  },
  {
   "cell_type": "markdown",
   "metadata": {},
   "source": [
    "The mean of max temperatures is almost between 30 and 34 for evy day"
   ]
  },
  {
   "cell_type": "code",
   "execution_count": 38,
   "metadata": {},
   "outputs": [
    {
     "data": {
      "text/plain": [
       "<AxesSubplot:xlabel='Day', ylabel='Next_Tmin'>"
      ]
     },
     "execution_count": 38,
     "metadata": {},
     "output_type": "execute_result"
    },
    {
     "data": {
      "image/png": "[encoded data removed]",
      "text/plain": [
       "<Figure size 432x288 with 1 Axes>"
      ]
     },
     "metadata": {
      "needs_background": "light"
     },
     "output_type": "display_data"
    }
   ],
   "source": [
    "sns.barplot(x='Day',y='Next_Tmin',data=df)"
   ]
  },
  {
   "cell_type": "markdown",
   "metadata": {},
   "source": [
    "The mean of minimum temperatures is between 22 and 25 every day"
   ]
  },
  {
   "cell_type": "code",
   "execution_count": 39,
   "metadata": {},
   "outputs": [
    {
     "data": {
      "text/plain": [
       "<AxesSubplot:xlabel='Month', ylabel='Next_Tmax'>"
      ]
     },
     "execution_count": 39,
     "metadata": {},
     "output_type": "execute_result"
    },
    {
     "data": {
      "image/png": "[encoded data removed]",
      "text/plain": [
       "<Figure size 432x288 with 1 Axes>"
      ]
     },
     "metadata": {
      "needs_background": "light"
     },
     "output_type": "display_data"
    }
   ],
   "source": [
    "sns.barplot(x='Month',y='Next_Tmax',data=df)"
   ]
  },
  {
   "cell_type": "code",
   "execution_count": null,
   "metadata": {},
   "outputs": [],
   "source": []
  },
  {
   "cell_type": "markdown",
   "metadata": {},
   "source": [
    "The mean of max temperatures is about 30 every month"
   ]
  },
  {
   "cell_type": "code",
   "execution_count": 40,
   "metadata": {},
   "outputs": [
    {
     "data": {
      "text/plain": [
       "<AxesSubplot:xlabel='Month', ylabel='Next_Tmin'>"
      ]
     },
     "execution_count": 40,
     "metadata": {},
     "output_type": "execute_result"
    },
    {
     "data": {
      "image/png": "[encoded data removed]",
      "text/plain": [
       "<Figure size 432x288 with 1 Axes>"
      ]
     },
     "metadata": {
      "needs_background": "light"
     },
     "output_type": "display_data"
    }
   ],
   "source": [
    "sns.barplot(x='Month',y='Next_Tmin',data=df)"
   ]
  },
  {
   "cell_type": "markdown",
   "metadata": {},
   "source": [
    "The mean of min temperatures is about 21 to 23 every month"
   ]
  },
  {
   "cell_type": "code",
   "execution_count": 41,
   "metadata": {},
   "outputs": [
    {
     "data": {
      "text/plain": [
       "<AxesSubplot:xlabel='Year', ylabel='Next_Tmax'>"
      ]
     },
     "execution_count": 41,
     "metadata": {},
     "output_type": "execute_result"
    },
    {
     "data": {
      "image/png": "[encoded data removed]",
      "text/plain": [
       "<Figure size 432x288 with 1 Axes>"
      ]
     },
     "metadata": {
      "needs_background": "light"
     },
     "output_type": "display_data"
    }
   ],
   "source": [
    "sns.barplot(x='Year',y='Next_Tmax',data=df)"
   ]
  },
  {
   "cell_type": "markdown",
   "metadata": {},
   "source": [
    "The mean of max temperatures is about 30 every year"
   ]
  },
  {
   "cell_type": "code",
   "execution_count": 42,
   "metadata": {},
   "outputs": [
    {
     "data": {
      "text/plain": [
       "<AxesSubplot:xlabel='Year', ylabel='Next_Tmin'>"
      ]
     },
     "execution_count": 42,
     "metadata": {},
     "output_type": "execute_result"
    },
    {
     "data": {
      "image/png": "[encoded data removed]",
      "text/plain": [
       "<Figure size 432x288 with 1 Axes>"
      ]
     },
     "metadata": {
      "needs_background": "light"
     },
     "output_type": "display_data"
    }
   ],
   "source": [
    "sns.barplot(x='Year',y='Next_Tmin',data=df)"
   ]
  },
  {
   "cell_type": "markdown",
   "metadata": {},
   "source": [
    "The mean of min temperatures is about 23 to 25 every year"
   ]
  },
  {
   "cell_type": "markdown",
   "metadata": {},
   "source": [
    "Divinding into X and Y"
   ]
  },
  {
   "cell_type": "code",
   "execution_count": 43,
   "metadata": {},
   "outputs": [],
   "source": [
    "df1=df.copy()"
   ]
  },
  {
   "cell_type": "code",
   "execution_count": 44,
   "metadata": {},
   "outputs": [
    {
     "data": {
      "text/plain": [
       "Index(['station', 'Present_Tmax', 'Present_Tmin', 'LDAPS_RHmin', 'LDAPS_RHmax',\n",
       "       'LDAPS_Tmax_lapse', 'LDAPS_Tmin_lapse', 'LDAPS_WS', 'LDAPS_LH',\n",
       "       'LDAPS_CC1', 'LDAPS_CC2', 'LDAPS_CC3', 'LDAPS_CC4', 'LDAPS_PPT1',\n",
       "       'LDAPS_PPT2', 'LDAPS_PPT3', 'LDAPS_PPT4', 'lat', 'lon', 'DEM', 'Slope',\n",
       "       'Solar radiation', 'Next_Tmax', 'Next_Tmin', 'Day', 'Month', 'Year'],\n",
       "      dtype='object')"
      ]
     },
     "execution_count": 44,
     "metadata": {},
     "output_type": "execute_result"
    }
   ],
   "source": [
    "df.columns"
   ]
  },
  {
   "cell_type": "markdown",
   "metadata": {},
   "source": [
    "### Predicting 'Next_Tmax' First"
   ]
  },
  {
   "cell_type": "code",
   "execution_count": 45,
   "metadata": {},
   "outputs": [],
   "source": [
    "y=df['Next_Tmax']\n",
    "X=df.drop(['Next_Tmax','Next_Tmin'],axis=1)"
   ]
  },
  {
   "cell_type": "markdown",
   "metadata": {},
   "source": [
    "## identifying the best random state"
   ]
  },
  {
   "cell_type": "code",
   "execution_count": 46,
   "metadata": {},
   "outputs": [
    {
     "name": "stdout",
     "output_type": "stream",
     "text": [
      "min RMSE is 1.3693685929057822 on random state 25\n"
     ]
    }
   ],
   "source": [
    "minRMSE=\"null\"\n",
    "minRS=0\n",
    "for i in range(200):\n",
    "    X_train, X_test, y_train, y_test = train_test_split(X, y, test_size=0.33, random_state=i)\n",
    "    lr=LinearRegression()\n",
    "    lr.fit(X_train,y_train)\n",
    "    pred=lr.predict(X_test)\n",
    "    RMSE=np.sqrt(mean_squared_error(y_test,pred))\n",
    "    if(minRMSE==\"null\" or RMSE<minRMSE):\n",
    "        minRMSE=RMSE\n",
    "        minRS=i\n",
    "        \n",
    "print(\"min RMSE is\",minRMSE,\"on random state\",minRS)"
   ]
  },
  {
   "cell_type": "markdown",
   "metadata": {},
   "source": [
    "min RMSE is 1.3693685929057822 on random state 25"
   ]
  },
  {
   "cell_type": "code",
   "execution_count": 48,
   "metadata": {},
   "outputs": [],
   "source": [
    "X_train, X_test, y_train, y_test = train_test_split(X, y, test_size=0.33, random_state=25)\n"
   ]
  },
  {
   "cell_type": "markdown",
   "metadata": {},
   "source": [
    "## Scaling"
   ]
  },
  {
   "cell_type": "code",
   "execution_count": 49,
   "metadata": {},
   "outputs": [],
   "source": [
    "from sklearn.preprocessing import StandardScaler"
   ]
  },
  {
   "cell_type": "code",
   "execution_count": 50,
   "metadata": {},
   "outputs": [],
   "source": [
    "scaler = StandardScaler()"
   ]
  },
  {
   "cell_type": "code",
   "execution_count": 51,
   "metadata": {},
   "outputs": [
    {
     "data": {
      "text/plain": [
       "Index(['station', 'Present_Tmax', 'Present_Tmin', 'LDAPS_RHmin', 'LDAPS_RHmax',\n",
       "       'LDAPS_Tmax_lapse', 'LDAPS_Tmin_lapse', 'LDAPS_WS', 'LDAPS_LH',\n",
       "       'LDAPS_CC1', 'LDAPS_CC2', 'LDAPS_CC3', 'LDAPS_CC4', 'LDAPS_PPT1',\n",
       "       'LDAPS_PPT2', 'LDAPS_PPT3', 'LDAPS_PPT4', 'lat', 'lon', 'DEM', 'Slope',\n",
       "       'Solar radiation', 'Next_Tmax', 'Next_Tmin', 'Day', 'Month', 'Year'],\n",
       "      dtype='object')"
      ]
     },
     "execution_count": 51,
     "metadata": {},
     "output_type": "execute_result"
    }
   ],
   "source": [
    "df.columns"
   ]
  },
  {
   "cell_type": "code",
   "execution_count": 56,
   "metadata": {},
   "outputs": [],
   "source": [
    "x_train_scale=scaler.fit_transform(X_train)"
   ]
  },
  {
   "cell_type": "code",
   "execution_count": 58,
   "metadata": {},
   "outputs": [
    {
     "data": {
      "text/html": [
       "<div>\n",
       "<style scoped>\n",
       "    .dataframe tbody tr th:only-of-type {\n",
       "        vertical-align: middle;\n",
       "    }\n",
       "\n",
       "    .dataframe tbody tr th {\n",
       "        vertical-align: top;\n",
       "    }\n",
       "\n",
       "    .dataframe thead th {\n",
       "        text-align: right;\n",
       "    }\n",
       "</style>\n",
       "<table border=\"1\" class=\"dataframe\">\n",
       "  <thead>\n",
       "    <tr style=\"text-align: right;\">\n",
       "      <th></th>\n",
       "      <th>station</th>\n",
       "      <th>Present_Tmax</th>\n",
       "      <th>Present_Tmin</th>\n",
       "      <th>LDAPS_RHmin</th>\n",
       "      <th>LDAPS_RHmax</th>\n",
       "      <th>LDAPS_Tmax_lapse</th>\n",
       "      <th>LDAPS_Tmin_lapse</th>\n",
       "      <th>LDAPS_WS</th>\n",
       "      <th>LDAPS_LH</th>\n",
       "      <th>LDAPS_CC1</th>\n",
       "      <th>LDAPS_CC2</th>\n",
       "      <th>LDAPS_CC3</th>\n",
       "      <th>LDAPS_CC4</th>\n",
       "      <th>LDAPS_PPT1</th>\n",
       "      <th>LDAPS_PPT2</th>\n",
       "      <th>LDAPS_PPT3</th>\n",
       "      <th>LDAPS_PPT4</th>\n",
       "      <th>lat</th>\n",
       "      <th>lon</th>\n",
       "      <th>DEM</th>\n",
       "      <th>Slope</th>\n",
       "      <th>Solar radiation</th>\n",
       "      <th>Day</th>\n",
       "      <th>Month</th>\n",
       "      <th>Year</th>\n",
       "    </tr>\n",
       "  </thead>\n",
       "  <tbody>\n",
       "    <tr>\n",
       "      <th>0</th>\n",
       "      <td>-0.840454</td>\n",
       "      <td>0.767053</td>\n",
       "      <td>0.871712</td>\n",
       "      <td>0.440310</td>\n",
       "      <td>0.369463</td>\n",
       "      <td>0.310829</td>\n",
       "      <td>0.560593</td>\n",
       "      <td>-1.117930</td>\n",
       "      <td>1.326994</td>\n",
       "      <td>-0.755827</td>\n",
       "      <td>-0.604652</td>\n",
       "      <td>0.853357</td>\n",
       "      <td>1.601184</td>\n",
       "      <td>-0.346483</td>\n",
       "      <td>-0.280257</td>\n",
       "      <td>-0.259429</td>\n",
       "      <td>-0.240459</td>\n",
       "      <td>0.668731</td>\n",
       "      <td>-1.929444</td>\n",
       "      <td>-0.908096</td>\n",
       "      <td>-0.846837</td>\n",
       "      <td>0.204085</td>\n",
       "      <td>1.593695</td>\n",
       "      <td>-0.909167</td>\n",
       "      <td>1.434107</td>\n",
       "    </tr>\n",
       "    <tr>\n",
       "      <th>1</th>\n",
       "      <td>1.506439</td>\n",
       "      <td>1.395603</td>\n",
       "      <td>0.656175</td>\n",
       "      <td>-0.969831</td>\n",
       "      <td>0.150129</td>\n",
       "      <td>0.227135</td>\n",
       "      <td>-0.178899</td>\n",
       "      <td>0.478057</td>\n",
       "      <td>-0.177954</td>\n",
       "      <td>-0.988589</td>\n",
       "      <td>-1.157455</td>\n",
       "      <td>-1.276622</td>\n",
       "      <td>-0.450628</td>\n",
       "      <td>-0.346483</td>\n",
       "      <td>-0.280257</td>\n",
       "      <td>-0.259429</td>\n",
       "      <td>-0.240459</td>\n",
       "      <td>-0.405322</td>\n",
       "      <td>-1.029404</td>\n",
       "      <td>-0.816000</td>\n",
       "      <td>-0.755032</td>\n",
       "      <td>1.013343</td>\n",
       "      <td>-0.651541</td>\n",
       "      <td>-0.909167</td>\n",
       "      <td>-0.710878</td>\n",
       "    </tr>\n",
       "    <tr>\n",
       "      <th>2</th>\n",
       "      <td>0.125914</td>\n",
       "      <td>1.151167</td>\n",
       "      <td>1.345891</td>\n",
       "      <td>-1.354140</td>\n",
       "      <td>-0.892991</td>\n",
       "      <td>2.002623</td>\n",
       "      <td>1.110677</td>\n",
       "      <td>-0.022577</td>\n",
       "      <td>-1.074233</td>\n",
       "      <td>0.220101</td>\n",
       "      <td>-0.453966</td>\n",
       "      <td>-0.135688</td>\n",
       "      <td>-0.218728</td>\n",
       "      <td>-0.213754</td>\n",
       "      <td>-0.280257</td>\n",
       "      <td>-0.259429</td>\n",
       "      <td>-0.240459</td>\n",
       "      <td>-0.943344</td>\n",
       "      <td>-0.801225</td>\n",
       "      <td>-0.560361</td>\n",
       "      <td>-0.461600</td>\n",
       "      <td>0.166178</td>\n",
       "      <td>1.705957</td>\n",
       "      <td>-0.909167</td>\n",
       "      <td>-0.710878</td>\n",
       "    </tr>\n",
       "    <tr>\n",
       "      <th>3</th>\n",
       "      <td>1.644492</td>\n",
       "      <td>0.208341</td>\n",
       "      <td>-0.507720</td>\n",
       "      <td>0.068381</td>\n",
       "      <td>0.031173</td>\n",
       "      <td>-0.965983</td>\n",
       "      <td>0.323968</td>\n",
       "      <td>0.301232</td>\n",
       "      <td>-0.128890</td>\n",
       "      <td>0.470237</td>\n",
       "      <td>0.458634</td>\n",
       "      <td>0.973140</td>\n",
       "      <td>1.695442</td>\n",
       "      <td>-0.346483</td>\n",
       "      <td>-0.280257</td>\n",
       "      <td>2.320536</td>\n",
       "      <td>1.015850</td>\n",
       "      <td>-0.405322</td>\n",
       "      <td>-0.256130</td>\n",
       "      <td>-0.773205</td>\n",
       "      <td>-0.718696</td>\n",
       "      <td>-1.575367</td>\n",
       "      <td>0.920124</td>\n",
       "      <td>1.003643</td>\n",
       "      <td>-0.710878</td>\n",
       "    </tr>\n",
       "    <tr>\n",
       "      <th>4</th>\n",
       "      <td>1.506439</td>\n",
       "      <td>0.382939</td>\n",
       "      <td>0.569961</td>\n",
       "      <td>1.733360</td>\n",
       "      <td>0.946882</td>\n",
       "      <td>-0.743410</td>\n",
       "      <td>0.054086</td>\n",
       "      <td>2.280412</td>\n",
       "      <td>0.008583</td>\n",
       "      <td>1.672117</td>\n",
       "      <td>1.767208</td>\n",
       "      <td>2.359973</td>\n",
       "      <td>1.998886</td>\n",
       "      <td>2.013832</td>\n",
       "      <td>-0.073542</td>\n",
       "      <td>-0.181996</td>\n",
       "      <td>0.579002</td>\n",
       "      <td>-0.405322</td>\n",
       "      <td>-1.029404</td>\n",
       "      <td>-0.816000</td>\n",
       "      <td>-0.755032</td>\n",
       "      <td>1.038827</td>\n",
       "      <td>-0.763803</td>\n",
       "      <td>-0.909167</td>\n",
       "      <td>1.434107</td>\n",
       "    </tr>\n",
       "  </tbody>\n",
       "</table>\n",
       "</div>"
      ],
      "text/plain": [
       "    station  Present_Tmax  Present_Tmin  LDAPS_RHmin  LDAPS_RHmax  \\\n",
       "0 -0.840454      0.767053      0.871712     0.440310     0.369463   \n",
       "1  1.506439      1.395603      0.656175    -0.969831     0.150129   \n",
       "2  0.125914      1.151167      1.345891    -1.354140    -0.892991   \n",
       "3  1.644492      0.208341     -0.507720     0.068381     0.031173   \n",
       "4  1.506439      0.382939      0.569961     1.733360     0.946882   \n",
       "\n",
       "   LDAPS_Tmax_lapse  LDAPS_Tmin_lapse  LDAPS_WS  LDAPS_LH  LDAPS_CC1  \\\n",
       "0          0.310829          0.560593 -1.117930  1.326994  -0.755827   \n",
       "1          0.227135         -0.178899  0.478057 -0.177954  -0.988589   \n",
       "2          2.002623          1.110677 -0.022577 -1.074233   0.220101   \n",
       "3         -0.965983          0.323968  0.301232 -0.128890   0.470237   \n",
       "4         -0.743410          0.054086  2.280412  0.008583   1.672117   \n",
       "\n",
       "   LDAPS_CC2  LDAPS_CC3  LDAPS_CC4  LDAPS_PPT1  LDAPS_PPT2  LDAPS_PPT3  \\\n",
       "0  -0.604652   0.853357   1.601184   -0.346483   -0.280257   -0.259429   \n",
       "1  -1.157455  -1.276622  -0.450628   -0.346483   -0.280257   -0.259429   \n",
       "2  -0.453966  -0.135688  -0.218728   -0.213754   -0.280257   -0.259429   \n",
       "3   0.458634   0.973140   1.695442   -0.346483   -0.280257    2.320536   \n",
       "4   1.767208   2.359973   1.998886    2.013832   -0.073542   -0.181996   \n",
       "\n",
       "   LDAPS_PPT4       lat       lon       DEM     Slope  Solar radiation  \\\n",
       "0   -0.240459  0.668731 -1.929444 -0.908096 -0.846837         0.204085   \n",
       "1   -0.240459 -0.405322 -1.029404 -0.816000 -0.755032         1.013343   \n",
       "2   -0.240459 -0.943344 -0.801225 -0.560361 -0.461600         0.166178   \n",
       "3    1.015850 -0.405322 -0.256130 -0.773205 -0.718696        -1.575367   \n",
       "4    0.579002 -0.405322 -1.029404 -0.816000 -0.755032         1.038827   \n",
       "\n",
       "        Day     Month      Year  \n",
       "0  1.593695 -0.909167  1.434107  \n",
       "1 -0.651541 -0.909167 -0.710878  \n",
       "2  1.705957 -0.909167 -0.710878  \n",
       "3  0.920124  1.003643 -0.710878  \n",
       "4 -0.763803 -0.909167  1.434107  "
      ]
     },
     "execution_count": 58,
     "metadata": {},
     "output_type": "execute_result"
    }
   ],
   "source": [
    "XtrainDF=pd.DataFrame(x_train_scale,columns=X_train.columns)\n",
    "XtrainDF.head()"
   ]
  },
  {
   "cell_type": "code",
   "execution_count": 59,
   "metadata": {},
   "outputs": [
    {
     "data": {
      "text/html": [
       "<div>\n",
       "<style scoped>\n",
       "    .dataframe tbody tr th:only-of-type {\n",
       "        vertical-align: middle;\n",
       "    }\n",
       "\n",
       "    .dataframe tbody tr th {\n",
       "        vertical-align: top;\n",
       "    }\n",
       "\n",
       "    .dataframe thead th {\n",
       "        text-align: right;\n",
       "    }\n",
       "</style>\n",
       "<table border=\"1\" class=\"dataframe\">\n",
       "  <thead>\n",
       "    <tr style=\"text-align: right;\">\n",
       "      <th></th>\n",
       "      <th>station</th>\n",
       "      <th>Present_Tmax</th>\n",
       "      <th>Present_Tmin</th>\n",
       "      <th>LDAPS_RHmin</th>\n",
       "      <th>LDAPS_RHmax</th>\n",
       "      <th>LDAPS_Tmax_lapse</th>\n",
       "      <th>LDAPS_Tmin_lapse</th>\n",
       "      <th>LDAPS_WS</th>\n",
       "      <th>LDAPS_LH</th>\n",
       "      <th>LDAPS_CC1</th>\n",
       "      <th>LDAPS_CC2</th>\n",
       "      <th>LDAPS_CC3</th>\n",
       "      <th>LDAPS_CC4</th>\n",
       "      <th>LDAPS_PPT1</th>\n",
       "      <th>LDAPS_PPT2</th>\n",
       "      <th>LDAPS_PPT3</th>\n",
       "      <th>LDAPS_PPT4</th>\n",
       "      <th>lat</th>\n",
       "      <th>lon</th>\n",
       "      <th>DEM</th>\n",
       "      <th>Slope</th>\n",
       "      <th>Solar radiation</th>\n",
       "      <th>Day</th>\n",
       "      <th>Month</th>\n",
       "      <th>Year</th>\n",
       "    </tr>\n",
       "  </thead>\n",
       "  <tbody>\n",
       "    <tr>\n",
       "      <th>count</th>\n",
       "      <td>4.515000e+03</td>\n",
       "      <td>4.515000e+03</td>\n",
       "      <td>4.515000e+03</td>\n",
       "      <td>4.515000e+03</td>\n",
       "      <td>4.515000e+03</td>\n",
       "      <td>4.515000e+03</td>\n",
       "      <td>4.515000e+03</td>\n",
       "      <td>4.515000e+03</td>\n",
       "      <td>4515.000000</td>\n",
       "      <td>4.515000e+03</td>\n",
       "      <td>4.515000e+03</td>\n",
       "      <td>4.515000e+03</td>\n",
       "      <td>4.515000e+03</td>\n",
       "      <td>4.515000e+03</td>\n",
       "      <td>4.515000e+03</td>\n",
       "      <td>4.515000e+03</td>\n",
       "      <td>4.515000e+03</td>\n",
       "      <td>4.515000e+03</td>\n",
       "      <td>4.515000e+03</td>\n",
       "      <td>4.515000e+03</td>\n",
       "      <td>4.515000e+03</td>\n",
       "      <td>4.515000e+03</td>\n",
       "      <td>4.515000e+03</td>\n",
       "      <td>4.515000e+03</td>\n",
       "      <td>4.515000e+03</td>\n",
       "    </tr>\n",
       "    <tr>\n",
       "      <th>mean</th>\n",
       "      <td>1.085879e-16</td>\n",
       "      <td>-1.008766e-15</td>\n",
       "      <td>-2.647814e-16</td>\n",
       "      <td>4.233355e-16</td>\n",
       "      <td>-4.721214e-18</td>\n",
       "      <td>-6.810351e-16</td>\n",
       "      <td>6.216265e-16</td>\n",
       "      <td>1.416364e-16</td>\n",
       "      <td>0.000000</td>\n",
       "      <td>7.317882e-17</td>\n",
       "      <td>6.334296e-17</td>\n",
       "      <td>-1.770455e-17</td>\n",
       "      <td>-6.176922e-17</td>\n",
       "      <td>2.360607e-17</td>\n",
       "      <td>-2.950759e-17</td>\n",
       "      <td>7.868690e-19</td>\n",
       "      <td>-1.731112e-17</td>\n",
       "      <td>-1.795635e-14</td>\n",
       "      <td>2.515007e-13</td>\n",
       "      <td>-2.832729e-17</td>\n",
       "      <td>-5.822831e-17</td>\n",
       "      <td>1.967173e-15</td>\n",
       "      <td>5.508083e-17</td>\n",
       "      <td>-1.857011e-16</td>\n",
       "      <td>-3.343879e-14</td>\n",
       "    </tr>\n",
       "    <tr>\n",
       "      <th>std</th>\n",
       "      <td>1.000111e+00</td>\n",
       "      <td>1.000111e+00</td>\n",
       "      <td>1.000111e+00</td>\n",
       "      <td>1.000111e+00</td>\n",
       "      <td>1.000111e+00</td>\n",
       "      <td>1.000111e+00</td>\n",
       "      <td>1.000111e+00</td>\n",
       "      <td>1.000111e+00</td>\n",
       "      <td>1.000111</td>\n",
       "      <td>1.000111e+00</td>\n",
       "      <td>1.000111e+00</td>\n",
       "      <td>1.000111e+00</td>\n",
       "      <td>1.000111e+00</td>\n",
       "      <td>1.000111e+00</td>\n",
       "      <td>1.000111e+00</td>\n",
       "      <td>1.000111e+00</td>\n",
       "      <td>1.000111e+00</td>\n",
       "      <td>1.000111e+00</td>\n",
       "      <td>1.000111e+00</td>\n",
       "      <td>1.000111e+00</td>\n",
       "      <td>1.000111e+00</td>\n",
       "      <td>1.000111e+00</td>\n",
       "      <td>1.000111e+00</td>\n",
       "      <td>1.000111e+00</td>\n",
       "      <td>1.000111e+00</td>\n",
       "    </tr>\n",
       "    <tr>\n",
       "      <th>min</th>\n",
       "      <td>-1.668769e+00</td>\n",
       "      <td>-3.039169e+00</td>\n",
       "      <td>-3.094155e+00</td>\n",
       "      <td>-2.577987e+00</td>\n",
       "      <td>-3.041198e+00</td>\n",
       "      <td>-3.102249e+00</td>\n",
       "      <td>-3.153273e+00</td>\n",
       "      <td>-1.918125e+00</td>\n",
       "      <td>-2.112624</td>\n",
       "      <td>-1.383537e+00</td>\n",
       "      <td>-1.385296e+00</td>\n",
       "      <td>-1.282853e+00</td>\n",
       "      <td>-1.173790e+00</td>\n",
       "      <td>-3.464827e-01</td>\n",
       "      <td>-2.802574e-01</td>\n",
       "      <td>-2.594289e-01</td>\n",
       "      <td>-2.404587e-01</td>\n",
       "      <td>-1.750379e+00</td>\n",
       "      <td>-2.081564e+00</td>\n",
       "      <td>-9.080959e-01</td>\n",
       "      <td>-8.468367e-01</td>\n",
       "      <td>-2.312502e+00</td>\n",
       "      <td>-1.661898e+00</td>\n",
       "      <td>-2.821978e+00</td>\n",
       "      <td>-1.425873e+00</td>\n",
       "    </tr>\n",
       "    <tr>\n",
       "      <th>25%</th>\n",
       "      <td>-8.404541e-01</td>\n",
       "      <td>-6.297259e-01</td>\n",
       "      <td>-6.801492e-01</td>\n",
       "      <td>-7.197489e-01</td>\n",
       "      <td>-6.042240e-01</td>\n",
       "      <td>-6.991254e-01</td>\n",
       "      <td>-6.490484e-01</td>\n",
       "      <td>-6.753921e-01</td>\n",
       "      <td>-0.749797</td>\n",
       "      <td>-8.413428e-01</td>\n",
       "      <td>-8.237341e-01</td>\n",
       "      <td>-8.546840e-01</td>\n",
       "      <td>-8.535154e-01</td>\n",
       "      <td>-3.464827e-01</td>\n",
       "      <td>-2.802574e-01</td>\n",
       "      <td>-2.594289e-01</td>\n",
       "      <td>-2.404587e-01</td>\n",
       "      <td>-6.743330e-01</td>\n",
       "      <td>-6.744583e-01</td>\n",
       "      <td>-6.027670e-01</td>\n",
       "      <td>-7.186962e-01</td>\n",
       "      <td>-7.713529e-01</td>\n",
       "      <td>-8.760648e-01</td>\n",
       "      <td>-9.091675e-01</td>\n",
       "      <td>-7.108777e-01</td>\n",
       "    </tr>\n",
       "    <tr>\n",
       "      <th>50%</th>\n",
       "      <td>-1.213884e-02</td>\n",
       "      <td>3.374388e-02</td>\n",
       "      <td>5.267390e-02</td>\n",
       "      <td>-1.068638e-01</td>\n",
       "      <td>1.744829e-01</td>\n",
       "      <td>1.598124e-02</td>\n",
       "      <td>1.026744e-01</td>\n",
       "      <td>-2.266178e-01</td>\n",
       "      <td>-0.163669</td>\n",
       "      <td>-1.929650e-01</td>\n",
       "      <td>-1.469165e-01</td>\n",
       "      <td>-2.096751e-01</td>\n",
       "      <td>-2.819876e-01</td>\n",
       "      <td>-3.464827e-01</td>\n",
       "      <td>-2.802574e-01</td>\n",
       "      <td>-2.594289e-01</td>\n",
       "      <td>-2.404587e-01</td>\n",
       "      <td>1.327013e-01</td>\n",
       "      <td>6.078604e-02</td>\n",
       "      <td>-2.846117e-01</td>\n",
       "      <td>-4.615996e-01</td>\n",
       "      <td>2.160978e-01</td>\n",
       "      <td>2.202967e-02</td>\n",
       "      <td>-9.091675e-01</td>\n",
       "      <td>4.117358e-03</td>\n",
       "    </tr>\n",
       "    <tr>\n",
       "      <th>75%</th>\n",
       "      <td>8.161765e-01</td>\n",
       "      <td>7.670526e-01</td>\n",
       "      <td>6.992826e-01</td>\n",
       "      <td>6.968239e-01</td>\n",
       "      <td>7.706311e-01</td>\n",
       "      <td>7.125817e-01</td>\n",
       "      <td>6.955147e-01</td>\n",
       "      <td>4.782136e-01</td>\n",
       "      <td>0.669281</td>\n",
       "      <td>6.449122e-01</td>\n",
       "      <td>7.587498e-01</td>\n",
       "      <td>7.033820e-01</td>\n",
       "      <td>7.808418e-01</td>\n",
       "      <td>-3.230856e-01</td>\n",
       "      <td>-2.739079e-01</td>\n",
       "      <td>-2.551653e-01</td>\n",
       "      <td>-2.404587e-01</td>\n",
       "      <td>6.687314e-01</td>\n",
       "      <td>6.565875e-01</td>\n",
       "      <td>-2.067137e-02</td>\n",
       "      <td>3.910386e-01</td>\n",
       "      <td>8.928157e-01</td>\n",
       "      <td>9.201242e-01</td>\n",
       "      <td>1.003643e+00</td>\n",
       "      <td>7.191124e-01</td>\n",
       "    </tr>\n",
       "    <tr>\n",
       "      <th>max</th>\n",
       "      <td>1.644492e+00</td>\n",
       "      <td>2.687623e+00</td>\n",
       "      <td>2.768430e+00</td>\n",
       "      <td>2.888205e+00</td>\n",
       "      <td>1.698748e+00</td>\n",
       "      <td>2.992802e+00</td>\n",
       "      <td>2.673336e+00</td>\n",
       "      <td>3.635633e+00</td>\n",
       "      <td>3.031060</td>\n",
       "      <td>2.435739e+00</td>\n",
       "      <td>2.639214e+00</td>\n",
       "      <td>2.940838e+00</td>\n",
       "      <td>2.891213e+00</td>\n",
       "      <td>6.431544e+00</td>\n",
       "      <td>7.359552e+00</td>\n",
       "      <td>8.810050e+00</td>\n",
       "      <td>1.007290e+01</td>\n",
       "      <td>2.011796e+00</td>\n",
       "      <td>1.835514e+00</td>\n",
       "      <td>2.830734e+00</td>\n",
       "      <td>2.920033e+00</td>\n",
       "      <td>1.543873e+00</td>\n",
       "      <td>1.705957e+00</td>\n",
       "      <td>1.003643e+00</td>\n",
       "      <td>1.434107e+00</td>\n",
       "    </tr>\n",
       "  </tbody>\n",
       "</table>\n",
       "</div>"
      ],
      "text/plain": [
       "            station  Present_Tmax  Present_Tmin   LDAPS_RHmin   LDAPS_RHmax  \\\n",
       "count  4.515000e+03  4.515000e+03  4.515000e+03  4.515000e+03  4.515000e+03   \n",
       "mean   1.085879e-16 -1.008766e-15 -2.647814e-16  4.233355e-16 -4.721214e-18   \n",
       "std    1.000111e+00  1.000111e+00  1.000111e+00  1.000111e+00  1.000111e+00   \n",
       "min   -1.668769e+00 -3.039169e+00 -3.094155e+00 -2.577987e+00 -3.041198e+00   \n",
       "25%   -8.404541e-01 -6.297259e-01 -6.801492e-01 -7.197489e-01 -6.042240e-01   \n",
       "50%   -1.213884e-02  3.374388e-02  5.267390e-02 -1.068638e-01  1.744829e-01   \n",
       "75%    8.161765e-01  7.670526e-01  6.992826e-01  6.968239e-01  7.706311e-01   \n",
       "max    1.644492e+00  2.687623e+00  2.768430e+00  2.888205e+00  1.698748e+00   \n",
       "\n",
       "       LDAPS_Tmax_lapse  LDAPS_Tmin_lapse      LDAPS_WS     LDAPS_LH  \\\n",
       "count      4.515000e+03      4.515000e+03  4.515000e+03  4515.000000   \n",
       "mean      -6.810351e-16      6.216265e-16  1.416364e-16     0.000000   \n",
       "std        1.000111e+00      1.000111e+00  1.000111e+00     1.000111   \n",
       "min       -3.102249e+00     -3.153273e+00 -1.918125e+00    -2.112624   \n",
       "25%       -6.991254e-01     -6.490484e-01 -6.753921e-01    -0.749797   \n",
       "50%        1.598124e-02      1.026744e-01 -2.266178e-01    -0.163669   \n",
       "75%        7.125817e-01      6.955147e-01  4.782136e-01     0.669281   \n",
       "max        2.992802e+00      2.673336e+00  3.635633e+00     3.031060   \n",
       "\n",
       "          LDAPS_CC1     LDAPS_CC2     LDAPS_CC3     LDAPS_CC4    LDAPS_PPT1  \\\n",
       "count  4.515000e+03  4.515000e+03  4.515000e+03  4.515000e+03  4.515000e+03   \n",
       "mean   7.317882e-17  6.334296e-17 -1.770455e-17 -6.176922e-17  2.360607e-17   \n",
       "std    1.000111e+00  1.000111e+00  1.000111e+00  1.000111e+00  1.000111e+00   \n",
       "min   -1.383537e+00 -1.385296e+00 -1.282853e+00 -1.173790e+00 -3.464827e-01   \n",
       "25%   -8.413428e-01 -8.237341e-01 -8.546840e-01 -8.535154e-01 -3.464827e-01   \n",
       "50%   -1.929650e-01 -1.469165e-01 -2.096751e-01 -2.819876e-01 -3.464827e-01   \n",
       "75%    6.449122e-01  7.587498e-01  7.033820e-01  7.808418e-01 -3.230856e-01   \n",
       "max    2.435739e+00  2.639214e+00  2.940838e+00  2.891213e+00  6.431544e+00   \n",
       "\n",
       "         LDAPS_PPT2    LDAPS_PPT3    LDAPS_PPT4           lat           lon  \\\n",
       "count  4.515000e+03  4.515000e+03  4.515000e+03  4.515000e+03  4.515000e+03   \n",
       "mean  -2.950759e-17  7.868690e-19 -1.731112e-17 -1.795635e-14  2.515007e-13   \n",
       "std    1.000111e+00  1.000111e+00  1.000111e+00  1.000111e+00  1.000111e+00   \n",
       "min   -2.802574e-01 -2.594289e-01 -2.404587e-01 -1.750379e+00 -2.081564e+00   \n",
       "25%   -2.802574e-01 -2.594289e-01 -2.404587e-01 -6.743330e-01 -6.744583e-01   \n",
       "50%   -2.802574e-01 -2.594289e-01 -2.404587e-01  1.327013e-01  6.078604e-02   \n",
       "75%   -2.739079e-01 -2.551653e-01 -2.404587e-01  6.687314e-01  6.565875e-01   \n",
       "max    7.359552e+00  8.810050e+00  1.007290e+01  2.011796e+00  1.835514e+00   \n",
       "\n",
       "                DEM         Slope  Solar radiation           Day  \\\n",
       "count  4.515000e+03  4.515000e+03     4.515000e+03  4.515000e+03   \n",
       "mean  -2.832729e-17 -5.822831e-17     1.967173e-15  5.508083e-17   \n",
       "std    1.000111e+00  1.000111e+00     1.000111e+00  1.000111e+00   \n",
       "min   -9.080959e-01 -8.468367e-01    -2.312502e+00 -1.661898e+00   \n",
       "25%   -6.027670e-01 -7.186962e-01    -7.713529e-01 -8.760648e-01   \n",
       "50%   -2.846117e-01 -4.615996e-01     2.160978e-01  2.202967e-02   \n",
       "75%   -2.067137e-02  3.910386e-01     8.928157e-01  9.201242e-01   \n",
       "max    2.830734e+00  2.920033e+00     1.543873e+00  1.705957e+00   \n",
       "\n",
       "              Month          Year  \n",
       "count  4.515000e+03  4.515000e+03  \n",
       "mean  -1.857011e-16 -3.343879e-14  \n",
       "std    1.000111e+00  1.000111e+00  \n",
       "min   -2.821978e+00 -1.425873e+00  \n",
       "25%   -9.091675e-01 -7.108777e-01  \n",
       "50%   -9.091675e-01  4.117358e-03  \n",
       "75%    1.003643e+00  7.191124e-01  \n",
       "max    1.003643e+00  1.434107e+00  "
      ]
     },
     "execution_count": 59,
     "metadata": {},
     "output_type": "execute_result"
    }
   ],
   "source": [
    "XtrainDF.describe()"
   ]
  },
  {
   "cell_type": "code",
   "execution_count": 62,
   "metadata": {},
   "outputs": [],
   "source": [
    "x_test_scale=scaler.transform(X_test)"
   ]
  },
  {
   "cell_type": "code",
   "execution_count": 63,
   "metadata": {},
   "outputs": [
    {
     "data": {
      "text/html": [
       "<div>\n",
       "<style scoped>\n",
       "    .dataframe tbody tr th:only-of-type {\n",
       "        vertical-align: middle;\n",
       "    }\n",
       "\n",
       "    .dataframe tbody tr th {\n",
       "        vertical-align: top;\n",
       "    }\n",
       "\n",
       "    .dataframe thead th {\n",
       "        text-align: right;\n",
       "    }\n",
       "</style>\n",
       "<table border=\"1\" class=\"dataframe\">\n",
       "  <thead>\n",
       "    <tr style=\"text-align: right;\">\n",
       "      <th></th>\n",
       "      <th>station</th>\n",
       "      <th>Present_Tmax</th>\n",
       "      <th>Present_Tmin</th>\n",
       "      <th>LDAPS_RHmin</th>\n",
       "      <th>LDAPS_RHmax</th>\n",
       "      <th>LDAPS_Tmax_lapse</th>\n",
       "      <th>LDAPS_Tmin_lapse</th>\n",
       "      <th>LDAPS_WS</th>\n",
       "      <th>LDAPS_LH</th>\n",
       "      <th>LDAPS_CC1</th>\n",
       "      <th>LDAPS_CC2</th>\n",
       "      <th>LDAPS_CC3</th>\n",
       "      <th>LDAPS_CC4</th>\n",
       "      <th>LDAPS_PPT1</th>\n",
       "      <th>LDAPS_PPT2</th>\n",
       "      <th>LDAPS_PPT3</th>\n",
       "      <th>LDAPS_PPT4</th>\n",
       "      <th>lat</th>\n",
       "      <th>lon</th>\n",
       "      <th>DEM</th>\n",
       "      <th>Slope</th>\n",
       "      <th>Solar radiation</th>\n",
       "      <th>Day</th>\n",
       "      <th>Month</th>\n",
       "      <th>Year</th>\n",
       "    </tr>\n",
       "  </thead>\n",
       "  <tbody>\n",
       "    <tr>\n",
       "      <th>0</th>\n",
       "      <td>1.092282</td>\n",
       "      <td>-0.455129</td>\n",
       "      <td>-1.068114</td>\n",
       "      <td>-1.660028</td>\n",
       "      <td>-1.311395</td>\n",
       "      <td>0.598702</td>\n",
       "      <td>-1.201813</td>\n",
       "      <td>-0.616148</td>\n",
       "      <td>-1.268875</td>\n",
       "      <td>-1.141927</td>\n",
       "      <td>-1.151514</td>\n",
       "      <td>-0.523105</td>\n",
       "      <td>0.292761</td>\n",
       "      <td>-0.346483</td>\n",
       "      <td>-0.280257</td>\n",
       "      <td>-0.259429</td>\n",
       "      <td>-0.091534</td>\n",
       "      <td>0.132701</td>\n",
       "      <td>0.631234</td>\n",
       "      <td>-0.647678</td>\n",
       "      <td>-0.495637</td>\n",
       "      <td>1.148739</td>\n",
       "      <td>-1.212850</td>\n",
       "      <td>-0.909167</td>\n",
       "      <td>0.004117</td>\n",
       "    </tr>\n",
       "    <tr>\n",
       "      <th>1</th>\n",
       "      <td>-0.426296</td>\n",
       "      <td>-1.328115</td>\n",
       "      <td>-0.162862</td>\n",
       "      <td>-0.364650</td>\n",
       "      <td>1.072516</td>\n",
       "      <td>-1.376968</td>\n",
       "      <td>-0.565975</td>\n",
       "      <td>0.635758</td>\n",
       "      <td>-0.111047</td>\n",
       "      <td>-0.559524</td>\n",
       "      <td>-0.888003</td>\n",
       "      <td>-1.004244</td>\n",
       "      <td>-0.350092</td>\n",
       "      <td>-0.346483</td>\n",
       "      <td>-0.280257</td>\n",
       "      <td>-0.259429</td>\n",
       "      <td>-0.240459</td>\n",
       "      <td>-1.750379</td>\n",
       "      <td>-0.446279</td>\n",
       "      <td>2.759160</td>\n",
       "      <td>2.920033</td>\n",
       "      <td>-2.213035</td>\n",
       "      <td>1.481433</td>\n",
       "      <td>1.003643</td>\n",
       "      <td>-1.425873</td>\n",
       "    </tr>\n",
       "    <tr>\n",
       "      <th>2</th>\n",
       "      <td>0.678124</td>\n",
       "      <td>0.068663</td>\n",
       "      <td>0.311317</td>\n",
       "      <td>-1.249746</td>\n",
       "      <td>0.026764</td>\n",
       "      <td>0.392475</td>\n",
       "      <td>-0.993389</td>\n",
       "      <td>-1.053557</td>\n",
       "      <td>0.955372</td>\n",
       "      <td>-0.499548</td>\n",
       "      <td>-1.260962</td>\n",
       "      <td>-1.267363</td>\n",
       "      <td>-0.710249</td>\n",
       "      <td>-0.346483</td>\n",
       "      <td>-0.280257</td>\n",
       "      <td>-0.259429</td>\n",
       "      <td>-0.240459</td>\n",
       "      <td>-1.212356</td>\n",
       "      <td>0.428408</td>\n",
       "      <td>-0.084011</td>\n",
       "      <td>-0.006805</td>\n",
       "      <td>-1.429326</td>\n",
       "      <td>0.695601</td>\n",
       "      <td>1.003643</td>\n",
       "      <td>0.004117</td>\n",
       "    </tr>\n",
       "    <tr>\n",
       "      <th>3</th>\n",
       "      <td>0.540071</td>\n",
       "      <td>0.732133</td>\n",
       "      <td>-0.766364</td>\n",
       "      <td>-0.351330</td>\n",
       "      <td>0.933117</td>\n",
       "      <td>0.711850</td>\n",
       "      <td>-0.158454</td>\n",
       "      <td>-1.311091</td>\n",
       "      <td>1.133474</td>\n",
       "      <td>-0.225363</td>\n",
       "      <td>-0.877526</td>\n",
       "      <td>0.995580</td>\n",
       "      <td>1.671821</td>\n",
       "      <td>-0.346483</td>\n",
       "      <td>-0.280257</td>\n",
       "      <td>-0.259429</td>\n",
       "      <td>0.556436</td>\n",
       "      <td>1.475766</td>\n",
       "      <td>1.379155</td>\n",
       "      <td>-0.139609</td>\n",
       "      <td>-0.403017</td>\n",
       "      <td>1.039049</td>\n",
       "      <td>-0.651541</td>\n",
       "      <td>-0.909167</td>\n",
       "      <td>0.719112</td>\n",
       "    </tr>\n",
       "    <tr>\n",
       "      <th>4</th>\n",
       "      <td>-0.150191</td>\n",
       "      <td>-1.188437</td>\n",
       "      <td>-0.292184</td>\n",
       "      <td>0.377576</td>\n",
       "      <td>-1.360036</td>\n",
       "      <td>-1.381724</td>\n",
       "      <td>-0.643654</td>\n",
       "      <td>2.414938</td>\n",
       "      <td>-1.061545</td>\n",
       "      <td>1.026691</td>\n",
       "      <td>0.642504</td>\n",
       "      <td>1.467125</td>\n",
       "      <td>1.816143</td>\n",
       "      <td>-0.231636</td>\n",
       "      <td>-0.273566</td>\n",
       "      <td>-0.259429</td>\n",
       "      <td>-0.230367</td>\n",
       "      <td>0.132701</td>\n",
       "      <td>-0.027950</td>\n",
       "      <td>1.330883</td>\n",
       "      <td>-0.480064</td>\n",
       "      <td>-0.539617</td>\n",
       "      <td>-0.314756</td>\n",
       "      <td>1.003643</td>\n",
       "      <td>1.434107</td>\n",
       "    </tr>\n",
       "  </tbody>\n",
       "</table>\n",
       "</div>"
      ],
      "text/plain": [
       "    station  Present_Tmax  Present_Tmin  LDAPS_RHmin  LDAPS_RHmax  \\\n",
       "0  1.092282     -0.455129     -1.068114    -1.660028    -1.311395   \n",
       "1 -0.426296     -1.328115     -0.162862    -0.364650     1.072516   \n",
       "2  0.678124      0.068663      0.311317    -1.249746     0.026764   \n",
       "3  0.540071      0.732133     -0.766364    -0.351330     0.933117   \n",
       "4 -0.150191     -1.188437     -0.292184     0.377576    -1.360036   \n",
       "\n",
       "   LDAPS_Tmax_lapse  LDAPS_Tmin_lapse  LDAPS_WS  LDAPS_LH  LDAPS_CC1  \\\n",
       "0          0.598702         -1.201813 -0.616148 -1.268875  -1.141927   \n",
       "1         -1.376968         -0.565975  0.635758 -0.111047  -0.559524   \n",
       "2          0.392475         -0.993389 -1.053557  0.955372  -0.499548   \n",
       "3          0.711850         -0.158454 -1.311091  1.133474  -0.225363   \n",
       "4         -1.381724         -0.643654  2.414938 -1.061545   1.026691   \n",
       "\n",
       "   LDAPS_CC2  LDAPS_CC3  LDAPS_CC4  LDAPS_PPT1  LDAPS_PPT2  LDAPS_PPT3  \\\n",
       "0  -1.151514  -0.523105   0.292761   -0.346483   -0.280257   -0.259429   \n",
       "1  -0.888003  -1.004244  -0.350092   -0.346483   -0.280257   -0.259429   \n",
       "2  -1.260962  -1.267363  -0.710249   -0.346483   -0.280257   -0.259429   \n",
       "3  -0.877526   0.995580   1.671821   -0.346483   -0.280257   -0.259429   \n",
       "4   0.642504   1.467125   1.816143   -0.231636   -0.273566   -0.259429   \n",
       "\n",
       "   LDAPS_PPT4       lat       lon       DEM     Slope  Solar radiation  \\\n",
       "0   -0.091534  0.132701  0.631234 -0.647678 -0.495637         1.148739   \n",
       "1   -0.240459 -1.750379 -0.446279  2.759160  2.920033        -2.213035   \n",
       "2   -0.240459 -1.212356  0.428408 -0.084011 -0.006805        -1.429326   \n",
       "3    0.556436  1.475766  1.379155 -0.139609 -0.403017         1.039049   \n",
       "4   -0.230367  0.132701 -0.027950  1.330883 -0.480064        -0.539617   \n",
       "\n",
       "        Day     Month      Year  \n",
       "0 -1.212850 -0.909167  0.004117  \n",
       "1  1.481433  1.003643 -1.425873  \n",
       "2  0.695601  1.003643  0.004117  \n",
       "3 -0.651541 -0.909167  0.719112  \n",
       "4 -0.314756  1.003643  1.434107  "
      ]
     },
     "execution_count": 63,
     "metadata": {},
     "output_type": "execute_result"
    }
   ],
   "source": [
    "XtestDF=pd.DataFrame(x_test_scale,columns=X_train.columns)\n",
    "XtestDF.head()"
   ]
  },
  {
   "cell_type": "code",
   "execution_count": 95,
   "metadata": {},
   "outputs": [],
   "source": []
  },
  {
   "cell_type": "code",
   "execution_count": 64,
   "metadata": {},
   "outputs": [
    {
     "data": {
      "text/plain": [
       "0.7775545251615913"
      ]
     },
     "execution_count": 64,
     "metadata": {},
     "output_type": "execute_result"
    }
   ],
   "source": [
    "lr=LinearRegression()\n",
    "lr.fit(XtrainDF,y_train)\n",
    "pred=lr.predict(XtestDF)\n",
    "\n",
    "lrR2=r2_score(y_test, pred)\n",
    "lrR2"
   ]
  },
  {
   "cell_type": "code",
   "execution_count": 65,
   "metadata": {},
   "outputs": [
    {
     "data": {
      "text/plain": [
       "1.3693685929057815"
      ]
     },
     "execution_count": 65,
     "metadata": {},
     "output_type": "execute_result"
    }
   ],
   "source": [
    "lrRMSE=np.sqrt(mean_squared_error(y_test,pred))\n",
    "lrRMSE"
   ]
  },
  {
   "cell_type": "code",
   "execution_count": 66,
   "metadata": {},
   "outputs": [
    {
     "data": {
      "text/plain": [
       "0.8687527777083489"
      ]
     },
     "execution_count": 66,
     "metadata": {},
     "output_type": "execute_result"
    }
   ],
   "source": [
    "svr=SVR()\n",
    "svr.fit(XtrainDF,y_train)\n",
    "pred=svr.predict(XtestDF)\n",
    "svrR2=r2_score(y_test, pred)\n",
    "svrR2"
   ]
  },
  {
   "cell_type": "code",
   "execution_count": 67,
   "metadata": {},
   "outputs": [
    {
     "data": {
      "text/plain": [
       "1.051849574480975"
      ]
     },
     "execution_count": 67,
     "metadata": {},
     "output_type": "execute_result"
    }
   ],
   "source": [
    "svrRMSE=np.sqrt(mean_squared_error(y_test,pred))\n",
    "svrRMSE"
   ]
  },
  {
   "cell_type": "code",
   "execution_count": 68,
   "metadata": {},
   "outputs": [
    {
     "data": {
      "text/plain": [
       "0.7753325125677653"
      ]
     },
     "execution_count": 68,
     "metadata": {},
     "output_type": "execute_result"
    }
   ],
   "source": [
    "sgd=SGDRegressor()\n",
    "sgd.fit(XtrainDF,y_train)\n",
    "pred=sgd.predict(XtestDF)\n",
    "sgdR2=r2_score(y_test, pred)\n",
    "sgdR2"
   ]
  },
  {
   "cell_type": "code",
   "execution_count": 69,
   "metadata": {},
   "outputs": [
    {
     "data": {
      "text/plain": [
       "1.376190924181797"
      ]
     },
     "execution_count": 69,
     "metadata": {},
     "output_type": "execute_result"
    }
   ],
   "source": [
    "sgdRMSE=np.sqrt(mean_squared_error(y_test,pred))\n",
    "sgdRMSE"
   ]
  },
  {
   "cell_type": "code",
   "execution_count": 70,
   "metadata": {},
   "outputs": [
    {
     "data": {
      "text/plain": [
       "0.8550260482576495"
      ]
     },
     "execution_count": 70,
     "metadata": {},
     "output_type": "execute_result"
    }
   ],
   "source": [
    "knnR=KNeighborsRegressor()\n",
    "knnR.fit(XtrainDF,y_train)\n",
    "pred=knnR.predict(XtestDF)\n",
    "knnR2=r2_score(y_test, pred)\n",
    "knnR2"
   ]
  },
  {
   "cell_type": "code",
   "execution_count": 71,
   "metadata": {},
   "outputs": [
    {
     "data": {
      "text/plain": [
       "1.105486806405527"
      ]
     },
     "execution_count": 71,
     "metadata": {},
     "output_type": "execute_result"
    }
   ],
   "source": [
    "knnrRMSE=np.sqrt(mean_squared_error(y_test,pred))\n",
    "knnrRMSE"
   ]
  },
  {
   "cell_type": "code",
   "execution_count": null,
   "metadata": {},
   "outputs": [],
   "source": []
  },
  {
   "cell_type": "markdown",
   "metadata": {},
   "source": [
    "## frinding cross val score for each model"
   ]
  },
  {
   "cell_type": "code",
   "execution_count": 72,
   "metadata": {},
   "outputs": [],
   "source": [
    "from sklearn.pipeline import Pipeline\n"
   ]
  },
  {
   "cell_type": "code",
   "execution_count": 73,
   "metadata": {},
   "outputs": [
    {
     "data": {
      "text/plain": [
       "0.6476002847401803"
      ]
     },
     "execution_count": 73,
     "metadata": {},
     "output_type": "execute_result"
    }
   ],
   "source": [
    "\n",
    "operations = [('scaler',StandardScaler()),('lr',lr)]\n",
    "pipe=Pipeline(operations)\n",
    "lrCV=cross_val_score(pipe,X,y,cv=5,scoring='r2').mean()\n",
    "lrCV"
   ]
  },
  {
   "cell_type": "code",
   "execution_count": 74,
   "metadata": {},
   "outputs": [
    {
     "data": {
      "text/plain": [
       "0.6394710471044791"
      ]
     },
     "execution_count": 74,
     "metadata": {},
     "output_type": "execute_result"
    }
   ],
   "source": [
    "\n",
    "operations = [('scaler',StandardScaler()),('svr',svr)]\n",
    "pipe=Pipeline(operations)\n",
    "\n",
    "svrCV=cross_val_score(pipe,X,y,cv=5,scoring='r2').mean()\n",
    "svrCV"
   ]
  },
  {
   "cell_type": "code",
   "execution_count": 75,
   "metadata": {},
   "outputs": [
    {
     "data": {
      "text/plain": [
       "0.6476989142911165"
      ]
     },
     "execution_count": 75,
     "metadata": {},
     "output_type": "execute_result"
    }
   ],
   "source": [
    "operations = [('scaler',StandardScaler()),('sgd',sgd)]\n",
    "pipe=Pipeline(operations)\n",
    "\n",
    "sgdCV=cross_val_score(pipe,X,y,cv=5,scoring='r2').mean()\n",
    "sgdCV"
   ]
  },
  {
   "cell_type": "code",
   "execution_count": 76,
   "metadata": {},
   "outputs": [
    {
     "data": {
      "text/plain": [
       "0.44701531809249245"
      ]
     },
     "execution_count": 76,
     "metadata": {},
     "output_type": "execute_result"
    }
   ],
   "source": [
    "operations = [('scaler',StandardScaler()),('knnr',knnR)]\n",
    "pipe=Pipeline(operations)\n",
    "\n",
    "knnrCV=cross_val_score(pipe,X,y,cv=5,scoring='r2').mean()\n",
    "knnrCV"
   ]
  },
  {
   "cell_type": "code",
   "execution_count": 77,
   "metadata": {},
   "outputs": [],
   "source": [
    "def rmseValue(model,indepen,depend):\n",
    "    y_pred=model.predict(indepen)\n",
    "    return np.sqrt(mean_squared_error(y_pred,depend))\n",
    "\n",
    "operations = [('scaler',StandardScaler()),('lr',lr)]\n",
    "pipe=Pipeline(operations)\n",
    "lrCV1=cross_val_score(pipe,X,y,cv=5,scoring=rmseValue).mean()\n",
    "\n",
    "operations = [('scaler',StandardScaler()),('svr',svr)]\n",
    "pipe=Pipeline(operations)\n",
    "svrCV1=cross_val_score(pipe,X,y,cv=5,scoring=rmseValue).mean()\n",
    "\n",
    "operations = [('scaler',StandardScaler()),('SGD',sgd)]\n",
    "pipe=Pipeline(operations)\n",
    "sgdCV1=cross_val_score(pipe,X,y,cv=5,scoring=rmseValue).mean()\n",
    "\n",
    "operations = [('scaler',StandardScaler()),('knnr',knnR)]\n",
    "pipe=Pipeline(operations)\n",
    "knnrCV1=cross_val_score(pipe,X,y,cv=5,scoring=rmseValue).mean()\n"
   ]
  },
  {
   "cell_type": "markdown",
   "metadata": {},
   "source": [
    "### Comparing r2 scores for normal model and cross val score"
   ]
  },
  {
   "cell_type": "code",
   "execution_count": 78,
   "metadata": {},
   "outputs": [
    {
     "name": "stdout",
     "output_type": "stream",
     "text": [
      "0.12995424042141102\n",
      "0.2292817306038698\n",
      "0.12763359827664877\n",
      "0.40801073016515704\n"
     ]
    }
   ],
   "source": [
    "print(lrR2-lrCV)\n",
    "print(svrR2-svrCV)\n",
    "print(sgdR2-sgdCV)\n",
    "print(knnR2-knnrCV)"
   ]
  },
  {
   "cell_type": "markdown",
   "metadata": {},
   "source": [
    "Stochastic Gradient Descent is the best method, as the difference between r2Score for cross val score and normal model r2Score is less (0.12763359827664877)"
   ]
  },
  {
   "cell_type": "code",
   "execution_count": 79,
   "metadata": {},
   "outputs": [
    {
     "name": "stdout",
     "output_type": "stream",
     "text": [
      "-0.3017482060883121\n",
      "-0.6389850752966595\n",
      "-0.27527778427776495\n",
      "-0.9860260676016657\n"
     ]
    }
   ],
   "source": [
    "print(lrRMSE-lrCV1)\n",
    "print(svrRMSE-svrCV1)\n",
    "print(sgdRMSE-sgdCV1)\n",
    "print(knnrRMSE-knnrCV1)"
   ]
  },
  {
   "cell_type": "markdown",
   "metadata": {},
   "source": [
    "Even the difference between Rmse is less for Stochastic Gradient Descent"
   ]
  },
  {
   "cell_type": "markdown",
   "metadata": {},
   "source": [
    "## Hyper Parameter Tuning using a pipeline for KNNR"
   ]
  },
  {
   "cell_type": "code",
   "execution_count": 80,
   "metadata": {},
   "outputs": [
    {
     "name": "stdout",
     "output_type": "stream",
     "text": [
      "Help on SGDRegressor in module sklearn.linear_model._stochastic_gradient object:\n",
      "\n",
      "class SGDRegressor(BaseSGDRegressor)\n",
      " |  SGDRegressor(loss='squared_loss', *, penalty='l2', alpha=0.0001, l1_ratio=0.15, fit_intercept=True, max_iter=1000, tol=0.001, shuffle=True, verbose=0, epsilon=0.1, random_state=None, learning_rate='invscaling', eta0=0.01, power_t=0.25, early_stopping=False, validation_fraction=0.1, n_iter_no_change=5, warm_start=False, average=False)\n",
      " |  \n",
      " |  Linear model fitted by minimizing a regularized empirical loss with SGD\n",
      " |  \n",
      " |  SGD stands for Stochastic Gradient Descent: the gradient of the loss is\n",
      " |  estimated each sample at a time and the model is updated along the way with\n",
      " |  a decreasing strength schedule (aka learning rate).\n",
      " |  \n",
      " |  The regularizer is a penalty added to the loss function that shrinks model\n",
      " |  parameters towards the zero vector using either the squared euclidean norm\n",
      " |  L2 or the absolute norm L1 or a combination of both (Elastic Net). If the\n",
      " |  parameter update crosses the 0.0 value because of the regularizer, the\n",
      " |  update is truncated to 0.0 to allow for learning sparse models and achieve\n",
      " |  online feature selection.\n",
      " |  \n",
      " |  This implementation works with data represented as dense numpy arrays of\n",
      " |  floating point values for the features.\n",
      " |  \n",
      " |  Read more in the :ref:`User Guide <sgd>`.\n",
      " |  \n",
      " |  Parameters\n",
      " |  ----------\n",
      " |  loss : str, default='squared_loss'\n",
      " |      The loss function to be used. The possible values are 'squared_loss',\n",
      " |      'huber', 'epsilon_insensitive', or 'squared_epsilon_insensitive'\n",
      " |  \n",
      " |      The 'squared_loss' refers to the ordinary least squares fit.\n",
      " |      'huber' modifies 'squared_loss' to focus less on getting outliers\n",
      " |      correct by switching from squared to linear loss past a distance of\n",
      " |      epsilon. 'epsilon_insensitive' ignores errors less than epsilon and is\n",
      " |      linear past that; this is the loss function used in SVR.\n",
      " |      'squared_epsilon_insensitive' is the same but becomes squared loss past\n",
      " |      a tolerance of epsilon.\n",
      " |  \n",
      " |      More details about the losses formulas can be found in the\n",
      " |      :ref:`User Guide <sgd_mathematical_formulation>`.\n",
      " |  \n",
      " |  penalty : {'l2', 'l1', 'elasticnet'}, default='l2'\n",
      " |      The penalty (aka regularization term) to be used. Defaults to 'l2'\n",
      " |      which is the standard regularizer for linear SVM models. 'l1' and\n",
      " |      'elasticnet' might bring sparsity to the model (feature selection)\n",
      " |      not achievable with 'l2'.\n",
      " |  \n",
      " |  alpha : float, default=0.0001\n",
      " |      Constant that multiplies the regularization term. The higher the\n",
      " |      value, the stronger the regularization.\n",
      " |      Also used to compute the learning rate when set to `learning_rate` is\n",
      " |      set to 'optimal'.\n",
      " |  \n",
      " |  l1_ratio : float, default=0.15\n",
      " |      The Elastic Net mixing parameter, with 0 <= l1_ratio <= 1.\n",
      " |      l1_ratio=0 corresponds to L2 penalty, l1_ratio=1 to L1.\n",
      " |      Only used if `penalty` is 'elasticnet'.\n",
      " |  \n",
      " |  fit_intercept : bool, default=True\n",
      " |      Whether the intercept should be estimated or not. If False, the\n",
      " |      data is assumed to be already centered.\n",
      " |  \n",
      " |  max_iter : int, default=1000\n",
      " |      The maximum number of passes over the training data (aka epochs).\n",
      " |      It only impacts the behavior in the ``fit`` method, and not the\n",
      " |      :meth:`partial_fit` method.\n",
      " |  \n",
      " |      .. versionadded:: 0.19\n",
      " |  \n",
      " |  tol : float, default=1e-3\n",
      " |      The stopping criterion. If it is not None, training will stop\n",
      " |      when (loss > best_loss - tol) for ``n_iter_no_change`` consecutive\n",
      " |      epochs.\n",
      " |      Convergence is checked against the training loss or the\n",
      " |      validation loss depending on the `early_stopping` parameter.\n",
      " |  \n",
      " |      .. versionadded:: 0.19\n",
      " |  \n",
      " |  shuffle : bool, default=True\n",
      " |      Whether or not the training data should be shuffled after each epoch.\n",
      " |  \n",
      " |  verbose : int, default=0\n",
      " |      The verbosity level.\n",
      " |  \n",
      " |  epsilon : float, default=0.1\n",
      " |      Epsilon in the epsilon-insensitive loss functions; only if `loss` is\n",
      " |      'huber', 'epsilon_insensitive', or 'squared_epsilon_insensitive'.\n",
      " |      For 'huber', determines the threshold at which it becomes less\n",
      " |      important to get the prediction exactly right.\n",
      " |      For epsilon-insensitive, any differences between the current prediction\n",
      " |      and the correct label are ignored if they are less than this threshold.\n",
      " |  \n",
      " |  random_state : int, RandomState instance, default=None\n",
      " |      Used for shuffling the data, when ``shuffle`` is set to ``True``.\n",
      " |      Pass an int for reproducible output across multiple function calls.\n",
      " |      See :term:`Glossary <random_state>`.\n",
      " |  \n",
      " |  learning_rate : string, default='invscaling'\n",
      " |      The learning rate schedule:\n",
      " |  \n",
      " |      - 'constant': `eta = eta0`\n",
      " |      - 'optimal': `eta = 1.0 / (alpha * (t + t0))`\n",
      " |        where t0 is chosen by a heuristic proposed by Leon Bottou.\n",
      " |      - 'invscaling': `eta = eta0 / pow(t, power_t)`\n",
      " |      - 'adaptive': eta = eta0, as long as the training keeps decreasing.\n",
      " |        Each time n_iter_no_change consecutive epochs fail to decrease the\n",
      " |        training loss by tol or fail to increase validation score by tol if\n",
      " |        early_stopping is True, the current learning rate is divided by 5.\n",
      " |  \n",
      " |          .. versionadded:: 0.20\n",
      " |              Added 'adaptive' option\n",
      " |  \n",
      " |  eta0 : double, default=0.01\n",
      " |      The initial learning rate for the 'constant', 'invscaling' or\n",
      " |      'adaptive' schedules. The default value is 0.01.\n",
      " |  \n",
      " |  power_t : double, default=0.25\n",
      " |      The exponent for inverse scaling learning rate.\n",
      " |  \n",
      " |  early_stopping : bool, default=False\n",
      " |      Whether to use early stopping to terminate training when validation\n",
      " |      score is not improving. If set to True, it will automatically set aside\n",
      " |      a fraction of training data as validation and terminate\n",
      " |      training when validation score returned by the `score` method is not\n",
      " |      improving by at least `tol` for `n_iter_no_change` consecutive\n",
      " |      epochs.\n",
      " |  \n",
      " |      .. versionadded:: 0.20\n",
      " |          Added 'early_stopping' option\n",
      " |  \n",
      " |  validation_fraction : float, default=0.1\n",
      " |      The proportion of training data to set aside as validation set for\n",
      " |      early stopping. Must be between 0 and 1.\n",
      " |      Only used if `early_stopping` is True.\n",
      " |  \n",
      " |      .. versionadded:: 0.20\n",
      " |          Added 'validation_fraction' option\n",
      " |  \n",
      " |  n_iter_no_change : int, default=5\n",
      " |      Number of iterations with no improvement to wait before stopping\n",
      " |      fitting.\n",
      " |      Convergence is checked against the training loss or the\n",
      " |      validation loss depending on the `early_stopping` parameter.\n",
      " |  \n",
      " |      .. versionadded:: 0.20\n",
      " |          Added 'n_iter_no_change' option\n",
      " |  \n",
      " |  warm_start : bool, default=False\n",
      " |      When set to True, reuse the solution of the previous call to fit as\n",
      " |      initialization, otherwise, just erase the previous solution.\n",
      " |      See :term:`the Glossary <warm_start>`.\n",
      " |  \n",
      " |      Repeatedly calling fit or partial_fit when warm_start is True can\n",
      " |      result in a different solution than when calling fit a single time\n",
      " |      because of the way the data is shuffled.\n",
      " |      If a dynamic learning rate is used, the learning rate is adapted\n",
      " |      depending on the number of samples already seen. Calling ``fit`` resets\n",
      " |      this counter, while ``partial_fit``  will result in increasing the\n",
      " |      existing counter.\n",
      " |  \n",
      " |  average : bool or int, default=False\n",
      " |      When set to True, computes the averaged SGD weights accross all\n",
      " |      updates and stores the result in the ``coef_`` attribute. If set to\n",
      " |      an int greater than 1, averaging will begin once the total number of\n",
      " |      samples seen reaches `average`. So ``average=10`` will begin\n",
      " |      averaging after seeing 10 samples.\n",
      " |  \n",
      " |  Attributes\n",
      " |  ----------\n",
      " |  coef_ : ndarray of shape (n_features,)\n",
      " |      Weights assigned to the features.\n",
      " |  \n",
      " |  intercept_ : ndarray of shape (1,)\n",
      " |      The intercept term.\n",
      " |  \n",
      " |  average_coef_ : ndarray of shape (n_features,)\n",
      " |      Averaged weights assigned to the features. Only available\n",
      " |      if ``average=True``.\n",
      " |  \n",
      " |      .. deprecated:: 0.23\n",
      " |          Attribute ``average_coef_`` was deprecated\n",
      " |          in version 0.23 and will be removed in 1.0 (renaming of 0.25).\n",
      " |  \n",
      " |  average_intercept_ : ndarray of shape (1,)\n",
      " |      The averaged intercept term. Only available if ``average=True``.\n",
      " |  \n",
      " |      .. deprecated:: 0.23\n",
      " |          Attribute ``average_intercept_`` was deprecated\n",
      " |          in version 0.23 and will be removed in 1.0 (renaming of 0.25).\n",
      " |  \n",
      " |  n_iter_ : int\n",
      " |      The actual number of iterations before reaching the stopping criterion.\n",
      " |  \n",
      " |  t_ : int\n",
      " |      Number of weight updates performed during training.\n",
      " |      Same as ``(n_iter_ * n_samples)``.\n",
      " |  \n",
      " |  Examples\n",
      " |  --------\n",
      " |  >>> import numpy as np\n",
      " |  >>> from sklearn.linear_model import SGDRegressor\n",
      " |  >>> from sklearn.pipeline import make_pipeline\n",
      " |  >>> from sklearn.preprocessing import StandardScaler\n",
      " |  >>> n_samples, n_features = 10, 5\n",
      " |  >>> rng = np.random.RandomState(0)\n",
      " |  >>> y = rng.randn(n_samples)\n",
      " |  >>> X = rng.randn(n_samples, n_features)\n",
      " |  >>> # Always scale the input. The most convenient way is to use a pipeline.\n",
      " |  >>> reg = make_pipeline(StandardScaler(),\n",
      " |  ...                     SGDRegressor(max_iter=1000, tol=1e-3))\n",
      " |  >>> reg.fit(X, y)\n",
      " |  Pipeline(steps=[('standardscaler', StandardScaler()),\n",
      " |                  ('sgdregressor', SGDRegressor())])\n",
      " |  \n",
      " |  See Also\n",
      " |  --------\n",
      " |  Ridge, ElasticNet, Lasso, sklearn.svm.SVR\n",
      " |  \n",
      " |  Method resolution order:\n",
      " |      SGDRegressor\n",
      " |      BaseSGDRegressor\n",
      " |      sklearn.base.RegressorMixin\n",
      " |      BaseSGD\n",
      " |      sklearn.linear_model._base.SparseCoefMixin\n",
      " |      sklearn.base.BaseEstimator\n",
      " |      builtins.object\n",
      " |  \n",
      " |  Methods defined here:\n",
      " |  \n",
      " |  __init__(self, loss='squared_loss', *, penalty='l2', alpha=0.0001, l1_ratio=0.15, fit_intercept=True, max_iter=1000, tol=0.001, shuffle=True, verbose=0, epsilon=0.1, random_state=None, learning_rate='invscaling', eta0=0.01, power_t=0.25, early_stopping=False, validation_fraction=0.1, n_iter_no_change=5, warm_start=False, average=False)\n",
      " |      Initialize self.  See help(type(self)) for accurate signature.\n",
      " |  \n",
      " |  ----------------------------------------------------------------------\n",
      " |  Data and other attributes defined here:\n",
      " |  \n",
      " |  __abstractmethods__ = frozenset()\n",
      " |  \n",
      " |  ----------------------------------------------------------------------\n",
      " |  Methods inherited from BaseSGDRegressor:\n",
      " |  \n",
      " |  fit(self, X, y, coef_init=None, intercept_init=None, sample_weight=None)\n",
      " |      Fit linear model with Stochastic Gradient Descent.\n",
      " |      \n",
      " |      Parameters\n",
      " |      ----------\n",
      " |      X : {array-like, sparse matrix}, shape (n_samples, n_features)\n",
      " |          Training data\n",
      " |      \n",
      " |      y : ndarray of shape (n_samples,)\n",
      " |          Target values\n",
      " |      \n",
      " |      coef_init : ndarray of shape (n_features,), default=None\n",
      " |          The initial coefficients to warm-start the optimization.\n",
      " |      \n",
      " |      intercept_init : ndarray of shape (1,), default=None\n",
      " |          The initial intercept to warm-start the optimization.\n",
      " |      \n",
      " |      sample_weight : array-like, shape (n_samples,), default=None\n",
      " |          Weights applied to individual samples (1. for unweighted).\n",
      " |      \n",
      " |      Returns\n",
      " |      -------\n",
      " |      self : returns an instance of self.\n",
      " |  \n",
      " |  partial_fit(self, X, y, sample_weight=None)\n",
      " |      Perform one epoch of stochastic gradient descent on given samples.\n",
      " |      \n",
      " |      Internally, this method uses ``max_iter = 1``. Therefore, it is not\n",
      " |      guaranteed that a minimum of the cost function is reached after calling\n",
      " |      it once. Matters such as objective convergence and early stopping\n",
      " |      should be handled by the user.\n",
      " |      \n",
      " |      Parameters\n",
      " |      ----------\n",
      " |      X : {array-like, sparse matrix}, shape (n_samples, n_features)\n",
      " |          Subset of training data\n",
      " |      \n",
      " |      y : numpy array of shape (n_samples,)\n",
      " |          Subset of target values\n",
      " |      \n",
      " |      sample_weight : array-like, shape (n_samples,), default=None\n",
      " |          Weights applied to individual samples.\n",
      " |          If not provided, uniform weights are assumed.\n",
      " |      \n",
      " |      Returns\n",
      " |      -------\n",
      " |      self : returns an instance of self.\n",
      " |  \n",
      " |  predict(self, X)\n",
      " |      Predict using the linear model\n",
      " |      \n",
      " |      Parameters\n",
      " |      ----------\n",
      " |      X : {array-like, sparse matrix}, shape (n_samples, n_features)\n",
      " |      \n",
      " |      Returns\n",
      " |      -------\n",
      " |      ndarray of shape (n_samples,)\n",
      " |         Predicted target values per element in X.\n",
      " |  \n",
      " |  ----------------------------------------------------------------------\n",
      " |  Data and other attributes inherited from BaseSGDRegressor:\n",
      " |  \n",
      " |  loss_functions = {'epsilon_insensitive': (<class 'sklearn.linear_model...\n",
      " |  \n",
      " |  ----------------------------------------------------------------------\n",
      " |  Methods inherited from sklearn.base.RegressorMixin:\n",
      " |  \n",
      " |  score(self, X, y, sample_weight=None)\n",
      " |      Return the coefficient of determination :math:`R^2` of the\n",
      " |      prediction.\n",
      " |      \n",
      " |      The coefficient :math:`R^2` is defined as :math:`(1 - \\frac{u}{v})`,\n",
      " |      where :math:`u` is the residual sum of squares ``((y_true - y_pred)\n",
      " |      ** 2).sum()`` and :math:`v` is the total sum of squares ``((y_true -\n",
      " |      y_true.mean()) ** 2).sum()``. The best possible score is 1.0 and it\n",
      " |      can be negative (because the model can be arbitrarily worse). A\n",
      " |      constant model that always predicts the expected value of `y`,\n",
      " |      disregarding the input features, would get a :math:`R^2` score of\n",
      " |      0.0.\n",
      " |      \n",
      " |      Parameters\n",
      " |      ----------\n",
      " |      X : array-like of shape (n_samples, n_features)\n",
      " |          Test samples. For some estimators this may be a precomputed\n",
      " |          kernel matrix or a list of generic objects instead with shape\n",
      " |          ``(n_samples, n_samples_fitted)``, where ``n_samples_fitted``\n",
      " |          is the number of samples used in the fitting for the estimator.\n",
      " |      \n",
      " |      y : array-like of shape (n_samples,) or (n_samples, n_outputs)\n",
      " |          True values for `X`.\n",
      " |      \n",
      " |      sample_weight : array-like of shape (n_samples,), default=None\n",
      " |          Sample weights.\n",
      " |      \n",
      " |      Returns\n",
      " |      -------\n",
      " |      score : float\n",
      " |          :math:`R^2` of ``self.predict(X)`` wrt. `y`.\n",
      " |      \n",
      " |      Notes\n",
      " |      -----\n",
      " |      The :math:`R^2` score used when calling ``score`` on a regressor uses\n",
      " |      ``multioutput='uniform_average'`` from version 0.23 to keep consistent\n",
      " |      with default value of :func:`~sklearn.metrics.r2_score`.\n",
      " |      This influences the ``score`` method of all the multioutput\n",
      " |      regressors (except for\n",
      " |      :class:`~sklearn.multioutput.MultiOutputRegressor`).\n",
      " |  \n",
      " |  ----------------------------------------------------------------------\n",
      " |  Data descriptors inherited from sklearn.base.RegressorMixin:\n",
      " |  \n",
      " |  __dict__\n",
      " |      dictionary for instance variables (if defined)\n",
      " |  \n",
      " |  __weakref__\n",
      " |      list of weak references to the object (if defined)\n",
      " |  \n",
      " |  ----------------------------------------------------------------------\n",
      " |  Methods inherited from BaseSGD:\n",
      " |  \n",
      " |  set_params(self, **kwargs)\n",
      " |      Set and validate the parameters of estimator.\n",
      " |      \n",
      " |      Parameters\n",
      " |      ----------\n",
      " |      **kwargs : dict\n",
      " |          Estimator parameters.\n",
      " |      \n",
      " |      Returns\n",
      " |      -------\n",
      " |      self : object\n",
      " |          Estimator instance.\n",
      " |  \n",
      " |  ----------------------------------------------------------------------\n",
      " |  Data descriptors inherited from BaseSGD:\n",
      " |  \n",
      " |  average_coef_\n",
      " |  \n",
      " |  average_intercept_\n",
      " |  \n",
      " |  standard_coef_\n",
      " |  \n",
      " |  standard_intercept_\n",
      " |  \n",
      " |  ----------------------------------------------------------------------\n",
      " |  Methods inherited from sklearn.linear_model._base.SparseCoefMixin:\n",
      " |  \n",
      " |  densify(self)\n",
      " |      Convert coefficient matrix to dense array format.\n",
      " |      \n",
      " |      Converts the ``coef_`` member (back) to a numpy.ndarray. This is the\n",
      " |      default format of ``coef_`` and is required for fitting, so calling\n",
      " |      this method is only required on models that have previously been\n",
      " |      sparsified; otherwise, it is a no-op.\n",
      " |      \n",
      " |      Returns\n",
      " |      -------\n",
      " |      self\n",
      " |          Fitted estimator.\n",
      " |  \n",
      " |  sparsify(self)\n",
      " |      Convert coefficient matrix to sparse format.\n",
      " |      \n",
      " |      Converts the ``coef_`` member to a scipy.sparse matrix, which for\n",
      " |      L1-regularized models can be much more memory- and storage-efficient\n",
      " |      than the usual numpy.ndarray representation.\n",
      " |      \n",
      " |      The ``intercept_`` member is not converted.\n",
      " |      \n",
      " |      Returns\n",
      " |      -------\n",
      " |      self\n",
      " |          Fitted estimator.\n",
      " |      \n",
      " |      Notes\n",
      " |      -----\n",
      " |      For non-sparse models, i.e. when there are not many zeros in ``coef_``,\n",
      " |      this may actually *increase* memory usage, so use this method with\n",
      " |      care. A rule of thumb is that the number of zero elements, which can\n",
      " |      be computed with ``(coef_ == 0).sum()``, must be more than 50% for this\n",
      " |      to provide significant benefits.\n",
      " |      \n",
      " |      After calling this method, further fitting with the partial_fit\n",
      " |      method (if any) will not work until you call densify.\n",
      " |  \n",
      " |  ----------------------------------------------------------------------\n",
      " |  Methods inherited from sklearn.base.BaseEstimator:\n",
      " |  \n",
      " |  __getstate__(self)\n",
      " |  \n",
      " |  __repr__(self, N_CHAR_MAX=700)\n",
      " |      Return repr(self).\n",
      " |  \n",
      " |  __setstate__(self, state)\n",
      " |  \n",
      " |  get_params(self, deep=True)\n",
      " |      Get parameters for this estimator.\n",
      " |      \n",
      " |      Parameters\n",
      " |      ----------\n",
      " |      deep : bool, default=True\n",
      " |          If True, will return the parameters for this estimator and\n",
      " |          contained subobjects that are estimators.\n",
      " |      \n",
      " |      Returns\n",
      " |      -------\n",
      " |      params : dict\n",
      " |          Parameter names mapped to their values.\n",
      "\n"
     ]
    }
   ],
   "source": [
    "help(sgd)"
   ]
  },
  {
   "cell_type": "code",
   "execution_count": 82,
   "metadata": {},
   "outputs": [],
   "source": [
    "from sklearn.pipeline import make_pipeline\n",
    "from sklearn.preprocessing import StandardScaler\n",
    "from sklearn.pipeline import Pipeline\n",
    "\n"
   ]
  },
  {
   "cell_type": "code",
   "execution_count": 84,
   "metadata": {},
   "outputs": [],
   "source": [
    "operations = [('scaler',StandardScaler()),('sgdR',SGDRegressor())]"
   ]
  },
  {
   "cell_type": "code",
   "execution_count": 85,
   "metadata": {},
   "outputs": [],
   "source": [
    "pipe = Pipeline(operations)"
   ]
  },
  {
   "cell_type": "code",
   "execution_count": 99,
   "metadata": {},
   "outputs": [],
   "source": [
    "param_grid = {'sgdR__penalty':['elasticnet'],\n",
    "             'sgdR__l1_ratio':[0,0.15,0.5,0.75,1],\n",
    "              'sgdR__alpha':[0.0001,0.01,0.5,1],\n",
    "              'sgdR__early_stopping':[True]}"
   ]
  },
  {
   "cell_type": "code",
   "execution_count": 100,
   "metadata": {},
   "outputs": [],
   "source": [
    "grid = GridSearchCV(pipe,param_grid,cv=5,scoring='neg_mean_squared_error',verbose=2)"
   ]
  },
  {
   "cell_type": "code",
   "execution_count": 101,
   "metadata": {},
   "outputs": [
    {
     "name": "stdout",
     "output_type": "stream",
     "text": [
      "Fitting 5 folds for each of 20 candidates, totalling 100 fits\n",
      "[CV] END sgdR__alpha=0.0001, sgdR__early_stopping=True, sgdR__l1_ratio=0, sgdR__penalty=elasticnet; total time=   0.0s\n",
      "[CV] END sgdR__alpha=0.0001, sgdR__early_stopping=True, sgdR__l1_ratio=0, sgdR__penalty=elasticnet; total time=   0.0s\n",
      "[CV] END sgdR__alpha=0.0001, sgdR__early_stopping=True, sgdR__l1_ratio=0, sgdR__penalty=elasticnet; total time=   0.0s\n",
      "[CV] END sgdR__alpha=0.0001, sgdR__early_stopping=True, sgdR__l1_ratio=0, sgdR__penalty=elasticnet; total time=   0.0s\n",
      "[CV] END sgdR__alpha=0.0001, sgdR__early_stopping=True, sgdR__l1_ratio=0, sgdR__penalty=elasticnet; total time=   0.0s\n",
      "[CV] END sgdR__alpha=0.0001, sgdR__early_stopping=True, sgdR__l1_ratio=0.15, sgdR__penalty=elasticnet; total time=   0.0s\n",
      "[CV] END sgdR__alpha=0.0001, sgdR__early_stopping=True, sgdR__l1_ratio=0.15, sgdR__penalty=elasticnet; total time=   0.0s\n",
      "[CV] END sgdR__alpha=0.0001, sgdR__early_stopping=True, sgdR__l1_ratio=0.15, sgdR__penalty=elasticnet; total time=   0.0s\n",
      "[CV] END sgdR__alpha=0.0001, sgdR__early_stopping=True, sgdR__l1_ratio=0.15, sgdR__penalty=elasticnet; total time=   0.0s\n",
      "[CV] END sgdR__alpha=0.0001, sgdR__early_stopping=True, sgdR__l1_ratio=0.15, sgdR__penalty=elasticnet; total time=   0.0s\n",
      "[CV] END sgdR__alpha=0.0001, sgdR__early_stopping=True, sgdR__l1_ratio=0.5, sgdR__penalty=elasticnet; total time=   0.0s\n",
      "[CV] END sgdR__alpha=0.0001, sgdR__early_stopping=True, sgdR__l1_ratio=0.5, sgdR__penalty=elasticnet; total time=   0.0s\n",
      "[CV] END sgdR__alpha=0.0001, sgdR__early_stopping=True, sgdR__l1_ratio=0.5, sgdR__penalty=elasticnet; total time=   0.0s\n",
      "[CV] END sgdR__alpha=0.0001, sgdR__early_stopping=True, sgdR__l1_ratio=0.5, sgdR__penalty=elasticnet; total time=   0.0s\n",
      "[CV] END sgdR__alpha=0.0001, sgdR__early_stopping=True, sgdR__l1_ratio=0.5, sgdR__penalty=elasticnet; total time=   0.0s\n",
      "[CV] END sgdR__alpha=0.0001, sgdR__early_stopping=True, sgdR__l1_ratio=0.75, sgdR__penalty=elasticnet; total time=   0.0s\n",
      "[CV] END sgdR__alpha=0.0001, sgdR__early_stopping=True, sgdR__l1_ratio=0.75, sgdR__penalty=elasticnet; total time=   0.0s\n",
      "[CV] END sgdR__alpha=0.0001, sgdR__early_stopping=True, sgdR__l1_ratio=0.75, sgdR__penalty=elasticnet; total time=   0.0s\n",
      "[CV] END sgdR__alpha=0.0001, sgdR__early_stopping=True, sgdR__l1_ratio=0.75, sgdR__penalty=elasticnet; total time=   0.0s\n",
      "[CV] END sgdR__alpha=0.0001, sgdR__early_stopping=True, sgdR__l1_ratio=0.75, sgdR__penalty=elasticnet; total time=   0.0s\n",
      "[CV] END sgdR__alpha=0.0001, sgdR__early_stopping=True, sgdR__l1_ratio=1, sgdR__penalty=elasticnet; total time=   0.0s\n",
      "[CV] END sgdR__alpha=0.0001, sgdR__early_stopping=True, sgdR__l1_ratio=1, sgdR__penalty=elasticnet; total time=   0.0s\n",
      "[CV] END sgdR__alpha=0.0001, sgdR__early_stopping=True, sgdR__l1_ratio=1, sgdR__penalty=elasticnet; total time=   0.0s\n",
      "[CV] END sgdR__alpha=0.0001, sgdR__early_stopping=True, sgdR__l1_ratio=1, sgdR__penalty=elasticnet; total time=   0.0s\n",
      "[CV] END sgdR__alpha=0.0001, sgdR__early_stopping=True, sgdR__l1_ratio=1, sgdR__penalty=elasticnet; total time=   0.0s\n",
      "[CV] END sgdR__alpha=0.01, sgdR__early_stopping=True, sgdR__l1_ratio=0, sgdR__penalty=elasticnet; total time=   0.0s\n",
      "[CV] END sgdR__alpha=0.01, sgdR__early_stopping=True, sgdR__l1_ratio=0, sgdR__penalty=elasticnet; total time=   0.0s\n",
      "[CV] END sgdR__alpha=0.01, sgdR__early_stopping=True, sgdR__l1_ratio=0, sgdR__penalty=elasticnet; total time=   0.0s\n",
      "[CV] END sgdR__alpha=0.01, sgdR__early_stopping=True, sgdR__l1_ratio=0, sgdR__penalty=elasticnet; total time=   0.0s\n",
      "[CV] END sgdR__alpha=0.01, sgdR__early_stopping=True, sgdR__l1_ratio=0, sgdR__penalty=elasticnet; total time=   0.0s\n",
      "[CV] END sgdR__alpha=0.01, sgdR__early_stopping=True, sgdR__l1_ratio=0.15, sgdR__penalty=elasticnet; total time=   0.0s\n",
      "[CV] END sgdR__alpha=0.01, sgdR__early_stopping=True, sgdR__l1_ratio=0.15, sgdR__penalty=elasticnet; total time=   0.0s\n",
      "[CV] END sgdR__alpha=0.01, sgdR__early_stopping=True, sgdR__l1_ratio=0.15, sgdR__penalty=elasticnet; total time=   0.0s\n",
      "[CV] END sgdR__alpha=0.01, sgdR__early_stopping=True, sgdR__l1_ratio=0.15, sgdR__penalty=elasticnet; total time=   0.0s\n",
      "[CV] END sgdR__alpha=0.01, sgdR__early_stopping=True, sgdR__l1_ratio=0.15, sgdR__penalty=elasticnet; total time=   0.0s\n",
      "[CV] END sgdR__alpha=0.01, sgdR__early_stopping=True, sgdR__l1_ratio=0.5, sgdR__penalty=elasticnet; total time=   0.0s\n",
      "[CV] END sgdR__alpha=0.01, sgdR__early_stopping=True, sgdR__l1_ratio=0.5, sgdR__penalty=elasticnet; total time=   0.0s\n",
      "[CV] END sgdR__alpha=0.01, sgdR__early_stopping=True, sgdR__l1_ratio=0.5, sgdR__penalty=elasticnet; total time=   0.0s\n",
      "[CV] END sgdR__alpha=0.01, sgdR__early_stopping=True, sgdR__l1_ratio=0.5, sgdR__penalty=elasticnet; total time=   0.0s\n",
      "[CV] END sgdR__alpha=0.01, sgdR__early_stopping=True, sgdR__l1_ratio=0.5, sgdR__penalty=elasticnet; total time=   0.0s\n",
      "[CV] END sgdR__alpha=0.01, sgdR__early_stopping=True, sgdR__l1_ratio=0.75, sgdR__penalty=elasticnet; total time=   0.0s\n",
      "[CV] END sgdR__alpha=0.01, sgdR__early_stopping=True, sgdR__l1_ratio=0.75, sgdR__penalty=elasticnet; total time=   0.0s\n",
      "[CV] END sgdR__alpha=0.01, sgdR__early_stopping=True, sgdR__l1_ratio=0.75, sgdR__penalty=elasticnet; total time=   0.0s\n",
      "[CV] END sgdR__alpha=0.01, sgdR__early_stopping=True, sgdR__l1_ratio=0.75, sgdR__penalty=elasticnet; total time=   0.0s\n",
      "[CV] END sgdR__alpha=0.01, sgdR__early_stopping=True, sgdR__l1_ratio=0.75, sgdR__penalty=elasticnet; total time=   0.0s\n",
      "[CV] END sgdR__alpha=0.01, sgdR__early_stopping=True, sgdR__l1_ratio=1, sgdR__penalty=elasticnet; total time=   0.0s\n",
      "[CV] END sgdR__alpha=0.01, sgdR__early_stopping=True, sgdR__l1_ratio=1, sgdR__penalty=elasticnet; total time=   0.0s\n",
      "[CV] END sgdR__alpha=0.01, sgdR__early_stopping=True, sgdR__l1_ratio=1, sgdR__penalty=elasticnet; total time=   0.0s\n",
      "[CV] END sgdR__alpha=0.01, sgdR__early_stopping=True, sgdR__l1_ratio=1, sgdR__penalty=elasticnet; total time=   0.0s\n",
      "[CV] END sgdR__alpha=0.01, sgdR__early_stopping=True, sgdR__l1_ratio=1, sgdR__penalty=elasticnet; total time=   0.0s\n",
      "[CV] END sgdR__alpha=0.5, sgdR__early_stopping=True, sgdR__l1_ratio=0, sgdR__penalty=elasticnet; total time=   0.0s\n",
      "[CV] END sgdR__alpha=0.5, sgdR__early_stopping=True, sgdR__l1_ratio=0, sgdR__penalty=elasticnet; total time=   0.0s\n",
      "[CV] END sgdR__alpha=0.5, sgdR__early_stopping=True, sgdR__l1_ratio=0, sgdR__penalty=elasticnet; total time=   0.0s\n",
      "[CV] END sgdR__alpha=0.5, sgdR__early_stopping=True, sgdR__l1_ratio=0, sgdR__penalty=elasticnet; total time=   0.0s\n",
      "[CV] END sgdR__alpha=0.5, sgdR__early_stopping=True, sgdR__l1_ratio=0, sgdR__penalty=elasticnet; total time=   0.0s\n",
      "[CV] END sgdR__alpha=0.5, sgdR__early_stopping=True, sgdR__l1_ratio=0.15, sgdR__penalty=elasticnet; total time=   0.0s\n",
      "[CV] END sgdR__alpha=0.5, sgdR__early_stopping=True, sgdR__l1_ratio=0.15, sgdR__penalty=elasticnet; total time=   0.0s\n",
      "[CV] END sgdR__alpha=0.5, sgdR__early_stopping=True, sgdR__l1_ratio=0.15, sgdR__penalty=elasticnet; total time=   0.0s\n",
      "[CV] END sgdR__alpha=0.5, sgdR__early_stopping=True, sgdR__l1_ratio=0.15, sgdR__penalty=elasticnet; total time=   0.0s\n",
      "[CV] END sgdR__alpha=0.5, sgdR__early_stopping=True, sgdR__l1_ratio=0.15, sgdR__penalty=elasticnet; total time=   0.0s\n",
      "[CV] END sgdR__alpha=0.5, sgdR__early_stopping=True, sgdR__l1_ratio=0.5, sgdR__penalty=elasticnet; total time=   0.0s\n",
      "[CV] END sgdR__alpha=0.5, sgdR__early_stopping=True, sgdR__l1_ratio=0.5, sgdR__penalty=elasticnet; total time=   0.0s\n",
      "[CV] END sgdR__alpha=0.5, sgdR__early_stopping=True, sgdR__l1_ratio=0.5, sgdR__penalty=elasticnet; total time=   0.0s\n",
      "[CV] END sgdR__alpha=0.5, sgdR__early_stopping=True, sgdR__l1_ratio=0.5, sgdR__penalty=elasticnet; total time=   0.0s\n",
      "[CV] END sgdR__alpha=0.5, sgdR__early_stopping=True, sgdR__l1_ratio=0.5, sgdR__penalty=elasticnet; total time=   0.0s\n",
      "[CV] END sgdR__alpha=0.5, sgdR__early_stopping=True, sgdR__l1_ratio=0.75, sgdR__penalty=elasticnet; total time=   0.0s\n",
      "[CV] END sgdR__alpha=0.5, sgdR__early_stopping=True, sgdR__l1_ratio=0.75, sgdR__penalty=elasticnet; total time=   0.0s\n",
      "[CV] END sgdR__alpha=0.5, sgdR__early_stopping=True, sgdR__l1_ratio=0.75, sgdR__penalty=elasticnet; total time=   0.0s\n",
      "[CV] END sgdR__alpha=0.5, sgdR__early_stopping=True, sgdR__l1_ratio=0.75, sgdR__penalty=elasticnet; total time=   0.0s\n"
     ]
    },
    {
     "name": "stdout",
     "output_type": "stream",
     "text": [
      "[CV] END sgdR__alpha=0.5, sgdR__early_stopping=True, sgdR__l1_ratio=0.75, sgdR__penalty=elasticnet; total time=   0.0s\n",
      "[CV] END sgdR__alpha=0.5, sgdR__early_stopping=True, sgdR__l1_ratio=1, sgdR__penalty=elasticnet; total time=   0.0s\n",
      "[CV] END sgdR__alpha=0.5, sgdR__early_stopping=True, sgdR__l1_ratio=1, sgdR__penalty=elasticnet; total time=   0.0s\n",
      "[CV] END sgdR__alpha=0.5, sgdR__early_stopping=True, sgdR__l1_ratio=1, sgdR__penalty=elasticnet; total time=   0.0s\n",
      "[CV] END sgdR__alpha=0.5, sgdR__early_stopping=True, sgdR__l1_ratio=1, sgdR__penalty=elasticnet; total time=   0.0s\n",
      "[CV] END sgdR__alpha=0.5, sgdR__early_stopping=True, sgdR__l1_ratio=1, sgdR__penalty=elasticnet; total time=   0.0s\n",
      "[CV] END sgdR__alpha=1, sgdR__early_stopping=True, sgdR__l1_ratio=0, sgdR__penalty=elasticnet; total time=   0.0s\n",
      "[CV] END sgdR__alpha=1, sgdR__early_stopping=True, sgdR__l1_ratio=0, sgdR__penalty=elasticnet; total time=   0.0s\n",
      "[CV] END sgdR__alpha=1, sgdR__early_stopping=True, sgdR__l1_ratio=0, sgdR__penalty=elasticnet; total time=   0.0s\n",
      "[CV] END sgdR__alpha=1, sgdR__early_stopping=True, sgdR__l1_ratio=0, sgdR__penalty=elasticnet; total time=   0.0s\n",
      "[CV] END sgdR__alpha=1, sgdR__early_stopping=True, sgdR__l1_ratio=0, sgdR__penalty=elasticnet; total time=   0.0s\n",
      "[CV] END sgdR__alpha=1, sgdR__early_stopping=True, sgdR__l1_ratio=0.15, sgdR__penalty=elasticnet; total time=   0.0s\n",
      "[CV] END sgdR__alpha=1, sgdR__early_stopping=True, sgdR__l1_ratio=0.15, sgdR__penalty=elasticnet; total time=   0.0s\n",
      "[CV] END sgdR__alpha=1, sgdR__early_stopping=True, sgdR__l1_ratio=0.15, sgdR__penalty=elasticnet; total time=   0.0s\n",
      "[CV] END sgdR__alpha=1, sgdR__early_stopping=True, sgdR__l1_ratio=0.15, sgdR__penalty=elasticnet; total time=   0.0s\n",
      "[CV] END sgdR__alpha=1, sgdR__early_stopping=True, sgdR__l1_ratio=0.15, sgdR__penalty=elasticnet; total time=   0.0s\n",
      "[CV] END sgdR__alpha=1, sgdR__early_stopping=True, sgdR__l1_ratio=0.5, sgdR__penalty=elasticnet; total time=   0.0s\n",
      "[CV] END sgdR__alpha=1, sgdR__early_stopping=True, sgdR__l1_ratio=0.5, sgdR__penalty=elasticnet; total time=   0.0s\n",
      "[CV] END sgdR__alpha=1, sgdR__early_stopping=True, sgdR__l1_ratio=0.5, sgdR__penalty=elasticnet; total time=   0.0s\n",
      "[CV] END sgdR__alpha=1, sgdR__early_stopping=True, sgdR__l1_ratio=0.5, sgdR__penalty=elasticnet; total time=   0.0s\n",
      "[CV] END sgdR__alpha=1, sgdR__early_stopping=True, sgdR__l1_ratio=0.5, sgdR__penalty=elasticnet; total time=   0.0s\n",
      "[CV] END sgdR__alpha=1, sgdR__early_stopping=True, sgdR__l1_ratio=0.75, sgdR__penalty=elasticnet; total time=   0.0s\n",
      "[CV] END sgdR__alpha=1, sgdR__early_stopping=True, sgdR__l1_ratio=0.75, sgdR__penalty=elasticnet; total time=   0.0s\n",
      "[CV] END sgdR__alpha=1, sgdR__early_stopping=True, sgdR__l1_ratio=0.75, sgdR__penalty=elasticnet; total time=   0.0s\n",
      "[CV] END sgdR__alpha=1, sgdR__early_stopping=True, sgdR__l1_ratio=0.75, sgdR__penalty=elasticnet; total time=   0.0s\n",
      "[CV] END sgdR__alpha=1, sgdR__early_stopping=True, sgdR__l1_ratio=0.75, sgdR__penalty=elasticnet; total time=   0.0s\n",
      "[CV] END sgdR__alpha=1, sgdR__early_stopping=True, sgdR__l1_ratio=1, sgdR__penalty=elasticnet; total time=   0.0s\n",
      "[CV] END sgdR__alpha=1, sgdR__early_stopping=True, sgdR__l1_ratio=1, sgdR__penalty=elasticnet; total time=   0.0s\n",
      "[CV] END sgdR__alpha=1, sgdR__early_stopping=True, sgdR__l1_ratio=1, sgdR__penalty=elasticnet; total time=   0.0s\n",
      "[CV] END sgdR__alpha=1, sgdR__early_stopping=True, sgdR__l1_ratio=1, sgdR__penalty=elasticnet; total time=   0.0s\n",
      "[CV] END sgdR__alpha=1, sgdR__early_stopping=True, sgdR__l1_ratio=1, sgdR__penalty=elasticnet; total time=   0.0s\n"
     ]
    },
    {
     "data": {
      "text/plain": [
       "GridSearchCV(cv=5,\n",
       "             estimator=Pipeline(steps=[('scaler', StandardScaler()),\n",
       "                                       ('sgdR', SGDRegressor())]),\n",
       "             param_grid={'sgdR__alpha': [0.0001, 0.01, 0.5, 1],\n",
       "                         'sgdR__early_stopping': [True],\n",
       "                         'sgdR__l1_ratio': [0, 0.15, 0.5, 0.75, 1],\n",
       "                         'sgdR__penalty': ['elasticnet']},\n",
       "             scoring='neg_mean_squared_error', verbose=2)"
      ]
     },
     "execution_count": 101,
     "metadata": {},
     "output_type": "execute_result"
    }
   ],
   "source": [
    "grid.fit(X,y)"
   ]
  },
  {
   "cell_type": "code",
   "execution_count": 102,
   "metadata": {},
   "outputs": [
    {
     "data": {
      "text/plain": [
       "Pipeline(steps=[('scaler', StandardScaler()),\n",
       "                ('sgdR',\n",
       "                 SGDRegressor(alpha=0.5, early_stopping=True, l1_ratio=0,\n",
       "                              penalty='elasticnet'))])"
      ]
     },
     "execution_count": 102,
     "metadata": {},
     "output_type": "execute_result"
    }
   ],
   "source": [
    "grid.best_estimator_"
   ]
  },
  {
   "cell_type": "code",
   "execution_count": 103,
   "metadata": {},
   "outputs": [
    {
     "data": {
      "text/plain": [
       "{'sgdR__alpha': 0.5,\n",
       " 'sgdR__early_stopping': True,\n",
       " 'sgdR__l1_ratio': 0,\n",
       " 'sgdR__penalty': 'elasticnet'}"
      ]
     },
     "execution_count": 103,
     "metadata": {},
     "output_type": "execute_result"
    }
   ],
   "source": [
    "grid.best_params_"
   ]
  },
  {
   "cell_type": "code",
   "execution_count": 104,
   "metadata": {},
   "outputs": [
    {
     "data": {
      "text/plain": [
       "-2.651023272815846"
      ]
     },
     "execution_count": 104,
     "metadata": {},
     "output_type": "execute_result"
    }
   ],
   "source": [
    "grid.best_score_"
   ]
  },
  {
   "cell_type": "code",
   "execution_count": 105,
   "metadata": {},
   "outputs": [
    {
     "data": {
      "text/plain": [
       "dict_keys(['mean_fit_time', 'std_fit_time', 'mean_score_time', 'std_score_time', 'param_sgdR__alpha', 'param_sgdR__early_stopping', 'param_sgdR__l1_ratio', 'param_sgdR__penalty', 'params', 'split0_test_score', 'split1_test_score', 'split2_test_score', 'split3_test_score', 'split4_test_score', 'mean_test_score', 'std_test_score', 'rank_test_score'])"
      ]
     },
     "execution_count": 105,
     "metadata": {},
     "output_type": "execute_result"
    }
   ],
   "source": [
    "grid.cv_results_.keys()"
   ]
  },
  {
   "cell_type": "code",
   "execution_count": 106,
   "metadata": {},
   "outputs": [
    {
     "data": {
      "text/html": [
       "<div>\n",
       "<style scoped>\n",
       "    .dataframe tbody tr th:only-of-type {\n",
       "        vertical-align: middle;\n",
       "    }\n",
       "\n",
       "    .dataframe tbody tr th {\n",
       "        vertical-align: top;\n",
       "    }\n",
       "\n",
       "    .dataframe thead th {\n",
       "        text-align: right;\n",
       "    }\n",
       "</style>\n",
       "<table border=\"1\" class=\"dataframe\">\n",
       "  <thead>\n",
       "    <tr style=\"text-align: right;\">\n",
       "      <th></th>\n",
       "      <th>mean_fit_time</th>\n",
       "      <th>std_fit_time</th>\n",
       "      <th>mean_score_time</th>\n",
       "      <th>std_score_time</th>\n",
       "      <th>param_sgdR__alpha</th>\n",
       "      <th>param_sgdR__early_stopping</th>\n",
       "      <th>param_sgdR__l1_ratio</th>\n",
       "      <th>param_sgdR__penalty</th>\n",
       "      <th>params</th>\n",
       "      <th>split0_test_score</th>\n",
       "      <th>split1_test_score</th>\n",
       "      <th>split2_test_score</th>\n",
       "      <th>split3_test_score</th>\n",
       "      <th>split4_test_score</th>\n",
       "      <th>mean_test_score</th>\n",
       "      <th>std_test_score</th>\n",
       "      <th>rank_test_score</th>\n",
       "    </tr>\n",
       "  </thead>\n",
       "  <tbody>\n",
       "    <tr>\n",
       "      <th>0</th>\n",
       "      <td>0.047616</td>\n",
       "      <td>0.009098</td>\n",
       "      <td>0.004321</td>\n",
       "      <td>0.005806</td>\n",
       "      <td>0.0001</td>\n",
       "      <td>True</td>\n",
       "      <td>0</td>\n",
       "      <td>elasticnet</td>\n",
       "      <td>{'sgdR__alpha': 0.0001, 'sgdR__early_stopping'...</td>\n",
       "      <td>-1.938711</td>\n",
       "      <td>-2.525993</td>\n",
       "      <td>-2.169773</td>\n",
       "      <td>-2.981899</td>\n",
       "      <td>-4.097029</td>\n",
       "      <td>-2.742681</td>\n",
       "      <td>0.763286</td>\n",
       "      <td>9</td>\n",
       "    </tr>\n",
       "    <tr>\n",
       "      <th>1</th>\n",
       "      <td>0.038878</td>\n",
       "      <td>0.009502</td>\n",
       "      <td>0.007044</td>\n",
       "      <td>0.007151</td>\n",
       "      <td>0.0001</td>\n",
       "      <td>True</td>\n",
       "      <td>0.15</td>\n",
       "      <td>elasticnet</td>\n",
       "      <td>{'sgdR__alpha': 0.0001, 'sgdR__early_stopping'...</td>\n",
       "      <td>-2.034250</td>\n",
       "      <td>-2.405451</td>\n",
       "      <td>-2.150080</td>\n",
       "      <td>-2.897713</td>\n",
       "      <td>-4.089955</td>\n",
       "      <td>-2.715490</td>\n",
       "      <td>0.748633</td>\n",
       "      <td>3</td>\n",
       "    </tr>\n",
       "    <tr>\n",
       "      <th>2</th>\n",
       "      <td>0.060179</td>\n",
       "      <td>0.018881</td>\n",
       "      <td>0.003397</td>\n",
       "      <td>0.002939</td>\n",
       "      <td>0.0001</td>\n",
       "      <td>True</td>\n",
       "      <td>0.5</td>\n",
       "      <td>elasticnet</td>\n",
       "      <td>{'sgdR__alpha': 0.0001, 'sgdR__early_stopping'...</td>\n",
       "      <td>-2.032068</td>\n",
       "      <td>-2.397860</td>\n",
       "      <td>-2.196214</td>\n",
       "      <td>-2.886986</td>\n",
       "      <td>-4.165899</td>\n",
       "      <td>-2.735805</td>\n",
       "      <td>0.770537</td>\n",
       "      <td>7</td>\n",
       "    </tr>\n",
       "    <tr>\n",
       "      <th>3</th>\n",
       "      <td>0.052691</td>\n",
       "      <td>0.013063</td>\n",
       "      <td>0.007069</td>\n",
       "      <td>0.004395</td>\n",
       "      <td>0.0001</td>\n",
       "      <td>True</td>\n",
       "      <td>0.75</td>\n",
       "      <td>elasticnet</td>\n",
       "      <td>{'sgdR__alpha': 0.0001, 'sgdR__early_stopping'...</td>\n",
       "      <td>-1.929648</td>\n",
       "      <td>-2.643805</td>\n",
       "      <td>-2.194837</td>\n",
       "      <td>-2.730396</td>\n",
       "      <td>-4.099918</td>\n",
       "      <td>-2.719721</td>\n",
       "      <td>0.749738</td>\n",
       "      <td>4</td>\n",
       "    </tr>\n",
       "    <tr>\n",
       "      <th>4</th>\n",
       "      <td>0.038057</td>\n",
       "      <td>0.014382</td>\n",
       "      <td>0.008045</td>\n",
       "      <td>0.006406</td>\n",
       "      <td>0.0001</td>\n",
       "      <td>True</td>\n",
       "      <td>1</td>\n",
       "      <td>elasticnet</td>\n",
       "      <td>{'sgdR__alpha': 0.0001, 'sgdR__early_stopping'...</td>\n",
       "      <td>-2.043041</td>\n",
       "      <td>-2.429833</td>\n",
       "      <td>-2.197721</td>\n",
       "      <td>-2.823541</td>\n",
       "      <td>-4.122800</td>\n",
       "      <td>-2.723387</td>\n",
       "      <td>0.747497</td>\n",
       "      <td>5</td>\n",
       "    </tr>\n",
       "    <tr>\n",
       "      <th>5</th>\n",
       "      <td>0.039758</td>\n",
       "      <td>0.013900</td>\n",
       "      <td>0.003923</td>\n",
       "      <td>0.006052</td>\n",
       "      <td>0.01</td>\n",
       "      <td>True</td>\n",
       "      <td>0</td>\n",
       "      <td>elasticnet</td>\n",
       "      <td>{'sgdR__alpha': 0.01, 'sgdR__early_stopping': ...</td>\n",
       "      <td>-1.922051</td>\n",
       "      <td>-2.496944</td>\n",
       "      <td>-2.171325</td>\n",
       "      <td>-3.029309</td>\n",
       "      <td>-4.409614</td>\n",
       "      <td>-2.805849</td>\n",
       "      <td>0.883305</td>\n",
       "      <td>12</td>\n",
       "    </tr>\n",
       "    <tr>\n",
       "      <th>6</th>\n",
       "      <td>0.049603</td>\n",
       "      <td>0.013311</td>\n",
       "      <td>0.001595</td>\n",
       "      <td>0.003191</td>\n",
       "      <td>0.01</td>\n",
       "      <td>True</td>\n",
       "      <td>0.15</td>\n",
       "      <td>elasticnet</td>\n",
       "      <td>{'sgdR__alpha': 0.01, 'sgdR__early_stopping': ...</td>\n",
       "      <td>-1.906344</td>\n",
       "      <td>-2.527753</td>\n",
       "      <td>-2.240777</td>\n",
       "      <td>-2.899300</td>\n",
       "      <td>-4.154109</td>\n",
       "      <td>-2.745656</td>\n",
       "      <td>0.776425</td>\n",
       "      <td>10</td>\n",
       "    </tr>\n",
       "    <tr>\n",
       "      <th>7</th>\n",
       "      <td>0.041756</td>\n",
       "      <td>0.006475</td>\n",
       "      <td>0.005118</td>\n",
       "      <td>0.005739</td>\n",
       "      <td>0.01</td>\n",
       "      <td>True</td>\n",
       "      <td>0.5</td>\n",
       "      <td>elasticnet</td>\n",
       "      <td>{'sgdR__alpha': 0.01, 'sgdR__early_stopping': ...</td>\n",
       "      <td>-2.124544</td>\n",
       "      <td>-2.573500</td>\n",
       "      <td>-2.200036</td>\n",
       "      <td>-2.864985</td>\n",
       "      <td>-3.926209</td>\n",
       "      <td>-2.737855</td>\n",
       "      <td>0.651270</td>\n",
       "      <td>8</td>\n",
       "    </tr>\n",
       "    <tr>\n",
       "      <th>8</th>\n",
       "      <td>0.064428</td>\n",
       "      <td>0.006232</td>\n",
       "      <td>0.004587</td>\n",
       "      <td>0.000799</td>\n",
       "      <td>0.01</td>\n",
       "      <td>True</td>\n",
       "      <td>0.75</td>\n",
       "      <td>elasticnet</td>\n",
       "      <td>{'sgdR__alpha': 0.01, 'sgdR__early_stopping': ...</td>\n",
       "      <td>-1.810121</td>\n",
       "      <td>-2.502093</td>\n",
       "      <td>-2.201473</td>\n",
       "      <td>-2.950475</td>\n",
       "      <td>-3.960793</td>\n",
       "      <td>-2.684991</td>\n",
       "      <td>0.739025</td>\n",
       "      <td>2</td>\n",
       "    </tr>\n",
       "    <tr>\n",
       "      <th>9</th>\n",
       "      <td>0.052087</td>\n",
       "      <td>0.006517</td>\n",
       "      <td>0.004388</td>\n",
       "      <td>0.002863</td>\n",
       "      <td>0.01</td>\n",
       "      <td>True</td>\n",
       "      <td>1</td>\n",
       "      <td>elasticnet</td>\n",
       "      <td>{'sgdR__alpha': 0.01, 'sgdR__early_stopping': ...</td>\n",
       "      <td>-2.008299</td>\n",
       "      <td>-2.511009</td>\n",
       "      <td>-2.211534</td>\n",
       "      <td>-2.895825</td>\n",
       "      <td>-4.019056</td>\n",
       "      <td>-2.729145</td>\n",
       "      <td>0.710884</td>\n",
       "      <td>6</td>\n",
       "    </tr>\n",
       "    <tr>\n",
       "      <th>10</th>\n",
       "      <td>0.056005</td>\n",
       "      <td>0.006267</td>\n",
       "      <td>0.005785</td>\n",
       "      <td>0.001161</td>\n",
       "      <td>0.5</td>\n",
       "      <td>True</td>\n",
       "      <td>0</td>\n",
       "      <td>elasticnet</td>\n",
       "      <td>{'sgdR__alpha': 0.5, 'sgdR__early_stopping': T...</td>\n",
       "      <td>-1.456350</td>\n",
       "      <td>-3.036450</td>\n",
       "      <td>-2.377360</td>\n",
       "      <td>-2.968110</td>\n",
       "      <td>-3.416847</td>\n",
       "      <td>-2.651023</td>\n",
       "      <td>0.683772</td>\n",
       "      <td>1</td>\n",
       "    </tr>\n",
       "    <tr>\n",
       "      <th>11</th>\n",
       "      <td>0.041150</td>\n",
       "      <td>0.009546</td>\n",
       "      <td>0.002992</td>\n",
       "      <td>0.002523</td>\n",
       "      <td>0.5</td>\n",
       "      <td>True</td>\n",
       "      <td>0.15</td>\n",
       "      <td>elasticnet</td>\n",
       "      <td>{'sgdR__alpha': 0.5, 'sgdR__early_stopping': T...</td>\n",
       "      <td>-1.706274</td>\n",
       "      <td>-3.067046</td>\n",
       "      <td>-2.350855</td>\n",
       "      <td>-3.134714</td>\n",
       "      <td>-3.550516</td>\n",
       "      <td>-2.761881</td>\n",
       "      <td>0.653808</td>\n",
       "      <td>11</td>\n",
       "    </tr>\n",
       "    <tr>\n",
       "      <th>12</th>\n",
       "      <td>0.052172</td>\n",
       "      <td>0.010897</td>\n",
       "      <td>0.006184</td>\n",
       "      <td>0.001466</td>\n",
       "      <td>0.5</td>\n",
       "      <td>True</td>\n",
       "      <td>0.5</td>\n",
       "      <td>elasticnet</td>\n",
       "      <td>{'sgdR__alpha': 0.5, 'sgdR__early_stopping': T...</td>\n",
       "      <td>-2.103390</td>\n",
       "      <td>-3.010344</td>\n",
       "      <td>-2.410498</td>\n",
       "      <td>-3.207846</td>\n",
       "      <td>-3.433522</td>\n",
       "      <td>-2.833120</td>\n",
       "      <td>0.498684</td>\n",
       "      <td>13</td>\n",
       "    </tr>\n",
       "    <tr>\n",
       "      <th>13</th>\n",
       "      <td>0.049016</td>\n",
       "      <td>0.009028</td>\n",
       "      <td>0.003987</td>\n",
       "      <td>0.003568</td>\n",
       "      <td>0.5</td>\n",
       "      <td>True</td>\n",
       "      <td>0.75</td>\n",
       "      <td>elasticnet</td>\n",
       "      <td>{'sgdR__alpha': 0.5, 'sgdR__early_stopping': T...</td>\n",
       "      <td>-2.322957</td>\n",
       "      <td>-3.129969</td>\n",
       "      <td>-2.469452</td>\n",
       "      <td>-3.503547</td>\n",
       "      <td>-3.419319</td>\n",
       "      <td>-2.969049</td>\n",
       "      <td>0.486078</td>\n",
       "      <td>15</td>\n",
       "    </tr>\n",
       "    <tr>\n",
       "      <th>14</th>\n",
       "      <td>0.060063</td>\n",
       "      <td>0.012422</td>\n",
       "      <td>0.003665</td>\n",
       "      <td>0.003212</td>\n",
       "      <td>0.5</td>\n",
       "      <td>True</td>\n",
       "      <td>1</td>\n",
       "      <td>elasticnet</td>\n",
       "      <td>{'sgdR__alpha': 0.5, 'sgdR__early_stopping': T...</td>\n",
       "      <td>-2.680582</td>\n",
       "      <td>-3.026658</td>\n",
       "      <td>-2.532680</td>\n",
       "      <td>-3.777173</td>\n",
       "      <td>-3.618593</td>\n",
       "      <td>-3.127137</td>\n",
       "      <td>0.495371</td>\n",
       "      <td>17</td>\n",
       "    </tr>\n",
       "    <tr>\n",
       "      <th>15</th>\n",
       "      <td>0.051665</td>\n",
       "      <td>0.006672</td>\n",
       "      <td>0.006337</td>\n",
       "      <td>0.001149</td>\n",
       "      <td>1</td>\n",
       "      <td>True</td>\n",
       "      <td>0</td>\n",
       "      <td>elasticnet</td>\n",
       "      <td>{'sgdR__alpha': 1, 'sgdR__early_stopping': Tru...</td>\n",
       "      <td>-1.610115</td>\n",
       "      <td>-3.462947</td>\n",
       "      <td>-2.566652</td>\n",
       "      <td>-3.412640</td>\n",
       "      <td>-3.727537</td>\n",
       "      <td>-2.955978</td>\n",
       "      <td>0.777661</td>\n",
       "      <td>14</td>\n",
       "    </tr>\n",
       "    <tr>\n",
       "      <th>16</th>\n",
       "      <td>0.056536</td>\n",
       "      <td>0.007382</td>\n",
       "      <td>0.002194</td>\n",
       "      <td>0.002849</td>\n",
       "      <td>1</td>\n",
       "      <td>True</td>\n",
       "      <td>0.15</td>\n",
       "      <td>elasticnet</td>\n",
       "      <td>{'sgdR__alpha': 1, 'sgdR__early_stopping': Tru...</td>\n",
       "      <td>-2.037410</td>\n",
       "      <td>-3.405001</td>\n",
       "      <td>-2.547029</td>\n",
       "      <td>-3.960022</td>\n",
       "      <td>-3.666389</td>\n",
       "      <td>-3.123170</td>\n",
       "      <td>0.719117</td>\n",
       "      <td>16</td>\n",
       "    </tr>\n",
       "    <tr>\n",
       "      <th>17</th>\n",
       "      <td>0.047657</td>\n",
       "      <td>0.005756</td>\n",
       "      <td>0.005265</td>\n",
       "      <td>0.001426</td>\n",
       "      <td>1</td>\n",
       "      <td>True</td>\n",
       "      <td>0.5</td>\n",
       "      <td>elasticnet</td>\n",
       "      <td>{'sgdR__alpha': 1, 'sgdR__early_stopping': Tru...</td>\n",
       "      <td>-2.566850</td>\n",
       "      <td>-3.619214</td>\n",
       "      <td>-2.848493</td>\n",
       "      <td>-4.485688</td>\n",
       "      <td>-4.049742</td>\n",
       "      <td>-3.513997</td>\n",
       "      <td>0.718646</td>\n",
       "      <td>18</td>\n",
       "    </tr>\n",
       "    <tr>\n",
       "      <th>18</th>\n",
       "      <td>0.051917</td>\n",
       "      <td>0.007303</td>\n",
       "      <td>0.005392</td>\n",
       "      <td>0.001184</td>\n",
       "      <td>1</td>\n",
       "      <td>True</td>\n",
       "      <td>0.75</td>\n",
       "      <td>elasticnet</td>\n",
       "      <td>{'sgdR__alpha': 1, 'sgdR__early_stopping': Tru...</td>\n",
       "      <td>-3.334295</td>\n",
       "      <td>-3.951776</td>\n",
       "      <td>-2.919311</td>\n",
       "      <td>-5.646702</td>\n",
       "      <td>-4.452767</td>\n",
       "      <td>-4.060970</td>\n",
       "      <td>0.949886</td>\n",
       "      <td>20</td>\n",
       "    </tr>\n",
       "    <tr>\n",
       "      <th>19</th>\n",
       "      <td>0.057293</td>\n",
       "      <td>0.018485</td>\n",
       "      <td>0.002992</td>\n",
       "      <td>0.002676</td>\n",
       "      <td>1</td>\n",
       "      <td>True</td>\n",
       "      <td>1</td>\n",
       "      <td>elasticnet</td>\n",
       "      <td>{'sgdR__alpha': 1, 'sgdR__early_stopping': Tru...</td>\n",
       "      <td>-3.384032</td>\n",
       "      <td>-3.883019</td>\n",
       "      <td>-3.011678</td>\n",
       "      <td>-5.545073</td>\n",
       "      <td>-4.344504</td>\n",
       "      <td>-4.033661</td>\n",
       "      <td>0.879790</td>\n",
       "      <td>19</td>\n",
       "    </tr>\n",
       "  </tbody>\n",
       "</table>\n",
       "</div>"
      ],
      "text/plain": [
       "    mean_fit_time  std_fit_time  mean_score_time  std_score_time  \\\n",
       "0        0.047616      0.009098         0.004321        0.005806   \n",
       "1        0.038878      0.009502         0.007044        0.007151   \n",
       "2        0.060179      0.018881         0.003397        0.002939   \n",
       "3        0.052691      0.013063         0.007069        0.004395   \n",
       "4        0.038057      0.014382         0.008045        0.006406   \n",
       "5        0.039758      0.013900         0.003923        0.006052   \n",
       "6        0.049603      0.013311         0.001595        0.003191   \n",
       "7        0.041756      0.006475         0.005118        0.005739   \n",
       "8        0.064428      0.006232         0.004587        0.000799   \n",
       "9        0.052087      0.006517         0.004388        0.002863   \n",
       "10       0.056005      0.006267         0.005785        0.001161   \n",
       "11       0.041150      0.009546         0.002992        0.002523   \n",
       "12       0.052172      0.010897         0.006184        0.001466   \n",
       "13       0.049016      0.009028         0.003987        0.003568   \n",
       "14       0.060063      0.012422         0.003665        0.003212   \n",
       "15       0.051665      0.006672         0.006337        0.001149   \n",
       "16       0.056536      0.007382         0.002194        0.002849   \n",
       "17       0.047657      0.005756         0.005265        0.001426   \n",
       "18       0.051917      0.007303         0.005392        0.001184   \n",
       "19       0.057293      0.018485         0.002992        0.002676   \n",
       "\n",
       "   param_sgdR__alpha param_sgdR__early_stopping param_sgdR__l1_ratio  \\\n",
       "0             0.0001                       True                    0   \n",
       "1             0.0001                       True                 0.15   \n",
       "2             0.0001                       True                  0.5   \n",
       "3             0.0001                       True                 0.75   \n",
       "4             0.0001                       True                    1   \n",
       "5               0.01                       True                    0   \n",
       "6               0.01                       True                 0.15   \n",
       "7               0.01                       True                  0.5   \n",
       "8               0.01                       True                 0.75   \n",
       "9               0.01                       True                    1   \n",
       "10               0.5                       True                    0   \n",
       "11               0.5                       True                 0.15   \n",
       "12               0.5                       True                  0.5   \n",
       "13               0.5                       True                 0.75   \n",
       "14               0.5                       True                    1   \n",
       "15                 1                       True                    0   \n",
       "16                 1                       True                 0.15   \n",
       "17                 1                       True                  0.5   \n",
       "18                 1                       True                 0.75   \n",
       "19                 1                       True                    1   \n",
       "\n",
       "   param_sgdR__penalty                                             params  \\\n",
       "0           elasticnet  {'sgdR__alpha': 0.0001, 'sgdR__early_stopping'...   \n",
       "1           elasticnet  {'sgdR__alpha': 0.0001, 'sgdR__early_stopping'...   \n",
       "2           elasticnet  {'sgdR__alpha': 0.0001, 'sgdR__early_stopping'...   \n",
       "3           elasticnet  {'sgdR__alpha': 0.0001, 'sgdR__early_stopping'...   \n",
       "4           elasticnet  {'sgdR__alpha': 0.0001, 'sgdR__early_stopping'...   \n",
       "5           elasticnet  {'sgdR__alpha': 0.01, 'sgdR__early_stopping': ...   \n",
       "6           elasticnet  {'sgdR__alpha': 0.01, 'sgdR__early_stopping': ...   \n",
       "7           elasticnet  {'sgdR__alpha': 0.01, 'sgdR__early_stopping': ...   \n",
       "8           elasticnet  {'sgdR__alpha': 0.01, 'sgdR__early_stopping': ...   \n",
       "9           elasticnet  {'sgdR__alpha': 0.01, 'sgdR__early_stopping': ...   \n",
       "10          elasticnet  {'sgdR__alpha': 0.5, 'sgdR__early_stopping': T...   \n",
       "11          elasticnet  {'sgdR__alpha': 0.5, 'sgdR__early_stopping': T...   \n",
       "12          elasticnet  {'sgdR__alpha': 0.5, 'sgdR__early_stopping': T...   \n",
       "13          elasticnet  {'sgdR__alpha': 0.5, 'sgdR__early_stopping': T...   \n",
       "14          elasticnet  {'sgdR__alpha': 0.5, 'sgdR__early_stopping': T...   \n",
       "15          elasticnet  {'sgdR__alpha': 1, 'sgdR__early_stopping': Tru...   \n",
       "16          elasticnet  {'sgdR__alpha': 1, 'sgdR__early_stopping': Tru...   \n",
       "17          elasticnet  {'sgdR__alpha': 1, 'sgdR__early_stopping': Tru...   \n",
       "18          elasticnet  {'sgdR__alpha': 1, 'sgdR__early_stopping': Tru...   \n",
       "19          elasticnet  {'sgdR__alpha': 1, 'sgdR__early_stopping': Tru...   \n",
       "\n",
       "    split0_test_score  split1_test_score  split2_test_score  \\\n",
       "0           -1.938711          -2.525993          -2.169773   \n",
       "1           -2.034250          -2.405451          -2.150080   \n",
       "2           -2.032068          -2.397860          -2.196214   \n",
       "3           -1.929648          -2.643805          -2.194837   \n",
       "4           -2.043041          -2.429833          -2.197721   \n",
       "5           -1.922051          -2.496944          -2.171325   \n",
       "6           -1.906344          -2.527753          -2.240777   \n",
       "7           -2.124544          -2.573500          -2.200036   \n",
       "8           -1.810121          -2.502093          -2.201473   \n",
       "9           -2.008299          -2.511009          -2.211534   \n",
       "10          -1.456350          -3.036450          -2.377360   \n",
       "11          -1.706274          -3.067046          -2.350855   \n",
       "12          -2.103390          -3.010344          -2.410498   \n",
       "13          -2.322957          -3.129969          -2.469452   \n",
       "14          -2.680582          -3.026658          -2.532680   \n",
       "15          -1.610115          -3.462947          -2.566652   \n",
       "16          -2.037410          -3.405001          -2.547029   \n",
       "17          -2.566850          -3.619214          -2.848493   \n",
       "18          -3.334295          -3.951776          -2.919311   \n",
       "19          -3.384032          -3.883019          -3.011678   \n",
       "\n",
       "    split3_test_score  split4_test_score  mean_test_score  std_test_score  \\\n",
       "0           -2.981899          -4.097029        -2.742681        0.763286   \n",
       "1           -2.897713          -4.089955        -2.715490        0.748633   \n",
       "2           -2.886986          -4.165899        -2.735805        0.770537   \n",
       "3           -2.730396          -4.099918        -2.719721        0.749738   \n",
       "4           -2.823541          -4.122800        -2.723387        0.747497   \n",
       "5           -3.029309          -4.409614        -2.805849        0.883305   \n",
       "6           -2.899300          -4.154109        -2.745656        0.776425   \n",
       "7           -2.864985          -3.926209        -2.737855        0.651270   \n",
       "8           -2.950475          -3.960793        -2.684991        0.739025   \n",
       "9           -2.895825          -4.019056        -2.729145        0.710884   \n",
       "10          -2.968110          -3.416847        -2.651023        0.683772   \n",
       "11          -3.134714          -3.550516        -2.761881        0.653808   \n",
       "12          -3.207846          -3.433522        -2.833120        0.498684   \n",
       "13          -3.503547          -3.419319        -2.969049        0.486078   \n",
       "14          -3.777173          -3.618593        -3.127137        0.495371   \n",
       "15          -3.412640          -3.727537        -2.955978        0.777661   \n",
       "16          -3.960022          -3.666389        -3.123170        0.719117   \n",
       "17          -4.485688          -4.049742        -3.513997        0.718646   \n",
       "18          -5.646702          -4.452767        -4.060970        0.949886   \n",
       "19          -5.545073          -4.344504        -4.033661        0.879790   \n",
       "\n",
       "    rank_test_score  \n",
       "0                 9  \n",
       "1                 3  \n",
       "2                 7  \n",
       "3                 4  \n",
       "4                 5  \n",
       "5                12  \n",
       "6                10  \n",
       "7                 8  \n",
       "8                 2  \n",
       "9                 6  \n",
       "10                1  \n",
       "11               11  \n",
       "12               13  \n",
       "13               15  \n",
       "14               17  \n",
       "15               14  \n",
       "16               16  \n",
       "17               18  \n",
       "18               20  \n",
       "19               19  "
      ]
     },
     "execution_count": 106,
     "metadata": {},
     "output_type": "execute_result"
    }
   ],
   "source": [
    "pd.DataFrame(data=grid.cv_results_,columns=grid.cv_results_.keys())"
   ]
  },
  {
   "cell_type": "code",
   "execution_count": 107,
   "metadata": {},
   "outputs": [
    {
     "data": {
      "text/plain": [
       "Pipeline(steps=[('scaler', StandardScaler()),\n",
       "                ('sgdR',\n",
       "                 SGDRegressor(alpha=0.5, early_stopping=True, l1_ratio=0,\n",
       "                              penalty='elasticnet'))])"
      ]
     },
     "execution_count": 107,
     "metadata": {},
     "output_type": "execute_result"
    }
   ],
   "source": [
    "grid.best_estimator_"
   ]
  },
  {
   "cell_type": "code",
   "execution_count": 108,
   "metadata": {},
   "outputs": [
    {
     "data": {
      "text/plain": [
       "{'sgdR__alpha': 0.5,\n",
       " 'sgdR__early_stopping': True,\n",
       " 'sgdR__l1_ratio': 0,\n",
       " 'sgdR__penalty': 'elasticnet'}"
      ]
     },
     "execution_count": 108,
     "metadata": {},
     "output_type": "execute_result"
    }
   ],
   "source": [
    "grid.best_params_"
   ]
  },
  {
   "cell_type": "markdown",
   "metadata": {},
   "source": [
    "The best estimator is \n",
    "{'sgdR__alpha': 0.5,\n",
    " 'sgdR__early_stopping': True,\n",
    " 'sgdR__l1_ratio': 0,\n",
    " 'sgdR__penalty': 'elasticnet'}"
   ]
  },
  {
   "cell_type": "markdown",
   "metadata": {},
   "source": [
    "## Training with best parameters"
   ]
  },
  {
   "cell_type": "code",
   "execution_count": 109,
   "metadata": {},
   "outputs": [],
   "source": [
    "X_train, X_test, y_train, y_test = train_test_split(X, y, test_size=0.33, random_state=25)"
   ]
  },
  {
   "cell_type": "code",
   "execution_count": 110,
   "metadata": {},
   "outputs": [],
   "source": [
    "X_scale_train=scaler.fit_transform(X_train)"
   ]
  },
  {
   "cell_type": "code",
   "execution_count": 111,
   "metadata": {},
   "outputs": [],
   "source": [
    "X_scale_test=scaler.transform(X_test)"
   ]
  },
  {
   "cell_type": "code",
   "execution_count": 112,
   "metadata": {},
   "outputs": [],
   "source": [
    "Final_model=SGDRegressor(alpha=.5,l1_ratio=0,penalty='elasticnet')\n",
    "Final_model.fit(X_scale_train,y_train)\n",
    "pred=Final_model.predict(X_scale_test)"
   ]
  },
  {
   "cell_type": "code",
   "execution_count": 113,
   "metadata": {},
   "outputs": [
    {
     "data": {
      "text/plain": [
       "1.4604106440645046"
      ]
     },
     "execution_count": 113,
     "metadata": {},
     "output_type": "execute_result"
    }
   ],
   "source": [
    "finalRMSE=np.sqrt(mean_squared_error(y_test,pred))\n",
    "finalRMSE"
   ]
  },
  {
   "cell_type": "markdown",
   "metadata": {},
   "source": [
    "final Root mean square error of the model is only 1.4604106440645046 which is very less"
   ]
  },
  {
   "cell_type": "code",
   "execution_count": 116,
   "metadata": {},
   "outputs": [
    {
     "data": {
      "text/plain": [
       "30.532556759163086"
      ]
     },
     "execution_count": 116,
     "metadata": {},
     "output_type": "execute_result"
    }
   ],
   "source": [
    "df['Next_Tmax'].mean()"
   ]
  },
  {
   "cell_type": "markdown",
   "metadata": {},
   "source": [
    "### Predicting Next_Tmin"
   ]
  },
  {
   "cell_type": "code",
   "execution_count": 118,
   "metadata": {},
   "outputs": [],
   "source": [
    "y1=df['Next_Tmin']\n",
    "X1=df.drop(['Next_Tmax','Next_Tmin'],axis=1)"
   ]
  },
  {
   "cell_type": "code",
   "execution_count": 119,
   "metadata": {},
   "outputs": [
    {
     "name": "stdout",
     "output_type": "stream",
     "text": [
      "min RMSE is 0.9552378222706064 on random state 83\n"
     ]
    }
   ],
   "source": [
    "minRMSE=\"null\"\n",
    "minRS=0\n",
    "for i in range(200):\n",
    "    X_train, X_test, y_train, y_test = train_test_split(X1, y1, test_size=0.33, random_state=i)\n",
    "    lr=LinearRegression()\n",
    "    lr.fit(X_train,y_train)\n",
    "    pred=lr.predict(X_test)\n",
    "    RMSE=np.sqrt(mean_squared_error(y_test,pred))\n",
    "    if(minRMSE==\"null\" or RMSE<minRMSE):\n",
    "        minRMSE=RMSE\n",
    "        minRS=i\n",
    "        \n",
    "print(\"min RMSE is\",minRMSE,\"on random state\",minRS)"
   ]
  },
  {
   "cell_type": "markdown",
   "metadata": {},
   "source": [
    "min RMSE is 0.9552378222706064 on random state 83"
   ]
  },
  {
   "cell_type": "code",
   "execution_count": 121,
   "metadata": {},
   "outputs": [],
   "source": [
    "X_train1, X_test1, y_train1, y_test1 = train_test_split(X1, y1, test_size=0.33, random_state=83)"
   ]
  },
  {
   "cell_type": "code",
   "execution_count": 122,
   "metadata": {},
   "outputs": [],
   "source": [
    "from sklearn.preprocessing import StandardScaler"
   ]
  },
  {
   "cell_type": "code",
   "execution_count": 123,
   "metadata": {},
   "outputs": [],
   "source": [
    "scaler = StandardScaler()"
   ]
  },
  {
   "cell_type": "code",
   "execution_count": 124,
   "metadata": {},
   "outputs": [
    {
     "data": {
      "text/plain": [
       "Index(['station', 'Present_Tmax', 'Present_Tmin', 'LDAPS_RHmin', 'LDAPS_RHmax',\n",
       "       'LDAPS_Tmax_lapse', 'LDAPS_Tmin_lapse', 'LDAPS_WS', 'LDAPS_LH',\n",
       "       'LDAPS_CC1', 'LDAPS_CC2', 'LDAPS_CC3', 'LDAPS_CC4', 'LDAPS_PPT1',\n",
       "       'LDAPS_PPT2', 'LDAPS_PPT3', 'LDAPS_PPT4', 'lat', 'lon', 'DEM', 'Slope',\n",
       "       'Solar radiation', 'Next_Tmax', 'Next_Tmin', 'Day', 'Month', 'Year'],\n",
       "      dtype='object')"
      ]
     },
     "execution_count": 124,
     "metadata": {},
     "output_type": "execute_result"
    }
   ],
   "source": [
    "df.columns"
   ]
  },
  {
   "cell_type": "code",
   "execution_count": 125,
   "metadata": {},
   "outputs": [],
   "source": [
    "x_train_scale1=scaler.fit_transform(X_train1)"
   ]
  },
  {
   "cell_type": "code",
   "execution_count": 126,
   "metadata": {},
   "outputs": [
    {
     "data": {
      "text/html": [
       "<div>\n",
       "<style scoped>\n",
       "    .dataframe tbody tr th:only-of-type {\n",
       "        vertical-align: middle;\n",
       "    }\n",
       "\n",
       "    .dataframe tbody tr th {\n",
       "        vertical-align: top;\n",
       "    }\n",
       "\n",
       "    .dataframe thead th {\n",
       "        text-align: right;\n",
       "    }\n",
       "</style>\n",
       "<table border=\"1\" class=\"dataframe\">\n",
       "  <thead>\n",
       "    <tr style=\"text-align: right;\">\n",
       "      <th></th>\n",
       "      <th>station</th>\n",
       "      <th>Present_Tmax</th>\n",
       "      <th>Present_Tmin</th>\n",
       "      <th>LDAPS_RHmin</th>\n",
       "      <th>LDAPS_RHmax</th>\n",
       "      <th>LDAPS_Tmax_lapse</th>\n",
       "      <th>LDAPS_Tmin_lapse</th>\n",
       "      <th>LDAPS_WS</th>\n",
       "      <th>LDAPS_LH</th>\n",
       "      <th>LDAPS_CC1</th>\n",
       "      <th>LDAPS_CC2</th>\n",
       "      <th>LDAPS_CC3</th>\n",
       "      <th>LDAPS_CC4</th>\n",
       "      <th>LDAPS_PPT1</th>\n",
       "      <th>LDAPS_PPT2</th>\n",
       "      <th>LDAPS_PPT3</th>\n",
       "      <th>LDAPS_PPT4</th>\n",
       "      <th>lat</th>\n",
       "      <th>lon</th>\n",
       "      <th>DEM</th>\n",
       "      <th>Slope</th>\n",
       "      <th>Solar radiation</th>\n",
       "      <th>Day</th>\n",
       "      <th>Month</th>\n",
       "      <th>Year</th>\n",
       "    </tr>\n",
       "  </thead>\n",
       "  <tbody>\n",
       "    <tr>\n",
       "      <th>0</th>\n",
       "      <td>-1.667622</td>\n",
       "      <td>-0.815159</td>\n",
       "      <td>-0.254083</td>\n",
       "      <td>2.099294</td>\n",
       "      <td>1.408171</td>\n",
       "      <td>-1.018795</td>\n",
       "      <td>0.129254</td>\n",
       "      <td>1.902813</td>\n",
       "      <td>-0.462409</td>\n",
       "      <td>1.256621</td>\n",
       "      <td>2.081997</td>\n",
       "      <td>1.351917</td>\n",
       "      <td>-0.371415</td>\n",
       "      <td>-0.291830</td>\n",
       "      <td>2.285662</td>\n",
       "      <td>-0.245566</td>\n",
       "      <td>-0.237542</td>\n",
       "      <td>1.195584</td>\n",
       "      <td>-0.002435</td>\n",
       "      <td>2.858785</td>\n",
       "      <td>1.140532</td>\n",
       "      <td>0.301607</td>\n",
       "      <td>-1.326204</td>\n",
       "      <td>0.991162</td>\n",
       "      <td>0.009012</td>\n",
       "    </tr>\n",
       "    <tr>\n",
       "      <th>1</th>\n",
       "      <td>1.379001</td>\n",
       "      <td>0.057075</td>\n",
       "      <td>-0.254083</td>\n",
       "      <td>0.697985</td>\n",
       "      <td>0.727890</td>\n",
       "      <td>-1.301489</td>\n",
       "      <td>-1.056176</td>\n",
       "      <td>-1.256564</td>\n",
       "      <td>-0.323521</td>\n",
       "      <td>0.457795</td>\n",
       "      <td>1.972926</td>\n",
       "      <td>1.888816</td>\n",
       "      <td>1.530679</td>\n",
       "      <td>-0.333951</td>\n",
       "      <td>5.080237</td>\n",
       "      <td>1.239233</td>\n",
       "      <td>-0.223447</td>\n",
       "      <td>-0.152069</td>\n",
       "      <td>-1.254647</td>\n",
       "      <td>-0.847254</td>\n",
       "      <td>-0.800511</td>\n",
       "      <td>-0.920644</td>\n",
       "      <td>0.019170</td>\n",
       "      <td>0.991162</td>\n",
       "      <td>-0.704835</td>\n",
       "    </tr>\n",
       "    <tr>\n",
       "      <th>2</th>\n",
       "      <td>0.963553</td>\n",
       "      <td>-0.291819</td>\n",
       "      <td>0.220710</td>\n",
       "      <td>0.691461</td>\n",
       "      <td>1.548585</td>\n",
       "      <td>-1.450469</td>\n",
       "      <td>-0.699522</td>\n",
       "      <td>0.571228</td>\n",
       "      <td>0.765864</td>\n",
       "      <td>0.397108</td>\n",
       "      <td>0.824173</td>\n",
       "      <td>-0.704881</td>\n",
       "      <td>-1.172660</td>\n",
       "      <td>-0.333013</td>\n",
       "      <td>0.416660</td>\n",
       "      <td>-0.229855</td>\n",
       "      <td>-0.237542</td>\n",
       "      <td>1.465515</td>\n",
       "      <td>0.160352</td>\n",
       "      <td>1.619699</td>\n",
       "      <td>2.575942</td>\n",
       "      <td>0.643866</td>\n",
       "      <td>1.140315</td>\n",
       "      <td>-0.914757</td>\n",
       "      <td>0.009012</td>\n",
       "    </tr>\n",
       "    <tr>\n",
       "      <th>3</th>\n",
       "      <td>0.963553</td>\n",
       "      <td>0.719973</td>\n",
       "      <td>-1.160506</td>\n",
       "      <td>-0.217464</td>\n",
       "      <td>-0.654169</td>\n",
       "      <td>0.267341</td>\n",
       "      <td>-0.424042</td>\n",
       "      <td>-0.009115</td>\n",
       "      <td>2.051740</td>\n",
       "      <td>-1.350089</td>\n",
       "      <td>-1.364247</td>\n",
       "      <td>-1.175524</td>\n",
       "      <td>0.026656</td>\n",
       "      <td>-0.340709</td>\n",
       "      <td>-0.281076</td>\n",
       "      <td>-0.256627</td>\n",
       "      <td>-0.237542</td>\n",
       "      <td>1.465515</td>\n",
       "      <td>0.160352</td>\n",
       "      <td>1.619699</td>\n",
       "      <td>2.575942</td>\n",
       "      <td>1.250855</td>\n",
       "      <td>-0.877746</td>\n",
       "      <td>-0.914757</td>\n",
       "      <td>0.722859</td>\n",
       "    </tr>\n",
       "    <tr>\n",
       "      <th>4</th>\n",
       "      <td>0.271138</td>\n",
       "      <td>-0.570934</td>\n",
       "      <td>0.695503</td>\n",
       "      <td>-1.306727</td>\n",
       "      <td>0.427634</td>\n",
       "      <td>0.259149</td>\n",
       "      <td>-0.485542</td>\n",
       "      <td>-0.350996</td>\n",
       "      <td>-1.250754</td>\n",
       "      <td>-0.686846</td>\n",
       "      <td>-0.938486</td>\n",
       "      <td>-1.218067</td>\n",
       "      <td>-1.037337</td>\n",
       "      <td>-0.340709</td>\n",
       "      <td>-0.281076</td>\n",
       "      <td>-0.256627</td>\n",
       "      <td>-0.237542</td>\n",
       "      <td>0.117861</td>\n",
       "      <td>-0.678629</td>\n",
       "      <td>-0.574901</td>\n",
       "      <td>-0.283953</td>\n",
       "      <td>-1.529043</td>\n",
       "      <td>0.916086</td>\n",
       "      <td>0.991162</td>\n",
       "      <td>1.436706</td>\n",
       "    </tr>\n",
       "  </tbody>\n",
       "</table>\n",
       "</div>"
      ],
      "text/plain": [
       "    station  Present_Tmax  Present_Tmin  LDAPS_RHmin  LDAPS_RHmax  \\\n",
       "0 -1.667622     -0.815159     -0.254083     2.099294     1.408171   \n",
       "1  1.379001      0.057075     -0.254083     0.697985     0.727890   \n",
       "2  0.963553     -0.291819      0.220710     0.691461     1.548585   \n",
       "3  0.963553      0.719973     -1.160506    -0.217464    -0.654169   \n",
       "4  0.271138     -0.570934      0.695503    -1.306727     0.427634   \n",
       "\n",
       "   LDAPS_Tmax_lapse  LDAPS_Tmin_lapse  LDAPS_WS  LDAPS_LH  LDAPS_CC1  \\\n",
       "0         -1.018795          0.129254  1.902813 -0.462409   1.256621   \n",
       "1         -1.301489         -1.056176 -1.256564 -0.323521   0.457795   \n",
       "2         -1.450469         -0.699522  0.571228  0.765864   0.397108   \n",
       "3          0.267341         -0.424042 -0.009115  2.051740  -1.350089   \n",
       "4          0.259149         -0.485542 -0.350996 -1.250754  -0.686846   \n",
       "\n",
       "   LDAPS_CC2  LDAPS_CC3  LDAPS_CC4  LDAPS_PPT1  LDAPS_PPT2  LDAPS_PPT3  \\\n",
       "0   2.081997   1.351917  -0.371415   -0.291830    2.285662   -0.245566   \n",
       "1   1.972926   1.888816   1.530679   -0.333951    5.080237    1.239233   \n",
       "2   0.824173  -0.704881  -1.172660   -0.333013    0.416660   -0.229855   \n",
       "3  -1.364247  -1.175524   0.026656   -0.340709   -0.281076   -0.256627   \n",
       "4  -0.938486  -1.218067  -1.037337   -0.340709   -0.281076   -0.256627   \n",
       "\n",
       "   LDAPS_PPT4       lat       lon       DEM     Slope  Solar radiation  \\\n",
       "0   -0.237542  1.195584 -0.002435  2.858785  1.140532         0.301607   \n",
       "1   -0.223447 -0.152069 -1.254647 -0.847254 -0.800511        -0.920644   \n",
       "2   -0.237542  1.465515  0.160352  1.619699  2.575942         0.643866   \n",
       "3   -0.237542  1.465515  0.160352  1.619699  2.575942         1.250855   \n",
       "4   -0.237542  0.117861 -0.678629 -0.574901 -0.283953        -1.529043   \n",
       "\n",
       "        Day     Month      Year  \n",
       "0 -1.326204  0.991162  0.009012  \n",
       "1  0.019170  0.991162 -0.704835  \n",
       "2  1.140315 -0.914757  0.009012  \n",
       "3 -0.877746 -0.914757  0.722859  \n",
       "4  0.916086  0.991162  1.436706  "
      ]
     },
     "execution_count": 126,
     "metadata": {},
     "output_type": "execute_result"
    }
   ],
   "source": [
    "XtrainDF1=pd.DataFrame(x_train_scale1,columns=X_train1.columns)\n",
    "XtrainDF1.head()"
   ]
  },
  {
   "cell_type": "code",
   "execution_count": 127,
   "metadata": {},
   "outputs": [
    {
     "data": {
      "text/html": [
       "<div>\n",
       "<style scoped>\n",
       "    .dataframe tbody tr th:only-of-type {\n",
       "        vertical-align: middle;\n",
       "    }\n",
       "\n",
       "    .dataframe tbody tr th {\n",
       "        vertical-align: top;\n",
       "    }\n",
       "\n",
       "    .dataframe thead th {\n",
       "        text-align: right;\n",
       "    }\n",
       "</style>\n",
       "<table border=\"1\" class=\"dataframe\">\n",
       "  <thead>\n",
       "    <tr style=\"text-align: right;\">\n",
       "      <th></th>\n",
       "      <th>station</th>\n",
       "      <th>Present_Tmax</th>\n",
       "      <th>Present_Tmin</th>\n",
       "      <th>LDAPS_RHmin</th>\n",
       "      <th>LDAPS_RHmax</th>\n",
       "      <th>LDAPS_Tmax_lapse</th>\n",
       "      <th>LDAPS_Tmin_lapse</th>\n",
       "      <th>LDAPS_WS</th>\n",
       "      <th>LDAPS_LH</th>\n",
       "      <th>LDAPS_CC1</th>\n",
       "      <th>LDAPS_CC2</th>\n",
       "      <th>LDAPS_CC3</th>\n",
       "      <th>LDAPS_CC4</th>\n",
       "      <th>LDAPS_PPT1</th>\n",
       "      <th>LDAPS_PPT2</th>\n",
       "      <th>LDAPS_PPT3</th>\n",
       "      <th>LDAPS_PPT4</th>\n",
       "      <th>lat</th>\n",
       "      <th>lon</th>\n",
       "      <th>DEM</th>\n",
       "      <th>Slope</th>\n",
       "      <th>Solar radiation</th>\n",
       "      <th>Day</th>\n",
       "      <th>Month</th>\n",
       "      <th>Year</th>\n",
       "    </tr>\n",
       "  </thead>\n",
       "  <tbody>\n",
       "    <tr>\n",
       "      <th>count</th>\n",
       "      <td>4.515000e+03</td>\n",
       "      <td>4.515000e+03</td>\n",
       "      <td>4.515000e+03</td>\n",
       "      <td>4.515000e+03</td>\n",
       "      <td>4.515000e+03</td>\n",
       "      <td>4.515000e+03</td>\n",
       "      <td>4.515000e+03</td>\n",
       "      <td>4.515000e+03</td>\n",
       "      <td>4.515000e+03</td>\n",
       "      <td>4.515000e+03</td>\n",
       "      <td>4.515000e+03</td>\n",
       "      <td>4.515000e+03</td>\n",
       "      <td>4.515000e+03</td>\n",
       "      <td>4.515000e+03</td>\n",
       "      <td>4.515000e+03</td>\n",
       "      <td>4.515000e+03</td>\n",
       "      <td>4.515000e+03</td>\n",
       "      <td>4.515000e+03</td>\n",
       "      <td>4.515000e+03</td>\n",
       "      <td>4.515000e+03</td>\n",
       "      <td>4.515000e+03</td>\n",
       "      <td>4.515000e+03</td>\n",
       "      <td>4.515000e+03</td>\n",
       "      <td>4.515000e+03</td>\n",
       "      <td>4.515000e+03</td>\n",
       "    </tr>\n",
       "    <tr>\n",
       "      <th>mean</th>\n",
       "      <td>1.046536e-16</td>\n",
       "      <td>-2.405459e-15</td>\n",
       "      <td>-4.343517e-16</td>\n",
       "      <td>-1.479314e-16</td>\n",
       "      <td>-3.037314e-16</td>\n",
       "      <td>1.156697e-16</td>\n",
       "      <td>-6.035285e-16</td>\n",
       "      <td>1.251122e-16</td>\n",
       "      <td>2.014385e-16</td>\n",
       "      <td>-1.904223e-16</td>\n",
       "      <td>1.542263e-16</td>\n",
       "      <td>-4.721214e-17</td>\n",
       "      <td>-8.970307e-17</td>\n",
       "      <td>4.878588e-17</td>\n",
       "      <td>2.360607e-18</td>\n",
       "      <td>9.442428e-18</td>\n",
       "      <td>8.655559e-18</td>\n",
       "      <td>-3.102152e-14</td>\n",
       "      <td>-8.036687e-14</td>\n",
       "      <td>4.721214e-17</td>\n",
       "      <td>4.878588e-17</td>\n",
       "      <td>-4.091719e-16</td>\n",
       "      <td>-1.101617e-17</td>\n",
       "      <td>4.233355e-16</td>\n",
       "      <td>-6.691692e-14</td>\n",
       "    </tr>\n",
       "    <tr>\n",
       "      <th>std</th>\n",
       "      <td>1.000111e+00</td>\n",
       "      <td>1.000111e+00</td>\n",
       "      <td>1.000111e+00</td>\n",
       "      <td>1.000111e+00</td>\n",
       "      <td>1.000111e+00</td>\n",
       "      <td>1.000111e+00</td>\n",
       "      <td>1.000111e+00</td>\n",
       "      <td>1.000111e+00</td>\n",
       "      <td>1.000111e+00</td>\n",
       "      <td>1.000111e+00</td>\n",
       "      <td>1.000111e+00</td>\n",
       "      <td>1.000111e+00</td>\n",
       "      <td>1.000111e+00</td>\n",
       "      <td>1.000111e+00</td>\n",
       "      <td>1.000111e+00</td>\n",
       "      <td>1.000111e+00</td>\n",
       "      <td>1.000111e+00</td>\n",
       "      <td>1.000111e+00</td>\n",
       "      <td>1.000111e+00</td>\n",
       "      <td>1.000111e+00</td>\n",
       "      <td>1.000111e+00</td>\n",
       "      <td>1.000111e+00</td>\n",
       "      <td>1.000111e+00</td>\n",
       "      <td>1.000111e+00</td>\n",
       "      <td>1.000111e+00</td>\n",
       "    </tr>\n",
       "    <tr>\n",
       "      <th>min</th>\n",
       "      <td>-1.667622e+00</td>\n",
       "      <td>-3.048079e+00</td>\n",
       "      <td>-3.102842e+00</td>\n",
       "      <td>-2.590501e+00</td>\n",
       "      <td>-3.086832e+00</td>\n",
       "      <td>-3.126008e+00</td>\n",
       "      <td>-3.145479e+00</td>\n",
       "      <td>-2.149415e+00</td>\n",
       "      <td>-2.111969e+00</td>\n",
       "      <td>-1.383937e+00</td>\n",
       "      <td>-1.383162e+00</td>\n",
       "      <td>-1.277539e+00</td>\n",
       "      <td>-1.174914e+00</td>\n",
       "      <td>-3.407088e-01</td>\n",
       "      <td>-2.810756e-01</td>\n",
       "      <td>-2.566274e-01</td>\n",
       "      <td>-2.375419e-01</td>\n",
       "      <td>-1.771653e+00</td>\n",
       "      <td>-2.068584e+00</td>\n",
       "      <td>-9.078629e-01</td>\n",
       "      <td>-8.425120e-01</td>\n",
       "      <td>-2.312052e+00</td>\n",
       "      <td>-1.662548e+00</td>\n",
       "      <td>-2.820676e+00</td>\n",
       "      <td>-1.418682e+00</td>\n",
       "    </tr>\n",
       "    <tr>\n",
       "      <th>25%</th>\n",
       "      <td>-8.367250e-01</td>\n",
       "      <td>-6.756019e-01</td>\n",
       "      <td>-6.857134e-01</td>\n",
       "      <td>-7.207588e-01</td>\n",
       "      <td>-5.955438e-01</td>\n",
       "      <td>-6.839640e-01</td>\n",
       "      <td>-6.516585e-01</td>\n",
       "      <td>-6.783055e-01</td>\n",
       "      <td>-7.679725e-01</td>\n",
       "      <td>-8.296778e-01</td>\n",
       "      <td>-8.259511e-01</td>\n",
       "      <td>-8.547052e-01</td>\n",
       "      <td>-8.436703e-01</td>\n",
       "      <td>-3.407088e-01</td>\n",
       "      <td>-2.810756e-01</td>\n",
       "      <td>-2.566274e-01</td>\n",
       "      <td>-2.375419e-01</td>\n",
       "      <td>-6.919307e-01</td>\n",
       "      <td>-6.786293e-01</td>\n",
       "      <td>-6.002623e-01</td>\n",
       "      <td>-7.149594e-01</td>\n",
       "      <td>-7.661948e-01</td>\n",
       "      <td>-8.777463e-01</td>\n",
       "      <td>-9.147568e-01</td>\n",
       "      <td>-7.048350e-01</td>\n",
       "    </tr>\n",
       "    <tr>\n",
       "      <th>50%</th>\n",
       "      <td>-5.827630e-03</td>\n",
       "      <td>5.707484e-02</td>\n",
       "      <td>9.122069e-02</td>\n",
       "      <td>-9.949470e-02</td>\n",
       "      <td>1.633346e-01</td>\n",
       "      <td>1.990098e-02</td>\n",
       "      <td>1.028076e-01</td>\n",
       "      <td>-2.335684e-01</td>\n",
       "      <td>-1.668244e-01</td>\n",
       "      <td>-1.927818e-01</td>\n",
       "      <td>-1.519610e-01</td>\n",
       "      <td>-2.125526e-01</td>\n",
       "      <td>-2.920522e-01</td>\n",
       "      <td>-3.407088e-01</td>\n",
       "      <td>-2.810756e-01</td>\n",
       "      <td>-2.566274e-01</td>\n",
       "      <td>-2.375419e-01</td>\n",
       "      <td>1.178612e-01</td>\n",
       "      <td>4.765338e-02</td>\n",
       "      <td>-2.797399e-01</td>\n",
       "      <td>-4.590423e-01</td>\n",
       "      <td>2.100979e-01</td>\n",
       "      <td>1.916997e-02</td>\n",
       "      <td>-9.147568e-01</td>\n",
       "      <td>9.012022e-03</td>\n",
       "    </tr>\n",
       "    <tr>\n",
       "      <th>75%</th>\n",
       "      <td>8.250697e-01</td>\n",
       "      <td>7.548622e-01</td>\n",
       "      <td>6.955028e-01</td>\n",
       "      <td>6.944293e-01</td>\n",
       "      <td>7.702443e-01</td>\n",
       "      <td>7.105958e-01</td>\n",
       "      <td>6.995332e-01</td>\n",
       "      <td>4.787980e-01</td>\n",
       "      <td>6.748590e-01</td>\n",
       "      <td>6.295075e-01</td>\n",
       "      <td>7.534058e-01</td>\n",
       "      <td>7.111661e-01</td>\n",
       "      <td>7.603088e-01</td>\n",
       "      <td>-3.173104e-01</td>\n",
       "      <td>-2.747457e-01</td>\n",
       "      <td>-2.516103e-01</td>\n",
       "      <td>-2.375419e-01</td>\n",
       "      <td>6.557230e-01</td>\n",
       "      <td>6.361928e-01</td>\n",
       "      <td>-1.383581e-02</td>\n",
       "      <td>3.896845e-01</td>\n",
       "      <td>8.931951e-01</td>\n",
       "      <td>9.160863e-01</td>\n",
       "      <td>9.911624e-01</td>\n",
       "      <td>7.228590e-01</td>\n",
       "    </tr>\n",
       "    <tr>\n",
       "      <th>max</th>\n",
       "      <td>1.655967e+00</td>\n",
       "      <td>2.638888e+00</td>\n",
       "      <td>2.853653e+00</td>\n",
       "      <td>2.837512e+00</td>\n",
       "      <td>1.711998e+00</td>\n",
       "      <td>2.979092e+00</td>\n",
       "      <td>2.665642e+00</td>\n",
       "      <td>3.624553e+00</td>\n",
       "      <td>2.977219e+00</td>\n",
       "      <td>2.454696e+00</td>\n",
       "      <td>2.649820e+00</td>\n",
       "      <td>2.921957e+00</td>\n",
       "      <td>2.772198e+00</td>\n",
       "      <td>6.778483e+00</td>\n",
       "      <td>7.426674e+00</td>\n",
       "      <td>9.280740e+00</td>\n",
       "      <td>9.731766e+00</td>\n",
       "      <td>2.003377e+00</td>\n",
       "      <td>1.800750e+00</td>\n",
       "      <td>2.858785e+00</td>\n",
       "      <td>2.907077e+00</td>\n",
       "      <td>1.556105e+00</td>\n",
       "      <td>1.700888e+00</td>\n",
       "      <td>9.911624e-01</td>\n",
       "      <td>1.436706e+00</td>\n",
       "    </tr>\n",
       "  </tbody>\n",
       "</table>\n",
       "</div>"
      ],
      "text/plain": [
       "            station  Present_Tmax  Present_Tmin   LDAPS_RHmin   LDAPS_RHmax  \\\n",
       "count  4.515000e+03  4.515000e+03  4.515000e+03  4.515000e+03  4.515000e+03   \n",
       "mean   1.046536e-16 -2.405459e-15 -4.343517e-16 -1.479314e-16 -3.037314e-16   \n",
       "std    1.000111e+00  1.000111e+00  1.000111e+00  1.000111e+00  1.000111e+00   \n",
       "min   -1.667622e+00 -3.048079e+00 -3.102842e+00 -2.590501e+00 -3.086832e+00   \n",
       "25%   -8.367250e-01 -6.756019e-01 -6.857134e-01 -7.207588e-01 -5.955438e-01   \n",
       "50%   -5.827630e-03  5.707484e-02  9.122069e-02 -9.949470e-02  1.633346e-01   \n",
       "75%    8.250697e-01  7.548622e-01  6.955028e-01  6.944293e-01  7.702443e-01   \n",
       "max    1.655967e+00  2.638888e+00  2.853653e+00  2.837512e+00  1.711998e+00   \n",
       "\n",
       "       LDAPS_Tmax_lapse  LDAPS_Tmin_lapse      LDAPS_WS      LDAPS_LH  \\\n",
       "count      4.515000e+03      4.515000e+03  4.515000e+03  4.515000e+03   \n",
       "mean       1.156697e-16     -6.035285e-16  1.251122e-16  2.014385e-16   \n",
       "std        1.000111e+00      1.000111e+00  1.000111e+00  1.000111e+00   \n",
       "min       -3.126008e+00     -3.145479e+00 -2.149415e+00 -2.111969e+00   \n",
       "25%       -6.839640e-01     -6.516585e-01 -6.783055e-01 -7.679725e-01   \n",
       "50%        1.990098e-02      1.028076e-01 -2.335684e-01 -1.668244e-01   \n",
       "75%        7.105958e-01      6.995332e-01  4.787980e-01  6.748590e-01   \n",
       "max        2.979092e+00      2.665642e+00  3.624553e+00  2.977219e+00   \n",
       "\n",
       "          LDAPS_CC1     LDAPS_CC2     LDAPS_CC3     LDAPS_CC4    LDAPS_PPT1  \\\n",
       "count  4.515000e+03  4.515000e+03  4.515000e+03  4.515000e+03  4.515000e+03   \n",
       "mean  -1.904223e-16  1.542263e-16 -4.721214e-17 -8.970307e-17  4.878588e-17   \n",
       "std    1.000111e+00  1.000111e+00  1.000111e+00  1.000111e+00  1.000111e+00   \n",
       "min   -1.383937e+00 -1.383162e+00 -1.277539e+00 -1.174914e+00 -3.407088e-01   \n",
       "25%   -8.296778e-01 -8.259511e-01 -8.547052e-01 -8.436703e-01 -3.407088e-01   \n",
       "50%   -1.927818e-01 -1.519610e-01 -2.125526e-01 -2.920522e-01 -3.407088e-01   \n",
       "75%    6.295075e-01  7.534058e-01  7.111661e-01  7.603088e-01 -3.173104e-01   \n",
       "max    2.454696e+00  2.649820e+00  2.921957e+00  2.772198e+00  6.778483e+00   \n",
       "\n",
       "         LDAPS_PPT2    LDAPS_PPT3    LDAPS_PPT4           lat           lon  \\\n",
       "count  4.515000e+03  4.515000e+03  4.515000e+03  4.515000e+03  4.515000e+03   \n",
       "mean   2.360607e-18  9.442428e-18  8.655559e-18 -3.102152e-14 -8.036687e-14   \n",
       "std    1.000111e+00  1.000111e+00  1.000111e+00  1.000111e+00  1.000111e+00   \n",
       "min   -2.810756e-01 -2.566274e-01 -2.375419e-01 -1.771653e+00 -2.068584e+00   \n",
       "25%   -2.810756e-01 -2.566274e-01 -2.375419e-01 -6.919307e-01 -6.786293e-01   \n",
       "50%   -2.810756e-01 -2.566274e-01 -2.375419e-01  1.178612e-01  4.765338e-02   \n",
       "75%   -2.747457e-01 -2.516103e-01 -2.375419e-01  6.557230e-01  6.361928e-01   \n",
       "max    7.426674e+00  9.280740e+00  9.731766e+00  2.003377e+00  1.800750e+00   \n",
       "\n",
       "                DEM         Slope  Solar radiation           Day  \\\n",
       "count  4.515000e+03  4.515000e+03     4.515000e+03  4.515000e+03   \n",
       "mean   4.721214e-17  4.878588e-17    -4.091719e-16 -1.101617e-17   \n",
       "std    1.000111e+00  1.000111e+00     1.000111e+00  1.000111e+00   \n",
       "min   -9.078629e-01 -8.425120e-01    -2.312052e+00 -1.662548e+00   \n",
       "25%   -6.002623e-01 -7.149594e-01    -7.661948e-01 -8.777463e-01   \n",
       "50%   -2.797399e-01 -4.590423e-01     2.100979e-01  1.916997e-02   \n",
       "75%   -1.383581e-02  3.896845e-01     8.931951e-01  9.160863e-01   \n",
       "max    2.858785e+00  2.907077e+00     1.556105e+00  1.700888e+00   \n",
       "\n",
       "              Month          Year  \n",
       "count  4.515000e+03  4.515000e+03  \n",
       "mean   4.233355e-16 -6.691692e-14  \n",
       "std    1.000111e+00  1.000111e+00  \n",
       "min   -2.820676e+00 -1.418682e+00  \n",
       "25%   -9.147568e-01 -7.048350e-01  \n",
       "50%   -9.147568e-01  9.012022e-03  \n",
       "75%    9.911624e-01  7.228590e-01  \n",
       "max    9.911624e-01  1.436706e+00  "
      ]
     },
     "execution_count": 127,
     "metadata": {},
     "output_type": "execute_result"
    }
   ],
   "source": [
    "XtrainDF1.describe()"
   ]
  },
  {
   "cell_type": "code",
   "execution_count": 128,
   "metadata": {},
   "outputs": [],
   "source": [
    "x_test_scale1=scaler.transform(X_test1)"
   ]
  },
  {
   "cell_type": "code",
   "execution_count": 129,
   "metadata": {},
   "outputs": [
    {
     "data": {
      "text/html": [
       "<div>\n",
       "<style scoped>\n",
       "    .dataframe tbody tr th:only-of-type {\n",
       "        vertical-align: middle;\n",
       "    }\n",
       "\n",
       "    .dataframe tbody tr th {\n",
       "        vertical-align: top;\n",
       "    }\n",
       "\n",
       "    .dataframe thead th {\n",
       "        text-align: right;\n",
       "    }\n",
       "</style>\n",
       "<table border=\"1\" class=\"dataframe\">\n",
       "  <thead>\n",
       "    <tr style=\"text-align: right;\">\n",
       "      <th></th>\n",
       "      <th>station</th>\n",
       "      <th>Present_Tmax</th>\n",
       "      <th>Present_Tmin</th>\n",
       "      <th>LDAPS_RHmin</th>\n",
       "      <th>LDAPS_RHmax</th>\n",
       "      <th>LDAPS_Tmax_lapse</th>\n",
       "      <th>LDAPS_Tmin_lapse</th>\n",
       "      <th>LDAPS_WS</th>\n",
       "      <th>LDAPS_LH</th>\n",
       "      <th>LDAPS_CC1</th>\n",
       "      <th>LDAPS_CC2</th>\n",
       "      <th>LDAPS_CC3</th>\n",
       "      <th>LDAPS_CC4</th>\n",
       "      <th>LDAPS_PPT1</th>\n",
       "      <th>LDAPS_PPT2</th>\n",
       "      <th>LDAPS_PPT3</th>\n",
       "      <th>LDAPS_PPT4</th>\n",
       "      <th>lat</th>\n",
       "      <th>lon</th>\n",
       "      <th>DEM</th>\n",
       "      <th>Slope</th>\n",
       "      <th>Solar radiation</th>\n",
       "      <th>Day</th>\n",
       "      <th>Month</th>\n",
       "      <th>Year</th>\n",
       "    </tr>\n",
       "  </thead>\n",
       "  <tbody>\n",
       "    <tr>\n",
       "      <th>0</th>\n",
       "      <td>-1.113691</td>\n",
       "      <td>0.789752</td>\n",
       "      <td>0.566014</td>\n",
       "      <td>-0.257422</td>\n",
       "      <td>-0.369899</td>\n",
       "      <td>1.308727</td>\n",
       "      <td>0.663527</td>\n",
       "      <td>-0.529462</td>\n",
       "      <td>2.838637</td>\n",
       "      <td>-1.301225</td>\n",
       "      <td>-1.303140</td>\n",
       "      <td>-0.934057</td>\n",
       "      <td>-0.579162</td>\n",
       "      <td>-0.340709</td>\n",
       "      <td>-0.281076</td>\n",
       "      <td>-0.256627</td>\n",
       "      <td>-0.237542</td>\n",
       "      <td>0.117861</td>\n",
       "      <td>1.800750</td>\n",
       "      <td>-0.480876</td>\n",
       "      <td>-0.542084</td>\n",
       "      <td>0.750798</td>\n",
       "      <td>0.355514</td>\n",
       "      <td>-0.914757</td>\n",
       "      <td>1.436706</td>\n",
       "    </tr>\n",
       "    <tr>\n",
       "      <th>1</th>\n",
       "      <td>1.379001</td>\n",
       "      <td>1.173535</td>\n",
       "      <td>1.774578</td>\n",
       "      <td>-0.340492</td>\n",
       "      <td>-0.509230</td>\n",
       "      <td>0.284334</td>\n",
       "      <td>1.123882</td>\n",
       "      <td>-0.330440</td>\n",
       "      <td>0.775637</td>\n",
       "      <td>-1.163169</td>\n",
       "      <td>-1.117260</td>\n",
       "      <td>-0.632355</td>\n",
       "      <td>1.769290</td>\n",
       "      <td>-0.340709</td>\n",
       "      <td>-0.281076</td>\n",
       "      <td>-0.256627</td>\n",
       "      <td>-0.237542</td>\n",
       "      <td>-0.152069</td>\n",
       "      <td>-1.254647</td>\n",
       "      <td>-0.847254</td>\n",
       "      <td>-0.800511</td>\n",
       "      <td>-1.678663</td>\n",
       "      <td>0.916086</td>\n",
       "      <td>0.991162</td>\n",
       "      <td>0.722859</td>\n",
       "    </tr>\n",
       "    <tr>\n",
       "      <th>2</th>\n",
       "      <td>-0.421276</td>\n",
       "      <td>0.789752</td>\n",
       "      <td>-0.944691</td>\n",
       "      <td>-0.704086</td>\n",
       "      <td>-0.772046</td>\n",
       "      <td>0.998098</td>\n",
       "      <td>-0.028776</td>\n",
       "      <td>0.013862</td>\n",
       "      <td>0.172896</td>\n",
       "      <td>-0.719405</td>\n",
       "      <td>-0.529346</td>\n",
       "      <td>-0.762171</td>\n",
       "      <td>-0.617609</td>\n",
       "      <td>-0.340709</td>\n",
       "      <td>-0.281076</td>\n",
       "      <td>-0.256627</td>\n",
       "      <td>-0.237542</td>\n",
       "      <td>-1.771653</td>\n",
       "      <td>-0.453231</td>\n",
       "      <td>2.786678</td>\n",
       "      <td>2.907077</td>\n",
       "      <td>-1.363197</td>\n",
       "      <td>0.467628</td>\n",
       "      <td>0.991162</td>\n",
       "      <td>-1.418682</td>\n",
       "    </tr>\n",
       "    <tr>\n",
       "      <th>3</th>\n",
       "      <td>1.655967</td>\n",
       "      <td>0.964198</td>\n",
       "      <td>-0.167757</td>\n",
       "      <td>-1.653078</td>\n",
       "      <td>-2.725761</td>\n",
       "      <td>1.283177</td>\n",
       "      <td>0.236990</td>\n",
       "      <td>-0.613146</td>\n",
       "      <td>-1.168883</td>\n",
       "      <td>-0.882951</td>\n",
       "      <td>-1.285458</td>\n",
       "      <td>-0.953574</td>\n",
       "      <td>-1.074316</td>\n",
       "      <td>-0.340709</td>\n",
       "      <td>-0.281076</td>\n",
       "      <td>-0.256627</td>\n",
       "      <td>-0.237542</td>\n",
       "      <td>-0.422000</td>\n",
       "      <td>-0.265400</td>\n",
       "      <td>-0.771969</td>\n",
       "      <td>-0.714959</td>\n",
       "      <td>-1.572666</td>\n",
       "      <td>0.916086</td>\n",
       "      <td>0.991162</td>\n",
       "      <td>-1.418682</td>\n",
       "    </tr>\n",
       "    <tr>\n",
       "      <th>4</th>\n",
       "      <td>-0.282793</td>\n",
       "      <td>-1.129164</td>\n",
       "      <td>0.263873</td>\n",
       "      <td>-0.109930</td>\n",
       "      <td>1.147336</td>\n",
       "      <td>0.561351</td>\n",
       "      <td>0.560332</td>\n",
       "      <td>0.900716</td>\n",
       "      <td>-0.127157</td>\n",
       "      <td>0.759694</td>\n",
       "      <td>-0.391427</td>\n",
       "      <td>-0.765179</td>\n",
       "      <td>-0.874536</td>\n",
       "      <td>3.209668</td>\n",
       "      <td>-0.281076</td>\n",
       "      <td>-0.256627</td>\n",
       "      <td>-0.237542</td>\n",
       "      <td>-0.152069</td>\n",
       "      <td>1.174644</td>\n",
       "      <td>-0.600262</td>\n",
       "      <td>-0.455130</td>\n",
       "      <td>0.364394</td>\n",
       "      <td>1.364544</td>\n",
       "      <td>-0.914757</td>\n",
       "      <td>-1.418682</td>\n",
       "    </tr>\n",
       "  </tbody>\n",
       "</table>\n",
       "</div>"
      ],
      "text/plain": [
       "    station  Present_Tmax  Present_Tmin  LDAPS_RHmin  LDAPS_RHmax  \\\n",
       "0 -1.113691      0.789752      0.566014    -0.257422    -0.369899   \n",
       "1  1.379001      1.173535      1.774578    -0.340492    -0.509230   \n",
       "2 -0.421276      0.789752     -0.944691    -0.704086    -0.772046   \n",
       "3  1.655967      0.964198     -0.167757    -1.653078    -2.725761   \n",
       "4 -0.282793     -1.129164      0.263873    -0.109930     1.147336   \n",
       "\n",
       "   LDAPS_Tmax_lapse  LDAPS_Tmin_lapse  LDAPS_WS  LDAPS_LH  LDAPS_CC1  \\\n",
       "0          1.308727          0.663527 -0.529462  2.838637  -1.301225   \n",
       "1          0.284334          1.123882 -0.330440  0.775637  -1.163169   \n",
       "2          0.998098         -0.028776  0.013862  0.172896  -0.719405   \n",
       "3          1.283177          0.236990 -0.613146 -1.168883  -0.882951   \n",
       "4          0.561351          0.560332  0.900716 -0.127157   0.759694   \n",
       "\n",
       "   LDAPS_CC2  LDAPS_CC3  LDAPS_CC4  LDAPS_PPT1  LDAPS_PPT2  LDAPS_PPT3  \\\n",
       "0  -1.303140  -0.934057  -0.579162   -0.340709   -0.281076   -0.256627   \n",
       "1  -1.117260  -0.632355   1.769290   -0.340709   -0.281076   -0.256627   \n",
       "2  -0.529346  -0.762171  -0.617609   -0.340709   -0.281076   -0.256627   \n",
       "3  -1.285458  -0.953574  -1.074316   -0.340709   -0.281076   -0.256627   \n",
       "4  -0.391427  -0.765179  -0.874536    3.209668   -0.281076   -0.256627   \n",
       "\n",
       "   LDAPS_PPT4       lat       lon       DEM     Slope  Solar radiation  \\\n",
       "0   -0.237542  0.117861  1.800750 -0.480876 -0.542084         0.750798   \n",
       "1   -0.237542 -0.152069 -1.254647 -0.847254 -0.800511        -1.678663   \n",
       "2   -0.237542 -1.771653 -0.453231  2.786678  2.907077        -1.363197   \n",
       "3   -0.237542 -0.422000 -0.265400 -0.771969 -0.714959        -1.572666   \n",
       "4   -0.237542 -0.152069  1.174644 -0.600262 -0.455130         0.364394   \n",
       "\n",
       "        Day     Month      Year  \n",
       "0  0.355514 -0.914757  1.436706  \n",
       "1  0.916086  0.991162  0.722859  \n",
       "2  0.467628  0.991162 -1.418682  \n",
       "3  0.916086  0.991162 -1.418682  \n",
       "4  1.364544 -0.914757 -1.418682  "
      ]
     },
     "execution_count": 129,
     "metadata": {},
     "output_type": "execute_result"
    }
   ],
   "source": [
    "XtestDF1=pd.DataFrame(x_test_scale1,columns=X_train1.columns)\n",
    "XtestDF1.head()"
   ]
  },
  {
   "cell_type": "code",
   "execution_count": null,
   "metadata": {},
   "outputs": [],
   "source": []
  },
  {
   "cell_type": "code",
   "execution_count": 130,
   "metadata": {},
   "outputs": [
    {
     "data": {
      "text/plain": [
       "0.837489085971541"
      ]
     },
     "execution_count": 130,
     "metadata": {},
     "output_type": "execute_result"
    }
   ],
   "source": [
    "lr=LinearRegression()\n",
    "lr.fit(XtrainDF1,y_train1)\n",
    "pred=lr.predict(XtestDF1)\n",
    "\n",
    "lrR2=r2_score(y_test1, pred)\n",
    "lrR2"
   ]
  },
  {
   "cell_type": "code",
   "execution_count": 131,
   "metadata": {},
   "outputs": [
    {
     "data": {
      "text/plain": [
       "0.9552378222706053"
      ]
     },
     "execution_count": 131,
     "metadata": {},
     "output_type": "execute_result"
    }
   ],
   "source": [
    "lrRMSE=np.sqrt(mean_squared_error(y_test1,pred))\n",
    "lrRMSE"
   ]
  },
  {
   "cell_type": "code",
   "execution_count": 132,
   "metadata": {},
   "outputs": [
    {
     "data": {
      "text/plain": [
       "0.9064438878303186"
      ]
     },
     "execution_count": 132,
     "metadata": {},
     "output_type": "execute_result"
    }
   ],
   "source": [
    "svr=SVR()\n",
    "svr.fit(XtrainDF1,y_train1)\n",
    "pred=svr.predict(XtestDF1)\n",
    "svrR2=r2_score(y_test1, pred)\n",
    "svrR2"
   ]
  },
  {
   "cell_type": "code",
   "execution_count": 133,
   "metadata": {},
   "outputs": [
    {
     "data": {
      "text/plain": [
       "0.7247802097110236"
      ]
     },
     "execution_count": 133,
     "metadata": {},
     "output_type": "execute_result"
    }
   ],
   "source": [
    "svrRMSE=np.sqrt(mean_squared_error(y_test1,pred))\n",
    "svrRMSE"
   ]
  },
  {
   "cell_type": "code",
   "execution_count": 134,
   "metadata": {},
   "outputs": [
    {
     "data": {
      "text/plain": [
       "0.8365274764407759"
      ]
     },
     "execution_count": 134,
     "metadata": {},
     "output_type": "execute_result"
    }
   ],
   "source": [
    "sgd=SGDRegressor()\n",
    "sgd.fit(XtrainDF1,y_train1)\n",
    "pred=sgd.predict(XtestDF1)\n",
    "sgdR2=r2_score(y_test1, pred)\n",
    "sgdR2"
   ]
  },
  {
   "cell_type": "code",
   "execution_count": 135,
   "metadata": {},
   "outputs": [
    {
     "data": {
      "text/plain": [
       "0.9580598203211907"
      ]
     },
     "execution_count": 135,
     "metadata": {},
     "output_type": "execute_result"
    }
   ],
   "source": [
    "sgdRMSE=np.sqrt(mean_squared_error(y_test1,pred))\n",
    "sgdRMSE"
   ]
  },
  {
   "cell_type": "code",
   "execution_count": 136,
   "metadata": {},
   "outputs": [
    {
     "data": {
      "text/plain": [
       "0.866888001087825"
      ]
     },
     "execution_count": 136,
     "metadata": {},
     "output_type": "execute_result"
    }
   ],
   "source": [
    "knnR=KNeighborsRegressor()\n",
    "knnR.fit(XtrainDF1,y_train1)\n",
    "pred=knnR.predict(XtestDF1)\n",
    "knnR2=r2_score(y_test1, pred)\n",
    "knnR2"
   ]
  },
  {
   "cell_type": "code",
   "execution_count": 137,
   "metadata": {},
   "outputs": [
    {
     "data": {
      "text/plain": [
       "0.8645275667490683"
      ]
     },
     "execution_count": 137,
     "metadata": {},
     "output_type": "execute_result"
    }
   ],
   "source": [
    "knnrRMSE=np.sqrt(mean_squared_error(y_test1,pred))\n",
    "knnrRMSE"
   ]
  },
  {
   "cell_type": "code",
   "execution_count": 138,
   "metadata": {},
   "outputs": [],
   "source": [
    "from sklearn.pipeline import Pipeline"
   ]
  },
  {
   "cell_type": "code",
   "execution_count": 140,
   "metadata": {},
   "outputs": [
    {
     "data": {
      "text/plain": [
       "0.7739586129615997"
      ]
     },
     "execution_count": 140,
     "metadata": {},
     "output_type": "execute_result"
    }
   ],
   "source": [
    "operations = [('scaler',StandardScaler()),('lr',lr)]\n",
    "pipe=Pipeline(operations)\n",
    "lrCV=cross_val_score(pipe,X1,y1,cv=5,scoring='r2').mean()\n",
    "lrCV"
   ]
  },
  {
   "cell_type": "code",
   "execution_count": 141,
   "metadata": {},
   "outputs": [
    {
     "data": {
      "text/plain": [
       "0.7189111537319188"
      ]
     },
     "execution_count": 141,
     "metadata": {},
     "output_type": "execute_result"
    }
   ],
   "source": [
    "operations = [('scaler',StandardScaler()),('svr',svr)]\n",
    "pipe=Pipeline(operations)\n",
    "\n",
    "svrCV=cross_val_score(pipe,X1,y1,cv=5,scoring='r2').mean()\n",
    "svrCV"
   ]
  },
  {
   "cell_type": "code",
   "execution_count": 142,
   "metadata": {},
   "outputs": [
    {
     "data": {
      "text/plain": [
       "0.7728358223106875"
      ]
     },
     "execution_count": 142,
     "metadata": {},
     "output_type": "execute_result"
    }
   ],
   "source": [
    "operations = [('scaler',StandardScaler()),('sgd',sgd)]\n",
    "pipe=Pipeline(operations)\n",
    "\n",
    "sgdCV=cross_val_score(pipe,X1,y1,cv=5,scoring='r2').mean()\n",
    "sgdCV"
   ]
  },
  {
   "cell_type": "code",
   "execution_count": 143,
   "metadata": {},
   "outputs": [
    {
     "data": {
      "text/plain": [
       "0.5418674061028926"
      ]
     },
     "execution_count": 143,
     "metadata": {},
     "output_type": "execute_result"
    }
   ],
   "source": [
    "operations = [('scaler',StandardScaler()),('knnr',knnR)]\n",
    "pipe=Pipeline(operations)\n",
    "\n",
    "knnrCV=cross_val_score(pipe,X1,y1,cv=5,scoring='r2').mean()\n",
    "knnrCV"
   ]
  },
  {
   "cell_type": "code",
   "execution_count": 144,
   "metadata": {},
   "outputs": [],
   "source": [
    "def rmseValue(model,indepen,depend):\n",
    "    y_pred=model.predict(indepen)\n",
    "    return np.sqrt(mean_squared_error(y_pred,depend))\n",
    "\n",
    "operations = [('scaler',StandardScaler()),('lr',lr)]\n",
    "pipe=Pipeline(operations)\n",
    "lrCV1=cross_val_score(pipe,X1,y1,cv=5,scoring=rmseValue).mean()\n",
    "\n",
    "operations = [('scaler',StandardScaler()),('svr',svr)]\n",
    "pipe=Pipeline(operations)\n",
    "svrCV1=cross_val_score(pipe,X1,y1,cv=5,scoring=rmseValue).mean()\n",
    "\n",
    "operations = [('scaler',StandardScaler()),('SGD',sgd)]\n",
    "pipe=Pipeline(operations)\n",
    "sgdCV1=cross_val_score(pipe,X1,y1,cv=5,scoring=rmseValue).mean()\n",
    "\n",
    "operations = [('scaler',StandardScaler()),('knnr',knnR)]\n",
    "pipe=Pipeline(operations)\n",
    "knnrCV1=cross_val_score(pipe,X1,y1,cv=5,scoring=rmseValue).mean()\n"
   ]
  },
  {
   "cell_type": "code",
   "execution_count": 145,
   "metadata": {},
   "outputs": [
    {
     "name": "stdout",
     "output_type": "stream",
     "text": [
      "0.0635304730099413\n",
      "0.18753273409839977\n",
      "0.06369165413008837\n",
      "0.3250205949849324\n"
     ]
    }
   ],
   "source": [
    "print(lrR2-lrCV)\n",
    "print(svrR2-svrCV)\n",
    "print(sgdR2-sgdCV)\n",
    "print(knnR2-knnrCV)"
   ]
  },
  {
   "cell_type": "code",
   "execution_count": 148,
   "metadata": {},
   "outputs": [
    {
     "name": "stdout",
     "output_type": "stream",
     "text": [
      "0.837489085971541\n",
      "0.9064438878303186\n",
      "0.8365274764407759\n",
      "0.866888001087825\n"
     ]
    }
   ],
   "source": [
    "print(lrR2)\n",
    "print(svrR2)\n",
    "print(sgdR2)\n",
    "print(knnR2)"
   ]
  },
  {
   "cell_type": "code",
   "execution_count": 147,
   "metadata": {},
   "outputs": [
    {
     "name": "stdout",
     "output_type": "stream",
     "text": [
      "0.9552378222706053\n",
      "0.7247802097110236\n",
      "0.9580598203211907\n",
      "0.8645275667490683\n"
     ]
    }
   ],
   "source": [
    "print(lrRMSE)\n",
    "print(svrRMSE)\n",
    "print(sgdRMSE)\n",
    "print(knnrRMSE)"
   ]
  },
  {
   "cell_type": "code",
   "execution_count": 146,
   "metadata": {},
   "outputs": [
    {
     "name": "stdout",
     "output_type": "stream",
     "text": [
      "-0.08030217707608434\n",
      "-0.4313781268489676\n",
      "-0.07961428439962104\n",
      "-0.6054668933050852\n"
     ]
    }
   ],
   "source": [
    "print(lrRMSE-lrCV1)\n",
    "print(svrRMSE-svrCV1)\n",
    "print(sgdRMSE-sgdCV1)\n",
    "print(knnrRMSE-knnrCV1)"
   ]
  },
  {
   "cell_type": "code",
   "execution_count": null,
   "metadata": {},
   "outputs": [],
   "source": []
  },
  {
   "cell_type": "markdown",
   "metadata": {},
   "source": [
    "Stochastic Gradient Descent is the best method, as the difference between r2Score for cross val score and normal model r2Score is less (0.06369165413008837)"
   ]
  },
  {
   "cell_type": "markdown",
   "metadata": {},
   "source": [
    "Even the difference between Rmse is less for Stochastic Gradient Descent"
   ]
  },
  {
   "cell_type": "code",
   "execution_count": 150,
   "metadata": {},
   "outputs": [],
   "source": [
    "operations = [('scaler',StandardScaler()),('sgdR',SGDRegressor())]"
   ]
  },
  {
   "cell_type": "code",
   "execution_count": 151,
   "metadata": {},
   "outputs": [],
   "source": [
    "param_grid = {'sgdR__penalty':['elasticnet'],\n",
    "             'sgdR__l1_ratio':[0,0.15,0.5,0.75,1],\n",
    "              'sgdR__alpha':[0.0001,0.01,0.5,1],\n",
    "              'sgdR__early_stopping':[True]}"
   ]
  },
  {
   "cell_type": "code",
   "execution_count": 152,
   "metadata": {},
   "outputs": [],
   "source": [
    "pipe = Pipeline(operations)"
   ]
  },
  {
   "cell_type": "code",
   "execution_count": 153,
   "metadata": {},
   "outputs": [],
   "source": [
    "grid = GridSearchCV(pipe,param_grid,cv=5,scoring='neg_mean_squared_error',verbose=2)"
   ]
  },
  {
   "cell_type": "code",
   "execution_count": 154,
   "metadata": {},
   "outputs": [
    {
     "name": "stdout",
     "output_type": "stream",
     "text": [
      "Fitting 5 folds for each of 20 candidates, totalling 100 fits\n",
      "[CV] END sgdR__alpha=0.0001, sgdR__early_stopping=True, sgdR__l1_ratio=0, sgdR__penalty=elasticnet; total time=   0.0s\n",
      "[CV] END sgdR__alpha=0.0001, sgdR__early_stopping=True, sgdR__l1_ratio=0, sgdR__penalty=elasticnet; total time=   0.0s\n",
      "[CV] END sgdR__alpha=0.0001, sgdR__early_stopping=True, sgdR__l1_ratio=0, sgdR__penalty=elasticnet; total time=   0.0s\n",
      "[CV] END sgdR__alpha=0.0001, sgdR__early_stopping=True, sgdR__l1_ratio=0, sgdR__penalty=elasticnet; total time=   0.0s\n",
      "[CV] END sgdR__alpha=0.0001, sgdR__early_stopping=True, sgdR__l1_ratio=0, sgdR__penalty=elasticnet; total time=   0.0s\n",
      "[CV] END sgdR__alpha=0.0001, sgdR__early_stopping=True, sgdR__l1_ratio=0.15, sgdR__penalty=elasticnet; total time=   0.0s\n",
      "[CV] END sgdR__alpha=0.0001, sgdR__early_stopping=True, sgdR__l1_ratio=0.15, sgdR__penalty=elasticnet; total time=   0.0s\n",
      "[CV] END sgdR__alpha=0.0001, sgdR__early_stopping=True, sgdR__l1_ratio=0.15, sgdR__penalty=elasticnet; total time=   0.0s\n",
      "[CV] END sgdR__alpha=0.0001, sgdR__early_stopping=True, sgdR__l1_ratio=0.15, sgdR__penalty=elasticnet; total time=   0.0s\n",
      "[CV] END sgdR__alpha=0.0001, sgdR__early_stopping=True, sgdR__l1_ratio=0.15, sgdR__penalty=elasticnet; total time=   0.0s\n",
      "[CV] END sgdR__alpha=0.0001, sgdR__early_stopping=True, sgdR__l1_ratio=0.5, sgdR__penalty=elasticnet; total time=   0.0s\n",
      "[CV] END sgdR__alpha=0.0001, sgdR__early_stopping=True, sgdR__l1_ratio=0.5, sgdR__penalty=elasticnet; total time=   0.0s\n",
      "[CV] END sgdR__alpha=0.0001, sgdR__early_stopping=True, sgdR__l1_ratio=0.5, sgdR__penalty=elasticnet; total time=   0.0s\n",
      "[CV] END sgdR__alpha=0.0001, sgdR__early_stopping=True, sgdR__l1_ratio=0.5, sgdR__penalty=elasticnet; total time=   0.0s\n",
      "[CV] END sgdR__alpha=0.0001, sgdR__early_stopping=True, sgdR__l1_ratio=0.5, sgdR__penalty=elasticnet; total time=   0.0s\n",
      "[CV] END sgdR__alpha=0.0001, sgdR__early_stopping=True, sgdR__l1_ratio=0.75, sgdR__penalty=elasticnet; total time=   0.0s\n",
      "[CV] END sgdR__alpha=0.0001, sgdR__early_stopping=True, sgdR__l1_ratio=0.75, sgdR__penalty=elasticnet; total time=   0.0s\n",
      "[CV] END sgdR__alpha=0.0001, sgdR__early_stopping=True, sgdR__l1_ratio=0.75, sgdR__penalty=elasticnet; total time=   0.0s\n",
      "[CV] END sgdR__alpha=0.0001, sgdR__early_stopping=True, sgdR__l1_ratio=0.75, sgdR__penalty=elasticnet; total time=   0.0s\n",
      "[CV] END sgdR__alpha=0.0001, sgdR__early_stopping=True, sgdR__l1_ratio=0.75, sgdR__penalty=elasticnet; total time=   0.0s\n",
      "[CV] END sgdR__alpha=0.0001, sgdR__early_stopping=True, sgdR__l1_ratio=1, sgdR__penalty=elasticnet; total time=   0.0s\n",
      "[CV] END sgdR__alpha=0.0001, sgdR__early_stopping=True, sgdR__l1_ratio=1, sgdR__penalty=elasticnet; total time=   0.0s\n",
      "[CV] END sgdR__alpha=0.0001, sgdR__early_stopping=True, sgdR__l1_ratio=1, sgdR__penalty=elasticnet; total time=   0.0s\n",
      "[CV] END sgdR__alpha=0.0001, sgdR__early_stopping=True, sgdR__l1_ratio=1, sgdR__penalty=elasticnet; total time=   0.0s\n",
      "[CV] END sgdR__alpha=0.0001, sgdR__early_stopping=True, sgdR__l1_ratio=1, sgdR__penalty=elasticnet; total time=   0.0s\n",
      "[CV] END sgdR__alpha=0.01, sgdR__early_stopping=True, sgdR__l1_ratio=0, sgdR__penalty=elasticnet; total time=   0.0s\n",
      "[CV] END sgdR__alpha=0.01, sgdR__early_stopping=True, sgdR__l1_ratio=0, sgdR__penalty=elasticnet; total time=   0.0s\n",
      "[CV] END sgdR__alpha=0.01, sgdR__early_stopping=True, sgdR__l1_ratio=0, sgdR__penalty=elasticnet; total time=   0.0s\n",
      "[CV] END sgdR__alpha=0.01, sgdR__early_stopping=True, sgdR__l1_ratio=0, sgdR__penalty=elasticnet; total time=   0.0s\n",
      "[CV] END sgdR__alpha=0.01, sgdR__early_stopping=True, sgdR__l1_ratio=0, sgdR__penalty=elasticnet; total time=   0.0s\n",
      "[CV] END sgdR__alpha=0.01, sgdR__early_stopping=True, sgdR__l1_ratio=0.15, sgdR__penalty=elasticnet; total time=   0.0s\n",
      "[CV] END sgdR__alpha=0.01, sgdR__early_stopping=True, sgdR__l1_ratio=0.15, sgdR__penalty=elasticnet; total time=   0.0s\n",
      "[CV] END sgdR__alpha=0.01, sgdR__early_stopping=True, sgdR__l1_ratio=0.15, sgdR__penalty=elasticnet; total time=   0.0s\n",
      "[CV] END sgdR__alpha=0.01, sgdR__early_stopping=True, sgdR__l1_ratio=0.15, sgdR__penalty=elasticnet; total time=   0.0s\n",
      "[CV] END sgdR__alpha=0.01, sgdR__early_stopping=True, sgdR__l1_ratio=0.15, sgdR__penalty=elasticnet; total time=   0.0s\n",
      "[CV] END sgdR__alpha=0.01, sgdR__early_stopping=True, sgdR__l1_ratio=0.5, sgdR__penalty=elasticnet; total time=   0.0s\n",
      "[CV] END sgdR__alpha=0.01, sgdR__early_stopping=True, sgdR__l1_ratio=0.5, sgdR__penalty=elasticnet; total time=   0.0s\n",
      "[CV] END sgdR__alpha=0.01, sgdR__early_stopping=True, sgdR__l1_ratio=0.5, sgdR__penalty=elasticnet; total time=   0.0s\n",
      "[CV] END sgdR__alpha=0.01, sgdR__early_stopping=True, sgdR__l1_ratio=0.5, sgdR__penalty=elasticnet; total time=   0.0s\n",
      "[CV] END sgdR__alpha=0.01, sgdR__early_stopping=True, sgdR__l1_ratio=0.5, sgdR__penalty=elasticnet; total time=   0.0s\n",
      "[CV] END sgdR__alpha=0.01, sgdR__early_stopping=True, sgdR__l1_ratio=0.75, sgdR__penalty=elasticnet; total time=   0.0s\n",
      "[CV] END sgdR__alpha=0.01, sgdR__early_stopping=True, sgdR__l1_ratio=0.75, sgdR__penalty=elasticnet; total time=   0.0s\n",
      "[CV] END sgdR__alpha=0.01, sgdR__early_stopping=True, sgdR__l1_ratio=0.75, sgdR__penalty=elasticnet; total time=   0.0s\n",
      "[CV] END sgdR__alpha=0.01, sgdR__early_stopping=True, sgdR__l1_ratio=0.75, sgdR__penalty=elasticnet; total time=   0.0s\n",
      "[CV] END sgdR__alpha=0.01, sgdR__early_stopping=True, sgdR__l1_ratio=0.75, sgdR__penalty=elasticnet; total time=   0.0s\n",
      "[CV] END sgdR__alpha=0.01, sgdR__early_stopping=True, sgdR__l1_ratio=1, sgdR__penalty=elasticnet; total time=   0.0s\n",
      "[CV] END sgdR__alpha=0.01, sgdR__early_stopping=True, sgdR__l1_ratio=1, sgdR__penalty=elasticnet; total time=   0.0s\n",
      "[CV] END sgdR__alpha=0.01, sgdR__early_stopping=True, sgdR__l1_ratio=1, sgdR__penalty=elasticnet; total time=   0.0s\n",
      "[CV] END sgdR__alpha=0.01, sgdR__early_stopping=True, sgdR__l1_ratio=1, sgdR__penalty=elasticnet; total time=   0.0s\n",
      "[CV] END sgdR__alpha=0.01, sgdR__early_stopping=True, sgdR__l1_ratio=1, sgdR__penalty=elasticnet; total time=   0.0s\n",
      "[CV] END sgdR__alpha=0.5, sgdR__early_stopping=True, sgdR__l1_ratio=0, sgdR__penalty=elasticnet; total time=   0.0s\n",
      "[CV] END sgdR__alpha=0.5, sgdR__early_stopping=True, sgdR__l1_ratio=0, sgdR__penalty=elasticnet; total time=   0.0s\n",
      "[CV] END sgdR__alpha=0.5, sgdR__early_stopping=True, sgdR__l1_ratio=0, sgdR__penalty=elasticnet; total time=   0.0s\n",
      "[CV] END sgdR__alpha=0.5, sgdR__early_stopping=True, sgdR__l1_ratio=0, sgdR__penalty=elasticnet; total time=   0.0s\n",
      "[CV] END sgdR__alpha=0.5, sgdR__early_stopping=True, sgdR__l1_ratio=0, sgdR__penalty=elasticnet; total time=   0.0s\n",
      "[CV] END sgdR__alpha=0.5, sgdR__early_stopping=True, sgdR__l1_ratio=0.15, sgdR__penalty=elasticnet; total time=   0.0s\n",
      "[CV] END sgdR__alpha=0.5, sgdR__early_stopping=True, sgdR__l1_ratio=0.15, sgdR__penalty=elasticnet; total time=   0.0s\n",
      "[CV] END sgdR__alpha=0.5, sgdR__early_stopping=True, sgdR__l1_ratio=0.15, sgdR__penalty=elasticnet; total time=   0.0s\n",
      "[CV] END sgdR__alpha=0.5, sgdR__early_stopping=True, sgdR__l1_ratio=0.15, sgdR__penalty=elasticnet; total time=   0.0s\n",
      "[CV] END sgdR__alpha=0.5, sgdR__early_stopping=True, sgdR__l1_ratio=0.15, sgdR__penalty=elasticnet; total time=   0.0s\n",
      "[CV] END sgdR__alpha=0.5, sgdR__early_stopping=True, sgdR__l1_ratio=0.5, sgdR__penalty=elasticnet; total time=   0.0s\n",
      "[CV] END sgdR__alpha=0.5, sgdR__early_stopping=True, sgdR__l1_ratio=0.5, sgdR__penalty=elasticnet; total time=   0.0s\n",
      "[CV] END sgdR__alpha=0.5, sgdR__early_stopping=True, sgdR__l1_ratio=0.5, sgdR__penalty=elasticnet; total time=   0.0s\n",
      "[CV] END sgdR__alpha=0.5, sgdR__early_stopping=True, sgdR__l1_ratio=0.5, sgdR__penalty=elasticnet; total time=   0.0s\n",
      "[CV] END sgdR__alpha=0.5, sgdR__early_stopping=True, sgdR__l1_ratio=0.5, sgdR__penalty=elasticnet; total time=   0.0s\n",
      "[CV] END sgdR__alpha=0.5, sgdR__early_stopping=True, sgdR__l1_ratio=0.75, sgdR__penalty=elasticnet; total time=   0.0s\n",
      "[CV] END sgdR__alpha=0.5, sgdR__early_stopping=True, sgdR__l1_ratio=0.75, sgdR__penalty=elasticnet; total time=   0.0s\n",
      "[CV] END sgdR__alpha=0.5, sgdR__early_stopping=True, sgdR__l1_ratio=0.75, sgdR__penalty=elasticnet; total time=   0.0s\n",
      "[CV] END sgdR__alpha=0.5, sgdR__early_stopping=True, sgdR__l1_ratio=0.75, sgdR__penalty=elasticnet; total time=   0.0s\n",
      "[CV] END sgdR__alpha=0.5, sgdR__early_stopping=True, sgdR__l1_ratio=0.75, sgdR__penalty=elasticnet; total time=   0.0s\n"
     ]
    },
    {
     "name": "stdout",
     "output_type": "stream",
     "text": [
      "[CV] END sgdR__alpha=0.5, sgdR__early_stopping=True, sgdR__l1_ratio=1, sgdR__penalty=elasticnet; total time=   0.0s\n",
      "[CV] END sgdR__alpha=0.5, sgdR__early_stopping=True, sgdR__l1_ratio=1, sgdR__penalty=elasticnet; total time=   0.0s\n",
      "[CV] END sgdR__alpha=0.5, sgdR__early_stopping=True, sgdR__l1_ratio=1, sgdR__penalty=elasticnet; total time=   0.0s\n",
      "[CV] END sgdR__alpha=0.5, sgdR__early_stopping=True, sgdR__l1_ratio=1, sgdR__penalty=elasticnet; total time=   0.0s\n",
      "[CV] END sgdR__alpha=0.5, sgdR__early_stopping=True, sgdR__l1_ratio=1, sgdR__penalty=elasticnet; total time=   0.0s\n",
      "[CV] END sgdR__alpha=1, sgdR__early_stopping=True, sgdR__l1_ratio=0, sgdR__penalty=elasticnet; total time=   0.0s\n",
      "[CV] END sgdR__alpha=1, sgdR__early_stopping=True, sgdR__l1_ratio=0, sgdR__penalty=elasticnet; total time=   0.0s\n",
      "[CV] END sgdR__alpha=1, sgdR__early_stopping=True, sgdR__l1_ratio=0, sgdR__penalty=elasticnet; total time=   0.0s\n",
      "[CV] END sgdR__alpha=1, sgdR__early_stopping=True, sgdR__l1_ratio=0, sgdR__penalty=elasticnet; total time=   0.0s\n",
      "[CV] END sgdR__alpha=1, sgdR__early_stopping=True, sgdR__l1_ratio=0, sgdR__penalty=elasticnet; total time=   0.0s\n",
      "[CV] END sgdR__alpha=1, sgdR__early_stopping=True, sgdR__l1_ratio=0.15, sgdR__penalty=elasticnet; total time=   0.0s\n",
      "[CV] END sgdR__alpha=1, sgdR__early_stopping=True, sgdR__l1_ratio=0.15, sgdR__penalty=elasticnet; total time=   0.0s\n",
      "[CV] END sgdR__alpha=1, sgdR__early_stopping=True, sgdR__l1_ratio=0.15, sgdR__penalty=elasticnet; total time=   0.0s\n",
      "[CV] END sgdR__alpha=1, sgdR__early_stopping=True, sgdR__l1_ratio=0.15, sgdR__penalty=elasticnet; total time=   0.0s\n",
      "[CV] END sgdR__alpha=1, sgdR__early_stopping=True, sgdR__l1_ratio=0.15, sgdR__penalty=elasticnet; total time=   0.0s\n",
      "[CV] END sgdR__alpha=1, sgdR__early_stopping=True, sgdR__l1_ratio=0.5, sgdR__penalty=elasticnet; total time=   0.0s\n",
      "[CV] END sgdR__alpha=1, sgdR__early_stopping=True, sgdR__l1_ratio=0.5, sgdR__penalty=elasticnet; total time=   0.0s\n",
      "[CV] END sgdR__alpha=1, sgdR__early_stopping=True, sgdR__l1_ratio=0.5, sgdR__penalty=elasticnet; total time=   0.0s\n",
      "[CV] END sgdR__alpha=1, sgdR__early_stopping=True, sgdR__l1_ratio=0.5, sgdR__penalty=elasticnet; total time=   0.0s\n",
      "[CV] END sgdR__alpha=1, sgdR__early_stopping=True, sgdR__l1_ratio=0.5, sgdR__penalty=elasticnet; total time=   0.0s\n",
      "[CV] END sgdR__alpha=1, sgdR__early_stopping=True, sgdR__l1_ratio=0.75, sgdR__penalty=elasticnet; total time=   0.0s\n",
      "[CV] END sgdR__alpha=1, sgdR__early_stopping=True, sgdR__l1_ratio=0.75, sgdR__penalty=elasticnet; total time=   0.0s\n",
      "[CV] END sgdR__alpha=1, sgdR__early_stopping=True, sgdR__l1_ratio=0.75, sgdR__penalty=elasticnet; total time=   0.0s\n",
      "[CV] END sgdR__alpha=1, sgdR__early_stopping=True, sgdR__l1_ratio=0.75, sgdR__penalty=elasticnet; total time=   0.0s\n",
      "[CV] END sgdR__alpha=1, sgdR__early_stopping=True, sgdR__l1_ratio=0.75, sgdR__penalty=elasticnet; total time=   0.0s\n",
      "[CV] END sgdR__alpha=1, sgdR__early_stopping=True, sgdR__l1_ratio=1, sgdR__penalty=elasticnet; total time=   0.0s\n",
      "[CV] END sgdR__alpha=1, sgdR__early_stopping=True, sgdR__l1_ratio=1, sgdR__penalty=elasticnet; total time=   0.0s\n",
      "[CV] END sgdR__alpha=1, sgdR__early_stopping=True, sgdR__l1_ratio=1, sgdR__penalty=elasticnet; total time=   0.0s\n",
      "[CV] END sgdR__alpha=1, sgdR__early_stopping=True, sgdR__l1_ratio=1, sgdR__penalty=elasticnet; total time=   0.0s\n",
      "[CV] END sgdR__alpha=1, sgdR__early_stopping=True, sgdR__l1_ratio=1, sgdR__penalty=elasticnet; total time=   0.0s\n"
     ]
    },
    {
     "data": {
      "text/plain": [
       "GridSearchCV(cv=5,\n",
       "             estimator=Pipeline(steps=[('scaler', StandardScaler()),\n",
       "                                       ('sgdR', SGDRegressor())]),\n",
       "             param_grid={'sgdR__alpha': [0.0001, 0.01, 0.5, 1],\n",
       "                         'sgdR__early_stopping': [True],\n",
       "                         'sgdR__l1_ratio': [0, 0.15, 0.5, 0.75, 1],\n",
       "                         'sgdR__penalty': ['elasticnet']},\n",
       "             scoring='neg_mean_squared_error', verbose=2)"
      ]
     },
     "execution_count": 154,
     "metadata": {},
     "output_type": "execute_result"
    }
   ],
   "source": [
    "grid.fit(X1,y1)"
   ]
  },
  {
   "cell_type": "code",
   "execution_count": 155,
   "metadata": {},
   "outputs": [
    {
     "data": {
      "text/plain": [
       "-1.0654543895920503"
      ]
     },
     "execution_count": 155,
     "metadata": {},
     "output_type": "execute_result"
    }
   ],
   "source": [
    "grid.best_score_"
   ]
  },
  {
   "cell_type": "code",
   "execution_count": 156,
   "metadata": {},
   "outputs": [
    {
     "data": {
      "text/html": [
       "<div>\n",
       "<style scoped>\n",
       "    .dataframe tbody tr th:only-of-type {\n",
       "        vertical-align: middle;\n",
       "    }\n",
       "\n",
       "    .dataframe tbody tr th {\n",
       "        vertical-align: top;\n",
       "    }\n",
       "\n",
       "    .dataframe thead th {\n",
       "        text-align: right;\n",
       "    }\n",
       "</style>\n",
       "<table border=\"1\" class=\"dataframe\">\n",
       "  <thead>\n",
       "    <tr style=\"text-align: right;\">\n",
       "      <th></th>\n",
       "      <th>mean_fit_time</th>\n",
       "      <th>std_fit_time</th>\n",
       "      <th>mean_score_time</th>\n",
       "      <th>std_score_time</th>\n",
       "      <th>param_sgdR__alpha</th>\n",
       "      <th>param_sgdR__early_stopping</th>\n",
       "      <th>param_sgdR__l1_ratio</th>\n",
       "      <th>param_sgdR__penalty</th>\n",
       "      <th>params</th>\n",
       "      <th>split0_test_score</th>\n",
       "      <th>split1_test_score</th>\n",
       "      <th>split2_test_score</th>\n",
       "      <th>split3_test_score</th>\n",
       "      <th>split4_test_score</th>\n",
       "      <th>mean_test_score</th>\n",
       "      <th>std_test_score</th>\n",
       "      <th>rank_test_score</th>\n",
       "    </tr>\n",
       "  </thead>\n",
       "  <tbody>\n",
       "    <tr>\n",
       "      <th>0</th>\n",
       "      <td>0.051349</td>\n",
       "      <td>0.014080</td>\n",
       "      <td>0.003117</td>\n",
       "      <td>0.006235</td>\n",
       "      <td>0.0001</td>\n",
       "      <td>True</td>\n",
       "      <td>0</td>\n",
       "      <td>elasticnet</td>\n",
       "      <td>{'sgdR__alpha': 0.0001, 'sgdR__early_stopping'...</td>\n",
       "      <td>-0.980831</td>\n",
       "      <td>-1.358707</td>\n",
       "      <td>-1.127487</td>\n",
       "      <td>-1.056891</td>\n",
       "      <td>-0.886478</td>\n",
       "      <td>-1.082079</td>\n",
       "      <td>0.159831</td>\n",
       "      <td>8</td>\n",
       "    </tr>\n",
       "    <tr>\n",
       "      <th>1</th>\n",
       "      <td>0.058656</td>\n",
       "      <td>0.010171</td>\n",
       "      <td>0.004727</td>\n",
       "      <td>0.006267</td>\n",
       "      <td>0.0001</td>\n",
       "      <td>True</td>\n",
       "      <td>0.15</td>\n",
       "      <td>elasticnet</td>\n",
       "      <td>{'sgdR__alpha': 0.0001, 'sgdR__early_stopping'...</td>\n",
       "      <td>-0.995924</td>\n",
       "      <td>-1.379700</td>\n",
       "      <td>-1.104046</td>\n",
       "      <td>-1.059445</td>\n",
       "      <td>-0.930094</td>\n",
       "      <td>-1.093842</td>\n",
       "      <td>0.154534</td>\n",
       "      <td>9</td>\n",
       "    </tr>\n",
       "    <tr>\n",
       "      <th>2</th>\n",
       "      <td>0.073002</td>\n",
       "      <td>0.011487</td>\n",
       "      <td>0.007979</td>\n",
       "      <td>0.000019</td>\n",
       "      <td>0.0001</td>\n",
       "      <td>True</td>\n",
       "      <td>0.5</td>\n",
       "      <td>elasticnet</td>\n",
       "      <td>{'sgdR__alpha': 0.0001, 'sgdR__early_stopping'...</td>\n",
       "      <td>-0.927862</td>\n",
       "      <td>-1.365867</td>\n",
       "      <td>-1.100496</td>\n",
       "      <td>-1.098124</td>\n",
       "      <td>-0.885100</td>\n",
       "      <td>-1.075490</td>\n",
       "      <td>0.169410</td>\n",
       "      <td>6</td>\n",
       "    </tr>\n",
       "    <tr>\n",
       "      <th>3</th>\n",
       "      <td>0.063962</td>\n",
       "      <td>0.012388</td>\n",
       "      <td>0.006391</td>\n",
       "      <td>0.003195</td>\n",
       "      <td>0.0001</td>\n",
       "      <td>True</td>\n",
       "      <td>0.75</td>\n",
       "      <td>elasticnet</td>\n",
       "      <td>{'sgdR__alpha': 0.0001, 'sgdR__early_stopping'...</td>\n",
       "      <td>-0.950443</td>\n",
       "      <td>-1.348959</td>\n",
       "      <td>-1.086364</td>\n",
       "      <td>-1.084377</td>\n",
       "      <td>-0.883411</td>\n",
       "      <td>-1.070711</td>\n",
       "      <td>0.159624</td>\n",
       "      <td>3</td>\n",
       "    </tr>\n",
       "    <tr>\n",
       "      <th>4</th>\n",
       "      <td>0.063039</td>\n",
       "      <td>0.012535</td>\n",
       "      <td>0.006323</td>\n",
       "      <td>0.005875</td>\n",
       "      <td>0.0001</td>\n",
       "      <td>True</td>\n",
       "      <td>1</td>\n",
       "      <td>elasticnet</td>\n",
       "      <td>{'sgdR__alpha': 0.0001, 'sgdR__early_stopping'...</td>\n",
       "      <td>-0.974891</td>\n",
       "      <td>-1.359887</td>\n",
       "      <td>-1.116613</td>\n",
       "      <td>-1.044102</td>\n",
       "      <td>-0.862598</td>\n",
       "      <td>-1.071618</td>\n",
       "      <td>0.166689</td>\n",
       "      <td>4</td>\n",
       "    </tr>\n",
       "    <tr>\n",
       "      <th>5</th>\n",
       "      <td>0.047619</td>\n",
       "      <td>0.009033</td>\n",
       "      <td>0.006337</td>\n",
       "      <td>0.005861</td>\n",
       "      <td>0.01</td>\n",
       "      <td>True</td>\n",
       "      <td>0</td>\n",
       "      <td>elasticnet</td>\n",
       "      <td>{'sgdR__alpha': 0.01, 'sgdR__early_stopping': ...</td>\n",
       "      <td>-1.037769</td>\n",
       "      <td>-1.360560</td>\n",
       "      <td>-1.105380</td>\n",
       "      <td>-1.085776</td>\n",
       "      <td>-0.893999</td>\n",
       "      <td>-1.096697</td>\n",
       "      <td>0.151246</td>\n",
       "      <td>10</td>\n",
       "    </tr>\n",
       "    <tr>\n",
       "      <th>6</th>\n",
       "      <td>0.066940</td>\n",
       "      <td>0.017551</td>\n",
       "      <td>0.006398</td>\n",
       "      <td>0.005986</td>\n",
       "      <td>0.01</td>\n",
       "      <td>True</td>\n",
       "      <td>0.15</td>\n",
       "      <td>elasticnet</td>\n",
       "      <td>{'sgdR__alpha': 0.01, 'sgdR__early_stopping': ...</td>\n",
       "      <td>-1.018646</td>\n",
       "      <td>-1.334054</td>\n",
       "      <td>-1.096208</td>\n",
       "      <td>-1.031074</td>\n",
       "      <td>-0.851529</td>\n",
       "      <td>-1.066302</td>\n",
       "      <td>0.156349</td>\n",
       "      <td>2</td>\n",
       "    </tr>\n",
       "    <tr>\n",
       "      <th>7</th>\n",
       "      <td>0.073265</td>\n",
       "      <td>0.014318</td>\n",
       "      <td>0.009462</td>\n",
       "      <td>0.005833</td>\n",
       "      <td>0.01</td>\n",
       "      <td>True</td>\n",
       "      <td>0.5</td>\n",
       "      <td>elasticnet</td>\n",
       "      <td>{'sgdR__alpha': 0.01, 'sgdR__early_stopping': ...</td>\n",
       "      <td>-0.972589</td>\n",
       "      <td>-1.332733</td>\n",
       "      <td>-1.098644</td>\n",
       "      <td>-1.088802</td>\n",
       "      <td>-0.878628</td>\n",
       "      <td>-1.074279</td>\n",
       "      <td>0.152462</td>\n",
       "      <td>5</td>\n",
       "    </tr>\n",
       "    <tr>\n",
       "      <th>8</th>\n",
       "      <td>0.077810</td>\n",
       "      <td>0.016136</td>\n",
       "      <td>0.008074</td>\n",
       "      <td>0.005281</td>\n",
       "      <td>0.01</td>\n",
       "      <td>True</td>\n",
       "      <td>0.75</td>\n",
       "      <td>elasticnet</td>\n",
       "      <td>{'sgdR__alpha': 0.01, 'sgdR__early_stopping': ...</td>\n",
       "      <td>-0.969199</td>\n",
       "      <td>-1.351576</td>\n",
       "      <td>-1.108895</td>\n",
       "      <td>-1.109047</td>\n",
       "      <td>-0.860221</td>\n",
       "      <td>-1.079788</td>\n",
       "      <td>0.164931</td>\n",
       "      <td>7</td>\n",
       "    </tr>\n",
       "    <tr>\n",
       "      <th>9</th>\n",
       "      <td>0.076249</td>\n",
       "      <td>0.016300</td>\n",
       "      <td>0.004820</td>\n",
       "      <td>0.003936</td>\n",
       "      <td>0.01</td>\n",
       "      <td>True</td>\n",
       "      <td>1</td>\n",
       "      <td>elasticnet</td>\n",
       "      <td>{'sgdR__alpha': 0.01, 'sgdR__early_stopping': ...</td>\n",
       "      <td>-0.935917</td>\n",
       "      <td>-1.336783</td>\n",
       "      <td>-1.078078</td>\n",
       "      <td>-1.131250</td>\n",
       "      <td>-0.845243</td>\n",
       "      <td>-1.065454</td>\n",
       "      <td>0.169340</td>\n",
       "      <td>1</td>\n",
       "    </tr>\n",
       "    <tr>\n",
       "      <th>10</th>\n",
       "      <td>0.052249</td>\n",
       "      <td>0.016125</td>\n",
       "      <td>0.002601</td>\n",
       "      <td>0.003318</td>\n",
       "      <td>0.5</td>\n",
       "      <td>True</td>\n",
       "      <td>0</td>\n",
       "      <td>elasticnet</td>\n",
       "      <td>{'sgdR__alpha': 0.5, 'sgdR__early_stopping': T...</td>\n",
       "      <td>-1.342949</td>\n",
       "      <td>-1.507979</td>\n",
       "      <td>-1.341599</td>\n",
       "      <td>-1.563169</td>\n",
       "      <td>-0.930942</td>\n",
       "      <td>-1.337328</td>\n",
       "      <td>0.221506</td>\n",
       "      <td>12</td>\n",
       "    </tr>\n",
       "    <tr>\n",
       "      <th>11</th>\n",
       "      <td>0.068457</td>\n",
       "      <td>0.008353</td>\n",
       "      <td>0.008003</td>\n",
       "      <td>0.000013</td>\n",
       "      <td>0.5</td>\n",
       "      <td>True</td>\n",
       "      <td>0.15</td>\n",
       "      <td>elasticnet</td>\n",
       "      <td>{'sgdR__alpha': 0.5, 'sgdR__early_stopping': T...</td>\n",
       "      <td>-1.244617</td>\n",
       "      <td>-1.537889</td>\n",
       "      <td>-1.383500</td>\n",
       "      <td>-1.374097</td>\n",
       "      <td>-1.018643</td>\n",
       "      <td>-1.311749</td>\n",
       "      <td>0.173547</td>\n",
       "      <td>11</td>\n",
       "    </tr>\n",
       "    <tr>\n",
       "      <th>12</th>\n",
       "      <td>0.058769</td>\n",
       "      <td>0.011487</td>\n",
       "      <td>0.006176</td>\n",
       "      <td>0.005832</td>\n",
       "      <td>0.5</td>\n",
       "      <td>True</td>\n",
       "      <td>0.5</td>\n",
       "      <td>elasticnet</td>\n",
       "      <td>{'sgdR__alpha': 0.5, 'sgdR__early_stopping': T...</td>\n",
       "      <td>-1.231301</td>\n",
       "      <td>-1.550105</td>\n",
       "      <td>-1.407725</td>\n",
       "      <td>-1.600778</td>\n",
       "      <td>-1.052576</td>\n",
       "      <td>-1.368497</td>\n",
       "      <td>0.203521</td>\n",
       "      <td>13</td>\n",
       "    </tr>\n",
       "    <tr>\n",
       "      <th>13</th>\n",
       "      <td>0.059433</td>\n",
       "      <td>0.007806</td>\n",
       "      <td>0.004798</td>\n",
       "      <td>0.003918</td>\n",
       "      <td>0.5</td>\n",
       "      <td>True</td>\n",
       "      <td>0.75</td>\n",
       "      <td>elasticnet</td>\n",
       "      <td>{'sgdR__alpha': 0.5, 'sgdR__early_stopping': T...</td>\n",
       "      <td>-1.177241</td>\n",
       "      <td>-1.652499</td>\n",
       "      <td>-1.404009</td>\n",
       "      <td>-1.803873</td>\n",
       "      <td>-1.154345</td>\n",
       "      <td>-1.438393</td>\n",
       "      <td>0.256703</td>\n",
       "      <td>15</td>\n",
       "    </tr>\n",
       "    <tr>\n",
       "      <th>14</th>\n",
       "      <td>0.062050</td>\n",
       "      <td>0.013242</td>\n",
       "      <td>0.006335</td>\n",
       "      <td>0.005877</td>\n",
       "      <td>0.5</td>\n",
       "      <td>True</td>\n",
       "      <td>1</td>\n",
       "      <td>elasticnet</td>\n",
       "      <td>{'sgdR__alpha': 0.5, 'sgdR__early_stopping': T...</td>\n",
       "      <td>-1.122698</td>\n",
       "      <td>-1.613901</td>\n",
       "      <td>-1.381235</td>\n",
       "      <td>-1.945769</td>\n",
       "      <td>-1.120910</td>\n",
       "      <td>-1.436903</td>\n",
       "      <td>0.313671</td>\n",
       "      <td>14</td>\n",
       "    </tr>\n",
       "    <tr>\n",
       "      <th>15</th>\n",
       "      <td>0.065350</td>\n",
       "      <td>0.015758</td>\n",
       "      <td>0.007927</td>\n",
       "      <td>0.004941</td>\n",
       "      <td>1</td>\n",
       "      <td>True</td>\n",
       "      <td>0</td>\n",
       "      <td>elasticnet</td>\n",
       "      <td>{'sgdR__alpha': 1, 'sgdR__early_stopping': Tru...</td>\n",
       "      <td>-1.643541</td>\n",
       "      <td>-1.699950</td>\n",
       "      <td>-1.571033</td>\n",
       "      <td>-1.991892</td>\n",
       "      <td>-1.178019</td>\n",
       "      <td>-1.616887</td>\n",
       "      <td>0.261895</td>\n",
       "      <td>16</td>\n",
       "    </tr>\n",
       "    <tr>\n",
       "      <th>16</th>\n",
       "      <td>0.058143</td>\n",
       "      <td>0.008195</td>\n",
       "      <td>0.007914</td>\n",
       "      <td>0.004929</td>\n",
       "      <td>1</td>\n",
       "      <td>True</td>\n",
       "      <td>0.15</td>\n",
       "      <td>elasticnet</td>\n",
       "      <td>{'sgdR__alpha': 1, 'sgdR__early_stopping': Tru...</td>\n",
       "      <td>-1.573789</td>\n",
       "      <td>-1.780975</td>\n",
       "      <td>-1.655886</td>\n",
       "      <td>-1.944142</td>\n",
       "      <td>-1.248485</td>\n",
       "      <td>-1.640655</td>\n",
       "      <td>0.232506</td>\n",
       "      <td>17</td>\n",
       "    </tr>\n",
       "    <tr>\n",
       "      <th>17</th>\n",
       "      <td>0.042636</td>\n",
       "      <td>0.006584</td>\n",
       "      <td>0.010458</td>\n",
       "      <td>0.004358</td>\n",
       "      <td>1</td>\n",
       "      <td>True</td>\n",
       "      <td>0.5</td>\n",
       "      <td>elasticnet</td>\n",
       "      <td>{'sgdR__alpha': 1, 'sgdR__early_stopping': Tru...</td>\n",
       "      <td>-1.574555</td>\n",
       "      <td>-2.108134</td>\n",
       "      <td>-1.967193</td>\n",
       "      <td>-2.968149</td>\n",
       "      <td>-1.664206</td>\n",
       "      <td>-2.056447</td>\n",
       "      <td>0.495562</td>\n",
       "      <td>18</td>\n",
       "    </tr>\n",
       "    <tr>\n",
       "      <th>18</th>\n",
       "      <td>0.071526</td>\n",
       "      <td>0.014327</td>\n",
       "      <td>0.006401</td>\n",
       "      <td>0.003201</td>\n",
       "      <td>1</td>\n",
       "      <td>True</td>\n",
       "      <td>0.75</td>\n",
       "      <td>elasticnet</td>\n",
       "      <td>{'sgdR__alpha': 1, 'sgdR__early_stopping': Tru...</td>\n",
       "      <td>-1.620730</td>\n",
       "      <td>-2.174152</td>\n",
       "      <td>-2.098700</td>\n",
       "      <td>-2.986988</td>\n",
       "      <td>-1.844732</td>\n",
       "      <td>-2.145061</td>\n",
       "      <td>0.464103</td>\n",
       "      <td>19</td>\n",
       "    </tr>\n",
       "    <tr>\n",
       "      <th>19</th>\n",
       "      <td>0.071948</td>\n",
       "      <td>0.019581</td>\n",
       "      <td>0.006393</td>\n",
       "      <td>0.003196</td>\n",
       "      <td>1</td>\n",
       "      <td>True</td>\n",
       "      <td>1</td>\n",
       "      <td>elasticnet</td>\n",
       "      <td>{'sgdR__alpha': 1, 'sgdR__early_stopping': Tru...</td>\n",
       "      <td>-1.716127</td>\n",
       "      <td>-2.345930</td>\n",
       "      <td>-2.372768</td>\n",
       "      <td>-3.555705</td>\n",
       "      <td>-2.038762</td>\n",
       "      <td>-2.405858</td>\n",
       "      <td>0.622466</td>\n",
       "      <td>20</td>\n",
       "    </tr>\n",
       "  </tbody>\n",
       "</table>\n",
       "</div>"
      ],
      "text/plain": [
       "    mean_fit_time  std_fit_time  mean_score_time  std_score_time  \\\n",
       "0        0.051349      0.014080         0.003117        0.006235   \n",
       "1        0.058656      0.010171         0.004727        0.006267   \n",
       "2        0.073002      0.011487         0.007979        0.000019   \n",
       "3        0.063962      0.012388         0.006391        0.003195   \n",
       "4        0.063039      0.012535         0.006323        0.005875   \n",
       "5        0.047619      0.009033         0.006337        0.005861   \n",
       "6        0.066940      0.017551         0.006398        0.005986   \n",
       "7        0.073265      0.014318         0.009462        0.005833   \n",
       "8        0.077810      0.016136         0.008074        0.005281   \n",
       "9        0.076249      0.016300         0.004820        0.003936   \n",
       "10       0.052249      0.016125         0.002601        0.003318   \n",
       "11       0.068457      0.008353         0.008003        0.000013   \n",
       "12       0.058769      0.011487         0.006176        0.005832   \n",
       "13       0.059433      0.007806         0.004798        0.003918   \n",
       "14       0.062050      0.013242         0.006335        0.005877   \n",
       "15       0.065350      0.015758         0.007927        0.004941   \n",
       "16       0.058143      0.008195         0.007914        0.004929   \n",
       "17       0.042636      0.006584         0.010458        0.004358   \n",
       "18       0.071526      0.014327         0.006401        0.003201   \n",
       "19       0.071948      0.019581         0.006393        0.003196   \n",
       "\n",
       "   param_sgdR__alpha param_sgdR__early_stopping param_sgdR__l1_ratio  \\\n",
       "0             0.0001                       True                    0   \n",
       "1             0.0001                       True                 0.15   \n",
       "2             0.0001                       True                  0.5   \n",
       "3             0.0001                       True                 0.75   \n",
       "4             0.0001                       True                    1   \n",
       "5               0.01                       True                    0   \n",
       "6               0.01                       True                 0.15   \n",
       "7               0.01                       True                  0.5   \n",
       "8               0.01                       True                 0.75   \n",
       "9               0.01                       True                    1   \n",
       "10               0.5                       True                    0   \n",
       "11               0.5                       True                 0.15   \n",
       "12               0.5                       True                  0.5   \n",
       "13               0.5                       True                 0.75   \n",
       "14               0.5                       True                    1   \n",
       "15                 1                       True                    0   \n",
       "16                 1                       True                 0.15   \n",
       "17                 1                       True                  0.5   \n",
       "18                 1                       True                 0.75   \n",
       "19                 1                       True                    1   \n",
       "\n",
       "   param_sgdR__penalty                                             params  \\\n",
       "0           elasticnet  {'sgdR__alpha': 0.0001, 'sgdR__early_stopping'...   \n",
       "1           elasticnet  {'sgdR__alpha': 0.0001, 'sgdR__early_stopping'...   \n",
       "2           elasticnet  {'sgdR__alpha': 0.0001, 'sgdR__early_stopping'...   \n",
       "3           elasticnet  {'sgdR__alpha': 0.0001, 'sgdR__early_stopping'...   \n",
       "4           elasticnet  {'sgdR__alpha': 0.0001, 'sgdR__early_stopping'...   \n",
       "5           elasticnet  {'sgdR__alpha': 0.01, 'sgdR__early_stopping': ...   \n",
       "6           elasticnet  {'sgdR__alpha': 0.01, 'sgdR__early_stopping': ...   \n",
       "7           elasticnet  {'sgdR__alpha': 0.01, 'sgdR__early_stopping': ...   \n",
       "8           elasticnet  {'sgdR__alpha': 0.01, 'sgdR__early_stopping': ...   \n",
       "9           elasticnet  {'sgdR__alpha': 0.01, 'sgdR__early_stopping': ...   \n",
       "10          elasticnet  {'sgdR__alpha': 0.5, 'sgdR__early_stopping': T...   \n",
       "11          elasticnet  {'sgdR__alpha': 0.5, 'sgdR__early_stopping': T...   \n",
       "12          elasticnet  {'sgdR__alpha': 0.5, 'sgdR__early_stopping': T...   \n",
       "13          elasticnet  {'sgdR__alpha': 0.5, 'sgdR__early_stopping': T...   \n",
       "14          elasticnet  {'sgdR__alpha': 0.5, 'sgdR__early_stopping': T...   \n",
       "15          elasticnet  {'sgdR__alpha': 1, 'sgdR__early_stopping': Tru...   \n",
       "16          elasticnet  {'sgdR__alpha': 1, 'sgdR__early_stopping': Tru...   \n",
       "17          elasticnet  {'sgdR__alpha': 1, 'sgdR__early_stopping': Tru...   \n",
       "18          elasticnet  {'sgdR__alpha': 1, 'sgdR__early_stopping': Tru...   \n",
       "19          elasticnet  {'sgdR__alpha': 1, 'sgdR__early_stopping': Tru...   \n",
       "\n",
       "    split0_test_score  split1_test_score  split2_test_score  \\\n",
       "0           -0.980831          -1.358707          -1.127487   \n",
       "1           -0.995924          -1.379700          -1.104046   \n",
       "2           -0.927862          -1.365867          -1.100496   \n",
       "3           -0.950443          -1.348959          -1.086364   \n",
       "4           -0.974891          -1.359887          -1.116613   \n",
       "5           -1.037769          -1.360560          -1.105380   \n",
       "6           -1.018646          -1.334054          -1.096208   \n",
       "7           -0.972589          -1.332733          -1.098644   \n",
       "8           -0.969199          -1.351576          -1.108895   \n",
       "9           -0.935917          -1.336783          -1.078078   \n",
       "10          -1.342949          -1.507979          -1.341599   \n",
       "11          -1.244617          -1.537889          -1.383500   \n",
       "12          -1.231301          -1.550105          -1.407725   \n",
       "13          -1.177241          -1.652499          -1.404009   \n",
       "14          -1.122698          -1.613901          -1.381235   \n",
       "15          -1.643541          -1.699950          -1.571033   \n",
       "16          -1.573789          -1.780975          -1.655886   \n",
       "17          -1.574555          -2.108134          -1.967193   \n",
       "18          -1.620730          -2.174152          -2.098700   \n",
       "19          -1.716127          -2.345930          -2.372768   \n",
       "\n",
       "    split3_test_score  split4_test_score  mean_test_score  std_test_score  \\\n",
       "0           -1.056891          -0.886478        -1.082079        0.159831   \n",
       "1           -1.059445          -0.930094        -1.093842        0.154534   \n",
       "2           -1.098124          -0.885100        -1.075490        0.169410   \n",
       "3           -1.084377          -0.883411        -1.070711        0.159624   \n",
       "4           -1.044102          -0.862598        -1.071618        0.166689   \n",
       "5           -1.085776          -0.893999        -1.096697        0.151246   \n",
       "6           -1.031074          -0.851529        -1.066302        0.156349   \n",
       "7           -1.088802          -0.878628        -1.074279        0.152462   \n",
       "8           -1.109047          -0.860221        -1.079788        0.164931   \n",
       "9           -1.131250          -0.845243        -1.065454        0.169340   \n",
       "10          -1.563169          -0.930942        -1.337328        0.221506   \n",
       "11          -1.374097          -1.018643        -1.311749        0.173547   \n",
       "12          -1.600778          -1.052576        -1.368497        0.203521   \n",
       "13          -1.803873          -1.154345        -1.438393        0.256703   \n",
       "14          -1.945769          -1.120910        -1.436903        0.313671   \n",
       "15          -1.991892          -1.178019        -1.616887        0.261895   \n",
       "16          -1.944142          -1.248485        -1.640655        0.232506   \n",
       "17          -2.968149          -1.664206        -2.056447        0.495562   \n",
       "18          -2.986988          -1.844732        -2.145061        0.464103   \n",
       "19          -3.555705          -2.038762        -2.405858        0.622466   \n",
       "\n",
       "    rank_test_score  \n",
       "0                 8  \n",
       "1                 9  \n",
       "2                 6  \n",
       "3                 3  \n",
       "4                 4  \n",
       "5                10  \n",
       "6                 2  \n",
       "7                 5  \n",
       "8                 7  \n",
       "9                 1  \n",
       "10               12  \n",
       "11               11  \n",
       "12               13  \n",
       "13               15  \n",
       "14               14  \n",
       "15               16  \n",
       "16               17  \n",
       "17               18  \n",
       "18               19  \n",
       "19               20  "
      ]
     },
     "execution_count": 156,
     "metadata": {},
     "output_type": "execute_result"
    }
   ],
   "source": [
    "pd.DataFrame(data=grid.cv_results_,columns=grid.cv_results_.keys())"
   ]
  },
  {
   "cell_type": "code",
   "execution_count": 157,
   "metadata": {},
   "outputs": [
    {
     "data": {
      "text/plain": [
       "Pipeline(steps=[('scaler', StandardScaler()),\n",
       "                ('sgdR',\n",
       "                 SGDRegressor(alpha=0.01, early_stopping=True, l1_ratio=1,\n",
       "                              penalty='elasticnet'))])"
      ]
     },
     "execution_count": 157,
     "metadata": {},
     "output_type": "execute_result"
    }
   ],
   "source": [
    "grid.best_estimator_"
   ]
  },
  {
   "cell_type": "code",
   "execution_count": 158,
   "metadata": {},
   "outputs": [
    {
     "data": {
      "text/plain": [
       "{'sgdR__alpha': 0.01,\n",
       " 'sgdR__early_stopping': True,\n",
       " 'sgdR__l1_ratio': 1,\n",
       " 'sgdR__penalty': 'elasticnet'}"
      ]
     },
     "execution_count": 158,
     "metadata": {},
     "output_type": "execute_result"
    }
   ],
   "source": [
    "grid.best_params_"
   ]
  },
  {
   "cell_type": "markdown",
   "metadata": {},
   "source": [
    "The best estimator is \n",
    "{'sgdR__alpha': 0.01,\n",
    " 'sgdR__early_stopping': True,\n",
    " 'sgdR__l1_ratio': 1,\n",
    " 'sgdR__penalty': 'elasticnet'}"
   ]
  },
  {
   "cell_type": "code",
   "execution_count": 160,
   "metadata": {},
   "outputs": [],
   "source": [
    "X_train1, X_test1, y_train1, y_test1 = train_test_split(X1, y1, test_size=0.33, random_state=83)"
   ]
  },
  {
   "cell_type": "code",
   "execution_count": 161,
   "metadata": {},
   "outputs": [],
   "source": [
    "X_scale_train1=scaler.fit_transform(X_train1)"
   ]
  },
  {
   "cell_type": "code",
   "execution_count": 162,
   "metadata": {},
   "outputs": [],
   "source": [
    "X_scale_test1=scaler.transform(X_test1)"
   ]
  },
  {
   "cell_type": "code",
   "execution_count": 167,
   "metadata": {},
   "outputs": [],
   "source": [
    "Final_model1=SGDRegressor(alpha=.01,l1_ratio=1,penalty='elasticnet')\n",
    "Final_model1.fit(X_scale_train1,y_train1)\n",
    "pred=Final_model1.predict(X_scale_test1)"
   ]
  },
  {
   "cell_type": "code",
   "execution_count": 168,
   "metadata": {},
   "outputs": [
    {
     "data": {
      "text/plain": [
       "0.9591796963945354"
      ]
     },
     "execution_count": 168,
     "metadata": {},
     "output_type": "execute_result"
    }
   ],
   "source": [
    "finalRMSE=np.sqrt(mean_squared_error(y_test1,pred))\n",
    "finalRMSE"
   ]
  },
  {
   "cell_type": "markdown",
   "metadata": {},
   "source": [
    "final Root mean square error of the model is only 0.9591796963945354\n",
    "\n",
    "which is very less"
   ]
  },
  {
   "cell_type": "code",
   "execution_count": 166,
   "metadata": {},
   "outputs": [
    {
     "data": {
      "text/plain": [
       "23.0637928476035"
      ]
     },
     "execution_count": 166,
     "metadata": {},
     "output_type": "execute_result"
    }
   ],
   "source": [
    "df['Next_Tmin'].mean()"
   ]
  },
  {
   "cell_type": "code",
   "execution_count": 174,
   "metadata": {},
   "outputs": [
    {
     "data": {
      "text/plain": [
       "[<matplotlib.lines.Line2D at 0x21fb23f0550>]"
      ]
     },
     "execution_count": 174,
     "metadata": {},
     "output_type": "execute_result"
    },
    {
     "data": {
      "image/png": "[encoded data removed]",
      "text/plain": [
       "<Figure size 432x288 with 1 Axes>"
      ]
     },
     "metadata": {
      "needs_background": "light"
     },
     "output_type": "display_data"
    }
   ],
   "source": [
    "sns.scatterplot(x=pred,y=y_test1)\n",
    "plt.plot(y_test1,y_test1,'r')"
   ]
  },
  {
   "cell_type": "markdown",
   "metadata": {},
   "source": [
    "## saving the model\n"
   ]
  },
  {
   "cell_type": "code",
   "execution_count": 117,
   "metadata": {},
   "outputs": [
    {
     "data": {
      "text/plain": [
       "['Final_model_Next_TMax.pkl']"
      ]
     },
     "execution_count": 117,
     "metadata": {},
     "output_type": "execute_result"
    }
   ],
   "source": [
    "import joblib\n",
    "joblib.dump(Final_model,\"Final_model_Next_TMax.pkl\")"
   ]
  },
  {
   "cell_type": "code",
   "execution_count": 175,
   "metadata": {},
   "outputs": [
    {
     "data": {
      "text/plain": [
       "['Final_model_Next_TMin.pkl']"
      ]
     },
     "execution_count": 175,
     "metadata": {},
     "output_type": "execute_result"
    }
   ],
   "source": [
    "import joblib\n",
    "joblib.dump(Final_model1,\"Final_model_Next_TMin.pkl\")"
   ]
  }
 ],
 "metadata": {
  "kernelspec": {
   "display_name": "Python 3",
   "language": "python",
   "name": "python3"
  },
  "language_info": {
   "codemirror_mode": {
    "name": "ipython",
    "version": 3
   },
   "file_extension": ".py",
   "mimetype": "text/x-python",
   "name": "python",
   "nbconvert_exporter": "python",
   "pygments_lexer": "ipython3",
   "version": "3.7.3"
  }
 },
 "nbformat": 4,
 "nbformat_minor": 4
}
