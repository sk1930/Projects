{
 "cells": [
  {
   "cell_type": "markdown",
   "metadata": {},
   "source": [
    "The Titanic Problem is based on the sinking of the ‘Unsinkable’ ship Titanic in early 1912. It gives you information about multiple people like their ages, sexes, sibling counts, embarkment points, and whether or not they survived the disaster. Based on these features, you have to predict if an arbitrary passenger on Titanic would survive the sinking or not. "
   ]
  },
  {
   "cell_type": "code",
   "execution_count": 1,
   "metadata": {},
   "outputs": [],
   "source": [
    "import numpy as np\n",
    "import pandas as pd\n",
    "import seaborn as sns\n",
    "import matplotlib.pyplot as plt\n",
    "from sklearn.tree import DecisionTreeClassifier\n",
    "\n",
    "from sklearn.ensemble import RandomForestClassifier\n",
    "from sklearn.svm import SVC\n",
    "from sklearn.ensemble import AdaBoostClassifier\n",
    "from sklearn.metrics import confusion_matrix, classification_report\n",
    "from sklearn.preprocessing import StandardScaler, LabelEncoder\n",
    "from sklearn.model_selection import train_test_split, GridSearchCV, cross_val_score\n",
    "\n",
    "from sklearn.metrics import accuracy_score,classification_report,plot_roc_curve\n",
    "\n",
    "from scipy.stats import zscore\n",
    "from scipy import stats\n",
    "\n",
    "import warnings\n",
    "warnings.filterwarnings(\"ignore\")\n",
    "\n",
    "from imblearn.over_sampling import SMOTE\n",
    "\n"
   ]
  },
  {
   "cell_type": "code",
   "execution_count": 2,
   "metadata": {},
   "outputs": [],
   "source": [
    "df = pd.read_csv(\"https://raw.githubusercontent.com/dsrscientist/dataset1/master/titanic_train.csv\")"
   ]
  },
  {
   "cell_type": "code",
   "execution_count": 3,
   "metadata": {},
   "outputs": [
    {
     "data": {
      "text/html": [
       "<div>\n",
       "<style scoped>\n",
       "    .dataframe tbody tr th:only-of-type {\n",
       "        vertical-align: middle;\n",
       "    }\n",
       "\n",
       "    .dataframe tbody tr th {\n",
       "        vertical-align: top;\n",
       "    }\n",
       "\n",
       "    .dataframe thead th {\n",
       "        text-align: right;\n",
       "    }\n",
       "</style>\n",
       "<table border=\"1\" class=\"dataframe\">\n",
       "  <thead>\n",
       "    <tr style=\"text-align: right;\">\n",
       "      <th></th>\n",
       "      <th>PassengerId</th>\n",
       "      <th>Survived</th>\n",
       "      <th>Pclass</th>\n",
       "      <th>Name</th>\n",
       "      <th>Sex</th>\n",
       "      <th>Age</th>\n",
       "      <th>SibSp</th>\n",
       "      <th>Parch</th>\n",
       "      <th>Ticket</th>\n",
       "      <th>Fare</th>\n",
       "      <th>Cabin</th>\n",
       "      <th>Embarked</th>\n",
       "    </tr>\n",
       "  </thead>\n",
       "  <tbody>\n",
       "    <tr>\n",
       "      <th>0</th>\n",
       "      <td>1</td>\n",
       "      <td>0</td>\n",
       "      <td>3</td>\n",
       "      <td>Braund, Mr. Owen Harris</td>\n",
       "      <td>male</td>\n",
       "      <td>22.0</td>\n",
       "      <td>1</td>\n",
       "      <td>0</td>\n",
       "      <td>A/5 21171</td>\n",
       "      <td>7.2500</td>\n",
       "      <td>NaN</td>\n",
       "      <td>S</td>\n",
       "    </tr>\n",
       "    <tr>\n",
       "      <th>1</th>\n",
       "      <td>2</td>\n",
       "      <td>1</td>\n",
       "      <td>1</td>\n",
       "      <td>Cumings, Mrs. John Bradley (Florence Briggs Th...</td>\n",
       "      <td>female</td>\n",
       "      <td>38.0</td>\n",
       "      <td>1</td>\n",
       "      <td>0</td>\n",
       "      <td>PC 17599</td>\n",
       "      <td>71.2833</td>\n",
       "      <td>C85</td>\n",
       "      <td>C</td>\n",
       "    </tr>\n",
       "    <tr>\n",
       "      <th>2</th>\n",
       "      <td>3</td>\n",
       "      <td>1</td>\n",
       "      <td>3</td>\n",
       "      <td>Heikkinen, Miss. Laina</td>\n",
       "      <td>female</td>\n",
       "      <td>26.0</td>\n",
       "      <td>0</td>\n",
       "      <td>0</td>\n",
       "      <td>STON/O2. 3101282</td>\n",
       "      <td>7.9250</td>\n",
       "      <td>NaN</td>\n",
       "      <td>S</td>\n",
       "    </tr>\n",
       "    <tr>\n",
       "      <th>3</th>\n",
       "      <td>4</td>\n",
       "      <td>1</td>\n",
       "      <td>1</td>\n",
       "      <td>Futrelle, Mrs. Jacques Heath (Lily May Peel)</td>\n",
       "      <td>female</td>\n",
       "      <td>35.0</td>\n",
       "      <td>1</td>\n",
       "      <td>0</td>\n",
       "      <td>113803</td>\n",
       "      <td>53.1000</td>\n",
       "      <td>C123</td>\n",
       "      <td>S</td>\n",
       "    </tr>\n",
       "    <tr>\n",
       "      <th>4</th>\n",
       "      <td>5</td>\n",
       "      <td>0</td>\n",
       "      <td>3</td>\n",
       "      <td>Allen, Mr. William Henry</td>\n",
       "      <td>male</td>\n",
       "      <td>35.0</td>\n",
       "      <td>0</td>\n",
       "      <td>0</td>\n",
       "      <td>373450</td>\n",
       "      <td>8.0500</td>\n",
       "      <td>NaN</td>\n",
       "      <td>S</td>\n",
       "    </tr>\n",
       "  </tbody>\n",
       "</table>\n",
       "</div>"
      ],
      "text/plain": [
       "   PassengerId  Survived  Pclass  \\\n",
       "0            1         0       3   \n",
       "1            2         1       1   \n",
       "2            3         1       3   \n",
       "3            4         1       1   \n",
       "4            5         0       3   \n",
       "\n",
       "                                                Name     Sex   Age  SibSp  \\\n",
       "0                            Braund, Mr. Owen Harris    male  22.0      1   \n",
       "1  Cumings, Mrs. John Bradley (Florence Briggs Th...  female  38.0      1   \n",
       "2                             Heikkinen, Miss. Laina  female  26.0      0   \n",
       "3       Futrelle, Mrs. Jacques Heath (Lily May Peel)  female  35.0      1   \n",
       "4                           Allen, Mr. William Henry    male  35.0      0   \n",
       "\n",
       "   Parch            Ticket     Fare Cabin Embarked  \n",
       "0      0         A/5 21171   7.2500   NaN        S  \n",
       "1      0          PC 17599  71.2833   C85        C  \n",
       "2      0  STON/O2. 3101282   7.9250   NaN        S  \n",
       "3      0            113803  53.1000  C123        S  \n",
       "4      0            373450   8.0500   NaN        S  "
      ]
     },
     "execution_count": 3,
     "metadata": {},
     "output_type": "execute_result"
    }
   ],
   "source": [
    "df.head()"
   ]
  },
  {
   "cell_type": "markdown",
   "metadata": {},
   "source": [
    "we want to predict whether the person survived=1 or not 0. based on other features.\n",
    "So this is a classification problem"
   ]
  },
  {
   "cell_type": "code",
   "execution_count": 4,
   "metadata": {},
   "outputs": [
    {
     "data": {
      "text/html": [
       "<div>\n",
       "<style scoped>\n",
       "    .dataframe tbody tr th:only-of-type {\n",
       "        vertical-align: middle;\n",
       "    }\n",
       "\n",
       "    .dataframe tbody tr th {\n",
       "        vertical-align: top;\n",
       "    }\n",
       "\n",
       "    .dataframe thead th {\n",
       "        text-align: right;\n",
       "    }\n",
       "</style>\n",
       "<table border=\"1\" class=\"dataframe\">\n",
       "  <thead>\n",
       "    <tr style=\"text-align: right;\">\n",
       "      <th></th>\n",
       "      <th>PassengerId</th>\n",
       "      <th>Survived</th>\n",
       "      <th>Pclass</th>\n",
       "      <th>Name</th>\n",
       "      <th>Sex</th>\n",
       "      <th>Age</th>\n",
       "      <th>SibSp</th>\n",
       "      <th>Parch</th>\n",
       "      <th>Ticket</th>\n",
       "      <th>Fare</th>\n",
       "      <th>Cabin</th>\n",
       "      <th>Embarked</th>\n",
       "    </tr>\n",
       "  </thead>\n",
       "  <tbody>\n",
       "    <tr>\n",
       "      <th>0</th>\n",
       "      <td>1</td>\n",
       "      <td>0</td>\n",
       "      <td>3</td>\n",
       "      <td>Braund, Mr. Owen Harris</td>\n",
       "      <td>male</td>\n",
       "      <td>22.0</td>\n",
       "      <td>1</td>\n",
       "      <td>0</td>\n",
       "      <td>A/5 21171</td>\n",
       "      <td>7.2500</td>\n",
       "      <td>NaN</td>\n",
       "      <td>S</td>\n",
       "    </tr>\n",
       "    <tr>\n",
       "      <th>1</th>\n",
       "      <td>2</td>\n",
       "      <td>1</td>\n",
       "      <td>1</td>\n",
       "      <td>Cumings, Mrs. John Bradley (Florence Briggs Th...</td>\n",
       "      <td>female</td>\n",
       "      <td>38.0</td>\n",
       "      <td>1</td>\n",
       "      <td>0</td>\n",
       "      <td>PC 17599</td>\n",
       "      <td>71.2833</td>\n",
       "      <td>C85</td>\n",
       "      <td>C</td>\n",
       "    </tr>\n",
       "    <tr>\n",
       "      <th>2</th>\n",
       "      <td>3</td>\n",
       "      <td>1</td>\n",
       "      <td>3</td>\n",
       "      <td>Heikkinen, Miss. Laina</td>\n",
       "      <td>female</td>\n",
       "      <td>26.0</td>\n",
       "      <td>0</td>\n",
       "      <td>0</td>\n",
       "      <td>STON/O2. 3101282</td>\n",
       "      <td>7.9250</td>\n",
       "      <td>NaN</td>\n",
       "      <td>S</td>\n",
       "    </tr>\n",
       "    <tr>\n",
       "      <th>3</th>\n",
       "      <td>4</td>\n",
       "      <td>1</td>\n",
       "      <td>1</td>\n",
       "      <td>Futrelle, Mrs. Jacques Heath (Lily May Peel)</td>\n",
       "      <td>female</td>\n",
       "      <td>35.0</td>\n",
       "      <td>1</td>\n",
       "      <td>0</td>\n",
       "      <td>113803</td>\n",
       "      <td>53.1000</td>\n",
       "      <td>C123</td>\n",
       "      <td>S</td>\n",
       "    </tr>\n",
       "    <tr>\n",
       "      <th>4</th>\n",
       "      <td>5</td>\n",
       "      <td>0</td>\n",
       "      <td>3</td>\n",
       "      <td>Allen, Mr. William Henry</td>\n",
       "      <td>male</td>\n",
       "      <td>35.0</td>\n",
       "      <td>0</td>\n",
       "      <td>0</td>\n",
       "      <td>373450</td>\n",
       "      <td>8.0500</td>\n",
       "      <td>NaN</td>\n",
       "      <td>S</td>\n",
       "    </tr>\n",
       "    <tr>\n",
       "      <th>...</th>\n",
       "      <td>...</td>\n",
       "      <td>...</td>\n",
       "      <td>...</td>\n",
       "      <td>...</td>\n",
       "      <td>...</td>\n",
       "      <td>...</td>\n",
       "      <td>...</td>\n",
       "      <td>...</td>\n",
       "      <td>...</td>\n",
       "      <td>...</td>\n",
       "      <td>...</td>\n",
       "      <td>...</td>\n",
       "    </tr>\n",
       "    <tr>\n",
       "      <th>886</th>\n",
       "      <td>887</td>\n",
       "      <td>0</td>\n",
       "      <td>2</td>\n",
       "      <td>Montvila, Rev. Juozas</td>\n",
       "      <td>male</td>\n",
       "      <td>27.0</td>\n",
       "      <td>0</td>\n",
       "      <td>0</td>\n",
       "      <td>211536</td>\n",
       "      <td>13.0000</td>\n",
       "      <td>NaN</td>\n",
       "      <td>S</td>\n",
       "    </tr>\n",
       "    <tr>\n",
       "      <th>887</th>\n",
       "      <td>888</td>\n",
       "      <td>1</td>\n",
       "      <td>1</td>\n",
       "      <td>Graham, Miss. Margaret Edith</td>\n",
       "      <td>female</td>\n",
       "      <td>19.0</td>\n",
       "      <td>0</td>\n",
       "      <td>0</td>\n",
       "      <td>112053</td>\n",
       "      <td>30.0000</td>\n",
       "      <td>B42</td>\n",
       "      <td>S</td>\n",
       "    </tr>\n",
       "    <tr>\n",
       "      <th>888</th>\n",
       "      <td>889</td>\n",
       "      <td>0</td>\n",
       "      <td>3</td>\n",
       "      <td>Johnston, Miss. Catherine Helen \"Carrie\"</td>\n",
       "      <td>female</td>\n",
       "      <td>NaN</td>\n",
       "      <td>1</td>\n",
       "      <td>2</td>\n",
       "      <td>W./C. 6607</td>\n",
       "      <td>23.4500</td>\n",
       "      <td>NaN</td>\n",
       "      <td>S</td>\n",
       "    </tr>\n",
       "    <tr>\n",
       "      <th>889</th>\n",
       "      <td>890</td>\n",
       "      <td>1</td>\n",
       "      <td>1</td>\n",
       "      <td>Behr, Mr. Karl Howell</td>\n",
       "      <td>male</td>\n",
       "      <td>26.0</td>\n",
       "      <td>0</td>\n",
       "      <td>0</td>\n",
       "      <td>111369</td>\n",
       "      <td>30.0000</td>\n",
       "      <td>C148</td>\n",
       "      <td>C</td>\n",
       "    </tr>\n",
       "    <tr>\n",
       "      <th>890</th>\n",
       "      <td>891</td>\n",
       "      <td>0</td>\n",
       "      <td>3</td>\n",
       "      <td>Dooley, Mr. Patrick</td>\n",
       "      <td>male</td>\n",
       "      <td>32.0</td>\n",
       "      <td>0</td>\n",
       "      <td>0</td>\n",
       "      <td>370376</td>\n",
       "      <td>7.7500</td>\n",
       "      <td>NaN</td>\n",
       "      <td>Q</td>\n",
       "    </tr>\n",
       "  </tbody>\n",
       "</table>\n",
       "<p>891 rows × 12 columns</p>\n",
       "</div>"
      ],
      "text/plain": [
       "     PassengerId  Survived  Pclass  \\\n",
       "0              1         0       3   \n",
       "1              2         1       1   \n",
       "2              3         1       3   \n",
       "3              4         1       1   \n",
       "4              5         0       3   \n",
       "..           ...       ...     ...   \n",
       "886          887         0       2   \n",
       "887          888         1       1   \n",
       "888          889         0       3   \n",
       "889          890         1       1   \n",
       "890          891         0       3   \n",
       "\n",
       "                                                  Name     Sex   Age  SibSp  \\\n",
       "0                              Braund, Mr. Owen Harris    male  22.0      1   \n",
       "1    Cumings, Mrs. John Bradley (Florence Briggs Th...  female  38.0      1   \n",
       "2                               Heikkinen, Miss. Laina  female  26.0      0   \n",
       "3         Futrelle, Mrs. Jacques Heath (Lily May Peel)  female  35.0      1   \n",
       "4                             Allen, Mr. William Henry    male  35.0      0   \n",
       "..                                                 ...     ...   ...    ...   \n",
       "886                              Montvila, Rev. Juozas    male  27.0      0   \n",
       "887                       Graham, Miss. Margaret Edith  female  19.0      0   \n",
       "888           Johnston, Miss. Catherine Helen \"Carrie\"  female   NaN      1   \n",
       "889                              Behr, Mr. Karl Howell    male  26.0      0   \n",
       "890                                Dooley, Mr. Patrick    male  32.0      0   \n",
       "\n",
       "     Parch            Ticket     Fare Cabin Embarked  \n",
       "0        0         A/5 21171   7.2500   NaN        S  \n",
       "1        0          PC 17599  71.2833   C85        C  \n",
       "2        0  STON/O2. 3101282   7.9250   NaN        S  \n",
       "3        0            113803  53.1000  C123        S  \n",
       "4        0            373450   8.0500   NaN        S  \n",
       "..     ...               ...      ...   ...      ...  \n",
       "886      0            211536  13.0000   NaN        S  \n",
       "887      0            112053  30.0000   B42        S  \n",
       "888      2        W./C. 6607  23.4500   NaN        S  \n",
       "889      0            111369  30.0000  C148        C  \n",
       "890      0            370376   7.7500   NaN        Q  \n",
       "\n",
       "[891 rows x 12 columns]"
      ]
     },
     "execution_count": 4,
     "metadata": {},
     "output_type": "execute_result"
    }
   ],
   "source": [
    "df"
   ]
  },
  {
   "cell_type": "markdown",
   "metadata": {},
   "source": [
    "891 rows × 12 columns"
   ]
  },
  {
   "cell_type": "code",
   "execution_count": 5,
   "metadata": {},
   "outputs": [
    {
     "data": {
      "text/plain": [
       "Index(['PassengerId', 'Survived', 'Pclass', 'Name', 'Sex', 'Age', 'SibSp',\n",
       "       'Parch', 'Ticket', 'Fare', 'Cabin', 'Embarked'],\n",
       "      dtype='object')"
      ]
     },
     "execution_count": 5,
     "metadata": {},
     "output_type": "execute_result"
    }
   ],
   "source": [
    "df.columns"
   ]
  },
  {
   "cell_type": "code",
   "execution_count": 6,
   "metadata": {},
   "outputs": [
    {
     "name": "stdout",
     "output_type": "stream",
     "text": [
      "<class 'pandas.core.frame.DataFrame'>\n",
      "RangeIndex: 891 entries, 0 to 890\n",
      "Data columns (total 12 columns):\n",
      " #   Column       Non-Null Count  Dtype  \n",
      "---  ------       --------------  -----  \n",
      " 0   PassengerId  891 non-null    int64  \n",
      " 1   Survived     891 non-null    int64  \n",
      " 2   Pclass       891 non-null    int64  \n",
      " 3   Name         891 non-null    object \n",
      " 4   Sex          891 non-null    object \n",
      " 5   Age          714 non-null    float64\n",
      " 6   SibSp        891 non-null    int64  \n",
      " 7   Parch        891 non-null    int64  \n",
      " 8   Ticket       891 non-null    object \n",
      " 9   Fare         891 non-null    float64\n",
      " 10  Cabin        204 non-null    object \n",
      " 11  Embarked     889 non-null    object \n",
      "dtypes: float64(2), int64(5), object(5)\n",
      "memory usage: 83.7+ KB\n"
     ]
    }
   ],
   "source": [
    "df.info()"
   ]
  },
  {
   "cell_type": "code",
   "execution_count": 7,
   "metadata": {},
   "outputs": [
    {
     "data": {
      "text/plain": [
       "PassengerId      0\n",
       "Survived         0\n",
       "Pclass           0\n",
       "Name             0\n",
       "Sex              0\n",
       "Age            177\n",
       "SibSp            0\n",
       "Parch            0\n",
       "Ticket           0\n",
       "Fare             0\n",
       "Cabin          687\n",
       "Embarked         2\n",
       "dtype: int64"
      ]
     },
     "execution_count": 7,
     "metadata": {},
     "output_type": "execute_result"
    }
   ],
   "source": [
    "df.isnull().sum()"
   ]
  },
  {
   "cell_type": "markdown",
   "metadata": {},
   "source": [
    "There are some missing data in some features like \n",
    "Age has 177, cabin has 687 and Embarked has 2 missing values."
   ]
  },
  {
   "cell_type": "markdown",
   "metadata": {},
   "source": [
    "## Missing Data"
   ]
  },
  {
   "cell_type": "code",
   "execution_count": 8,
   "metadata": {},
   "outputs": [],
   "source": [
    "cabinMiss=(687/891)*100"
   ]
  },
  {
   "cell_type": "code",
   "execution_count": 9,
   "metadata": {},
   "outputs": [
    {
     "data": {
      "text/plain": [
       "77.10437710437711"
      ]
     },
     "execution_count": 9,
     "metadata": {},
     "output_type": "execute_result"
    }
   ],
   "source": [
    "cabinMiss"
   ]
  },
  {
   "cell_type": "markdown",
   "metadata": {},
   "source": [
    "77% of data is missing in Cabin feature so dropping it as missing data is more"
   ]
  },
  {
   "cell_type": "code",
   "execution_count": 10,
   "metadata": {},
   "outputs": [],
   "source": [
    "df.drop('Cabin',axis=1,inplace=True)"
   ]
  },
  {
   "cell_type": "code",
   "execution_count": 11,
   "metadata": {},
   "outputs": [
    {
     "data": {
      "text/plain": [
       "<AxesSubplot:xlabel='Pclass', ylabel='Age'>"
      ]
     },
     "execution_count": 11,
     "metadata": {},
     "output_type": "execute_result"
    },
    {
     "data": {
      "image/png": "[encoded data removed]",
      "text/plain": [
       "<Figure size 864x504 with 1 Axes>"
      ]
     },
     "metadata": {
      "needs_background": "light"
     },
     "output_type": "display_data"
    }
   ],
   "source": [
    "plt.figure(figsize=(12, 7))\n",
    "sns.boxplot(x='Pclass',y='Age',data=df,palette='winter')"
   ]
  },
  {
   "cell_type": "code",
   "execution_count": 12,
   "metadata": {},
   "outputs": [
    {
     "data": {
      "text/html": [
       "<div>\n",
       "<style scoped>\n",
       "    .dataframe tbody tr th:only-of-type {\n",
       "        vertical-align: middle;\n",
       "    }\n",
       "\n",
       "    .dataframe tbody tr th {\n",
       "        vertical-align: top;\n",
       "    }\n",
       "\n",
       "    .dataframe thead th {\n",
       "        text-align: right;\n",
       "    }\n",
       "</style>\n",
       "<table border=\"1\" class=\"dataframe\">\n",
       "  <thead>\n",
       "    <tr style=\"text-align: right;\">\n",
       "      <th></th>\n",
       "      <th>PassengerId</th>\n",
       "      <th>Survived</th>\n",
       "      <th>Age</th>\n",
       "      <th>SibSp</th>\n",
       "      <th>Parch</th>\n",
       "      <th>Fare</th>\n",
       "    </tr>\n",
       "    <tr>\n",
       "      <th>Pclass</th>\n",
       "      <th></th>\n",
       "      <th></th>\n",
       "      <th></th>\n",
       "      <th></th>\n",
       "      <th></th>\n",
       "      <th></th>\n",
       "    </tr>\n",
       "  </thead>\n",
       "  <tbody>\n",
       "    <tr>\n",
       "      <th>1</th>\n",
       "      <td>461.597222</td>\n",
       "      <td>0.629630</td>\n",
       "      <td>38.233441</td>\n",
       "      <td>0.416667</td>\n",
       "      <td>0.356481</td>\n",
       "      <td>84.154687</td>\n",
       "    </tr>\n",
       "    <tr>\n",
       "      <th>2</th>\n",
       "      <td>445.956522</td>\n",
       "      <td>0.472826</td>\n",
       "      <td>29.877630</td>\n",
       "      <td>0.402174</td>\n",
       "      <td>0.380435</td>\n",
       "      <td>20.662183</td>\n",
       "    </tr>\n",
       "    <tr>\n",
       "      <th>3</th>\n",
       "      <td>439.154786</td>\n",
       "      <td>0.242363</td>\n",
       "      <td>25.140620</td>\n",
       "      <td>0.615071</td>\n",
       "      <td>0.393075</td>\n",
       "      <td>13.675550</td>\n",
       "    </tr>\n",
       "  </tbody>\n",
       "</table>\n",
       "</div>"
      ],
      "text/plain": [
       "        PassengerId  Survived        Age     SibSp     Parch       Fare\n",
       "Pclass                                                                 \n",
       "1        461.597222  0.629630  38.233441  0.416667  0.356481  84.154687\n",
       "2        445.956522  0.472826  29.877630  0.402174  0.380435  20.662183\n",
       "3        439.154786  0.242363  25.140620  0.615071  0.393075  13.675550"
      ]
     },
     "execution_count": 12,
     "metadata": {},
     "output_type": "execute_result"
    }
   ],
   "source": [
    "df.groupby(\"Pclass\").mean()"
   ]
  },
  {
   "cell_type": "code",
   "execution_count": 13,
   "metadata": {},
   "outputs": [
    {
     "data": {
      "text/plain": [
       "Pclass\n",
       "1    38.233441\n",
       "2    29.877630\n",
       "3    25.140620\n",
       "Name: Age, dtype: float64"
      ]
     },
     "execution_count": 13,
     "metadata": {},
     "output_type": "execute_result"
    }
   ],
   "source": [
    "df.groupby(\"Pclass\").mean()['Age']"
   ]
  },
  {
   "cell_type": "markdown",
   "metadata": {},
   "source": [
    "We can see the wealthier passengers in the higher classes tend to be older, which makes sense. We'll use these average age values to impute based on Pclass for Age"
   ]
  },
  {
   "cell_type": "code",
   "execution_count": 14,
   "metadata": {},
   "outputs": [
    {
     "data": {
      "text/plain": [
       "0.19865319865319866"
      ]
     },
     "execution_count": 14,
     "metadata": {},
     "output_type": "execute_result"
    }
   ],
   "source": [
    "ageMiss=(177/891)\n",
    "ageMiss"
   ]
  },
  {
   "cell_type": "code",
   "execution_count": 15,
   "metadata": {},
   "outputs": [],
   "source": [
    "def impute_age(cols):\n",
    "    Age = cols[0]\n",
    "    Pclass = cols[1]\n",
    "    \n",
    "    if pd.isnull(Age):\n",
    "\n",
    "        if Pclass == 1:\n",
    "            return 37\n",
    "\n",
    "        elif Pclass == 2:\n",
    "            return 29\n",
    "\n",
    "        else:\n",
    "            return 24\n",
    "\n",
    "    else:\n",
    "        return Age"
   ]
  },
  {
   "cell_type": "code",
   "execution_count": 16,
   "metadata": {},
   "outputs": [],
   "source": [
    "df['Age'] = df[['Age','Pclass']].apply(impute_age,axis=1)"
   ]
  },
  {
   "cell_type": "code",
   "execution_count": 17,
   "metadata": {},
   "outputs": [
    {
     "data": {
      "text/plain": [
       "PassengerId    0\n",
       "Survived       0\n",
       "Pclass         0\n",
       "Name           0\n",
       "Sex            0\n",
       "Age            0\n",
       "SibSp          0\n",
       "Parch          0\n",
       "Ticket         0\n",
       "Fare           0\n",
       "Embarked       2\n",
       "dtype: int64"
      ]
     },
     "execution_count": 17,
     "metadata": {},
     "output_type": "execute_result"
    }
   ],
   "source": [
    "df.isnull().sum()"
   ]
  },
  {
   "cell_type": "code",
   "execution_count": 18,
   "metadata": {},
   "outputs": [
    {
     "data": {
      "text/plain": [
       "0.22446689113355783"
      ]
     },
     "execution_count": 18,
     "metadata": {},
     "output_type": "execute_result"
    }
   ],
   "source": [
    "embarkedMiss=(2/891)*100\n",
    "embarkedMiss"
   ]
  },
  {
   "cell_type": "markdown",
   "metadata": {},
   "source": [
    "for embarked only 0.2% data is missing so will drop it\n"
   ]
  },
  {
   "cell_type": "code",
   "execution_count": 19,
   "metadata": {},
   "outputs": [],
   "source": [
    "df.dropna(inplace=True)"
   ]
  },
  {
   "cell_type": "code",
   "execution_count": 20,
   "metadata": {},
   "outputs": [
    {
     "name": "stdout",
     "output_type": "stream",
     "text": [
      "<class 'pandas.core.frame.DataFrame'>\n",
      "Int64Index: 889 entries, 0 to 890\n",
      "Data columns (total 11 columns):\n",
      " #   Column       Non-Null Count  Dtype  \n",
      "---  ------       --------------  -----  \n",
      " 0   PassengerId  889 non-null    int64  \n",
      " 1   Survived     889 non-null    int64  \n",
      " 2   Pclass       889 non-null    int64  \n",
      " 3   Name         889 non-null    object \n",
      " 4   Sex          889 non-null    object \n",
      " 5   Age          889 non-null    float64\n",
      " 6   SibSp        889 non-null    int64  \n",
      " 7   Parch        889 non-null    int64  \n",
      " 8   Ticket       889 non-null    object \n",
      " 9   Fare         889 non-null    float64\n",
      " 10  Embarked     889 non-null    object \n",
      "dtypes: float64(2), int64(5), object(4)\n",
      "memory usage: 83.3+ KB\n"
     ]
    }
   ],
   "source": [
    "df.info()"
   ]
  },
  {
   "cell_type": "markdown",
   "metadata": {},
   "source": [
    "Now there is no missing data. PassengerId column is just a id and doesnt help in classification\n",
    "So will drop it.\n",
    "Similarly the Name feature doesnt help in classification so will drop that as well."
   ]
  },
  {
   "cell_type": "code",
   "execution_count": 21,
   "metadata": {},
   "outputs": [],
   "source": [
    "df.drop(['PassengerId','Name','Ticket'],axis=1,inplace=True)"
   ]
  },
  {
   "cell_type": "markdown",
   "metadata": {},
   "source": []
  },
  {
   "cell_type": "code",
   "execution_count": 22,
   "metadata": {},
   "outputs": [
    {
     "data": {
      "text/html": [
       "<div>\n",
       "<style scoped>\n",
       "    .dataframe tbody tr th:only-of-type {\n",
       "        vertical-align: middle;\n",
       "    }\n",
       "\n",
       "    .dataframe tbody tr th {\n",
       "        vertical-align: top;\n",
       "    }\n",
       "\n",
       "    .dataframe thead th {\n",
       "        text-align: right;\n",
       "    }\n",
       "</style>\n",
       "<table border=\"1\" class=\"dataframe\">\n",
       "  <thead>\n",
       "    <tr style=\"text-align: right;\">\n",
       "      <th></th>\n",
       "      <th>Survived</th>\n",
       "      <th>Pclass</th>\n",
       "      <th>Sex</th>\n",
       "      <th>Age</th>\n",
       "      <th>SibSp</th>\n",
       "      <th>Parch</th>\n",
       "      <th>Fare</th>\n",
       "      <th>Embarked</th>\n",
       "    </tr>\n",
       "  </thead>\n",
       "  <tbody>\n",
       "    <tr>\n",
       "      <th>0</th>\n",
       "      <td>0</td>\n",
       "      <td>3</td>\n",
       "      <td>male</td>\n",
       "      <td>22.0</td>\n",
       "      <td>1</td>\n",
       "      <td>0</td>\n",
       "      <td>7.2500</td>\n",
       "      <td>S</td>\n",
       "    </tr>\n",
       "    <tr>\n",
       "      <th>1</th>\n",
       "      <td>1</td>\n",
       "      <td>1</td>\n",
       "      <td>female</td>\n",
       "      <td>38.0</td>\n",
       "      <td>1</td>\n",
       "      <td>0</td>\n",
       "      <td>71.2833</td>\n",
       "      <td>C</td>\n",
       "    </tr>\n",
       "    <tr>\n",
       "      <th>2</th>\n",
       "      <td>1</td>\n",
       "      <td>3</td>\n",
       "      <td>female</td>\n",
       "      <td>26.0</td>\n",
       "      <td>0</td>\n",
       "      <td>0</td>\n",
       "      <td>7.9250</td>\n",
       "      <td>S</td>\n",
       "    </tr>\n",
       "    <tr>\n",
       "      <th>3</th>\n",
       "      <td>1</td>\n",
       "      <td>1</td>\n",
       "      <td>female</td>\n",
       "      <td>35.0</td>\n",
       "      <td>1</td>\n",
       "      <td>0</td>\n",
       "      <td>53.1000</td>\n",
       "      <td>S</td>\n",
       "    </tr>\n",
       "    <tr>\n",
       "      <th>4</th>\n",
       "      <td>0</td>\n",
       "      <td>3</td>\n",
       "      <td>male</td>\n",
       "      <td>35.0</td>\n",
       "      <td>0</td>\n",
       "      <td>0</td>\n",
       "      <td>8.0500</td>\n",
       "      <td>S</td>\n",
       "    </tr>\n",
       "    <tr>\n",
       "      <th>...</th>\n",
       "      <td>...</td>\n",
       "      <td>...</td>\n",
       "      <td>...</td>\n",
       "      <td>...</td>\n",
       "      <td>...</td>\n",
       "      <td>...</td>\n",
       "      <td>...</td>\n",
       "      <td>...</td>\n",
       "    </tr>\n",
       "    <tr>\n",
       "      <th>886</th>\n",
       "      <td>0</td>\n",
       "      <td>2</td>\n",
       "      <td>male</td>\n",
       "      <td>27.0</td>\n",
       "      <td>0</td>\n",
       "      <td>0</td>\n",
       "      <td>13.0000</td>\n",
       "      <td>S</td>\n",
       "    </tr>\n",
       "    <tr>\n",
       "      <th>887</th>\n",
       "      <td>1</td>\n",
       "      <td>1</td>\n",
       "      <td>female</td>\n",
       "      <td>19.0</td>\n",
       "      <td>0</td>\n",
       "      <td>0</td>\n",
       "      <td>30.0000</td>\n",
       "      <td>S</td>\n",
       "    </tr>\n",
       "    <tr>\n",
       "      <th>888</th>\n",
       "      <td>0</td>\n",
       "      <td>3</td>\n",
       "      <td>female</td>\n",
       "      <td>24.0</td>\n",
       "      <td>1</td>\n",
       "      <td>2</td>\n",
       "      <td>23.4500</td>\n",
       "      <td>S</td>\n",
       "    </tr>\n",
       "    <tr>\n",
       "      <th>889</th>\n",
       "      <td>1</td>\n",
       "      <td>1</td>\n",
       "      <td>male</td>\n",
       "      <td>26.0</td>\n",
       "      <td>0</td>\n",
       "      <td>0</td>\n",
       "      <td>30.0000</td>\n",
       "      <td>C</td>\n",
       "    </tr>\n",
       "    <tr>\n",
       "      <th>890</th>\n",
       "      <td>0</td>\n",
       "      <td>3</td>\n",
       "      <td>male</td>\n",
       "      <td>32.0</td>\n",
       "      <td>0</td>\n",
       "      <td>0</td>\n",
       "      <td>7.7500</td>\n",
       "      <td>Q</td>\n",
       "    </tr>\n",
       "  </tbody>\n",
       "</table>\n",
       "<p>889 rows × 8 columns</p>\n",
       "</div>"
      ],
      "text/plain": [
       "     Survived  Pclass     Sex   Age  SibSp  Parch     Fare Embarked\n",
       "0           0       3    male  22.0      1      0   7.2500        S\n",
       "1           1       1  female  38.0      1      0  71.2833        C\n",
       "2           1       3  female  26.0      0      0   7.9250        S\n",
       "3           1       1  female  35.0      1      0  53.1000        S\n",
       "4           0       3    male  35.0      0      0   8.0500        S\n",
       "..        ...     ...     ...   ...    ...    ...      ...      ...\n",
       "886         0       2    male  27.0      0      0  13.0000        S\n",
       "887         1       1  female  19.0      0      0  30.0000        S\n",
       "888         0       3  female  24.0      1      2  23.4500        S\n",
       "889         1       1    male  26.0      0      0  30.0000        C\n",
       "890         0       3    male  32.0      0      0   7.7500        Q\n",
       "\n",
       "[889 rows x 8 columns]"
      ]
     },
     "execution_count": 22,
     "metadata": {},
     "output_type": "execute_result"
    }
   ],
   "source": [
    "df"
   ]
  },
  {
   "cell_type": "code",
   "execution_count": 23,
   "metadata": {},
   "outputs": [
    {
     "data": {
      "text/html": [
       "<div>\n",
       "<style scoped>\n",
       "    .dataframe tbody tr th:only-of-type {\n",
       "        vertical-align: middle;\n",
       "    }\n",
       "\n",
       "    .dataframe tbody tr th {\n",
       "        vertical-align: top;\n",
       "    }\n",
       "\n",
       "    .dataframe thead th {\n",
       "        text-align: right;\n",
       "    }\n",
       "</style>\n",
       "<table border=\"1\" class=\"dataframe\">\n",
       "  <thead>\n",
       "    <tr style=\"text-align: right;\">\n",
       "      <th></th>\n",
       "      <th>Survived</th>\n",
       "      <th>Pclass</th>\n",
       "      <th>Age</th>\n",
       "      <th>SibSp</th>\n",
       "      <th>Parch</th>\n",
       "      <th>Fare</th>\n",
       "    </tr>\n",
       "  </thead>\n",
       "  <tbody>\n",
       "    <tr>\n",
       "      <th>count</th>\n",
       "      <td>889.000000</td>\n",
       "      <td>889.000000</td>\n",
       "      <td>889.000000</td>\n",
       "      <td>889.000000</td>\n",
       "      <td>889.000000</td>\n",
       "      <td>889.000000</td>\n",
       "    </tr>\n",
       "    <tr>\n",
       "      <th>mean</th>\n",
       "      <td>0.382452</td>\n",
       "      <td>2.311586</td>\n",
       "      <td>29.019314</td>\n",
       "      <td>0.524184</td>\n",
       "      <td>0.382452</td>\n",
       "      <td>32.096681</td>\n",
       "    </tr>\n",
       "    <tr>\n",
       "      <th>std</th>\n",
       "      <td>0.486260</td>\n",
       "      <td>0.834700</td>\n",
       "      <td>13.209814</td>\n",
       "      <td>1.103705</td>\n",
       "      <td>0.806761</td>\n",
       "      <td>49.697504</td>\n",
       "    </tr>\n",
       "    <tr>\n",
       "      <th>min</th>\n",
       "      <td>0.000000</td>\n",
       "      <td>1.000000</td>\n",
       "      <td>0.420000</td>\n",
       "      <td>0.000000</td>\n",
       "      <td>0.000000</td>\n",
       "      <td>0.000000</td>\n",
       "    </tr>\n",
       "    <tr>\n",
       "      <th>25%</th>\n",
       "      <td>0.000000</td>\n",
       "      <td>2.000000</td>\n",
       "      <td>22.000000</td>\n",
       "      <td>0.000000</td>\n",
       "      <td>0.000000</td>\n",
       "      <td>7.895800</td>\n",
       "    </tr>\n",
       "    <tr>\n",
       "      <th>50%</th>\n",
       "      <td>0.000000</td>\n",
       "      <td>3.000000</td>\n",
       "      <td>26.000000</td>\n",
       "      <td>0.000000</td>\n",
       "      <td>0.000000</td>\n",
       "      <td>14.454200</td>\n",
       "    </tr>\n",
       "    <tr>\n",
       "      <th>75%</th>\n",
       "      <td>1.000000</td>\n",
       "      <td>3.000000</td>\n",
       "      <td>36.500000</td>\n",
       "      <td>1.000000</td>\n",
       "      <td>0.000000</td>\n",
       "      <td>31.000000</td>\n",
       "    </tr>\n",
       "    <tr>\n",
       "      <th>max</th>\n",
       "      <td>1.000000</td>\n",
       "      <td>3.000000</td>\n",
       "      <td>80.000000</td>\n",
       "      <td>8.000000</td>\n",
       "      <td>6.000000</td>\n",
       "      <td>512.329200</td>\n",
       "    </tr>\n",
       "  </tbody>\n",
       "</table>\n",
       "</div>"
      ],
      "text/plain": [
       "         Survived      Pclass         Age       SibSp       Parch        Fare\n",
       "count  889.000000  889.000000  889.000000  889.000000  889.000000  889.000000\n",
       "mean     0.382452    2.311586   29.019314    0.524184    0.382452   32.096681\n",
       "std      0.486260    0.834700   13.209814    1.103705    0.806761   49.697504\n",
       "min      0.000000    1.000000    0.420000    0.000000    0.000000    0.000000\n",
       "25%      0.000000    2.000000   22.000000    0.000000    0.000000    7.895800\n",
       "50%      0.000000    3.000000   26.000000    0.000000    0.000000   14.454200\n",
       "75%      1.000000    3.000000   36.500000    1.000000    0.000000   31.000000\n",
       "max      1.000000    3.000000   80.000000    8.000000    6.000000  512.329200"
      ]
     },
     "execution_count": 23,
     "metadata": {},
     "output_type": "execute_result"
    }
   ],
   "source": [
    "df.describe()"
   ]
  },
  {
   "cell_type": "code",
   "execution_count": 24,
   "metadata": {},
   "outputs": [
    {
     "data": {
      "text/plain": [
       "array([0, 1], dtype=int64)"
      ]
     },
     "execution_count": 24,
     "metadata": {},
     "output_type": "execute_result"
    }
   ],
   "source": [
    "df['Survived'].unique()"
   ]
  },
  {
   "cell_type": "code",
   "execution_count": 25,
   "metadata": {},
   "outputs": [
    {
     "data": {
      "text/plain": [
       "male      577\n",
       "female    312\n",
       "Name: Sex, dtype: int64"
      ]
     },
     "execution_count": 25,
     "metadata": {},
     "output_type": "execute_result"
    }
   ],
   "source": [
    "df['Sex'].value_counts()"
   ]
  },
  {
   "cell_type": "code",
   "execution_count": 26,
   "metadata": {},
   "outputs": [
    {
     "data": {
      "text/plain": [
       "S    644\n",
       "C    168\n",
       "Q     77\n",
       "Name: Embarked, dtype: int64"
      ]
     },
     "execution_count": 26,
     "metadata": {},
     "output_type": "execute_result"
    }
   ],
   "source": [
    "df['Embarked'].value_counts()"
   ]
  },
  {
   "cell_type": "markdown",
   "metadata": {},
   "source": [
    "### checking for outliers"
   ]
  },
  {
   "cell_type": "code",
   "execution_count": 27,
   "metadata": {},
   "outputs": [
    {
     "data": {
      "text/plain": [
       "array([[0.78696114, 0.82520863, 0.53167023, 0.43135024, 0.47432585,\n",
       "        0.50023975],\n",
       "       [1.27071078, 1.57221121, 0.68023223, 0.43135024, 0.47432585,\n",
       "        0.78894661],\n",
       "       [1.27071078, 0.82520863, 0.22869462, 0.47519908, 0.47432585,\n",
       "        0.48664993],\n",
       "       ...,\n",
       "       [0.78696114, 0.82520863, 0.38018243, 0.43135024, 2.00611934,\n",
       "        0.17408416],\n",
       "       [1.27071078, 1.57221121, 0.22869462, 0.47519908, 0.47432585,\n",
       "        0.0422126 ],\n",
       "       [0.78696114, 0.82520863, 0.22576881, 0.47519908, 0.47432585,\n",
       "        0.49017322]])"
      ]
     },
     "execution_count": 27,
     "metadata": {},
     "output_type": "execute_result"
    }
   ],
   "source": [
    "\n",
    "zScores=np.abs(zscore(df.drop(['Sex','Embarked'],axis=1)))\n",
    "zScores"
   ]
  },
  {
   "cell_type": "code",
   "execution_count": 28,
   "metadata": {},
   "outputs": [
    {
     "data": {
      "text/plain": [
       "array([ True,  True,  True,  True,  True,  True,  True,  True,  True,\n",
       "        True,  True,  True,  True, False,  True,  True, False,  True,\n",
       "        True,  True,  True,  True,  True,  True,  True, False,  True,\n",
       "       False,  True,  True,  True,  True,  True,  True,  True,  True,\n",
       "        True,  True,  True,  True,  True,  True,  True,  True,  True,\n",
       "        True,  True,  True,  True,  True, False,  True,  True,  True,\n",
       "        True,  True,  True,  True,  True, False,  True,  True,  True,\n",
       "        True,  True,  True,  True, False,  True,  True, False,  True,\n",
       "        True,  True,  True,  True,  True,  True,  True,  True,  True,\n",
       "        True,  True,  True,  True, False,  True, False,  True,  True,\n",
       "        True,  True,  True,  True,  True, False,  True,  True,  True,\n",
       "        True,  True,  True,  True,  True,  True,  True,  True,  True,\n",
       "        True,  True,  True,  True,  True,  True,  True, False,  True,\n",
       "       False, False,  True,  True,  True,  True,  True,  True,  True,\n",
       "        True,  True,  True,  True,  True,  True,  True,  True,  True,\n",
       "        True,  True,  True,  True,  True,  True,  True,  True,  True,\n",
       "        True,  True,  True,  True,  True,  True,  True,  True,  True,\n",
       "        True,  True,  True,  True,  True, False,  True,  True,  True,\n",
       "        True, False,  True,  True, False,  True,  True,  True, False,\n",
       "        True,  True,  True,  True,  True,  True,  True,  True, False,\n",
       "        True, False,  True,  True,  True,  True,  True,  True,  True,\n",
       "        True,  True,  True,  True,  True,  True,  True,  True,  True,\n",
       "        True,  True, False,  True,  True,  True,  True,  True,  True,\n",
       "        True,  True,  True,  True,  True,  True,  True,  True,  True,\n",
       "        True,  True,  True,  True,  True,  True,  True,  True,  True,\n",
       "        True,  True,  True,  True,  True,  True,  True, False,  True,\n",
       "        True,  True,  True,  True,  True,  True,  True,  True,  True,\n",
       "        True,  True,  True,  True,  True,  True,  True,  True,  True,\n",
       "        True,  True,  True,  True,  True, False,  True,  True, False,\n",
       "        True,  True,  True,  True, False,  True,  True,  True,  True,\n",
       "        True,  True,  True,  True,  True,  True,  True, False,  True,\n",
       "        True,  True,  True,  True,  True,  True,  True,  True,  True,\n",
       "        True,  True,  True,  True,  True,  True,  True,  True,  True,\n",
       "        True, False,  True,  True,  True,  True,  True,  True,  True,\n",
       "        True,  True,  True,  True, False,  True,  True,  True,  True,\n",
       "        True,  True,  True,  True,  True,  True,  True,  True, False,\n",
       "        True,  True,  True,  True,  True,  True,  True,  True,  True,\n",
       "        True,  True,  True,  True,  True,  True,  True, False,  True,\n",
       "        True,  True,  True,  True,  True,  True,  True,  True,  True,\n",
       "        True,  True,  True,  True,  True,  True,  True,  True, False,\n",
       "        True,  True,  True,  True,  True,  True,  True,  True,  True,\n",
       "        True,  True,  True,  True,  True,  True,  True, False,  True,\n",
       "        True, False,  True,  True,  True,  True,  True, False,  True,\n",
       "        True,  True,  True,  True,  True,  True,  True,  True,  True,\n",
       "        True,  True,  True,  True,  True,  True,  True,  True,  True,\n",
       "        True,  True,  True,  True,  True,  True,  True,  True,  True,\n",
       "        True,  True,  True,  True,  True,  True,  True,  True,  True,\n",
       "        True,  True,  True,  True,  True,  True,  True,  True,  True,\n",
       "        True,  True,  True,  True, False, False,  True,  True,  True,\n",
       "        True,  True,  True,  True,  True,  True,  True,  True,  True,\n",
       "        True,  True,  True,  True,  True,  True,  True,  True,  True,\n",
       "        True,  True,  True,  True,  True,  True,  True,  True,  True,\n",
       "        True,  True,  True,  True,  True,  True,  True,  True,  True,\n",
       "        True,  True, False,  True,  True,  True,  True,  True,  True,\n",
       "        True,  True,  True,  True,  True,  True, False,  True,  True,\n",
       "        True,  True,  True,  True,  True,  True,  True,  True,  True,\n",
       "        True,  True,  True,  True,  True,  True,  True,  True,  True,\n",
       "        True,  True,  True,  True,  True,  True,  True,  True,  True,\n",
       "        True,  True,  True,  True, False,  True,  True,  True,  True,\n",
       "        True,  True,  True,  True,  True,  True,  True,  True,  True,\n",
       "       False, False,  True,  True,  True,  True,  True,  True,  True,\n",
       "        True,  True,  True,  True,  True,  True,  True, False,  True,\n",
       "        True,  True,  True,  True,  True,  True,  True,  True, False,\n",
       "        True,  True,  True,  True,  True,  True,  True,  True,  True,\n",
       "        True,  True,  True,  True,  True,  True,  True,  True,  True,\n",
       "        True,  True,  True,  True,  True,  True,  True,  True,  True,\n",
       "        True,  True,  True,  True,  True,  True,  True,  True,  True,\n",
       "        True,  True,  True,  True,  True,  True, False,  True,  True,\n",
       "        True,  True,  True,  True,  True,  True,  True,  True,  True,\n",
       "        True,  True,  True,  True,  True,  True,  True,  True, False,\n",
       "        True,  True,  True,  True,  True,  True,  True, False,  True,\n",
       "        True,  True,  True,  True,  True,  True,  True,  True,  True,\n",
       "        True,  True,  True,  True,  True,  True,  True,  True,  True,\n",
       "        True,  True,  True,  True,  True,  True,  True,  True,  True,\n",
       "        True,  True,  True,  True,  True, False,  True,  True,  True,\n",
       "        True,  True, False, False,  True,  True,  True, False,  True,\n",
       "        True, False,  True,  True, False,  True,  True,  True,  True,\n",
       "        True,  True,  True,  True,  True,  True, False,  True,  True,\n",
       "        True,  True,  True,  True,  True,  True,  True,  True,  True,\n",
       "        True,  True,  True,  True, False,  True,  True,  True,  True,\n",
       "        True,  True,  True,  True,  True,  True,  True,  True,  True,\n",
       "       False,  True,  True,  True,  True,  True, False, False,  True,\n",
       "        True,  True,  True, False,  True,  True, False,  True,  True,\n",
       "        True,  True,  True,  True,  True,  True,  True,  True,  True,\n",
       "        True,  True,  True,  True,  True,  True,  True,  True,  True,\n",
       "        True,  True,  True,  True,  True,  True,  True,  True, False,\n",
       "        True,  True,  True,  True, False,  True,  True,  True,  True,\n",
       "        True,  True,  True, False,  True,  True,  True,  True, False,\n",
       "        True,  True,  True,  True,  True,  True,  True,  True,  True,\n",
       "        True,  True,  True,  True,  True,  True,  True,  True,  True,\n",
       "        True,  True, False,  True,  True,  True,  True,  True,  True,\n",
       "        True,  True,  True,  True, False,  True,  True,  True,  True,\n",
       "        True,  True,  True,  True,  True,  True,  True,  True,  True,\n",
       "        True,  True,  True,  True,  True,  True,  True, False,  True,\n",
       "        True,  True, False, False,  True,  True,  True,  True,  True,\n",
       "        True, False,  True,  True,  True,  True, False,  True,  True,\n",
       "        True,  True,  True,  True,  True,  True,  True,  True,  True,\n",
       "        True,  True,  True,  True,  True,  True,  True,  True,  True,\n",
       "        True, False,  True,  True,  True,  True,  True])"
      ]
     },
     "execution_count": 28,
     "metadata": {},
     "output_type": "execute_result"
    }
   ],
   "source": [
    "filteredEntries=(zScores<3).all(axis=1)\n",
    "filteredEntries"
   ]
  },
  {
   "cell_type": "code",
   "execution_count": 29,
   "metadata": {},
   "outputs": [
    {
     "data": {
      "text/plain": [
       "818"
      ]
     },
     "execution_count": 29,
     "metadata": {},
     "output_type": "execute_result"
    }
   ],
   "source": [
    "np.sum(filteredEntries)"
   ]
  },
  {
   "cell_type": "code",
   "execution_count": 30,
   "metadata": {},
   "outputs": [
    {
     "data": {
      "text/plain": [
       "0.0798650168728909"
      ]
     },
     "execution_count": 30,
     "metadata": {},
     "output_type": "execute_result"
    }
   ],
   "source": [
    "(889 -818)/889"
   ]
  },
  {
   "cell_type": "markdown",
   "metadata": {},
   "source": [
    "only 7% of data are outliers So removing them."
   ]
  },
  {
   "cell_type": "code",
   "execution_count": 31,
   "metadata": {},
   "outputs": [
    {
     "data": {
      "text/html": [
       "<div>\n",
       "<style scoped>\n",
       "    .dataframe tbody tr th:only-of-type {\n",
       "        vertical-align: middle;\n",
       "    }\n",
       "\n",
       "    .dataframe tbody tr th {\n",
       "        vertical-align: top;\n",
       "    }\n",
       "\n",
       "    .dataframe thead th {\n",
       "        text-align: right;\n",
       "    }\n",
       "</style>\n",
       "<table border=\"1\" class=\"dataframe\">\n",
       "  <thead>\n",
       "    <tr style=\"text-align: right;\">\n",
       "      <th></th>\n",
       "      <th>Survived</th>\n",
       "      <th>Pclass</th>\n",
       "      <th>Sex</th>\n",
       "      <th>Age</th>\n",
       "      <th>SibSp</th>\n",
       "      <th>Parch</th>\n",
       "      <th>Fare</th>\n",
       "      <th>Embarked</th>\n",
       "    </tr>\n",
       "  </thead>\n",
       "  <tbody>\n",
       "    <tr>\n",
       "      <th>0</th>\n",
       "      <td>0</td>\n",
       "      <td>3</td>\n",
       "      <td>male</td>\n",
       "      <td>22.0</td>\n",
       "      <td>1</td>\n",
       "      <td>0</td>\n",
       "      <td>7.2500</td>\n",
       "      <td>S</td>\n",
       "    </tr>\n",
       "    <tr>\n",
       "      <th>1</th>\n",
       "      <td>1</td>\n",
       "      <td>1</td>\n",
       "      <td>female</td>\n",
       "      <td>38.0</td>\n",
       "      <td>1</td>\n",
       "      <td>0</td>\n",
       "      <td>71.2833</td>\n",
       "      <td>C</td>\n",
       "    </tr>\n",
       "    <tr>\n",
       "      <th>2</th>\n",
       "      <td>1</td>\n",
       "      <td>3</td>\n",
       "      <td>female</td>\n",
       "      <td>26.0</td>\n",
       "      <td>0</td>\n",
       "      <td>0</td>\n",
       "      <td>7.9250</td>\n",
       "      <td>S</td>\n",
       "    </tr>\n",
       "    <tr>\n",
       "      <th>3</th>\n",
       "      <td>1</td>\n",
       "      <td>1</td>\n",
       "      <td>female</td>\n",
       "      <td>35.0</td>\n",
       "      <td>1</td>\n",
       "      <td>0</td>\n",
       "      <td>53.1000</td>\n",
       "      <td>S</td>\n",
       "    </tr>\n",
       "    <tr>\n",
       "      <th>4</th>\n",
       "      <td>0</td>\n",
       "      <td>3</td>\n",
       "      <td>male</td>\n",
       "      <td>35.0</td>\n",
       "      <td>0</td>\n",
       "      <td>0</td>\n",
       "      <td>8.0500</td>\n",
       "      <td>S</td>\n",
       "    </tr>\n",
       "    <tr>\n",
       "      <th>...</th>\n",
       "      <td>...</td>\n",
       "      <td>...</td>\n",
       "      <td>...</td>\n",
       "      <td>...</td>\n",
       "      <td>...</td>\n",
       "      <td>...</td>\n",
       "      <td>...</td>\n",
       "      <td>...</td>\n",
       "    </tr>\n",
       "    <tr>\n",
       "      <th>886</th>\n",
       "      <td>0</td>\n",
       "      <td>2</td>\n",
       "      <td>male</td>\n",
       "      <td>27.0</td>\n",
       "      <td>0</td>\n",
       "      <td>0</td>\n",
       "      <td>13.0000</td>\n",
       "      <td>S</td>\n",
       "    </tr>\n",
       "    <tr>\n",
       "      <th>887</th>\n",
       "      <td>1</td>\n",
       "      <td>1</td>\n",
       "      <td>female</td>\n",
       "      <td>19.0</td>\n",
       "      <td>0</td>\n",
       "      <td>0</td>\n",
       "      <td>30.0000</td>\n",
       "      <td>S</td>\n",
       "    </tr>\n",
       "    <tr>\n",
       "      <th>888</th>\n",
       "      <td>0</td>\n",
       "      <td>3</td>\n",
       "      <td>female</td>\n",
       "      <td>24.0</td>\n",
       "      <td>1</td>\n",
       "      <td>2</td>\n",
       "      <td>23.4500</td>\n",
       "      <td>S</td>\n",
       "    </tr>\n",
       "    <tr>\n",
       "      <th>889</th>\n",
       "      <td>1</td>\n",
       "      <td>1</td>\n",
       "      <td>male</td>\n",
       "      <td>26.0</td>\n",
       "      <td>0</td>\n",
       "      <td>0</td>\n",
       "      <td>30.0000</td>\n",
       "      <td>C</td>\n",
       "    </tr>\n",
       "    <tr>\n",
       "      <th>890</th>\n",
       "      <td>0</td>\n",
       "      <td>3</td>\n",
       "      <td>male</td>\n",
       "      <td>32.0</td>\n",
       "      <td>0</td>\n",
       "      <td>0</td>\n",
       "      <td>7.7500</td>\n",
       "      <td>Q</td>\n",
       "    </tr>\n",
       "  </tbody>\n",
       "</table>\n",
       "<p>818 rows × 8 columns</p>\n",
       "</div>"
      ],
      "text/plain": [
       "     Survived  Pclass     Sex   Age  SibSp  Parch     Fare Embarked\n",
       "0           0       3    male  22.0      1      0   7.2500        S\n",
       "1           1       1  female  38.0      1      0  71.2833        C\n",
       "2           1       3  female  26.0      0      0   7.9250        S\n",
       "3           1       1  female  35.0      1      0  53.1000        S\n",
       "4           0       3    male  35.0      0      0   8.0500        S\n",
       "..        ...     ...     ...   ...    ...    ...      ...      ...\n",
       "886         0       2    male  27.0      0      0  13.0000        S\n",
       "887         1       1  female  19.0      0      0  30.0000        S\n",
       "888         0       3  female  24.0      1      2  23.4500        S\n",
       "889         1       1    male  26.0      0      0  30.0000        C\n",
       "890         0       3    male  32.0      0      0   7.7500        Q\n",
       "\n",
       "[818 rows x 8 columns]"
      ]
     },
     "execution_count": 31,
     "metadata": {},
     "output_type": "execute_result"
    }
   ],
   "source": [
    "df[filteredEntries]"
   ]
  },
  {
   "cell_type": "markdown",
   "metadata": {},
   "source": [
    "### EDA"
   ]
  },
  {
   "cell_type": "code",
   "execution_count": 66,
   "metadata": {},
   "outputs": [
    {
     "data": {
      "text/plain": [
       "<AxesSubplot:xlabel='Age', ylabel='Fare'>"
      ]
     },
     "execution_count": 66,
     "metadata": {},
     "output_type": "execute_result"
    },
    {
     "data": {
      "image/png": "[encoded data removed]",
      "text/plain": [
       "<Figure size 432x288 with 1 Axes>"
      ]
     },
     "metadata": {
      "needs_background": "light"
     },
     "output_type": "display_data"
    }
   ],
   "source": [
    "sns.scatterplot(data=df,x='Age',y='Fare',hue='Survived')"
   ]
  },
  {
   "cell_type": "code",
   "execution_count": 68,
   "metadata": {},
   "outputs": [
    {
     "data": {
      "text/plain": [
       "<AxesSubplot:xlabel='Age', ylabel='Survived'>"
      ]
     },
     "execution_count": 68,
     "metadata": {},
     "output_type": "execute_result"
    },
    {
     "data": {
      "image/png": "[encoded data removed]",
      "text/plain": [
       "<Figure size 432x288 with 1 Axes>"
      ]
     },
     "metadata": {
      "needs_background": "light"
     },
     "output_type": "display_data"
    }
   ],
   "source": [
    "sns.scatterplot(data=df,x='Age',y='Survived',hue='Survived')"
   ]
  },
  {
   "cell_type": "code",
   "execution_count": 69,
   "metadata": {},
   "outputs": [
    {
     "data": {
      "text/plain": [
       "<AxesSubplot:xlabel='Age', ylabel='Pclass'>"
      ]
     },
     "execution_count": 69,
     "metadata": {},
     "output_type": "execute_result"
    },
    {
     "data": {
      "image/png": "[encoded data removed]",
      "text/plain": [
       "<Figure size 432x288 with 1 Axes>"
      ]
     },
     "metadata": {
      "needs_background": "light"
     },
     "output_type": "display_data"
    }
   ],
   "source": [
    "sns.scatterplot(data=df,x='Age',y='Pclass',hue='Survived')"
   ]
  },
  {
   "cell_type": "code",
   "execution_count": 32,
   "metadata": {},
   "outputs": [
    {
     "data": {
      "text/plain": [
       "<AxesSubplot:xlabel='Survived', ylabel='count'>"
      ]
     },
     "execution_count": 32,
     "metadata": {},
     "output_type": "execute_result"
    },
    {
     "data": {
      "image/png": "[encoded data removed]",
      "text/plain": [
       "<Figure size 432x288 with 1 Axes>"
      ]
     },
     "metadata": {
      "needs_background": "light"
     },
     "output_type": "display_data"
    }
   ],
   "source": [
    "sns.countplot(x='Survived',data=df)"
   ]
  },
  {
   "cell_type": "code",
   "execution_count": 33,
   "metadata": {},
   "outputs": [
    {
     "data": {
      "text/plain": [
       "0    549\n",
       "1    340\n",
       "Name: Survived, dtype: int64"
      ]
     },
     "execution_count": 33,
     "metadata": {},
     "output_type": "execute_result"
    }
   ],
   "source": [
    "df['Survived'].value_counts()"
   ]
  },
  {
   "cell_type": "code",
   "execution_count": 34,
   "metadata": {},
   "outputs": [
    {
     "data": {
      "text/plain": [
       "889"
      ]
     },
     "execution_count": 34,
     "metadata": {},
     "output_type": "execute_result"
    }
   ],
   "source": [
    "len(df)"
   ]
  },
  {
   "cell_type": "code",
   "execution_count": 35,
   "metadata": {},
   "outputs": [
    {
     "data": {
      "text/plain": [
       "38.24521934758155"
      ]
     },
     "execution_count": 35,
     "metadata": {},
     "output_type": "execute_result"
    }
   ],
   "source": [
    "(340/889)*100"
   ]
  },
  {
   "cell_type": "code",
   "execution_count": 36,
   "metadata": {},
   "outputs": [
    {
     "data": {
      "text/plain": [
       "61.754780652418454"
      ]
     },
     "execution_count": 36,
     "metadata": {},
     "output_type": "execute_result"
    }
   ],
   "source": [
    "(549/889)*100"
   ]
  },
  {
   "cell_type": "markdown",
   "metadata": {},
   "source": [
    "The data is split into 39:61 , almost balanced so need not balance the data"
   ]
  },
  {
   "cell_type": "code",
   "execution_count": 37,
   "metadata": {},
   "outputs": [
    {
     "data": {
      "text/plain": [
       "<AxesSubplot:xlabel='Sex', ylabel='count'>"
      ]
     },
     "execution_count": 37,
     "metadata": {},
     "output_type": "execute_result"
    },
    {
     "data": {
      "image/png": "[encoded data removed]",
      "text/plain": [
       "<Figure size 432x288 with 1 Axes>"
      ]
     },
     "metadata": {
      "needs_background": "light"
     },
     "output_type": "display_data"
    }
   ],
   "source": [
    "sns.countplot(x='Sex',data=df)"
   ]
  },
  {
   "cell_type": "code",
   "execution_count": 38,
   "metadata": {},
   "outputs": [
    {
     "data": {
      "text/plain": [
       "Index(['Survived', 'Pclass', 'Sex', 'Age', 'SibSp', 'Parch', 'Fare',\n",
       "       'Embarked'],\n",
       "      dtype='object')"
      ]
     },
     "execution_count": 38,
     "metadata": {},
     "output_type": "execute_result"
    }
   ],
   "source": [
    "df.columns"
   ]
  },
  {
   "cell_type": "code",
   "execution_count": 39,
   "metadata": {},
   "outputs": [
    {
     "data": {
      "text/plain": [
       "<AxesSubplot:xlabel='Pclass', ylabel='Age'>"
      ]
     },
     "execution_count": 39,
     "metadata": {},
     "output_type": "execute_result"
    },
    {
     "data": {
      "image/png": "[encoded data removed]",
      "text/plain": [
       "<Figure size 432x288 with 1 Axes>"
      ]
     },
     "metadata": {
      "needs_background": "light"
     },
     "output_type": "display_data"
    }
   ],
   "source": [
    "sns.boxplot(x='Pclass',y='Age',data=df,palette='rainbow')"
   ]
  },
  {
   "cell_type": "code",
   "execution_count": 40,
   "metadata": {},
   "outputs": [
    {
     "data": {
      "text/plain": [
       "Index(['Survived', 'Pclass', 'Sex', 'Age', 'SibSp', 'Parch', 'Fare',\n",
       "       'Embarked'],\n",
       "      dtype='object')"
      ]
     },
     "execution_count": 40,
     "metadata": {},
     "output_type": "execute_result"
    }
   ],
   "source": [
    "df.columns"
   ]
  },
  {
   "cell_type": "code",
   "execution_count": 41,
   "metadata": {},
   "outputs": [],
   "source": [
    "numericCols=['Pclass','Age','SibSp','Parch','Fare']"
   ]
  },
  {
   "cell_type": "code",
   "execution_count": 42,
   "metadata": {},
   "outputs": [
    {
     "data": {
      "image/png": "[encoded data removed]",
      "text/plain": [
       "<Figure size 720x432 with 1 Axes>"
      ]
     },
     "metadata": {
      "needs_background": "light"
     },
     "output_type": "display_data"
    },
    {
     "data": {
      "image/png": "[encoded data removed]",
      "text/plain": [
       "<Figure size 720x432 with 1 Axes>"
      ]
     },
     "metadata": {
      "needs_background": "light"
     },
     "output_type": "display_data"
    },
    {
     "data": {
      "image/png": "[encoded data removed]",
      "text/plain": [
       "<Figure size 720x432 with 1 Axes>"
      ]
     },
     "metadata": {
      "needs_background": "light"
     },
     "output_type": "display_data"
    },
    {
     "data": {
      "image/png": "[encoded data removed]",
      "text/plain": [
       "<Figure size 720x432 with 1 Axes>"
      ]
     },
     "metadata": {
      "needs_background": "light"
     },
     "output_type": "display_data"
    },
    {
     "data": {
      "image/png": "[encoded data removed]",
      "text/plain": [
       "<Figure size 720x432 with 1 Axes>"
      ]
     },
     "metadata": {
      "needs_background": "light"
     },
     "output_type": "display_data"
    }
   ],
   "source": [
    "for x in numericCols:\n",
    "    fig = plt.figure(figsize = (10,6))\n",
    "    sns.distplot(df[x])"
   ]
  },
  {
   "cell_type": "markdown",
   "metadata": {},
   "source": [
    "Most Of the features here are skewed"
   ]
  },
  {
   "cell_type": "markdown",
   "metadata": {},
   "source": [
    "## checking the skewness values"
   ]
  },
  {
   "cell_type": "code",
   "execution_count": 43,
   "metadata": {},
   "outputs": [
    {
     "name": "stdout",
     "output_type": "stream",
     "text": [
      "Pclass -0.6369977585999191\n",
      "Age 0.5467175424666029\n",
      "SibSp 3.6910576308362284\n",
      "Parch 2.74516012611158\n",
      "Fare 4.801440211044194\n"
     ]
    }
   ],
   "source": [
    "for column in numericCols:\n",
    "    print(column , df[column].skew())"
   ]
  },
  {
   "cell_type": "markdown",
   "metadata": {},
   "source": [
    "Removing the skewness for SibSp,Parch,Fare"
   ]
  },
  {
   "cell_type": "code",
   "execution_count": 44,
   "metadata": {},
   "outputs": [],
   "source": [
    "skewedColumns=['SibSp','Parch','Fare']"
   ]
  },
  {
   "cell_type": "code",
   "execution_count": 45,
   "metadata": {},
   "outputs": [],
   "source": [
    "def min_skewness(colu):\n",
    "    min_Skew=np.abs(df[colu].skew())\n",
    "    print(\"initial\",min_Skew)\n",
    "    \n",
    "    box_col_Skew=10\n",
    "    min_SkewType=\"\"\n",
    "    log_col=np.log(df[colu])\n",
    "    sqrt_col=np.sqrt(df[colu])\n",
    "    try:\n",
    "        box_col=stats.boxcox(df[colu])[0]\n",
    "        box_col_Skew=np.abs(pd.Series(box_col).skew())\n",
    "        print(box_col_Skew)\n",
    "\n",
    "    except ValueError:\n",
    "        print(\"hi\")\n",
    "    \n",
    "    log_col_Skew=np.abs(log_col.skew())\n",
    "    sqrt_col_Skew=np.abs(sqrt_col.skew())\n",
    "    \n",
    "    print(log_col_Skew)\n",
    "    print(sqrt_col_Skew)\n",
    "    \n",
    "    if log_col_Skew<min_Skew:\n",
    "        min_SkewType=\"log\"\n",
    "        min_Skew=log_col_Skew\n",
    "    if sqrt_col_Skew<min_Skew:\n",
    "        min_SkewType=\"sqrt\"\n",
    "        min_Skew=sqrt_col_Skew\n",
    "    if box_col_Skew<min_Skew:\n",
    "        min_SkewType=\"box\"\n",
    "        min_Skew=box_col_Skew\n",
    "    print(min_Skew)\n",
    "    print(column,\"=\",min_SkewType)"
   ]
  },
  {
   "cell_type": "code",
   "execution_count": 46,
   "metadata": {},
   "outputs": [
    {
     "name": "stdout",
     "output_type": "stream",
     "text": [
      "SibSp\n",
      "initial 3.6910576308362284\n",
      "hi\n",
      "nan\n",
      "1.4331479153470184\n",
      "1.4331479153470184\n",
      "SibSp = sqrt\n",
      "====================\n",
      "Parch\n",
      "initial 2.74516012611158\n",
      "hi\n",
      "nan\n",
      "1.526297876780584\n",
      "1.526297876780584\n",
      "Parch = sqrt\n",
      "====================\n",
      "Fare\n",
      "initial 4.801440211044194\n",
      "hi\n",
      "nan\n",
      "2.0996611285066007\n",
      "2.0996611285066007\n",
      "Fare = sqrt\n",
      "====================\n"
     ]
    }
   ],
   "source": [
    "for column in skewedColumns:\n",
    "    print(column)\n",
    "    min_skewness(column)\n",
    "    print(\"=\"*20)"
   ]
  },
  {
   "cell_type": "markdown",
   "metadata": {},
   "source": [
    "### Sqrt for SibSp, Parch, Fare"
   ]
  },
  {
   "cell_type": "code",
   "execution_count": 47,
   "metadata": {},
   "outputs": [],
   "source": [
    "df['SibSp']= np.sqrt(df['SibSp'])\n",
    "df['Parch']=  np.sqrt(df['Parch'])\n",
    "df['Fare']=  np.sqrt(df['Fare'])\n"
   ]
  },
  {
   "cell_type": "code",
   "execution_count": 48,
   "metadata": {},
   "outputs": [
    {
     "name": "stdout",
     "output_type": "stream",
     "text": [
      "Pclass -0.6369977585999191\n",
      "Age 0.5467175424666029\n",
      "SibSp 1.4331479153470184\n",
      "Parch 1.526297876780584\n",
      "Fare 2.0996611285066007\n"
     ]
    }
   ],
   "source": [
    "for column in numericCols:\n",
    "    print(column , df[column].skew())"
   ]
  },
  {
   "cell_type": "code",
   "execution_count": 49,
   "metadata": {},
   "outputs": [
    {
     "data": {
      "text/html": [
       "<div>\n",
       "<style scoped>\n",
       "    .dataframe tbody tr th:only-of-type {\n",
       "        vertical-align: middle;\n",
       "    }\n",
       "\n",
       "    .dataframe tbody tr th {\n",
       "        vertical-align: top;\n",
       "    }\n",
       "\n",
       "    .dataframe thead th {\n",
       "        text-align: right;\n",
       "    }\n",
       "</style>\n",
       "<table border=\"1\" class=\"dataframe\">\n",
       "  <thead>\n",
       "    <tr style=\"text-align: right;\">\n",
       "      <th></th>\n",
       "      <th>Survived</th>\n",
       "      <th>Pclass</th>\n",
       "      <th>Sex</th>\n",
       "      <th>Age</th>\n",
       "      <th>SibSp</th>\n",
       "      <th>Parch</th>\n",
       "      <th>Fare</th>\n",
       "      <th>Embarked</th>\n",
       "    </tr>\n",
       "  </thead>\n",
       "  <tbody>\n",
       "    <tr>\n",
       "      <th>0</th>\n",
       "      <td>0</td>\n",
       "      <td>3</td>\n",
       "      <td>male</td>\n",
       "      <td>22.0</td>\n",
       "      <td>1.0</td>\n",
       "      <td>0.000000</td>\n",
       "      <td>2.692582</td>\n",
       "      <td>S</td>\n",
       "    </tr>\n",
       "    <tr>\n",
       "      <th>1</th>\n",
       "      <td>1</td>\n",
       "      <td>1</td>\n",
       "      <td>female</td>\n",
       "      <td>38.0</td>\n",
       "      <td>1.0</td>\n",
       "      <td>0.000000</td>\n",
       "      <td>8.442944</td>\n",
       "      <td>C</td>\n",
       "    </tr>\n",
       "    <tr>\n",
       "      <th>2</th>\n",
       "      <td>1</td>\n",
       "      <td>3</td>\n",
       "      <td>female</td>\n",
       "      <td>26.0</td>\n",
       "      <td>0.0</td>\n",
       "      <td>0.000000</td>\n",
       "      <td>2.815138</td>\n",
       "      <td>S</td>\n",
       "    </tr>\n",
       "    <tr>\n",
       "      <th>3</th>\n",
       "      <td>1</td>\n",
       "      <td>1</td>\n",
       "      <td>female</td>\n",
       "      <td>35.0</td>\n",
       "      <td>1.0</td>\n",
       "      <td>0.000000</td>\n",
       "      <td>7.286975</td>\n",
       "      <td>S</td>\n",
       "    </tr>\n",
       "    <tr>\n",
       "      <th>4</th>\n",
       "      <td>0</td>\n",
       "      <td>3</td>\n",
       "      <td>male</td>\n",
       "      <td>35.0</td>\n",
       "      <td>0.0</td>\n",
       "      <td>0.000000</td>\n",
       "      <td>2.837252</td>\n",
       "      <td>S</td>\n",
       "    </tr>\n",
       "    <tr>\n",
       "      <th>...</th>\n",
       "      <td>...</td>\n",
       "      <td>...</td>\n",
       "      <td>...</td>\n",
       "      <td>...</td>\n",
       "      <td>...</td>\n",
       "      <td>...</td>\n",
       "      <td>...</td>\n",
       "      <td>...</td>\n",
       "    </tr>\n",
       "    <tr>\n",
       "      <th>886</th>\n",
       "      <td>0</td>\n",
       "      <td>2</td>\n",
       "      <td>male</td>\n",
       "      <td>27.0</td>\n",
       "      <td>0.0</td>\n",
       "      <td>0.000000</td>\n",
       "      <td>3.605551</td>\n",
       "      <td>S</td>\n",
       "    </tr>\n",
       "    <tr>\n",
       "      <th>887</th>\n",
       "      <td>1</td>\n",
       "      <td>1</td>\n",
       "      <td>female</td>\n",
       "      <td>19.0</td>\n",
       "      <td>0.0</td>\n",
       "      <td>0.000000</td>\n",
       "      <td>5.477226</td>\n",
       "      <td>S</td>\n",
       "    </tr>\n",
       "    <tr>\n",
       "      <th>888</th>\n",
       "      <td>0</td>\n",
       "      <td>3</td>\n",
       "      <td>female</td>\n",
       "      <td>24.0</td>\n",
       "      <td>1.0</td>\n",
       "      <td>1.414214</td>\n",
       "      <td>4.842520</td>\n",
       "      <td>S</td>\n",
       "    </tr>\n",
       "    <tr>\n",
       "      <th>889</th>\n",
       "      <td>1</td>\n",
       "      <td>1</td>\n",
       "      <td>male</td>\n",
       "      <td>26.0</td>\n",
       "      <td>0.0</td>\n",
       "      <td>0.000000</td>\n",
       "      <td>5.477226</td>\n",
       "      <td>C</td>\n",
       "    </tr>\n",
       "    <tr>\n",
       "      <th>890</th>\n",
       "      <td>0</td>\n",
       "      <td>3</td>\n",
       "      <td>male</td>\n",
       "      <td>32.0</td>\n",
       "      <td>0.0</td>\n",
       "      <td>0.000000</td>\n",
       "      <td>2.783882</td>\n",
       "      <td>Q</td>\n",
       "    </tr>\n",
       "  </tbody>\n",
       "</table>\n",
       "<p>889 rows × 8 columns</p>\n",
       "</div>"
      ],
      "text/plain": [
       "     Survived  Pclass     Sex   Age  SibSp     Parch      Fare Embarked\n",
       "0           0       3    male  22.0    1.0  0.000000  2.692582        S\n",
       "1           1       1  female  38.0    1.0  0.000000  8.442944        C\n",
       "2           1       3  female  26.0    0.0  0.000000  2.815138        S\n",
       "3           1       1  female  35.0    1.0  0.000000  7.286975        S\n",
       "4           0       3    male  35.0    0.0  0.000000  2.837252        S\n",
       "..        ...     ...     ...   ...    ...       ...       ...      ...\n",
       "886         0       2    male  27.0    0.0  0.000000  3.605551        S\n",
       "887         1       1  female  19.0    0.0  0.000000  5.477226        S\n",
       "888         0       3  female  24.0    1.0  1.414214  4.842520        S\n",
       "889         1       1    male  26.0    0.0  0.000000  5.477226        C\n",
       "890         0       3    male  32.0    0.0  0.000000  2.783882        Q\n",
       "\n",
       "[889 rows x 8 columns]"
      ]
     },
     "execution_count": 49,
     "metadata": {},
     "output_type": "execute_result"
    }
   ],
   "source": [
    "df"
   ]
  },
  {
   "cell_type": "code",
   "execution_count": 52,
   "metadata": {},
   "outputs": [
    {
     "data": {
      "text/html": [
       "<div>\n",
       "<style scoped>\n",
       "    .dataframe tbody tr th:only-of-type {\n",
       "        vertical-align: middle;\n",
       "    }\n",
       "\n",
       "    .dataframe tbody tr th {\n",
       "        vertical-align: top;\n",
       "    }\n",
       "\n",
       "    .dataframe thead th {\n",
       "        text-align: right;\n",
       "    }\n",
       "</style>\n",
       "<table border=\"1\" class=\"dataframe\">\n",
       "  <thead>\n",
       "    <tr style=\"text-align: right;\">\n",
       "      <th></th>\n",
       "      <th>Survived</th>\n",
       "      <th>Pclass</th>\n",
       "      <th>Age</th>\n",
       "      <th>SibSp</th>\n",
       "      <th>Parch</th>\n",
       "      <th>Fare</th>\n",
       "      <th>Sex_male</th>\n",
       "      <th>Embarked_Q</th>\n",
       "      <th>Embarked_S</th>\n",
       "    </tr>\n",
       "  </thead>\n",
       "  <tbody>\n",
       "    <tr>\n",
       "      <th>0</th>\n",
       "      <td>0</td>\n",
       "      <td>3</td>\n",
       "      <td>22.0</td>\n",
       "      <td>1.0</td>\n",
       "      <td>0.000000</td>\n",
       "      <td>2.692582</td>\n",
       "      <td>1</td>\n",
       "      <td>0</td>\n",
       "      <td>1</td>\n",
       "    </tr>\n",
       "    <tr>\n",
       "      <th>1</th>\n",
       "      <td>1</td>\n",
       "      <td>1</td>\n",
       "      <td>38.0</td>\n",
       "      <td>1.0</td>\n",
       "      <td>0.000000</td>\n",
       "      <td>8.442944</td>\n",
       "      <td>0</td>\n",
       "      <td>0</td>\n",
       "      <td>0</td>\n",
       "    </tr>\n",
       "    <tr>\n",
       "      <th>2</th>\n",
       "      <td>1</td>\n",
       "      <td>3</td>\n",
       "      <td>26.0</td>\n",
       "      <td>0.0</td>\n",
       "      <td>0.000000</td>\n",
       "      <td>2.815138</td>\n",
       "      <td>0</td>\n",
       "      <td>0</td>\n",
       "      <td>1</td>\n",
       "    </tr>\n",
       "    <tr>\n",
       "      <th>3</th>\n",
       "      <td>1</td>\n",
       "      <td>1</td>\n",
       "      <td>35.0</td>\n",
       "      <td>1.0</td>\n",
       "      <td>0.000000</td>\n",
       "      <td>7.286975</td>\n",
       "      <td>0</td>\n",
       "      <td>0</td>\n",
       "      <td>1</td>\n",
       "    </tr>\n",
       "    <tr>\n",
       "      <th>4</th>\n",
       "      <td>0</td>\n",
       "      <td>3</td>\n",
       "      <td>35.0</td>\n",
       "      <td>0.0</td>\n",
       "      <td>0.000000</td>\n",
       "      <td>2.837252</td>\n",
       "      <td>1</td>\n",
       "      <td>0</td>\n",
       "      <td>1</td>\n",
       "    </tr>\n",
       "    <tr>\n",
       "      <th>...</th>\n",
       "      <td>...</td>\n",
       "      <td>...</td>\n",
       "      <td>...</td>\n",
       "      <td>...</td>\n",
       "      <td>...</td>\n",
       "      <td>...</td>\n",
       "      <td>...</td>\n",
       "      <td>...</td>\n",
       "      <td>...</td>\n",
       "    </tr>\n",
       "    <tr>\n",
       "      <th>886</th>\n",
       "      <td>0</td>\n",
       "      <td>2</td>\n",
       "      <td>27.0</td>\n",
       "      <td>0.0</td>\n",
       "      <td>0.000000</td>\n",
       "      <td>3.605551</td>\n",
       "      <td>1</td>\n",
       "      <td>0</td>\n",
       "      <td>1</td>\n",
       "    </tr>\n",
       "    <tr>\n",
       "      <th>887</th>\n",
       "      <td>1</td>\n",
       "      <td>1</td>\n",
       "      <td>19.0</td>\n",
       "      <td>0.0</td>\n",
       "      <td>0.000000</td>\n",
       "      <td>5.477226</td>\n",
       "      <td>0</td>\n",
       "      <td>0</td>\n",
       "      <td>1</td>\n",
       "    </tr>\n",
       "    <tr>\n",
       "      <th>888</th>\n",
       "      <td>0</td>\n",
       "      <td>3</td>\n",
       "      <td>24.0</td>\n",
       "      <td>1.0</td>\n",
       "      <td>1.414214</td>\n",
       "      <td>4.842520</td>\n",
       "      <td>0</td>\n",
       "      <td>0</td>\n",
       "      <td>1</td>\n",
       "    </tr>\n",
       "    <tr>\n",
       "      <th>889</th>\n",
       "      <td>1</td>\n",
       "      <td>1</td>\n",
       "      <td>26.0</td>\n",
       "      <td>0.0</td>\n",
       "      <td>0.000000</td>\n",
       "      <td>5.477226</td>\n",
       "      <td>1</td>\n",
       "      <td>0</td>\n",
       "      <td>0</td>\n",
       "    </tr>\n",
       "    <tr>\n",
       "      <th>890</th>\n",
       "      <td>0</td>\n",
       "      <td>3</td>\n",
       "      <td>32.0</td>\n",
       "      <td>0.0</td>\n",
       "      <td>0.000000</td>\n",
       "      <td>2.783882</td>\n",
       "      <td>1</td>\n",
       "      <td>1</td>\n",
       "      <td>0</td>\n",
       "    </tr>\n",
       "  </tbody>\n",
       "</table>\n",
       "<p>889 rows × 9 columns</p>\n",
       "</div>"
      ],
      "text/plain": [
       "     Survived  Pclass   Age  SibSp     Parch      Fare  Sex_male  Embarked_Q  \\\n",
       "0           0       3  22.0    1.0  0.000000  2.692582         1           0   \n",
       "1           1       1  38.0    1.0  0.000000  8.442944         0           0   \n",
       "2           1       3  26.0    0.0  0.000000  2.815138         0           0   \n",
       "3           1       1  35.0    1.0  0.000000  7.286975         0           0   \n",
       "4           0       3  35.0    0.0  0.000000  2.837252         1           0   \n",
       "..        ...     ...   ...    ...       ...       ...       ...         ...   \n",
       "886         0       2  27.0    0.0  0.000000  3.605551         1           0   \n",
       "887         1       1  19.0    0.0  0.000000  5.477226         0           0   \n",
       "888         0       3  24.0    1.0  1.414214  4.842520         0           0   \n",
       "889         1       1  26.0    0.0  0.000000  5.477226         1           0   \n",
       "890         0       3  32.0    0.0  0.000000  2.783882         1           1   \n",
       "\n",
       "     Embarked_S  \n",
       "0             1  \n",
       "1             0  \n",
       "2             1  \n",
       "3             1  \n",
       "4             1  \n",
       "..          ...  \n",
       "886           1  \n",
       "887           1  \n",
       "888           1  \n",
       "889           0  \n",
       "890           0  \n",
       "\n",
       "[889 rows x 9 columns]"
      ]
     },
     "execution_count": 52,
     "metadata": {},
     "output_type": "execute_result"
    }
   ],
   "source": [
    "pd.get_dummies(df,drop_first=True)"
   ]
  },
  {
   "cell_type": "code",
   "execution_count": 55,
   "metadata": {},
   "outputs": [],
   "source": [
    "df=pd.get_dummies(df,drop_first=True)"
   ]
  },
  {
   "cell_type": "code",
   "execution_count": 57,
   "metadata": {},
   "outputs": [
    {
     "data": {
      "text/plain": [
       "['Pclass', 'Age', 'SibSp', 'Parch', 'Fare']"
      ]
     },
     "execution_count": 57,
     "metadata": {},
     "output_type": "execute_result"
    }
   ],
   "source": [
    "numericCols"
   ]
  },
  {
   "cell_type": "code",
   "execution_count": 58,
   "metadata": {},
   "outputs": [],
   "source": [
    "numericFtrs=['Pclass', 'Age', 'SibSp', 'Parch', 'Fare','Survived']"
   ]
  },
  {
   "cell_type": "code",
   "execution_count": 61,
   "metadata": {},
   "outputs": [
    {
     "data": {
      "text/html": [
       "<div>\n",
       "<style scoped>\n",
       "    .dataframe tbody tr th:only-of-type {\n",
       "        vertical-align: middle;\n",
       "    }\n",
       "\n",
       "    .dataframe tbody tr th {\n",
       "        vertical-align: top;\n",
       "    }\n",
       "\n",
       "    .dataframe thead th {\n",
       "        text-align: right;\n",
       "    }\n",
       "</style>\n",
       "<table border=\"1\" class=\"dataframe\">\n",
       "  <thead>\n",
       "    <tr style=\"text-align: right;\">\n",
       "      <th></th>\n",
       "      <th>Pclass</th>\n",
       "      <th>Age</th>\n",
       "      <th>SibSp</th>\n",
       "      <th>Parch</th>\n",
       "      <th>Fare</th>\n",
       "      <th>Survived</th>\n",
       "    </tr>\n",
       "  </thead>\n",
       "  <tbody>\n",
       "    <tr>\n",
       "      <th>Pclass</th>\n",
       "      <td>1.000000</td>\n",
       "      <td>-0.405549</td>\n",
       "      <td>0.003843</td>\n",
       "      <td>-0.008720</td>\n",
       "      <td>-0.659204</td>\n",
       "      <td>-0.335549</td>\n",
       "    </tr>\n",
       "    <tr>\n",
       "      <th>Age</th>\n",
       "      <td>-0.405549</td>\n",
       "      <td>1.000000</td>\n",
       "      <td>-0.216098</td>\n",
       "      <td>-0.226287</td>\n",
       "      <td>0.145828</td>\n",
       "      <td>-0.052051</td>\n",
       "    </tr>\n",
       "    <tr>\n",
       "      <th>SibSp</th>\n",
       "      <td>0.003843</td>\n",
       "      <td>-0.216098</td>\n",
       "      <td>1.000000</td>\n",
       "      <td>0.473193</td>\n",
       "      <td>0.312133</td>\n",
       "      <td>0.045431</td>\n",
       "    </tr>\n",
       "    <tr>\n",
       "      <th>Parch</th>\n",
       "      <td>-0.008720</td>\n",
       "      <td>-0.226287</td>\n",
       "      <td>0.473193</td>\n",
       "      <td>1.000000</td>\n",
       "      <td>0.322840</td>\n",
       "      <td>0.123454</td>\n",
       "    </tr>\n",
       "    <tr>\n",
       "      <th>Fare</th>\n",
       "      <td>-0.659204</td>\n",
       "      <td>0.145828</td>\n",
       "      <td>0.312133</td>\n",
       "      <td>0.322840</td>\n",
       "      <td>1.000000</td>\n",
       "      <td>0.309778</td>\n",
       "    </tr>\n",
       "    <tr>\n",
       "      <th>Survived</th>\n",
       "      <td>-0.335549</td>\n",
       "      <td>-0.052051</td>\n",
       "      <td>0.045431</td>\n",
       "      <td>0.123454</td>\n",
       "      <td>0.309778</td>\n",
       "      <td>1.000000</td>\n",
       "    </tr>\n",
       "  </tbody>\n",
       "</table>\n",
       "</div>"
      ],
      "text/plain": [
       "            Pclass       Age     SibSp     Parch      Fare  Survived\n",
       "Pclass    1.000000 -0.405549  0.003843 -0.008720 -0.659204 -0.335549\n",
       "Age      -0.405549  1.000000 -0.216098 -0.226287  0.145828 -0.052051\n",
       "SibSp     0.003843 -0.216098  1.000000  0.473193  0.312133  0.045431\n",
       "Parch    -0.008720 -0.226287  0.473193  1.000000  0.322840  0.123454\n",
       "Fare     -0.659204  0.145828  0.312133  0.322840  1.000000  0.309778\n",
       "Survived -0.335549 -0.052051  0.045431  0.123454  0.309778  1.000000"
      ]
     },
     "execution_count": 61,
     "metadata": {},
     "output_type": "execute_result"
    }
   ],
   "source": [
    "df[numericFtrs].corr()"
   ]
  },
  {
   "cell_type": "code",
   "execution_count": 62,
   "metadata": {},
   "outputs": [
    {
     "data": {
      "text/plain": [
       "<AxesSubplot:>"
      ]
     },
     "execution_count": 62,
     "metadata": {},
     "output_type": "execute_result"
    },
    {
     "data": {
      "image/png": "[encoded data removed]",
      "text/plain": [
       "<Figure size 432x288 with 1 Axes>"
      ]
     },
     "metadata": {
      "needs_background": "light"
     },
     "output_type": "display_data"
    }
   ],
   "source": [
    "df[numericFtrs].corr()['Survived'][:-1].sort_values().plot(kind='bar')"
   ]
  },
  {
   "cell_type": "markdown",
   "metadata": {},
   "source": [
    "Pclass is highly negatively Corelated\n",
    "Agre  is less negatively corelated\n",
    "SibSp, Parch is somewhat positively corelated\n",
    "Fare is more positively corelated"
   ]
  },
  {
   "cell_type": "code",
   "execution_count": 63,
   "metadata": {},
   "outputs": [
    {
     "data": {
      "text/plain": [
       "<seaborn.matrix.ClusterGrid at 0x17fcd155da0>"
      ]
     },
     "execution_count": 63,
     "metadata": {},
     "output_type": "execute_result"
    },
    {
     "data": {
      "image/png": "[encoded data removed]",
      "text/plain": [
       "<Figure size 720x720 with 4 Axes>"
      ]
     },
     "metadata": {
      "needs_background": "light"
     },
     "output_type": "display_data"
    }
   ],
   "source": [
    "sns.clustermap(df[numericFtrs].corr(),cmap='viridis')"
   ]
  },
  {
   "cell_type": "code",
   "execution_count": 64,
   "metadata": {},
   "outputs": [
    {
     "data": {
      "text/plain": [
       "<AxesSubplot:xlabel='Survived', ylabel='count'>"
      ]
     },
     "execution_count": 64,
     "metadata": {},
     "output_type": "execute_result"
    },
    {
     "data": {
      "image/png": "[encoded data removed]",
      "text/plain": [
       "<Figure size 432x288 with 1 Axes>"
      ]
     },
     "metadata": {
      "needs_background": "light"
     },
     "output_type": "display_data"
    }
   ],
   "source": [
    "sns.countplot(df['Survived'])"
   ]
  },
  {
   "cell_type": "markdown",
   "metadata": {},
   "source": [
    "The classes are almost balanced"
   ]
  },
  {
   "cell_type": "markdown",
   "metadata": {},
   "source": [
    "splitting into X and y features"
   ]
  },
  {
   "cell_type": "code",
   "execution_count": 71,
   "metadata": {},
   "outputs": [
    {
     "data": {
      "text/plain": [
       "Index(['Survived', 'Pclass', 'Age', 'SibSp', 'Parch', 'Fare', 'Sex_male',\n",
       "       'Embarked_Q', 'Embarked_S'],\n",
       "      dtype='object')"
      ]
     },
     "execution_count": 71,
     "metadata": {},
     "output_type": "execute_result"
    }
   ],
   "source": [
    "df.columns"
   ]
  },
  {
   "cell_type": "code",
   "execution_count": 73,
   "metadata": {},
   "outputs": [],
   "source": [
    "X=df.drop('Survived',axis=1)\n",
    "y=df['Survived']"
   ]
  },
  {
   "cell_type": "markdown",
   "metadata": {},
   "source": [
    "# Applying different machine learning models now"
   ]
  },
  {
   "cell_type": "markdown",
   "metadata": {},
   "source": [
    "## identifying the best random state"
   ]
  },
  {
   "cell_type": "code",
   "execution_count": 77,
   "metadata": {},
   "outputs": [
    {
     "name": "stdout",
     "output_type": "stream",
     "text": [
      "best accuracy is 0.8435374149659864 on random state 88\n"
     ]
    }
   ],
   "source": [
    "max_accu=0\n",
    "maxRS=0\n",
    "for i in range(200):\n",
    "    X_train, X_test, y_train, y_test = train_test_split(X, y, test_size=0.33, random_state=i)\n",
    "    dt=DecisionTreeClassifier()\n",
    "    dt.fit(X_train,y_train)\n",
    "    pred=dt.predict(X_test)\n",
    "    accurac=accuracy_score(y_test,pred)\n",
    "    #print(accurac*100,\"at random state\",i)\n",
    "    if(accurac>max_accu):\n",
    "        max_accu=accurac\n",
    "        maxRS=i\n",
    "        \n",
    "print(\"best accuracy is\",max_accu,\"on random state\",maxRS)"
   ]
  },
  {
   "cell_type": "markdown",
   "metadata": {},
   "source": [
    "best accuracy is 0.8435374149659864 on random state 88"
   ]
  },
  {
   "cell_type": "code",
   "execution_count": 78,
   "metadata": {},
   "outputs": [],
   "source": [
    "from sklearn.model_selection import train_test_split"
   ]
  },
  {
   "cell_type": "code",
   "execution_count": 79,
   "metadata": {},
   "outputs": [],
   "source": [
    "X_train, X_test, y_train, y_test = train_test_split(X, y, test_size=0.33, random_state=88)"
   ]
  },
  {
   "cell_type": "markdown",
   "metadata": {},
   "source": [
    "**TASK: Scale the X train and X test data.**"
   ]
  },
  {
   "cell_type": "code",
   "execution_count": null,
   "metadata": {},
   "outputs": [],
   "source": []
  },
  {
   "cell_type": "code",
   "execution_count": 80,
   "metadata": {},
   "outputs": [],
   "source": [
    "from sklearn.preprocessing import StandardScaler"
   ]
  },
  {
   "cell_type": "code",
   "execution_count": 81,
   "metadata": {},
   "outputs": [],
   "source": [
    "scaler = StandardScaler()"
   ]
  },
  {
   "cell_type": "code",
   "execution_count": 82,
   "metadata": {},
   "outputs": [],
   "source": [
    "scaled_X_train = scaler.fit_transform(X_train)\n",
    "scaled_X_test = scaler.transform(X_test)"
   ]
  },
  {
   "cell_type": "code",
   "execution_count": 83,
   "metadata": {},
   "outputs": [
    {
     "name": "stdout",
     "output_type": "stream",
     "text": [
      "              precision    recall  f1-score   support\n",
      "\n",
      "           0       0.87      0.86      0.87       176\n",
      "           1       0.79      0.81      0.80       118\n",
      "\n",
      "    accuracy                           0.84       294\n",
      "   macro avg       0.83      0.84      0.83       294\n",
      "weighted avg       0.84      0.84      0.84       294\n",
      "\n"
     ]
    }
   ],
   "source": [
    "DTC=DecisionTreeClassifier()\n",
    "DTC.fit(scaled_X_train,y_train)\n",
    "pred=DTC.predict(scaled_X_test)\n",
    "print(classification_report(y_test,pred))\n"
   ]
  },
  {
   "cell_type": "code",
   "execution_count": null,
   "metadata": {},
   "outputs": [],
   "source": []
  },
  {
   "cell_type": "code",
   "execution_count": 84,
   "metadata": {},
   "outputs": [
    {
     "name": "stdout",
     "output_type": "stream",
     "text": [
      "              precision    recall  f1-score   support\n",
      "\n",
      "           0       0.86      0.85      0.85       176\n",
      "           1       0.78      0.79      0.78       118\n",
      "\n",
      "    accuracy                           0.82       294\n",
      "   macro avg       0.82      0.82      0.82       294\n",
      "weighted avg       0.82      0.82      0.82       294\n",
      "\n"
     ]
    }
   ],
   "source": [
    "RFC=RandomForestClassifier()\n",
    "RFC.fit(scaled_X_train,y_train)\n",
    "pred=RFC.predict(scaled_X_test)\n",
    "print(classification_report(y_test,pred))"
   ]
  },
  {
   "cell_type": "code",
   "execution_count": 85,
   "metadata": {},
   "outputs": [
    {
     "name": "stdout",
     "output_type": "stream",
     "text": [
      "              precision    recall  f1-score   support\n",
      "\n",
      "           0       0.80      0.94      0.87       176\n",
      "           1       0.88      0.66      0.75       118\n",
      "\n",
      "    accuracy                           0.83       294\n",
      "   macro avg       0.84      0.80      0.81       294\n",
      "weighted avg       0.83      0.83      0.82       294\n",
      "\n"
     ]
    }
   ],
   "source": [
    "svc=SVC()\n",
    "svc.fit(scaled_X_train,y_train)\n",
    "pred=svc.predict(scaled_X_test)\n",
    "print(classification_report(y_test,pred))"
   ]
  },
  {
   "cell_type": "code",
   "execution_count": 86,
   "metadata": {},
   "outputs": [
    {
     "name": "stdout",
     "output_type": "stream",
     "text": [
      "              precision    recall  f1-score   support\n",
      "\n",
      "           0       0.81      0.84      0.82       176\n",
      "           1       0.74      0.71      0.73       118\n",
      "\n",
      "    accuracy                           0.79       294\n",
      "   macro avg       0.78      0.77      0.78       294\n",
      "weighted avg       0.78      0.79      0.78       294\n",
      "\n"
     ]
    }
   ],
   "source": [
    "ada=AdaBoostClassifier()\n",
    "ada.fit(scaled_X_train,y_train)\n",
    "pred=ada.predict(scaled_X_test)\n",
    "print(classification_report(y_test,pred))"
   ]
  },
  {
   "cell_type": "code",
   "execution_count": 87,
   "metadata": {},
   "outputs": [],
   "source": [
    "dtcAC=0.84\n",
    "rfcAC=0.82\n",
    "svcAC=0.83\n",
    "adaAC=0.79"
   ]
  },
  {
   "cell_type": "markdown",
   "metadata": {},
   "source": [
    "### now checking cross val score"
   ]
  },
  {
   "cell_type": "code",
   "execution_count": 89,
   "metadata": {},
   "outputs": [],
   "source": [
    "from sklearn.preprocessing import StandardScaler"
   ]
  },
  {
   "cell_type": "code",
   "execution_count": 90,
   "metadata": {},
   "outputs": [],
   "source": [
    "scaler=StandardScaler()"
   ]
  },
  {
   "cell_type": "code",
   "execution_count": 92,
   "metadata": {},
   "outputs": [],
   "source": [
    "X_scale=scaler.fit_transform(X)"
   ]
  },
  {
   "cell_type": "code",
   "execution_count": 94,
   "metadata": {},
   "outputs": [
    {
     "data": {
      "text/plain": [
       "0.7784422014854313"
      ]
     },
     "execution_count": 94,
     "metadata": {},
     "output_type": "execute_result"
    }
   ],
   "source": [
    "DTCcv=cross_val_score(DTC,X_scale,y,cv=5).mean()\n",
    "DTCcv"
   ]
  },
  {
   "cell_type": "code",
   "execution_count": 95,
   "metadata": {},
   "outputs": [
    {
     "data": {
      "text/plain": [
       "0.8133117501428299"
      ]
     },
     "execution_count": 95,
     "metadata": {},
     "output_type": "execute_result"
    }
   ],
   "source": [
    "RFCcv=cross_val_score(RFC,X_scale,y,cv=5).mean()\n",
    "RFCcv"
   ]
  },
  {
   "cell_type": "code",
   "execution_count": 96,
   "metadata": {},
   "outputs": [
    {
     "data": {
      "text/plain": [
       "0.8279565796991051"
      ]
     },
     "execution_count": 96,
     "metadata": {},
     "output_type": "execute_result"
    }
   ],
   "source": [
    "svcCV=cross_val_score(svc,X_scale,y,cv=5).mean()\n",
    "svcCV"
   ]
  },
  {
   "cell_type": "code",
   "execution_count": 97,
   "metadata": {},
   "outputs": [
    {
     "data": {
      "text/plain": [
       "0.8178061321653018"
      ]
     },
     "execution_count": 97,
     "metadata": {},
     "output_type": "execute_result"
    }
   ],
   "source": [
    "adaCV=cross_val_score(ada,X_scale,y,cv=5).mean()\n",
    "adaCV"
   ]
  },
  {
   "cell_type": "code",
   "execution_count": 98,
   "metadata": {},
   "outputs": [
    {
     "name": "stdout",
     "output_type": "stream",
     "text": [
      "0.06155779851456866\n",
      "0.006688249857170092\n",
      "0.0020434203008948826\n",
      "-0.02780613216530181\n"
     ]
    }
   ],
   "source": [
    "print(dtcAC-DTCcv)\n",
    "print(rfcAC-RFCcv)\n",
    "print(svcAC-svcCV)\n",
    "print(adaAC-adaCV)"
   ]
  },
  {
   "cell_type": "markdown",
   "metadata": {},
   "source": [
    "SupportVector classifier has the less difference between the accuracy scores and Cross val score, so it is the best model"
   ]
  },
  {
   "cell_type": "markdown",
   "metadata": {},
   "source": [
    "## HyperParameterTuning"
   ]
  },
  {
   "cell_type": "code",
   "execution_count": 99,
   "metadata": {},
   "outputs": [],
   "source": [
    "from sklearn.model_selection import GridSearchCV"
   ]
  },
  {
   "cell_type": "code",
   "execution_count": 100,
   "metadata": {},
   "outputs": [
    {
     "data": {
      "text/plain": [
       "SVC()"
      ]
     },
     "execution_count": 100,
     "metadata": {},
     "output_type": "execute_result"
    }
   ],
   "source": [
    "svc"
   ]
  },
  {
   "cell_type": "code",
   "execution_count": 101,
   "metadata": {},
   "outputs": [
    {
     "name": "stdout",
     "output_type": "stream",
     "text": [
      "Help on SVC in module sklearn.svm._classes object:\n",
      "\n",
      "class SVC(sklearn.svm._base.BaseSVC)\n",
      " |  SVC(*, C=1.0, kernel='rbf', degree=3, gamma='scale', coef0=0.0, shrinking=True, probability=False, tol=0.001, cache_size=200, class_weight=None, verbose=False, max_iter=-1, decision_function_shape='ovr', break_ties=False, random_state=None)\n",
      " |  \n",
      " |  C-Support Vector Classification.\n",
      " |  \n",
      " |  The implementation is based on libsvm. The fit time scales at least\n",
      " |  quadratically with the number of samples and may be impractical\n",
      " |  beyond tens of thousands of samples. For large datasets\n",
      " |  consider using :class:`~sklearn.svm.LinearSVC` or\n",
      " |  :class:`~sklearn.linear_model.SGDClassifier` instead, possibly after a\n",
      " |  :class:`~sklearn.kernel_approximation.Nystroem` transformer.\n",
      " |  \n",
      " |  The multiclass support is handled according to a one-vs-one scheme.\n",
      " |  \n",
      " |  For details on the precise mathematical formulation of the provided\n",
      " |  kernel functions and how `gamma`, `coef0` and `degree` affect each\n",
      " |  other, see the corresponding section in the narrative documentation:\n",
      " |  :ref:`svm_kernels`.\n",
      " |  \n",
      " |  Read more in the :ref:`User Guide <svm_classification>`.\n",
      " |  \n",
      " |  Parameters\n",
      " |  ----------\n",
      " |  C : float, default=1.0\n",
      " |      Regularization parameter. The strength of the regularization is\n",
      " |      inversely proportional to C. Must be strictly positive. The penalty\n",
      " |      is a squared l2 penalty.\n",
      " |  \n",
      " |  kernel : {'linear', 'poly', 'rbf', 'sigmoid', 'precomputed'}, default='rbf'\n",
      " |      Specifies the kernel type to be used in the algorithm.\n",
      " |      It must be one of 'linear', 'poly', 'rbf', 'sigmoid', 'precomputed' or\n",
      " |      a callable.\n",
      " |      If none is given, 'rbf' will be used. If a callable is given it is\n",
      " |      used to pre-compute the kernel matrix from data matrices; that matrix\n",
      " |      should be an array of shape ``(n_samples, n_samples)``.\n",
      " |  \n",
      " |  degree : int, default=3\n",
      " |      Degree of the polynomial kernel function ('poly').\n",
      " |      Ignored by all other kernels.\n",
      " |  \n",
      " |  gamma : {'scale', 'auto'} or float, default='scale'\n",
      " |      Kernel coefficient for 'rbf', 'poly' and 'sigmoid'.\n",
      " |  \n",
      " |      - if ``gamma='scale'`` (default) is passed then it uses\n",
      " |        1 / (n_features * X.var()) as value of gamma,\n",
      " |      - if 'auto', uses 1 / n_features.\n",
      " |  \n",
      " |      .. versionchanged:: 0.22\n",
      " |         The default value of ``gamma`` changed from 'auto' to 'scale'.\n",
      " |  \n",
      " |  coef0 : float, default=0.0\n",
      " |      Independent term in kernel function.\n",
      " |      It is only significant in 'poly' and 'sigmoid'.\n",
      " |  \n",
      " |  shrinking : bool, default=True\n",
      " |      Whether to use the shrinking heuristic.\n",
      " |      See the :ref:`User Guide <shrinking_svm>`.\n",
      " |  \n",
      " |  probability : bool, default=False\n",
      " |      Whether to enable probability estimates. This must be enabled prior\n",
      " |      to calling `fit`, will slow down that method as it internally uses\n",
      " |      5-fold cross-validation, and `predict_proba` may be inconsistent with\n",
      " |      `predict`. Read more in the :ref:`User Guide <scores_probabilities>`.\n",
      " |  \n",
      " |  tol : float, default=1e-3\n",
      " |      Tolerance for stopping criterion.\n",
      " |  \n",
      " |  cache_size : float, default=200\n",
      " |      Specify the size of the kernel cache (in MB).\n",
      " |  \n",
      " |  class_weight : dict or 'balanced', default=None\n",
      " |      Set the parameter C of class i to class_weight[i]*C for\n",
      " |      SVC. If not given, all classes are supposed to have\n",
      " |      weight one.\n",
      " |      The \"balanced\" mode uses the values of y to automatically adjust\n",
      " |      weights inversely proportional to class frequencies in the input data\n",
      " |      as ``n_samples / (n_classes * np.bincount(y))``\n",
      " |  \n",
      " |  verbose : bool, default=False\n",
      " |      Enable verbose output. Note that this setting takes advantage of a\n",
      " |      per-process runtime setting in libsvm that, if enabled, may not work\n",
      " |      properly in a multithreaded context.\n",
      " |  \n",
      " |  max_iter : int, default=-1\n",
      " |      Hard limit on iterations within solver, or -1 for no limit.\n",
      " |  \n",
      " |  decision_function_shape : {'ovo', 'ovr'}, default='ovr'\n",
      " |      Whether to return a one-vs-rest ('ovr') decision function of shape\n",
      " |      (n_samples, n_classes) as all other classifiers, or the original\n",
      " |      one-vs-one ('ovo') decision function of libsvm which has shape\n",
      " |      (n_samples, n_classes * (n_classes - 1) / 2). However, one-vs-one\n",
      " |      ('ovo') is always used as multi-class strategy. The parameter is\n",
      " |      ignored for binary classification.\n",
      " |  \n",
      " |      .. versionchanged:: 0.19\n",
      " |          decision_function_shape is 'ovr' by default.\n",
      " |  \n",
      " |      .. versionadded:: 0.17\n",
      " |         *decision_function_shape='ovr'* is recommended.\n",
      " |  \n",
      " |      .. versionchanged:: 0.17\n",
      " |         Deprecated *decision_function_shape='ovo' and None*.\n",
      " |  \n",
      " |  break_ties : bool, default=False\n",
      " |      If true, ``decision_function_shape='ovr'``, and number of classes > 2,\n",
      " |      :term:`predict` will break ties according to the confidence values of\n",
      " |      :term:`decision_function`; otherwise the first class among the tied\n",
      " |      classes is returned. Please note that breaking ties comes at a\n",
      " |      relatively high computational cost compared to a simple predict.\n",
      " |  \n",
      " |      .. versionadded:: 0.22\n",
      " |  \n",
      " |  random_state : int, RandomState instance or None, default=None\n",
      " |      Controls the pseudo random number generation for shuffling the data for\n",
      " |      probability estimates. Ignored when `probability` is False.\n",
      " |      Pass an int for reproducible output across multiple function calls.\n",
      " |      See :term:`Glossary <random_state>`.\n",
      " |  \n",
      " |  Attributes\n",
      " |  ----------\n",
      " |  class_weight_ : ndarray of shape (n_classes,)\n",
      " |      Multipliers of parameter C for each class.\n",
      " |      Computed based on the ``class_weight`` parameter.\n",
      " |  \n",
      " |  classes_ : ndarray of shape (n_classes,)\n",
      " |      The classes labels.\n",
      " |  \n",
      " |  coef_ : ndarray of shape (n_classes * (n_classes - 1) / 2, n_features)\n",
      " |      Weights assigned to the features (coefficients in the primal\n",
      " |      problem). This is only available in the case of a linear kernel.\n",
      " |  \n",
      " |      `coef_` is a readonly property derived from `dual_coef_` and\n",
      " |      `support_vectors_`.\n",
      " |  \n",
      " |  dual_coef_ : ndarray of shape (n_classes -1, n_SV)\n",
      " |      Dual coefficients of the support vector in the decision\n",
      " |      function (see :ref:`sgd_mathematical_formulation`), multiplied by\n",
      " |      their targets.\n",
      " |      For multiclass, coefficient for all 1-vs-1 classifiers.\n",
      " |      The layout of the coefficients in the multiclass case is somewhat\n",
      " |      non-trivial. See the :ref:`multi-class section of the User Guide\n",
      " |      <svm_multi_class>` for details.\n",
      " |  \n",
      " |  fit_status_ : int\n",
      " |      0 if correctly fitted, 1 otherwise (will raise warning)\n",
      " |  \n",
      " |  intercept_ : ndarray of shape (n_classes * (n_classes - 1) / 2,)\n",
      " |      Constants in decision function.\n",
      " |  \n",
      " |  support_ : ndarray of shape (n_SV)\n",
      " |      Indices of support vectors.\n",
      " |  \n",
      " |  support_vectors_ : ndarray of shape (n_SV, n_features)\n",
      " |      Support vectors.\n",
      " |  \n",
      " |  n_support_ : ndarray of shape (n_classes,), dtype=int32\n",
      " |      Number of support vectors for each class.\n",
      " |  \n",
      " |  probA_ : ndarray of shape (n_classes * (n_classes - 1) / 2)\n",
      " |  probB_ : ndarray of shape (n_classes * (n_classes - 1) / 2)\n",
      " |      If `probability=True`, it corresponds to the parameters learned in\n",
      " |      Platt scaling to produce probability estimates from decision values.\n",
      " |      If `probability=False`, it's an empty array. Platt scaling uses the\n",
      " |      logistic function\n",
      " |      ``1 / (1 + exp(decision_value * probA_ + probB_))``\n",
      " |      where ``probA_`` and ``probB_`` are learned from the dataset [2]_. For\n",
      " |      more information on the multiclass case and training procedure see\n",
      " |      section 8 of [1]_.\n",
      " |  \n",
      " |  shape_fit_ : tuple of int of shape (n_dimensions_of_X,)\n",
      " |      Array dimensions of training vector ``X``.\n",
      " |  \n",
      " |  Examples\n",
      " |  --------\n",
      " |  >>> import numpy as np\n",
      " |  >>> from sklearn.pipeline import make_pipeline\n",
      " |  >>> from sklearn.preprocessing import StandardScaler\n",
      " |  >>> X = np.array([[-1, -1], [-2, -1], [1, 1], [2, 1]])\n",
      " |  >>> y = np.array([1, 1, 2, 2])\n",
      " |  >>> from sklearn.svm import SVC\n",
      " |  >>> clf = make_pipeline(StandardScaler(), SVC(gamma='auto'))\n",
      " |  >>> clf.fit(X, y)\n",
      " |  Pipeline(steps=[('standardscaler', StandardScaler()),\n",
      " |                  ('svc', SVC(gamma='auto'))])\n",
      " |  \n",
      " |  >>> print(clf.predict([[-0.8, -1]]))\n",
      " |  [1]\n",
      " |  \n",
      " |  See Also\n",
      " |  --------\n",
      " |  SVR : Support Vector Machine for Regression implemented using libsvm.\n",
      " |  \n",
      " |  LinearSVC : Scalable Linear Support Vector Machine for classification\n",
      " |      implemented using liblinear. Check the See Also section of\n",
      " |      LinearSVC for more comparison element.\n",
      " |  \n",
      " |  References\n",
      " |  ----------\n",
      " |  .. [1] `LIBSVM: A Library for Support Vector Machines\n",
      " |      <http://www.csie.ntu.edu.tw/~cjlin/papers/libsvm.pdf>`_\n",
      " |  \n",
      " |  .. [2] `Platt, John (1999). \"Probabilistic outputs for support vector\n",
      " |      machines and comparison to regularizedlikelihood methods.\"\n",
      " |      <http://citeseer.ist.psu.edu/viewdoc/summary?doi=10.1.1.41.1639>`_\n",
      " |  \n",
      " |  Method resolution order:\n",
      " |      SVC\n",
      " |      sklearn.svm._base.BaseSVC\n",
      " |      sklearn.base.ClassifierMixin\n",
      " |      sklearn.svm._base.BaseLibSVM\n",
      " |      sklearn.base.BaseEstimator\n",
      " |      builtins.object\n",
      " |  \n",
      " |  Methods defined here:\n",
      " |  \n",
      " |  __init__(self, *, C=1.0, kernel='rbf', degree=3, gamma='scale', coef0=0.0, shrinking=True, probability=False, tol=0.001, cache_size=200, class_weight=None, verbose=False, max_iter=-1, decision_function_shape='ovr', break_ties=False, random_state=None)\n",
      " |      Initialize self.  See help(type(self)) for accurate signature.\n",
      " |  \n",
      " |  ----------------------------------------------------------------------\n",
      " |  Data and other attributes defined here:\n",
      " |  \n",
      " |  __abstractmethods__ = frozenset()\n",
      " |  \n",
      " |  ----------------------------------------------------------------------\n",
      " |  Methods inherited from sklearn.svm._base.BaseSVC:\n",
      " |  \n",
      " |  decision_function(self, X)\n",
      " |      Evaluates the decision function for the samples in X.\n",
      " |      \n",
      " |      Parameters\n",
      " |      ----------\n",
      " |      X : array-like of shape (n_samples, n_features)\n",
      " |      \n",
      " |      Returns\n",
      " |      -------\n",
      " |      X : ndarray of shape (n_samples, n_classes * (n_classes-1) / 2)\n",
      " |          Returns the decision function of the sample for each class\n",
      " |          in the model.\n",
      " |          If decision_function_shape='ovr', the shape is (n_samples,\n",
      " |          n_classes).\n",
      " |      \n",
      " |      Notes\n",
      " |      -----\n",
      " |      If decision_function_shape='ovo', the function values are proportional\n",
      " |      to the distance of the samples X to the separating hyperplane. If the\n",
      " |      exact distances are required, divide the function values by the norm of\n",
      " |      the weight vector (``coef_``). See also `this question\n",
      " |      <https://stats.stackexchange.com/questions/14876/\n",
      " |      interpreting-distance-from-hyperplane-in-svm>`_ for further details.\n",
      " |      If decision_function_shape='ovr', the decision function is a monotonic\n",
      " |      transformation of ovo decision function.\n",
      " |  \n",
      " |  predict(self, X)\n",
      " |      Perform classification on samples in X.\n",
      " |      \n",
      " |      For an one-class model, +1 or -1 is returned.\n",
      " |      \n",
      " |      Parameters\n",
      " |      ----------\n",
      " |      X : {array-like, sparse matrix} of shape (n_samples, n_features) or                 (n_samples_test, n_samples_train)\n",
      " |          For kernel=\"precomputed\", the expected shape of X is\n",
      " |          (n_samples_test, n_samples_train).\n",
      " |      \n",
      " |      Returns\n",
      " |      -------\n",
      " |      y_pred : ndarray of shape (n_samples,)\n",
      " |          Class labels for samples in X.\n",
      " |  \n",
      " |  ----------------------------------------------------------------------\n",
      " |  Data descriptors inherited from sklearn.svm._base.BaseSVC:\n",
      " |  \n",
      " |  predict_log_proba\n",
      " |      Compute log probabilities of possible outcomes for samples in X.\n",
      " |      \n",
      " |      The model need to have probability information computed at training\n",
      " |      time: fit with attribute `probability` set to True.\n",
      " |      \n",
      " |      Parameters\n",
      " |      ----------\n",
      " |      X : array-like of shape (n_samples, n_features) or                 (n_samples_test, n_samples_train)\n",
      " |          For kernel=\"precomputed\", the expected shape of X is\n",
      " |          (n_samples_test, n_samples_train).\n",
      " |      \n",
      " |      Returns\n",
      " |      -------\n",
      " |      T : ndarray of shape (n_samples, n_classes)\n",
      " |          Returns the log-probabilities of the sample for each class in\n",
      " |          the model. The columns correspond to the classes in sorted\n",
      " |          order, as they appear in the attribute :term:`classes_`.\n",
      " |      \n",
      " |      Notes\n",
      " |      -----\n",
      " |      The probability model is created using cross validation, so\n",
      " |      the results can be slightly different than those obtained by\n",
      " |      predict. Also, it will produce meaningless results on very small\n",
      " |      datasets.\n",
      " |  \n",
      " |  predict_proba\n",
      " |      Compute probabilities of possible outcomes for samples in X.\n",
      " |      \n",
      " |      The model need to have probability information computed at training\n",
      " |      time: fit with attribute `probability` set to True.\n",
      " |      \n",
      " |      Parameters\n",
      " |      ----------\n",
      " |      X : array-like of shape (n_samples, n_features)\n",
      " |          For kernel=\"precomputed\", the expected shape of X is\n",
      " |          (n_samples_test, n_samples_train).\n",
      " |      \n",
      " |      Returns\n",
      " |      -------\n",
      " |      T : ndarray of shape (n_samples, n_classes)\n",
      " |          Returns the probability of the sample for each class in\n",
      " |          the model. The columns correspond to the classes in sorted\n",
      " |          order, as they appear in the attribute :term:`classes_`.\n",
      " |      \n",
      " |      Notes\n",
      " |      -----\n",
      " |      The probability model is created using cross validation, so\n",
      " |      the results can be slightly different than those obtained by\n",
      " |      predict. Also, it will produce meaningless results on very small\n",
      " |      datasets.\n",
      " |  \n",
      " |  probA_\n",
      " |  \n",
      " |  probB_\n",
      " |  \n",
      " |  ----------------------------------------------------------------------\n",
      " |  Methods inherited from sklearn.base.ClassifierMixin:\n",
      " |  \n",
      " |  score(self, X, y, sample_weight=None)\n",
      " |      Return the mean accuracy on the given test data and labels.\n",
      " |      \n",
      " |      In multi-label classification, this is the subset accuracy\n",
      " |      which is a harsh metric since you require for each sample that\n",
      " |      each label set be correctly predicted.\n",
      " |      \n",
      " |      Parameters\n",
      " |      ----------\n",
      " |      X : array-like of shape (n_samples, n_features)\n",
      " |          Test samples.\n",
      " |      \n",
      " |      y : array-like of shape (n_samples,) or (n_samples, n_outputs)\n",
      " |          True labels for `X`.\n",
      " |      \n",
      " |      sample_weight : array-like of shape (n_samples,), default=None\n",
      " |          Sample weights.\n",
      " |      \n",
      " |      Returns\n",
      " |      -------\n",
      " |      score : float\n",
      " |          Mean accuracy of ``self.predict(X)`` wrt. `y`.\n",
      " |  \n",
      " |  ----------------------------------------------------------------------\n",
      " |  Data descriptors inherited from sklearn.base.ClassifierMixin:\n",
      " |  \n",
      " |  __dict__\n",
      " |      dictionary for instance variables (if defined)\n",
      " |  \n",
      " |  __weakref__\n",
      " |      list of weak references to the object (if defined)\n",
      " |  \n",
      " |  ----------------------------------------------------------------------\n",
      " |  Methods inherited from sklearn.svm._base.BaseLibSVM:\n",
      " |  \n",
      " |  fit(self, X, y, sample_weight=None)\n",
      " |      Fit the SVM model according to the given training data.\n",
      " |      \n",
      " |      Parameters\n",
      " |      ----------\n",
      " |      X : {array-like, sparse matrix} of shape (n_samples, n_features)                 or (n_samples, n_samples)\n",
      " |          Training vectors, where n_samples is the number of samples\n",
      " |          and n_features is the number of features.\n",
      " |          For kernel=\"precomputed\", the expected shape of X is\n",
      " |          (n_samples, n_samples).\n",
      " |      \n",
      " |      y : array-like of shape (n_samples,)\n",
      " |          Target values (class labels in classification, real numbers in\n",
      " |          regression).\n",
      " |      \n",
      " |      sample_weight : array-like of shape (n_samples,), default=None\n",
      " |          Per-sample weights. Rescale C per sample. Higher weights\n",
      " |          force the classifier to put more emphasis on these points.\n",
      " |      \n",
      " |      Returns\n",
      " |      -------\n",
      " |      self : object\n",
      " |      \n",
      " |      Notes\n",
      " |      -----\n",
      " |      If X and y are not C-ordered and contiguous arrays of np.float64 and\n",
      " |      X is not a scipy.sparse.csr_matrix, X and/or y may be copied.\n",
      " |      \n",
      " |      If X is a dense array, then the other methods will not support sparse\n",
      " |      matrices as input.\n",
      " |  \n",
      " |  ----------------------------------------------------------------------\n",
      " |  Data descriptors inherited from sklearn.svm._base.BaseLibSVM:\n",
      " |  \n",
      " |  coef_\n",
      " |  \n",
      " |  n_support_\n",
      " |  \n",
      " |  ----------------------------------------------------------------------\n",
      " |  Methods inherited from sklearn.base.BaseEstimator:\n",
      " |  \n",
      " |  __getstate__(self)\n",
      " |  \n",
      " |  __repr__(self, N_CHAR_MAX=700)\n",
      " |      Return repr(self).\n",
      " |  \n",
      " |  __setstate__(self, state)\n",
      " |  \n",
      " |  get_params(self, deep=True)\n",
      " |      Get parameters for this estimator.\n",
      " |      \n",
      " |      Parameters\n",
      " |      ----------\n",
      " |      deep : bool, default=True\n",
      " |          If True, will return the parameters for this estimator and\n",
      " |          contained subobjects that are estimators.\n",
      " |      \n",
      " |      Returns\n",
      " |      -------\n",
      " |      params : dict\n",
      " |          Parameter names mapped to their values.\n",
      " |  \n",
      " |  set_params(self, **params)\n",
      " |      Set the parameters of this estimator.\n",
      " |      \n",
      " |      The method works on simple estimators as well as on nested objects\n",
      " |      (such as :class:`~sklearn.pipeline.Pipeline`). The latter have\n",
      " |      parameters of the form ``<component>__<parameter>`` so that it's\n",
      " |      possible to update each component of a nested object.\n",
      " |      \n",
      " |      Parameters\n",
      " |      ----------\n",
      " |      **params : dict\n",
      " |          Estimator parameters.\n",
      " |      \n",
      " |      Returns\n",
      " |      -------\n",
      " |      self : estimator instance\n",
      " |          Estimator instance.\n",
      "\n"
     ]
    }
   ],
   "source": [
    "help(svc)"
   ]
  },
  {
   "cell_type": "code",
   "execution_count": 117,
   "metadata": {},
   "outputs": [],
   "source": [
    "param_grid = {'C':[0.01,0.1,1],'kernel':['linear','rbf','poly'],'degree':[1,2,3]}\n",
    "grid = GridSearchCV(svc,param_grid,verbose=10)"
   ]
  },
  {
   "cell_type": "code",
   "execution_count": 118,
   "metadata": {},
   "outputs": [
    {
     "name": "stdout",
     "output_type": "stream",
     "text": [
      "Fitting 5 folds for each of 27 candidates, totalling 135 fits\n",
      "[CV 1/5; 1/27] START C=0.01, degree=1, kernel=linear............................\n",
      "[CV 1/5; 1/27] END C=0.01, degree=1, kernel=linear;, score=0.840 total time=   0.0s\n",
      "[CV 2/5; 1/27] START C=0.01, degree=1, kernel=linear............................\n",
      "[CV 2/5; 1/27] END C=0.01, degree=1, kernel=linear;, score=0.840 total time=   0.0s\n",
      "[CV 3/5; 1/27] START C=0.01, degree=1, kernel=linear............................\n",
      "[CV 3/5; 1/27] END C=0.01, degree=1, kernel=linear;, score=0.773 total time=   0.0s\n",
      "[CV 4/5; 1/27] START C=0.01, degree=1, kernel=linear............................\n",
      "[CV 4/5; 1/27] END C=0.01, degree=1, kernel=linear;, score=0.739 total time=   0.0s\n",
      "[CV 5/5; 1/27] START C=0.01, degree=1, kernel=linear............................\n",
      "[CV 5/5; 1/27] END C=0.01, degree=1, kernel=linear;, score=0.773 total time=   0.0s\n",
      "[CV 1/5; 2/27] START C=0.01, degree=1, kernel=rbf...............................\n",
      "[CV 1/5; 2/27] END C=0.01, degree=1, kernel=rbf;, score=0.622 total time=   0.0s\n",
      "[CV 2/5; 2/27] START C=0.01, degree=1, kernel=rbf...............................\n",
      "[CV 2/5; 2/27] END C=0.01, degree=1, kernel=rbf;, score=0.622 total time=   0.0s\n",
      "[CV 3/5; 2/27] START C=0.01, degree=1, kernel=rbf...............................\n",
      "[CV 3/5; 2/27] END C=0.01, degree=1, kernel=rbf;, score=0.630 total time=   0.0s\n",
      "[CV 4/5; 2/27] START C=0.01, degree=1, kernel=rbf...............................\n",
      "[CV 4/5; 2/27] END C=0.01, degree=1, kernel=rbf;, score=0.630 total time=   0.0s\n",
      "[CV 5/5; 2/27] START C=0.01, degree=1, kernel=rbf...............................\n",
      "[CV 5/5; 2/27] END C=0.01, degree=1, kernel=rbf;, score=0.630 total time=   0.0s\n",
      "[CV 1/5; 3/27] START C=0.01, degree=1, kernel=poly..............................\n",
      "[CV 1/5; 3/27] END C=0.01, degree=1, kernel=poly;, score=0.639 total time=   0.0s\n",
      "[CV 2/5; 3/27] START C=0.01, degree=1, kernel=poly..............................\n",
      "[CV 2/5; 3/27] END C=0.01, degree=1, kernel=poly;, score=0.622 total time=   0.0s\n",
      "[CV 3/5; 3/27] START C=0.01, degree=1, kernel=poly..............................\n",
      "[CV 3/5; 3/27] END C=0.01, degree=1, kernel=poly;, score=0.664 total time=   0.0s\n",
      "[CV 4/5; 3/27] START C=0.01, degree=1, kernel=poly..............................\n",
      "[CV 4/5; 3/27] END C=0.01, degree=1, kernel=poly;, score=0.639 total time=   0.0s\n",
      "[CV 5/5; 3/27] START C=0.01, degree=1, kernel=poly..............................\n",
      "[CV 5/5; 3/27] END C=0.01, degree=1, kernel=poly;, score=0.630 total time=   0.0s\n",
      "[CV 1/5; 4/27] START C=0.01, degree=2, kernel=linear............................\n",
      "[CV 1/5; 4/27] END C=0.01, degree=2, kernel=linear;, score=0.840 total time=   0.0s\n",
      "[CV 2/5; 4/27] START C=0.01, degree=2, kernel=linear............................\n",
      "[CV 2/5; 4/27] END C=0.01, degree=2, kernel=linear;, score=0.840 total time=   0.0s\n",
      "[CV 3/5; 4/27] START C=0.01, degree=2, kernel=linear............................\n",
      "[CV 3/5; 4/27] END C=0.01, degree=2, kernel=linear;, score=0.773 total time=   0.0s\n",
      "[CV 4/5; 4/27] START C=0.01, degree=2, kernel=linear............................\n",
      "[CV 4/5; 4/27] END C=0.01, degree=2, kernel=linear;, score=0.739 total time=   0.0s\n",
      "[CV 5/5; 4/27] START C=0.01, degree=2, kernel=linear............................\n",
      "[CV 5/5; 4/27] END C=0.01, degree=2, kernel=linear;, score=0.773 total time=   0.0s\n",
      "[CV 1/5; 5/27] START C=0.01, degree=2, kernel=rbf...............................\n",
      "[CV 1/5; 5/27] END C=0.01, degree=2, kernel=rbf;, score=0.622 total time=   0.0s\n",
      "[CV 2/5; 5/27] START C=0.01, degree=2, kernel=rbf...............................\n",
      "[CV 2/5; 5/27] END C=0.01, degree=2, kernel=rbf;, score=0.622 total time=   0.0s\n",
      "[CV 3/5; 5/27] START C=0.01, degree=2, kernel=rbf...............................\n",
      "[CV 3/5; 5/27] END C=0.01, degree=2, kernel=rbf;, score=0.630 total time=   0.0s\n",
      "[CV 4/5; 5/27] START C=0.01, degree=2, kernel=rbf...............................\n",
      "[CV 4/5; 5/27] END C=0.01, degree=2, kernel=rbf;, score=0.630 total time=   0.0s\n",
      "[CV 5/5; 5/27] START C=0.01, degree=2, kernel=rbf...............................\n",
      "[CV 5/5; 5/27] END C=0.01, degree=2, kernel=rbf;, score=0.630 total time=   0.0s\n",
      "[CV 1/5; 6/27] START C=0.01, degree=2, kernel=poly..............................\n",
      "[CV 1/5; 6/27] END C=0.01, degree=2, kernel=poly;, score=0.622 total time=   0.0s\n",
      "[CV 2/5; 6/27] START C=0.01, degree=2, kernel=poly..............................\n",
      "[CV 2/5; 6/27] END C=0.01, degree=2, kernel=poly;, score=0.630 total time=   0.0s\n",
      "[CV 3/5; 6/27] START C=0.01, degree=2, kernel=poly..............................\n",
      "[CV 3/5; 6/27] END C=0.01, degree=2, kernel=poly;, score=0.639 total time=   0.0s\n",
      "[CV 4/5; 6/27] START C=0.01, degree=2, kernel=poly..............................\n",
      "[CV 4/5; 6/27] END C=0.01, degree=2, kernel=poly;, score=0.630 total time=   0.0s\n",
      "[CV 5/5; 6/27] START C=0.01, degree=2, kernel=poly..............................\n",
      "[CV 5/5; 6/27] END C=0.01, degree=2, kernel=poly;, score=0.630 total time=   0.0s\n",
      "[CV 1/5; 7/27] START C=0.01, degree=3, kernel=linear............................\n",
      "[CV 1/5; 7/27] END C=0.01, degree=3, kernel=linear;, score=0.840 total time=   0.0s\n",
      "[CV 2/5; 7/27] START C=0.01, degree=3, kernel=linear............................\n",
      "[CV 2/5; 7/27] END C=0.01, degree=3, kernel=linear;, score=0.840 total time=   0.0s\n",
      "[CV 3/5; 7/27] START C=0.01, degree=3, kernel=linear............................\n",
      "[CV 3/5; 7/27] END C=0.01, degree=3, kernel=linear;, score=0.773 total time=   0.0s\n",
      "[CV 4/5; 7/27] START C=0.01, degree=3, kernel=linear............................\n",
      "[CV 4/5; 7/27] END C=0.01, degree=3, kernel=linear;, score=0.739 total time=   0.0s\n",
      "[CV 5/5; 7/27] START C=0.01, degree=3, kernel=linear............................\n",
      "[CV 5/5; 7/27] END C=0.01, degree=3, kernel=linear;, score=0.773 total time=   0.0s\n",
      "[CV 1/5; 8/27] START C=0.01, degree=3, kernel=rbf...............................\n",
      "[CV 1/5; 8/27] END C=0.01, degree=3, kernel=rbf;, score=0.622 total time=   0.0s\n",
      "[CV 2/5; 8/27] START C=0.01, degree=3, kernel=rbf...............................\n",
      "[CV 2/5; 8/27] END C=0.01, degree=3, kernel=rbf;, score=0.622 total time=   0.0s\n",
      "[CV 3/5; 8/27] START C=0.01, degree=3, kernel=rbf...............................\n",
      "[CV 3/5; 8/27] END C=0.01, degree=3, kernel=rbf;, score=0.630 total time=   0.0s\n",
      "[CV 4/5; 8/27] START C=0.01, degree=3, kernel=rbf...............................\n",
      "[CV 4/5; 8/27] END C=0.01, degree=3, kernel=rbf;, score=0.630 total time=   0.0s\n",
      "[CV 5/5; 8/27] START C=0.01, degree=3, kernel=rbf...............................\n",
      "[CV 5/5; 8/27] END C=0.01, degree=3, kernel=rbf;, score=0.630 total time=   0.0s\n",
      "[CV 1/5; 9/27] START C=0.01, degree=3, kernel=poly..............................\n",
      "[CV 1/5; 9/27] END C=0.01, degree=3, kernel=poly;, score=0.639 total time=   0.0s\n",
      "[CV 2/5; 9/27] START C=0.01, degree=3, kernel=poly..............................\n",
      "[CV 2/5; 9/27] END C=0.01, degree=3, kernel=poly;, score=0.630 total time=   0.0s\n",
      "[CV 3/5; 9/27] START C=0.01, degree=3, kernel=poly..............................\n",
      "[CV 3/5; 9/27] END C=0.01, degree=3, kernel=poly;, score=0.655 total time=   0.0s\n",
      "[CV 4/5; 9/27] START C=0.01, degree=3, kernel=poly..............................\n",
      "[CV 4/5; 9/27] END C=0.01, degree=3, kernel=poly;, score=0.672 total time=   0.0s\n",
      "[CV 5/5; 9/27] START C=0.01, degree=3, kernel=poly..............................\n",
      "[CV 5/5; 9/27] END C=0.01, degree=3, kernel=poly;, score=0.630 total time=   0.0s\n",
      "[CV 1/5; 10/27] START C=0.1, degree=1, kernel=linear............................\n",
      "[CV 1/5; 10/27] END C=0.1, degree=1, kernel=linear;, score=0.840 total time=   0.0s\n",
      "[CV 2/5; 10/27] START C=0.1, degree=1, kernel=linear............................\n",
      "[CV 2/5; 10/27] END C=0.1, degree=1, kernel=linear;, score=0.840 total time=   0.0s\n",
      "[CV 3/5; 10/27] START C=0.1, degree=1, kernel=linear............................\n",
      "[CV 3/5; 10/27] END C=0.1, degree=1, kernel=linear;, score=0.773 total time=   0.0s\n",
      "[CV 4/5; 10/27] START C=0.1, degree=1, kernel=linear............................\n",
      "[CV 4/5; 10/27] END C=0.1, degree=1, kernel=linear;, score=0.739 total time=   0.0s\n",
      "[CV 5/5; 10/27] START C=0.1, degree=1, kernel=linear............................\n",
      "[CV 5/5; 10/27] END C=0.1, degree=1, kernel=linear;, score=0.773 total time=   0.0s\n",
      "[CV 1/5; 11/27] START C=0.1, degree=1, kernel=rbf...............................\n",
      "[CV 1/5; 11/27] END C=0.1, degree=1, kernel=rbf;, score=0.798 total time=   0.0s\n",
      "[CV 2/5; 11/27] START C=0.1, degree=1, kernel=rbf...............................\n"
     ]
    },
    {
     "name": "stdout",
     "output_type": "stream",
     "text": [
      "[CV 2/5; 11/27] END C=0.1, degree=1, kernel=rbf;, score=0.773 total time=   0.0s\n",
      "[CV 3/5; 11/27] START C=0.1, degree=1, kernel=rbf...............................\n",
      "[CV 3/5; 11/27] END C=0.1, degree=1, kernel=rbf;, score=0.782 total time=   0.0s\n",
      "[CV 4/5; 11/27] START C=0.1, degree=1, kernel=rbf...............................\n",
      "[CV 4/5; 11/27] END C=0.1, degree=1, kernel=rbf;, score=0.782 total time=   0.0s\n",
      "[CV 5/5; 11/27] START C=0.1, degree=1, kernel=rbf...............................\n",
      "[CV 5/5; 11/27] END C=0.1, degree=1, kernel=rbf;, score=0.756 total time=   0.0s\n",
      "[CV 1/5; 12/27] START C=0.1, degree=1, kernel=poly..............................\n",
      "[CV 1/5; 12/27] END C=0.1, degree=1, kernel=poly;, score=0.840 total time=   0.0s\n",
      "[CV 2/5; 12/27] START C=0.1, degree=1, kernel=poly..............................\n",
      "[CV 2/5; 12/27] END C=0.1, degree=1, kernel=poly;, score=0.840 total time=   0.0s\n",
      "[CV 3/5; 12/27] START C=0.1, degree=1, kernel=poly..............................\n",
      "[CV 3/5; 12/27] END C=0.1, degree=1, kernel=poly;, score=0.773 total time=   0.0s\n",
      "[CV 4/5; 12/27] START C=0.1, degree=1, kernel=poly..............................\n",
      "[CV 4/5; 12/27] END C=0.1, degree=1, kernel=poly;, score=0.739 total time=   0.0s\n",
      "[CV 5/5; 12/27] START C=0.1, degree=1, kernel=poly..............................\n",
      "[CV 5/5; 12/27] END C=0.1, degree=1, kernel=poly;, score=0.773 total time=   0.0s\n",
      "[CV 1/5; 13/27] START C=0.1, degree=2, kernel=linear............................\n",
      "[CV 1/5; 13/27] END C=0.1, degree=2, kernel=linear;, score=0.840 total time=   0.0s\n",
      "[CV 2/5; 13/27] START C=0.1, degree=2, kernel=linear............................\n",
      "[CV 2/5; 13/27] END C=0.1, degree=2, kernel=linear;, score=0.840 total time=   0.0s\n",
      "[CV 3/5; 13/27] START C=0.1, degree=2, kernel=linear............................\n",
      "[CV 3/5; 13/27] END C=0.1, degree=2, kernel=linear;, score=0.773 total time=   0.0s\n",
      "[CV 4/5; 13/27] START C=0.1, degree=2, kernel=linear............................\n",
      "[CV 4/5; 13/27] END C=0.1, degree=2, kernel=linear;, score=0.739 total time=   0.0s\n",
      "[CV 5/5; 13/27] START C=0.1, degree=2, kernel=linear............................\n",
      "[CV 5/5; 13/27] END C=0.1, degree=2, kernel=linear;, score=0.773 total time=   0.0s\n",
      "[CV 1/5; 14/27] START C=0.1, degree=2, kernel=rbf...............................\n",
      "[CV 1/5; 14/27] END C=0.1, degree=2, kernel=rbf;, score=0.798 total time=   0.0s\n",
      "[CV 2/5; 14/27] START C=0.1, degree=2, kernel=rbf...............................\n",
      "[CV 2/5; 14/27] END C=0.1, degree=2, kernel=rbf;, score=0.773 total time=   0.0s\n",
      "[CV 3/5; 14/27] START C=0.1, degree=2, kernel=rbf...............................\n",
      "[CV 3/5; 14/27] END C=0.1, degree=2, kernel=rbf;, score=0.782 total time=   0.0s\n",
      "[CV 4/5; 14/27] START C=0.1, degree=2, kernel=rbf...............................\n",
      "[CV 4/5; 14/27] END C=0.1, degree=2, kernel=rbf;, score=0.782 total time=   0.0s\n",
      "[CV 5/5; 14/27] START C=0.1, degree=2, kernel=rbf...............................\n",
      "[CV 5/5; 14/27] END C=0.1, degree=2, kernel=rbf;, score=0.756 total time=   0.0s\n",
      "[CV 1/5; 15/27] START C=0.1, degree=2, kernel=poly..............................\n",
      "[CV 1/5; 15/27] END C=0.1, degree=2, kernel=poly;, score=0.714 total time=   0.0s\n",
      "[CV 2/5; 15/27] START C=0.1, degree=2, kernel=poly..............................\n",
      "[CV 2/5; 15/27] END C=0.1, degree=2, kernel=poly;, score=0.689 total time=   0.0s\n",
      "[CV 3/5; 15/27] START C=0.1, degree=2, kernel=poly..............................\n",
      "[CV 3/5; 15/27] END C=0.1, degree=2, kernel=poly;, score=0.655 total time=   0.0s\n",
      "[CV 4/5; 15/27] START C=0.1, degree=2, kernel=poly..............................\n",
      "[CV 4/5; 15/27] END C=0.1, degree=2, kernel=poly;, score=0.723 total time=   0.0s\n",
      "[CV 5/5; 15/27] START C=0.1, degree=2, kernel=poly..............................\n",
      "[CV 5/5; 15/27] END C=0.1, degree=2, kernel=poly;, score=0.681 total time=   0.0s\n",
      "[CV 1/5; 16/27] START C=0.1, degree=3, kernel=linear............................\n",
      "[CV 1/5; 16/27] END C=0.1, degree=3, kernel=linear;, score=0.840 total time=   0.0s\n",
      "[CV 2/5; 16/27] START C=0.1, degree=3, kernel=linear............................\n",
      "[CV 2/5; 16/27] END C=0.1, degree=3, kernel=linear;, score=0.840 total time=   0.0s\n",
      "[CV 3/5; 16/27] START C=0.1, degree=3, kernel=linear............................\n",
      "[CV 3/5; 16/27] END C=0.1, degree=3, kernel=linear;, score=0.773 total time=   0.0s\n",
      "[CV 4/5; 16/27] START C=0.1, degree=3, kernel=linear............................\n",
      "[CV 4/5; 16/27] END C=0.1, degree=3, kernel=linear;, score=0.739 total time=   0.0s\n",
      "[CV 5/5; 16/27] START C=0.1, degree=3, kernel=linear............................\n",
      "[CV 5/5; 16/27] END C=0.1, degree=3, kernel=linear;, score=0.773 total time=   0.0s\n",
      "[CV 1/5; 17/27] START C=0.1, degree=3, kernel=rbf...............................\n",
      "[CV 1/5; 17/27] END C=0.1, degree=3, kernel=rbf;, score=0.798 total time=   0.0s\n",
      "[CV 2/5; 17/27] START C=0.1, degree=3, kernel=rbf...............................\n",
      "[CV 2/5; 17/27] END C=0.1, degree=3, kernel=rbf;, score=0.773 total time=   0.0s\n",
      "[CV 3/5; 17/27] START C=0.1, degree=3, kernel=rbf...............................\n",
      "[CV 3/5; 17/27] END C=0.1, degree=3, kernel=rbf;, score=0.782 total time=   0.0s\n",
      "[CV 4/5; 17/27] START C=0.1, degree=3, kernel=rbf...............................\n",
      "[CV 4/5; 17/27] END C=0.1, degree=3, kernel=rbf;, score=0.782 total time=   0.0s\n",
      "[CV 5/5; 17/27] START C=0.1, degree=3, kernel=rbf...............................\n",
      "[CV 5/5; 17/27] END C=0.1, degree=3, kernel=rbf;, score=0.756 total time=   0.0s\n",
      "[CV 1/5; 18/27] START C=0.1, degree=3, kernel=poly..............................\n",
      "[CV 1/5; 18/27] END C=0.1, degree=3, kernel=poly;, score=0.790 total time=   0.0s\n",
      "[CV 2/5; 18/27] START C=0.1, degree=3, kernel=poly..............................\n",
      "[CV 2/5; 18/27] END C=0.1, degree=3, kernel=poly;, score=0.739 total time=   0.0s\n",
      "[CV 3/5; 18/27] START C=0.1, degree=3, kernel=poly..............................\n",
      "[CV 3/5; 18/27] END C=0.1, degree=3, kernel=poly;, score=0.689 total time=   0.0s\n",
      "[CV 4/5; 18/27] START C=0.1, degree=3, kernel=poly..............................\n",
      "[CV 4/5; 18/27] END C=0.1, degree=3, kernel=poly;, score=0.790 total time=   0.0s\n",
      "[CV 5/5; 18/27] START C=0.1, degree=3, kernel=poly..............................\n",
      "[CV 5/5; 18/27] END C=0.1, degree=3, kernel=poly;, score=0.739 total time=   0.0s\n",
      "[CV 1/5; 19/27] START C=1, degree=1, kernel=linear..............................\n",
      "[CV 1/5; 19/27] END C=1, degree=1, kernel=linear;, score=0.840 total time=   0.0s\n",
      "[CV 2/5; 19/27] START C=1, degree=1, kernel=linear..............................\n",
      "[CV 2/5; 19/27] END C=1, degree=1, kernel=linear;, score=0.840 total time=   0.0s\n",
      "[CV 3/5; 19/27] START C=1, degree=1, kernel=linear..............................\n",
      "[CV 3/5; 19/27] END C=1, degree=1, kernel=linear;, score=0.773 total time=   0.0s\n",
      "[CV 4/5; 19/27] START C=1, degree=1, kernel=linear..............................\n",
      "[CV 4/5; 19/27] END C=1, degree=1, kernel=linear;, score=0.739 total time=   0.0s\n",
      "[CV 5/5; 19/27] START C=1, degree=1, kernel=linear..............................\n",
      "[CV 5/5; 19/27] END C=1, degree=1, kernel=linear;, score=0.773 total time=   0.0s\n",
      "[CV 1/5; 20/27] START C=1, degree=1, kernel=rbf.................................\n",
      "[CV 1/5; 20/27] END ..C=1, degree=1, kernel=rbf;, score=0.832 total time=   0.0s\n",
      "[CV 2/5; 20/27] START C=1, degree=1, kernel=rbf.................................\n",
      "[CV 2/5; 20/27] END ..C=1, degree=1, kernel=rbf;, score=0.824 total time=   0.0s\n",
      "[CV 3/5; 20/27] START C=1, degree=1, kernel=rbf.................................\n",
      "[CV 3/5; 20/27] END ..C=1, degree=1, kernel=rbf;, score=0.756 total time=   0.0s\n",
      "[CV 4/5; 20/27] START C=1, degree=1, kernel=rbf.................................\n",
      "[CV 4/5; 20/27] END ..C=1, degree=1, kernel=rbf;, score=0.815 total time=   0.0s\n",
      "[CV 5/5; 20/27] START C=1, degree=1, kernel=rbf.................................\n",
      "[CV 5/5; 20/27] END ..C=1, degree=1, kernel=rbf;, score=0.790 total time=   0.0s\n",
      "[CV 1/5; 21/27] START C=1, degree=1, kernel=poly................................\n",
      "[CV 1/5; 21/27] END .C=1, degree=1, kernel=poly;, score=0.840 total time=   0.0s\n",
      "[CV 2/5; 21/27] START C=1, degree=1, kernel=poly................................\n",
      "[CV 2/5; 21/27] END .C=1, degree=1, kernel=poly;, score=0.840 total time=   0.0s\n",
      "[CV 3/5; 21/27] START C=1, degree=1, kernel=poly................................\n",
      "[CV 3/5; 21/27] END .C=1, degree=1, kernel=poly;, score=0.773 total time=   0.0s\n",
      "[CV 4/5; 21/27] START C=1, degree=1, kernel=poly................................\n",
      "[CV 4/5; 21/27] END .C=1, degree=1, kernel=poly;, score=0.739 total time=   0.0s\n",
      "[CV 5/5; 21/27] START C=1, degree=1, kernel=poly................................\n",
      "[CV 5/5; 21/27] END .C=1, degree=1, kernel=poly;, score=0.773 total time=   0.0s\n",
      "[CV 1/5; 22/27] START C=1, degree=2, kernel=linear..............................\n",
      "[CV 1/5; 22/27] END C=1, degree=2, kernel=linear;, score=0.840 total time=   0.0s\n",
      "[CV 2/5; 22/27] START C=1, degree=2, kernel=linear..............................\n",
      "[CV 2/5; 22/27] END C=1, degree=2, kernel=linear;, score=0.840 total time=   0.0s\n",
      "[CV 3/5; 22/27] START C=1, degree=2, kernel=linear..............................\n",
      "[CV 3/5; 22/27] END C=1, degree=2, kernel=linear;, score=0.773 total time=   0.0s\n",
      "[CV 4/5; 22/27] START C=1, degree=2, kernel=linear..............................\n",
      "[CV 4/5; 22/27] END C=1, degree=2, kernel=linear;, score=0.739 total time=   0.0s\n",
      "[CV 5/5; 22/27] START C=1, degree=2, kernel=linear..............................\n",
      "[CV 5/5; 22/27] END C=1, degree=2, kernel=linear;, score=0.773 total time=   0.0s\n",
      "[CV 1/5; 23/27] START C=1, degree=2, kernel=rbf.................................\n"
     ]
    },
    {
     "name": "stdout",
     "output_type": "stream",
     "text": [
      "[CV 1/5; 23/27] END ..C=1, degree=2, kernel=rbf;, score=0.832 total time=   0.0s\n",
      "[CV 2/5; 23/27] START C=1, degree=2, kernel=rbf.................................\n",
      "[CV 2/5; 23/27] END ..C=1, degree=2, kernel=rbf;, score=0.824 total time=   0.0s\n",
      "[CV 3/5; 23/27] START C=1, degree=2, kernel=rbf.................................\n",
      "[CV 3/5; 23/27] END ..C=1, degree=2, kernel=rbf;, score=0.756 total time=   0.0s\n",
      "[CV 4/5; 23/27] START C=1, degree=2, kernel=rbf.................................\n",
      "[CV 4/5; 23/27] END ..C=1, degree=2, kernel=rbf;, score=0.815 total time=   0.0s\n",
      "[CV 5/5; 23/27] START C=1, degree=2, kernel=rbf.................................\n",
      "[CV 5/5; 23/27] END ..C=1, degree=2, kernel=rbf;, score=0.790 total time=   0.0s\n",
      "[CV 1/5; 24/27] START C=1, degree=2, kernel=poly................................\n",
      "[CV 1/5; 24/27] END .C=1, degree=2, kernel=poly;, score=0.815 total time=   0.0s\n",
      "[CV 2/5; 24/27] START C=1, degree=2, kernel=poly................................\n",
      "[CV 2/5; 24/27] END .C=1, degree=2, kernel=poly;, score=0.756 total time=   0.0s\n",
      "[CV 3/5; 24/27] START C=1, degree=2, kernel=poly................................\n",
      "[CV 3/5; 24/27] END .C=1, degree=2, kernel=poly;, score=0.782 total time=   0.0s\n",
      "[CV 4/5; 24/27] START C=1, degree=2, kernel=poly................................\n",
      "[CV 4/5; 24/27] END .C=1, degree=2, kernel=poly;, score=0.815 total time=   0.0s\n",
      "[CV 5/5; 24/27] START C=1, degree=2, kernel=poly................................\n",
      "[CV 5/5; 24/27] END .C=1, degree=2, kernel=poly;, score=0.790 total time=   0.0s\n",
      "[CV 1/5; 25/27] START C=1, degree=3, kernel=linear..............................\n",
      "[CV 1/5; 25/27] END C=1, degree=3, kernel=linear;, score=0.840 total time=   0.0s\n",
      "[CV 2/5; 25/27] START C=1, degree=3, kernel=linear..............................\n",
      "[CV 2/5; 25/27] END C=1, degree=3, kernel=linear;, score=0.840 total time=   0.0s\n",
      "[CV 3/5; 25/27] START C=1, degree=3, kernel=linear..............................\n",
      "[CV 3/5; 25/27] END C=1, degree=3, kernel=linear;, score=0.773 total time=   0.0s\n",
      "[CV 4/5; 25/27] START C=1, degree=3, kernel=linear..............................\n",
      "[CV 4/5; 25/27] END C=1, degree=3, kernel=linear;, score=0.739 total time=   0.0s\n",
      "[CV 5/5; 25/27] START C=1, degree=3, kernel=linear..............................\n",
      "[CV 5/5; 25/27] END C=1, degree=3, kernel=linear;, score=0.773 total time=   0.0s\n",
      "[CV 1/5; 26/27] START C=1, degree=3, kernel=rbf.................................\n",
      "[CV 1/5; 26/27] END ..C=1, degree=3, kernel=rbf;, score=0.832 total time=   0.0s\n",
      "[CV 2/5; 26/27] START C=1, degree=3, kernel=rbf.................................\n",
      "[CV 2/5; 26/27] END ..C=1, degree=3, kernel=rbf;, score=0.824 total time=   0.0s\n",
      "[CV 3/5; 26/27] START C=1, degree=3, kernel=rbf.................................\n",
      "[CV 3/5; 26/27] END ..C=1, degree=3, kernel=rbf;, score=0.756 total time=   0.0s\n",
      "[CV 4/5; 26/27] START C=1, degree=3, kernel=rbf.................................\n",
      "[CV 4/5; 26/27] END ..C=1, degree=3, kernel=rbf;, score=0.815 total time=   0.0s\n",
      "[CV 5/5; 26/27] START C=1, degree=3, kernel=rbf.................................\n",
      "[CV 5/5; 26/27] END ..C=1, degree=3, kernel=rbf;, score=0.790 total time=   0.0s\n",
      "[CV 1/5; 27/27] START C=1, degree=3, kernel=poly................................\n",
      "[CV 1/5; 27/27] END .C=1, degree=3, kernel=poly;, score=0.832 total time=   0.0s\n",
      "[CV 2/5; 27/27] START C=1, degree=3, kernel=poly................................\n",
      "[CV 2/5; 27/27] END .C=1, degree=3, kernel=poly;, score=0.807 total time=   0.0s\n",
      "[CV 3/5; 27/27] START C=1, degree=3, kernel=poly................................\n",
      "[CV 3/5; 27/27] END .C=1, degree=3, kernel=poly;, score=0.765 total time=   0.0s\n",
      "[CV 4/5; 27/27] START C=1, degree=3, kernel=poly................................\n",
      "[CV 4/5; 27/27] END .C=1, degree=3, kernel=poly;, score=0.824 total time=   0.0s\n",
      "[CV 5/5; 27/27] START C=1, degree=3, kernel=poly................................\n",
      "[CV 5/5; 27/27] END .C=1, degree=3, kernel=poly;, score=0.815 total time=   0.0s\n"
     ]
    },
    {
     "data": {
      "text/plain": [
       "GridSearchCV(estimator=SVC(),\n",
       "             param_grid={'C': [0.01, 0.1, 1], 'degree': [1, 2, 3],\n",
       "                         'kernel': ['linear', 'rbf', 'poly']},\n",
       "             verbose=10)"
      ]
     },
     "execution_count": 118,
     "metadata": {},
     "output_type": "execute_result"
    }
   ],
   "source": [
    "grid.fit(scaled_X_train,y_train)"
   ]
  },
  {
   "cell_type": "code",
   "execution_count": 119,
   "metadata": {},
   "outputs": [
    {
     "data": {
      "text/plain": [
       "{'C': 1, 'degree': 3, 'kernel': 'poly'}"
      ]
     },
     "execution_count": 119,
     "metadata": {},
     "output_type": "execute_result"
    }
   ],
   "source": [
    "grid.best_params_"
   ]
  },
  {
   "cell_type": "code",
   "execution_count": 120,
   "metadata": {},
   "outputs": [
    {
     "data": {
      "text/plain": [
       "SVC(C=1, kernel='poly')"
      ]
     },
     "execution_count": 120,
     "metadata": {},
     "output_type": "execute_result"
    }
   ],
   "source": [
    "grid.best_estimator_"
   ]
  },
  {
   "cell_type": "code",
   "execution_count": 121,
   "metadata": {},
   "outputs": [
    {
     "data": {
      "text/html": [
       "<div>\n",
       "<style scoped>\n",
       "    .dataframe tbody tr th:only-of-type {\n",
       "        vertical-align: middle;\n",
       "    }\n",
       "\n",
       "    .dataframe tbody tr th {\n",
       "        vertical-align: top;\n",
       "    }\n",
       "\n",
       "    .dataframe thead th {\n",
       "        text-align: right;\n",
       "    }\n",
       "</style>\n",
       "<table border=\"1\" class=\"dataframe\">\n",
       "  <thead>\n",
       "    <tr style=\"text-align: right;\">\n",
       "      <th></th>\n",
       "      <th>mean_fit_time</th>\n",
       "      <th>std_fit_time</th>\n",
       "      <th>mean_score_time</th>\n",
       "      <th>std_score_time</th>\n",
       "      <th>param_C</th>\n",
       "      <th>param_degree</th>\n",
       "      <th>param_kernel</th>\n",
       "      <th>params</th>\n",
       "      <th>split0_test_score</th>\n",
       "      <th>split1_test_score</th>\n",
       "      <th>split2_test_score</th>\n",
       "      <th>split3_test_score</th>\n",
       "      <th>split4_test_score</th>\n",
       "      <th>mean_test_score</th>\n",
       "      <th>std_test_score</th>\n",
       "      <th>rank_test_score</th>\n",
       "    </tr>\n",
       "  </thead>\n",
       "  <tbody>\n",
       "    <tr>\n",
       "      <th>0</th>\n",
       "      <td>0.014344</td>\n",
       "      <td>0.002305</td>\n",
       "      <td>0.001017</td>\n",
       "      <td>0.001101</td>\n",
       "      <td>0.01</td>\n",
       "      <td>1</td>\n",
       "      <td>linear</td>\n",
       "      <td>{'C': 0.01, 'degree': 1, 'kernel': 'linear'}</td>\n",
       "      <td>0.840336</td>\n",
       "      <td>0.840336</td>\n",
       "      <td>0.773109</td>\n",
       "      <td>0.739496</td>\n",
       "      <td>0.773109</td>\n",
       "      <td>0.793277</td>\n",
       "      <td>0.040336</td>\n",
       "      <td>5</td>\n",
       "    </tr>\n",
       "    <tr>\n",
       "      <th>1</th>\n",
       "      <td>0.022087</td>\n",
       "      <td>0.010617</td>\n",
       "      <td>0.016053</td>\n",
       "      <td>0.001552</td>\n",
       "      <td>0.01</td>\n",
       "      <td>1</td>\n",
       "      <td>rbf</td>\n",
       "      <td>{'C': 0.01, 'degree': 1, 'kernel': 'rbf'}</td>\n",
       "      <td>0.621849</td>\n",
       "      <td>0.621849</td>\n",
       "      <td>0.630252</td>\n",
       "      <td>0.630252</td>\n",
       "      <td>0.630252</td>\n",
       "      <td>0.626891</td>\n",
       "      <td>0.004117</td>\n",
       "      <td>25</td>\n",
       "    </tr>\n",
       "    <tr>\n",
       "      <th>2</th>\n",
       "      <td>0.013021</td>\n",
       "      <td>0.006529</td>\n",
       "      <td>0.006796</td>\n",
       "      <td>0.007936</td>\n",
       "      <td>0.01</td>\n",
       "      <td>1</td>\n",
       "      <td>poly</td>\n",
       "      <td>{'C': 0.01, 'degree': 1, 'kernel': 'poly'}</td>\n",
       "      <td>0.638655</td>\n",
       "      <td>0.621849</td>\n",
       "      <td>0.663866</td>\n",
       "      <td>0.638655</td>\n",
       "      <td>0.630252</td>\n",
       "      <td>0.638655</td>\n",
       "      <td>0.014062</td>\n",
       "      <td>23</td>\n",
       "    </tr>\n",
       "    <tr>\n",
       "      <th>3</th>\n",
       "      <td>0.015301</td>\n",
       "      <td>0.002538</td>\n",
       "      <td>0.000369</td>\n",
       "      <td>0.000738</td>\n",
       "      <td>0.01</td>\n",
       "      <td>2</td>\n",
       "      <td>linear</td>\n",
       "      <td>{'C': 0.01, 'degree': 2, 'kernel': 'linear'}</td>\n",
       "      <td>0.840336</td>\n",
       "      <td>0.840336</td>\n",
       "      <td>0.773109</td>\n",
       "      <td>0.739496</td>\n",
       "      <td>0.773109</td>\n",
       "      <td>0.793277</td>\n",
       "      <td>0.040336</td>\n",
       "      <td>5</td>\n",
       "    </tr>\n",
       "    <tr>\n",
       "      <th>4</th>\n",
       "      <td>0.017377</td>\n",
       "      <td>0.002151</td>\n",
       "      <td>0.015900</td>\n",
       "      <td>0.004007</td>\n",
       "      <td>0.01</td>\n",
       "      <td>2</td>\n",
       "      <td>rbf</td>\n",
       "      <td>{'C': 0.01, 'degree': 2, 'kernel': 'rbf'}</td>\n",
       "      <td>0.621849</td>\n",
       "      <td>0.621849</td>\n",
       "      <td>0.630252</td>\n",
       "      <td>0.630252</td>\n",
       "      <td>0.630252</td>\n",
       "      <td>0.626891</td>\n",
       "      <td>0.004117</td>\n",
       "      <td>25</td>\n",
       "    </tr>\n",
       "    <tr>\n",
       "      <th>5</th>\n",
       "      <td>0.014738</td>\n",
       "      <td>0.001774</td>\n",
       "      <td>0.002401</td>\n",
       "      <td>0.003249</td>\n",
       "      <td>0.01</td>\n",
       "      <td>2</td>\n",
       "      <td>poly</td>\n",
       "      <td>{'C': 0.01, 'degree': 2, 'kernel': 'poly'}</td>\n",
       "      <td>0.621849</td>\n",
       "      <td>0.630252</td>\n",
       "      <td>0.638655</td>\n",
       "      <td>0.630252</td>\n",
       "      <td>0.630252</td>\n",
       "      <td>0.630252</td>\n",
       "      <td>0.005315</td>\n",
       "      <td>24</td>\n",
       "    </tr>\n",
       "    <tr>\n",
       "      <th>6</th>\n",
       "      <td>0.016086</td>\n",
       "      <td>0.000907</td>\n",
       "      <td>0.000000</td>\n",
       "      <td>0.000000</td>\n",
       "      <td>0.01</td>\n",
       "      <td>3</td>\n",
       "      <td>linear</td>\n",
       "      <td>{'C': 0.01, 'degree': 3, 'kernel': 'linear'}</td>\n",
       "      <td>0.840336</td>\n",
       "      <td>0.840336</td>\n",
       "      <td>0.773109</td>\n",
       "      <td>0.739496</td>\n",
       "      <td>0.773109</td>\n",
       "      <td>0.793277</td>\n",
       "      <td>0.040336</td>\n",
       "      <td>5</td>\n",
       "    </tr>\n",
       "    <tr>\n",
       "      <th>7</th>\n",
       "      <td>0.022647</td>\n",
       "      <td>0.004271</td>\n",
       "      <td>0.012158</td>\n",
       "      <td>0.006066</td>\n",
       "      <td>0.01</td>\n",
       "      <td>3</td>\n",
       "      <td>rbf</td>\n",
       "      <td>{'C': 0.01, 'degree': 3, 'kernel': 'rbf'}</td>\n",
       "      <td>0.621849</td>\n",
       "      <td>0.621849</td>\n",
       "      <td>0.630252</td>\n",
       "      <td>0.630252</td>\n",
       "      <td>0.630252</td>\n",
       "      <td>0.626891</td>\n",
       "      <td>0.004117</td>\n",
       "      <td>25</td>\n",
       "    </tr>\n",
       "    <tr>\n",
       "      <th>8</th>\n",
       "      <td>0.010740</td>\n",
       "      <td>0.005538</td>\n",
       "      <td>0.004245</td>\n",
       "      <td>0.006133</td>\n",
       "      <td>0.01</td>\n",
       "      <td>3</td>\n",
       "      <td>poly</td>\n",
       "      <td>{'C': 0.01, 'degree': 3, 'kernel': 'poly'}</td>\n",
       "      <td>0.638655</td>\n",
       "      <td>0.630252</td>\n",
       "      <td>0.655462</td>\n",
       "      <td>0.672269</td>\n",
       "      <td>0.630252</td>\n",
       "      <td>0.645378</td>\n",
       "      <td>0.016295</td>\n",
       "      <td>22</td>\n",
       "    </tr>\n",
       "    <tr>\n",
       "      <th>9</th>\n",
       "      <td>0.006593</td>\n",
       "      <td>0.008692</td>\n",
       "      <td>0.003738</td>\n",
       "      <td>0.005988</td>\n",
       "      <td>0.1</td>\n",
       "      <td>1</td>\n",
       "      <td>linear</td>\n",
       "      <td>{'C': 0.1, 'degree': 1, 'kernel': 'linear'}</td>\n",
       "      <td>0.840336</td>\n",
       "      <td>0.840336</td>\n",
       "      <td>0.773109</td>\n",
       "      <td>0.739496</td>\n",
       "      <td>0.773109</td>\n",
       "      <td>0.793277</td>\n",
       "      <td>0.040336</td>\n",
       "      <td>5</td>\n",
       "    </tr>\n",
       "    <tr>\n",
       "      <th>10</th>\n",
       "      <td>0.019970</td>\n",
       "      <td>0.000755</td>\n",
       "      <td>0.011565</td>\n",
       "      <td>0.001843</td>\n",
       "      <td>0.1</td>\n",
       "      <td>1</td>\n",
       "      <td>rbf</td>\n",
       "      <td>{'C': 0.1, 'degree': 1, 'kernel': 'rbf'}</td>\n",
       "      <td>0.798319</td>\n",
       "      <td>0.773109</td>\n",
       "      <td>0.781513</td>\n",
       "      <td>0.781513</td>\n",
       "      <td>0.756303</td>\n",
       "      <td>0.778151</td>\n",
       "      <td>0.013654</td>\n",
       "      <td>17</td>\n",
       "    </tr>\n",
       "    <tr>\n",
       "      <th>11</th>\n",
       "      <td>0.013011</td>\n",
       "      <td>0.002290</td>\n",
       "      <td>0.002625</td>\n",
       "      <td>0.001628</td>\n",
       "      <td>0.1</td>\n",
       "      <td>1</td>\n",
       "      <td>poly</td>\n",
       "      <td>{'C': 0.1, 'degree': 1, 'kernel': 'poly'}</td>\n",
       "      <td>0.840336</td>\n",
       "      <td>0.840336</td>\n",
       "      <td>0.773109</td>\n",
       "      <td>0.739496</td>\n",
       "      <td>0.773109</td>\n",
       "      <td>0.793277</td>\n",
       "      <td>0.040336</td>\n",
       "      <td>5</td>\n",
       "    </tr>\n",
       "    <tr>\n",
       "      <th>12</th>\n",
       "      <td>0.010062</td>\n",
       "      <td>0.001524</td>\n",
       "      <td>0.002959</td>\n",
       "      <td>0.002871</td>\n",
       "      <td>0.1</td>\n",
       "      <td>2</td>\n",
       "      <td>linear</td>\n",
       "      <td>{'C': 0.1, 'degree': 2, 'kernel': 'linear'}</td>\n",
       "      <td>0.840336</td>\n",
       "      <td>0.840336</td>\n",
       "      <td>0.773109</td>\n",
       "      <td>0.739496</td>\n",
       "      <td>0.773109</td>\n",
       "      <td>0.793277</td>\n",
       "      <td>0.040336</td>\n",
       "      <td>5</td>\n",
       "    </tr>\n",
       "    <tr>\n",
       "      <th>13</th>\n",
       "      <td>0.020701</td>\n",
       "      <td>0.003955</td>\n",
       "      <td>0.005913</td>\n",
       "      <td>0.005603</td>\n",
       "      <td>0.1</td>\n",
       "      <td>2</td>\n",
       "      <td>rbf</td>\n",
       "      <td>{'C': 0.1, 'degree': 2, 'kernel': 'rbf'}</td>\n",
       "      <td>0.798319</td>\n",
       "      <td>0.773109</td>\n",
       "      <td>0.781513</td>\n",
       "      <td>0.781513</td>\n",
       "      <td>0.756303</td>\n",
       "      <td>0.778151</td>\n",
       "      <td>0.013654</td>\n",
       "      <td>17</td>\n",
       "    </tr>\n",
       "    <tr>\n",
       "      <th>14</th>\n",
       "      <td>0.016352</td>\n",
       "      <td>0.000866</td>\n",
       "      <td>0.003124</td>\n",
       "      <td>0.006248</td>\n",
       "      <td>0.1</td>\n",
       "      <td>2</td>\n",
       "      <td>poly</td>\n",
       "      <td>{'C': 0.1, 'degree': 2, 'kernel': 'poly'}</td>\n",
       "      <td>0.714286</td>\n",
       "      <td>0.689076</td>\n",
       "      <td>0.655462</td>\n",
       "      <td>0.722689</td>\n",
       "      <td>0.680672</td>\n",
       "      <td>0.692437</td>\n",
       "      <td>0.024122</td>\n",
       "      <td>21</td>\n",
       "    </tr>\n",
       "    <tr>\n",
       "      <th>15</th>\n",
       "      <td>0.009406</td>\n",
       "      <td>0.007581</td>\n",
       "      <td>0.001206</td>\n",
       "      <td>0.001951</td>\n",
       "      <td>0.1</td>\n",
       "      <td>3</td>\n",
       "      <td>linear</td>\n",
       "      <td>{'C': 0.1, 'degree': 3, 'kernel': 'linear'}</td>\n",
       "      <td>0.840336</td>\n",
       "      <td>0.840336</td>\n",
       "      <td>0.773109</td>\n",
       "      <td>0.739496</td>\n",
       "      <td>0.773109</td>\n",
       "      <td>0.793277</td>\n",
       "      <td>0.040336</td>\n",
       "      <td>5</td>\n",
       "    </tr>\n",
       "    <tr>\n",
       "      <th>16</th>\n",
       "      <td>0.018423</td>\n",
       "      <td>0.003794</td>\n",
       "      <td>0.012045</td>\n",
       "      <td>0.006096</td>\n",
       "      <td>0.1</td>\n",
       "      <td>3</td>\n",
       "      <td>rbf</td>\n",
       "      <td>{'C': 0.1, 'degree': 3, 'kernel': 'rbf'}</td>\n",
       "      <td>0.798319</td>\n",
       "      <td>0.773109</td>\n",
       "      <td>0.781513</td>\n",
       "      <td>0.781513</td>\n",
       "      <td>0.756303</td>\n",
       "      <td>0.778151</td>\n",
       "      <td>0.013654</td>\n",
       "      <td>17</td>\n",
       "    </tr>\n",
       "    <tr>\n",
       "      <th>17</th>\n",
       "      <td>0.015679</td>\n",
       "      <td>0.007405</td>\n",
       "      <td>0.000606</td>\n",
       "      <td>0.001211</td>\n",
       "      <td>0.1</td>\n",
       "      <td>3</td>\n",
       "      <td>poly</td>\n",
       "      <td>{'C': 0.1, 'degree': 3, 'kernel': 'poly'}</td>\n",
       "      <td>0.789916</td>\n",
       "      <td>0.739496</td>\n",
       "      <td>0.689076</td>\n",
       "      <td>0.789916</td>\n",
       "      <td>0.739496</td>\n",
       "      <td>0.749580</td>\n",
       "      <td>0.037731</td>\n",
       "      <td>20</td>\n",
       "    </tr>\n",
       "    <tr>\n",
       "      <th>18</th>\n",
       "      <td>0.017933</td>\n",
       "      <td>0.002830</td>\n",
       "      <td>0.000000</td>\n",
       "      <td>0.000000</td>\n",
       "      <td>1</td>\n",
       "      <td>1</td>\n",
       "      <td>linear</td>\n",
       "      <td>{'C': 1, 'degree': 1, 'kernel': 'linear'}</td>\n",
       "      <td>0.840336</td>\n",
       "      <td>0.840336</td>\n",
       "      <td>0.773109</td>\n",
       "      <td>0.739496</td>\n",
       "      <td>0.773109</td>\n",
       "      <td>0.793277</td>\n",
       "      <td>0.040336</td>\n",
       "      <td>5</td>\n",
       "    </tr>\n",
       "    <tr>\n",
       "      <th>19</th>\n",
       "      <td>0.024639</td>\n",
       "      <td>0.004261</td>\n",
       "      <td>0.006623</td>\n",
       "      <td>0.005169</td>\n",
       "      <td>1</td>\n",
       "      <td>1</td>\n",
       "      <td>rbf</td>\n",
       "      <td>{'C': 1, 'degree': 1, 'kernel': 'rbf'}</td>\n",
       "      <td>0.831933</td>\n",
       "      <td>0.823529</td>\n",
       "      <td>0.756303</td>\n",
       "      <td>0.815126</td>\n",
       "      <td>0.789916</td>\n",
       "      <td>0.803361</td>\n",
       "      <td>0.027411</td>\n",
       "      <td>2</td>\n",
       "    </tr>\n",
       "    <tr>\n",
       "      <th>20</th>\n",
       "      <td>0.011095</td>\n",
       "      <td>0.002301</td>\n",
       "      <td>0.002310</td>\n",
       "      <td>0.001595</td>\n",
       "      <td>1</td>\n",
       "      <td>1</td>\n",
       "      <td>poly</td>\n",
       "      <td>{'C': 1, 'degree': 1, 'kernel': 'poly'}</td>\n",
       "      <td>0.840336</td>\n",
       "      <td>0.840336</td>\n",
       "      <td>0.773109</td>\n",
       "      <td>0.739496</td>\n",
       "      <td>0.773109</td>\n",
       "      <td>0.793277</td>\n",
       "      <td>0.040336</td>\n",
       "      <td>5</td>\n",
       "    </tr>\n",
       "    <tr>\n",
       "      <th>21</th>\n",
       "      <td>0.011719</td>\n",
       "      <td>0.003471</td>\n",
       "      <td>0.002570</td>\n",
       "      <td>0.002552</td>\n",
       "      <td>1</td>\n",
       "      <td>2</td>\n",
       "      <td>linear</td>\n",
       "      <td>{'C': 1, 'degree': 2, 'kernel': 'linear'}</td>\n",
       "      <td>0.840336</td>\n",
       "      <td>0.840336</td>\n",
       "      <td>0.773109</td>\n",
       "      <td>0.739496</td>\n",
       "      <td>0.773109</td>\n",
       "      <td>0.793277</td>\n",
       "      <td>0.040336</td>\n",
       "      <td>5</td>\n",
       "    </tr>\n",
       "    <tr>\n",
       "      <th>22</th>\n",
       "      <td>0.019539</td>\n",
       "      <td>0.002601</td>\n",
       "      <td>0.007272</td>\n",
       "      <td>0.000632</td>\n",
       "      <td>1</td>\n",
       "      <td>2</td>\n",
       "      <td>rbf</td>\n",
       "      <td>{'C': 1, 'degree': 2, 'kernel': 'rbf'}</td>\n",
       "      <td>0.831933</td>\n",
       "      <td>0.823529</td>\n",
       "      <td>0.756303</td>\n",
       "      <td>0.815126</td>\n",
       "      <td>0.789916</td>\n",
       "      <td>0.803361</td>\n",
       "      <td>0.027411</td>\n",
       "      <td>2</td>\n",
       "    </tr>\n",
       "    <tr>\n",
       "      <th>23</th>\n",
       "      <td>0.016393</td>\n",
       "      <td>0.000861</td>\n",
       "      <td>0.003172</td>\n",
       "      <td>0.006343</td>\n",
       "      <td>1</td>\n",
       "      <td>2</td>\n",
       "      <td>poly</td>\n",
       "      <td>{'C': 1, 'degree': 2, 'kernel': 'poly'}</td>\n",
       "      <td>0.815126</td>\n",
       "      <td>0.756303</td>\n",
       "      <td>0.781513</td>\n",
       "      <td>0.815126</td>\n",
       "      <td>0.789916</td>\n",
       "      <td>0.791597</td>\n",
       "      <td>0.022170</td>\n",
       "      <td>16</td>\n",
       "    </tr>\n",
       "    <tr>\n",
       "      <th>24</th>\n",
       "      <td>0.010340</td>\n",
       "      <td>0.005801</td>\n",
       "      <td>0.003195</td>\n",
       "      <td>0.006390</td>\n",
       "      <td>1</td>\n",
       "      <td>3</td>\n",
       "      <td>linear</td>\n",
       "      <td>{'C': 1, 'degree': 3, 'kernel': 'linear'}</td>\n",
       "      <td>0.840336</td>\n",
       "      <td>0.840336</td>\n",
       "      <td>0.773109</td>\n",
       "      <td>0.739496</td>\n",
       "      <td>0.773109</td>\n",
       "      <td>0.793277</td>\n",
       "      <td>0.040336</td>\n",
       "      <td>5</td>\n",
       "    </tr>\n",
       "    <tr>\n",
       "      <th>25</th>\n",
       "      <td>0.018045</td>\n",
       "      <td>0.001675</td>\n",
       "      <td>0.007410</td>\n",
       "      <td>0.006760</td>\n",
       "      <td>1</td>\n",
       "      <td>3</td>\n",
       "      <td>rbf</td>\n",
       "      <td>{'C': 1, 'degree': 3, 'kernel': 'rbf'}</td>\n",
       "      <td>0.831933</td>\n",
       "      <td>0.823529</td>\n",
       "      <td>0.756303</td>\n",
       "      <td>0.815126</td>\n",
       "      <td>0.789916</td>\n",
       "      <td>0.803361</td>\n",
       "      <td>0.027411</td>\n",
       "      <td>2</td>\n",
       "    </tr>\n",
       "    <tr>\n",
       "      <th>26</th>\n",
       "      <td>0.017506</td>\n",
       "      <td>0.001822</td>\n",
       "      <td>0.003474</td>\n",
       "      <td>0.003087</td>\n",
       "      <td>1</td>\n",
       "      <td>3</td>\n",
       "      <td>poly</td>\n",
       "      <td>{'C': 1, 'degree': 3, 'kernel': 'poly'}</td>\n",
       "      <td>0.831933</td>\n",
       "      <td>0.806723</td>\n",
       "      <td>0.764706</td>\n",
       "      <td>0.823529</td>\n",
       "      <td>0.815126</td>\n",
       "      <td>0.808403</td>\n",
       "      <td>0.023409</td>\n",
       "      <td>1</td>\n",
       "    </tr>\n",
       "  </tbody>\n",
       "</table>\n",
       "</div>"
      ],
      "text/plain": [
       "    mean_fit_time  std_fit_time  mean_score_time  std_score_time param_C  \\\n",
       "0        0.014344      0.002305         0.001017        0.001101    0.01   \n",
       "1        0.022087      0.010617         0.016053        0.001552    0.01   \n",
       "2        0.013021      0.006529         0.006796        0.007936    0.01   \n",
       "3        0.015301      0.002538         0.000369        0.000738    0.01   \n",
       "4        0.017377      0.002151         0.015900        0.004007    0.01   \n",
       "5        0.014738      0.001774         0.002401        0.003249    0.01   \n",
       "6        0.016086      0.000907         0.000000        0.000000    0.01   \n",
       "7        0.022647      0.004271         0.012158        0.006066    0.01   \n",
       "8        0.010740      0.005538         0.004245        0.006133    0.01   \n",
       "9        0.006593      0.008692         0.003738        0.005988     0.1   \n",
       "10       0.019970      0.000755         0.011565        0.001843     0.1   \n",
       "11       0.013011      0.002290         0.002625        0.001628     0.1   \n",
       "12       0.010062      0.001524         0.002959        0.002871     0.1   \n",
       "13       0.020701      0.003955         0.005913        0.005603     0.1   \n",
       "14       0.016352      0.000866         0.003124        0.006248     0.1   \n",
       "15       0.009406      0.007581         0.001206        0.001951     0.1   \n",
       "16       0.018423      0.003794         0.012045        0.006096     0.1   \n",
       "17       0.015679      0.007405         0.000606        0.001211     0.1   \n",
       "18       0.017933      0.002830         0.000000        0.000000       1   \n",
       "19       0.024639      0.004261         0.006623        0.005169       1   \n",
       "20       0.011095      0.002301         0.002310        0.001595       1   \n",
       "21       0.011719      0.003471         0.002570        0.002552       1   \n",
       "22       0.019539      0.002601         0.007272        0.000632       1   \n",
       "23       0.016393      0.000861         0.003172        0.006343       1   \n",
       "24       0.010340      0.005801         0.003195        0.006390       1   \n",
       "25       0.018045      0.001675         0.007410        0.006760       1   \n",
       "26       0.017506      0.001822         0.003474        0.003087       1   \n",
       "\n",
       "   param_degree param_kernel                                        params  \\\n",
       "0             1       linear  {'C': 0.01, 'degree': 1, 'kernel': 'linear'}   \n",
       "1             1          rbf     {'C': 0.01, 'degree': 1, 'kernel': 'rbf'}   \n",
       "2             1         poly    {'C': 0.01, 'degree': 1, 'kernel': 'poly'}   \n",
       "3             2       linear  {'C': 0.01, 'degree': 2, 'kernel': 'linear'}   \n",
       "4             2          rbf     {'C': 0.01, 'degree': 2, 'kernel': 'rbf'}   \n",
       "5             2         poly    {'C': 0.01, 'degree': 2, 'kernel': 'poly'}   \n",
       "6             3       linear  {'C': 0.01, 'degree': 3, 'kernel': 'linear'}   \n",
       "7             3          rbf     {'C': 0.01, 'degree': 3, 'kernel': 'rbf'}   \n",
       "8             3         poly    {'C': 0.01, 'degree': 3, 'kernel': 'poly'}   \n",
       "9             1       linear   {'C': 0.1, 'degree': 1, 'kernel': 'linear'}   \n",
       "10            1          rbf      {'C': 0.1, 'degree': 1, 'kernel': 'rbf'}   \n",
       "11            1         poly     {'C': 0.1, 'degree': 1, 'kernel': 'poly'}   \n",
       "12            2       linear   {'C': 0.1, 'degree': 2, 'kernel': 'linear'}   \n",
       "13            2          rbf      {'C': 0.1, 'degree': 2, 'kernel': 'rbf'}   \n",
       "14            2         poly     {'C': 0.1, 'degree': 2, 'kernel': 'poly'}   \n",
       "15            3       linear   {'C': 0.1, 'degree': 3, 'kernel': 'linear'}   \n",
       "16            3          rbf      {'C': 0.1, 'degree': 3, 'kernel': 'rbf'}   \n",
       "17            3         poly     {'C': 0.1, 'degree': 3, 'kernel': 'poly'}   \n",
       "18            1       linear     {'C': 1, 'degree': 1, 'kernel': 'linear'}   \n",
       "19            1          rbf        {'C': 1, 'degree': 1, 'kernel': 'rbf'}   \n",
       "20            1         poly       {'C': 1, 'degree': 1, 'kernel': 'poly'}   \n",
       "21            2       linear     {'C': 1, 'degree': 2, 'kernel': 'linear'}   \n",
       "22            2          rbf        {'C': 1, 'degree': 2, 'kernel': 'rbf'}   \n",
       "23            2         poly       {'C': 1, 'degree': 2, 'kernel': 'poly'}   \n",
       "24            3       linear     {'C': 1, 'degree': 3, 'kernel': 'linear'}   \n",
       "25            3          rbf        {'C': 1, 'degree': 3, 'kernel': 'rbf'}   \n",
       "26            3         poly       {'C': 1, 'degree': 3, 'kernel': 'poly'}   \n",
       "\n",
       "    split0_test_score  split1_test_score  split2_test_score  \\\n",
       "0            0.840336           0.840336           0.773109   \n",
       "1            0.621849           0.621849           0.630252   \n",
       "2            0.638655           0.621849           0.663866   \n",
       "3            0.840336           0.840336           0.773109   \n",
       "4            0.621849           0.621849           0.630252   \n",
       "5            0.621849           0.630252           0.638655   \n",
       "6            0.840336           0.840336           0.773109   \n",
       "7            0.621849           0.621849           0.630252   \n",
       "8            0.638655           0.630252           0.655462   \n",
       "9            0.840336           0.840336           0.773109   \n",
       "10           0.798319           0.773109           0.781513   \n",
       "11           0.840336           0.840336           0.773109   \n",
       "12           0.840336           0.840336           0.773109   \n",
       "13           0.798319           0.773109           0.781513   \n",
       "14           0.714286           0.689076           0.655462   \n",
       "15           0.840336           0.840336           0.773109   \n",
       "16           0.798319           0.773109           0.781513   \n",
       "17           0.789916           0.739496           0.689076   \n",
       "18           0.840336           0.840336           0.773109   \n",
       "19           0.831933           0.823529           0.756303   \n",
       "20           0.840336           0.840336           0.773109   \n",
       "21           0.840336           0.840336           0.773109   \n",
       "22           0.831933           0.823529           0.756303   \n",
       "23           0.815126           0.756303           0.781513   \n",
       "24           0.840336           0.840336           0.773109   \n",
       "25           0.831933           0.823529           0.756303   \n",
       "26           0.831933           0.806723           0.764706   \n",
       "\n",
       "    split3_test_score  split4_test_score  mean_test_score  std_test_score  \\\n",
       "0            0.739496           0.773109         0.793277        0.040336   \n",
       "1            0.630252           0.630252         0.626891        0.004117   \n",
       "2            0.638655           0.630252         0.638655        0.014062   \n",
       "3            0.739496           0.773109         0.793277        0.040336   \n",
       "4            0.630252           0.630252         0.626891        0.004117   \n",
       "5            0.630252           0.630252         0.630252        0.005315   \n",
       "6            0.739496           0.773109         0.793277        0.040336   \n",
       "7            0.630252           0.630252         0.626891        0.004117   \n",
       "8            0.672269           0.630252         0.645378        0.016295   \n",
       "9            0.739496           0.773109         0.793277        0.040336   \n",
       "10           0.781513           0.756303         0.778151        0.013654   \n",
       "11           0.739496           0.773109         0.793277        0.040336   \n",
       "12           0.739496           0.773109         0.793277        0.040336   \n",
       "13           0.781513           0.756303         0.778151        0.013654   \n",
       "14           0.722689           0.680672         0.692437        0.024122   \n",
       "15           0.739496           0.773109         0.793277        0.040336   \n",
       "16           0.781513           0.756303         0.778151        0.013654   \n",
       "17           0.789916           0.739496         0.749580        0.037731   \n",
       "18           0.739496           0.773109         0.793277        0.040336   \n",
       "19           0.815126           0.789916         0.803361        0.027411   \n",
       "20           0.739496           0.773109         0.793277        0.040336   \n",
       "21           0.739496           0.773109         0.793277        0.040336   \n",
       "22           0.815126           0.789916         0.803361        0.027411   \n",
       "23           0.815126           0.789916         0.791597        0.022170   \n",
       "24           0.739496           0.773109         0.793277        0.040336   \n",
       "25           0.815126           0.789916         0.803361        0.027411   \n",
       "26           0.823529           0.815126         0.808403        0.023409   \n",
       "\n",
       "    rank_test_score  \n",
       "0                 5  \n",
       "1                25  \n",
       "2                23  \n",
       "3                 5  \n",
       "4                25  \n",
       "5                24  \n",
       "6                 5  \n",
       "7                25  \n",
       "8                22  \n",
       "9                 5  \n",
       "10               17  \n",
       "11                5  \n",
       "12                5  \n",
       "13               17  \n",
       "14               21  \n",
       "15                5  \n",
       "16               17  \n",
       "17               20  \n",
       "18                5  \n",
       "19                2  \n",
       "20                5  \n",
       "21                5  \n",
       "22                2  \n",
       "23               16  \n",
       "24                5  \n",
       "25                2  \n",
       "26                1  "
      ]
     },
     "execution_count": 121,
     "metadata": {},
     "output_type": "execute_result"
    }
   ],
   "source": [
    "pd.DataFrame(data=grid.cv_results_,columns=grid.cv_results_.keys())"
   ]
  },
  {
   "cell_type": "markdown",
   "metadata": {},
   "source": [
    "### Displaying the confusion matrix and classification report"
   ]
  },
  {
   "cell_type": "code",
   "execution_count": null,
   "metadata": {},
   "outputs": [],
   "source": []
  },
  {
   "cell_type": "code",
   "execution_count": 122,
   "metadata": {},
   "outputs": [],
   "source": [
    "from sklearn.metrics import confusion_matrix,classification_report"
   ]
  },
  {
   "cell_type": "code",
   "execution_count": 123,
   "metadata": {},
   "outputs": [],
   "source": [
    "grid_pred = grid.predict(scaled_X_test)"
   ]
  },
  {
   "cell_type": "code",
   "execution_count": 124,
   "metadata": {},
   "outputs": [
    {
     "data": {
      "text/plain": [
       "array([[164,  12],\n",
       "       [ 43,  75]], dtype=int64)"
      ]
     },
     "execution_count": 124,
     "metadata": {},
     "output_type": "execute_result"
    }
   ],
   "source": [
    "confusion_matrix(y_test,grid_pred)"
   ]
  },
  {
   "cell_type": "code",
   "execution_count": 125,
   "metadata": {},
   "outputs": [
    {
     "name": "stdout",
     "output_type": "stream",
     "text": [
      "              precision    recall  f1-score   support\n",
      "\n",
      "           0       0.79      0.93      0.86       176\n",
      "           1       0.86      0.64      0.73       118\n",
      "\n",
      "    accuracy                           0.81       294\n",
      "   macro avg       0.83      0.78      0.79       294\n",
      "weighted avg       0.82      0.81      0.81       294\n",
      "\n"
     ]
    }
   ],
   "source": [
    "print(classification_report(y_test,grid_pred))"
   ]
  },
  {
   "cell_type": "code",
   "execution_count": null,
   "metadata": {},
   "outputs": [],
   "source": []
  },
  {
   "cell_type": "markdown",
   "metadata": {},
   "source": [
    "## Training with best params"
   ]
  },
  {
   "cell_type": "code",
   "execution_count": null,
   "metadata": {},
   "outputs": [],
   "source": [
    "pred=ada.predict(scaled_X_test)"
   ]
  },
  {
   "cell_type": "code",
   "execution_count": 127,
   "metadata": {},
   "outputs": [
    {
     "name": "stdout",
     "output_type": "stream",
     "text": [
      "0.8129251700680272\n"
     ]
    }
   ],
   "source": [
    "Final_model=SVC(C=1,degree=3, kernel='poly')\n",
    "Final_model.fit(scaled_X_train,y_train)\n",
    "\n",
    "pred=Final_model.predict(scaled_X_test)\n",
    "accuracyScore=accuracy_score(y_test,pred)\n",
    "print(accuracyScore)"
   ]
  },
  {
   "cell_type": "markdown",
   "metadata": {},
   "source": [
    "final accuracy achieved is 81.2% with Support Vector Classifier"
   ]
  },
  {
   "cell_type": "markdown",
   "metadata": {},
   "source": [
    "## plotting AUC ROC CURVE"
   ]
  },
  {
   "cell_type": "code",
   "execution_count": 128,
   "metadata": {},
   "outputs": [
    {
     "data": {
      "text/plain": [
       "<sklearn.metrics._plot.roc_curve.RocCurveDisplay at 0x17fcec55860>"
      ]
     },
     "execution_count": 128,
     "metadata": {},
     "output_type": "execute_result"
    },
    {
     "data": {
      "image/png": "[encoded data removed]",
      "text/plain": [
       "<Figure size 432x288 with 1 Axes>"
      ]
     },
     "metadata": {
      "needs_background": "light"
     },
     "output_type": "display_data"
    }
   ],
   "source": [
    "plot_roc_curve(Final_model,scaled_X_test,y_test)"
   ]
  },
  {
   "cell_type": "code",
   "execution_count": null,
   "metadata": {},
   "outputs": [],
   "source": [
    "AUC-ROC Curve area is 0.85 which is very good."
   ]
  },
  {
   "cell_type": "markdown",
   "metadata": {},
   "source": [
    "## saving the model\n"
   ]
  },
  {
   "cell_type": "code",
   "execution_count": 130,
   "metadata": {},
   "outputs": [
    {
     "data": {
      "text/plain": [
       "['Titanic.pkl']"
      ]
     },
     "execution_count": 130,
     "metadata": {},
     "output_type": "execute_result"
    }
   ],
   "source": [
    "import joblib\n",
    "joblib.dump(Final_model,\"Titanic.pkl\")"
   ]
  },
  {
   "cell_type": "code",
   "execution_count": null,
   "metadata": {},
   "outputs": [],
   "source": []
  }
 ],
 "metadata": {
  "anaconda-cloud": {},
  "kernelspec": {
   "display_name": "Python 3",
   "language": "python",
   "name": "python3"
  },
  "language_info": {
   "codemirror_mode": {
    "name": "ipython",
    "version": 3
   },
   "file_extension": ".py",
   "mimetype": "text/x-python",
   "name": "python",
   "nbconvert_exporter": "python",
   "pygments_lexer": "ipython3",
   "version": "3.7.3"
  }
 },
 "nbformat": 4,
 "nbformat_minor": 1
}
